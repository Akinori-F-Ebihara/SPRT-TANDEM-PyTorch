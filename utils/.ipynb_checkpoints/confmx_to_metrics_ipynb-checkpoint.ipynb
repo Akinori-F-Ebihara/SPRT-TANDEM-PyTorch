{
 "cells": [
  {
   "cell_type": "code",
   "execution_count": null,
   "metadata": {},
   "outputs": [],
   "source": []
  },
  {
   "cell_type": "code",
   "execution_count": null,
   "metadata": {},
   "outputs": [],
   "source": []
  },
  {
   "cell_type": "code",
   "execution_count": null,
   "metadata": {},
   "outputs": [],
   "source": []
  },
  {
   "cell_type": "code",
   "execution_count": null,
   "metadata": {},
   "outputs": [],
   "source": []
  },
  {
   "cell_type": "code",
   "execution_count": null,
   "metadata": {},
   "outputs": [],
   "source": [
    "def confmx_to_metrics(confmx):\n",
    "    \"\"\"Calc confusion-matrix-based performance metrics.\n",
    "    Args:\n",
    "        confmx: A confusion matrix Tensor.\n",
    "    Return:\n",
    "        dict_metrics: A dictionary of performance metrics.\n",
    "    \"\"\"\n",
    "    dict_metrics = dict()\n",
    "    \n",
    "    return dict_metrics"
   ]
  }
 ],
 "metadata": {
  "kernelspec": {
   "display_name": "Python 3",
   "language": "python",
   "name": "python3"
  },
  "language_info": {
   "codemirror_mode": {
    "name": "ipython",
    "version": 3
   },
   "file_extension": ".py",
   "mimetype": "text/x-python",
   "name": "python",
   "nbconvert_exporter": "python",
   "pygments_lexer": "ipython3",
   "version": "3.5.2"
  }
 },
 "nbformat": 4,
 "nbformat_minor": 2
}
