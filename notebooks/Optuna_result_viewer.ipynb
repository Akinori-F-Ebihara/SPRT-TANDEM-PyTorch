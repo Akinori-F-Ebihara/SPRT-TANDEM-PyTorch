{
 "cells": [
  {
   "cell_type": "code",
   "execution_count": 26,
   "metadata": {
    "scrolled": true
   },
   "outputs": [
    {
     "name": "stdout",
     "output_type": "stream",
     "text": [
      "0.015432298183441162\n"
     ]
    }
   ],
   "source": [
    "import optuna\n",
    "import numpy as np\n",
    "import os, pdb\n",
    "import pandas as pd\n",
    "pd.set_option('display.max_rows', None)\n",
    "pd.set_option('display.max_columns', None)\n",
    "\n",
    "LOG_DIR = '/your/path/to/Optuna_databases/'\n",
    "\n",
    "study_name = 'optuna'\n",
    "storage_name = 'sqlite:///' + LOG_DIR + study_name + '.db'\n",
    "\n",
    "# Load study\n",
    "study = optuna.load_study(study_name=study_name, storage=storage_name)\n",
    "print(f'{study.best_value}')"
   ]
  },
  {
   "attachments": {},
   "cell_type": "markdown",
   "metadata": {},
   "source": [
    "# Print results in chronological order\n",
    "- see if params saturate, i.e., enough trials are run"
   ]
  },
  {
   "cell_type": "code",
   "execution_count": 27,
   "metadata": {
    "scrolled": false
   },
   "outputs": [
    {
     "name": "stdout",
     "output_type": "stream",
     "text": [
      "Study name: optuna\n",
      "Sampler:    TPESampler\n",
      "Pruner:     <optuna.pruners._median.MedianPruner object at 0x7f3e19d3e530>\n",
      "Num trials: 100\n"
     ]
    },
    {
     "data": {
      "text/html": [
       "<div>\n",
       "<style scoped>\n",
       "    .dataframe tbody tr th:only-of-type {\n",
       "        vertical-align: middle;\n",
       "    }\n",
       "\n",
       "    .dataframe tbody tr th {\n",
       "        vertical-align: top;\n",
       "    }\n",
       "\n",
       "    .dataframe thead th {\n",
       "        text-align: right;\n",
       "    }\n",
       "</style>\n",
       "<table border=\"1\" class=\"dataframe\">\n",
       "  <thead>\n",
       "    <tr style=\"text-align: right;\">\n",
       "      <th></th>\n",
       "      <th>number</th>\n",
       "      <th>value</th>\n",
       "      <th>datetime_start</th>\n",
       "      <th>params_LIST_ACTIVATION_FC</th>\n",
       "      <th>params_LIST_ACTIVATION_INPUT</th>\n",
       "      <th>params_LIST_ACTIVATION_OUTPUT</th>\n",
       "      <th>params_LIST_DROPOUT</th>\n",
       "      <th>params_LIST_FF_DIM</th>\n",
       "      <th>params_LIST_IS_ADAPTIVE_LOSS</th>\n",
       "      <th>params_LIST_IS_NORMALIZE</th>\n",
       "      <th>params_LIST_IS_POSITIONAL_ENCODING</th>\n",
       "      <th>params_LIST_IS_TRAINABLE_ENCODING</th>\n",
       "      <th>params_LIST_LEARNING_RATE</th>\n",
       "      <th>params_LIST_LLLR_VERSION</th>\n",
       "      <th>params_LIST_MLP_UNITS</th>\n",
       "      <th>params_LIST_MODEL_BACKBONE</th>\n",
       "      <th>params_LIST_NUM_BLOCKS</th>\n",
       "      <th>params_LIST_NUM_HEADS</th>\n",
       "      <th>params_LIST_NUM_THRESH</th>\n",
       "      <th>params_LIST_OPTIMIZER</th>\n",
       "      <th>params_LIST_ORDER_SPRT</th>\n",
       "      <th>params_LIST_PARAM_LLR_LOSS</th>\n",
       "      <th>params_LIST_PARAM_MULTIPLET_LOSS</th>\n",
       "      <th>params_LIST_SPARSITY</th>\n",
       "      <th>params_LIST_WEIGHT_DECAY</th>\n",
       "      <th>params_LIST_WIDTH_LSTM</th>\n",
       "    </tr>\n",
       "  </thead>\n",
       "  <tbody>\n",
       "    <tr>\n",
       "      <th>0</th>\n",
       "      <td>0</td>\n",
       "      <td>0.049553</td>\n",
       "      <td>2023-04-28 03:50:32.785422</td>\n",
       "      <td>B2BsqrtV2</td>\n",
       "      <td>NaN</td>\n",
       "      <td>NaN</td>\n",
       "      <td>0.0</td>\n",
       "      <td>32.0</td>\n",
       "      <td>True</td>\n",
       "      <td>True</td>\n",
       "      <td>False</td>\n",
       "      <td>NaN</td>\n",
       "      <td>0.000004</td>\n",
       "      <td>LSEL</td>\n",
       "      <td>32.0</td>\n",
       "      <td>Transformer</td>\n",
       "      <td>1.0</td>\n",
       "      <td>4.0</td>\n",
       "      <td>1000</td>\n",
       "      <td>rmsprop</td>\n",
       "      <td>2</td>\n",
       "      <td>0.8</td>\n",
       "      <td>0.0</td>\n",
       "      <td>logspace</td>\n",
       "      <td>0.0002</td>\n",
       "      <td>NaN</td>\n",
       "    </tr>\n",
       "    <tr>\n",
       "      <th>1</th>\n",
       "      <td>1</td>\n",
       "      <td>0.052639</td>\n",
       "      <td>2023-04-28 04:10:30.956815</td>\n",
       "      <td>gelu</td>\n",
       "      <td>sigmoid</td>\n",
       "      <td>B2Bcbrt</td>\n",
       "      <td>NaN</td>\n",
       "      <td>NaN</td>\n",
       "      <td>True</td>\n",
       "      <td>False</td>\n",
       "      <td>True</td>\n",
       "      <td>True</td>\n",
       "      <td>0.000033</td>\n",
       "      <td>LLLR</td>\n",
       "      <td>NaN</td>\n",
       "      <td>LSTM</td>\n",
       "      <td>NaN</td>\n",
       "      <td>NaN</td>\n",
       "      <td>500</td>\n",
       "      <td>adam</td>\n",
       "      <td>1</td>\n",
       "      <td>0.1</td>\n",
       "      <td>0.4</td>\n",
       "      <td>unirandom</td>\n",
       "      <td>0.0000</td>\n",
       "      <td>23.0</td>\n",
       "    </tr>\n",
       "    <tr>\n",
       "      <th>2</th>\n",
       "      <td>2</td>\n",
       "      <td>0.139287</td>\n",
       "      <td>2023-04-28 04:14:44.441251</td>\n",
       "      <td>gelu</td>\n",
       "      <td>tanh</td>\n",
       "      <td>tanh</td>\n",
       "      <td>NaN</td>\n",
       "      <td>NaN</td>\n",
       "      <td>False</td>\n",
       "      <td>True</td>\n",
       "      <td>True</td>\n",
       "      <td>True</td>\n",
       "      <td>0.000017</td>\n",
       "      <td>LLLR</td>\n",
       "      <td>NaN</td>\n",
       "      <td>LSTM</td>\n",
       "      <td>NaN</td>\n",
       "      <td>NaN</td>\n",
       "      <td>500</td>\n",
       "      <td>adam</td>\n",
       "      <td>2</td>\n",
       "      <td>0.6</td>\n",
       "      <td>0.4</td>\n",
       "      <td>lograndom</td>\n",
       "      <td>0.0000</td>\n",
       "      <td>39.0</td>\n",
       "    </tr>\n",
       "    <tr>\n",
       "      <th>3</th>\n",
       "      <td>3</td>\n",
       "      <td>0.074599</td>\n",
       "      <td>2023-04-28 04:19:38.452341</td>\n",
       "      <td>relu</td>\n",
       "      <td>sigmoid</td>\n",
       "      <td>tanh</td>\n",
       "      <td>NaN</td>\n",
       "      <td>NaN</td>\n",
       "      <td>False</td>\n",
       "      <td>False</td>\n",
       "      <td>True</td>\n",
       "      <td>True</td>\n",
       "      <td>0.000013</td>\n",
       "      <td>LSEL</td>\n",
       "      <td>NaN</td>\n",
       "      <td>LSTM</td>\n",
       "      <td>NaN</td>\n",
       "      <td>NaN</td>\n",
       "      <td>1000</td>\n",
       "      <td>adam</td>\n",
       "      <td>5</td>\n",
       "      <td>0.5</td>\n",
       "      <td>0.3</td>\n",
       "      <td>logspace</td>\n",
       "      <td>0.0008</td>\n",
       "      <td>73.0</td>\n",
       "    </tr>\n",
       "    <tr>\n",
       "      <th>4</th>\n",
       "      <td>4</td>\n",
       "      <td>0.021068</td>\n",
       "      <td>2023-04-28 04:44:30.146056</td>\n",
       "      <td>tanh</td>\n",
       "      <td>NaN</td>\n",
       "      <td>NaN</td>\n",
       "      <td>0.3</td>\n",
       "      <td>32.0</td>\n",
       "      <td>False</td>\n",
       "      <td>False</td>\n",
       "      <td>False</td>\n",
       "      <td>NaN</td>\n",
       "      <td>0.000044</td>\n",
       "      <td>LLLR</td>\n",
       "      <td>64.0</td>\n",
       "      <td>Transformer</td>\n",
       "      <td>2.0</td>\n",
       "      <td>2.0</td>\n",
       "      <td>500</td>\n",
       "      <td>rmsprop</td>\n",
       "      <td>2</td>\n",
       "      <td>0.9</td>\n",
       "      <td>0.8</td>\n",
       "      <td>linspace</td>\n",
       "      <td>0.0003</td>\n",
       "      <td>NaN</td>\n",
       "    </tr>\n",
       "    <tr>\n",
       "      <th>5</th>\n",
       "      <td>5</td>\n",
       "      <td>0.557850</td>\n",
       "      <td>2023-04-28 05:00:05.772272</td>\n",
       "      <td>relu</td>\n",
       "      <td>sigmoid</td>\n",
       "      <td>B2Bcbrt</td>\n",
       "      <td>NaN</td>\n",
       "      <td>NaN</td>\n",
       "      <td>False</td>\n",
       "      <td>True</td>\n",
       "      <td>False</td>\n",
       "      <td>NaN</td>\n",
       "      <td>0.000007</td>\n",
       "      <td>LSEL</td>\n",
       "      <td>NaN</td>\n",
       "      <td>LSTM</td>\n",
       "      <td>NaN</td>\n",
       "      <td>NaN</td>\n",
       "      <td>1000</td>\n",
       "      <td>rmsprop</td>\n",
       "      <td>5</td>\n",
       "      <td>1.0</td>\n",
       "      <td>0.4</td>\n",
       "      <td>unirandom</td>\n",
       "      <td>0.0001</td>\n",
       "      <td>30.0</td>\n",
       "    </tr>\n",
       "    <tr>\n",
       "      <th>6</th>\n",
       "      <td>6</td>\n",
       "      <td>0.114773</td>\n",
       "      <td>2023-04-28 05:06:28.792767</td>\n",
       "      <td>tanh</td>\n",
       "      <td>sigmoid</td>\n",
       "      <td>B2BsqrtV2</td>\n",
       "      <td>NaN</td>\n",
       "      <td>NaN</td>\n",
       "      <td>True</td>\n",
       "      <td>False</td>\n",
       "      <td>False</td>\n",
       "      <td>NaN</td>\n",
       "      <td>0.000009</td>\n",
       "      <td>LSEL</td>\n",
       "      <td>NaN</td>\n",
       "      <td>LSTM</td>\n",
       "      <td>NaN</td>\n",
       "      <td>NaN</td>\n",
       "      <td>1500</td>\n",
       "      <td>adam</td>\n",
       "      <td>2</td>\n",
       "      <td>0.5</td>\n",
       "      <td>0.5</td>\n",
       "      <td>unirandom</td>\n",
       "      <td>0.0005</td>\n",
       "      <td>113.0</td>\n",
       "    </tr>\n",
       "    <tr>\n",
       "      <th>7</th>\n",
       "      <td>7</td>\n",
       "      <td>0.581627</td>\n",
       "      <td>2023-04-28 05:14:14.937950</td>\n",
       "      <td>B2BsqrtV2</td>\n",
       "      <td>sigmoid</td>\n",
       "      <td>tanh</td>\n",
       "      <td>NaN</td>\n",
       "      <td>NaN</td>\n",
       "      <td>True</td>\n",
       "      <td>False</td>\n",
       "      <td>True</td>\n",
       "      <td>False</td>\n",
       "      <td>0.000103</td>\n",
       "      <td>LLLR</td>\n",
       "      <td>NaN</td>\n",
       "      <td>LSTM</td>\n",
       "      <td>NaN</td>\n",
       "      <td>NaN</td>\n",
       "      <td>500</td>\n",
       "      <td>adam</td>\n",
       "      <td>2</td>\n",
       "      <td>0.5</td>\n",
       "      <td>0.4</td>\n",
       "      <td>linspace</td>\n",
       "      <td>0.0009</td>\n",
       "      <td>24.0</td>\n",
       "    </tr>\n",
       "    <tr>\n",
       "      <th>8</th>\n",
       "      <td>8</td>\n",
       "      <td>0.025218</td>\n",
       "      <td>2023-04-28 05:28:44.513459</td>\n",
       "      <td>gelu</td>\n",
       "      <td>NaN</td>\n",
       "      <td>NaN</td>\n",
       "      <td>0.4</td>\n",
       "      <td>32.0</td>\n",
       "      <td>False</td>\n",
       "      <td>False</td>\n",
       "      <td>True</td>\n",
       "      <td>True</td>\n",
       "      <td>0.000050</td>\n",
       "      <td>LLLR</td>\n",
       "      <td>64.0</td>\n",
       "      <td>Transformer</td>\n",
       "      <td>1.0</td>\n",
       "      <td>2.0</td>\n",
       "      <td>500</td>\n",
       "      <td>adam</td>\n",
       "      <td>2</td>\n",
       "      <td>0.9</td>\n",
       "      <td>0.5</td>\n",
       "      <td>lograndom</td>\n",
       "      <td>0.0005</td>\n",
       "      <td>NaN</td>\n",
       "    </tr>\n",
       "    <tr>\n",
       "      <th>9</th>\n",
       "      <td>9</td>\n",
       "      <td>0.023563</td>\n",
       "      <td>2023-04-28 05:34:19.529384</td>\n",
       "      <td>gelu</td>\n",
       "      <td>NaN</td>\n",
       "      <td>NaN</td>\n",
       "      <td>0.3</td>\n",
       "      <td>64.0</td>\n",
       "      <td>True</td>\n",
       "      <td>False</td>\n",
       "      <td>True</td>\n",
       "      <td>True</td>\n",
       "      <td>0.000061</td>\n",
       "      <td>LSEL</td>\n",
       "      <td>32.0</td>\n",
       "      <td>Transformer</td>\n",
       "      <td>2.0</td>\n",
       "      <td>4.0</td>\n",
       "      <td>500</td>\n",
       "      <td>adam</td>\n",
       "      <td>3</td>\n",
       "      <td>0.9</td>\n",
       "      <td>1.0</td>\n",
       "      <td>linspace</td>\n",
       "      <td>0.0003</td>\n",
       "      <td>NaN</td>\n",
       "    </tr>\n",
       "    <tr>\n",
       "      <th>10</th>\n",
       "      <td>10</td>\n",
       "      <td>0.018258</td>\n",
       "      <td>2023-04-28 05:52:23.332254</td>\n",
       "      <td>tanh</td>\n",
       "      <td>NaN</td>\n",
       "      <td>NaN</td>\n",
       "      <td>0.1</td>\n",
       "      <td>32.0</td>\n",
       "      <td>False</td>\n",
       "      <td>True</td>\n",
       "      <td>False</td>\n",
       "      <td>NaN</td>\n",
       "      <td>0.000483</td>\n",
       "      <td>LLLR</td>\n",
       "      <td>64.0</td>\n",
       "      <td>Transformer</td>\n",
       "      <td>2.0</td>\n",
       "      <td>2.0</td>\n",
       "      <td>1500</td>\n",
       "      <td>rmsprop</td>\n",
       "      <td>0</td>\n",
       "      <td>0.1</td>\n",
       "      <td>0.9</td>\n",
       "      <td>linspace</td>\n",
       "      <td>0.0007</td>\n",
       "      <td>NaN</td>\n",
       "    </tr>\n",
       "    <tr>\n",
       "      <th>11</th>\n",
       "      <td>11</td>\n",
       "      <td>0.018920</td>\n",
       "      <td>2023-04-28 06:24:34.126675</td>\n",
       "      <td>tanh</td>\n",
       "      <td>NaN</td>\n",
       "      <td>NaN</td>\n",
       "      <td>0.1</td>\n",
       "      <td>32.0</td>\n",
       "      <td>False</td>\n",
       "      <td>True</td>\n",
       "      <td>False</td>\n",
       "      <td>NaN</td>\n",
       "      <td>0.000793</td>\n",
       "      <td>LLLR</td>\n",
       "      <td>64.0</td>\n",
       "      <td>Transformer</td>\n",
       "      <td>2.0</td>\n",
       "      <td>2.0</td>\n",
       "      <td>1500</td>\n",
       "      <td>rmsprop</td>\n",
       "      <td>0</td>\n",
       "      <td>0.0</td>\n",
       "      <td>0.9</td>\n",
       "      <td>linspace</td>\n",
       "      <td>0.0007</td>\n",
       "      <td>NaN</td>\n",
       "    </tr>\n",
       "    <tr>\n",
       "      <th>12</th>\n",
       "      <td>12</td>\n",
       "      <td>0.018514</td>\n",
       "      <td>2023-04-28 06:47:16.328554</td>\n",
       "      <td>tanh</td>\n",
       "      <td>NaN</td>\n",
       "      <td>NaN</td>\n",
       "      <td>0.0</td>\n",
       "      <td>32.0</td>\n",
       "      <td>False</td>\n",
       "      <td>True</td>\n",
       "      <td>False</td>\n",
       "      <td>NaN</td>\n",
       "      <td>0.000871</td>\n",
       "      <td>LLLR</td>\n",
       "      <td>64.0</td>\n",
       "      <td>Transformer</td>\n",
       "      <td>2.0</td>\n",
       "      <td>2.0</td>\n",
       "      <td>1500</td>\n",
       "      <td>rmsprop</td>\n",
       "      <td>0</td>\n",
       "      <td>0.0</td>\n",
       "      <td>0.8</td>\n",
       "      <td>linspace</td>\n",
       "      <td>0.0007</td>\n",
       "      <td>NaN</td>\n",
       "    </tr>\n",
       "    <tr>\n",
       "      <th>13</th>\n",
       "      <td>13</td>\n",
       "      <td>0.021290</td>\n",
       "      <td>2023-04-28 07:10:01.099133</td>\n",
       "      <td>B2Bsqrt</td>\n",
       "      <td>NaN</td>\n",
       "      <td>NaN</td>\n",
       "      <td>0.1</td>\n",
       "      <td>64.0</td>\n",
       "      <td>False</td>\n",
       "      <td>True</td>\n",
       "      <td>False</td>\n",
       "      <td>NaN</td>\n",
       "      <td>0.000885</td>\n",
       "      <td>LLLR</td>\n",
       "      <td>64.0</td>\n",
       "      <td>Transformer</td>\n",
       "      <td>2.0</td>\n",
       "      <td>2.0</td>\n",
       "      <td>1500</td>\n",
       "      <td>rmsprop</td>\n",
       "      <td>0</td>\n",
       "      <td>0.2</td>\n",
       "      <td>0.7</td>\n",
       "      <td>linspace</td>\n",
       "      <td>0.0010</td>\n",
       "      <td>NaN</td>\n",
       "    </tr>\n",
       "    <tr>\n",
       "      <th>14</th>\n",
       "      <td>14</td>\n",
       "      <td>0.020449</td>\n",
       "      <td>2023-04-28 07:32:31.428034</td>\n",
       "      <td>B2Bcbrt</td>\n",
       "      <td>NaN</td>\n",
       "      <td>NaN</td>\n",
       "      <td>0.0</td>\n",
       "      <td>32.0</td>\n",
       "      <td>False</td>\n",
       "      <td>True</td>\n",
       "      <td>False</td>\n",
       "      <td>NaN</td>\n",
       "      <td>0.000305</td>\n",
       "      <td>LLLR</td>\n",
       "      <td>64.0</td>\n",
       "      <td>Transformer</td>\n",
       "      <td>2.0</td>\n",
       "      <td>2.0</td>\n",
       "      <td>1500</td>\n",
       "      <td>rmsprop</td>\n",
       "      <td>0</td>\n",
       "      <td>0.3</td>\n",
       "      <td>0.7</td>\n",
       "      <td>linspace</td>\n",
       "      <td>0.0007</td>\n",
       "      <td>NaN</td>\n",
       "    </tr>\n",
       "    <tr>\n",
       "      <th>15</th>\n",
       "      <td>15</td>\n",
       "      <td>0.022519</td>\n",
       "      <td>2023-04-28 07:55:57.617283</td>\n",
       "      <td>tanh</td>\n",
       "      <td>NaN</td>\n",
       "      <td>NaN</td>\n",
       "      <td>0.1</td>\n",
       "      <td>32.0</td>\n",
       "      <td>False</td>\n",
       "      <td>True</td>\n",
       "      <td>False</td>\n",
       "      <td>NaN</td>\n",
       "      <td>0.000249</td>\n",
       "      <td>LLLR</td>\n",
       "      <td>64.0</td>\n",
       "      <td>Transformer</td>\n",
       "      <td>2.0</td>\n",
       "      <td>2.0</td>\n",
       "      <td>1500</td>\n",
       "      <td>rmsprop</td>\n",
       "      <td>1</td>\n",
       "      <td>0.0</td>\n",
       "      <td>1.0</td>\n",
       "      <td>linspace</td>\n",
       "      <td>0.0006</td>\n",
       "      <td>NaN</td>\n",
       "    </tr>\n",
       "    <tr>\n",
       "      <th>16</th>\n",
       "      <td>16</td>\n",
       "      <td>0.023687</td>\n",
       "      <td>2023-04-28 08:20:11.394809</td>\n",
       "      <td>tanh</td>\n",
       "      <td>NaN</td>\n",
       "      <td>NaN</td>\n",
       "      <td>0.2</td>\n",
       "      <td>64.0</td>\n",
       "      <td>False</td>\n",
       "      <td>True</td>\n",
       "      <td>False</td>\n",
       "      <td>NaN</td>\n",
       "      <td>0.000377</td>\n",
       "      <td>LLLR</td>\n",
       "      <td>32.0</td>\n",
       "      <td>Transformer</td>\n",
       "      <td>1.0</td>\n",
       "      <td>4.0</td>\n",
       "      <td>1500</td>\n",
       "      <td>rmsprop</td>\n",
       "      <td>4</td>\n",
       "      <td>0.3</td>\n",
       "      <td>0.8</td>\n",
       "      <td>linspace</td>\n",
       "      <td>0.0008</td>\n",
       "      <td>NaN</td>\n",
       "    </tr>\n",
       "    <tr>\n",
       "      <th>17</th>\n",
       "      <td>17</td>\n",
       "      <td>0.125627</td>\n",
       "      <td>2023-04-28 08:44:14.090522</td>\n",
       "      <td>B2Bcbrt</td>\n",
       "      <td>NaN</td>\n",
       "      <td>NaN</td>\n",
       "      <td>0.0</td>\n",
       "      <td>32.0</td>\n",
       "      <td>False</td>\n",
       "      <td>True</td>\n",
       "      <td>False</td>\n",
       "      <td>NaN</td>\n",
       "      <td>0.000001</td>\n",
       "      <td>LLLR</td>\n",
       "      <td>64.0</td>\n",
       "      <td>Transformer</td>\n",
       "      <td>2.0</td>\n",
       "      <td>2.0</td>\n",
       "      <td>1000</td>\n",
       "      <td>rmsprop</td>\n",
       "      <td>1</td>\n",
       "      <td>0.2</td>\n",
       "      <td>0.7</td>\n",
       "      <td>logspace</td>\n",
       "      <td>0.0004</td>\n",
       "      <td>NaN</td>\n",
       "    </tr>\n",
       "    <tr>\n",
       "      <th>18</th>\n",
       "      <td>18</td>\n",
       "      <td>0.019521</td>\n",
       "      <td>2023-04-28 09:02:05.254539</td>\n",
       "      <td>B2Bsqrt</td>\n",
       "      <td>NaN</td>\n",
       "      <td>NaN</td>\n",
       "      <td>0.5</td>\n",
       "      <td>32.0</td>\n",
       "      <td>False</td>\n",
       "      <td>True</td>\n",
       "      <td>False</td>\n",
       "      <td>NaN</td>\n",
       "      <td>0.000137</td>\n",
       "      <td>LLLR</td>\n",
       "      <td>64.0</td>\n",
       "      <td>Transformer</td>\n",
       "      <td>2.0</td>\n",
       "      <td>2.0</td>\n",
       "      <td>1500</td>\n",
       "      <td>rmsprop</td>\n",
       "      <td>0</td>\n",
       "      <td>0.1</td>\n",
       "      <td>0.8</td>\n",
       "      <td>lograndom</td>\n",
       "      <td>0.0010</td>\n",
       "      <td>NaN</td>\n",
       "    </tr>\n",
       "    <tr>\n",
       "      <th>19</th>\n",
       "      <td>19</td>\n",
       "      <td>0.019026</td>\n",
       "      <td>2023-04-28 09:06:58.543377</td>\n",
       "      <td>tanh</td>\n",
       "      <td>NaN</td>\n",
       "      <td>NaN</td>\n",
       "      <td>0.2</td>\n",
       "      <td>32.0</td>\n",
       "      <td>False</td>\n",
       "      <td>True</td>\n",
       "      <td>False</td>\n",
       "      <td>NaN</td>\n",
       "      <td>0.000998</td>\n",
       "      <td>LLLR</td>\n",
       "      <td>64.0</td>\n",
       "      <td>Transformer</td>\n",
       "      <td>2.0</td>\n",
       "      <td>2.0</td>\n",
       "      <td>1000</td>\n",
       "      <td>rmsprop</td>\n",
       "      <td>1</td>\n",
       "      <td>0.3</td>\n",
       "      <td>0.9</td>\n",
       "      <td>linspace</td>\n",
       "      <td>0.0006</td>\n",
       "      <td>NaN</td>\n",
       "    </tr>\n",
       "    <tr>\n",
       "      <th>20</th>\n",
       "      <td>20</td>\n",
       "      <td>0.021994</td>\n",
       "      <td>2023-04-28 09:23:33.818994</td>\n",
       "      <td>tanh</td>\n",
       "      <td>NaN</td>\n",
       "      <td>NaN</td>\n",
       "      <td>0.1</td>\n",
       "      <td>64.0</td>\n",
       "      <td>False</td>\n",
       "      <td>True</td>\n",
       "      <td>False</td>\n",
       "      <td>NaN</td>\n",
       "      <td>0.000484</td>\n",
       "      <td>LLLR</td>\n",
       "      <td>32.0</td>\n",
       "      <td>Transformer</td>\n",
       "      <td>1.0</td>\n",
       "      <td>4.0</td>\n",
       "      <td>1500</td>\n",
       "      <td>rmsprop</td>\n",
       "      <td>3</td>\n",
       "      <td>0.0</td>\n",
       "      <td>0.6</td>\n",
       "      <td>linspace</td>\n",
       "      <td>0.0008</td>\n",
       "      <td>NaN</td>\n",
       "    </tr>\n",
       "    <tr>\n",
       "      <th>21</th>\n",
       "      <td>21</td>\n",
       "      <td>0.018754</td>\n",
       "      <td>2023-04-28 09:46:23.363693</td>\n",
       "      <td>tanh</td>\n",
       "      <td>NaN</td>\n",
       "      <td>NaN</td>\n",
       "      <td>0.1</td>\n",
       "      <td>32.0</td>\n",
       "      <td>False</td>\n",
       "      <td>True</td>\n",
       "      <td>False</td>\n",
       "      <td>NaN</td>\n",
       "      <td>0.000594</td>\n",
       "      <td>LLLR</td>\n",
       "      <td>64.0</td>\n",
       "      <td>Transformer</td>\n",
       "      <td>2.0</td>\n",
       "      <td>2.0</td>\n",
       "      <td>1500</td>\n",
       "      <td>rmsprop</td>\n",
       "      <td>0</td>\n",
       "      <td>0.0</td>\n",
       "      <td>0.9</td>\n",
       "      <td>linspace</td>\n",
       "      <td>0.0007</td>\n",
       "      <td>NaN</td>\n",
       "    </tr>\n",
       "    <tr>\n",
       "      <th>22</th>\n",
       "      <td>22</td>\n",
       "      <td>0.017558</td>\n",
       "      <td>2023-04-28 10:07:42.533117</td>\n",
       "      <td>tanh</td>\n",
       "      <td>NaN</td>\n",
       "      <td>NaN</td>\n",
       "      <td>0.0</td>\n",
       "      <td>32.0</td>\n",
       "      <td>False</td>\n",
       "      <td>True</td>\n",
       "      <td>False</td>\n",
       "      <td>NaN</td>\n",
       "      <td>0.000195</td>\n",
       "      <td>LLLR</td>\n",
       "      <td>64.0</td>\n",
       "      <td>Transformer</td>\n",
       "      <td>2.0</td>\n",
       "      <td>2.0</td>\n",
       "      <td>1500</td>\n",
       "      <td>rmsprop</td>\n",
       "      <td>0</td>\n",
       "      <td>0.1</td>\n",
       "      <td>0.9</td>\n",
       "      <td>linspace</td>\n",
       "      <td>0.0006</td>\n",
       "      <td>NaN</td>\n",
       "    </tr>\n",
       "    <tr>\n",
       "      <th>23</th>\n",
       "      <td>23</td>\n",
       "      <td>0.019998</td>\n",
       "      <td>2023-04-28 10:30:40.562879</td>\n",
       "      <td>tanh</td>\n",
       "      <td>NaN</td>\n",
       "      <td>NaN</td>\n",
       "      <td>0.0</td>\n",
       "      <td>32.0</td>\n",
       "      <td>False</td>\n",
       "      <td>True</td>\n",
       "      <td>False</td>\n",
       "      <td>NaN</td>\n",
       "      <td>0.000183</td>\n",
       "      <td>LLLR</td>\n",
       "      <td>64.0</td>\n",
       "      <td>Transformer</td>\n",
       "      <td>2.0</td>\n",
       "      <td>2.0</td>\n",
       "      <td>1500</td>\n",
       "      <td>rmsprop</td>\n",
       "      <td>1</td>\n",
       "      <td>0.2</td>\n",
       "      <td>1.0</td>\n",
       "      <td>linspace</td>\n",
       "      <td>0.0006</td>\n",
       "      <td>NaN</td>\n",
       "    </tr>\n",
       "    <tr>\n",
       "      <th>24</th>\n",
       "      <td>24</td>\n",
       "      <td>0.021192</td>\n",
       "      <td>2023-04-28 10:54:40.189998</td>\n",
       "      <td>tanh</td>\n",
       "      <td>NaN</td>\n",
       "      <td>NaN</td>\n",
       "      <td>0.0</td>\n",
       "      <td>32.0</td>\n",
       "      <td>False</td>\n",
       "      <td>True</td>\n",
       "      <td>False</td>\n",
       "      <td>NaN</td>\n",
       "      <td>0.000447</td>\n",
       "      <td>LLLR</td>\n",
       "      <td>64.0</td>\n",
       "      <td>Transformer</td>\n",
       "      <td>2.0</td>\n",
       "      <td>2.0</td>\n",
       "      <td>1000</td>\n",
       "      <td>rmsprop</td>\n",
       "      <td>0</td>\n",
       "      <td>0.1</td>\n",
       "      <td>0.9</td>\n",
       "      <td>linspace</td>\n",
       "      <td>0.0005</td>\n",
       "      <td>NaN</td>\n",
       "    </tr>\n",
       "    <tr>\n",
       "      <th>25</th>\n",
       "      <td>25</td>\n",
       "      <td>0.021356</td>\n",
       "      <td>2023-04-28 11:11:02.338202</td>\n",
       "      <td>tanh</td>\n",
       "      <td>NaN</td>\n",
       "      <td>NaN</td>\n",
       "      <td>0.2</td>\n",
       "      <td>32.0</td>\n",
       "      <td>False</td>\n",
       "      <td>True</td>\n",
       "      <td>False</td>\n",
       "      <td>NaN</td>\n",
       "      <td>0.000213</td>\n",
       "      <td>LLLR</td>\n",
       "      <td>64.0</td>\n",
       "      <td>Transformer</td>\n",
       "      <td>2.0</td>\n",
       "      <td>2.0</td>\n",
       "      <td>1500</td>\n",
       "      <td>rmsprop</td>\n",
       "      <td>1</td>\n",
       "      <td>0.4</td>\n",
       "      <td>0.0</td>\n",
       "      <td>linspace</td>\n",
       "      <td>0.0009</td>\n",
       "      <td>NaN</td>\n",
       "    </tr>\n",
       "    <tr>\n",
       "      <th>26</th>\n",
       "      <td>26</td>\n",
       "      <td>0.017503</td>\n",
       "      <td>2023-04-28 11:34:03.733785</td>\n",
       "      <td>relu</td>\n",
       "      <td>NaN</td>\n",
       "      <td>NaN</td>\n",
       "      <td>0.0</td>\n",
       "      <td>32.0</td>\n",
       "      <td>True</td>\n",
       "      <td>True</td>\n",
       "      <td>False</td>\n",
       "      <td>NaN</td>\n",
       "      <td>0.000105</td>\n",
       "      <td>LSEL</td>\n",
       "      <td>64.0</td>\n",
       "      <td>Transformer</td>\n",
       "      <td>2.0</td>\n",
       "      <td>2.0</td>\n",
       "      <td>1500</td>\n",
       "      <td>rmsprop</td>\n",
       "      <td>0</td>\n",
       "      <td>0.1</td>\n",
       "      <td>0.8</td>\n",
       "      <td>logspace</td>\n",
       "      <td>0.0004</td>\n",
       "      <td>NaN</td>\n",
       "    </tr>\n",
       "    <tr>\n",
       "      <th>27</th>\n",
       "      <td>27</td>\n",
       "      <td>0.018216</td>\n",
       "      <td>2023-04-28 11:57:09.981599</td>\n",
       "      <td>relu</td>\n",
       "      <td>NaN</td>\n",
       "      <td>NaN</td>\n",
       "      <td>0.1</td>\n",
       "      <td>32.0</td>\n",
       "      <td>True</td>\n",
       "      <td>True</td>\n",
       "      <td>False</td>\n",
       "      <td>NaN</td>\n",
       "      <td>0.000092</td>\n",
       "      <td>LSEL</td>\n",
       "      <td>64.0</td>\n",
       "      <td>Transformer</td>\n",
       "      <td>2.0</td>\n",
       "      <td>2.0</td>\n",
       "      <td>1000</td>\n",
       "      <td>rmsprop</td>\n",
       "      <td>0</td>\n",
       "      <td>0.2</td>\n",
       "      <td>0.6</td>\n",
       "      <td>logspace</td>\n",
       "      <td>0.0004</td>\n",
       "      <td>NaN</td>\n",
       "    </tr>\n",
       "    <tr>\n",
       "      <th>28</th>\n",
       "      <td>28</td>\n",
       "      <td>0.023171</td>\n",
       "      <td>2023-04-28 12:12:34.410298</td>\n",
       "      <td>relu</td>\n",
       "      <td>NaN</td>\n",
       "      <td>NaN</td>\n",
       "      <td>0.0</td>\n",
       "      <td>64.0</td>\n",
       "      <td>True</td>\n",
       "      <td>True</td>\n",
       "      <td>False</td>\n",
       "      <td>NaN</td>\n",
       "      <td>0.000087</td>\n",
       "      <td>LSEL</td>\n",
       "      <td>32.0</td>\n",
       "      <td>Transformer</td>\n",
       "      <td>1.0</td>\n",
       "      <td>4.0</td>\n",
       "      <td>1000</td>\n",
       "      <td>rmsprop</td>\n",
       "      <td>1</td>\n",
       "      <td>0.4</td>\n",
       "      <td>0.6</td>\n",
       "      <td>logspace</td>\n",
       "      <td>0.0004</td>\n",
       "      <td>NaN</td>\n",
       "    </tr>\n",
       "    <tr>\n",
       "      <th>29</th>\n",
       "      <td>29</td>\n",
       "      <td>0.022056</td>\n",
       "      <td>2023-04-28 12:29:57.786258</td>\n",
       "      <td>relu</td>\n",
       "      <td>NaN</td>\n",
       "      <td>NaN</td>\n",
       "      <td>0.1</td>\n",
       "      <td>32.0</td>\n",
       "      <td>True</td>\n",
       "      <td>True</td>\n",
       "      <td>False</td>\n",
       "      <td>NaN</td>\n",
       "      <td>0.000146</td>\n",
       "      <td>LSEL</td>\n",
       "      <td>64.0</td>\n",
       "      <td>Transformer</td>\n",
       "      <td>2.0</td>\n",
       "      <td>2.0</td>\n",
       "      <td>1000</td>\n",
       "      <td>rmsprop</td>\n",
       "      <td>3</td>\n",
       "      <td>0.7</td>\n",
       "      <td>0.2</td>\n",
       "      <td>logspace</td>\n",
       "      <td>0.0002</td>\n",
       "      <td>NaN</td>\n",
       "    </tr>\n",
       "    <tr>\n",
       "      <th>30</th>\n",
       "      <td>30</td>\n",
       "      <td>0.021102</td>\n",
       "      <td>2023-04-28 12:48:00.104160</td>\n",
       "      <td>relu</td>\n",
       "      <td>NaN</td>\n",
       "      <td>NaN</td>\n",
       "      <td>0.2</td>\n",
       "      <td>32.0</td>\n",
       "      <td>True</td>\n",
       "      <td>True</td>\n",
       "      <td>False</td>\n",
       "      <td>NaN</td>\n",
       "      <td>0.000090</td>\n",
       "      <td>LSEL</td>\n",
       "      <td>64.0</td>\n",
       "      <td>Transformer</td>\n",
       "      <td>2.0</td>\n",
       "      <td>2.0</td>\n",
       "      <td>1000</td>\n",
       "      <td>rmsprop</td>\n",
       "      <td>4</td>\n",
       "      <td>0.2</td>\n",
       "      <td>0.6</td>\n",
       "      <td>logspace</td>\n",
       "      <td>0.0003</td>\n",
       "      <td>NaN</td>\n",
       "    </tr>\n",
       "    <tr>\n",
       "      <th>31</th>\n",
       "      <td>31</td>\n",
       "      <td>0.017411</td>\n",
       "      <td>2023-04-28 13:07:32.513709</td>\n",
       "      <td>B2BsqrtV2</td>\n",
       "      <td>NaN</td>\n",
       "      <td>NaN</td>\n",
       "      <td>0.1</td>\n",
       "      <td>32.0</td>\n",
       "      <td>True</td>\n",
       "      <td>True</td>\n",
       "      <td>False</td>\n",
       "      <td>NaN</td>\n",
       "      <td>0.000252</td>\n",
       "      <td>LSEL</td>\n",
       "      <td>64.0</td>\n",
       "      <td>Transformer</td>\n",
       "      <td>2.0</td>\n",
       "      <td>2.0</td>\n",
       "      <td>1500</td>\n",
       "      <td>rmsprop</td>\n",
       "      <td>0</td>\n",
       "      <td>0.1</td>\n",
       "      <td>0.7</td>\n",
       "      <td>logspace</td>\n",
       "      <td>0.0004</td>\n",
       "      <td>NaN</td>\n",
       "    </tr>\n",
       "    <tr>\n",
       "      <th>32</th>\n",
       "      <td>32</td>\n",
       "      <td>0.019484</td>\n",
       "      <td>2023-04-28 13:29:09.567200</td>\n",
       "      <td>B2BsqrtV2</td>\n",
       "      <td>NaN</td>\n",
       "      <td>NaN</td>\n",
       "      <td>0.0</td>\n",
       "      <td>32.0</td>\n",
       "      <td>True</td>\n",
       "      <td>True</td>\n",
       "      <td>False</td>\n",
       "      <td>NaN</td>\n",
       "      <td>0.000265</td>\n",
       "      <td>LSEL</td>\n",
       "      <td>64.0</td>\n",
       "      <td>Transformer</td>\n",
       "      <td>2.0</td>\n",
       "      <td>2.0</td>\n",
       "      <td>1000</td>\n",
       "      <td>rmsprop</td>\n",
       "      <td>0</td>\n",
       "      <td>0.1</td>\n",
       "      <td>0.7</td>\n",
       "      <td>logspace</td>\n",
       "      <td>0.0004</td>\n",
       "      <td>NaN</td>\n",
       "    </tr>\n",
       "    <tr>\n",
       "      <th>33</th>\n",
       "      <td>33</td>\n",
       "      <td>0.020790</td>\n",
       "      <td>2023-04-28 13:45:41.656239</td>\n",
       "      <td>B2BsqrtV2</td>\n",
       "      <td>NaN</td>\n",
       "      <td>NaN</td>\n",
       "      <td>0.1</td>\n",
       "      <td>32.0</td>\n",
       "      <td>True</td>\n",
       "      <td>True</td>\n",
       "      <td>False</td>\n",
       "      <td>NaN</td>\n",
       "      <td>0.000152</td>\n",
       "      <td>LSEL</td>\n",
       "      <td>64.0</td>\n",
       "      <td>Transformer</td>\n",
       "      <td>2.0</td>\n",
       "      <td>2.0</td>\n",
       "      <td>1500</td>\n",
       "      <td>rmsprop</td>\n",
       "      <td>1</td>\n",
       "      <td>0.1</td>\n",
       "      <td>0.6</td>\n",
       "      <td>logspace</td>\n",
       "      <td>0.0002</td>\n",
       "      <td>NaN</td>\n",
       "    </tr>\n",
       "    <tr>\n",
       "      <th>34</th>\n",
       "      <td>34</td>\n",
       "      <td>0.118621</td>\n",
       "      <td>2023-04-28 14:08:46.001352</td>\n",
       "      <td>relu</td>\n",
       "      <td>tanh</td>\n",
       "      <td>B2Bsqrt</td>\n",
       "      <td>NaN</td>\n",
       "      <td>NaN</td>\n",
       "      <td>True</td>\n",
       "      <td>True</td>\n",
       "      <td>True</td>\n",
       "      <td>False</td>\n",
       "      <td>0.000027</td>\n",
       "      <td>LSEL</td>\n",
       "      <td>NaN</td>\n",
       "      <td>LSTM</td>\n",
       "      <td>NaN</td>\n",
       "      <td>NaN</td>\n",
       "      <td>1500</td>\n",
       "      <td>rmsprop</td>\n",
       "      <td>0</td>\n",
       "      <td>0.2</td>\n",
       "      <td>0.7</td>\n",
       "      <td>logspace</td>\n",
       "      <td>0.0004</td>\n",
       "      <td>17.0</td>\n",
       "    </tr>\n",
       "    <tr>\n",
       "      <th>35</th>\n",
       "      <td>35</td>\n",
       "      <td>0.022609</td>\n",
       "      <td>2023-04-28 14:30:26.713923</td>\n",
       "      <td>B2BsqrtV2</td>\n",
       "      <td>NaN</td>\n",
       "      <td>NaN</td>\n",
       "      <td>0.0</td>\n",
       "      <td>32.0</td>\n",
       "      <td>True</td>\n",
       "      <td>True</td>\n",
       "      <td>False</td>\n",
       "      <td>NaN</td>\n",
       "      <td>0.000065</td>\n",
       "      <td>LSEL</td>\n",
       "      <td>64.0</td>\n",
       "      <td>Transformer</td>\n",
       "      <td>2.0</td>\n",
       "      <td>2.0</td>\n",
       "      <td>1000</td>\n",
       "      <td>rmsprop</td>\n",
       "      <td>1</td>\n",
       "      <td>0.4</td>\n",
       "      <td>0.8</td>\n",
       "      <td>logspace</td>\n",
       "      <td>0.0005</td>\n",
       "      <td>NaN</td>\n",
       "    </tr>\n",
       "    <tr>\n",
       "      <th>36</th>\n",
       "      <td>36</td>\n",
       "      <td>0.018580</td>\n",
       "      <td>2023-04-28 14:48:27.743861</td>\n",
       "      <td>relu</td>\n",
       "      <td>tanh</td>\n",
       "      <td>sigmoid</td>\n",
       "      <td>NaN</td>\n",
       "      <td>NaN</td>\n",
       "      <td>True</td>\n",
       "      <td>True</td>\n",
       "      <td>True</td>\n",
       "      <td>False</td>\n",
       "      <td>0.000109</td>\n",
       "      <td>LSEL</td>\n",
       "      <td>NaN</td>\n",
       "      <td>LSTM</td>\n",
       "      <td>NaN</td>\n",
       "      <td>NaN</td>\n",
       "      <td>1000</td>\n",
       "      <td>adam</td>\n",
       "      <td>0</td>\n",
       "      <td>0.3</td>\n",
       "      <td>0.5</td>\n",
       "      <td>logspace</td>\n",
       "      <td>0.0001</td>\n",
       "      <td>53.0</td>\n",
       "    </tr>\n",
       "    <tr>\n",
       "      <th>37</th>\n",
       "      <td>37</td>\n",
       "      <td>0.016636</td>\n",
       "      <td>2023-04-28 15:03:07.635433</td>\n",
       "      <td>relu</td>\n",
       "      <td>NaN</td>\n",
       "      <td>NaN</td>\n",
       "      <td>0.1</td>\n",
       "      <td>32.0</td>\n",
       "      <td>True</td>\n",
       "      <td>False</td>\n",
       "      <td>False</td>\n",
       "      <td>NaN</td>\n",
       "      <td>0.000203</td>\n",
       "      <td>LSEL</td>\n",
       "      <td>64.0</td>\n",
       "      <td>Transformer</td>\n",
       "      <td>2.0</td>\n",
       "      <td>2.0</td>\n",
       "      <td>1500</td>\n",
       "      <td>rmsprop</td>\n",
       "      <td>1</td>\n",
       "      <td>0.6</td>\n",
       "      <td>0.8</td>\n",
       "      <td>unirandom</td>\n",
       "      <td>0.0003</td>\n",
       "      <td>NaN</td>\n",
       "    </tr>\n",
       "    <tr>\n",
       "      <th>38</th>\n",
       "      <td>38</td>\n",
       "      <td>0.347789</td>\n",
       "      <td>2023-04-28 15:09:22.511618</td>\n",
       "      <td>B2BsqrtV2</td>\n",
       "      <td>tanh</td>\n",
       "      <td>B2BsqrtV2</td>\n",
       "      <td>NaN</td>\n",
       "      <td>NaN</td>\n",
       "      <td>True</td>\n",
       "      <td>False</td>\n",
       "      <td>False</td>\n",
       "      <td>NaN</td>\n",
       "      <td>0.000210</td>\n",
       "      <td>LSEL</td>\n",
       "      <td>NaN</td>\n",
       "      <td>LSTM</td>\n",
       "      <td>NaN</td>\n",
       "      <td>NaN</td>\n",
       "      <td>1500</td>\n",
       "      <td>adam</td>\n",
       "      <td>1</td>\n",
       "      <td>0.6</td>\n",
       "      <td>0.8</td>\n",
       "      <td>unirandom</td>\n",
       "      <td>0.0003</td>\n",
       "      <td>123.0</td>\n",
       "    </tr>\n",
       "    <tr>\n",
       "      <th>39</th>\n",
       "      <td>39</td>\n",
       "      <td>0.017011</td>\n",
       "      <td>2023-04-28 15:15:02.206424</td>\n",
       "      <td>relu</td>\n",
       "      <td>NaN</td>\n",
       "      <td>NaN</td>\n",
       "      <td>0.0</td>\n",
       "      <td>32.0</td>\n",
       "      <td>True</td>\n",
       "      <td>False</td>\n",
       "      <td>True</td>\n",
       "      <td>False</td>\n",
       "      <td>0.000344</td>\n",
       "      <td>LSEL</td>\n",
       "      <td>32.0</td>\n",
       "      <td>Transformer</td>\n",
       "      <td>1.0</td>\n",
       "      <td>4.0</td>\n",
       "      <td>1500</td>\n",
       "      <td>rmsprop</td>\n",
       "      <td>1</td>\n",
       "      <td>0.7</td>\n",
       "      <td>1.0</td>\n",
       "      <td>unirandom</td>\n",
       "      <td>0.0001</td>\n",
       "      <td>NaN</td>\n",
       "    </tr>\n",
       "    <tr>\n",
       "      <th>40</th>\n",
       "      <td>40</td>\n",
       "      <td>0.019569</td>\n",
       "      <td>2023-04-28 15:22:20.507660</td>\n",
       "      <td>relu</td>\n",
       "      <td>tanh</td>\n",
       "      <td>B2Bsqrt</td>\n",
       "      <td>NaN</td>\n",
       "      <td>NaN</td>\n",
       "      <td>True</td>\n",
       "      <td>False</td>\n",
       "      <td>True</td>\n",
       "      <td>False</td>\n",
       "      <td>0.000351</td>\n",
       "      <td>LSEL</td>\n",
       "      <td>NaN</td>\n",
       "      <td>LSTM</td>\n",
       "      <td>NaN</td>\n",
       "      <td>NaN</td>\n",
       "      <td>1500</td>\n",
       "      <td>rmsprop</td>\n",
       "      <td>2</td>\n",
       "      <td>0.7</td>\n",
       "      <td>1.0</td>\n",
       "      <td>unirandom</td>\n",
       "      <td>0.0000</td>\n",
       "      <td>16.0</td>\n",
       "    </tr>\n",
       "    <tr>\n",
       "      <th>41</th>\n",
       "      <td>41</td>\n",
       "      <td>0.017308</td>\n",
       "      <td>2023-04-28 15:28:13.102266</td>\n",
       "      <td>relu</td>\n",
       "      <td>NaN</td>\n",
       "      <td>NaN</td>\n",
       "      <td>0.0</td>\n",
       "      <td>32.0</td>\n",
       "      <td>True</td>\n",
       "      <td>False</td>\n",
       "      <td>True</td>\n",
       "      <td>False</td>\n",
       "      <td>0.000279</td>\n",
       "      <td>LSEL</td>\n",
       "      <td>32.0</td>\n",
       "      <td>Transformer</td>\n",
       "      <td>1.0</td>\n",
       "      <td>4.0</td>\n",
       "      <td>1500</td>\n",
       "      <td>rmsprop</td>\n",
       "      <td>1</td>\n",
       "      <td>0.6</td>\n",
       "      <td>0.9</td>\n",
       "      <td>unirandom</td>\n",
       "      <td>0.0001</td>\n",
       "      <td>NaN</td>\n",
       "    </tr>\n",
       "    <tr>\n",
       "      <th>42</th>\n",
       "      <td>42</td>\n",
       "      <td>0.016974</td>\n",
       "      <td>2023-04-28 15:35:16.845698</td>\n",
       "      <td>relu</td>\n",
       "      <td>NaN</td>\n",
       "      <td>NaN</td>\n",
       "      <td>0.0</td>\n",
       "      <td>32.0</td>\n",
       "      <td>True</td>\n",
       "      <td>False</td>\n",
       "      <td>True</td>\n",
       "      <td>False</td>\n",
       "      <td>0.000300</td>\n",
       "      <td>LSEL</td>\n",
       "      <td>32.0</td>\n",
       "      <td>Transformer</td>\n",
       "      <td>1.0</td>\n",
       "      <td>4.0</td>\n",
       "      <td>1500</td>\n",
       "      <td>rmsprop</td>\n",
       "      <td>1</td>\n",
       "      <td>0.6</td>\n",
       "      <td>1.0</td>\n",
       "      <td>unirandom</td>\n",
       "      <td>0.0001</td>\n",
       "      <td>NaN</td>\n",
       "    </tr>\n",
       "    <tr>\n",
       "      <th>43</th>\n",
       "      <td>43</td>\n",
       "      <td>0.017679</td>\n",
       "      <td>2023-04-28 15:42:12.901070</td>\n",
       "      <td>relu</td>\n",
       "      <td>NaN</td>\n",
       "      <td>NaN</td>\n",
       "      <td>0.0</td>\n",
       "      <td>32.0</td>\n",
       "      <td>True</td>\n",
       "      <td>False</td>\n",
       "      <td>True</td>\n",
       "      <td>False</td>\n",
       "      <td>0.000313</td>\n",
       "      <td>LSEL</td>\n",
       "      <td>32.0</td>\n",
       "      <td>Transformer</td>\n",
       "      <td>1.0</td>\n",
       "      <td>4.0</td>\n",
       "      <td>1500</td>\n",
       "      <td>rmsprop</td>\n",
       "      <td>2</td>\n",
       "      <td>0.6</td>\n",
       "      <td>1.0</td>\n",
       "      <td>unirandom</td>\n",
       "      <td>0.0001</td>\n",
       "      <td>NaN</td>\n",
       "    </tr>\n",
       "    <tr>\n",
       "      <th>44</th>\n",
       "      <td>44</td>\n",
       "      <td>0.018753</td>\n",
       "      <td>2023-04-28 15:50:14.122488</td>\n",
       "      <td>relu</td>\n",
       "      <td>NaN</td>\n",
       "      <td>NaN</td>\n",
       "      <td>0.1</td>\n",
       "      <td>32.0</td>\n",
       "      <td>True</td>\n",
       "      <td>False</td>\n",
       "      <td>True</td>\n",
       "      <td>False</td>\n",
       "      <td>0.000285</td>\n",
       "      <td>LSEL</td>\n",
       "      <td>32.0</td>\n",
       "      <td>Transformer</td>\n",
       "      <td>1.0</td>\n",
       "      <td>4.0</td>\n",
       "      <td>1500</td>\n",
       "      <td>adam</td>\n",
       "      <td>2</td>\n",
       "      <td>0.7</td>\n",
       "      <td>1.0</td>\n",
       "      <td>unirandom</td>\n",
       "      <td>0.0000</td>\n",
       "      <td>NaN</td>\n",
       "    </tr>\n",
       "    <tr>\n",
       "      <th>45</th>\n",
       "      <td>45</td>\n",
       "      <td>0.019314</td>\n",
       "      <td>2023-04-28 15:56:27.710494</td>\n",
       "      <td>relu</td>\n",
       "      <td>NaN</td>\n",
       "      <td>NaN</td>\n",
       "      <td>0.3</td>\n",
       "      <td>32.0</td>\n",
       "      <td>True</td>\n",
       "      <td>False</td>\n",
       "      <td>True</td>\n",
       "      <td>False</td>\n",
       "      <td>0.000665</td>\n",
       "      <td>LSEL</td>\n",
       "      <td>32.0</td>\n",
       "      <td>Transformer</td>\n",
       "      <td>1.0</td>\n",
       "      <td>4.0</td>\n",
       "      <td>1500</td>\n",
       "      <td>rmsprop</td>\n",
       "      <td>1</td>\n",
       "      <td>0.8</td>\n",
       "      <td>0.9</td>\n",
       "      <td>unirandom</td>\n",
       "      <td>0.0001</td>\n",
       "      <td>NaN</td>\n",
       "    </tr>\n",
       "    <tr>\n",
       "      <th>46</th>\n",
       "      <td>46</td>\n",
       "      <td>0.018069</td>\n",
       "      <td>2023-04-28 16:02:20.025272</td>\n",
       "      <td>gelu</td>\n",
       "      <td>NaN</td>\n",
       "      <td>NaN</td>\n",
       "      <td>0.0</td>\n",
       "      <td>32.0</td>\n",
       "      <td>True</td>\n",
       "      <td>False</td>\n",
       "      <td>True</td>\n",
       "      <td>False</td>\n",
       "      <td>0.000568</td>\n",
       "      <td>LSEL</td>\n",
       "      <td>32.0</td>\n",
       "      <td>Transformer</td>\n",
       "      <td>1.0</td>\n",
       "      <td>4.0</td>\n",
       "      <td>1500</td>\n",
       "      <td>rmsprop</td>\n",
       "      <td>2</td>\n",
       "      <td>0.8</td>\n",
       "      <td>1.0</td>\n",
       "      <td>unirandom</td>\n",
       "      <td>0.0002</td>\n",
       "      <td>NaN</td>\n",
       "    </tr>\n",
       "    <tr>\n",
       "      <th>47</th>\n",
       "      <td>47</td>\n",
       "      <td>0.017033</td>\n",
       "      <td>2023-04-28 16:10:18.490202</td>\n",
       "      <td>B2Bsqrt</td>\n",
       "      <td>NaN</td>\n",
       "      <td>NaN</td>\n",
       "      <td>0.3</td>\n",
       "      <td>32.0</td>\n",
       "      <td>True</td>\n",
       "      <td>False</td>\n",
       "      <td>True</td>\n",
       "      <td>False</td>\n",
       "      <td>0.000423</td>\n",
       "      <td>LSEL</td>\n",
       "      <td>32.0</td>\n",
       "      <td>Transformer</td>\n",
       "      <td>1.0</td>\n",
       "      <td>4.0</td>\n",
       "      <td>1500</td>\n",
       "      <td>adam</td>\n",
       "      <td>1</td>\n",
       "      <td>0.6</td>\n",
       "      <td>0.9</td>\n",
       "      <td>unirandom</td>\n",
       "      <td>0.0001</td>\n",
       "      <td>NaN</td>\n",
       "    </tr>\n",
       "    <tr>\n",
       "      <th>48</th>\n",
       "      <td>48</td>\n",
       "      <td>0.021504</td>\n",
       "      <td>2023-04-28 16:16:11.970314</td>\n",
       "      <td>B2Bsqrt</td>\n",
       "      <td>tanh</td>\n",
       "      <td>sigmoid</td>\n",
       "      <td>NaN</td>\n",
       "      <td>NaN</td>\n",
       "      <td>True</td>\n",
       "      <td>False</td>\n",
       "      <td>True</td>\n",
       "      <td>False</td>\n",
       "      <td>0.000504</td>\n",
       "      <td>LSEL</td>\n",
       "      <td>NaN</td>\n",
       "      <td>LSTM</td>\n",
       "      <td>NaN</td>\n",
       "      <td>NaN</td>\n",
       "      <td>1500</td>\n",
       "      <td>adam</td>\n",
       "      <td>2</td>\n",
       "      <td>0.6</td>\n",
       "      <td>0.9</td>\n",
       "      <td>unirandom</td>\n",
       "      <td>0.0001</td>\n",
       "      <td>66.0</td>\n",
       "    </tr>\n",
       "    <tr>\n",
       "      <th>49</th>\n",
       "      <td>49</td>\n",
       "      <td>0.018155</td>\n",
       "      <td>2023-04-28 16:21:45.081701</td>\n",
       "      <td>B2Bsqrt</td>\n",
       "      <td>NaN</td>\n",
       "      <td>NaN</td>\n",
       "      <td>0.4</td>\n",
       "      <td>32.0</td>\n",
       "      <td>True</td>\n",
       "      <td>False</td>\n",
       "      <td>True</td>\n",
       "      <td>False</td>\n",
       "      <td>0.000708</td>\n",
       "      <td>LSEL</td>\n",
       "      <td>32.0</td>\n",
       "      <td>Transformer</td>\n",
       "      <td>1.0</td>\n",
       "      <td>4.0</td>\n",
       "      <td>1500</td>\n",
       "      <td>adam</td>\n",
       "      <td>1</td>\n",
       "      <td>0.5</td>\n",
       "      <td>1.0</td>\n",
       "      <td>unirandom</td>\n",
       "      <td>0.0000</td>\n",
       "      <td>NaN</td>\n",
       "    </tr>\n",
       "    <tr>\n",
       "      <th>50</th>\n",
       "      <td>50</td>\n",
       "      <td>0.018589</td>\n",
       "      <td>2023-04-28 16:27:34.114359</td>\n",
       "      <td>B2Bsqrt</td>\n",
       "      <td>NaN</td>\n",
       "      <td>NaN</td>\n",
       "      <td>0.4</td>\n",
       "      <td>32.0</td>\n",
       "      <td>True</td>\n",
       "      <td>False</td>\n",
       "      <td>True</td>\n",
       "      <td>False</td>\n",
       "      <td>0.000396</td>\n",
       "      <td>LSEL</td>\n",
       "      <td>32.0</td>\n",
       "      <td>Transformer</td>\n",
       "      <td>1.0</td>\n",
       "      <td>4.0</td>\n",
       "      <td>1500</td>\n",
       "      <td>adam</td>\n",
       "      <td>1</td>\n",
       "      <td>0.7</td>\n",
       "      <td>0.9</td>\n",
       "      <td>unirandom</td>\n",
       "      <td>0.0001</td>\n",
       "      <td>NaN</td>\n",
       "    </tr>\n",
       "    <tr>\n",
       "      <th>51</th>\n",
       "      <td>51</td>\n",
       "      <td>0.018658</td>\n",
       "      <td>2023-04-28 16:33:27.789859</td>\n",
       "      <td>relu</td>\n",
       "      <td>NaN</td>\n",
       "      <td>NaN</td>\n",
       "      <td>0.3</td>\n",
       "      <td>32.0</td>\n",
       "      <td>True</td>\n",
       "      <td>False</td>\n",
       "      <td>True</td>\n",
       "      <td>False</td>\n",
       "      <td>0.000359</td>\n",
       "      <td>LSEL</td>\n",
       "      <td>32.0</td>\n",
       "      <td>Transformer</td>\n",
       "      <td>1.0</td>\n",
       "      <td>4.0</td>\n",
       "      <td>1500</td>\n",
       "      <td>adam</td>\n",
       "      <td>1</td>\n",
       "      <td>0.6</td>\n",
       "      <td>0.8</td>\n",
       "      <td>unirandom</td>\n",
       "      <td>0.0002</td>\n",
       "      <td>NaN</td>\n",
       "    </tr>\n",
       "    <tr>\n",
       "      <th>52</th>\n",
       "      <td>52</td>\n",
       "      <td>0.017486</td>\n",
       "      <td>2023-04-28 16:39:22.089550</td>\n",
       "      <td>B2Bcbrt</td>\n",
       "      <td>NaN</td>\n",
       "      <td>NaN</td>\n",
       "      <td>0.3</td>\n",
       "      <td>32.0</td>\n",
       "      <td>True</td>\n",
       "      <td>False</td>\n",
       "      <td>True</td>\n",
       "      <td>False</td>\n",
       "      <td>0.000262</td>\n",
       "      <td>LSEL</td>\n",
       "      <td>32.0</td>\n",
       "      <td>Transformer</td>\n",
       "      <td>1.0</td>\n",
       "      <td>4.0</td>\n",
       "      <td>1500</td>\n",
       "      <td>adam</td>\n",
       "      <td>1</td>\n",
       "      <td>0.5</td>\n",
       "      <td>1.0</td>\n",
       "      <td>unirandom</td>\n",
       "      <td>0.0002</td>\n",
       "      <td>NaN</td>\n",
       "    </tr>\n",
       "    <tr>\n",
       "      <th>53</th>\n",
       "      <td>53</td>\n",
       "      <td>0.017171</td>\n",
       "      <td>2023-04-28 16:45:16.102577</td>\n",
       "      <td>B2BsqrtV2</td>\n",
       "      <td>NaN</td>\n",
       "      <td>NaN</td>\n",
       "      <td>0.2</td>\n",
       "      <td>32.0</td>\n",
       "      <td>True</td>\n",
       "      <td>False</td>\n",
       "      <td>True</td>\n",
       "      <td>False</td>\n",
       "      <td>0.000401</td>\n",
       "      <td>LSEL</td>\n",
       "      <td>32.0</td>\n",
       "      <td>Transformer</td>\n",
       "      <td>1.0</td>\n",
       "      <td>4.0</td>\n",
       "      <td>1500</td>\n",
       "      <td>rmsprop</td>\n",
       "      <td>2</td>\n",
       "      <td>0.5</td>\n",
       "      <td>0.9</td>\n",
       "      <td>lograndom</td>\n",
       "      <td>0.0000</td>\n",
       "      <td>NaN</td>\n",
       "    </tr>\n",
       "    <tr>\n",
       "      <th>54</th>\n",
       "      <td>54</td>\n",
       "      <td>0.027486</td>\n",
       "      <td>2023-04-28 16:51:44.997652</td>\n",
       "      <td>B2Bsqrt</td>\n",
       "      <td>NaN</td>\n",
       "      <td>NaN</td>\n",
       "      <td>0.2</td>\n",
       "      <td>32.0</td>\n",
       "      <td>True</td>\n",
       "      <td>False</td>\n",
       "      <td>True</td>\n",
       "      <td>False</td>\n",
       "      <td>0.000424</td>\n",
       "      <td>LSEL</td>\n",
       "      <td>32.0</td>\n",
       "      <td>Transformer</td>\n",
       "      <td>1.0</td>\n",
       "      <td>4.0</td>\n",
       "      <td>500</td>\n",
       "      <td>rmsprop</td>\n",
       "      <td>2</td>\n",
       "      <td>0.5</td>\n",
       "      <td>0.9</td>\n",
       "      <td>lograndom</td>\n",
       "      <td>0.0000</td>\n",
       "      <td>NaN</td>\n",
       "    </tr>\n",
       "    <tr>\n",
       "      <th>55</th>\n",
       "      <td>55</td>\n",
       "      <td>0.021634</td>\n",
       "      <td>2023-04-28 16:56:40.755052</td>\n",
       "      <td>gelu</td>\n",
       "      <td>NaN</td>\n",
       "      <td>NaN</td>\n",
       "      <td>0.3</td>\n",
       "      <td>32.0</td>\n",
       "      <td>True</td>\n",
       "      <td>False</td>\n",
       "      <td>True</td>\n",
       "      <td>False</td>\n",
       "      <td>0.000586</td>\n",
       "      <td>LSEL</td>\n",
       "      <td>32.0</td>\n",
       "      <td>Transformer</td>\n",
       "      <td>1.0</td>\n",
       "      <td>4.0</td>\n",
       "      <td>1500</td>\n",
       "      <td>adam</td>\n",
       "      <td>2</td>\n",
       "      <td>0.7</td>\n",
       "      <td>0.9</td>\n",
       "      <td>lograndom</td>\n",
       "      <td>0.0000</td>\n",
       "      <td>NaN</td>\n",
       "    </tr>\n",
       "    <tr>\n",
       "      <th>56</th>\n",
       "      <td>56</td>\n",
       "      <td>0.017609</td>\n",
       "      <td>2023-04-28 17:02:59.944442</td>\n",
       "      <td>relu</td>\n",
       "      <td>NaN</td>\n",
       "      <td>NaN</td>\n",
       "      <td>0.2</td>\n",
       "      <td>32.0</td>\n",
       "      <td>True</td>\n",
       "      <td>False</td>\n",
       "      <td>True</td>\n",
       "      <td>False</td>\n",
       "      <td>0.000787</td>\n",
       "      <td>LSEL</td>\n",
       "      <td>32.0</td>\n",
       "      <td>Transformer</td>\n",
       "      <td>1.0</td>\n",
       "      <td>4.0</td>\n",
       "      <td>1500</td>\n",
       "      <td>rmsprop</td>\n",
       "      <td>1</td>\n",
       "      <td>0.6</td>\n",
       "      <td>1.0</td>\n",
       "      <td>lograndom</td>\n",
       "      <td>0.0001</td>\n",
       "      <td>NaN</td>\n",
       "    </tr>\n",
       "    <tr>\n",
       "      <th>57</th>\n",
       "      <td>57</td>\n",
       "      <td>0.018078</td>\n",
       "      <td>2023-04-28 17:08:44.033783</td>\n",
       "      <td>relu</td>\n",
       "      <td>NaN</td>\n",
       "      <td>NaN</td>\n",
       "      <td>0.1</td>\n",
       "      <td>32.0</td>\n",
       "      <td>True</td>\n",
       "      <td>False</td>\n",
       "      <td>True</td>\n",
       "      <td>False</td>\n",
       "      <td>0.000337</td>\n",
       "      <td>LSEL</td>\n",
       "      <td>32.0</td>\n",
       "      <td>Transformer</td>\n",
       "      <td>1.0</td>\n",
       "      <td>4.0</td>\n",
       "      <td>1500</td>\n",
       "      <td>rmsprop</td>\n",
       "      <td>3</td>\n",
       "      <td>0.6</td>\n",
       "      <td>0.9</td>\n",
       "      <td>unirandom</td>\n",
       "      <td>0.0003</td>\n",
       "      <td>NaN</td>\n",
       "    </tr>\n",
       "    <tr>\n",
       "      <th>58</th>\n",
       "      <td>58</td>\n",
       "      <td>0.015880</td>\n",
       "      <td>2023-04-28 17:15:32.291490</td>\n",
       "      <td>B2Bcbrt</td>\n",
       "      <td>NaN</td>\n",
       "      <td>NaN</td>\n",
       "      <td>0.2</td>\n",
       "      <td>32.0</td>\n",
       "      <td>True</td>\n",
       "      <td>False</td>\n",
       "      <td>True</td>\n",
       "      <td>False</td>\n",
       "      <td>0.000176</td>\n",
       "      <td>LSEL</td>\n",
       "      <td>32.0</td>\n",
       "      <td>Transformer</td>\n",
       "      <td>1.0</td>\n",
       "      <td>4.0</td>\n",
       "      <td>1500</td>\n",
       "      <td>rmsprop</td>\n",
       "      <td>1</td>\n",
       "      <td>0.8</td>\n",
       "      <td>0.8</td>\n",
       "      <td>unirandom</td>\n",
       "      <td>0.0001</td>\n",
       "      <td>NaN</td>\n",
       "    </tr>\n",
       "    <tr>\n",
       "      <th>59</th>\n",
       "      <td>59</td>\n",
       "      <td>0.020364</td>\n",
       "      <td>2023-04-28 17:21:17.977921</td>\n",
       "      <td>B2Bcbrt</td>\n",
       "      <td>NaN</td>\n",
       "      <td>NaN</td>\n",
       "      <td>0.2</td>\n",
       "      <td>64.0</td>\n",
       "      <td>True</td>\n",
       "      <td>False</td>\n",
       "      <td>True</td>\n",
       "      <td>False</td>\n",
       "      <td>0.000169</td>\n",
       "      <td>LSEL</td>\n",
       "      <td>32.0</td>\n",
       "      <td>Transformer</td>\n",
       "      <td>1.0</td>\n",
       "      <td>4.0</td>\n",
       "      <td>1500</td>\n",
       "      <td>rmsprop</td>\n",
       "      <td>2</td>\n",
       "      <td>1.0</td>\n",
       "      <td>0.3</td>\n",
       "      <td>unirandom</td>\n",
       "      <td>0.0000</td>\n",
       "      <td>NaN</td>\n",
       "    </tr>\n",
       "    <tr>\n",
       "      <th>60</th>\n",
       "      <td>60</td>\n",
       "      <td>0.018354</td>\n",
       "      <td>2023-04-28 17:27:41.397500</td>\n",
       "      <td>B2Bcbrt</td>\n",
       "      <td>NaN</td>\n",
       "      <td>NaN</td>\n",
       "      <td>0.2</td>\n",
       "      <td>32.0</td>\n",
       "      <td>True</td>\n",
       "      <td>False</td>\n",
       "      <td>True</td>\n",
       "      <td>False</td>\n",
       "      <td>0.000962</td>\n",
       "      <td>LSEL</td>\n",
       "      <td>32.0</td>\n",
       "      <td>Transformer</td>\n",
       "      <td>1.0</td>\n",
       "      <td>4.0</td>\n",
       "      <td>1500</td>\n",
       "      <td>adam</td>\n",
       "      <td>1</td>\n",
       "      <td>0.8</td>\n",
       "      <td>0.8</td>\n",
       "      <td>lograndom</td>\n",
       "      <td>0.0002</td>\n",
       "      <td>NaN</td>\n",
       "    </tr>\n",
       "    <tr>\n",
       "      <th>61</th>\n",
       "      <td>61</td>\n",
       "      <td>0.018104</td>\n",
       "      <td>2023-04-28 17:33:35.342615</td>\n",
       "      <td>B2Bcbrt</td>\n",
       "      <td>NaN</td>\n",
       "      <td>NaN</td>\n",
       "      <td>0.3</td>\n",
       "      <td>32.0</td>\n",
       "      <td>True</td>\n",
       "      <td>False</td>\n",
       "      <td>True</td>\n",
       "      <td>False</td>\n",
       "      <td>0.000215</td>\n",
       "      <td>LSEL</td>\n",
       "      <td>32.0</td>\n",
       "      <td>Transformer</td>\n",
       "      <td>1.0</td>\n",
       "      <td>4.0</td>\n",
       "      <td>1500</td>\n",
       "      <td>rmsprop</td>\n",
       "      <td>1</td>\n",
       "      <td>0.9</td>\n",
       "      <td>1.0</td>\n",
       "      <td>unirandom</td>\n",
       "      <td>0.0001</td>\n",
       "      <td>NaN</td>\n",
       "    </tr>\n",
       "    <tr>\n",
       "      <th>62</th>\n",
       "      <td>62</td>\n",
       "      <td>0.017975</td>\n",
       "      <td>2023-04-28 17:39:21.832802</td>\n",
       "      <td>B2Bcbrt</td>\n",
       "      <td>NaN</td>\n",
       "      <td>NaN</td>\n",
       "      <td>0.4</td>\n",
       "      <td>32.0</td>\n",
       "      <td>True</td>\n",
       "      <td>False</td>\n",
       "      <td>True</td>\n",
       "      <td>False</td>\n",
       "      <td>0.000405</td>\n",
       "      <td>LSEL</td>\n",
       "      <td>32.0</td>\n",
       "      <td>Transformer</td>\n",
       "      <td>1.0</td>\n",
       "      <td>4.0</td>\n",
       "      <td>1500</td>\n",
       "      <td>rmsprop</td>\n",
       "      <td>1</td>\n",
       "      <td>0.8</td>\n",
       "      <td>0.8</td>\n",
       "      <td>unirandom</td>\n",
       "      <td>0.0001</td>\n",
       "      <td>NaN</td>\n",
       "    </tr>\n",
       "    <tr>\n",
       "      <th>63</th>\n",
       "      <td>63</td>\n",
       "      <td>0.019442</td>\n",
       "      <td>2023-04-28 17:45:12.820425</td>\n",
       "      <td>B2Bsqrt</td>\n",
       "      <td>NaN</td>\n",
       "      <td>NaN</td>\n",
       "      <td>0.2</td>\n",
       "      <td>32.0</td>\n",
       "      <td>True</td>\n",
       "      <td>False</td>\n",
       "      <td>True</td>\n",
       "      <td>False</td>\n",
       "      <td>0.000528</td>\n",
       "      <td>LSEL</td>\n",
       "      <td>32.0</td>\n",
       "      <td>Transformer</td>\n",
       "      <td>1.0</td>\n",
       "      <td>4.0</td>\n",
       "      <td>1500</td>\n",
       "      <td>rmsprop</td>\n",
       "      <td>1</td>\n",
       "      <td>0.7</td>\n",
       "      <td>0.9</td>\n",
       "      <td>unirandom</td>\n",
       "      <td>0.0000</td>\n",
       "      <td>NaN</td>\n",
       "    </tr>\n",
       "    <tr>\n",
       "      <th>64</th>\n",
       "      <td>64</td>\n",
       "      <td>0.017420</td>\n",
       "      <td>2023-04-28 17:51:04.109103</td>\n",
       "      <td>B2BsqrtV2</td>\n",
       "      <td>NaN</td>\n",
       "      <td>NaN</td>\n",
       "      <td>0.0</td>\n",
       "      <td>32.0</td>\n",
       "      <td>True</td>\n",
       "      <td>False</td>\n",
       "      <td>True</td>\n",
       "      <td>False</td>\n",
       "      <td>0.000174</td>\n",
       "      <td>LSEL</td>\n",
       "      <td>32.0</td>\n",
       "      <td>Transformer</td>\n",
       "      <td>1.0</td>\n",
       "      <td>4.0</td>\n",
       "      <td>1500</td>\n",
       "      <td>rmsprop</td>\n",
       "      <td>1</td>\n",
       "      <td>0.5</td>\n",
       "      <td>0.9</td>\n",
       "      <td>unirandom</td>\n",
       "      <td>0.0002</td>\n",
       "      <td>NaN</td>\n",
       "    </tr>\n",
       "    <tr>\n",
       "      <th>65</th>\n",
       "      <td>65</td>\n",
       "      <td>0.023508</td>\n",
       "      <td>2023-04-28 17:57:56.825878</td>\n",
       "      <td>relu</td>\n",
       "      <td>NaN</td>\n",
       "      <td>NaN</td>\n",
       "      <td>0.3</td>\n",
       "      <td>32.0</td>\n",
       "      <td>True</td>\n",
       "      <td>False</td>\n",
       "      <td>True</td>\n",
       "      <td>False</td>\n",
       "      <td>0.000227</td>\n",
       "      <td>LSEL</td>\n",
       "      <td>32.0</td>\n",
       "      <td>Transformer</td>\n",
       "      <td>1.0</td>\n",
       "      <td>4.0</td>\n",
       "      <td>1500</td>\n",
       "      <td>rmsprop</td>\n",
       "      <td>2</td>\n",
       "      <td>0.5</td>\n",
       "      <td>0.8</td>\n",
       "      <td>unirandom</td>\n",
       "      <td>0.0001</td>\n",
       "      <td>NaN</td>\n",
       "    </tr>\n",
       "    <tr>\n",
       "      <th>66</th>\n",
       "      <td>66</td>\n",
       "      <td>0.017622</td>\n",
       "      <td>2023-04-28 18:04:15.268151</td>\n",
       "      <td>relu</td>\n",
       "      <td>NaN</td>\n",
       "      <td>NaN</td>\n",
       "      <td>0.1</td>\n",
       "      <td>32.0</td>\n",
       "      <td>True</td>\n",
       "      <td>False</td>\n",
       "      <td>True</td>\n",
       "      <td>True</td>\n",
       "      <td>0.000126</td>\n",
       "      <td>LSEL</td>\n",
       "      <td>32.0</td>\n",
       "      <td>Transformer</td>\n",
       "      <td>1.0</td>\n",
       "      <td>4.0</td>\n",
       "      <td>1500</td>\n",
       "      <td>rmsprop</td>\n",
       "      <td>5</td>\n",
       "      <td>0.6</td>\n",
       "      <td>1.0</td>\n",
       "      <td>lograndom</td>\n",
       "      <td>0.0000</td>\n",
       "      <td>NaN</td>\n",
       "    </tr>\n",
       "    <tr>\n",
       "      <th>67</th>\n",
       "      <td>67</td>\n",
       "      <td>0.017135</td>\n",
       "      <td>2023-04-28 18:12:54.058588</td>\n",
       "      <td>gelu</td>\n",
       "      <td>NaN</td>\n",
       "      <td>NaN</td>\n",
       "      <td>0.0</td>\n",
       "      <td>32.0</td>\n",
       "      <td>True</td>\n",
       "      <td>False</td>\n",
       "      <td>True</td>\n",
       "      <td>False</td>\n",
       "      <td>0.000319</td>\n",
       "      <td>LSEL</td>\n",
       "      <td>32.0</td>\n",
       "      <td>Transformer</td>\n",
       "      <td>1.0</td>\n",
       "      <td>4.0</td>\n",
       "      <td>1500</td>\n",
       "      <td>rmsprop</td>\n",
       "      <td>1</td>\n",
       "      <td>0.7</td>\n",
       "      <td>0.7</td>\n",
       "      <td>unirandom</td>\n",
       "      <td>0.0001</td>\n",
       "      <td>NaN</td>\n",
       "    </tr>\n",
       "    <tr>\n",
       "      <th>68</th>\n",
       "      <td>68</td>\n",
       "      <td>0.016652</td>\n",
       "      <td>2023-04-28 18:19:45.809094</td>\n",
       "      <td>gelu</td>\n",
       "      <td>NaN</td>\n",
       "      <td>NaN</td>\n",
       "      <td>0.0</td>\n",
       "      <td>32.0</td>\n",
       "      <td>True</td>\n",
       "      <td>False</td>\n",
       "      <td>True</td>\n",
       "      <td>True</td>\n",
       "      <td>0.000455</td>\n",
       "      <td>LSEL</td>\n",
       "      <td>32.0</td>\n",
       "      <td>Transformer</td>\n",
       "      <td>1.0</td>\n",
       "      <td>4.0</td>\n",
       "      <td>1500</td>\n",
       "      <td>rmsprop</td>\n",
       "      <td>1</td>\n",
       "      <td>0.7</td>\n",
       "      <td>0.8</td>\n",
       "      <td>unirandom</td>\n",
       "      <td>0.0002</td>\n",
       "      <td>NaN</td>\n",
       "    </tr>\n",
       "    <tr>\n",
       "      <th>69</th>\n",
       "      <td>69</td>\n",
       "      <td>0.019009</td>\n",
       "      <td>2023-04-28 18:26:41.782976</td>\n",
       "      <td>gelu</td>\n",
       "      <td>sigmoid</td>\n",
       "      <td>sigmoid</td>\n",
       "      <td>NaN</td>\n",
       "      <td>NaN</td>\n",
       "      <td>True</td>\n",
       "      <td>False</td>\n",
       "      <td>True</td>\n",
       "      <td>True</td>\n",
       "      <td>0.000676</td>\n",
       "      <td>LSEL</td>\n",
       "      <td>NaN</td>\n",
       "      <td>LSTM</td>\n",
       "      <td>NaN</td>\n",
       "      <td>NaN</td>\n",
       "      <td>1500</td>\n",
       "      <td>rmsprop</td>\n",
       "      <td>1</td>\n",
       "      <td>0.7</td>\n",
       "      <td>0.7</td>\n",
       "      <td>unirandom</td>\n",
       "      <td>0.0003</td>\n",
       "      <td>41.0</td>\n",
       "    </tr>\n",
       "    <tr>\n",
       "      <th>70</th>\n",
       "      <td>70</td>\n",
       "      <td>0.017730</td>\n",
       "      <td>2023-04-28 18:32:05.637177</td>\n",
       "      <td>gelu</td>\n",
       "      <td>NaN</td>\n",
       "      <td>NaN</td>\n",
       "      <td>0.0</td>\n",
       "      <td>32.0</td>\n",
       "      <td>True</td>\n",
       "      <td>False</td>\n",
       "      <td>True</td>\n",
       "      <td>True</td>\n",
       "      <td>0.000498</td>\n",
       "      <td>LSEL</td>\n",
       "      <td>32.0</td>\n",
       "      <td>Transformer</td>\n",
       "      <td>1.0</td>\n",
       "      <td>4.0</td>\n",
       "      <td>1500</td>\n",
       "      <td>rmsprop</td>\n",
       "      <td>4</td>\n",
       "      <td>0.9</td>\n",
       "      <td>0.7</td>\n",
       "      <td>unirandom</td>\n",
       "      <td>0.0002</td>\n",
       "      <td>NaN</td>\n",
       "    </tr>\n",
       "    <tr>\n",
       "      <th>71</th>\n",
       "      <td>71</td>\n",
       "      <td>0.016854</td>\n",
       "      <td>2023-04-28 18:42:34.754840</td>\n",
       "      <td>gelu</td>\n",
       "      <td>NaN</td>\n",
       "      <td>NaN</td>\n",
       "      <td>0.0</td>\n",
       "      <td>32.0</td>\n",
       "      <td>True</td>\n",
       "      <td>False</td>\n",
       "      <td>True</td>\n",
       "      <td>True</td>\n",
       "      <td>0.000326</td>\n",
       "      <td>LSEL</td>\n",
       "      <td>32.0</td>\n",
       "      <td>Transformer</td>\n",
       "      <td>1.0</td>\n",
       "      <td>4.0</td>\n",
       "      <td>1500</td>\n",
       "      <td>rmsprop</td>\n",
       "      <td>1</td>\n",
       "      <td>0.8</td>\n",
       "      <td>0.8</td>\n",
       "      <td>unirandom</td>\n",
       "      <td>0.0002</td>\n",
       "      <td>NaN</td>\n",
       "    </tr>\n",
       "    <tr>\n",
       "      <th>72</th>\n",
       "      <td>72</td>\n",
       "      <td>0.018127</td>\n",
       "      <td>2023-04-28 18:49:36.591969</td>\n",
       "      <td>gelu</td>\n",
       "      <td>NaN</td>\n",
       "      <td>NaN</td>\n",
       "      <td>0.0</td>\n",
       "      <td>32.0</td>\n",
       "      <td>True</td>\n",
       "      <td>False</td>\n",
       "      <td>True</td>\n",
       "      <td>True</td>\n",
       "      <td>0.000317</td>\n",
       "      <td>LSEL</td>\n",
       "      <td>32.0</td>\n",
       "      <td>Transformer</td>\n",
       "      <td>1.0</td>\n",
       "      <td>4.0</td>\n",
       "      <td>1500</td>\n",
       "      <td>rmsprop</td>\n",
       "      <td>1</td>\n",
       "      <td>0.8</td>\n",
       "      <td>0.8</td>\n",
       "      <td>unirandom</td>\n",
       "      <td>0.0002</td>\n",
       "      <td>NaN</td>\n",
       "    </tr>\n",
       "    <tr>\n",
       "      <th>73</th>\n",
       "      <td>73</td>\n",
       "      <td>0.018881</td>\n",
       "      <td>2023-04-28 18:56:35.645432</td>\n",
       "      <td>gelu</td>\n",
       "      <td>NaN</td>\n",
       "      <td>NaN</td>\n",
       "      <td>0.0</td>\n",
       "      <td>32.0</td>\n",
       "      <td>True</td>\n",
       "      <td>False</td>\n",
       "      <td>True</td>\n",
       "      <td>True</td>\n",
       "      <td>0.000230</td>\n",
       "      <td>LSEL</td>\n",
       "      <td>32.0</td>\n",
       "      <td>Transformer</td>\n",
       "      <td>1.0</td>\n",
       "      <td>4.0</td>\n",
       "      <td>1500</td>\n",
       "      <td>rmsprop</td>\n",
       "      <td>1</td>\n",
       "      <td>0.7</td>\n",
       "      <td>0.7</td>\n",
       "      <td>unirandom</td>\n",
       "      <td>0.0003</td>\n",
       "      <td>NaN</td>\n",
       "    </tr>\n",
       "    <tr>\n",
       "      <th>74</th>\n",
       "      <td>74</td>\n",
       "      <td>0.018246</td>\n",
       "      <td>2023-04-28 19:03:30.937737</td>\n",
       "      <td>gelu</td>\n",
       "      <td>NaN</td>\n",
       "      <td>NaN</td>\n",
       "      <td>0.0</td>\n",
       "      <td>32.0</td>\n",
       "      <td>True</td>\n",
       "      <td>False</td>\n",
       "      <td>True</td>\n",
       "      <td>True</td>\n",
       "      <td>0.000166</td>\n",
       "      <td>LSEL</td>\n",
       "      <td>32.0</td>\n",
       "      <td>Transformer</td>\n",
       "      <td>1.0</td>\n",
       "      <td>4.0</td>\n",
       "      <td>1500</td>\n",
       "      <td>rmsprop</td>\n",
       "      <td>1</td>\n",
       "      <td>0.8</td>\n",
       "      <td>0.8</td>\n",
       "      <td>unirandom</td>\n",
       "      <td>0.0002</td>\n",
       "      <td>NaN</td>\n",
       "    </tr>\n",
       "    <tr>\n",
       "      <th>75</th>\n",
       "      <td>75</td>\n",
       "      <td>0.017817</td>\n",
       "      <td>2023-04-28 19:10:28.569436</td>\n",
       "      <td>gelu</td>\n",
       "      <td>NaN</td>\n",
       "      <td>NaN</td>\n",
       "      <td>0.0</td>\n",
       "      <td>32.0</td>\n",
       "      <td>True</td>\n",
       "      <td>False</td>\n",
       "      <td>True</td>\n",
       "      <td>True</td>\n",
       "      <td>0.000309</td>\n",
       "      <td>LSEL</td>\n",
       "      <td>32.0</td>\n",
       "      <td>Transformer</td>\n",
       "      <td>1.0</td>\n",
       "      <td>4.0</td>\n",
       "      <td>1500</td>\n",
       "      <td>rmsprop</td>\n",
       "      <td>1</td>\n",
       "      <td>0.7</td>\n",
       "      <td>0.8</td>\n",
       "      <td>unirandom</td>\n",
       "      <td>0.0001</td>\n",
       "      <td>NaN</td>\n",
       "    </tr>\n",
       "    <tr>\n",
       "      <th>76</th>\n",
       "      <td>76</td>\n",
       "      <td>0.017528</td>\n",
       "      <td>2023-04-28 19:17:25.614197</td>\n",
       "      <td>gelu</td>\n",
       "      <td>NaN</td>\n",
       "      <td>NaN</td>\n",
       "      <td>0.1</td>\n",
       "      <td>32.0</td>\n",
       "      <td>True</td>\n",
       "      <td>False</td>\n",
       "      <td>True</td>\n",
       "      <td>True</td>\n",
       "      <td>0.000452</td>\n",
       "      <td>LSEL</td>\n",
       "      <td>32.0</td>\n",
       "      <td>Transformer</td>\n",
       "      <td>1.0</td>\n",
       "      <td>4.0</td>\n",
       "      <td>1500</td>\n",
       "      <td>rmsprop</td>\n",
       "      <td>0</td>\n",
       "      <td>0.8</td>\n",
       "      <td>0.5</td>\n",
       "      <td>unirandom</td>\n",
       "      <td>0.0003</td>\n",
       "      <td>NaN</td>\n",
       "    </tr>\n",
       "    <tr>\n",
       "      <th>77</th>\n",
       "      <td>77</td>\n",
       "      <td>0.017611</td>\n",
       "      <td>2023-04-28 19:22:06.885388</td>\n",
       "      <td>gelu</td>\n",
       "      <td>NaN</td>\n",
       "      <td>NaN</td>\n",
       "      <td>0.0</td>\n",
       "      <td>64.0</td>\n",
       "      <td>True</td>\n",
       "      <td>False</td>\n",
       "      <td>True</td>\n",
       "      <td>True</td>\n",
       "      <td>0.000208</td>\n",
       "      <td>LSEL</td>\n",
       "      <td>32.0</td>\n",
       "      <td>Transformer</td>\n",
       "      <td>1.0</td>\n",
       "      <td>4.0</td>\n",
       "      <td>1500</td>\n",
       "      <td>rmsprop</td>\n",
       "      <td>1</td>\n",
       "      <td>0.9</td>\n",
       "      <td>0.7</td>\n",
       "      <td>unirandom</td>\n",
       "      <td>0.0001</td>\n",
       "      <td>NaN</td>\n",
       "    </tr>\n",
       "    <tr>\n",
       "      <th>78</th>\n",
       "      <td>78</td>\n",
       "      <td>0.015432</td>\n",
       "      <td>2023-04-28 19:29:07.317690</td>\n",
       "      <td>gelu</td>\n",
       "      <td>NaN</td>\n",
       "      <td>NaN</td>\n",
       "      <td>0.0</td>\n",
       "      <td>32.0</td>\n",
       "      <td>True</td>\n",
       "      <td>False</td>\n",
       "      <td>True</td>\n",
       "      <td>True</td>\n",
       "      <td>0.000130</td>\n",
       "      <td>LSEL</td>\n",
       "      <td>32.0</td>\n",
       "      <td>Transformer</td>\n",
       "      <td>1.0</td>\n",
       "      <td>4.0</td>\n",
       "      <td>1500</td>\n",
       "      <td>rmsprop</td>\n",
       "      <td>1</td>\n",
       "      <td>0.7</td>\n",
       "      <td>0.8</td>\n",
       "      <td>unirandom</td>\n",
       "      <td>0.0002</td>\n",
       "      <td>NaN</td>\n",
       "    </tr>\n",
       "    <tr>\n",
       "      <th>79</th>\n",
       "      <td>79</td>\n",
       "      <td>0.016986</td>\n",
       "      <td>2023-04-28 19:36:09.739685</td>\n",
       "      <td>gelu</td>\n",
       "      <td>NaN</td>\n",
       "      <td>NaN</td>\n",
       "      <td>0.1</td>\n",
       "      <td>32.0</td>\n",
       "      <td>True</td>\n",
       "      <td>False</td>\n",
       "      <td>True</td>\n",
       "      <td>True</td>\n",
       "      <td>0.000132</td>\n",
       "      <td>LSEL</td>\n",
       "      <td>32.0</td>\n",
       "      <td>Transformer</td>\n",
       "      <td>1.0</td>\n",
       "      <td>4.0</td>\n",
       "      <td>1500</td>\n",
       "      <td>rmsprop</td>\n",
       "      <td>0</td>\n",
       "      <td>0.6</td>\n",
       "      <td>0.0</td>\n",
       "      <td>unirandom</td>\n",
       "      <td>0.0002</td>\n",
       "      <td>NaN</td>\n",
       "    </tr>\n",
       "    <tr>\n",
       "      <th>80</th>\n",
       "      <td>80</td>\n",
       "      <td>0.018717</td>\n",
       "      <td>2023-04-28 19:40:59.109411</td>\n",
       "      <td>gelu</td>\n",
       "      <td>sigmoid</td>\n",
       "      <td>B2Bcbrt</td>\n",
       "      <td>NaN</td>\n",
       "      <td>NaN</td>\n",
       "      <td>True</td>\n",
       "      <td>False</td>\n",
       "      <td>True</td>\n",
       "      <td>True</td>\n",
       "      <td>0.000121</td>\n",
       "      <td>LSEL</td>\n",
       "      <td>NaN</td>\n",
       "      <td>LSTM</td>\n",
       "      <td>NaN</td>\n",
       "      <td>NaN</td>\n",
       "      <td>1500</td>\n",
       "      <td>rmsprop</td>\n",
       "      <td>0</td>\n",
       "      <td>0.8</td>\n",
       "      <td>0.1</td>\n",
       "      <td>unirandom</td>\n",
       "      <td>0.0003</td>\n",
       "      <td>83.0</td>\n",
       "    </tr>\n",
       "    <tr>\n",
       "      <th>81</th>\n",
       "      <td>81</td>\n",
       "      <td>0.018149</td>\n",
       "      <td>2023-04-28 19:45:45.501052</td>\n",
       "      <td>gelu</td>\n",
       "      <td>NaN</td>\n",
       "      <td>NaN</td>\n",
       "      <td>0.1</td>\n",
       "      <td>32.0</td>\n",
       "      <td>True</td>\n",
       "      <td>False</td>\n",
       "      <td>True</td>\n",
       "      <td>True</td>\n",
       "      <td>0.000137</td>\n",
       "      <td>LSEL</td>\n",
       "      <td>32.0</td>\n",
       "      <td>Transformer</td>\n",
       "      <td>1.0</td>\n",
       "      <td>4.0</td>\n",
       "      <td>1500</td>\n",
       "      <td>rmsprop</td>\n",
       "      <td>0</td>\n",
       "      <td>0.6</td>\n",
       "      <td>0.3</td>\n",
       "      <td>unirandom</td>\n",
       "      <td>0.0002</td>\n",
       "      <td>NaN</td>\n",
       "    </tr>\n",
       "    <tr>\n",
       "      <th>82</th>\n",
       "      <td>82</td>\n",
       "      <td>0.018730</td>\n",
       "      <td>2023-04-28 19:50:27.138026</td>\n",
       "      <td>gelu</td>\n",
       "      <td>NaN</td>\n",
       "      <td>NaN</td>\n",
       "      <td>0.0</td>\n",
       "      <td>32.0</td>\n",
       "      <td>True</td>\n",
       "      <td>False</td>\n",
       "      <td>True</td>\n",
       "      <td>True</td>\n",
       "      <td>0.000181</td>\n",
       "      <td>LSEL</td>\n",
       "      <td>32.0</td>\n",
       "      <td>Transformer</td>\n",
       "      <td>1.0</td>\n",
       "      <td>4.0</td>\n",
       "      <td>1500</td>\n",
       "      <td>rmsprop</td>\n",
       "      <td>0</td>\n",
       "      <td>0.6</td>\n",
       "      <td>0.0</td>\n",
       "      <td>unirandom</td>\n",
       "      <td>0.0002</td>\n",
       "      <td>NaN</td>\n",
       "    </tr>\n",
       "    <tr>\n",
       "      <th>83</th>\n",
       "      <td>83</td>\n",
       "      <td>0.017553</td>\n",
       "      <td>2023-04-28 19:55:51.045808</td>\n",
       "      <td>B2Bsqrt</td>\n",
       "      <td>NaN</td>\n",
       "      <td>NaN</td>\n",
       "      <td>0.1</td>\n",
       "      <td>32.0</td>\n",
       "      <td>True</td>\n",
       "      <td>False</td>\n",
       "      <td>True</td>\n",
       "      <td>True</td>\n",
       "      <td>0.000262</td>\n",
       "      <td>LSEL</td>\n",
       "      <td>32.0</td>\n",
       "      <td>Transformer</td>\n",
       "      <td>1.0</td>\n",
       "      <td>4.0</td>\n",
       "      <td>1500</td>\n",
       "      <td>rmsprop</td>\n",
       "      <td>1</td>\n",
       "      <td>0.7</td>\n",
       "      <td>0.1</td>\n",
       "      <td>unirandom</td>\n",
       "      <td>0.0002</td>\n",
       "      <td>NaN</td>\n",
       "    </tr>\n",
       "    <tr>\n",
       "      <th>84</th>\n",
       "      <td>84</td>\n",
       "      <td>0.016191</td>\n",
       "      <td>2023-04-28 20:01:40.872521</td>\n",
       "      <td>gelu</td>\n",
       "      <td>NaN</td>\n",
       "      <td>NaN</td>\n",
       "      <td>0.0</td>\n",
       "      <td>32.0</td>\n",
       "      <td>True</td>\n",
       "      <td>False</td>\n",
       "      <td>True</td>\n",
       "      <td>True</td>\n",
       "      <td>0.000157</td>\n",
       "      <td>LSEL</td>\n",
       "      <td>32.0</td>\n",
       "      <td>Transformer</td>\n",
       "      <td>1.0</td>\n",
       "      <td>4.0</td>\n",
       "      <td>1500</td>\n",
       "      <td>rmsprop</td>\n",
       "      <td>1</td>\n",
       "      <td>0.7</td>\n",
       "      <td>0.4</td>\n",
       "      <td>unirandom</td>\n",
       "      <td>0.0001</td>\n",
       "      <td>NaN</td>\n",
       "    </tr>\n",
       "    <tr>\n",
       "      <th>85</th>\n",
       "      <td>85</td>\n",
       "      <td>0.019176</td>\n",
       "      <td>2023-04-28 20:08:37.987030</td>\n",
       "      <td>gelu</td>\n",
       "      <td>NaN</td>\n",
       "      <td>NaN</td>\n",
       "      <td>0.0</td>\n",
       "      <td>32.0</td>\n",
       "      <td>True</td>\n",
       "      <td>False</td>\n",
       "      <td>True</td>\n",
       "      <td>True</td>\n",
       "      <td>0.000154</td>\n",
       "      <td>LSEL</td>\n",
       "      <td>32.0</td>\n",
       "      <td>Transformer</td>\n",
       "      <td>1.0</td>\n",
       "      <td>4.0</td>\n",
       "      <td>1500</td>\n",
       "      <td>rmsprop</td>\n",
       "      <td>1</td>\n",
       "      <td>0.7</td>\n",
       "      <td>0.4</td>\n",
       "      <td>unirandom</td>\n",
       "      <td>0.0002</td>\n",
       "      <td>NaN</td>\n",
       "    </tr>\n",
       "    <tr>\n",
       "      <th>86</th>\n",
       "      <td>86</td>\n",
       "      <td>0.017005</td>\n",
       "      <td>2023-04-28 20:15:35.785365</td>\n",
       "      <td>gelu</td>\n",
       "      <td>NaN</td>\n",
       "      <td>NaN</td>\n",
       "      <td>0.0</td>\n",
       "      <td>32.0</td>\n",
       "      <td>True</td>\n",
       "      <td>False</td>\n",
       "      <td>True</td>\n",
       "      <td>True</td>\n",
       "      <td>0.000199</td>\n",
       "      <td>LSEL</td>\n",
       "      <td>32.0</td>\n",
       "      <td>Transformer</td>\n",
       "      <td>1.0</td>\n",
       "      <td>4.0</td>\n",
       "      <td>1500</td>\n",
       "      <td>rmsprop</td>\n",
       "      <td>0</td>\n",
       "      <td>0.7</td>\n",
       "      <td>0.2</td>\n",
       "      <td>unirandom</td>\n",
       "      <td>0.0001</td>\n",
       "      <td>NaN</td>\n",
       "    </tr>\n",
       "    <tr>\n",
       "      <th>87</th>\n",
       "      <td>87</td>\n",
       "      <td>0.021040</td>\n",
       "      <td>2023-04-28 20:21:03.257689</td>\n",
       "      <td>gelu</td>\n",
       "      <td>NaN</td>\n",
       "      <td>NaN</td>\n",
       "      <td>0.0</td>\n",
       "      <td>32.0</td>\n",
       "      <td>True</td>\n",
       "      <td>False</td>\n",
       "      <td>True</td>\n",
       "      <td>True</td>\n",
       "      <td>0.000077</td>\n",
       "      <td>LSEL</td>\n",
       "      <td>32.0</td>\n",
       "      <td>Transformer</td>\n",
       "      <td>1.0</td>\n",
       "      <td>4.0</td>\n",
       "      <td>1500</td>\n",
       "      <td>rmsprop</td>\n",
       "      <td>0</td>\n",
       "      <td>0.8</td>\n",
       "      <td>0.1</td>\n",
       "      <td>unirandom</td>\n",
       "      <td>0.0002</td>\n",
       "      <td>NaN</td>\n",
       "    </tr>\n",
       "    <tr>\n",
       "      <th>88</th>\n",
       "      <td>88</td>\n",
       "      <td>0.022910</td>\n",
       "      <td>2023-04-28 20:26:50.685074</td>\n",
       "      <td>gelu</td>\n",
       "      <td>NaN</td>\n",
       "      <td>NaN</td>\n",
       "      <td>0.0</td>\n",
       "      <td>32.0</td>\n",
       "      <td>True</td>\n",
       "      <td>False</td>\n",
       "      <td>True</td>\n",
       "      <td>True</td>\n",
       "      <td>0.000142</td>\n",
       "      <td>LSEL</td>\n",
       "      <td>32.0</td>\n",
       "      <td>Transformer</td>\n",
       "      <td>1.0</td>\n",
       "      <td>4.0</td>\n",
       "      <td>500</td>\n",
       "      <td>rmsprop</td>\n",
       "      <td>0</td>\n",
       "      <td>0.9</td>\n",
       "      <td>0.2</td>\n",
       "      <td>unirandom</td>\n",
       "      <td>0.0003</td>\n",
       "      <td>NaN</td>\n",
       "    </tr>\n",
       "    <tr>\n",
       "      <th>89</th>\n",
       "      <td>89</td>\n",
       "      <td>0.017471</td>\n",
       "      <td>2023-04-28 20:30:38.474542</td>\n",
       "      <td>gelu</td>\n",
       "      <td>NaN</td>\n",
       "      <td>NaN</td>\n",
       "      <td>0.1</td>\n",
       "      <td>32.0</td>\n",
       "      <td>True</td>\n",
       "      <td>False</td>\n",
       "      <td>True</td>\n",
       "      <td>True</td>\n",
       "      <td>0.000109</td>\n",
       "      <td>LSEL</td>\n",
       "      <td>32.0</td>\n",
       "      <td>Transformer</td>\n",
       "      <td>1.0</td>\n",
       "      <td>4.0</td>\n",
       "      <td>1500</td>\n",
       "      <td>rmsprop</td>\n",
       "      <td>0</td>\n",
       "      <td>0.7</td>\n",
       "      <td>0.2</td>\n",
       "      <td>unirandom</td>\n",
       "      <td>0.0001</td>\n",
       "      <td>NaN</td>\n",
       "    </tr>\n",
       "    <tr>\n",
       "      <th>90</th>\n",
       "      <td>90</td>\n",
       "      <td>0.017825</td>\n",
       "      <td>2023-04-28 20:35:34.418644</td>\n",
       "      <td>gelu</td>\n",
       "      <td>NaN</td>\n",
       "      <td>NaN</td>\n",
       "      <td>0.0</td>\n",
       "      <td>32.0</td>\n",
       "      <td>False</td>\n",
       "      <td>False</td>\n",
       "      <td>True</td>\n",
       "      <td>True</td>\n",
       "      <td>0.000179</td>\n",
       "      <td>LLLR</td>\n",
       "      <td>32.0</td>\n",
       "      <td>Transformer</td>\n",
       "      <td>1.0</td>\n",
       "      <td>4.0</td>\n",
       "      <td>1500</td>\n",
       "      <td>rmsprop</td>\n",
       "      <td>0</td>\n",
       "      <td>0.6</td>\n",
       "      <td>0.5</td>\n",
       "      <td>unirandom</td>\n",
       "      <td>0.0003</td>\n",
       "      <td>NaN</td>\n",
       "    </tr>\n",
       "    <tr>\n",
       "      <th>91</th>\n",
       "      <td>91</td>\n",
       "      <td>0.018854</td>\n",
       "      <td>2023-04-28 20:40:59.142667</td>\n",
       "      <td>gelu</td>\n",
       "      <td>NaN</td>\n",
       "      <td>NaN</td>\n",
       "      <td>0.0</td>\n",
       "      <td>32.0</td>\n",
       "      <td>True</td>\n",
       "      <td>False</td>\n",
       "      <td>True</td>\n",
       "      <td>True</td>\n",
       "      <td>0.000233</td>\n",
       "      <td>LSEL</td>\n",
       "      <td>32.0</td>\n",
       "      <td>Transformer</td>\n",
       "      <td>1.0</td>\n",
       "      <td>4.0</td>\n",
       "      <td>1500</td>\n",
       "      <td>rmsprop</td>\n",
       "      <td>1</td>\n",
       "      <td>0.7</td>\n",
       "      <td>0.4</td>\n",
       "      <td>unirandom</td>\n",
       "      <td>0.0001</td>\n",
       "      <td>NaN</td>\n",
       "    </tr>\n",
       "    <tr>\n",
       "      <th>92</th>\n",
       "      <td>92</td>\n",
       "      <td>0.019291</td>\n",
       "      <td>2023-04-28 20:48:08.577020</td>\n",
       "      <td>B2Bcbrt</td>\n",
       "      <td>NaN</td>\n",
       "      <td>NaN</td>\n",
       "      <td>0.0</td>\n",
       "      <td>32.0</td>\n",
       "      <td>True</td>\n",
       "      <td>False</td>\n",
       "      <td>True</td>\n",
       "      <td>True</td>\n",
       "      <td>0.000201</td>\n",
       "      <td>LSEL</td>\n",
       "      <td>32.0</td>\n",
       "      <td>Transformer</td>\n",
       "      <td>1.0</td>\n",
       "      <td>4.0</td>\n",
       "      <td>1500</td>\n",
       "      <td>rmsprop</td>\n",
       "      <td>1</td>\n",
       "      <td>0.7</td>\n",
       "      <td>0.0</td>\n",
       "      <td>unirandom</td>\n",
       "      <td>0.0001</td>\n",
       "      <td>NaN</td>\n",
       "    </tr>\n",
       "    <tr>\n",
       "      <th>93</th>\n",
       "      <td>93</td>\n",
       "      <td>0.016436</td>\n",
       "      <td>2023-04-28 20:55:24.615923</td>\n",
       "      <td>gelu</td>\n",
       "      <td>NaN</td>\n",
       "      <td>NaN</td>\n",
       "      <td>0.0</td>\n",
       "      <td>32.0</td>\n",
       "      <td>True</td>\n",
       "      <td>False</td>\n",
       "      <td>True</td>\n",
       "      <td>True</td>\n",
       "      <td>0.000285</td>\n",
       "      <td>LSEL</td>\n",
       "      <td>32.0</td>\n",
       "      <td>Transformer</td>\n",
       "      <td>1.0</td>\n",
       "      <td>4.0</td>\n",
       "      <td>1500</td>\n",
       "      <td>rmsprop</td>\n",
       "      <td>1</td>\n",
       "      <td>0.6</td>\n",
       "      <td>0.6</td>\n",
       "      <td>unirandom</td>\n",
       "      <td>0.0002</td>\n",
       "      <td>NaN</td>\n",
       "    </tr>\n",
       "    <tr>\n",
       "      <th>94</th>\n",
       "      <td>94</td>\n",
       "      <td>0.017106</td>\n",
       "      <td>2023-04-28 21:03:05.327574</td>\n",
       "      <td>gelu</td>\n",
       "      <td>NaN</td>\n",
       "      <td>NaN</td>\n",
       "      <td>0.0</td>\n",
       "      <td>32.0</td>\n",
       "      <td>True</td>\n",
       "      <td>False</td>\n",
       "      <td>True</td>\n",
       "      <td>True</td>\n",
       "      <td>0.000270</td>\n",
       "      <td>LSEL</td>\n",
       "      <td>32.0</td>\n",
       "      <td>Transformer</td>\n",
       "      <td>1.0</td>\n",
       "      <td>4.0</td>\n",
       "      <td>1500</td>\n",
       "      <td>rmsprop</td>\n",
       "      <td>0</td>\n",
       "      <td>0.6</td>\n",
       "      <td>0.6</td>\n",
       "      <td>unirandom</td>\n",
       "      <td>0.0002</td>\n",
       "      <td>NaN</td>\n",
       "    </tr>\n",
       "    <tr>\n",
       "      <th>95</th>\n",
       "      <td>95</td>\n",
       "      <td>0.018758</td>\n",
       "      <td>2023-04-28 21:08:48.326976</td>\n",
       "      <td>gelu</td>\n",
       "      <td>NaN</td>\n",
       "      <td>NaN</td>\n",
       "      <td>0.0</td>\n",
       "      <td>32.0</td>\n",
       "      <td>True</td>\n",
       "      <td>False</td>\n",
       "      <td>True</td>\n",
       "      <td>True</td>\n",
       "      <td>0.000144</td>\n",
       "      <td>LSEL</td>\n",
       "      <td>32.0</td>\n",
       "      <td>Transformer</td>\n",
       "      <td>1.0</td>\n",
       "      <td>4.0</td>\n",
       "      <td>1500</td>\n",
       "      <td>rmsprop</td>\n",
       "      <td>1</td>\n",
       "      <td>0.6</td>\n",
       "      <td>0.3</td>\n",
       "      <td>unirandom</td>\n",
       "      <td>0.0002</td>\n",
       "      <td>NaN</td>\n",
       "    </tr>\n",
       "    <tr>\n",
       "      <th>96</th>\n",
       "      <td>96</td>\n",
       "      <td>0.017668</td>\n",
       "      <td>2023-04-28 21:15:58.880440</td>\n",
       "      <td>gelu</td>\n",
       "      <td>NaN</td>\n",
       "      <td>NaN</td>\n",
       "      <td>0.1</td>\n",
       "      <td>32.0</td>\n",
       "      <td>True</td>\n",
       "      <td>False</td>\n",
       "      <td>True</td>\n",
       "      <td>True</td>\n",
       "      <td>0.000101</td>\n",
       "      <td>LSEL</td>\n",
       "      <td>32.0</td>\n",
       "      <td>Transformer</td>\n",
       "      <td>1.0</td>\n",
       "      <td>4.0</td>\n",
       "      <td>1500</td>\n",
       "      <td>rmsprop</td>\n",
       "      <td>1</td>\n",
       "      <td>0.8</td>\n",
       "      <td>0.2</td>\n",
       "      <td>unirandom</td>\n",
       "      <td>0.0002</td>\n",
       "      <td>NaN</td>\n",
       "    </tr>\n",
       "    <tr>\n",
       "      <th>97</th>\n",
       "      <td>97</td>\n",
       "      <td>0.016546</td>\n",
       "      <td>2023-04-28 21:21:54.414410</td>\n",
       "      <td>gelu</td>\n",
       "      <td>NaN</td>\n",
       "      <td>NaN</td>\n",
       "      <td>0.0</td>\n",
       "      <td>32.0</td>\n",
       "      <td>True</td>\n",
       "      <td>False</td>\n",
       "      <td>True</td>\n",
       "      <td>True</td>\n",
       "      <td>0.000197</td>\n",
       "      <td>LSEL</td>\n",
       "      <td>32.0</td>\n",
       "      <td>Transformer</td>\n",
       "      <td>1.0</td>\n",
       "      <td>4.0</td>\n",
       "      <td>1500</td>\n",
       "      <td>rmsprop</td>\n",
       "      <td>0</td>\n",
       "      <td>0.4</td>\n",
       "      <td>0.6</td>\n",
       "      <td>unirandom</td>\n",
       "      <td>0.0003</td>\n",
       "      <td>NaN</td>\n",
       "    </tr>\n",
       "    <tr>\n",
       "      <th>98</th>\n",
       "      <td>98</td>\n",
       "      <td>0.022515</td>\n",
       "      <td>2023-04-28 21:27:18.206980</td>\n",
       "      <td>gelu</td>\n",
       "      <td>tanh</td>\n",
       "      <td>B2BsqrtV2</td>\n",
       "      <td>NaN</td>\n",
       "      <td>NaN</td>\n",
       "      <td>True</td>\n",
       "      <td>False</td>\n",
       "      <td>False</td>\n",
       "      <td>NaN</td>\n",
       "      <td>0.000250</td>\n",
       "      <td>LSEL</td>\n",
       "      <td>NaN</td>\n",
       "      <td>LSTM</td>\n",
       "      <td>NaN</td>\n",
       "      <td>NaN</td>\n",
       "      <td>1500</td>\n",
       "      <td>rmsprop</td>\n",
       "      <td>1</td>\n",
       "      <td>0.4</td>\n",
       "      <td>0.6</td>\n",
       "      <td>unirandom</td>\n",
       "      <td>0.0003</td>\n",
       "      <td>49.0</td>\n",
       "    </tr>\n",
       "    <tr>\n",
       "      <th>99</th>\n",
       "      <td>99</td>\n",
       "      <td>0.018663</td>\n",
       "      <td>2023-04-28 21:32:48.463110</td>\n",
       "      <td>B2Bcbrt</td>\n",
       "      <td>NaN</td>\n",
       "      <td>NaN</td>\n",
       "      <td>0.0</td>\n",
       "      <td>32.0</td>\n",
       "      <td>True</td>\n",
       "      <td>False</td>\n",
       "      <td>True</td>\n",
       "      <td>True</td>\n",
       "      <td>0.000124</td>\n",
       "      <td>LSEL</td>\n",
       "      <td>32.0</td>\n",
       "      <td>Transformer</td>\n",
       "      <td>1.0</td>\n",
       "      <td>4.0</td>\n",
       "      <td>1500</td>\n",
       "      <td>rmsprop</td>\n",
       "      <td>1</td>\n",
       "      <td>0.4</td>\n",
       "      <td>0.6</td>\n",
       "      <td>unirandom</td>\n",
       "      <td>0.0004</td>\n",
       "      <td>NaN</td>\n",
       "    </tr>\n",
       "  </tbody>\n",
       "</table>\n",
       "</div>"
      ],
      "text/plain": [
       "    number     value             datetime_start params_LIST_ACTIVATION_FC  \\\n",
       "0        0  0.049553 2023-04-28 03:50:32.785422                 B2BsqrtV2   \n",
       "1        1  0.052639 2023-04-28 04:10:30.956815                      gelu   \n",
       "2        2  0.139287 2023-04-28 04:14:44.441251                      gelu   \n",
       "3        3  0.074599 2023-04-28 04:19:38.452341                      relu   \n",
       "4        4  0.021068 2023-04-28 04:44:30.146056                      tanh   \n",
       "5        5  0.557850 2023-04-28 05:00:05.772272                      relu   \n",
       "6        6  0.114773 2023-04-28 05:06:28.792767                      tanh   \n",
       "7        7  0.581627 2023-04-28 05:14:14.937950                 B2BsqrtV2   \n",
       "8        8  0.025218 2023-04-28 05:28:44.513459                      gelu   \n",
       "9        9  0.023563 2023-04-28 05:34:19.529384                      gelu   \n",
       "10      10  0.018258 2023-04-28 05:52:23.332254                      tanh   \n",
       "11      11  0.018920 2023-04-28 06:24:34.126675                      tanh   \n",
       "12      12  0.018514 2023-04-28 06:47:16.328554                      tanh   \n",
       "13      13  0.021290 2023-04-28 07:10:01.099133                   B2Bsqrt   \n",
       "14      14  0.020449 2023-04-28 07:32:31.428034                   B2Bcbrt   \n",
       "15      15  0.022519 2023-04-28 07:55:57.617283                      tanh   \n",
       "16      16  0.023687 2023-04-28 08:20:11.394809                      tanh   \n",
       "17      17  0.125627 2023-04-28 08:44:14.090522                   B2Bcbrt   \n",
       "18      18  0.019521 2023-04-28 09:02:05.254539                   B2Bsqrt   \n",
       "19      19  0.019026 2023-04-28 09:06:58.543377                      tanh   \n",
       "20      20  0.021994 2023-04-28 09:23:33.818994                      tanh   \n",
       "21      21  0.018754 2023-04-28 09:46:23.363693                      tanh   \n",
       "22      22  0.017558 2023-04-28 10:07:42.533117                      tanh   \n",
       "23      23  0.019998 2023-04-28 10:30:40.562879                      tanh   \n",
       "24      24  0.021192 2023-04-28 10:54:40.189998                      tanh   \n",
       "25      25  0.021356 2023-04-28 11:11:02.338202                      tanh   \n",
       "26      26  0.017503 2023-04-28 11:34:03.733785                      relu   \n",
       "27      27  0.018216 2023-04-28 11:57:09.981599                      relu   \n",
       "28      28  0.023171 2023-04-28 12:12:34.410298                      relu   \n",
       "29      29  0.022056 2023-04-28 12:29:57.786258                      relu   \n",
       "30      30  0.021102 2023-04-28 12:48:00.104160                      relu   \n",
       "31      31  0.017411 2023-04-28 13:07:32.513709                 B2BsqrtV2   \n",
       "32      32  0.019484 2023-04-28 13:29:09.567200                 B2BsqrtV2   \n",
       "33      33  0.020790 2023-04-28 13:45:41.656239                 B2BsqrtV2   \n",
       "34      34  0.118621 2023-04-28 14:08:46.001352                      relu   \n",
       "35      35  0.022609 2023-04-28 14:30:26.713923                 B2BsqrtV2   \n",
       "36      36  0.018580 2023-04-28 14:48:27.743861                      relu   \n",
       "37      37  0.016636 2023-04-28 15:03:07.635433                      relu   \n",
       "38      38  0.347789 2023-04-28 15:09:22.511618                 B2BsqrtV2   \n",
       "39      39  0.017011 2023-04-28 15:15:02.206424                      relu   \n",
       "40      40  0.019569 2023-04-28 15:22:20.507660                      relu   \n",
       "41      41  0.017308 2023-04-28 15:28:13.102266                      relu   \n",
       "42      42  0.016974 2023-04-28 15:35:16.845698                      relu   \n",
       "43      43  0.017679 2023-04-28 15:42:12.901070                      relu   \n",
       "44      44  0.018753 2023-04-28 15:50:14.122488                      relu   \n",
       "45      45  0.019314 2023-04-28 15:56:27.710494                      relu   \n",
       "46      46  0.018069 2023-04-28 16:02:20.025272                      gelu   \n",
       "47      47  0.017033 2023-04-28 16:10:18.490202                   B2Bsqrt   \n",
       "48      48  0.021504 2023-04-28 16:16:11.970314                   B2Bsqrt   \n",
       "49      49  0.018155 2023-04-28 16:21:45.081701                   B2Bsqrt   \n",
       "50      50  0.018589 2023-04-28 16:27:34.114359                   B2Bsqrt   \n",
       "51      51  0.018658 2023-04-28 16:33:27.789859                      relu   \n",
       "52      52  0.017486 2023-04-28 16:39:22.089550                   B2Bcbrt   \n",
       "53      53  0.017171 2023-04-28 16:45:16.102577                 B2BsqrtV2   \n",
       "54      54  0.027486 2023-04-28 16:51:44.997652                   B2Bsqrt   \n",
       "55      55  0.021634 2023-04-28 16:56:40.755052                      gelu   \n",
       "56      56  0.017609 2023-04-28 17:02:59.944442                      relu   \n",
       "57      57  0.018078 2023-04-28 17:08:44.033783                      relu   \n",
       "58      58  0.015880 2023-04-28 17:15:32.291490                   B2Bcbrt   \n",
       "59      59  0.020364 2023-04-28 17:21:17.977921                   B2Bcbrt   \n",
       "60      60  0.018354 2023-04-28 17:27:41.397500                   B2Bcbrt   \n",
       "61      61  0.018104 2023-04-28 17:33:35.342615                   B2Bcbrt   \n",
       "62      62  0.017975 2023-04-28 17:39:21.832802                   B2Bcbrt   \n",
       "63      63  0.019442 2023-04-28 17:45:12.820425                   B2Bsqrt   \n",
       "64      64  0.017420 2023-04-28 17:51:04.109103                 B2BsqrtV2   \n",
       "65      65  0.023508 2023-04-28 17:57:56.825878                      relu   \n",
       "66      66  0.017622 2023-04-28 18:04:15.268151                      relu   \n",
       "67      67  0.017135 2023-04-28 18:12:54.058588                      gelu   \n",
       "68      68  0.016652 2023-04-28 18:19:45.809094                      gelu   \n",
       "69      69  0.019009 2023-04-28 18:26:41.782976                      gelu   \n",
       "70      70  0.017730 2023-04-28 18:32:05.637177                      gelu   \n",
       "71      71  0.016854 2023-04-28 18:42:34.754840                      gelu   \n",
       "72      72  0.018127 2023-04-28 18:49:36.591969                      gelu   \n",
       "73      73  0.018881 2023-04-28 18:56:35.645432                      gelu   \n",
       "74      74  0.018246 2023-04-28 19:03:30.937737                      gelu   \n",
       "75      75  0.017817 2023-04-28 19:10:28.569436                      gelu   \n",
       "76      76  0.017528 2023-04-28 19:17:25.614197                      gelu   \n",
       "77      77  0.017611 2023-04-28 19:22:06.885388                      gelu   \n",
       "78      78  0.015432 2023-04-28 19:29:07.317690                      gelu   \n",
       "79      79  0.016986 2023-04-28 19:36:09.739685                      gelu   \n",
       "80      80  0.018717 2023-04-28 19:40:59.109411                      gelu   \n",
       "81      81  0.018149 2023-04-28 19:45:45.501052                      gelu   \n",
       "82      82  0.018730 2023-04-28 19:50:27.138026                      gelu   \n",
       "83      83  0.017553 2023-04-28 19:55:51.045808                   B2Bsqrt   \n",
       "84      84  0.016191 2023-04-28 20:01:40.872521                      gelu   \n",
       "85      85  0.019176 2023-04-28 20:08:37.987030                      gelu   \n",
       "86      86  0.017005 2023-04-28 20:15:35.785365                      gelu   \n",
       "87      87  0.021040 2023-04-28 20:21:03.257689                      gelu   \n",
       "88      88  0.022910 2023-04-28 20:26:50.685074                      gelu   \n",
       "89      89  0.017471 2023-04-28 20:30:38.474542                      gelu   \n",
       "90      90  0.017825 2023-04-28 20:35:34.418644                      gelu   \n",
       "91      91  0.018854 2023-04-28 20:40:59.142667                      gelu   \n",
       "92      92  0.019291 2023-04-28 20:48:08.577020                   B2Bcbrt   \n",
       "93      93  0.016436 2023-04-28 20:55:24.615923                      gelu   \n",
       "94      94  0.017106 2023-04-28 21:03:05.327574                      gelu   \n",
       "95      95  0.018758 2023-04-28 21:08:48.326976                      gelu   \n",
       "96      96  0.017668 2023-04-28 21:15:58.880440                      gelu   \n",
       "97      97  0.016546 2023-04-28 21:21:54.414410                      gelu   \n",
       "98      98  0.022515 2023-04-28 21:27:18.206980                      gelu   \n",
       "99      99  0.018663 2023-04-28 21:32:48.463110                   B2Bcbrt   \n",
       "\n",
       "   params_LIST_ACTIVATION_INPUT params_LIST_ACTIVATION_OUTPUT  \\\n",
       "0                           NaN                           NaN   \n",
       "1                       sigmoid                       B2Bcbrt   \n",
       "2                          tanh                          tanh   \n",
       "3                       sigmoid                          tanh   \n",
       "4                           NaN                           NaN   \n",
       "5                       sigmoid                       B2Bcbrt   \n",
       "6                       sigmoid                     B2BsqrtV2   \n",
       "7                       sigmoid                          tanh   \n",
       "8                           NaN                           NaN   \n",
       "9                           NaN                           NaN   \n",
       "10                          NaN                           NaN   \n",
       "11                          NaN                           NaN   \n",
       "12                          NaN                           NaN   \n",
       "13                          NaN                           NaN   \n",
       "14                          NaN                           NaN   \n",
       "15                          NaN                           NaN   \n",
       "16                          NaN                           NaN   \n",
       "17                          NaN                           NaN   \n",
       "18                          NaN                           NaN   \n",
       "19                          NaN                           NaN   \n",
       "20                          NaN                           NaN   \n",
       "21                          NaN                           NaN   \n",
       "22                          NaN                           NaN   \n",
       "23                          NaN                           NaN   \n",
       "24                          NaN                           NaN   \n",
       "25                          NaN                           NaN   \n",
       "26                          NaN                           NaN   \n",
       "27                          NaN                           NaN   \n",
       "28                          NaN                           NaN   \n",
       "29                          NaN                           NaN   \n",
       "30                          NaN                           NaN   \n",
       "31                          NaN                           NaN   \n",
       "32                          NaN                           NaN   \n",
       "33                          NaN                           NaN   \n",
       "34                         tanh                       B2Bsqrt   \n",
       "35                          NaN                           NaN   \n",
       "36                         tanh                       sigmoid   \n",
       "37                          NaN                           NaN   \n",
       "38                         tanh                     B2BsqrtV2   \n",
       "39                          NaN                           NaN   \n",
       "40                         tanh                       B2Bsqrt   \n",
       "41                          NaN                           NaN   \n",
       "42                          NaN                           NaN   \n",
       "43                          NaN                           NaN   \n",
       "44                          NaN                           NaN   \n",
       "45                          NaN                           NaN   \n",
       "46                          NaN                           NaN   \n",
       "47                          NaN                           NaN   \n",
       "48                         tanh                       sigmoid   \n",
       "49                          NaN                           NaN   \n",
       "50                          NaN                           NaN   \n",
       "51                          NaN                           NaN   \n",
       "52                          NaN                           NaN   \n",
       "53                          NaN                           NaN   \n",
       "54                          NaN                           NaN   \n",
       "55                          NaN                           NaN   \n",
       "56                          NaN                           NaN   \n",
       "57                          NaN                           NaN   \n",
       "58                          NaN                           NaN   \n",
       "59                          NaN                           NaN   \n",
       "60                          NaN                           NaN   \n",
       "61                          NaN                           NaN   \n",
       "62                          NaN                           NaN   \n",
       "63                          NaN                           NaN   \n",
       "64                          NaN                           NaN   \n",
       "65                          NaN                           NaN   \n",
       "66                          NaN                           NaN   \n",
       "67                          NaN                           NaN   \n",
       "68                          NaN                           NaN   \n",
       "69                      sigmoid                       sigmoid   \n",
       "70                          NaN                           NaN   \n",
       "71                          NaN                           NaN   \n",
       "72                          NaN                           NaN   \n",
       "73                          NaN                           NaN   \n",
       "74                          NaN                           NaN   \n",
       "75                          NaN                           NaN   \n",
       "76                          NaN                           NaN   \n",
       "77                          NaN                           NaN   \n",
       "78                          NaN                           NaN   \n",
       "79                          NaN                           NaN   \n",
       "80                      sigmoid                       B2Bcbrt   \n",
       "81                          NaN                           NaN   \n",
       "82                          NaN                           NaN   \n",
       "83                          NaN                           NaN   \n",
       "84                          NaN                           NaN   \n",
       "85                          NaN                           NaN   \n",
       "86                          NaN                           NaN   \n",
       "87                          NaN                           NaN   \n",
       "88                          NaN                           NaN   \n",
       "89                          NaN                           NaN   \n",
       "90                          NaN                           NaN   \n",
       "91                          NaN                           NaN   \n",
       "92                          NaN                           NaN   \n",
       "93                          NaN                           NaN   \n",
       "94                          NaN                           NaN   \n",
       "95                          NaN                           NaN   \n",
       "96                          NaN                           NaN   \n",
       "97                          NaN                           NaN   \n",
       "98                         tanh                     B2BsqrtV2   \n",
       "99                          NaN                           NaN   \n",
       "\n",
       "    params_LIST_DROPOUT  params_LIST_FF_DIM  params_LIST_IS_ADAPTIVE_LOSS  \\\n",
       "0                   0.0                32.0                          True   \n",
       "1                   NaN                 NaN                          True   \n",
       "2                   NaN                 NaN                         False   \n",
       "3                   NaN                 NaN                         False   \n",
       "4                   0.3                32.0                         False   \n",
       "5                   NaN                 NaN                         False   \n",
       "6                   NaN                 NaN                          True   \n",
       "7                   NaN                 NaN                          True   \n",
       "8                   0.4                32.0                         False   \n",
       "9                   0.3                64.0                          True   \n",
       "10                  0.1                32.0                         False   \n",
       "11                  0.1                32.0                         False   \n",
       "12                  0.0                32.0                         False   \n",
       "13                  0.1                64.0                         False   \n",
       "14                  0.0                32.0                         False   \n",
       "15                  0.1                32.0                         False   \n",
       "16                  0.2                64.0                         False   \n",
       "17                  0.0                32.0                         False   \n",
       "18                  0.5                32.0                         False   \n",
       "19                  0.2                32.0                         False   \n",
       "20                  0.1                64.0                         False   \n",
       "21                  0.1                32.0                         False   \n",
       "22                  0.0                32.0                         False   \n",
       "23                  0.0                32.0                         False   \n",
       "24                  0.0                32.0                         False   \n",
       "25                  0.2                32.0                         False   \n",
       "26                  0.0                32.0                          True   \n",
       "27                  0.1                32.0                          True   \n",
       "28                  0.0                64.0                          True   \n",
       "29                  0.1                32.0                          True   \n",
       "30                  0.2                32.0                          True   \n",
       "31                  0.1                32.0                          True   \n",
       "32                  0.0                32.0                          True   \n",
       "33                  0.1                32.0                          True   \n",
       "34                  NaN                 NaN                          True   \n",
       "35                  0.0                32.0                          True   \n",
       "36                  NaN                 NaN                          True   \n",
       "37                  0.1                32.0                          True   \n",
       "38                  NaN                 NaN                          True   \n",
       "39                  0.0                32.0                          True   \n",
       "40                  NaN                 NaN                          True   \n",
       "41                  0.0                32.0                          True   \n",
       "42                  0.0                32.0                          True   \n",
       "43                  0.0                32.0                          True   \n",
       "44                  0.1                32.0                          True   \n",
       "45                  0.3                32.0                          True   \n",
       "46                  0.0                32.0                          True   \n",
       "47                  0.3                32.0                          True   \n",
       "48                  NaN                 NaN                          True   \n",
       "49                  0.4                32.0                          True   \n",
       "50                  0.4                32.0                          True   \n",
       "51                  0.3                32.0                          True   \n",
       "52                  0.3                32.0                          True   \n",
       "53                  0.2                32.0                          True   \n",
       "54                  0.2                32.0                          True   \n",
       "55                  0.3                32.0                          True   \n",
       "56                  0.2                32.0                          True   \n",
       "57                  0.1                32.0                          True   \n",
       "58                  0.2                32.0                          True   \n",
       "59                  0.2                64.0                          True   \n",
       "60                  0.2                32.0                          True   \n",
       "61                  0.3                32.0                          True   \n",
       "62                  0.4                32.0                          True   \n",
       "63                  0.2                32.0                          True   \n",
       "64                  0.0                32.0                          True   \n",
       "65                  0.3                32.0                          True   \n",
       "66                  0.1                32.0                          True   \n",
       "67                  0.0                32.0                          True   \n",
       "68                  0.0                32.0                          True   \n",
       "69                  NaN                 NaN                          True   \n",
       "70                  0.0                32.0                          True   \n",
       "71                  0.0                32.0                          True   \n",
       "72                  0.0                32.0                          True   \n",
       "73                  0.0                32.0                          True   \n",
       "74                  0.0                32.0                          True   \n",
       "75                  0.0                32.0                          True   \n",
       "76                  0.1                32.0                          True   \n",
       "77                  0.0                64.0                          True   \n",
       "78                  0.0                32.0                          True   \n",
       "79                  0.1                32.0                          True   \n",
       "80                  NaN                 NaN                          True   \n",
       "81                  0.1                32.0                          True   \n",
       "82                  0.0                32.0                          True   \n",
       "83                  0.1                32.0                          True   \n",
       "84                  0.0                32.0                          True   \n",
       "85                  0.0                32.0                          True   \n",
       "86                  0.0                32.0                          True   \n",
       "87                  0.0                32.0                          True   \n",
       "88                  0.0                32.0                          True   \n",
       "89                  0.1                32.0                          True   \n",
       "90                  0.0                32.0                         False   \n",
       "91                  0.0                32.0                          True   \n",
       "92                  0.0                32.0                          True   \n",
       "93                  0.0                32.0                          True   \n",
       "94                  0.0                32.0                          True   \n",
       "95                  0.0                32.0                          True   \n",
       "96                  0.1                32.0                          True   \n",
       "97                  0.0                32.0                          True   \n",
       "98                  NaN                 NaN                          True   \n",
       "99                  0.0                32.0                          True   \n",
       "\n",
       "    params_LIST_IS_NORMALIZE  params_LIST_IS_POSITIONAL_ENCODING  \\\n",
       "0                       True                               False   \n",
       "1                      False                                True   \n",
       "2                       True                                True   \n",
       "3                      False                                True   \n",
       "4                      False                               False   \n",
       "5                       True                               False   \n",
       "6                      False                               False   \n",
       "7                      False                                True   \n",
       "8                      False                                True   \n",
       "9                      False                                True   \n",
       "10                      True                               False   \n",
       "11                      True                               False   \n",
       "12                      True                               False   \n",
       "13                      True                               False   \n",
       "14                      True                               False   \n",
       "15                      True                               False   \n",
       "16                      True                               False   \n",
       "17                      True                               False   \n",
       "18                      True                               False   \n",
       "19                      True                               False   \n",
       "20                      True                               False   \n",
       "21                      True                               False   \n",
       "22                      True                               False   \n",
       "23                      True                               False   \n",
       "24                      True                               False   \n",
       "25                      True                               False   \n",
       "26                      True                               False   \n",
       "27                      True                               False   \n",
       "28                      True                               False   \n",
       "29                      True                               False   \n",
       "30                      True                               False   \n",
       "31                      True                               False   \n",
       "32                      True                               False   \n",
       "33                      True                               False   \n",
       "34                      True                                True   \n",
       "35                      True                               False   \n",
       "36                      True                                True   \n",
       "37                     False                               False   \n",
       "38                     False                               False   \n",
       "39                     False                                True   \n",
       "40                     False                                True   \n",
       "41                     False                                True   \n",
       "42                     False                                True   \n",
       "43                     False                                True   \n",
       "44                     False                                True   \n",
       "45                     False                                True   \n",
       "46                     False                                True   \n",
       "47                     False                                True   \n",
       "48                     False                                True   \n",
       "49                     False                                True   \n",
       "50                     False                                True   \n",
       "51                     False                                True   \n",
       "52                     False                                True   \n",
       "53                     False                                True   \n",
       "54                     False                                True   \n",
       "55                     False                                True   \n",
       "56                     False                                True   \n",
       "57                     False                                True   \n",
       "58                     False                                True   \n",
       "59                     False                                True   \n",
       "60                     False                                True   \n",
       "61                     False                                True   \n",
       "62                     False                                True   \n",
       "63                     False                                True   \n",
       "64                     False                                True   \n",
       "65                     False                                True   \n",
       "66                     False                                True   \n",
       "67                     False                                True   \n",
       "68                     False                                True   \n",
       "69                     False                                True   \n",
       "70                     False                                True   \n",
       "71                     False                                True   \n",
       "72                     False                                True   \n",
       "73                     False                                True   \n",
       "74                     False                                True   \n",
       "75                     False                                True   \n",
       "76                     False                                True   \n",
       "77                     False                                True   \n",
       "78                     False                                True   \n",
       "79                     False                                True   \n",
       "80                     False                                True   \n",
       "81                     False                                True   \n",
       "82                     False                                True   \n",
       "83                     False                                True   \n",
       "84                     False                                True   \n",
       "85                     False                                True   \n",
       "86                     False                                True   \n",
       "87                     False                                True   \n",
       "88                     False                                True   \n",
       "89                     False                                True   \n",
       "90                     False                                True   \n",
       "91                     False                                True   \n",
       "92                     False                                True   \n",
       "93                     False                                True   \n",
       "94                     False                                True   \n",
       "95                     False                                True   \n",
       "96                     False                                True   \n",
       "97                     False                                True   \n",
       "98                     False                               False   \n",
       "99                     False                                True   \n",
       "\n",
       "   params_LIST_IS_TRAINABLE_ENCODING  params_LIST_LEARNING_RATE  \\\n",
       "0                                NaN                   0.000004   \n",
       "1                               True                   0.000033   \n",
       "2                               True                   0.000017   \n",
       "3                               True                   0.000013   \n",
       "4                                NaN                   0.000044   \n",
       "5                                NaN                   0.000007   \n",
       "6                                NaN                   0.000009   \n",
       "7                              False                   0.000103   \n",
       "8                               True                   0.000050   \n",
       "9                               True                   0.000061   \n",
       "10                               NaN                   0.000483   \n",
       "11                               NaN                   0.000793   \n",
       "12                               NaN                   0.000871   \n",
       "13                               NaN                   0.000885   \n",
       "14                               NaN                   0.000305   \n",
       "15                               NaN                   0.000249   \n",
       "16                               NaN                   0.000377   \n",
       "17                               NaN                   0.000001   \n",
       "18                               NaN                   0.000137   \n",
       "19                               NaN                   0.000998   \n",
       "20                               NaN                   0.000484   \n",
       "21                               NaN                   0.000594   \n",
       "22                               NaN                   0.000195   \n",
       "23                               NaN                   0.000183   \n",
       "24                               NaN                   0.000447   \n",
       "25                               NaN                   0.000213   \n",
       "26                               NaN                   0.000105   \n",
       "27                               NaN                   0.000092   \n",
       "28                               NaN                   0.000087   \n",
       "29                               NaN                   0.000146   \n",
       "30                               NaN                   0.000090   \n",
       "31                               NaN                   0.000252   \n",
       "32                               NaN                   0.000265   \n",
       "33                               NaN                   0.000152   \n",
       "34                             False                   0.000027   \n",
       "35                               NaN                   0.000065   \n",
       "36                             False                   0.000109   \n",
       "37                               NaN                   0.000203   \n",
       "38                               NaN                   0.000210   \n",
       "39                             False                   0.000344   \n",
       "40                             False                   0.000351   \n",
       "41                             False                   0.000279   \n",
       "42                             False                   0.000300   \n",
       "43                             False                   0.000313   \n",
       "44                             False                   0.000285   \n",
       "45                             False                   0.000665   \n",
       "46                             False                   0.000568   \n",
       "47                             False                   0.000423   \n",
       "48                             False                   0.000504   \n",
       "49                             False                   0.000708   \n",
       "50                             False                   0.000396   \n",
       "51                             False                   0.000359   \n",
       "52                             False                   0.000262   \n",
       "53                             False                   0.000401   \n",
       "54                             False                   0.000424   \n",
       "55                             False                   0.000586   \n",
       "56                             False                   0.000787   \n",
       "57                             False                   0.000337   \n",
       "58                             False                   0.000176   \n",
       "59                             False                   0.000169   \n",
       "60                             False                   0.000962   \n",
       "61                             False                   0.000215   \n",
       "62                             False                   0.000405   \n",
       "63                             False                   0.000528   \n",
       "64                             False                   0.000174   \n",
       "65                             False                   0.000227   \n",
       "66                              True                   0.000126   \n",
       "67                             False                   0.000319   \n",
       "68                              True                   0.000455   \n",
       "69                              True                   0.000676   \n",
       "70                              True                   0.000498   \n",
       "71                              True                   0.000326   \n",
       "72                              True                   0.000317   \n",
       "73                              True                   0.000230   \n",
       "74                              True                   0.000166   \n",
       "75                              True                   0.000309   \n",
       "76                              True                   0.000452   \n",
       "77                              True                   0.000208   \n",
       "78                              True                   0.000130   \n",
       "79                              True                   0.000132   \n",
       "80                              True                   0.000121   \n",
       "81                              True                   0.000137   \n",
       "82                              True                   0.000181   \n",
       "83                              True                   0.000262   \n",
       "84                              True                   0.000157   \n",
       "85                              True                   0.000154   \n",
       "86                              True                   0.000199   \n",
       "87                              True                   0.000077   \n",
       "88                              True                   0.000142   \n",
       "89                              True                   0.000109   \n",
       "90                              True                   0.000179   \n",
       "91                              True                   0.000233   \n",
       "92                              True                   0.000201   \n",
       "93                              True                   0.000285   \n",
       "94                              True                   0.000270   \n",
       "95                              True                   0.000144   \n",
       "96                              True                   0.000101   \n",
       "97                              True                   0.000197   \n",
       "98                               NaN                   0.000250   \n",
       "99                              True                   0.000124   \n",
       "\n",
       "   params_LIST_LLLR_VERSION  params_LIST_MLP_UNITS params_LIST_MODEL_BACKBONE  \\\n",
       "0                      LSEL                   32.0                Transformer   \n",
       "1                      LLLR                    NaN                       LSTM   \n",
       "2                      LLLR                    NaN                       LSTM   \n",
       "3                      LSEL                    NaN                       LSTM   \n",
       "4                      LLLR                   64.0                Transformer   \n",
       "5                      LSEL                    NaN                       LSTM   \n",
       "6                      LSEL                    NaN                       LSTM   \n",
       "7                      LLLR                    NaN                       LSTM   \n",
       "8                      LLLR                   64.0                Transformer   \n",
       "9                      LSEL                   32.0                Transformer   \n",
       "10                     LLLR                   64.0                Transformer   \n",
       "11                     LLLR                   64.0                Transformer   \n",
       "12                     LLLR                   64.0                Transformer   \n",
       "13                     LLLR                   64.0                Transformer   \n",
       "14                     LLLR                   64.0                Transformer   \n",
       "15                     LLLR                   64.0                Transformer   \n",
       "16                     LLLR                   32.0                Transformer   \n",
       "17                     LLLR                   64.0                Transformer   \n",
       "18                     LLLR                   64.0                Transformer   \n",
       "19                     LLLR                   64.0                Transformer   \n",
       "20                     LLLR                   32.0                Transformer   \n",
       "21                     LLLR                   64.0                Transformer   \n",
       "22                     LLLR                   64.0                Transformer   \n",
       "23                     LLLR                   64.0                Transformer   \n",
       "24                     LLLR                   64.0                Transformer   \n",
       "25                     LLLR                   64.0                Transformer   \n",
       "26                     LSEL                   64.0                Transformer   \n",
       "27                     LSEL                   64.0                Transformer   \n",
       "28                     LSEL                   32.0                Transformer   \n",
       "29                     LSEL                   64.0                Transformer   \n",
       "30                     LSEL                   64.0                Transformer   \n",
       "31                     LSEL                   64.0                Transformer   \n",
       "32                     LSEL                   64.0                Transformer   \n",
       "33                     LSEL                   64.0                Transformer   \n",
       "34                     LSEL                    NaN                       LSTM   \n",
       "35                     LSEL                   64.0                Transformer   \n",
       "36                     LSEL                    NaN                       LSTM   \n",
       "37                     LSEL                   64.0                Transformer   \n",
       "38                     LSEL                    NaN                       LSTM   \n",
       "39                     LSEL                   32.0                Transformer   \n",
       "40                     LSEL                    NaN                       LSTM   \n",
       "41                     LSEL                   32.0                Transformer   \n",
       "42                     LSEL                   32.0                Transformer   \n",
       "43                     LSEL                   32.0                Transformer   \n",
       "44                     LSEL                   32.0                Transformer   \n",
       "45                     LSEL                   32.0                Transformer   \n",
       "46                     LSEL                   32.0                Transformer   \n",
       "47                     LSEL                   32.0                Transformer   \n",
       "48                     LSEL                    NaN                       LSTM   \n",
       "49                     LSEL                   32.0                Transformer   \n",
       "50                     LSEL                   32.0                Transformer   \n",
       "51                     LSEL                   32.0                Transformer   \n",
       "52                     LSEL                   32.0                Transformer   \n",
       "53                     LSEL                   32.0                Transformer   \n",
       "54                     LSEL                   32.0                Transformer   \n",
       "55                     LSEL                   32.0                Transformer   \n",
       "56                     LSEL                   32.0                Transformer   \n",
       "57                     LSEL                   32.0                Transformer   \n",
       "58                     LSEL                   32.0                Transformer   \n",
       "59                     LSEL                   32.0                Transformer   \n",
       "60                     LSEL                   32.0                Transformer   \n",
       "61                     LSEL                   32.0                Transformer   \n",
       "62                     LSEL                   32.0                Transformer   \n",
       "63                     LSEL                   32.0                Transformer   \n",
       "64                     LSEL                   32.0                Transformer   \n",
       "65                     LSEL                   32.0                Transformer   \n",
       "66                     LSEL                   32.0                Transformer   \n",
       "67                     LSEL                   32.0                Transformer   \n",
       "68                     LSEL                   32.0                Transformer   \n",
       "69                     LSEL                    NaN                       LSTM   \n",
       "70                     LSEL                   32.0                Transformer   \n",
       "71                     LSEL                   32.0                Transformer   \n",
       "72                     LSEL                   32.0                Transformer   \n",
       "73                     LSEL                   32.0                Transformer   \n",
       "74                     LSEL                   32.0                Transformer   \n",
       "75                     LSEL                   32.0                Transformer   \n",
       "76                     LSEL                   32.0                Transformer   \n",
       "77                     LSEL                   32.0                Transformer   \n",
       "78                     LSEL                   32.0                Transformer   \n",
       "79                     LSEL                   32.0                Transformer   \n",
       "80                     LSEL                    NaN                       LSTM   \n",
       "81                     LSEL                   32.0                Transformer   \n",
       "82                     LSEL                   32.0                Transformer   \n",
       "83                     LSEL                   32.0                Transformer   \n",
       "84                     LSEL                   32.0                Transformer   \n",
       "85                     LSEL                   32.0                Transformer   \n",
       "86                     LSEL                   32.0                Transformer   \n",
       "87                     LSEL                   32.0                Transformer   \n",
       "88                     LSEL                   32.0                Transformer   \n",
       "89                     LSEL                   32.0                Transformer   \n",
       "90                     LLLR                   32.0                Transformer   \n",
       "91                     LSEL                   32.0                Transformer   \n",
       "92                     LSEL                   32.0                Transformer   \n",
       "93                     LSEL                   32.0                Transformer   \n",
       "94                     LSEL                   32.0                Transformer   \n",
       "95                     LSEL                   32.0                Transformer   \n",
       "96                     LSEL                   32.0                Transformer   \n",
       "97                     LSEL                   32.0                Transformer   \n",
       "98                     LSEL                    NaN                       LSTM   \n",
       "99                     LSEL                   32.0                Transformer   \n",
       "\n",
       "    params_LIST_NUM_BLOCKS  params_LIST_NUM_HEADS  params_LIST_NUM_THRESH  \\\n",
       "0                      1.0                    4.0                    1000   \n",
       "1                      NaN                    NaN                     500   \n",
       "2                      NaN                    NaN                     500   \n",
       "3                      NaN                    NaN                    1000   \n",
       "4                      2.0                    2.0                     500   \n",
       "5                      NaN                    NaN                    1000   \n",
       "6                      NaN                    NaN                    1500   \n",
       "7                      NaN                    NaN                     500   \n",
       "8                      1.0                    2.0                     500   \n",
       "9                      2.0                    4.0                     500   \n",
       "10                     2.0                    2.0                    1500   \n",
       "11                     2.0                    2.0                    1500   \n",
       "12                     2.0                    2.0                    1500   \n",
       "13                     2.0                    2.0                    1500   \n",
       "14                     2.0                    2.0                    1500   \n",
       "15                     2.0                    2.0                    1500   \n",
       "16                     1.0                    4.0                    1500   \n",
       "17                     2.0                    2.0                    1000   \n",
       "18                     2.0                    2.0                    1500   \n",
       "19                     2.0                    2.0                    1000   \n",
       "20                     1.0                    4.0                    1500   \n",
       "21                     2.0                    2.0                    1500   \n",
       "22                     2.0                    2.0                    1500   \n",
       "23                     2.0                    2.0                    1500   \n",
       "24                     2.0                    2.0                    1000   \n",
       "25                     2.0                    2.0                    1500   \n",
       "26                     2.0                    2.0                    1500   \n",
       "27                     2.0                    2.0                    1000   \n",
       "28                     1.0                    4.0                    1000   \n",
       "29                     2.0                    2.0                    1000   \n",
       "30                     2.0                    2.0                    1000   \n",
       "31                     2.0                    2.0                    1500   \n",
       "32                     2.0                    2.0                    1000   \n",
       "33                     2.0                    2.0                    1500   \n",
       "34                     NaN                    NaN                    1500   \n",
       "35                     2.0                    2.0                    1000   \n",
       "36                     NaN                    NaN                    1000   \n",
       "37                     2.0                    2.0                    1500   \n",
       "38                     NaN                    NaN                    1500   \n",
       "39                     1.0                    4.0                    1500   \n",
       "40                     NaN                    NaN                    1500   \n",
       "41                     1.0                    4.0                    1500   \n",
       "42                     1.0                    4.0                    1500   \n",
       "43                     1.0                    4.0                    1500   \n",
       "44                     1.0                    4.0                    1500   \n",
       "45                     1.0                    4.0                    1500   \n",
       "46                     1.0                    4.0                    1500   \n",
       "47                     1.0                    4.0                    1500   \n",
       "48                     NaN                    NaN                    1500   \n",
       "49                     1.0                    4.0                    1500   \n",
       "50                     1.0                    4.0                    1500   \n",
       "51                     1.0                    4.0                    1500   \n",
       "52                     1.0                    4.0                    1500   \n",
       "53                     1.0                    4.0                    1500   \n",
       "54                     1.0                    4.0                     500   \n",
       "55                     1.0                    4.0                    1500   \n",
       "56                     1.0                    4.0                    1500   \n",
       "57                     1.0                    4.0                    1500   \n",
       "58                     1.0                    4.0                    1500   \n",
       "59                     1.0                    4.0                    1500   \n",
       "60                     1.0                    4.0                    1500   \n",
       "61                     1.0                    4.0                    1500   \n",
       "62                     1.0                    4.0                    1500   \n",
       "63                     1.0                    4.0                    1500   \n",
       "64                     1.0                    4.0                    1500   \n",
       "65                     1.0                    4.0                    1500   \n",
       "66                     1.0                    4.0                    1500   \n",
       "67                     1.0                    4.0                    1500   \n",
       "68                     1.0                    4.0                    1500   \n",
       "69                     NaN                    NaN                    1500   \n",
       "70                     1.0                    4.0                    1500   \n",
       "71                     1.0                    4.0                    1500   \n",
       "72                     1.0                    4.0                    1500   \n",
       "73                     1.0                    4.0                    1500   \n",
       "74                     1.0                    4.0                    1500   \n",
       "75                     1.0                    4.0                    1500   \n",
       "76                     1.0                    4.0                    1500   \n",
       "77                     1.0                    4.0                    1500   \n",
       "78                     1.0                    4.0                    1500   \n",
       "79                     1.0                    4.0                    1500   \n",
       "80                     NaN                    NaN                    1500   \n",
       "81                     1.0                    4.0                    1500   \n",
       "82                     1.0                    4.0                    1500   \n",
       "83                     1.0                    4.0                    1500   \n",
       "84                     1.0                    4.0                    1500   \n",
       "85                     1.0                    4.0                    1500   \n",
       "86                     1.0                    4.0                    1500   \n",
       "87                     1.0                    4.0                    1500   \n",
       "88                     1.0                    4.0                     500   \n",
       "89                     1.0                    4.0                    1500   \n",
       "90                     1.0                    4.0                    1500   \n",
       "91                     1.0                    4.0                    1500   \n",
       "92                     1.0                    4.0                    1500   \n",
       "93                     1.0                    4.0                    1500   \n",
       "94                     1.0                    4.0                    1500   \n",
       "95                     1.0                    4.0                    1500   \n",
       "96                     1.0                    4.0                    1500   \n",
       "97                     1.0                    4.0                    1500   \n",
       "98                     NaN                    NaN                    1500   \n",
       "99                     1.0                    4.0                    1500   \n",
       "\n",
       "   params_LIST_OPTIMIZER  params_LIST_ORDER_SPRT  params_LIST_PARAM_LLR_LOSS  \\\n",
       "0                rmsprop                       2                         0.8   \n",
       "1                   adam                       1                         0.1   \n",
       "2                   adam                       2                         0.6   \n",
       "3                   adam                       5                         0.5   \n",
       "4                rmsprop                       2                         0.9   \n",
       "5                rmsprop                       5                         1.0   \n",
       "6                   adam                       2                         0.5   \n",
       "7                   adam                       2                         0.5   \n",
       "8                   adam                       2                         0.9   \n",
       "9                   adam                       3                         0.9   \n",
       "10               rmsprop                       0                         0.1   \n",
       "11               rmsprop                       0                         0.0   \n",
       "12               rmsprop                       0                         0.0   \n",
       "13               rmsprop                       0                         0.2   \n",
       "14               rmsprop                       0                         0.3   \n",
       "15               rmsprop                       1                         0.0   \n",
       "16               rmsprop                       4                         0.3   \n",
       "17               rmsprop                       1                         0.2   \n",
       "18               rmsprop                       0                         0.1   \n",
       "19               rmsprop                       1                         0.3   \n",
       "20               rmsprop                       3                         0.0   \n",
       "21               rmsprop                       0                         0.0   \n",
       "22               rmsprop                       0                         0.1   \n",
       "23               rmsprop                       1                         0.2   \n",
       "24               rmsprop                       0                         0.1   \n",
       "25               rmsprop                       1                         0.4   \n",
       "26               rmsprop                       0                         0.1   \n",
       "27               rmsprop                       0                         0.2   \n",
       "28               rmsprop                       1                         0.4   \n",
       "29               rmsprop                       3                         0.7   \n",
       "30               rmsprop                       4                         0.2   \n",
       "31               rmsprop                       0                         0.1   \n",
       "32               rmsprop                       0                         0.1   \n",
       "33               rmsprop                       1                         0.1   \n",
       "34               rmsprop                       0                         0.2   \n",
       "35               rmsprop                       1                         0.4   \n",
       "36                  adam                       0                         0.3   \n",
       "37               rmsprop                       1                         0.6   \n",
       "38                  adam                       1                         0.6   \n",
       "39               rmsprop                       1                         0.7   \n",
       "40               rmsprop                       2                         0.7   \n",
       "41               rmsprop                       1                         0.6   \n",
       "42               rmsprop                       1                         0.6   \n",
       "43               rmsprop                       2                         0.6   \n",
       "44                  adam                       2                         0.7   \n",
       "45               rmsprop                       1                         0.8   \n",
       "46               rmsprop                       2                         0.8   \n",
       "47                  adam                       1                         0.6   \n",
       "48                  adam                       2                         0.6   \n",
       "49                  adam                       1                         0.5   \n",
       "50                  adam                       1                         0.7   \n",
       "51                  adam                       1                         0.6   \n",
       "52                  adam                       1                         0.5   \n",
       "53               rmsprop                       2                         0.5   \n",
       "54               rmsprop                       2                         0.5   \n",
       "55                  adam                       2                         0.7   \n",
       "56               rmsprop                       1                         0.6   \n",
       "57               rmsprop                       3                         0.6   \n",
       "58               rmsprop                       1                         0.8   \n",
       "59               rmsprop                       2                         1.0   \n",
       "60                  adam                       1                         0.8   \n",
       "61               rmsprop                       1                         0.9   \n",
       "62               rmsprop                       1                         0.8   \n",
       "63               rmsprop                       1                         0.7   \n",
       "64               rmsprop                       1                         0.5   \n",
       "65               rmsprop                       2                         0.5   \n",
       "66               rmsprop                       5                         0.6   \n",
       "67               rmsprop                       1                         0.7   \n",
       "68               rmsprop                       1                         0.7   \n",
       "69               rmsprop                       1                         0.7   \n",
       "70               rmsprop                       4                         0.9   \n",
       "71               rmsprop                       1                         0.8   \n",
       "72               rmsprop                       1                         0.8   \n",
       "73               rmsprop                       1                         0.7   \n",
       "74               rmsprop                       1                         0.8   \n",
       "75               rmsprop                       1                         0.7   \n",
       "76               rmsprop                       0                         0.8   \n",
       "77               rmsprop                       1                         0.9   \n",
       "78               rmsprop                       1                         0.7   \n",
       "79               rmsprop                       0                         0.6   \n",
       "80               rmsprop                       0                         0.8   \n",
       "81               rmsprop                       0                         0.6   \n",
       "82               rmsprop                       0                         0.6   \n",
       "83               rmsprop                       1                         0.7   \n",
       "84               rmsprop                       1                         0.7   \n",
       "85               rmsprop                       1                         0.7   \n",
       "86               rmsprop                       0                         0.7   \n",
       "87               rmsprop                       0                         0.8   \n",
       "88               rmsprop                       0                         0.9   \n",
       "89               rmsprop                       0                         0.7   \n",
       "90               rmsprop                       0                         0.6   \n",
       "91               rmsprop                       1                         0.7   \n",
       "92               rmsprop                       1                         0.7   \n",
       "93               rmsprop                       1                         0.6   \n",
       "94               rmsprop                       0                         0.6   \n",
       "95               rmsprop                       1                         0.6   \n",
       "96               rmsprop                       1                         0.8   \n",
       "97               rmsprop                       0                         0.4   \n",
       "98               rmsprop                       1                         0.4   \n",
       "99               rmsprop                       1                         0.4   \n",
       "\n",
       "    params_LIST_PARAM_MULTIPLET_LOSS params_LIST_SPARSITY  \\\n",
       "0                                0.0             logspace   \n",
       "1                                0.4            unirandom   \n",
       "2                                0.4            lograndom   \n",
       "3                                0.3             logspace   \n",
       "4                                0.8             linspace   \n",
       "5                                0.4            unirandom   \n",
       "6                                0.5            unirandom   \n",
       "7                                0.4             linspace   \n",
       "8                                0.5            lograndom   \n",
       "9                                1.0             linspace   \n",
       "10                               0.9             linspace   \n",
       "11                               0.9             linspace   \n",
       "12                               0.8             linspace   \n",
       "13                               0.7             linspace   \n",
       "14                               0.7             linspace   \n",
       "15                               1.0             linspace   \n",
       "16                               0.8             linspace   \n",
       "17                               0.7             logspace   \n",
       "18                               0.8            lograndom   \n",
       "19                               0.9             linspace   \n",
       "20                               0.6             linspace   \n",
       "21                               0.9             linspace   \n",
       "22                               0.9             linspace   \n",
       "23                               1.0             linspace   \n",
       "24                               0.9             linspace   \n",
       "25                               0.0             linspace   \n",
       "26                               0.8             logspace   \n",
       "27                               0.6             logspace   \n",
       "28                               0.6             logspace   \n",
       "29                               0.2             logspace   \n",
       "30                               0.6             logspace   \n",
       "31                               0.7             logspace   \n",
       "32                               0.7             logspace   \n",
       "33                               0.6             logspace   \n",
       "34                               0.7             logspace   \n",
       "35                               0.8             logspace   \n",
       "36                               0.5             logspace   \n",
       "37                               0.8            unirandom   \n",
       "38                               0.8            unirandom   \n",
       "39                               1.0            unirandom   \n",
       "40                               1.0            unirandom   \n",
       "41                               0.9            unirandom   \n",
       "42                               1.0            unirandom   \n",
       "43                               1.0            unirandom   \n",
       "44                               1.0            unirandom   \n",
       "45                               0.9            unirandom   \n",
       "46                               1.0            unirandom   \n",
       "47                               0.9            unirandom   \n",
       "48                               0.9            unirandom   \n",
       "49                               1.0            unirandom   \n",
       "50                               0.9            unirandom   \n",
       "51                               0.8            unirandom   \n",
       "52                               1.0            unirandom   \n",
       "53                               0.9            lograndom   \n",
       "54                               0.9            lograndom   \n",
       "55                               0.9            lograndom   \n",
       "56                               1.0            lograndom   \n",
       "57                               0.9            unirandom   \n",
       "58                               0.8            unirandom   \n",
       "59                               0.3            unirandom   \n",
       "60                               0.8            lograndom   \n",
       "61                               1.0            unirandom   \n",
       "62                               0.8            unirandom   \n",
       "63                               0.9            unirandom   \n",
       "64                               0.9            unirandom   \n",
       "65                               0.8            unirandom   \n",
       "66                               1.0            lograndom   \n",
       "67                               0.7            unirandom   \n",
       "68                               0.8            unirandom   \n",
       "69                               0.7            unirandom   \n",
       "70                               0.7            unirandom   \n",
       "71                               0.8            unirandom   \n",
       "72                               0.8            unirandom   \n",
       "73                               0.7            unirandom   \n",
       "74                               0.8            unirandom   \n",
       "75                               0.8            unirandom   \n",
       "76                               0.5            unirandom   \n",
       "77                               0.7            unirandom   \n",
       "78                               0.8            unirandom   \n",
       "79                               0.0            unirandom   \n",
       "80                               0.1            unirandom   \n",
       "81                               0.3            unirandom   \n",
       "82                               0.0            unirandom   \n",
       "83                               0.1            unirandom   \n",
       "84                               0.4            unirandom   \n",
       "85                               0.4            unirandom   \n",
       "86                               0.2            unirandom   \n",
       "87                               0.1            unirandom   \n",
       "88                               0.2            unirandom   \n",
       "89                               0.2            unirandom   \n",
       "90                               0.5            unirandom   \n",
       "91                               0.4            unirandom   \n",
       "92                               0.0            unirandom   \n",
       "93                               0.6            unirandom   \n",
       "94                               0.6            unirandom   \n",
       "95                               0.3            unirandom   \n",
       "96                               0.2            unirandom   \n",
       "97                               0.6            unirandom   \n",
       "98                               0.6            unirandom   \n",
       "99                               0.6            unirandom   \n",
       "\n",
       "    params_LIST_WEIGHT_DECAY  params_LIST_WIDTH_LSTM  \n",
       "0                     0.0002                     NaN  \n",
       "1                     0.0000                    23.0  \n",
       "2                     0.0000                    39.0  \n",
       "3                     0.0008                    73.0  \n",
       "4                     0.0003                     NaN  \n",
       "5                     0.0001                    30.0  \n",
       "6                     0.0005                   113.0  \n",
       "7                     0.0009                    24.0  \n",
       "8                     0.0005                     NaN  \n",
       "9                     0.0003                     NaN  \n",
       "10                    0.0007                     NaN  \n",
       "11                    0.0007                     NaN  \n",
       "12                    0.0007                     NaN  \n",
       "13                    0.0010                     NaN  \n",
       "14                    0.0007                     NaN  \n",
       "15                    0.0006                     NaN  \n",
       "16                    0.0008                     NaN  \n",
       "17                    0.0004                     NaN  \n",
       "18                    0.0010                     NaN  \n",
       "19                    0.0006                     NaN  \n",
       "20                    0.0008                     NaN  \n",
       "21                    0.0007                     NaN  \n",
       "22                    0.0006                     NaN  \n",
       "23                    0.0006                     NaN  \n",
       "24                    0.0005                     NaN  \n",
       "25                    0.0009                     NaN  \n",
       "26                    0.0004                     NaN  \n",
       "27                    0.0004                     NaN  \n",
       "28                    0.0004                     NaN  \n",
       "29                    0.0002                     NaN  \n",
       "30                    0.0003                     NaN  \n",
       "31                    0.0004                     NaN  \n",
       "32                    0.0004                     NaN  \n",
       "33                    0.0002                     NaN  \n",
       "34                    0.0004                    17.0  \n",
       "35                    0.0005                     NaN  \n",
       "36                    0.0001                    53.0  \n",
       "37                    0.0003                     NaN  \n",
       "38                    0.0003                   123.0  \n",
       "39                    0.0001                     NaN  \n",
       "40                    0.0000                    16.0  \n",
       "41                    0.0001                     NaN  \n",
       "42                    0.0001                     NaN  \n",
       "43                    0.0001                     NaN  \n",
       "44                    0.0000                     NaN  \n",
       "45                    0.0001                     NaN  \n",
       "46                    0.0002                     NaN  \n",
       "47                    0.0001                     NaN  \n",
       "48                    0.0001                    66.0  \n",
       "49                    0.0000                     NaN  \n",
       "50                    0.0001                     NaN  \n",
       "51                    0.0002                     NaN  \n",
       "52                    0.0002                     NaN  \n",
       "53                    0.0000                     NaN  \n",
       "54                    0.0000                     NaN  \n",
       "55                    0.0000                     NaN  \n",
       "56                    0.0001                     NaN  \n",
       "57                    0.0003                     NaN  \n",
       "58                    0.0001                     NaN  \n",
       "59                    0.0000                     NaN  \n",
       "60                    0.0002                     NaN  \n",
       "61                    0.0001                     NaN  \n",
       "62                    0.0001                     NaN  \n",
       "63                    0.0000                     NaN  \n",
       "64                    0.0002                     NaN  \n",
       "65                    0.0001                     NaN  \n",
       "66                    0.0000                     NaN  \n",
       "67                    0.0001                     NaN  \n",
       "68                    0.0002                     NaN  \n",
       "69                    0.0003                    41.0  \n",
       "70                    0.0002                     NaN  \n",
       "71                    0.0002                     NaN  \n",
       "72                    0.0002                     NaN  \n",
       "73                    0.0003                     NaN  \n",
       "74                    0.0002                     NaN  \n",
       "75                    0.0001                     NaN  \n",
       "76                    0.0003                     NaN  \n",
       "77                    0.0001                     NaN  \n",
       "78                    0.0002                     NaN  \n",
       "79                    0.0002                     NaN  \n",
       "80                    0.0003                    83.0  \n",
       "81                    0.0002                     NaN  \n",
       "82                    0.0002                     NaN  \n",
       "83                    0.0002                     NaN  \n",
       "84                    0.0001                     NaN  \n",
       "85                    0.0002                     NaN  \n",
       "86                    0.0001                     NaN  \n",
       "87                    0.0002                     NaN  \n",
       "88                    0.0003                     NaN  \n",
       "89                    0.0001                     NaN  \n",
       "90                    0.0003                     NaN  \n",
       "91                    0.0001                     NaN  \n",
       "92                    0.0001                     NaN  \n",
       "93                    0.0002                     NaN  \n",
       "94                    0.0002                     NaN  \n",
       "95                    0.0002                     NaN  \n",
       "96                    0.0002                     NaN  \n",
       "97                    0.0003                     NaN  \n",
       "98                    0.0003                    49.0  \n",
       "99                    0.0004                     NaN  "
      ]
     },
     "execution_count": 27,
     "metadata": {},
     "output_type": "execute_result"
    }
   ],
   "source": [
    "df = study.trials_dataframe(attrs=(\n",
    "    \"number\",\n",
    "    #\"state\",\n",
    "    \"value\", \n",
    "    #\"intermediate_values\",\n",
    "    #\"user_attrs\",\n",
    "    \"datetime_start\",\n",
    "    #\"datetime_complete\",\n",
    "    #\"duration\",\n",
    "    \"params\",\n",
    "    #\"system_attrs\",\n",
    "    ))\n",
    "\n",
    "print(\"Study name: {}\\nSampler:    {}\\nPruner:     {}\".format(study.study_name, study.sampler, study.pruner))\n",
    "print(\"Num trials: {}\".format(len(study.trials)))\n",
    "df\n"
   ]
  },
  {
   "attachments": {},
   "cell_type": "markdown",
   "metadata": {},
   "source": [
    "# Sorted dataframe\n",
    "- see which combinations give better results"
   ]
  },
  {
   "cell_type": "code",
   "execution_count": 28,
   "metadata": {
    "scrolled": false
   },
   "outputs": [
    {
     "data": {
      "text/html": [
       "<div>\n",
       "<style scoped>\n",
       "    .dataframe tbody tr th:only-of-type {\n",
       "        vertical-align: middle;\n",
       "    }\n",
       "\n",
       "    .dataframe tbody tr th {\n",
       "        vertical-align: top;\n",
       "    }\n",
       "\n",
       "    .dataframe thead th {\n",
       "        text-align: right;\n",
       "    }\n",
       "</style>\n",
       "<table border=\"1\" class=\"dataframe\">\n",
       "  <thead>\n",
       "    <tr style=\"text-align: right;\">\n",
       "      <th></th>\n",
       "      <th>number</th>\n",
       "      <th>value</th>\n",
       "      <th>datetime_start</th>\n",
       "      <th>params_LIST_ACTIVATION_FC</th>\n",
       "      <th>params_LIST_ACTIVATION_INPUT</th>\n",
       "      <th>params_LIST_ACTIVATION_OUTPUT</th>\n",
       "      <th>params_LIST_DROPOUT</th>\n",
       "      <th>params_LIST_FF_DIM</th>\n",
       "      <th>params_LIST_IS_ADAPTIVE_LOSS</th>\n",
       "      <th>params_LIST_IS_NORMALIZE</th>\n",
       "      <th>params_LIST_IS_POSITIONAL_ENCODING</th>\n",
       "      <th>params_LIST_IS_TRAINABLE_ENCODING</th>\n",
       "      <th>params_LIST_LEARNING_RATE</th>\n",
       "      <th>params_LIST_LLLR_VERSION</th>\n",
       "      <th>params_LIST_MLP_UNITS</th>\n",
       "      <th>params_LIST_MODEL_BACKBONE</th>\n",
       "      <th>params_LIST_NUM_BLOCKS</th>\n",
       "      <th>params_LIST_NUM_HEADS</th>\n",
       "      <th>params_LIST_NUM_THRESH</th>\n",
       "      <th>params_LIST_OPTIMIZER</th>\n",
       "      <th>params_LIST_ORDER_SPRT</th>\n",
       "      <th>params_LIST_PARAM_LLR_LOSS</th>\n",
       "      <th>params_LIST_PARAM_MULTIPLET_LOSS</th>\n",
       "      <th>params_LIST_SPARSITY</th>\n",
       "      <th>params_LIST_WEIGHT_DECAY</th>\n",
       "      <th>params_LIST_WIDTH_LSTM</th>\n",
       "    </tr>\n",
       "  </thead>\n",
       "  <tbody>\n",
       "    <tr>\n",
       "      <th>78</th>\n",
       "      <td>78</td>\n",
       "      <td>0.015432</td>\n",
       "      <td>2023-04-28 19:29:07.317690</td>\n",
       "      <td>gelu</td>\n",
       "      <td>NaN</td>\n",
       "      <td>NaN</td>\n",
       "      <td>0.0</td>\n",
       "      <td>32.0</td>\n",
       "      <td>True</td>\n",
       "      <td>False</td>\n",
       "      <td>True</td>\n",
       "      <td>True</td>\n",
       "      <td>0.000130</td>\n",
       "      <td>LSEL</td>\n",
       "      <td>32.0</td>\n",
       "      <td>Transformer</td>\n",
       "      <td>1.0</td>\n",
       "      <td>4.0</td>\n",
       "      <td>1500</td>\n",
       "      <td>rmsprop</td>\n",
       "      <td>1</td>\n",
       "      <td>0.7</td>\n",
       "      <td>0.8</td>\n",
       "      <td>unirandom</td>\n",
       "      <td>0.0002</td>\n",
       "      <td>NaN</td>\n",
       "    </tr>\n",
       "    <tr>\n",
       "      <th>58</th>\n",
       "      <td>58</td>\n",
       "      <td>0.015880</td>\n",
       "      <td>2023-04-28 17:15:32.291490</td>\n",
       "      <td>B2Bcbrt</td>\n",
       "      <td>NaN</td>\n",
       "      <td>NaN</td>\n",
       "      <td>0.2</td>\n",
       "      <td>32.0</td>\n",
       "      <td>True</td>\n",
       "      <td>False</td>\n",
       "      <td>True</td>\n",
       "      <td>False</td>\n",
       "      <td>0.000176</td>\n",
       "      <td>LSEL</td>\n",
       "      <td>32.0</td>\n",
       "      <td>Transformer</td>\n",
       "      <td>1.0</td>\n",
       "      <td>4.0</td>\n",
       "      <td>1500</td>\n",
       "      <td>rmsprop</td>\n",
       "      <td>1</td>\n",
       "      <td>0.8</td>\n",
       "      <td>0.8</td>\n",
       "      <td>unirandom</td>\n",
       "      <td>0.0001</td>\n",
       "      <td>NaN</td>\n",
       "    </tr>\n",
       "    <tr>\n",
       "      <th>84</th>\n",
       "      <td>84</td>\n",
       "      <td>0.016191</td>\n",
       "      <td>2023-04-28 20:01:40.872521</td>\n",
       "      <td>gelu</td>\n",
       "      <td>NaN</td>\n",
       "      <td>NaN</td>\n",
       "      <td>0.0</td>\n",
       "      <td>32.0</td>\n",
       "      <td>True</td>\n",
       "      <td>False</td>\n",
       "      <td>True</td>\n",
       "      <td>True</td>\n",
       "      <td>0.000157</td>\n",
       "      <td>LSEL</td>\n",
       "      <td>32.0</td>\n",
       "      <td>Transformer</td>\n",
       "      <td>1.0</td>\n",
       "      <td>4.0</td>\n",
       "      <td>1500</td>\n",
       "      <td>rmsprop</td>\n",
       "      <td>1</td>\n",
       "      <td>0.7</td>\n",
       "      <td>0.4</td>\n",
       "      <td>unirandom</td>\n",
       "      <td>0.0001</td>\n",
       "      <td>NaN</td>\n",
       "    </tr>\n",
       "    <tr>\n",
       "      <th>93</th>\n",
       "      <td>93</td>\n",
       "      <td>0.016436</td>\n",
       "      <td>2023-04-28 20:55:24.615923</td>\n",
       "      <td>gelu</td>\n",
       "      <td>NaN</td>\n",
       "      <td>NaN</td>\n",
       "      <td>0.0</td>\n",
       "      <td>32.0</td>\n",
       "      <td>True</td>\n",
       "      <td>False</td>\n",
       "      <td>True</td>\n",
       "      <td>True</td>\n",
       "      <td>0.000285</td>\n",
       "      <td>LSEL</td>\n",
       "      <td>32.0</td>\n",
       "      <td>Transformer</td>\n",
       "      <td>1.0</td>\n",
       "      <td>4.0</td>\n",
       "      <td>1500</td>\n",
       "      <td>rmsprop</td>\n",
       "      <td>1</td>\n",
       "      <td>0.6</td>\n",
       "      <td>0.6</td>\n",
       "      <td>unirandom</td>\n",
       "      <td>0.0002</td>\n",
       "      <td>NaN</td>\n",
       "    </tr>\n",
       "    <tr>\n",
       "      <th>97</th>\n",
       "      <td>97</td>\n",
       "      <td>0.016546</td>\n",
       "      <td>2023-04-28 21:21:54.414410</td>\n",
       "      <td>gelu</td>\n",
       "      <td>NaN</td>\n",
       "      <td>NaN</td>\n",
       "      <td>0.0</td>\n",
       "      <td>32.0</td>\n",
       "      <td>True</td>\n",
       "      <td>False</td>\n",
       "      <td>True</td>\n",
       "      <td>True</td>\n",
       "      <td>0.000197</td>\n",
       "      <td>LSEL</td>\n",
       "      <td>32.0</td>\n",
       "      <td>Transformer</td>\n",
       "      <td>1.0</td>\n",
       "      <td>4.0</td>\n",
       "      <td>1500</td>\n",
       "      <td>rmsprop</td>\n",
       "      <td>0</td>\n",
       "      <td>0.4</td>\n",
       "      <td>0.6</td>\n",
       "      <td>unirandom</td>\n",
       "      <td>0.0003</td>\n",
       "      <td>NaN</td>\n",
       "    </tr>\n",
       "    <tr>\n",
       "      <th>37</th>\n",
       "      <td>37</td>\n",
       "      <td>0.016636</td>\n",
       "      <td>2023-04-28 15:03:07.635433</td>\n",
       "      <td>relu</td>\n",
       "      <td>NaN</td>\n",
       "      <td>NaN</td>\n",
       "      <td>0.1</td>\n",
       "      <td>32.0</td>\n",
       "      <td>True</td>\n",
       "      <td>False</td>\n",
       "      <td>False</td>\n",
       "      <td>NaN</td>\n",
       "      <td>0.000203</td>\n",
       "      <td>LSEL</td>\n",
       "      <td>64.0</td>\n",
       "      <td>Transformer</td>\n",
       "      <td>2.0</td>\n",
       "      <td>2.0</td>\n",
       "      <td>1500</td>\n",
       "      <td>rmsprop</td>\n",
       "      <td>1</td>\n",
       "      <td>0.6</td>\n",
       "      <td>0.8</td>\n",
       "      <td>unirandom</td>\n",
       "      <td>0.0003</td>\n",
       "      <td>NaN</td>\n",
       "    </tr>\n",
       "    <tr>\n",
       "      <th>68</th>\n",
       "      <td>68</td>\n",
       "      <td>0.016652</td>\n",
       "      <td>2023-04-28 18:19:45.809094</td>\n",
       "      <td>gelu</td>\n",
       "      <td>NaN</td>\n",
       "      <td>NaN</td>\n",
       "      <td>0.0</td>\n",
       "      <td>32.0</td>\n",
       "      <td>True</td>\n",
       "      <td>False</td>\n",
       "      <td>True</td>\n",
       "      <td>True</td>\n",
       "      <td>0.000455</td>\n",
       "      <td>LSEL</td>\n",
       "      <td>32.0</td>\n",
       "      <td>Transformer</td>\n",
       "      <td>1.0</td>\n",
       "      <td>4.0</td>\n",
       "      <td>1500</td>\n",
       "      <td>rmsprop</td>\n",
       "      <td>1</td>\n",
       "      <td>0.7</td>\n",
       "      <td>0.8</td>\n",
       "      <td>unirandom</td>\n",
       "      <td>0.0002</td>\n",
       "      <td>NaN</td>\n",
       "    </tr>\n",
       "    <tr>\n",
       "      <th>71</th>\n",
       "      <td>71</td>\n",
       "      <td>0.016854</td>\n",
       "      <td>2023-04-28 18:42:34.754840</td>\n",
       "      <td>gelu</td>\n",
       "      <td>NaN</td>\n",
       "      <td>NaN</td>\n",
       "      <td>0.0</td>\n",
       "      <td>32.0</td>\n",
       "      <td>True</td>\n",
       "      <td>False</td>\n",
       "      <td>True</td>\n",
       "      <td>True</td>\n",
       "      <td>0.000326</td>\n",
       "      <td>LSEL</td>\n",
       "      <td>32.0</td>\n",
       "      <td>Transformer</td>\n",
       "      <td>1.0</td>\n",
       "      <td>4.0</td>\n",
       "      <td>1500</td>\n",
       "      <td>rmsprop</td>\n",
       "      <td>1</td>\n",
       "      <td>0.8</td>\n",
       "      <td>0.8</td>\n",
       "      <td>unirandom</td>\n",
       "      <td>0.0002</td>\n",
       "      <td>NaN</td>\n",
       "    </tr>\n",
       "    <tr>\n",
       "      <th>42</th>\n",
       "      <td>42</td>\n",
       "      <td>0.016974</td>\n",
       "      <td>2023-04-28 15:35:16.845698</td>\n",
       "      <td>relu</td>\n",
       "      <td>NaN</td>\n",
       "      <td>NaN</td>\n",
       "      <td>0.0</td>\n",
       "      <td>32.0</td>\n",
       "      <td>True</td>\n",
       "      <td>False</td>\n",
       "      <td>True</td>\n",
       "      <td>False</td>\n",
       "      <td>0.000300</td>\n",
       "      <td>LSEL</td>\n",
       "      <td>32.0</td>\n",
       "      <td>Transformer</td>\n",
       "      <td>1.0</td>\n",
       "      <td>4.0</td>\n",
       "      <td>1500</td>\n",
       "      <td>rmsprop</td>\n",
       "      <td>1</td>\n",
       "      <td>0.6</td>\n",
       "      <td>1.0</td>\n",
       "      <td>unirandom</td>\n",
       "      <td>0.0001</td>\n",
       "      <td>NaN</td>\n",
       "    </tr>\n",
       "    <tr>\n",
       "      <th>79</th>\n",
       "      <td>79</td>\n",
       "      <td>0.016986</td>\n",
       "      <td>2023-04-28 19:36:09.739685</td>\n",
       "      <td>gelu</td>\n",
       "      <td>NaN</td>\n",
       "      <td>NaN</td>\n",
       "      <td>0.1</td>\n",
       "      <td>32.0</td>\n",
       "      <td>True</td>\n",
       "      <td>False</td>\n",
       "      <td>True</td>\n",
       "      <td>True</td>\n",
       "      <td>0.000132</td>\n",
       "      <td>LSEL</td>\n",
       "      <td>32.0</td>\n",
       "      <td>Transformer</td>\n",
       "      <td>1.0</td>\n",
       "      <td>4.0</td>\n",
       "      <td>1500</td>\n",
       "      <td>rmsprop</td>\n",
       "      <td>0</td>\n",
       "      <td>0.6</td>\n",
       "      <td>0.0</td>\n",
       "      <td>unirandom</td>\n",
       "      <td>0.0002</td>\n",
       "      <td>NaN</td>\n",
       "    </tr>\n",
       "    <tr>\n",
       "      <th>86</th>\n",
       "      <td>86</td>\n",
       "      <td>0.017005</td>\n",
       "      <td>2023-04-28 20:15:35.785365</td>\n",
       "      <td>gelu</td>\n",
       "      <td>NaN</td>\n",
       "      <td>NaN</td>\n",
       "      <td>0.0</td>\n",
       "      <td>32.0</td>\n",
       "      <td>True</td>\n",
       "      <td>False</td>\n",
       "      <td>True</td>\n",
       "      <td>True</td>\n",
       "      <td>0.000199</td>\n",
       "      <td>LSEL</td>\n",
       "      <td>32.0</td>\n",
       "      <td>Transformer</td>\n",
       "      <td>1.0</td>\n",
       "      <td>4.0</td>\n",
       "      <td>1500</td>\n",
       "      <td>rmsprop</td>\n",
       "      <td>0</td>\n",
       "      <td>0.7</td>\n",
       "      <td>0.2</td>\n",
       "      <td>unirandom</td>\n",
       "      <td>0.0001</td>\n",
       "      <td>NaN</td>\n",
       "    </tr>\n",
       "    <tr>\n",
       "      <th>39</th>\n",
       "      <td>39</td>\n",
       "      <td>0.017011</td>\n",
       "      <td>2023-04-28 15:15:02.206424</td>\n",
       "      <td>relu</td>\n",
       "      <td>NaN</td>\n",
       "      <td>NaN</td>\n",
       "      <td>0.0</td>\n",
       "      <td>32.0</td>\n",
       "      <td>True</td>\n",
       "      <td>False</td>\n",
       "      <td>True</td>\n",
       "      <td>False</td>\n",
       "      <td>0.000344</td>\n",
       "      <td>LSEL</td>\n",
       "      <td>32.0</td>\n",
       "      <td>Transformer</td>\n",
       "      <td>1.0</td>\n",
       "      <td>4.0</td>\n",
       "      <td>1500</td>\n",
       "      <td>rmsprop</td>\n",
       "      <td>1</td>\n",
       "      <td>0.7</td>\n",
       "      <td>1.0</td>\n",
       "      <td>unirandom</td>\n",
       "      <td>0.0001</td>\n",
       "      <td>NaN</td>\n",
       "    </tr>\n",
       "    <tr>\n",
       "      <th>47</th>\n",
       "      <td>47</td>\n",
       "      <td>0.017033</td>\n",
       "      <td>2023-04-28 16:10:18.490202</td>\n",
       "      <td>B2Bsqrt</td>\n",
       "      <td>NaN</td>\n",
       "      <td>NaN</td>\n",
       "      <td>0.3</td>\n",
       "      <td>32.0</td>\n",
       "      <td>True</td>\n",
       "      <td>False</td>\n",
       "      <td>True</td>\n",
       "      <td>False</td>\n",
       "      <td>0.000423</td>\n",
       "      <td>LSEL</td>\n",
       "      <td>32.0</td>\n",
       "      <td>Transformer</td>\n",
       "      <td>1.0</td>\n",
       "      <td>4.0</td>\n",
       "      <td>1500</td>\n",
       "      <td>adam</td>\n",
       "      <td>1</td>\n",
       "      <td>0.6</td>\n",
       "      <td>0.9</td>\n",
       "      <td>unirandom</td>\n",
       "      <td>0.0001</td>\n",
       "      <td>NaN</td>\n",
       "    </tr>\n",
       "    <tr>\n",
       "      <th>94</th>\n",
       "      <td>94</td>\n",
       "      <td>0.017106</td>\n",
       "      <td>2023-04-28 21:03:05.327574</td>\n",
       "      <td>gelu</td>\n",
       "      <td>NaN</td>\n",
       "      <td>NaN</td>\n",
       "      <td>0.0</td>\n",
       "      <td>32.0</td>\n",
       "      <td>True</td>\n",
       "      <td>False</td>\n",
       "      <td>True</td>\n",
       "      <td>True</td>\n",
       "      <td>0.000270</td>\n",
       "      <td>LSEL</td>\n",
       "      <td>32.0</td>\n",
       "      <td>Transformer</td>\n",
       "      <td>1.0</td>\n",
       "      <td>4.0</td>\n",
       "      <td>1500</td>\n",
       "      <td>rmsprop</td>\n",
       "      <td>0</td>\n",
       "      <td>0.6</td>\n",
       "      <td>0.6</td>\n",
       "      <td>unirandom</td>\n",
       "      <td>0.0002</td>\n",
       "      <td>NaN</td>\n",
       "    </tr>\n",
       "    <tr>\n",
       "      <th>67</th>\n",
       "      <td>67</td>\n",
       "      <td>0.017135</td>\n",
       "      <td>2023-04-28 18:12:54.058588</td>\n",
       "      <td>gelu</td>\n",
       "      <td>NaN</td>\n",
       "      <td>NaN</td>\n",
       "      <td>0.0</td>\n",
       "      <td>32.0</td>\n",
       "      <td>True</td>\n",
       "      <td>False</td>\n",
       "      <td>True</td>\n",
       "      <td>False</td>\n",
       "      <td>0.000319</td>\n",
       "      <td>LSEL</td>\n",
       "      <td>32.0</td>\n",
       "      <td>Transformer</td>\n",
       "      <td>1.0</td>\n",
       "      <td>4.0</td>\n",
       "      <td>1500</td>\n",
       "      <td>rmsprop</td>\n",
       "      <td>1</td>\n",
       "      <td>0.7</td>\n",
       "      <td>0.7</td>\n",
       "      <td>unirandom</td>\n",
       "      <td>0.0001</td>\n",
       "      <td>NaN</td>\n",
       "    </tr>\n",
       "    <tr>\n",
       "      <th>53</th>\n",
       "      <td>53</td>\n",
       "      <td>0.017171</td>\n",
       "      <td>2023-04-28 16:45:16.102577</td>\n",
       "      <td>B2BsqrtV2</td>\n",
       "      <td>NaN</td>\n",
       "      <td>NaN</td>\n",
       "      <td>0.2</td>\n",
       "      <td>32.0</td>\n",
       "      <td>True</td>\n",
       "      <td>False</td>\n",
       "      <td>True</td>\n",
       "      <td>False</td>\n",
       "      <td>0.000401</td>\n",
       "      <td>LSEL</td>\n",
       "      <td>32.0</td>\n",
       "      <td>Transformer</td>\n",
       "      <td>1.0</td>\n",
       "      <td>4.0</td>\n",
       "      <td>1500</td>\n",
       "      <td>rmsprop</td>\n",
       "      <td>2</td>\n",
       "      <td>0.5</td>\n",
       "      <td>0.9</td>\n",
       "      <td>lograndom</td>\n",
       "      <td>0.0000</td>\n",
       "      <td>NaN</td>\n",
       "    </tr>\n",
       "    <tr>\n",
       "      <th>41</th>\n",
       "      <td>41</td>\n",
       "      <td>0.017308</td>\n",
       "      <td>2023-04-28 15:28:13.102266</td>\n",
       "      <td>relu</td>\n",
       "      <td>NaN</td>\n",
       "      <td>NaN</td>\n",
       "      <td>0.0</td>\n",
       "      <td>32.0</td>\n",
       "      <td>True</td>\n",
       "      <td>False</td>\n",
       "      <td>True</td>\n",
       "      <td>False</td>\n",
       "      <td>0.000279</td>\n",
       "      <td>LSEL</td>\n",
       "      <td>32.0</td>\n",
       "      <td>Transformer</td>\n",
       "      <td>1.0</td>\n",
       "      <td>4.0</td>\n",
       "      <td>1500</td>\n",
       "      <td>rmsprop</td>\n",
       "      <td>1</td>\n",
       "      <td>0.6</td>\n",
       "      <td>0.9</td>\n",
       "      <td>unirandom</td>\n",
       "      <td>0.0001</td>\n",
       "      <td>NaN</td>\n",
       "    </tr>\n",
       "    <tr>\n",
       "      <th>31</th>\n",
       "      <td>31</td>\n",
       "      <td>0.017411</td>\n",
       "      <td>2023-04-28 13:07:32.513709</td>\n",
       "      <td>B2BsqrtV2</td>\n",
       "      <td>NaN</td>\n",
       "      <td>NaN</td>\n",
       "      <td>0.1</td>\n",
       "      <td>32.0</td>\n",
       "      <td>True</td>\n",
       "      <td>True</td>\n",
       "      <td>False</td>\n",
       "      <td>NaN</td>\n",
       "      <td>0.000252</td>\n",
       "      <td>LSEL</td>\n",
       "      <td>64.0</td>\n",
       "      <td>Transformer</td>\n",
       "      <td>2.0</td>\n",
       "      <td>2.0</td>\n",
       "      <td>1500</td>\n",
       "      <td>rmsprop</td>\n",
       "      <td>0</td>\n",
       "      <td>0.1</td>\n",
       "      <td>0.7</td>\n",
       "      <td>logspace</td>\n",
       "      <td>0.0004</td>\n",
       "      <td>NaN</td>\n",
       "    </tr>\n",
       "    <tr>\n",
       "      <th>64</th>\n",
       "      <td>64</td>\n",
       "      <td>0.017420</td>\n",
       "      <td>2023-04-28 17:51:04.109103</td>\n",
       "      <td>B2BsqrtV2</td>\n",
       "      <td>NaN</td>\n",
       "      <td>NaN</td>\n",
       "      <td>0.0</td>\n",
       "      <td>32.0</td>\n",
       "      <td>True</td>\n",
       "      <td>False</td>\n",
       "      <td>True</td>\n",
       "      <td>False</td>\n",
       "      <td>0.000174</td>\n",
       "      <td>LSEL</td>\n",
       "      <td>32.0</td>\n",
       "      <td>Transformer</td>\n",
       "      <td>1.0</td>\n",
       "      <td>4.0</td>\n",
       "      <td>1500</td>\n",
       "      <td>rmsprop</td>\n",
       "      <td>1</td>\n",
       "      <td>0.5</td>\n",
       "      <td>0.9</td>\n",
       "      <td>unirandom</td>\n",
       "      <td>0.0002</td>\n",
       "      <td>NaN</td>\n",
       "    </tr>\n",
       "    <tr>\n",
       "      <th>89</th>\n",
       "      <td>89</td>\n",
       "      <td>0.017471</td>\n",
       "      <td>2023-04-28 20:30:38.474542</td>\n",
       "      <td>gelu</td>\n",
       "      <td>NaN</td>\n",
       "      <td>NaN</td>\n",
       "      <td>0.1</td>\n",
       "      <td>32.0</td>\n",
       "      <td>True</td>\n",
       "      <td>False</td>\n",
       "      <td>True</td>\n",
       "      <td>True</td>\n",
       "      <td>0.000109</td>\n",
       "      <td>LSEL</td>\n",
       "      <td>32.0</td>\n",
       "      <td>Transformer</td>\n",
       "      <td>1.0</td>\n",
       "      <td>4.0</td>\n",
       "      <td>1500</td>\n",
       "      <td>rmsprop</td>\n",
       "      <td>0</td>\n",
       "      <td>0.7</td>\n",
       "      <td>0.2</td>\n",
       "      <td>unirandom</td>\n",
       "      <td>0.0001</td>\n",
       "      <td>NaN</td>\n",
       "    </tr>\n",
       "    <tr>\n",
       "      <th>52</th>\n",
       "      <td>52</td>\n",
       "      <td>0.017486</td>\n",
       "      <td>2023-04-28 16:39:22.089550</td>\n",
       "      <td>B2Bcbrt</td>\n",
       "      <td>NaN</td>\n",
       "      <td>NaN</td>\n",
       "      <td>0.3</td>\n",
       "      <td>32.0</td>\n",
       "      <td>True</td>\n",
       "      <td>False</td>\n",
       "      <td>True</td>\n",
       "      <td>False</td>\n",
       "      <td>0.000262</td>\n",
       "      <td>LSEL</td>\n",
       "      <td>32.0</td>\n",
       "      <td>Transformer</td>\n",
       "      <td>1.0</td>\n",
       "      <td>4.0</td>\n",
       "      <td>1500</td>\n",
       "      <td>adam</td>\n",
       "      <td>1</td>\n",
       "      <td>0.5</td>\n",
       "      <td>1.0</td>\n",
       "      <td>unirandom</td>\n",
       "      <td>0.0002</td>\n",
       "      <td>NaN</td>\n",
       "    </tr>\n",
       "    <tr>\n",
       "      <th>26</th>\n",
       "      <td>26</td>\n",
       "      <td>0.017503</td>\n",
       "      <td>2023-04-28 11:34:03.733785</td>\n",
       "      <td>relu</td>\n",
       "      <td>NaN</td>\n",
       "      <td>NaN</td>\n",
       "      <td>0.0</td>\n",
       "      <td>32.0</td>\n",
       "      <td>True</td>\n",
       "      <td>True</td>\n",
       "      <td>False</td>\n",
       "      <td>NaN</td>\n",
       "      <td>0.000105</td>\n",
       "      <td>LSEL</td>\n",
       "      <td>64.0</td>\n",
       "      <td>Transformer</td>\n",
       "      <td>2.0</td>\n",
       "      <td>2.0</td>\n",
       "      <td>1500</td>\n",
       "      <td>rmsprop</td>\n",
       "      <td>0</td>\n",
       "      <td>0.1</td>\n",
       "      <td>0.8</td>\n",
       "      <td>logspace</td>\n",
       "      <td>0.0004</td>\n",
       "      <td>NaN</td>\n",
       "    </tr>\n",
       "    <tr>\n",
       "      <th>76</th>\n",
       "      <td>76</td>\n",
       "      <td>0.017528</td>\n",
       "      <td>2023-04-28 19:17:25.614197</td>\n",
       "      <td>gelu</td>\n",
       "      <td>NaN</td>\n",
       "      <td>NaN</td>\n",
       "      <td>0.1</td>\n",
       "      <td>32.0</td>\n",
       "      <td>True</td>\n",
       "      <td>False</td>\n",
       "      <td>True</td>\n",
       "      <td>True</td>\n",
       "      <td>0.000452</td>\n",
       "      <td>LSEL</td>\n",
       "      <td>32.0</td>\n",
       "      <td>Transformer</td>\n",
       "      <td>1.0</td>\n",
       "      <td>4.0</td>\n",
       "      <td>1500</td>\n",
       "      <td>rmsprop</td>\n",
       "      <td>0</td>\n",
       "      <td>0.8</td>\n",
       "      <td>0.5</td>\n",
       "      <td>unirandom</td>\n",
       "      <td>0.0003</td>\n",
       "      <td>NaN</td>\n",
       "    </tr>\n",
       "    <tr>\n",
       "      <th>83</th>\n",
       "      <td>83</td>\n",
       "      <td>0.017553</td>\n",
       "      <td>2023-04-28 19:55:51.045808</td>\n",
       "      <td>B2Bsqrt</td>\n",
       "      <td>NaN</td>\n",
       "      <td>NaN</td>\n",
       "      <td>0.1</td>\n",
       "      <td>32.0</td>\n",
       "      <td>True</td>\n",
       "      <td>False</td>\n",
       "      <td>True</td>\n",
       "      <td>True</td>\n",
       "      <td>0.000262</td>\n",
       "      <td>LSEL</td>\n",
       "      <td>32.0</td>\n",
       "      <td>Transformer</td>\n",
       "      <td>1.0</td>\n",
       "      <td>4.0</td>\n",
       "      <td>1500</td>\n",
       "      <td>rmsprop</td>\n",
       "      <td>1</td>\n",
       "      <td>0.7</td>\n",
       "      <td>0.1</td>\n",
       "      <td>unirandom</td>\n",
       "      <td>0.0002</td>\n",
       "      <td>NaN</td>\n",
       "    </tr>\n",
       "    <tr>\n",
       "      <th>22</th>\n",
       "      <td>22</td>\n",
       "      <td>0.017558</td>\n",
       "      <td>2023-04-28 10:07:42.533117</td>\n",
       "      <td>tanh</td>\n",
       "      <td>NaN</td>\n",
       "      <td>NaN</td>\n",
       "      <td>0.0</td>\n",
       "      <td>32.0</td>\n",
       "      <td>False</td>\n",
       "      <td>True</td>\n",
       "      <td>False</td>\n",
       "      <td>NaN</td>\n",
       "      <td>0.000195</td>\n",
       "      <td>LLLR</td>\n",
       "      <td>64.0</td>\n",
       "      <td>Transformer</td>\n",
       "      <td>2.0</td>\n",
       "      <td>2.0</td>\n",
       "      <td>1500</td>\n",
       "      <td>rmsprop</td>\n",
       "      <td>0</td>\n",
       "      <td>0.1</td>\n",
       "      <td>0.9</td>\n",
       "      <td>linspace</td>\n",
       "      <td>0.0006</td>\n",
       "      <td>NaN</td>\n",
       "    </tr>\n",
       "    <tr>\n",
       "      <th>56</th>\n",
       "      <td>56</td>\n",
       "      <td>0.017609</td>\n",
       "      <td>2023-04-28 17:02:59.944442</td>\n",
       "      <td>relu</td>\n",
       "      <td>NaN</td>\n",
       "      <td>NaN</td>\n",
       "      <td>0.2</td>\n",
       "      <td>32.0</td>\n",
       "      <td>True</td>\n",
       "      <td>False</td>\n",
       "      <td>True</td>\n",
       "      <td>False</td>\n",
       "      <td>0.000787</td>\n",
       "      <td>LSEL</td>\n",
       "      <td>32.0</td>\n",
       "      <td>Transformer</td>\n",
       "      <td>1.0</td>\n",
       "      <td>4.0</td>\n",
       "      <td>1500</td>\n",
       "      <td>rmsprop</td>\n",
       "      <td>1</td>\n",
       "      <td>0.6</td>\n",
       "      <td>1.0</td>\n",
       "      <td>lograndom</td>\n",
       "      <td>0.0001</td>\n",
       "      <td>NaN</td>\n",
       "    </tr>\n",
       "    <tr>\n",
       "      <th>77</th>\n",
       "      <td>77</td>\n",
       "      <td>0.017611</td>\n",
       "      <td>2023-04-28 19:22:06.885388</td>\n",
       "      <td>gelu</td>\n",
       "      <td>NaN</td>\n",
       "      <td>NaN</td>\n",
       "      <td>0.0</td>\n",
       "      <td>64.0</td>\n",
       "      <td>True</td>\n",
       "      <td>False</td>\n",
       "      <td>True</td>\n",
       "      <td>True</td>\n",
       "      <td>0.000208</td>\n",
       "      <td>LSEL</td>\n",
       "      <td>32.0</td>\n",
       "      <td>Transformer</td>\n",
       "      <td>1.0</td>\n",
       "      <td>4.0</td>\n",
       "      <td>1500</td>\n",
       "      <td>rmsprop</td>\n",
       "      <td>1</td>\n",
       "      <td>0.9</td>\n",
       "      <td>0.7</td>\n",
       "      <td>unirandom</td>\n",
       "      <td>0.0001</td>\n",
       "      <td>NaN</td>\n",
       "    </tr>\n",
       "    <tr>\n",
       "      <th>66</th>\n",
       "      <td>66</td>\n",
       "      <td>0.017622</td>\n",
       "      <td>2023-04-28 18:04:15.268151</td>\n",
       "      <td>relu</td>\n",
       "      <td>NaN</td>\n",
       "      <td>NaN</td>\n",
       "      <td>0.1</td>\n",
       "      <td>32.0</td>\n",
       "      <td>True</td>\n",
       "      <td>False</td>\n",
       "      <td>True</td>\n",
       "      <td>True</td>\n",
       "      <td>0.000126</td>\n",
       "      <td>LSEL</td>\n",
       "      <td>32.0</td>\n",
       "      <td>Transformer</td>\n",
       "      <td>1.0</td>\n",
       "      <td>4.0</td>\n",
       "      <td>1500</td>\n",
       "      <td>rmsprop</td>\n",
       "      <td>5</td>\n",
       "      <td>0.6</td>\n",
       "      <td>1.0</td>\n",
       "      <td>lograndom</td>\n",
       "      <td>0.0000</td>\n",
       "      <td>NaN</td>\n",
       "    </tr>\n",
       "    <tr>\n",
       "      <th>96</th>\n",
       "      <td>96</td>\n",
       "      <td>0.017668</td>\n",
       "      <td>2023-04-28 21:15:58.880440</td>\n",
       "      <td>gelu</td>\n",
       "      <td>NaN</td>\n",
       "      <td>NaN</td>\n",
       "      <td>0.1</td>\n",
       "      <td>32.0</td>\n",
       "      <td>True</td>\n",
       "      <td>False</td>\n",
       "      <td>True</td>\n",
       "      <td>True</td>\n",
       "      <td>0.000101</td>\n",
       "      <td>LSEL</td>\n",
       "      <td>32.0</td>\n",
       "      <td>Transformer</td>\n",
       "      <td>1.0</td>\n",
       "      <td>4.0</td>\n",
       "      <td>1500</td>\n",
       "      <td>rmsprop</td>\n",
       "      <td>1</td>\n",
       "      <td>0.8</td>\n",
       "      <td>0.2</td>\n",
       "      <td>unirandom</td>\n",
       "      <td>0.0002</td>\n",
       "      <td>NaN</td>\n",
       "    </tr>\n",
       "    <tr>\n",
       "      <th>43</th>\n",
       "      <td>43</td>\n",
       "      <td>0.017679</td>\n",
       "      <td>2023-04-28 15:42:12.901070</td>\n",
       "      <td>relu</td>\n",
       "      <td>NaN</td>\n",
       "      <td>NaN</td>\n",
       "      <td>0.0</td>\n",
       "      <td>32.0</td>\n",
       "      <td>True</td>\n",
       "      <td>False</td>\n",
       "      <td>True</td>\n",
       "      <td>False</td>\n",
       "      <td>0.000313</td>\n",
       "      <td>LSEL</td>\n",
       "      <td>32.0</td>\n",
       "      <td>Transformer</td>\n",
       "      <td>1.0</td>\n",
       "      <td>4.0</td>\n",
       "      <td>1500</td>\n",
       "      <td>rmsprop</td>\n",
       "      <td>2</td>\n",
       "      <td>0.6</td>\n",
       "      <td>1.0</td>\n",
       "      <td>unirandom</td>\n",
       "      <td>0.0001</td>\n",
       "      <td>NaN</td>\n",
       "    </tr>\n",
       "    <tr>\n",
       "      <th>70</th>\n",
       "      <td>70</td>\n",
       "      <td>0.017730</td>\n",
       "      <td>2023-04-28 18:32:05.637177</td>\n",
       "      <td>gelu</td>\n",
       "      <td>NaN</td>\n",
       "      <td>NaN</td>\n",
       "      <td>0.0</td>\n",
       "      <td>32.0</td>\n",
       "      <td>True</td>\n",
       "      <td>False</td>\n",
       "      <td>True</td>\n",
       "      <td>True</td>\n",
       "      <td>0.000498</td>\n",
       "      <td>LSEL</td>\n",
       "      <td>32.0</td>\n",
       "      <td>Transformer</td>\n",
       "      <td>1.0</td>\n",
       "      <td>4.0</td>\n",
       "      <td>1500</td>\n",
       "      <td>rmsprop</td>\n",
       "      <td>4</td>\n",
       "      <td>0.9</td>\n",
       "      <td>0.7</td>\n",
       "      <td>unirandom</td>\n",
       "      <td>0.0002</td>\n",
       "      <td>NaN</td>\n",
       "    </tr>\n",
       "    <tr>\n",
       "      <th>75</th>\n",
       "      <td>75</td>\n",
       "      <td>0.017817</td>\n",
       "      <td>2023-04-28 19:10:28.569436</td>\n",
       "      <td>gelu</td>\n",
       "      <td>NaN</td>\n",
       "      <td>NaN</td>\n",
       "      <td>0.0</td>\n",
       "      <td>32.0</td>\n",
       "      <td>True</td>\n",
       "      <td>False</td>\n",
       "      <td>True</td>\n",
       "      <td>True</td>\n",
       "      <td>0.000309</td>\n",
       "      <td>LSEL</td>\n",
       "      <td>32.0</td>\n",
       "      <td>Transformer</td>\n",
       "      <td>1.0</td>\n",
       "      <td>4.0</td>\n",
       "      <td>1500</td>\n",
       "      <td>rmsprop</td>\n",
       "      <td>1</td>\n",
       "      <td>0.7</td>\n",
       "      <td>0.8</td>\n",
       "      <td>unirandom</td>\n",
       "      <td>0.0001</td>\n",
       "      <td>NaN</td>\n",
       "    </tr>\n",
       "    <tr>\n",
       "      <th>90</th>\n",
       "      <td>90</td>\n",
       "      <td>0.017825</td>\n",
       "      <td>2023-04-28 20:35:34.418644</td>\n",
       "      <td>gelu</td>\n",
       "      <td>NaN</td>\n",
       "      <td>NaN</td>\n",
       "      <td>0.0</td>\n",
       "      <td>32.0</td>\n",
       "      <td>False</td>\n",
       "      <td>False</td>\n",
       "      <td>True</td>\n",
       "      <td>True</td>\n",
       "      <td>0.000179</td>\n",
       "      <td>LLLR</td>\n",
       "      <td>32.0</td>\n",
       "      <td>Transformer</td>\n",
       "      <td>1.0</td>\n",
       "      <td>4.0</td>\n",
       "      <td>1500</td>\n",
       "      <td>rmsprop</td>\n",
       "      <td>0</td>\n",
       "      <td>0.6</td>\n",
       "      <td>0.5</td>\n",
       "      <td>unirandom</td>\n",
       "      <td>0.0003</td>\n",
       "      <td>NaN</td>\n",
       "    </tr>\n",
       "    <tr>\n",
       "      <th>62</th>\n",
       "      <td>62</td>\n",
       "      <td>0.017975</td>\n",
       "      <td>2023-04-28 17:39:21.832802</td>\n",
       "      <td>B2Bcbrt</td>\n",
       "      <td>NaN</td>\n",
       "      <td>NaN</td>\n",
       "      <td>0.4</td>\n",
       "      <td>32.0</td>\n",
       "      <td>True</td>\n",
       "      <td>False</td>\n",
       "      <td>True</td>\n",
       "      <td>False</td>\n",
       "      <td>0.000405</td>\n",
       "      <td>LSEL</td>\n",
       "      <td>32.0</td>\n",
       "      <td>Transformer</td>\n",
       "      <td>1.0</td>\n",
       "      <td>4.0</td>\n",
       "      <td>1500</td>\n",
       "      <td>rmsprop</td>\n",
       "      <td>1</td>\n",
       "      <td>0.8</td>\n",
       "      <td>0.8</td>\n",
       "      <td>unirandom</td>\n",
       "      <td>0.0001</td>\n",
       "      <td>NaN</td>\n",
       "    </tr>\n",
       "    <tr>\n",
       "      <th>46</th>\n",
       "      <td>46</td>\n",
       "      <td>0.018069</td>\n",
       "      <td>2023-04-28 16:02:20.025272</td>\n",
       "      <td>gelu</td>\n",
       "      <td>NaN</td>\n",
       "      <td>NaN</td>\n",
       "      <td>0.0</td>\n",
       "      <td>32.0</td>\n",
       "      <td>True</td>\n",
       "      <td>False</td>\n",
       "      <td>True</td>\n",
       "      <td>False</td>\n",
       "      <td>0.000568</td>\n",
       "      <td>LSEL</td>\n",
       "      <td>32.0</td>\n",
       "      <td>Transformer</td>\n",
       "      <td>1.0</td>\n",
       "      <td>4.0</td>\n",
       "      <td>1500</td>\n",
       "      <td>rmsprop</td>\n",
       "      <td>2</td>\n",
       "      <td>0.8</td>\n",
       "      <td>1.0</td>\n",
       "      <td>unirandom</td>\n",
       "      <td>0.0002</td>\n",
       "      <td>NaN</td>\n",
       "    </tr>\n",
       "    <tr>\n",
       "      <th>57</th>\n",
       "      <td>57</td>\n",
       "      <td>0.018078</td>\n",
       "      <td>2023-04-28 17:08:44.033783</td>\n",
       "      <td>relu</td>\n",
       "      <td>NaN</td>\n",
       "      <td>NaN</td>\n",
       "      <td>0.1</td>\n",
       "      <td>32.0</td>\n",
       "      <td>True</td>\n",
       "      <td>False</td>\n",
       "      <td>True</td>\n",
       "      <td>False</td>\n",
       "      <td>0.000337</td>\n",
       "      <td>LSEL</td>\n",
       "      <td>32.0</td>\n",
       "      <td>Transformer</td>\n",
       "      <td>1.0</td>\n",
       "      <td>4.0</td>\n",
       "      <td>1500</td>\n",
       "      <td>rmsprop</td>\n",
       "      <td>3</td>\n",
       "      <td>0.6</td>\n",
       "      <td>0.9</td>\n",
       "      <td>unirandom</td>\n",
       "      <td>0.0003</td>\n",
       "      <td>NaN</td>\n",
       "    </tr>\n",
       "    <tr>\n",
       "      <th>61</th>\n",
       "      <td>61</td>\n",
       "      <td>0.018104</td>\n",
       "      <td>2023-04-28 17:33:35.342615</td>\n",
       "      <td>B2Bcbrt</td>\n",
       "      <td>NaN</td>\n",
       "      <td>NaN</td>\n",
       "      <td>0.3</td>\n",
       "      <td>32.0</td>\n",
       "      <td>True</td>\n",
       "      <td>False</td>\n",
       "      <td>True</td>\n",
       "      <td>False</td>\n",
       "      <td>0.000215</td>\n",
       "      <td>LSEL</td>\n",
       "      <td>32.0</td>\n",
       "      <td>Transformer</td>\n",
       "      <td>1.0</td>\n",
       "      <td>4.0</td>\n",
       "      <td>1500</td>\n",
       "      <td>rmsprop</td>\n",
       "      <td>1</td>\n",
       "      <td>0.9</td>\n",
       "      <td>1.0</td>\n",
       "      <td>unirandom</td>\n",
       "      <td>0.0001</td>\n",
       "      <td>NaN</td>\n",
       "    </tr>\n",
       "    <tr>\n",
       "      <th>72</th>\n",
       "      <td>72</td>\n",
       "      <td>0.018127</td>\n",
       "      <td>2023-04-28 18:49:36.591969</td>\n",
       "      <td>gelu</td>\n",
       "      <td>NaN</td>\n",
       "      <td>NaN</td>\n",
       "      <td>0.0</td>\n",
       "      <td>32.0</td>\n",
       "      <td>True</td>\n",
       "      <td>False</td>\n",
       "      <td>True</td>\n",
       "      <td>True</td>\n",
       "      <td>0.000317</td>\n",
       "      <td>LSEL</td>\n",
       "      <td>32.0</td>\n",
       "      <td>Transformer</td>\n",
       "      <td>1.0</td>\n",
       "      <td>4.0</td>\n",
       "      <td>1500</td>\n",
       "      <td>rmsprop</td>\n",
       "      <td>1</td>\n",
       "      <td>0.8</td>\n",
       "      <td>0.8</td>\n",
       "      <td>unirandom</td>\n",
       "      <td>0.0002</td>\n",
       "      <td>NaN</td>\n",
       "    </tr>\n",
       "    <tr>\n",
       "      <th>81</th>\n",
       "      <td>81</td>\n",
       "      <td>0.018149</td>\n",
       "      <td>2023-04-28 19:45:45.501052</td>\n",
       "      <td>gelu</td>\n",
       "      <td>NaN</td>\n",
       "      <td>NaN</td>\n",
       "      <td>0.1</td>\n",
       "      <td>32.0</td>\n",
       "      <td>True</td>\n",
       "      <td>False</td>\n",
       "      <td>True</td>\n",
       "      <td>True</td>\n",
       "      <td>0.000137</td>\n",
       "      <td>LSEL</td>\n",
       "      <td>32.0</td>\n",
       "      <td>Transformer</td>\n",
       "      <td>1.0</td>\n",
       "      <td>4.0</td>\n",
       "      <td>1500</td>\n",
       "      <td>rmsprop</td>\n",
       "      <td>0</td>\n",
       "      <td>0.6</td>\n",
       "      <td>0.3</td>\n",
       "      <td>unirandom</td>\n",
       "      <td>0.0002</td>\n",
       "      <td>NaN</td>\n",
       "    </tr>\n",
       "    <tr>\n",
       "      <th>49</th>\n",
       "      <td>49</td>\n",
       "      <td>0.018155</td>\n",
       "      <td>2023-04-28 16:21:45.081701</td>\n",
       "      <td>B2Bsqrt</td>\n",
       "      <td>NaN</td>\n",
       "      <td>NaN</td>\n",
       "      <td>0.4</td>\n",
       "      <td>32.0</td>\n",
       "      <td>True</td>\n",
       "      <td>False</td>\n",
       "      <td>True</td>\n",
       "      <td>False</td>\n",
       "      <td>0.000708</td>\n",
       "      <td>LSEL</td>\n",
       "      <td>32.0</td>\n",
       "      <td>Transformer</td>\n",
       "      <td>1.0</td>\n",
       "      <td>4.0</td>\n",
       "      <td>1500</td>\n",
       "      <td>adam</td>\n",
       "      <td>1</td>\n",
       "      <td>0.5</td>\n",
       "      <td>1.0</td>\n",
       "      <td>unirandom</td>\n",
       "      <td>0.0000</td>\n",
       "      <td>NaN</td>\n",
       "    </tr>\n",
       "    <tr>\n",
       "      <th>27</th>\n",
       "      <td>27</td>\n",
       "      <td>0.018216</td>\n",
       "      <td>2023-04-28 11:57:09.981599</td>\n",
       "      <td>relu</td>\n",
       "      <td>NaN</td>\n",
       "      <td>NaN</td>\n",
       "      <td>0.1</td>\n",
       "      <td>32.0</td>\n",
       "      <td>True</td>\n",
       "      <td>True</td>\n",
       "      <td>False</td>\n",
       "      <td>NaN</td>\n",
       "      <td>0.000092</td>\n",
       "      <td>LSEL</td>\n",
       "      <td>64.0</td>\n",
       "      <td>Transformer</td>\n",
       "      <td>2.0</td>\n",
       "      <td>2.0</td>\n",
       "      <td>1000</td>\n",
       "      <td>rmsprop</td>\n",
       "      <td>0</td>\n",
       "      <td>0.2</td>\n",
       "      <td>0.6</td>\n",
       "      <td>logspace</td>\n",
       "      <td>0.0004</td>\n",
       "      <td>NaN</td>\n",
       "    </tr>\n",
       "    <tr>\n",
       "      <th>74</th>\n",
       "      <td>74</td>\n",
       "      <td>0.018246</td>\n",
       "      <td>2023-04-28 19:03:30.937737</td>\n",
       "      <td>gelu</td>\n",
       "      <td>NaN</td>\n",
       "      <td>NaN</td>\n",
       "      <td>0.0</td>\n",
       "      <td>32.0</td>\n",
       "      <td>True</td>\n",
       "      <td>False</td>\n",
       "      <td>True</td>\n",
       "      <td>True</td>\n",
       "      <td>0.000166</td>\n",
       "      <td>LSEL</td>\n",
       "      <td>32.0</td>\n",
       "      <td>Transformer</td>\n",
       "      <td>1.0</td>\n",
       "      <td>4.0</td>\n",
       "      <td>1500</td>\n",
       "      <td>rmsprop</td>\n",
       "      <td>1</td>\n",
       "      <td>0.8</td>\n",
       "      <td>0.8</td>\n",
       "      <td>unirandom</td>\n",
       "      <td>0.0002</td>\n",
       "      <td>NaN</td>\n",
       "    </tr>\n",
       "    <tr>\n",
       "      <th>10</th>\n",
       "      <td>10</td>\n",
       "      <td>0.018258</td>\n",
       "      <td>2023-04-28 05:52:23.332254</td>\n",
       "      <td>tanh</td>\n",
       "      <td>NaN</td>\n",
       "      <td>NaN</td>\n",
       "      <td>0.1</td>\n",
       "      <td>32.0</td>\n",
       "      <td>False</td>\n",
       "      <td>True</td>\n",
       "      <td>False</td>\n",
       "      <td>NaN</td>\n",
       "      <td>0.000483</td>\n",
       "      <td>LLLR</td>\n",
       "      <td>64.0</td>\n",
       "      <td>Transformer</td>\n",
       "      <td>2.0</td>\n",
       "      <td>2.0</td>\n",
       "      <td>1500</td>\n",
       "      <td>rmsprop</td>\n",
       "      <td>0</td>\n",
       "      <td>0.1</td>\n",
       "      <td>0.9</td>\n",
       "      <td>linspace</td>\n",
       "      <td>0.0007</td>\n",
       "      <td>NaN</td>\n",
       "    </tr>\n",
       "    <tr>\n",
       "      <th>60</th>\n",
       "      <td>60</td>\n",
       "      <td>0.018354</td>\n",
       "      <td>2023-04-28 17:27:41.397500</td>\n",
       "      <td>B2Bcbrt</td>\n",
       "      <td>NaN</td>\n",
       "      <td>NaN</td>\n",
       "      <td>0.2</td>\n",
       "      <td>32.0</td>\n",
       "      <td>True</td>\n",
       "      <td>False</td>\n",
       "      <td>True</td>\n",
       "      <td>False</td>\n",
       "      <td>0.000962</td>\n",
       "      <td>LSEL</td>\n",
       "      <td>32.0</td>\n",
       "      <td>Transformer</td>\n",
       "      <td>1.0</td>\n",
       "      <td>4.0</td>\n",
       "      <td>1500</td>\n",
       "      <td>adam</td>\n",
       "      <td>1</td>\n",
       "      <td>0.8</td>\n",
       "      <td>0.8</td>\n",
       "      <td>lograndom</td>\n",
       "      <td>0.0002</td>\n",
       "      <td>NaN</td>\n",
       "    </tr>\n",
       "    <tr>\n",
       "      <th>12</th>\n",
       "      <td>12</td>\n",
       "      <td>0.018514</td>\n",
       "      <td>2023-04-28 06:47:16.328554</td>\n",
       "      <td>tanh</td>\n",
       "      <td>NaN</td>\n",
       "      <td>NaN</td>\n",
       "      <td>0.0</td>\n",
       "      <td>32.0</td>\n",
       "      <td>False</td>\n",
       "      <td>True</td>\n",
       "      <td>False</td>\n",
       "      <td>NaN</td>\n",
       "      <td>0.000871</td>\n",
       "      <td>LLLR</td>\n",
       "      <td>64.0</td>\n",
       "      <td>Transformer</td>\n",
       "      <td>2.0</td>\n",
       "      <td>2.0</td>\n",
       "      <td>1500</td>\n",
       "      <td>rmsprop</td>\n",
       "      <td>0</td>\n",
       "      <td>0.0</td>\n",
       "      <td>0.8</td>\n",
       "      <td>linspace</td>\n",
       "      <td>0.0007</td>\n",
       "      <td>NaN</td>\n",
       "    </tr>\n",
       "    <tr>\n",
       "      <th>36</th>\n",
       "      <td>36</td>\n",
       "      <td>0.018580</td>\n",
       "      <td>2023-04-28 14:48:27.743861</td>\n",
       "      <td>relu</td>\n",
       "      <td>tanh</td>\n",
       "      <td>sigmoid</td>\n",
       "      <td>NaN</td>\n",
       "      <td>NaN</td>\n",
       "      <td>True</td>\n",
       "      <td>True</td>\n",
       "      <td>True</td>\n",
       "      <td>False</td>\n",
       "      <td>0.000109</td>\n",
       "      <td>LSEL</td>\n",
       "      <td>NaN</td>\n",
       "      <td>LSTM</td>\n",
       "      <td>NaN</td>\n",
       "      <td>NaN</td>\n",
       "      <td>1000</td>\n",
       "      <td>adam</td>\n",
       "      <td>0</td>\n",
       "      <td>0.3</td>\n",
       "      <td>0.5</td>\n",
       "      <td>logspace</td>\n",
       "      <td>0.0001</td>\n",
       "      <td>53.0</td>\n",
       "    </tr>\n",
       "    <tr>\n",
       "      <th>50</th>\n",
       "      <td>50</td>\n",
       "      <td>0.018589</td>\n",
       "      <td>2023-04-28 16:27:34.114359</td>\n",
       "      <td>B2Bsqrt</td>\n",
       "      <td>NaN</td>\n",
       "      <td>NaN</td>\n",
       "      <td>0.4</td>\n",
       "      <td>32.0</td>\n",
       "      <td>True</td>\n",
       "      <td>False</td>\n",
       "      <td>True</td>\n",
       "      <td>False</td>\n",
       "      <td>0.000396</td>\n",
       "      <td>LSEL</td>\n",
       "      <td>32.0</td>\n",
       "      <td>Transformer</td>\n",
       "      <td>1.0</td>\n",
       "      <td>4.0</td>\n",
       "      <td>1500</td>\n",
       "      <td>adam</td>\n",
       "      <td>1</td>\n",
       "      <td>0.7</td>\n",
       "      <td>0.9</td>\n",
       "      <td>unirandom</td>\n",
       "      <td>0.0001</td>\n",
       "      <td>NaN</td>\n",
       "    </tr>\n",
       "    <tr>\n",
       "      <th>51</th>\n",
       "      <td>51</td>\n",
       "      <td>0.018658</td>\n",
       "      <td>2023-04-28 16:33:27.789859</td>\n",
       "      <td>relu</td>\n",
       "      <td>NaN</td>\n",
       "      <td>NaN</td>\n",
       "      <td>0.3</td>\n",
       "      <td>32.0</td>\n",
       "      <td>True</td>\n",
       "      <td>False</td>\n",
       "      <td>True</td>\n",
       "      <td>False</td>\n",
       "      <td>0.000359</td>\n",
       "      <td>LSEL</td>\n",
       "      <td>32.0</td>\n",
       "      <td>Transformer</td>\n",
       "      <td>1.0</td>\n",
       "      <td>4.0</td>\n",
       "      <td>1500</td>\n",
       "      <td>adam</td>\n",
       "      <td>1</td>\n",
       "      <td>0.6</td>\n",
       "      <td>0.8</td>\n",
       "      <td>unirandom</td>\n",
       "      <td>0.0002</td>\n",
       "      <td>NaN</td>\n",
       "    </tr>\n",
       "    <tr>\n",
       "      <th>99</th>\n",
       "      <td>99</td>\n",
       "      <td>0.018663</td>\n",
       "      <td>2023-04-28 21:32:48.463110</td>\n",
       "      <td>B2Bcbrt</td>\n",
       "      <td>NaN</td>\n",
       "      <td>NaN</td>\n",
       "      <td>0.0</td>\n",
       "      <td>32.0</td>\n",
       "      <td>True</td>\n",
       "      <td>False</td>\n",
       "      <td>True</td>\n",
       "      <td>True</td>\n",
       "      <td>0.000124</td>\n",
       "      <td>LSEL</td>\n",
       "      <td>32.0</td>\n",
       "      <td>Transformer</td>\n",
       "      <td>1.0</td>\n",
       "      <td>4.0</td>\n",
       "      <td>1500</td>\n",
       "      <td>rmsprop</td>\n",
       "      <td>1</td>\n",
       "      <td>0.4</td>\n",
       "      <td>0.6</td>\n",
       "      <td>unirandom</td>\n",
       "      <td>0.0004</td>\n",
       "      <td>NaN</td>\n",
       "    </tr>\n",
       "    <tr>\n",
       "      <th>80</th>\n",
       "      <td>80</td>\n",
       "      <td>0.018717</td>\n",
       "      <td>2023-04-28 19:40:59.109411</td>\n",
       "      <td>gelu</td>\n",
       "      <td>sigmoid</td>\n",
       "      <td>B2Bcbrt</td>\n",
       "      <td>NaN</td>\n",
       "      <td>NaN</td>\n",
       "      <td>True</td>\n",
       "      <td>False</td>\n",
       "      <td>True</td>\n",
       "      <td>True</td>\n",
       "      <td>0.000121</td>\n",
       "      <td>LSEL</td>\n",
       "      <td>NaN</td>\n",
       "      <td>LSTM</td>\n",
       "      <td>NaN</td>\n",
       "      <td>NaN</td>\n",
       "      <td>1500</td>\n",
       "      <td>rmsprop</td>\n",
       "      <td>0</td>\n",
       "      <td>0.8</td>\n",
       "      <td>0.1</td>\n",
       "      <td>unirandom</td>\n",
       "      <td>0.0003</td>\n",
       "      <td>83.0</td>\n",
       "    </tr>\n",
       "    <tr>\n",
       "      <th>82</th>\n",
       "      <td>82</td>\n",
       "      <td>0.018730</td>\n",
       "      <td>2023-04-28 19:50:27.138026</td>\n",
       "      <td>gelu</td>\n",
       "      <td>NaN</td>\n",
       "      <td>NaN</td>\n",
       "      <td>0.0</td>\n",
       "      <td>32.0</td>\n",
       "      <td>True</td>\n",
       "      <td>False</td>\n",
       "      <td>True</td>\n",
       "      <td>True</td>\n",
       "      <td>0.000181</td>\n",
       "      <td>LSEL</td>\n",
       "      <td>32.0</td>\n",
       "      <td>Transformer</td>\n",
       "      <td>1.0</td>\n",
       "      <td>4.0</td>\n",
       "      <td>1500</td>\n",
       "      <td>rmsprop</td>\n",
       "      <td>0</td>\n",
       "      <td>0.6</td>\n",
       "      <td>0.0</td>\n",
       "      <td>unirandom</td>\n",
       "      <td>0.0002</td>\n",
       "      <td>NaN</td>\n",
       "    </tr>\n",
       "    <tr>\n",
       "      <th>44</th>\n",
       "      <td>44</td>\n",
       "      <td>0.018753</td>\n",
       "      <td>2023-04-28 15:50:14.122488</td>\n",
       "      <td>relu</td>\n",
       "      <td>NaN</td>\n",
       "      <td>NaN</td>\n",
       "      <td>0.1</td>\n",
       "      <td>32.0</td>\n",
       "      <td>True</td>\n",
       "      <td>False</td>\n",
       "      <td>True</td>\n",
       "      <td>False</td>\n",
       "      <td>0.000285</td>\n",
       "      <td>LSEL</td>\n",
       "      <td>32.0</td>\n",
       "      <td>Transformer</td>\n",
       "      <td>1.0</td>\n",
       "      <td>4.0</td>\n",
       "      <td>1500</td>\n",
       "      <td>adam</td>\n",
       "      <td>2</td>\n",
       "      <td>0.7</td>\n",
       "      <td>1.0</td>\n",
       "      <td>unirandom</td>\n",
       "      <td>0.0000</td>\n",
       "      <td>NaN</td>\n",
       "    </tr>\n",
       "    <tr>\n",
       "      <th>21</th>\n",
       "      <td>21</td>\n",
       "      <td>0.018754</td>\n",
       "      <td>2023-04-28 09:46:23.363693</td>\n",
       "      <td>tanh</td>\n",
       "      <td>NaN</td>\n",
       "      <td>NaN</td>\n",
       "      <td>0.1</td>\n",
       "      <td>32.0</td>\n",
       "      <td>False</td>\n",
       "      <td>True</td>\n",
       "      <td>False</td>\n",
       "      <td>NaN</td>\n",
       "      <td>0.000594</td>\n",
       "      <td>LLLR</td>\n",
       "      <td>64.0</td>\n",
       "      <td>Transformer</td>\n",
       "      <td>2.0</td>\n",
       "      <td>2.0</td>\n",
       "      <td>1500</td>\n",
       "      <td>rmsprop</td>\n",
       "      <td>0</td>\n",
       "      <td>0.0</td>\n",
       "      <td>0.9</td>\n",
       "      <td>linspace</td>\n",
       "      <td>0.0007</td>\n",
       "      <td>NaN</td>\n",
       "    </tr>\n",
       "    <tr>\n",
       "      <th>95</th>\n",
       "      <td>95</td>\n",
       "      <td>0.018758</td>\n",
       "      <td>2023-04-28 21:08:48.326976</td>\n",
       "      <td>gelu</td>\n",
       "      <td>NaN</td>\n",
       "      <td>NaN</td>\n",
       "      <td>0.0</td>\n",
       "      <td>32.0</td>\n",
       "      <td>True</td>\n",
       "      <td>False</td>\n",
       "      <td>True</td>\n",
       "      <td>True</td>\n",
       "      <td>0.000144</td>\n",
       "      <td>LSEL</td>\n",
       "      <td>32.0</td>\n",
       "      <td>Transformer</td>\n",
       "      <td>1.0</td>\n",
       "      <td>4.0</td>\n",
       "      <td>1500</td>\n",
       "      <td>rmsprop</td>\n",
       "      <td>1</td>\n",
       "      <td>0.6</td>\n",
       "      <td>0.3</td>\n",
       "      <td>unirandom</td>\n",
       "      <td>0.0002</td>\n",
       "      <td>NaN</td>\n",
       "    </tr>\n",
       "    <tr>\n",
       "      <th>91</th>\n",
       "      <td>91</td>\n",
       "      <td>0.018854</td>\n",
       "      <td>2023-04-28 20:40:59.142667</td>\n",
       "      <td>gelu</td>\n",
       "      <td>NaN</td>\n",
       "      <td>NaN</td>\n",
       "      <td>0.0</td>\n",
       "      <td>32.0</td>\n",
       "      <td>True</td>\n",
       "      <td>False</td>\n",
       "      <td>True</td>\n",
       "      <td>True</td>\n",
       "      <td>0.000233</td>\n",
       "      <td>LSEL</td>\n",
       "      <td>32.0</td>\n",
       "      <td>Transformer</td>\n",
       "      <td>1.0</td>\n",
       "      <td>4.0</td>\n",
       "      <td>1500</td>\n",
       "      <td>rmsprop</td>\n",
       "      <td>1</td>\n",
       "      <td>0.7</td>\n",
       "      <td>0.4</td>\n",
       "      <td>unirandom</td>\n",
       "      <td>0.0001</td>\n",
       "      <td>NaN</td>\n",
       "    </tr>\n",
       "    <tr>\n",
       "      <th>73</th>\n",
       "      <td>73</td>\n",
       "      <td>0.018881</td>\n",
       "      <td>2023-04-28 18:56:35.645432</td>\n",
       "      <td>gelu</td>\n",
       "      <td>NaN</td>\n",
       "      <td>NaN</td>\n",
       "      <td>0.0</td>\n",
       "      <td>32.0</td>\n",
       "      <td>True</td>\n",
       "      <td>False</td>\n",
       "      <td>True</td>\n",
       "      <td>True</td>\n",
       "      <td>0.000230</td>\n",
       "      <td>LSEL</td>\n",
       "      <td>32.0</td>\n",
       "      <td>Transformer</td>\n",
       "      <td>1.0</td>\n",
       "      <td>4.0</td>\n",
       "      <td>1500</td>\n",
       "      <td>rmsprop</td>\n",
       "      <td>1</td>\n",
       "      <td>0.7</td>\n",
       "      <td>0.7</td>\n",
       "      <td>unirandom</td>\n",
       "      <td>0.0003</td>\n",
       "      <td>NaN</td>\n",
       "    </tr>\n",
       "    <tr>\n",
       "      <th>11</th>\n",
       "      <td>11</td>\n",
       "      <td>0.018920</td>\n",
       "      <td>2023-04-28 06:24:34.126675</td>\n",
       "      <td>tanh</td>\n",
       "      <td>NaN</td>\n",
       "      <td>NaN</td>\n",
       "      <td>0.1</td>\n",
       "      <td>32.0</td>\n",
       "      <td>False</td>\n",
       "      <td>True</td>\n",
       "      <td>False</td>\n",
       "      <td>NaN</td>\n",
       "      <td>0.000793</td>\n",
       "      <td>LLLR</td>\n",
       "      <td>64.0</td>\n",
       "      <td>Transformer</td>\n",
       "      <td>2.0</td>\n",
       "      <td>2.0</td>\n",
       "      <td>1500</td>\n",
       "      <td>rmsprop</td>\n",
       "      <td>0</td>\n",
       "      <td>0.0</td>\n",
       "      <td>0.9</td>\n",
       "      <td>linspace</td>\n",
       "      <td>0.0007</td>\n",
       "      <td>NaN</td>\n",
       "    </tr>\n",
       "    <tr>\n",
       "      <th>69</th>\n",
       "      <td>69</td>\n",
       "      <td>0.019009</td>\n",
       "      <td>2023-04-28 18:26:41.782976</td>\n",
       "      <td>gelu</td>\n",
       "      <td>sigmoid</td>\n",
       "      <td>sigmoid</td>\n",
       "      <td>NaN</td>\n",
       "      <td>NaN</td>\n",
       "      <td>True</td>\n",
       "      <td>False</td>\n",
       "      <td>True</td>\n",
       "      <td>True</td>\n",
       "      <td>0.000676</td>\n",
       "      <td>LSEL</td>\n",
       "      <td>NaN</td>\n",
       "      <td>LSTM</td>\n",
       "      <td>NaN</td>\n",
       "      <td>NaN</td>\n",
       "      <td>1500</td>\n",
       "      <td>rmsprop</td>\n",
       "      <td>1</td>\n",
       "      <td>0.7</td>\n",
       "      <td>0.7</td>\n",
       "      <td>unirandom</td>\n",
       "      <td>0.0003</td>\n",
       "      <td>41.0</td>\n",
       "    </tr>\n",
       "    <tr>\n",
       "      <th>19</th>\n",
       "      <td>19</td>\n",
       "      <td>0.019026</td>\n",
       "      <td>2023-04-28 09:06:58.543377</td>\n",
       "      <td>tanh</td>\n",
       "      <td>NaN</td>\n",
       "      <td>NaN</td>\n",
       "      <td>0.2</td>\n",
       "      <td>32.0</td>\n",
       "      <td>False</td>\n",
       "      <td>True</td>\n",
       "      <td>False</td>\n",
       "      <td>NaN</td>\n",
       "      <td>0.000998</td>\n",
       "      <td>LLLR</td>\n",
       "      <td>64.0</td>\n",
       "      <td>Transformer</td>\n",
       "      <td>2.0</td>\n",
       "      <td>2.0</td>\n",
       "      <td>1000</td>\n",
       "      <td>rmsprop</td>\n",
       "      <td>1</td>\n",
       "      <td>0.3</td>\n",
       "      <td>0.9</td>\n",
       "      <td>linspace</td>\n",
       "      <td>0.0006</td>\n",
       "      <td>NaN</td>\n",
       "    </tr>\n",
       "    <tr>\n",
       "      <th>85</th>\n",
       "      <td>85</td>\n",
       "      <td>0.019176</td>\n",
       "      <td>2023-04-28 20:08:37.987030</td>\n",
       "      <td>gelu</td>\n",
       "      <td>NaN</td>\n",
       "      <td>NaN</td>\n",
       "      <td>0.0</td>\n",
       "      <td>32.0</td>\n",
       "      <td>True</td>\n",
       "      <td>False</td>\n",
       "      <td>True</td>\n",
       "      <td>True</td>\n",
       "      <td>0.000154</td>\n",
       "      <td>LSEL</td>\n",
       "      <td>32.0</td>\n",
       "      <td>Transformer</td>\n",
       "      <td>1.0</td>\n",
       "      <td>4.0</td>\n",
       "      <td>1500</td>\n",
       "      <td>rmsprop</td>\n",
       "      <td>1</td>\n",
       "      <td>0.7</td>\n",
       "      <td>0.4</td>\n",
       "      <td>unirandom</td>\n",
       "      <td>0.0002</td>\n",
       "      <td>NaN</td>\n",
       "    </tr>\n",
       "    <tr>\n",
       "      <th>92</th>\n",
       "      <td>92</td>\n",
       "      <td>0.019291</td>\n",
       "      <td>2023-04-28 20:48:08.577020</td>\n",
       "      <td>B2Bcbrt</td>\n",
       "      <td>NaN</td>\n",
       "      <td>NaN</td>\n",
       "      <td>0.0</td>\n",
       "      <td>32.0</td>\n",
       "      <td>True</td>\n",
       "      <td>False</td>\n",
       "      <td>True</td>\n",
       "      <td>True</td>\n",
       "      <td>0.000201</td>\n",
       "      <td>LSEL</td>\n",
       "      <td>32.0</td>\n",
       "      <td>Transformer</td>\n",
       "      <td>1.0</td>\n",
       "      <td>4.0</td>\n",
       "      <td>1500</td>\n",
       "      <td>rmsprop</td>\n",
       "      <td>1</td>\n",
       "      <td>0.7</td>\n",
       "      <td>0.0</td>\n",
       "      <td>unirandom</td>\n",
       "      <td>0.0001</td>\n",
       "      <td>NaN</td>\n",
       "    </tr>\n",
       "    <tr>\n",
       "      <th>45</th>\n",
       "      <td>45</td>\n",
       "      <td>0.019314</td>\n",
       "      <td>2023-04-28 15:56:27.710494</td>\n",
       "      <td>relu</td>\n",
       "      <td>NaN</td>\n",
       "      <td>NaN</td>\n",
       "      <td>0.3</td>\n",
       "      <td>32.0</td>\n",
       "      <td>True</td>\n",
       "      <td>False</td>\n",
       "      <td>True</td>\n",
       "      <td>False</td>\n",
       "      <td>0.000665</td>\n",
       "      <td>LSEL</td>\n",
       "      <td>32.0</td>\n",
       "      <td>Transformer</td>\n",
       "      <td>1.0</td>\n",
       "      <td>4.0</td>\n",
       "      <td>1500</td>\n",
       "      <td>rmsprop</td>\n",
       "      <td>1</td>\n",
       "      <td>0.8</td>\n",
       "      <td>0.9</td>\n",
       "      <td>unirandom</td>\n",
       "      <td>0.0001</td>\n",
       "      <td>NaN</td>\n",
       "    </tr>\n",
       "    <tr>\n",
       "      <th>63</th>\n",
       "      <td>63</td>\n",
       "      <td>0.019442</td>\n",
       "      <td>2023-04-28 17:45:12.820425</td>\n",
       "      <td>B2Bsqrt</td>\n",
       "      <td>NaN</td>\n",
       "      <td>NaN</td>\n",
       "      <td>0.2</td>\n",
       "      <td>32.0</td>\n",
       "      <td>True</td>\n",
       "      <td>False</td>\n",
       "      <td>True</td>\n",
       "      <td>False</td>\n",
       "      <td>0.000528</td>\n",
       "      <td>LSEL</td>\n",
       "      <td>32.0</td>\n",
       "      <td>Transformer</td>\n",
       "      <td>1.0</td>\n",
       "      <td>4.0</td>\n",
       "      <td>1500</td>\n",
       "      <td>rmsprop</td>\n",
       "      <td>1</td>\n",
       "      <td>0.7</td>\n",
       "      <td>0.9</td>\n",
       "      <td>unirandom</td>\n",
       "      <td>0.0000</td>\n",
       "      <td>NaN</td>\n",
       "    </tr>\n",
       "    <tr>\n",
       "      <th>32</th>\n",
       "      <td>32</td>\n",
       "      <td>0.019484</td>\n",
       "      <td>2023-04-28 13:29:09.567200</td>\n",
       "      <td>B2BsqrtV2</td>\n",
       "      <td>NaN</td>\n",
       "      <td>NaN</td>\n",
       "      <td>0.0</td>\n",
       "      <td>32.0</td>\n",
       "      <td>True</td>\n",
       "      <td>True</td>\n",
       "      <td>False</td>\n",
       "      <td>NaN</td>\n",
       "      <td>0.000265</td>\n",
       "      <td>LSEL</td>\n",
       "      <td>64.0</td>\n",
       "      <td>Transformer</td>\n",
       "      <td>2.0</td>\n",
       "      <td>2.0</td>\n",
       "      <td>1000</td>\n",
       "      <td>rmsprop</td>\n",
       "      <td>0</td>\n",
       "      <td>0.1</td>\n",
       "      <td>0.7</td>\n",
       "      <td>logspace</td>\n",
       "      <td>0.0004</td>\n",
       "      <td>NaN</td>\n",
       "    </tr>\n",
       "    <tr>\n",
       "      <th>18</th>\n",
       "      <td>18</td>\n",
       "      <td>0.019521</td>\n",
       "      <td>2023-04-28 09:02:05.254539</td>\n",
       "      <td>B2Bsqrt</td>\n",
       "      <td>NaN</td>\n",
       "      <td>NaN</td>\n",
       "      <td>0.5</td>\n",
       "      <td>32.0</td>\n",
       "      <td>False</td>\n",
       "      <td>True</td>\n",
       "      <td>False</td>\n",
       "      <td>NaN</td>\n",
       "      <td>0.000137</td>\n",
       "      <td>LLLR</td>\n",
       "      <td>64.0</td>\n",
       "      <td>Transformer</td>\n",
       "      <td>2.0</td>\n",
       "      <td>2.0</td>\n",
       "      <td>1500</td>\n",
       "      <td>rmsprop</td>\n",
       "      <td>0</td>\n",
       "      <td>0.1</td>\n",
       "      <td>0.8</td>\n",
       "      <td>lograndom</td>\n",
       "      <td>0.0010</td>\n",
       "      <td>NaN</td>\n",
       "    </tr>\n",
       "    <tr>\n",
       "      <th>40</th>\n",
       "      <td>40</td>\n",
       "      <td>0.019569</td>\n",
       "      <td>2023-04-28 15:22:20.507660</td>\n",
       "      <td>relu</td>\n",
       "      <td>tanh</td>\n",
       "      <td>B2Bsqrt</td>\n",
       "      <td>NaN</td>\n",
       "      <td>NaN</td>\n",
       "      <td>True</td>\n",
       "      <td>False</td>\n",
       "      <td>True</td>\n",
       "      <td>False</td>\n",
       "      <td>0.000351</td>\n",
       "      <td>LSEL</td>\n",
       "      <td>NaN</td>\n",
       "      <td>LSTM</td>\n",
       "      <td>NaN</td>\n",
       "      <td>NaN</td>\n",
       "      <td>1500</td>\n",
       "      <td>rmsprop</td>\n",
       "      <td>2</td>\n",
       "      <td>0.7</td>\n",
       "      <td>1.0</td>\n",
       "      <td>unirandom</td>\n",
       "      <td>0.0000</td>\n",
       "      <td>16.0</td>\n",
       "    </tr>\n",
       "    <tr>\n",
       "      <th>23</th>\n",
       "      <td>23</td>\n",
       "      <td>0.019998</td>\n",
       "      <td>2023-04-28 10:30:40.562879</td>\n",
       "      <td>tanh</td>\n",
       "      <td>NaN</td>\n",
       "      <td>NaN</td>\n",
       "      <td>0.0</td>\n",
       "      <td>32.0</td>\n",
       "      <td>False</td>\n",
       "      <td>True</td>\n",
       "      <td>False</td>\n",
       "      <td>NaN</td>\n",
       "      <td>0.000183</td>\n",
       "      <td>LLLR</td>\n",
       "      <td>64.0</td>\n",
       "      <td>Transformer</td>\n",
       "      <td>2.0</td>\n",
       "      <td>2.0</td>\n",
       "      <td>1500</td>\n",
       "      <td>rmsprop</td>\n",
       "      <td>1</td>\n",
       "      <td>0.2</td>\n",
       "      <td>1.0</td>\n",
       "      <td>linspace</td>\n",
       "      <td>0.0006</td>\n",
       "      <td>NaN</td>\n",
       "    </tr>\n",
       "    <tr>\n",
       "      <th>59</th>\n",
       "      <td>59</td>\n",
       "      <td>0.020364</td>\n",
       "      <td>2023-04-28 17:21:17.977921</td>\n",
       "      <td>B2Bcbrt</td>\n",
       "      <td>NaN</td>\n",
       "      <td>NaN</td>\n",
       "      <td>0.2</td>\n",
       "      <td>64.0</td>\n",
       "      <td>True</td>\n",
       "      <td>False</td>\n",
       "      <td>True</td>\n",
       "      <td>False</td>\n",
       "      <td>0.000169</td>\n",
       "      <td>LSEL</td>\n",
       "      <td>32.0</td>\n",
       "      <td>Transformer</td>\n",
       "      <td>1.0</td>\n",
       "      <td>4.0</td>\n",
       "      <td>1500</td>\n",
       "      <td>rmsprop</td>\n",
       "      <td>2</td>\n",
       "      <td>1.0</td>\n",
       "      <td>0.3</td>\n",
       "      <td>unirandom</td>\n",
       "      <td>0.0000</td>\n",
       "      <td>NaN</td>\n",
       "    </tr>\n",
       "    <tr>\n",
       "      <th>14</th>\n",
       "      <td>14</td>\n",
       "      <td>0.020449</td>\n",
       "      <td>2023-04-28 07:32:31.428034</td>\n",
       "      <td>B2Bcbrt</td>\n",
       "      <td>NaN</td>\n",
       "      <td>NaN</td>\n",
       "      <td>0.0</td>\n",
       "      <td>32.0</td>\n",
       "      <td>False</td>\n",
       "      <td>True</td>\n",
       "      <td>False</td>\n",
       "      <td>NaN</td>\n",
       "      <td>0.000305</td>\n",
       "      <td>LLLR</td>\n",
       "      <td>64.0</td>\n",
       "      <td>Transformer</td>\n",
       "      <td>2.0</td>\n",
       "      <td>2.0</td>\n",
       "      <td>1500</td>\n",
       "      <td>rmsprop</td>\n",
       "      <td>0</td>\n",
       "      <td>0.3</td>\n",
       "      <td>0.7</td>\n",
       "      <td>linspace</td>\n",
       "      <td>0.0007</td>\n",
       "      <td>NaN</td>\n",
       "    </tr>\n",
       "    <tr>\n",
       "      <th>33</th>\n",
       "      <td>33</td>\n",
       "      <td>0.020790</td>\n",
       "      <td>2023-04-28 13:45:41.656239</td>\n",
       "      <td>B2BsqrtV2</td>\n",
       "      <td>NaN</td>\n",
       "      <td>NaN</td>\n",
       "      <td>0.1</td>\n",
       "      <td>32.0</td>\n",
       "      <td>True</td>\n",
       "      <td>True</td>\n",
       "      <td>False</td>\n",
       "      <td>NaN</td>\n",
       "      <td>0.000152</td>\n",
       "      <td>LSEL</td>\n",
       "      <td>64.0</td>\n",
       "      <td>Transformer</td>\n",
       "      <td>2.0</td>\n",
       "      <td>2.0</td>\n",
       "      <td>1500</td>\n",
       "      <td>rmsprop</td>\n",
       "      <td>1</td>\n",
       "      <td>0.1</td>\n",
       "      <td>0.6</td>\n",
       "      <td>logspace</td>\n",
       "      <td>0.0002</td>\n",
       "      <td>NaN</td>\n",
       "    </tr>\n",
       "    <tr>\n",
       "      <th>87</th>\n",
       "      <td>87</td>\n",
       "      <td>0.021040</td>\n",
       "      <td>2023-04-28 20:21:03.257689</td>\n",
       "      <td>gelu</td>\n",
       "      <td>NaN</td>\n",
       "      <td>NaN</td>\n",
       "      <td>0.0</td>\n",
       "      <td>32.0</td>\n",
       "      <td>True</td>\n",
       "      <td>False</td>\n",
       "      <td>True</td>\n",
       "      <td>True</td>\n",
       "      <td>0.000077</td>\n",
       "      <td>LSEL</td>\n",
       "      <td>32.0</td>\n",
       "      <td>Transformer</td>\n",
       "      <td>1.0</td>\n",
       "      <td>4.0</td>\n",
       "      <td>1500</td>\n",
       "      <td>rmsprop</td>\n",
       "      <td>0</td>\n",
       "      <td>0.8</td>\n",
       "      <td>0.1</td>\n",
       "      <td>unirandom</td>\n",
       "      <td>0.0002</td>\n",
       "      <td>NaN</td>\n",
       "    </tr>\n",
       "    <tr>\n",
       "      <th>4</th>\n",
       "      <td>4</td>\n",
       "      <td>0.021068</td>\n",
       "      <td>2023-04-28 04:44:30.146056</td>\n",
       "      <td>tanh</td>\n",
       "      <td>NaN</td>\n",
       "      <td>NaN</td>\n",
       "      <td>0.3</td>\n",
       "      <td>32.0</td>\n",
       "      <td>False</td>\n",
       "      <td>False</td>\n",
       "      <td>False</td>\n",
       "      <td>NaN</td>\n",
       "      <td>0.000044</td>\n",
       "      <td>LLLR</td>\n",
       "      <td>64.0</td>\n",
       "      <td>Transformer</td>\n",
       "      <td>2.0</td>\n",
       "      <td>2.0</td>\n",
       "      <td>500</td>\n",
       "      <td>rmsprop</td>\n",
       "      <td>2</td>\n",
       "      <td>0.9</td>\n",
       "      <td>0.8</td>\n",
       "      <td>linspace</td>\n",
       "      <td>0.0003</td>\n",
       "      <td>NaN</td>\n",
       "    </tr>\n",
       "    <tr>\n",
       "      <th>30</th>\n",
       "      <td>30</td>\n",
       "      <td>0.021102</td>\n",
       "      <td>2023-04-28 12:48:00.104160</td>\n",
       "      <td>relu</td>\n",
       "      <td>NaN</td>\n",
       "      <td>NaN</td>\n",
       "      <td>0.2</td>\n",
       "      <td>32.0</td>\n",
       "      <td>True</td>\n",
       "      <td>True</td>\n",
       "      <td>False</td>\n",
       "      <td>NaN</td>\n",
       "      <td>0.000090</td>\n",
       "      <td>LSEL</td>\n",
       "      <td>64.0</td>\n",
       "      <td>Transformer</td>\n",
       "      <td>2.0</td>\n",
       "      <td>2.0</td>\n",
       "      <td>1000</td>\n",
       "      <td>rmsprop</td>\n",
       "      <td>4</td>\n",
       "      <td>0.2</td>\n",
       "      <td>0.6</td>\n",
       "      <td>logspace</td>\n",
       "      <td>0.0003</td>\n",
       "      <td>NaN</td>\n",
       "    </tr>\n",
       "    <tr>\n",
       "      <th>24</th>\n",
       "      <td>24</td>\n",
       "      <td>0.021192</td>\n",
       "      <td>2023-04-28 10:54:40.189998</td>\n",
       "      <td>tanh</td>\n",
       "      <td>NaN</td>\n",
       "      <td>NaN</td>\n",
       "      <td>0.0</td>\n",
       "      <td>32.0</td>\n",
       "      <td>False</td>\n",
       "      <td>True</td>\n",
       "      <td>False</td>\n",
       "      <td>NaN</td>\n",
       "      <td>0.000447</td>\n",
       "      <td>LLLR</td>\n",
       "      <td>64.0</td>\n",
       "      <td>Transformer</td>\n",
       "      <td>2.0</td>\n",
       "      <td>2.0</td>\n",
       "      <td>1000</td>\n",
       "      <td>rmsprop</td>\n",
       "      <td>0</td>\n",
       "      <td>0.1</td>\n",
       "      <td>0.9</td>\n",
       "      <td>linspace</td>\n",
       "      <td>0.0005</td>\n",
       "      <td>NaN</td>\n",
       "    </tr>\n",
       "    <tr>\n",
       "      <th>13</th>\n",
       "      <td>13</td>\n",
       "      <td>0.021290</td>\n",
       "      <td>2023-04-28 07:10:01.099133</td>\n",
       "      <td>B2Bsqrt</td>\n",
       "      <td>NaN</td>\n",
       "      <td>NaN</td>\n",
       "      <td>0.1</td>\n",
       "      <td>64.0</td>\n",
       "      <td>False</td>\n",
       "      <td>True</td>\n",
       "      <td>False</td>\n",
       "      <td>NaN</td>\n",
       "      <td>0.000885</td>\n",
       "      <td>LLLR</td>\n",
       "      <td>64.0</td>\n",
       "      <td>Transformer</td>\n",
       "      <td>2.0</td>\n",
       "      <td>2.0</td>\n",
       "      <td>1500</td>\n",
       "      <td>rmsprop</td>\n",
       "      <td>0</td>\n",
       "      <td>0.2</td>\n",
       "      <td>0.7</td>\n",
       "      <td>linspace</td>\n",
       "      <td>0.0010</td>\n",
       "      <td>NaN</td>\n",
       "    </tr>\n",
       "    <tr>\n",
       "      <th>25</th>\n",
       "      <td>25</td>\n",
       "      <td>0.021356</td>\n",
       "      <td>2023-04-28 11:11:02.338202</td>\n",
       "      <td>tanh</td>\n",
       "      <td>NaN</td>\n",
       "      <td>NaN</td>\n",
       "      <td>0.2</td>\n",
       "      <td>32.0</td>\n",
       "      <td>False</td>\n",
       "      <td>True</td>\n",
       "      <td>False</td>\n",
       "      <td>NaN</td>\n",
       "      <td>0.000213</td>\n",
       "      <td>LLLR</td>\n",
       "      <td>64.0</td>\n",
       "      <td>Transformer</td>\n",
       "      <td>2.0</td>\n",
       "      <td>2.0</td>\n",
       "      <td>1500</td>\n",
       "      <td>rmsprop</td>\n",
       "      <td>1</td>\n",
       "      <td>0.4</td>\n",
       "      <td>0.0</td>\n",
       "      <td>linspace</td>\n",
       "      <td>0.0009</td>\n",
       "      <td>NaN</td>\n",
       "    </tr>\n",
       "    <tr>\n",
       "      <th>48</th>\n",
       "      <td>48</td>\n",
       "      <td>0.021504</td>\n",
       "      <td>2023-04-28 16:16:11.970314</td>\n",
       "      <td>B2Bsqrt</td>\n",
       "      <td>tanh</td>\n",
       "      <td>sigmoid</td>\n",
       "      <td>NaN</td>\n",
       "      <td>NaN</td>\n",
       "      <td>True</td>\n",
       "      <td>False</td>\n",
       "      <td>True</td>\n",
       "      <td>False</td>\n",
       "      <td>0.000504</td>\n",
       "      <td>LSEL</td>\n",
       "      <td>NaN</td>\n",
       "      <td>LSTM</td>\n",
       "      <td>NaN</td>\n",
       "      <td>NaN</td>\n",
       "      <td>1500</td>\n",
       "      <td>adam</td>\n",
       "      <td>2</td>\n",
       "      <td>0.6</td>\n",
       "      <td>0.9</td>\n",
       "      <td>unirandom</td>\n",
       "      <td>0.0001</td>\n",
       "      <td>66.0</td>\n",
       "    </tr>\n",
       "    <tr>\n",
       "      <th>55</th>\n",
       "      <td>55</td>\n",
       "      <td>0.021634</td>\n",
       "      <td>2023-04-28 16:56:40.755052</td>\n",
       "      <td>gelu</td>\n",
       "      <td>NaN</td>\n",
       "      <td>NaN</td>\n",
       "      <td>0.3</td>\n",
       "      <td>32.0</td>\n",
       "      <td>True</td>\n",
       "      <td>False</td>\n",
       "      <td>True</td>\n",
       "      <td>False</td>\n",
       "      <td>0.000586</td>\n",
       "      <td>LSEL</td>\n",
       "      <td>32.0</td>\n",
       "      <td>Transformer</td>\n",
       "      <td>1.0</td>\n",
       "      <td>4.0</td>\n",
       "      <td>1500</td>\n",
       "      <td>adam</td>\n",
       "      <td>2</td>\n",
       "      <td>0.7</td>\n",
       "      <td>0.9</td>\n",
       "      <td>lograndom</td>\n",
       "      <td>0.0000</td>\n",
       "      <td>NaN</td>\n",
       "    </tr>\n",
       "    <tr>\n",
       "      <th>20</th>\n",
       "      <td>20</td>\n",
       "      <td>0.021994</td>\n",
       "      <td>2023-04-28 09:23:33.818994</td>\n",
       "      <td>tanh</td>\n",
       "      <td>NaN</td>\n",
       "      <td>NaN</td>\n",
       "      <td>0.1</td>\n",
       "      <td>64.0</td>\n",
       "      <td>False</td>\n",
       "      <td>True</td>\n",
       "      <td>False</td>\n",
       "      <td>NaN</td>\n",
       "      <td>0.000484</td>\n",
       "      <td>LLLR</td>\n",
       "      <td>32.0</td>\n",
       "      <td>Transformer</td>\n",
       "      <td>1.0</td>\n",
       "      <td>4.0</td>\n",
       "      <td>1500</td>\n",
       "      <td>rmsprop</td>\n",
       "      <td>3</td>\n",
       "      <td>0.0</td>\n",
       "      <td>0.6</td>\n",
       "      <td>linspace</td>\n",
       "      <td>0.0008</td>\n",
       "      <td>NaN</td>\n",
       "    </tr>\n",
       "    <tr>\n",
       "      <th>29</th>\n",
       "      <td>29</td>\n",
       "      <td>0.022056</td>\n",
       "      <td>2023-04-28 12:29:57.786258</td>\n",
       "      <td>relu</td>\n",
       "      <td>NaN</td>\n",
       "      <td>NaN</td>\n",
       "      <td>0.1</td>\n",
       "      <td>32.0</td>\n",
       "      <td>True</td>\n",
       "      <td>True</td>\n",
       "      <td>False</td>\n",
       "      <td>NaN</td>\n",
       "      <td>0.000146</td>\n",
       "      <td>LSEL</td>\n",
       "      <td>64.0</td>\n",
       "      <td>Transformer</td>\n",
       "      <td>2.0</td>\n",
       "      <td>2.0</td>\n",
       "      <td>1000</td>\n",
       "      <td>rmsprop</td>\n",
       "      <td>3</td>\n",
       "      <td>0.7</td>\n",
       "      <td>0.2</td>\n",
       "      <td>logspace</td>\n",
       "      <td>0.0002</td>\n",
       "      <td>NaN</td>\n",
       "    </tr>\n",
       "    <tr>\n",
       "      <th>98</th>\n",
       "      <td>98</td>\n",
       "      <td>0.022515</td>\n",
       "      <td>2023-04-28 21:27:18.206980</td>\n",
       "      <td>gelu</td>\n",
       "      <td>tanh</td>\n",
       "      <td>B2BsqrtV2</td>\n",
       "      <td>NaN</td>\n",
       "      <td>NaN</td>\n",
       "      <td>True</td>\n",
       "      <td>False</td>\n",
       "      <td>False</td>\n",
       "      <td>NaN</td>\n",
       "      <td>0.000250</td>\n",
       "      <td>LSEL</td>\n",
       "      <td>NaN</td>\n",
       "      <td>LSTM</td>\n",
       "      <td>NaN</td>\n",
       "      <td>NaN</td>\n",
       "      <td>1500</td>\n",
       "      <td>rmsprop</td>\n",
       "      <td>1</td>\n",
       "      <td>0.4</td>\n",
       "      <td>0.6</td>\n",
       "      <td>unirandom</td>\n",
       "      <td>0.0003</td>\n",
       "      <td>49.0</td>\n",
       "    </tr>\n",
       "    <tr>\n",
       "      <th>15</th>\n",
       "      <td>15</td>\n",
       "      <td>0.022519</td>\n",
       "      <td>2023-04-28 07:55:57.617283</td>\n",
       "      <td>tanh</td>\n",
       "      <td>NaN</td>\n",
       "      <td>NaN</td>\n",
       "      <td>0.1</td>\n",
       "      <td>32.0</td>\n",
       "      <td>False</td>\n",
       "      <td>True</td>\n",
       "      <td>False</td>\n",
       "      <td>NaN</td>\n",
       "      <td>0.000249</td>\n",
       "      <td>LLLR</td>\n",
       "      <td>64.0</td>\n",
       "      <td>Transformer</td>\n",
       "      <td>2.0</td>\n",
       "      <td>2.0</td>\n",
       "      <td>1500</td>\n",
       "      <td>rmsprop</td>\n",
       "      <td>1</td>\n",
       "      <td>0.0</td>\n",
       "      <td>1.0</td>\n",
       "      <td>linspace</td>\n",
       "      <td>0.0006</td>\n",
       "      <td>NaN</td>\n",
       "    </tr>\n",
       "    <tr>\n",
       "      <th>35</th>\n",
       "      <td>35</td>\n",
       "      <td>0.022609</td>\n",
       "      <td>2023-04-28 14:30:26.713923</td>\n",
       "      <td>B2BsqrtV2</td>\n",
       "      <td>NaN</td>\n",
       "      <td>NaN</td>\n",
       "      <td>0.0</td>\n",
       "      <td>32.0</td>\n",
       "      <td>True</td>\n",
       "      <td>True</td>\n",
       "      <td>False</td>\n",
       "      <td>NaN</td>\n",
       "      <td>0.000065</td>\n",
       "      <td>LSEL</td>\n",
       "      <td>64.0</td>\n",
       "      <td>Transformer</td>\n",
       "      <td>2.0</td>\n",
       "      <td>2.0</td>\n",
       "      <td>1000</td>\n",
       "      <td>rmsprop</td>\n",
       "      <td>1</td>\n",
       "      <td>0.4</td>\n",
       "      <td>0.8</td>\n",
       "      <td>logspace</td>\n",
       "      <td>0.0005</td>\n",
       "      <td>NaN</td>\n",
       "    </tr>\n",
       "    <tr>\n",
       "      <th>88</th>\n",
       "      <td>88</td>\n",
       "      <td>0.022910</td>\n",
       "      <td>2023-04-28 20:26:50.685074</td>\n",
       "      <td>gelu</td>\n",
       "      <td>NaN</td>\n",
       "      <td>NaN</td>\n",
       "      <td>0.0</td>\n",
       "      <td>32.0</td>\n",
       "      <td>True</td>\n",
       "      <td>False</td>\n",
       "      <td>True</td>\n",
       "      <td>True</td>\n",
       "      <td>0.000142</td>\n",
       "      <td>LSEL</td>\n",
       "      <td>32.0</td>\n",
       "      <td>Transformer</td>\n",
       "      <td>1.0</td>\n",
       "      <td>4.0</td>\n",
       "      <td>500</td>\n",
       "      <td>rmsprop</td>\n",
       "      <td>0</td>\n",
       "      <td>0.9</td>\n",
       "      <td>0.2</td>\n",
       "      <td>unirandom</td>\n",
       "      <td>0.0003</td>\n",
       "      <td>NaN</td>\n",
       "    </tr>\n",
       "    <tr>\n",
       "      <th>28</th>\n",
       "      <td>28</td>\n",
       "      <td>0.023171</td>\n",
       "      <td>2023-04-28 12:12:34.410298</td>\n",
       "      <td>relu</td>\n",
       "      <td>NaN</td>\n",
       "      <td>NaN</td>\n",
       "      <td>0.0</td>\n",
       "      <td>64.0</td>\n",
       "      <td>True</td>\n",
       "      <td>True</td>\n",
       "      <td>False</td>\n",
       "      <td>NaN</td>\n",
       "      <td>0.000087</td>\n",
       "      <td>LSEL</td>\n",
       "      <td>32.0</td>\n",
       "      <td>Transformer</td>\n",
       "      <td>1.0</td>\n",
       "      <td>4.0</td>\n",
       "      <td>1000</td>\n",
       "      <td>rmsprop</td>\n",
       "      <td>1</td>\n",
       "      <td>0.4</td>\n",
       "      <td>0.6</td>\n",
       "      <td>logspace</td>\n",
       "      <td>0.0004</td>\n",
       "      <td>NaN</td>\n",
       "    </tr>\n",
       "    <tr>\n",
       "      <th>65</th>\n",
       "      <td>65</td>\n",
       "      <td>0.023508</td>\n",
       "      <td>2023-04-28 17:57:56.825878</td>\n",
       "      <td>relu</td>\n",
       "      <td>NaN</td>\n",
       "      <td>NaN</td>\n",
       "      <td>0.3</td>\n",
       "      <td>32.0</td>\n",
       "      <td>True</td>\n",
       "      <td>False</td>\n",
       "      <td>True</td>\n",
       "      <td>False</td>\n",
       "      <td>0.000227</td>\n",
       "      <td>LSEL</td>\n",
       "      <td>32.0</td>\n",
       "      <td>Transformer</td>\n",
       "      <td>1.0</td>\n",
       "      <td>4.0</td>\n",
       "      <td>1500</td>\n",
       "      <td>rmsprop</td>\n",
       "      <td>2</td>\n",
       "      <td>0.5</td>\n",
       "      <td>0.8</td>\n",
       "      <td>unirandom</td>\n",
       "      <td>0.0001</td>\n",
       "      <td>NaN</td>\n",
       "    </tr>\n",
       "    <tr>\n",
       "      <th>9</th>\n",
       "      <td>9</td>\n",
       "      <td>0.023563</td>\n",
       "      <td>2023-04-28 05:34:19.529384</td>\n",
       "      <td>gelu</td>\n",
       "      <td>NaN</td>\n",
       "      <td>NaN</td>\n",
       "      <td>0.3</td>\n",
       "      <td>64.0</td>\n",
       "      <td>True</td>\n",
       "      <td>False</td>\n",
       "      <td>True</td>\n",
       "      <td>True</td>\n",
       "      <td>0.000061</td>\n",
       "      <td>LSEL</td>\n",
       "      <td>32.0</td>\n",
       "      <td>Transformer</td>\n",
       "      <td>2.0</td>\n",
       "      <td>4.0</td>\n",
       "      <td>500</td>\n",
       "      <td>adam</td>\n",
       "      <td>3</td>\n",
       "      <td>0.9</td>\n",
       "      <td>1.0</td>\n",
       "      <td>linspace</td>\n",
       "      <td>0.0003</td>\n",
       "      <td>NaN</td>\n",
       "    </tr>\n",
       "    <tr>\n",
       "      <th>16</th>\n",
       "      <td>16</td>\n",
       "      <td>0.023687</td>\n",
       "      <td>2023-04-28 08:20:11.394809</td>\n",
       "      <td>tanh</td>\n",
       "      <td>NaN</td>\n",
       "      <td>NaN</td>\n",
       "      <td>0.2</td>\n",
       "      <td>64.0</td>\n",
       "      <td>False</td>\n",
       "      <td>True</td>\n",
       "      <td>False</td>\n",
       "      <td>NaN</td>\n",
       "      <td>0.000377</td>\n",
       "      <td>LLLR</td>\n",
       "      <td>32.0</td>\n",
       "      <td>Transformer</td>\n",
       "      <td>1.0</td>\n",
       "      <td>4.0</td>\n",
       "      <td>1500</td>\n",
       "      <td>rmsprop</td>\n",
       "      <td>4</td>\n",
       "      <td>0.3</td>\n",
       "      <td>0.8</td>\n",
       "      <td>linspace</td>\n",
       "      <td>0.0008</td>\n",
       "      <td>NaN</td>\n",
       "    </tr>\n",
       "    <tr>\n",
       "      <th>8</th>\n",
       "      <td>8</td>\n",
       "      <td>0.025218</td>\n",
       "      <td>2023-04-28 05:28:44.513459</td>\n",
       "      <td>gelu</td>\n",
       "      <td>NaN</td>\n",
       "      <td>NaN</td>\n",
       "      <td>0.4</td>\n",
       "      <td>32.0</td>\n",
       "      <td>False</td>\n",
       "      <td>False</td>\n",
       "      <td>True</td>\n",
       "      <td>True</td>\n",
       "      <td>0.000050</td>\n",
       "      <td>LLLR</td>\n",
       "      <td>64.0</td>\n",
       "      <td>Transformer</td>\n",
       "      <td>1.0</td>\n",
       "      <td>2.0</td>\n",
       "      <td>500</td>\n",
       "      <td>adam</td>\n",
       "      <td>2</td>\n",
       "      <td>0.9</td>\n",
       "      <td>0.5</td>\n",
       "      <td>lograndom</td>\n",
       "      <td>0.0005</td>\n",
       "      <td>NaN</td>\n",
       "    </tr>\n",
       "    <tr>\n",
       "      <th>54</th>\n",
       "      <td>54</td>\n",
       "      <td>0.027486</td>\n",
       "      <td>2023-04-28 16:51:44.997652</td>\n",
       "      <td>B2Bsqrt</td>\n",
       "      <td>NaN</td>\n",
       "      <td>NaN</td>\n",
       "      <td>0.2</td>\n",
       "      <td>32.0</td>\n",
       "      <td>True</td>\n",
       "      <td>False</td>\n",
       "      <td>True</td>\n",
       "      <td>False</td>\n",
       "      <td>0.000424</td>\n",
       "      <td>LSEL</td>\n",
       "      <td>32.0</td>\n",
       "      <td>Transformer</td>\n",
       "      <td>1.0</td>\n",
       "      <td>4.0</td>\n",
       "      <td>500</td>\n",
       "      <td>rmsprop</td>\n",
       "      <td>2</td>\n",
       "      <td>0.5</td>\n",
       "      <td>0.9</td>\n",
       "      <td>lograndom</td>\n",
       "      <td>0.0000</td>\n",
       "      <td>NaN</td>\n",
       "    </tr>\n",
       "    <tr>\n",
       "      <th>0</th>\n",
       "      <td>0</td>\n",
       "      <td>0.049553</td>\n",
       "      <td>2023-04-28 03:50:32.785422</td>\n",
       "      <td>B2BsqrtV2</td>\n",
       "      <td>NaN</td>\n",
       "      <td>NaN</td>\n",
       "      <td>0.0</td>\n",
       "      <td>32.0</td>\n",
       "      <td>True</td>\n",
       "      <td>True</td>\n",
       "      <td>False</td>\n",
       "      <td>NaN</td>\n",
       "      <td>0.000004</td>\n",
       "      <td>LSEL</td>\n",
       "      <td>32.0</td>\n",
       "      <td>Transformer</td>\n",
       "      <td>1.0</td>\n",
       "      <td>4.0</td>\n",
       "      <td>1000</td>\n",
       "      <td>rmsprop</td>\n",
       "      <td>2</td>\n",
       "      <td>0.8</td>\n",
       "      <td>0.0</td>\n",
       "      <td>logspace</td>\n",
       "      <td>0.0002</td>\n",
       "      <td>NaN</td>\n",
       "    </tr>\n",
       "    <tr>\n",
       "      <th>1</th>\n",
       "      <td>1</td>\n",
       "      <td>0.052639</td>\n",
       "      <td>2023-04-28 04:10:30.956815</td>\n",
       "      <td>gelu</td>\n",
       "      <td>sigmoid</td>\n",
       "      <td>B2Bcbrt</td>\n",
       "      <td>NaN</td>\n",
       "      <td>NaN</td>\n",
       "      <td>True</td>\n",
       "      <td>False</td>\n",
       "      <td>True</td>\n",
       "      <td>True</td>\n",
       "      <td>0.000033</td>\n",
       "      <td>LLLR</td>\n",
       "      <td>NaN</td>\n",
       "      <td>LSTM</td>\n",
       "      <td>NaN</td>\n",
       "      <td>NaN</td>\n",
       "      <td>500</td>\n",
       "      <td>adam</td>\n",
       "      <td>1</td>\n",
       "      <td>0.1</td>\n",
       "      <td>0.4</td>\n",
       "      <td>unirandom</td>\n",
       "      <td>0.0000</td>\n",
       "      <td>23.0</td>\n",
       "    </tr>\n",
       "    <tr>\n",
       "      <th>3</th>\n",
       "      <td>3</td>\n",
       "      <td>0.074599</td>\n",
       "      <td>2023-04-28 04:19:38.452341</td>\n",
       "      <td>relu</td>\n",
       "      <td>sigmoid</td>\n",
       "      <td>tanh</td>\n",
       "      <td>NaN</td>\n",
       "      <td>NaN</td>\n",
       "      <td>False</td>\n",
       "      <td>False</td>\n",
       "      <td>True</td>\n",
       "      <td>True</td>\n",
       "      <td>0.000013</td>\n",
       "      <td>LSEL</td>\n",
       "      <td>NaN</td>\n",
       "      <td>LSTM</td>\n",
       "      <td>NaN</td>\n",
       "      <td>NaN</td>\n",
       "      <td>1000</td>\n",
       "      <td>adam</td>\n",
       "      <td>5</td>\n",
       "      <td>0.5</td>\n",
       "      <td>0.3</td>\n",
       "      <td>logspace</td>\n",
       "      <td>0.0008</td>\n",
       "      <td>73.0</td>\n",
       "    </tr>\n",
       "    <tr>\n",
       "      <th>6</th>\n",
       "      <td>6</td>\n",
       "      <td>0.114773</td>\n",
       "      <td>2023-04-28 05:06:28.792767</td>\n",
       "      <td>tanh</td>\n",
       "      <td>sigmoid</td>\n",
       "      <td>B2BsqrtV2</td>\n",
       "      <td>NaN</td>\n",
       "      <td>NaN</td>\n",
       "      <td>True</td>\n",
       "      <td>False</td>\n",
       "      <td>False</td>\n",
       "      <td>NaN</td>\n",
       "      <td>0.000009</td>\n",
       "      <td>LSEL</td>\n",
       "      <td>NaN</td>\n",
       "      <td>LSTM</td>\n",
       "      <td>NaN</td>\n",
       "      <td>NaN</td>\n",
       "      <td>1500</td>\n",
       "      <td>adam</td>\n",
       "      <td>2</td>\n",
       "      <td>0.5</td>\n",
       "      <td>0.5</td>\n",
       "      <td>unirandom</td>\n",
       "      <td>0.0005</td>\n",
       "      <td>113.0</td>\n",
       "    </tr>\n",
       "    <tr>\n",
       "      <th>34</th>\n",
       "      <td>34</td>\n",
       "      <td>0.118621</td>\n",
       "      <td>2023-04-28 14:08:46.001352</td>\n",
       "      <td>relu</td>\n",
       "      <td>tanh</td>\n",
       "      <td>B2Bsqrt</td>\n",
       "      <td>NaN</td>\n",
       "      <td>NaN</td>\n",
       "      <td>True</td>\n",
       "      <td>True</td>\n",
       "      <td>True</td>\n",
       "      <td>False</td>\n",
       "      <td>0.000027</td>\n",
       "      <td>LSEL</td>\n",
       "      <td>NaN</td>\n",
       "      <td>LSTM</td>\n",
       "      <td>NaN</td>\n",
       "      <td>NaN</td>\n",
       "      <td>1500</td>\n",
       "      <td>rmsprop</td>\n",
       "      <td>0</td>\n",
       "      <td>0.2</td>\n",
       "      <td>0.7</td>\n",
       "      <td>logspace</td>\n",
       "      <td>0.0004</td>\n",
       "      <td>17.0</td>\n",
       "    </tr>\n",
       "    <tr>\n",
       "      <th>17</th>\n",
       "      <td>17</td>\n",
       "      <td>0.125627</td>\n",
       "      <td>2023-04-28 08:44:14.090522</td>\n",
       "      <td>B2Bcbrt</td>\n",
       "      <td>NaN</td>\n",
       "      <td>NaN</td>\n",
       "      <td>0.0</td>\n",
       "      <td>32.0</td>\n",
       "      <td>False</td>\n",
       "      <td>True</td>\n",
       "      <td>False</td>\n",
       "      <td>NaN</td>\n",
       "      <td>0.000001</td>\n",
       "      <td>LLLR</td>\n",
       "      <td>64.0</td>\n",
       "      <td>Transformer</td>\n",
       "      <td>2.0</td>\n",
       "      <td>2.0</td>\n",
       "      <td>1000</td>\n",
       "      <td>rmsprop</td>\n",
       "      <td>1</td>\n",
       "      <td>0.2</td>\n",
       "      <td>0.7</td>\n",
       "      <td>logspace</td>\n",
       "      <td>0.0004</td>\n",
       "      <td>NaN</td>\n",
       "    </tr>\n",
       "    <tr>\n",
       "      <th>2</th>\n",
       "      <td>2</td>\n",
       "      <td>0.139287</td>\n",
       "      <td>2023-04-28 04:14:44.441251</td>\n",
       "      <td>gelu</td>\n",
       "      <td>tanh</td>\n",
       "      <td>tanh</td>\n",
       "      <td>NaN</td>\n",
       "      <td>NaN</td>\n",
       "      <td>False</td>\n",
       "      <td>True</td>\n",
       "      <td>True</td>\n",
       "      <td>True</td>\n",
       "      <td>0.000017</td>\n",
       "      <td>LLLR</td>\n",
       "      <td>NaN</td>\n",
       "      <td>LSTM</td>\n",
       "      <td>NaN</td>\n",
       "      <td>NaN</td>\n",
       "      <td>500</td>\n",
       "      <td>adam</td>\n",
       "      <td>2</td>\n",
       "      <td>0.6</td>\n",
       "      <td>0.4</td>\n",
       "      <td>lograndom</td>\n",
       "      <td>0.0000</td>\n",
       "      <td>39.0</td>\n",
       "    </tr>\n",
       "    <tr>\n",
       "      <th>38</th>\n",
       "      <td>38</td>\n",
       "      <td>0.347789</td>\n",
       "      <td>2023-04-28 15:09:22.511618</td>\n",
       "      <td>B2BsqrtV2</td>\n",
       "      <td>tanh</td>\n",
       "      <td>B2BsqrtV2</td>\n",
       "      <td>NaN</td>\n",
       "      <td>NaN</td>\n",
       "      <td>True</td>\n",
       "      <td>False</td>\n",
       "      <td>False</td>\n",
       "      <td>NaN</td>\n",
       "      <td>0.000210</td>\n",
       "      <td>LSEL</td>\n",
       "      <td>NaN</td>\n",
       "      <td>LSTM</td>\n",
       "      <td>NaN</td>\n",
       "      <td>NaN</td>\n",
       "      <td>1500</td>\n",
       "      <td>adam</td>\n",
       "      <td>1</td>\n",
       "      <td>0.6</td>\n",
       "      <td>0.8</td>\n",
       "      <td>unirandom</td>\n",
       "      <td>0.0003</td>\n",
       "      <td>123.0</td>\n",
       "    </tr>\n",
       "    <tr>\n",
       "      <th>5</th>\n",
       "      <td>5</td>\n",
       "      <td>0.557850</td>\n",
       "      <td>2023-04-28 05:00:05.772272</td>\n",
       "      <td>relu</td>\n",
       "      <td>sigmoid</td>\n",
       "      <td>B2Bcbrt</td>\n",
       "      <td>NaN</td>\n",
       "      <td>NaN</td>\n",
       "      <td>False</td>\n",
       "      <td>True</td>\n",
       "      <td>False</td>\n",
       "      <td>NaN</td>\n",
       "      <td>0.000007</td>\n",
       "      <td>LSEL</td>\n",
       "      <td>NaN</td>\n",
       "      <td>LSTM</td>\n",
       "      <td>NaN</td>\n",
       "      <td>NaN</td>\n",
       "      <td>1000</td>\n",
       "      <td>rmsprop</td>\n",
       "      <td>5</td>\n",
       "      <td>1.0</td>\n",
       "      <td>0.4</td>\n",
       "      <td>unirandom</td>\n",
       "      <td>0.0001</td>\n",
       "      <td>30.0</td>\n",
       "    </tr>\n",
       "    <tr>\n",
       "      <th>7</th>\n",
       "      <td>7</td>\n",
       "      <td>0.581627</td>\n",
       "      <td>2023-04-28 05:14:14.937950</td>\n",
       "      <td>B2BsqrtV2</td>\n",
       "      <td>sigmoid</td>\n",
       "      <td>tanh</td>\n",
       "      <td>NaN</td>\n",
       "      <td>NaN</td>\n",
       "      <td>True</td>\n",
       "      <td>False</td>\n",
       "      <td>True</td>\n",
       "      <td>False</td>\n",
       "      <td>0.000103</td>\n",
       "      <td>LLLR</td>\n",
       "      <td>NaN</td>\n",
       "      <td>LSTM</td>\n",
       "      <td>NaN</td>\n",
       "      <td>NaN</td>\n",
       "      <td>500</td>\n",
       "      <td>adam</td>\n",
       "      <td>2</td>\n",
       "      <td>0.5</td>\n",
       "      <td>0.4</td>\n",
       "      <td>linspace</td>\n",
       "      <td>0.0009</td>\n",
       "      <td>24.0</td>\n",
       "    </tr>\n",
       "  </tbody>\n",
       "</table>\n",
       "</div>"
      ],
      "text/plain": [
       "    number     value             datetime_start params_LIST_ACTIVATION_FC  \\\n",
       "78      78  0.015432 2023-04-28 19:29:07.317690                      gelu   \n",
       "58      58  0.015880 2023-04-28 17:15:32.291490                   B2Bcbrt   \n",
       "84      84  0.016191 2023-04-28 20:01:40.872521                      gelu   \n",
       "93      93  0.016436 2023-04-28 20:55:24.615923                      gelu   \n",
       "97      97  0.016546 2023-04-28 21:21:54.414410                      gelu   \n",
       "37      37  0.016636 2023-04-28 15:03:07.635433                      relu   \n",
       "68      68  0.016652 2023-04-28 18:19:45.809094                      gelu   \n",
       "71      71  0.016854 2023-04-28 18:42:34.754840                      gelu   \n",
       "42      42  0.016974 2023-04-28 15:35:16.845698                      relu   \n",
       "79      79  0.016986 2023-04-28 19:36:09.739685                      gelu   \n",
       "86      86  0.017005 2023-04-28 20:15:35.785365                      gelu   \n",
       "39      39  0.017011 2023-04-28 15:15:02.206424                      relu   \n",
       "47      47  0.017033 2023-04-28 16:10:18.490202                   B2Bsqrt   \n",
       "94      94  0.017106 2023-04-28 21:03:05.327574                      gelu   \n",
       "67      67  0.017135 2023-04-28 18:12:54.058588                      gelu   \n",
       "53      53  0.017171 2023-04-28 16:45:16.102577                 B2BsqrtV2   \n",
       "41      41  0.017308 2023-04-28 15:28:13.102266                      relu   \n",
       "31      31  0.017411 2023-04-28 13:07:32.513709                 B2BsqrtV2   \n",
       "64      64  0.017420 2023-04-28 17:51:04.109103                 B2BsqrtV2   \n",
       "89      89  0.017471 2023-04-28 20:30:38.474542                      gelu   \n",
       "52      52  0.017486 2023-04-28 16:39:22.089550                   B2Bcbrt   \n",
       "26      26  0.017503 2023-04-28 11:34:03.733785                      relu   \n",
       "76      76  0.017528 2023-04-28 19:17:25.614197                      gelu   \n",
       "83      83  0.017553 2023-04-28 19:55:51.045808                   B2Bsqrt   \n",
       "22      22  0.017558 2023-04-28 10:07:42.533117                      tanh   \n",
       "56      56  0.017609 2023-04-28 17:02:59.944442                      relu   \n",
       "77      77  0.017611 2023-04-28 19:22:06.885388                      gelu   \n",
       "66      66  0.017622 2023-04-28 18:04:15.268151                      relu   \n",
       "96      96  0.017668 2023-04-28 21:15:58.880440                      gelu   \n",
       "43      43  0.017679 2023-04-28 15:42:12.901070                      relu   \n",
       "70      70  0.017730 2023-04-28 18:32:05.637177                      gelu   \n",
       "75      75  0.017817 2023-04-28 19:10:28.569436                      gelu   \n",
       "90      90  0.017825 2023-04-28 20:35:34.418644                      gelu   \n",
       "62      62  0.017975 2023-04-28 17:39:21.832802                   B2Bcbrt   \n",
       "46      46  0.018069 2023-04-28 16:02:20.025272                      gelu   \n",
       "57      57  0.018078 2023-04-28 17:08:44.033783                      relu   \n",
       "61      61  0.018104 2023-04-28 17:33:35.342615                   B2Bcbrt   \n",
       "72      72  0.018127 2023-04-28 18:49:36.591969                      gelu   \n",
       "81      81  0.018149 2023-04-28 19:45:45.501052                      gelu   \n",
       "49      49  0.018155 2023-04-28 16:21:45.081701                   B2Bsqrt   \n",
       "27      27  0.018216 2023-04-28 11:57:09.981599                      relu   \n",
       "74      74  0.018246 2023-04-28 19:03:30.937737                      gelu   \n",
       "10      10  0.018258 2023-04-28 05:52:23.332254                      tanh   \n",
       "60      60  0.018354 2023-04-28 17:27:41.397500                   B2Bcbrt   \n",
       "12      12  0.018514 2023-04-28 06:47:16.328554                      tanh   \n",
       "36      36  0.018580 2023-04-28 14:48:27.743861                      relu   \n",
       "50      50  0.018589 2023-04-28 16:27:34.114359                   B2Bsqrt   \n",
       "51      51  0.018658 2023-04-28 16:33:27.789859                      relu   \n",
       "99      99  0.018663 2023-04-28 21:32:48.463110                   B2Bcbrt   \n",
       "80      80  0.018717 2023-04-28 19:40:59.109411                      gelu   \n",
       "82      82  0.018730 2023-04-28 19:50:27.138026                      gelu   \n",
       "44      44  0.018753 2023-04-28 15:50:14.122488                      relu   \n",
       "21      21  0.018754 2023-04-28 09:46:23.363693                      tanh   \n",
       "95      95  0.018758 2023-04-28 21:08:48.326976                      gelu   \n",
       "91      91  0.018854 2023-04-28 20:40:59.142667                      gelu   \n",
       "73      73  0.018881 2023-04-28 18:56:35.645432                      gelu   \n",
       "11      11  0.018920 2023-04-28 06:24:34.126675                      tanh   \n",
       "69      69  0.019009 2023-04-28 18:26:41.782976                      gelu   \n",
       "19      19  0.019026 2023-04-28 09:06:58.543377                      tanh   \n",
       "85      85  0.019176 2023-04-28 20:08:37.987030                      gelu   \n",
       "92      92  0.019291 2023-04-28 20:48:08.577020                   B2Bcbrt   \n",
       "45      45  0.019314 2023-04-28 15:56:27.710494                      relu   \n",
       "63      63  0.019442 2023-04-28 17:45:12.820425                   B2Bsqrt   \n",
       "32      32  0.019484 2023-04-28 13:29:09.567200                 B2BsqrtV2   \n",
       "18      18  0.019521 2023-04-28 09:02:05.254539                   B2Bsqrt   \n",
       "40      40  0.019569 2023-04-28 15:22:20.507660                      relu   \n",
       "23      23  0.019998 2023-04-28 10:30:40.562879                      tanh   \n",
       "59      59  0.020364 2023-04-28 17:21:17.977921                   B2Bcbrt   \n",
       "14      14  0.020449 2023-04-28 07:32:31.428034                   B2Bcbrt   \n",
       "33      33  0.020790 2023-04-28 13:45:41.656239                 B2BsqrtV2   \n",
       "87      87  0.021040 2023-04-28 20:21:03.257689                      gelu   \n",
       "4        4  0.021068 2023-04-28 04:44:30.146056                      tanh   \n",
       "30      30  0.021102 2023-04-28 12:48:00.104160                      relu   \n",
       "24      24  0.021192 2023-04-28 10:54:40.189998                      tanh   \n",
       "13      13  0.021290 2023-04-28 07:10:01.099133                   B2Bsqrt   \n",
       "25      25  0.021356 2023-04-28 11:11:02.338202                      tanh   \n",
       "48      48  0.021504 2023-04-28 16:16:11.970314                   B2Bsqrt   \n",
       "55      55  0.021634 2023-04-28 16:56:40.755052                      gelu   \n",
       "20      20  0.021994 2023-04-28 09:23:33.818994                      tanh   \n",
       "29      29  0.022056 2023-04-28 12:29:57.786258                      relu   \n",
       "98      98  0.022515 2023-04-28 21:27:18.206980                      gelu   \n",
       "15      15  0.022519 2023-04-28 07:55:57.617283                      tanh   \n",
       "35      35  0.022609 2023-04-28 14:30:26.713923                 B2BsqrtV2   \n",
       "88      88  0.022910 2023-04-28 20:26:50.685074                      gelu   \n",
       "28      28  0.023171 2023-04-28 12:12:34.410298                      relu   \n",
       "65      65  0.023508 2023-04-28 17:57:56.825878                      relu   \n",
       "9        9  0.023563 2023-04-28 05:34:19.529384                      gelu   \n",
       "16      16  0.023687 2023-04-28 08:20:11.394809                      tanh   \n",
       "8        8  0.025218 2023-04-28 05:28:44.513459                      gelu   \n",
       "54      54  0.027486 2023-04-28 16:51:44.997652                   B2Bsqrt   \n",
       "0        0  0.049553 2023-04-28 03:50:32.785422                 B2BsqrtV2   \n",
       "1        1  0.052639 2023-04-28 04:10:30.956815                      gelu   \n",
       "3        3  0.074599 2023-04-28 04:19:38.452341                      relu   \n",
       "6        6  0.114773 2023-04-28 05:06:28.792767                      tanh   \n",
       "34      34  0.118621 2023-04-28 14:08:46.001352                      relu   \n",
       "17      17  0.125627 2023-04-28 08:44:14.090522                   B2Bcbrt   \n",
       "2        2  0.139287 2023-04-28 04:14:44.441251                      gelu   \n",
       "38      38  0.347789 2023-04-28 15:09:22.511618                 B2BsqrtV2   \n",
       "5        5  0.557850 2023-04-28 05:00:05.772272                      relu   \n",
       "7        7  0.581627 2023-04-28 05:14:14.937950                 B2BsqrtV2   \n",
       "\n",
       "   params_LIST_ACTIVATION_INPUT params_LIST_ACTIVATION_OUTPUT  \\\n",
       "78                          NaN                           NaN   \n",
       "58                          NaN                           NaN   \n",
       "84                          NaN                           NaN   \n",
       "93                          NaN                           NaN   \n",
       "97                          NaN                           NaN   \n",
       "37                          NaN                           NaN   \n",
       "68                          NaN                           NaN   \n",
       "71                          NaN                           NaN   \n",
       "42                          NaN                           NaN   \n",
       "79                          NaN                           NaN   \n",
       "86                          NaN                           NaN   \n",
       "39                          NaN                           NaN   \n",
       "47                          NaN                           NaN   \n",
       "94                          NaN                           NaN   \n",
       "67                          NaN                           NaN   \n",
       "53                          NaN                           NaN   \n",
       "41                          NaN                           NaN   \n",
       "31                          NaN                           NaN   \n",
       "64                          NaN                           NaN   \n",
       "89                          NaN                           NaN   \n",
       "52                          NaN                           NaN   \n",
       "26                          NaN                           NaN   \n",
       "76                          NaN                           NaN   \n",
       "83                          NaN                           NaN   \n",
       "22                          NaN                           NaN   \n",
       "56                          NaN                           NaN   \n",
       "77                          NaN                           NaN   \n",
       "66                          NaN                           NaN   \n",
       "96                          NaN                           NaN   \n",
       "43                          NaN                           NaN   \n",
       "70                          NaN                           NaN   \n",
       "75                          NaN                           NaN   \n",
       "90                          NaN                           NaN   \n",
       "62                          NaN                           NaN   \n",
       "46                          NaN                           NaN   \n",
       "57                          NaN                           NaN   \n",
       "61                          NaN                           NaN   \n",
       "72                          NaN                           NaN   \n",
       "81                          NaN                           NaN   \n",
       "49                          NaN                           NaN   \n",
       "27                          NaN                           NaN   \n",
       "74                          NaN                           NaN   \n",
       "10                          NaN                           NaN   \n",
       "60                          NaN                           NaN   \n",
       "12                          NaN                           NaN   \n",
       "36                         tanh                       sigmoid   \n",
       "50                          NaN                           NaN   \n",
       "51                          NaN                           NaN   \n",
       "99                          NaN                           NaN   \n",
       "80                      sigmoid                       B2Bcbrt   \n",
       "82                          NaN                           NaN   \n",
       "44                          NaN                           NaN   \n",
       "21                          NaN                           NaN   \n",
       "95                          NaN                           NaN   \n",
       "91                          NaN                           NaN   \n",
       "73                          NaN                           NaN   \n",
       "11                          NaN                           NaN   \n",
       "69                      sigmoid                       sigmoid   \n",
       "19                          NaN                           NaN   \n",
       "85                          NaN                           NaN   \n",
       "92                          NaN                           NaN   \n",
       "45                          NaN                           NaN   \n",
       "63                          NaN                           NaN   \n",
       "32                          NaN                           NaN   \n",
       "18                          NaN                           NaN   \n",
       "40                         tanh                       B2Bsqrt   \n",
       "23                          NaN                           NaN   \n",
       "59                          NaN                           NaN   \n",
       "14                          NaN                           NaN   \n",
       "33                          NaN                           NaN   \n",
       "87                          NaN                           NaN   \n",
       "4                           NaN                           NaN   \n",
       "30                          NaN                           NaN   \n",
       "24                          NaN                           NaN   \n",
       "13                          NaN                           NaN   \n",
       "25                          NaN                           NaN   \n",
       "48                         tanh                       sigmoid   \n",
       "55                          NaN                           NaN   \n",
       "20                          NaN                           NaN   \n",
       "29                          NaN                           NaN   \n",
       "98                         tanh                     B2BsqrtV2   \n",
       "15                          NaN                           NaN   \n",
       "35                          NaN                           NaN   \n",
       "88                          NaN                           NaN   \n",
       "28                          NaN                           NaN   \n",
       "65                          NaN                           NaN   \n",
       "9                           NaN                           NaN   \n",
       "16                          NaN                           NaN   \n",
       "8                           NaN                           NaN   \n",
       "54                          NaN                           NaN   \n",
       "0                           NaN                           NaN   \n",
       "1                       sigmoid                       B2Bcbrt   \n",
       "3                       sigmoid                          tanh   \n",
       "6                       sigmoid                     B2BsqrtV2   \n",
       "34                         tanh                       B2Bsqrt   \n",
       "17                          NaN                           NaN   \n",
       "2                          tanh                          tanh   \n",
       "38                         tanh                     B2BsqrtV2   \n",
       "5                       sigmoid                       B2Bcbrt   \n",
       "7                       sigmoid                          tanh   \n",
       "\n",
       "    params_LIST_DROPOUT  params_LIST_FF_DIM  params_LIST_IS_ADAPTIVE_LOSS  \\\n",
       "78                  0.0                32.0                          True   \n",
       "58                  0.2                32.0                          True   \n",
       "84                  0.0                32.0                          True   \n",
       "93                  0.0                32.0                          True   \n",
       "97                  0.0                32.0                          True   \n",
       "37                  0.1                32.0                          True   \n",
       "68                  0.0                32.0                          True   \n",
       "71                  0.0                32.0                          True   \n",
       "42                  0.0                32.0                          True   \n",
       "79                  0.1                32.0                          True   \n",
       "86                  0.0                32.0                          True   \n",
       "39                  0.0                32.0                          True   \n",
       "47                  0.3                32.0                          True   \n",
       "94                  0.0                32.0                          True   \n",
       "67                  0.0                32.0                          True   \n",
       "53                  0.2                32.0                          True   \n",
       "41                  0.0                32.0                          True   \n",
       "31                  0.1                32.0                          True   \n",
       "64                  0.0                32.0                          True   \n",
       "89                  0.1                32.0                          True   \n",
       "52                  0.3                32.0                          True   \n",
       "26                  0.0                32.0                          True   \n",
       "76                  0.1                32.0                          True   \n",
       "83                  0.1                32.0                          True   \n",
       "22                  0.0                32.0                         False   \n",
       "56                  0.2                32.0                          True   \n",
       "77                  0.0                64.0                          True   \n",
       "66                  0.1                32.0                          True   \n",
       "96                  0.1                32.0                          True   \n",
       "43                  0.0                32.0                          True   \n",
       "70                  0.0                32.0                          True   \n",
       "75                  0.0                32.0                          True   \n",
       "90                  0.0                32.0                         False   \n",
       "62                  0.4                32.0                          True   \n",
       "46                  0.0                32.0                          True   \n",
       "57                  0.1                32.0                          True   \n",
       "61                  0.3                32.0                          True   \n",
       "72                  0.0                32.0                          True   \n",
       "81                  0.1                32.0                          True   \n",
       "49                  0.4                32.0                          True   \n",
       "27                  0.1                32.0                          True   \n",
       "74                  0.0                32.0                          True   \n",
       "10                  0.1                32.0                         False   \n",
       "60                  0.2                32.0                          True   \n",
       "12                  0.0                32.0                         False   \n",
       "36                  NaN                 NaN                          True   \n",
       "50                  0.4                32.0                          True   \n",
       "51                  0.3                32.0                          True   \n",
       "99                  0.0                32.0                          True   \n",
       "80                  NaN                 NaN                          True   \n",
       "82                  0.0                32.0                          True   \n",
       "44                  0.1                32.0                          True   \n",
       "21                  0.1                32.0                         False   \n",
       "95                  0.0                32.0                          True   \n",
       "91                  0.0                32.0                          True   \n",
       "73                  0.0                32.0                          True   \n",
       "11                  0.1                32.0                         False   \n",
       "69                  NaN                 NaN                          True   \n",
       "19                  0.2                32.0                         False   \n",
       "85                  0.0                32.0                          True   \n",
       "92                  0.0                32.0                          True   \n",
       "45                  0.3                32.0                          True   \n",
       "63                  0.2                32.0                          True   \n",
       "32                  0.0                32.0                          True   \n",
       "18                  0.5                32.0                         False   \n",
       "40                  NaN                 NaN                          True   \n",
       "23                  0.0                32.0                         False   \n",
       "59                  0.2                64.0                          True   \n",
       "14                  0.0                32.0                         False   \n",
       "33                  0.1                32.0                          True   \n",
       "87                  0.0                32.0                          True   \n",
       "4                   0.3                32.0                         False   \n",
       "30                  0.2                32.0                          True   \n",
       "24                  0.0                32.0                         False   \n",
       "13                  0.1                64.0                         False   \n",
       "25                  0.2                32.0                         False   \n",
       "48                  NaN                 NaN                          True   \n",
       "55                  0.3                32.0                          True   \n",
       "20                  0.1                64.0                         False   \n",
       "29                  0.1                32.0                          True   \n",
       "98                  NaN                 NaN                          True   \n",
       "15                  0.1                32.0                         False   \n",
       "35                  0.0                32.0                          True   \n",
       "88                  0.0                32.0                          True   \n",
       "28                  0.0                64.0                          True   \n",
       "65                  0.3                32.0                          True   \n",
       "9                   0.3                64.0                          True   \n",
       "16                  0.2                64.0                         False   \n",
       "8                   0.4                32.0                         False   \n",
       "54                  0.2                32.0                          True   \n",
       "0                   0.0                32.0                          True   \n",
       "1                   NaN                 NaN                          True   \n",
       "3                   NaN                 NaN                         False   \n",
       "6                   NaN                 NaN                          True   \n",
       "34                  NaN                 NaN                          True   \n",
       "17                  0.0                32.0                         False   \n",
       "2                   NaN                 NaN                         False   \n",
       "38                  NaN                 NaN                          True   \n",
       "5                   NaN                 NaN                         False   \n",
       "7                   NaN                 NaN                          True   \n",
       "\n",
       "    params_LIST_IS_NORMALIZE  params_LIST_IS_POSITIONAL_ENCODING  \\\n",
       "78                     False                                True   \n",
       "58                     False                                True   \n",
       "84                     False                                True   \n",
       "93                     False                                True   \n",
       "97                     False                                True   \n",
       "37                     False                               False   \n",
       "68                     False                                True   \n",
       "71                     False                                True   \n",
       "42                     False                                True   \n",
       "79                     False                                True   \n",
       "86                     False                                True   \n",
       "39                     False                                True   \n",
       "47                     False                                True   \n",
       "94                     False                                True   \n",
       "67                     False                                True   \n",
       "53                     False                                True   \n",
       "41                     False                                True   \n",
       "31                      True                               False   \n",
       "64                     False                                True   \n",
       "89                     False                                True   \n",
       "52                     False                                True   \n",
       "26                      True                               False   \n",
       "76                     False                                True   \n",
       "83                     False                                True   \n",
       "22                      True                               False   \n",
       "56                     False                                True   \n",
       "77                     False                                True   \n",
       "66                     False                                True   \n",
       "96                     False                                True   \n",
       "43                     False                                True   \n",
       "70                     False                                True   \n",
       "75                     False                                True   \n",
       "90                     False                                True   \n",
       "62                     False                                True   \n",
       "46                     False                                True   \n",
       "57                     False                                True   \n",
       "61                     False                                True   \n",
       "72                     False                                True   \n",
       "81                     False                                True   \n",
       "49                     False                                True   \n",
       "27                      True                               False   \n",
       "74                     False                                True   \n",
       "10                      True                               False   \n",
       "60                     False                                True   \n",
       "12                      True                               False   \n",
       "36                      True                                True   \n",
       "50                     False                                True   \n",
       "51                     False                                True   \n",
       "99                     False                                True   \n",
       "80                     False                                True   \n",
       "82                     False                                True   \n",
       "44                     False                                True   \n",
       "21                      True                               False   \n",
       "95                     False                                True   \n",
       "91                     False                                True   \n",
       "73                     False                                True   \n",
       "11                      True                               False   \n",
       "69                     False                                True   \n",
       "19                      True                               False   \n",
       "85                     False                                True   \n",
       "92                     False                                True   \n",
       "45                     False                                True   \n",
       "63                     False                                True   \n",
       "32                      True                               False   \n",
       "18                      True                               False   \n",
       "40                     False                                True   \n",
       "23                      True                               False   \n",
       "59                     False                                True   \n",
       "14                      True                               False   \n",
       "33                      True                               False   \n",
       "87                     False                                True   \n",
       "4                      False                               False   \n",
       "30                      True                               False   \n",
       "24                      True                               False   \n",
       "13                      True                               False   \n",
       "25                      True                               False   \n",
       "48                     False                                True   \n",
       "55                     False                                True   \n",
       "20                      True                               False   \n",
       "29                      True                               False   \n",
       "98                     False                               False   \n",
       "15                      True                               False   \n",
       "35                      True                               False   \n",
       "88                     False                                True   \n",
       "28                      True                               False   \n",
       "65                     False                                True   \n",
       "9                      False                                True   \n",
       "16                      True                               False   \n",
       "8                      False                                True   \n",
       "54                     False                                True   \n",
       "0                       True                               False   \n",
       "1                      False                                True   \n",
       "3                      False                                True   \n",
       "6                      False                               False   \n",
       "34                      True                                True   \n",
       "17                      True                               False   \n",
       "2                       True                                True   \n",
       "38                     False                               False   \n",
       "5                       True                               False   \n",
       "7                      False                                True   \n",
       "\n",
       "   params_LIST_IS_TRAINABLE_ENCODING  params_LIST_LEARNING_RATE  \\\n",
       "78                              True                   0.000130   \n",
       "58                             False                   0.000176   \n",
       "84                              True                   0.000157   \n",
       "93                              True                   0.000285   \n",
       "97                              True                   0.000197   \n",
       "37                               NaN                   0.000203   \n",
       "68                              True                   0.000455   \n",
       "71                              True                   0.000326   \n",
       "42                             False                   0.000300   \n",
       "79                              True                   0.000132   \n",
       "86                              True                   0.000199   \n",
       "39                             False                   0.000344   \n",
       "47                             False                   0.000423   \n",
       "94                              True                   0.000270   \n",
       "67                             False                   0.000319   \n",
       "53                             False                   0.000401   \n",
       "41                             False                   0.000279   \n",
       "31                               NaN                   0.000252   \n",
       "64                             False                   0.000174   \n",
       "89                              True                   0.000109   \n",
       "52                             False                   0.000262   \n",
       "26                               NaN                   0.000105   \n",
       "76                              True                   0.000452   \n",
       "83                              True                   0.000262   \n",
       "22                               NaN                   0.000195   \n",
       "56                             False                   0.000787   \n",
       "77                              True                   0.000208   \n",
       "66                              True                   0.000126   \n",
       "96                              True                   0.000101   \n",
       "43                             False                   0.000313   \n",
       "70                              True                   0.000498   \n",
       "75                              True                   0.000309   \n",
       "90                              True                   0.000179   \n",
       "62                             False                   0.000405   \n",
       "46                             False                   0.000568   \n",
       "57                             False                   0.000337   \n",
       "61                             False                   0.000215   \n",
       "72                              True                   0.000317   \n",
       "81                              True                   0.000137   \n",
       "49                             False                   0.000708   \n",
       "27                               NaN                   0.000092   \n",
       "74                              True                   0.000166   \n",
       "10                               NaN                   0.000483   \n",
       "60                             False                   0.000962   \n",
       "12                               NaN                   0.000871   \n",
       "36                             False                   0.000109   \n",
       "50                             False                   0.000396   \n",
       "51                             False                   0.000359   \n",
       "99                              True                   0.000124   \n",
       "80                              True                   0.000121   \n",
       "82                              True                   0.000181   \n",
       "44                             False                   0.000285   \n",
       "21                               NaN                   0.000594   \n",
       "95                              True                   0.000144   \n",
       "91                              True                   0.000233   \n",
       "73                              True                   0.000230   \n",
       "11                               NaN                   0.000793   \n",
       "69                              True                   0.000676   \n",
       "19                               NaN                   0.000998   \n",
       "85                              True                   0.000154   \n",
       "92                              True                   0.000201   \n",
       "45                             False                   0.000665   \n",
       "63                             False                   0.000528   \n",
       "32                               NaN                   0.000265   \n",
       "18                               NaN                   0.000137   \n",
       "40                             False                   0.000351   \n",
       "23                               NaN                   0.000183   \n",
       "59                             False                   0.000169   \n",
       "14                               NaN                   0.000305   \n",
       "33                               NaN                   0.000152   \n",
       "87                              True                   0.000077   \n",
       "4                                NaN                   0.000044   \n",
       "30                               NaN                   0.000090   \n",
       "24                               NaN                   0.000447   \n",
       "13                               NaN                   0.000885   \n",
       "25                               NaN                   0.000213   \n",
       "48                             False                   0.000504   \n",
       "55                             False                   0.000586   \n",
       "20                               NaN                   0.000484   \n",
       "29                               NaN                   0.000146   \n",
       "98                               NaN                   0.000250   \n",
       "15                               NaN                   0.000249   \n",
       "35                               NaN                   0.000065   \n",
       "88                              True                   0.000142   \n",
       "28                               NaN                   0.000087   \n",
       "65                             False                   0.000227   \n",
       "9                               True                   0.000061   \n",
       "16                               NaN                   0.000377   \n",
       "8                               True                   0.000050   \n",
       "54                             False                   0.000424   \n",
       "0                                NaN                   0.000004   \n",
       "1                               True                   0.000033   \n",
       "3                               True                   0.000013   \n",
       "6                                NaN                   0.000009   \n",
       "34                             False                   0.000027   \n",
       "17                               NaN                   0.000001   \n",
       "2                               True                   0.000017   \n",
       "38                               NaN                   0.000210   \n",
       "5                                NaN                   0.000007   \n",
       "7                              False                   0.000103   \n",
       "\n",
       "   params_LIST_LLLR_VERSION  params_LIST_MLP_UNITS params_LIST_MODEL_BACKBONE  \\\n",
       "78                     LSEL                   32.0                Transformer   \n",
       "58                     LSEL                   32.0                Transformer   \n",
       "84                     LSEL                   32.0                Transformer   \n",
       "93                     LSEL                   32.0                Transformer   \n",
       "97                     LSEL                   32.0                Transformer   \n",
       "37                     LSEL                   64.0                Transformer   \n",
       "68                     LSEL                   32.0                Transformer   \n",
       "71                     LSEL                   32.0                Transformer   \n",
       "42                     LSEL                   32.0                Transformer   \n",
       "79                     LSEL                   32.0                Transformer   \n",
       "86                     LSEL                   32.0                Transformer   \n",
       "39                     LSEL                   32.0                Transformer   \n",
       "47                     LSEL                   32.0                Transformer   \n",
       "94                     LSEL                   32.0                Transformer   \n",
       "67                     LSEL                   32.0                Transformer   \n",
       "53                     LSEL                   32.0                Transformer   \n",
       "41                     LSEL                   32.0                Transformer   \n",
       "31                     LSEL                   64.0                Transformer   \n",
       "64                     LSEL                   32.0                Transformer   \n",
       "89                     LSEL                   32.0                Transformer   \n",
       "52                     LSEL                   32.0                Transformer   \n",
       "26                     LSEL                   64.0                Transformer   \n",
       "76                     LSEL                   32.0                Transformer   \n",
       "83                     LSEL                   32.0                Transformer   \n",
       "22                     LLLR                   64.0                Transformer   \n",
       "56                     LSEL                   32.0                Transformer   \n",
       "77                     LSEL                   32.0                Transformer   \n",
       "66                     LSEL                   32.0                Transformer   \n",
       "96                     LSEL                   32.0                Transformer   \n",
       "43                     LSEL                   32.0                Transformer   \n",
       "70                     LSEL                   32.0                Transformer   \n",
       "75                     LSEL                   32.0                Transformer   \n",
       "90                     LLLR                   32.0                Transformer   \n",
       "62                     LSEL                   32.0                Transformer   \n",
       "46                     LSEL                   32.0                Transformer   \n",
       "57                     LSEL                   32.0                Transformer   \n",
       "61                     LSEL                   32.0                Transformer   \n",
       "72                     LSEL                   32.0                Transformer   \n",
       "81                     LSEL                   32.0                Transformer   \n",
       "49                     LSEL                   32.0                Transformer   \n",
       "27                     LSEL                   64.0                Transformer   \n",
       "74                     LSEL                   32.0                Transformer   \n",
       "10                     LLLR                   64.0                Transformer   \n",
       "60                     LSEL                   32.0                Transformer   \n",
       "12                     LLLR                   64.0                Transformer   \n",
       "36                     LSEL                    NaN                       LSTM   \n",
       "50                     LSEL                   32.0                Transformer   \n",
       "51                     LSEL                   32.0                Transformer   \n",
       "99                     LSEL                   32.0                Transformer   \n",
       "80                     LSEL                    NaN                       LSTM   \n",
       "82                     LSEL                   32.0                Transformer   \n",
       "44                     LSEL                   32.0                Transformer   \n",
       "21                     LLLR                   64.0                Transformer   \n",
       "95                     LSEL                   32.0                Transformer   \n",
       "91                     LSEL                   32.0                Transformer   \n",
       "73                     LSEL                   32.0                Transformer   \n",
       "11                     LLLR                   64.0                Transformer   \n",
       "69                     LSEL                    NaN                       LSTM   \n",
       "19                     LLLR                   64.0                Transformer   \n",
       "85                     LSEL                   32.0                Transformer   \n",
       "92                     LSEL                   32.0                Transformer   \n",
       "45                     LSEL                   32.0                Transformer   \n",
       "63                     LSEL                   32.0                Transformer   \n",
       "32                     LSEL                   64.0                Transformer   \n",
       "18                     LLLR                   64.0                Transformer   \n",
       "40                     LSEL                    NaN                       LSTM   \n",
       "23                     LLLR                   64.0                Transformer   \n",
       "59                     LSEL                   32.0                Transformer   \n",
       "14                     LLLR                   64.0                Transformer   \n",
       "33                     LSEL                   64.0                Transformer   \n",
       "87                     LSEL                   32.0                Transformer   \n",
       "4                      LLLR                   64.0                Transformer   \n",
       "30                     LSEL                   64.0                Transformer   \n",
       "24                     LLLR                   64.0                Transformer   \n",
       "13                     LLLR                   64.0                Transformer   \n",
       "25                     LLLR                   64.0                Transformer   \n",
       "48                     LSEL                    NaN                       LSTM   \n",
       "55                     LSEL                   32.0                Transformer   \n",
       "20                     LLLR                   32.0                Transformer   \n",
       "29                     LSEL                   64.0                Transformer   \n",
       "98                     LSEL                    NaN                       LSTM   \n",
       "15                     LLLR                   64.0                Transformer   \n",
       "35                     LSEL                   64.0                Transformer   \n",
       "88                     LSEL                   32.0                Transformer   \n",
       "28                     LSEL                   32.0                Transformer   \n",
       "65                     LSEL                   32.0                Transformer   \n",
       "9                      LSEL                   32.0                Transformer   \n",
       "16                     LLLR                   32.0                Transformer   \n",
       "8                      LLLR                   64.0                Transformer   \n",
       "54                     LSEL                   32.0                Transformer   \n",
       "0                      LSEL                   32.0                Transformer   \n",
       "1                      LLLR                    NaN                       LSTM   \n",
       "3                      LSEL                    NaN                       LSTM   \n",
       "6                      LSEL                    NaN                       LSTM   \n",
       "34                     LSEL                    NaN                       LSTM   \n",
       "17                     LLLR                   64.0                Transformer   \n",
       "2                      LLLR                    NaN                       LSTM   \n",
       "38                     LSEL                    NaN                       LSTM   \n",
       "5                      LSEL                    NaN                       LSTM   \n",
       "7                      LLLR                    NaN                       LSTM   \n",
       "\n",
       "    params_LIST_NUM_BLOCKS  params_LIST_NUM_HEADS  params_LIST_NUM_THRESH  \\\n",
       "78                     1.0                    4.0                    1500   \n",
       "58                     1.0                    4.0                    1500   \n",
       "84                     1.0                    4.0                    1500   \n",
       "93                     1.0                    4.0                    1500   \n",
       "97                     1.0                    4.0                    1500   \n",
       "37                     2.0                    2.0                    1500   \n",
       "68                     1.0                    4.0                    1500   \n",
       "71                     1.0                    4.0                    1500   \n",
       "42                     1.0                    4.0                    1500   \n",
       "79                     1.0                    4.0                    1500   \n",
       "86                     1.0                    4.0                    1500   \n",
       "39                     1.0                    4.0                    1500   \n",
       "47                     1.0                    4.0                    1500   \n",
       "94                     1.0                    4.0                    1500   \n",
       "67                     1.0                    4.0                    1500   \n",
       "53                     1.0                    4.0                    1500   \n",
       "41                     1.0                    4.0                    1500   \n",
       "31                     2.0                    2.0                    1500   \n",
       "64                     1.0                    4.0                    1500   \n",
       "89                     1.0                    4.0                    1500   \n",
       "52                     1.0                    4.0                    1500   \n",
       "26                     2.0                    2.0                    1500   \n",
       "76                     1.0                    4.0                    1500   \n",
       "83                     1.0                    4.0                    1500   \n",
       "22                     2.0                    2.0                    1500   \n",
       "56                     1.0                    4.0                    1500   \n",
       "77                     1.0                    4.0                    1500   \n",
       "66                     1.0                    4.0                    1500   \n",
       "96                     1.0                    4.0                    1500   \n",
       "43                     1.0                    4.0                    1500   \n",
       "70                     1.0                    4.0                    1500   \n",
       "75                     1.0                    4.0                    1500   \n",
       "90                     1.0                    4.0                    1500   \n",
       "62                     1.0                    4.0                    1500   \n",
       "46                     1.0                    4.0                    1500   \n",
       "57                     1.0                    4.0                    1500   \n",
       "61                     1.0                    4.0                    1500   \n",
       "72                     1.0                    4.0                    1500   \n",
       "81                     1.0                    4.0                    1500   \n",
       "49                     1.0                    4.0                    1500   \n",
       "27                     2.0                    2.0                    1000   \n",
       "74                     1.0                    4.0                    1500   \n",
       "10                     2.0                    2.0                    1500   \n",
       "60                     1.0                    4.0                    1500   \n",
       "12                     2.0                    2.0                    1500   \n",
       "36                     NaN                    NaN                    1000   \n",
       "50                     1.0                    4.0                    1500   \n",
       "51                     1.0                    4.0                    1500   \n",
       "99                     1.0                    4.0                    1500   \n",
       "80                     NaN                    NaN                    1500   \n",
       "82                     1.0                    4.0                    1500   \n",
       "44                     1.0                    4.0                    1500   \n",
       "21                     2.0                    2.0                    1500   \n",
       "95                     1.0                    4.0                    1500   \n",
       "91                     1.0                    4.0                    1500   \n",
       "73                     1.0                    4.0                    1500   \n",
       "11                     2.0                    2.0                    1500   \n",
       "69                     NaN                    NaN                    1500   \n",
       "19                     2.0                    2.0                    1000   \n",
       "85                     1.0                    4.0                    1500   \n",
       "92                     1.0                    4.0                    1500   \n",
       "45                     1.0                    4.0                    1500   \n",
       "63                     1.0                    4.0                    1500   \n",
       "32                     2.0                    2.0                    1000   \n",
       "18                     2.0                    2.0                    1500   \n",
       "40                     NaN                    NaN                    1500   \n",
       "23                     2.0                    2.0                    1500   \n",
       "59                     1.0                    4.0                    1500   \n",
       "14                     2.0                    2.0                    1500   \n",
       "33                     2.0                    2.0                    1500   \n",
       "87                     1.0                    4.0                    1500   \n",
       "4                      2.0                    2.0                     500   \n",
       "30                     2.0                    2.0                    1000   \n",
       "24                     2.0                    2.0                    1000   \n",
       "13                     2.0                    2.0                    1500   \n",
       "25                     2.0                    2.0                    1500   \n",
       "48                     NaN                    NaN                    1500   \n",
       "55                     1.0                    4.0                    1500   \n",
       "20                     1.0                    4.0                    1500   \n",
       "29                     2.0                    2.0                    1000   \n",
       "98                     NaN                    NaN                    1500   \n",
       "15                     2.0                    2.0                    1500   \n",
       "35                     2.0                    2.0                    1000   \n",
       "88                     1.0                    4.0                     500   \n",
       "28                     1.0                    4.0                    1000   \n",
       "65                     1.0                    4.0                    1500   \n",
       "9                      2.0                    4.0                     500   \n",
       "16                     1.0                    4.0                    1500   \n",
       "8                      1.0                    2.0                     500   \n",
       "54                     1.0                    4.0                     500   \n",
       "0                      1.0                    4.0                    1000   \n",
       "1                      NaN                    NaN                     500   \n",
       "3                      NaN                    NaN                    1000   \n",
       "6                      NaN                    NaN                    1500   \n",
       "34                     NaN                    NaN                    1500   \n",
       "17                     2.0                    2.0                    1000   \n",
       "2                      NaN                    NaN                     500   \n",
       "38                     NaN                    NaN                    1500   \n",
       "5                      NaN                    NaN                    1000   \n",
       "7                      NaN                    NaN                     500   \n",
       "\n",
       "   params_LIST_OPTIMIZER  params_LIST_ORDER_SPRT  params_LIST_PARAM_LLR_LOSS  \\\n",
       "78               rmsprop                       1                         0.7   \n",
       "58               rmsprop                       1                         0.8   \n",
       "84               rmsprop                       1                         0.7   \n",
       "93               rmsprop                       1                         0.6   \n",
       "97               rmsprop                       0                         0.4   \n",
       "37               rmsprop                       1                         0.6   \n",
       "68               rmsprop                       1                         0.7   \n",
       "71               rmsprop                       1                         0.8   \n",
       "42               rmsprop                       1                         0.6   \n",
       "79               rmsprop                       0                         0.6   \n",
       "86               rmsprop                       0                         0.7   \n",
       "39               rmsprop                       1                         0.7   \n",
       "47                  adam                       1                         0.6   \n",
       "94               rmsprop                       0                         0.6   \n",
       "67               rmsprop                       1                         0.7   \n",
       "53               rmsprop                       2                         0.5   \n",
       "41               rmsprop                       1                         0.6   \n",
       "31               rmsprop                       0                         0.1   \n",
       "64               rmsprop                       1                         0.5   \n",
       "89               rmsprop                       0                         0.7   \n",
       "52                  adam                       1                         0.5   \n",
       "26               rmsprop                       0                         0.1   \n",
       "76               rmsprop                       0                         0.8   \n",
       "83               rmsprop                       1                         0.7   \n",
       "22               rmsprop                       0                         0.1   \n",
       "56               rmsprop                       1                         0.6   \n",
       "77               rmsprop                       1                         0.9   \n",
       "66               rmsprop                       5                         0.6   \n",
       "96               rmsprop                       1                         0.8   \n",
       "43               rmsprop                       2                         0.6   \n",
       "70               rmsprop                       4                         0.9   \n",
       "75               rmsprop                       1                         0.7   \n",
       "90               rmsprop                       0                         0.6   \n",
       "62               rmsprop                       1                         0.8   \n",
       "46               rmsprop                       2                         0.8   \n",
       "57               rmsprop                       3                         0.6   \n",
       "61               rmsprop                       1                         0.9   \n",
       "72               rmsprop                       1                         0.8   \n",
       "81               rmsprop                       0                         0.6   \n",
       "49                  adam                       1                         0.5   \n",
       "27               rmsprop                       0                         0.2   \n",
       "74               rmsprop                       1                         0.8   \n",
       "10               rmsprop                       0                         0.1   \n",
       "60                  adam                       1                         0.8   \n",
       "12               rmsprop                       0                         0.0   \n",
       "36                  adam                       0                         0.3   \n",
       "50                  adam                       1                         0.7   \n",
       "51                  adam                       1                         0.6   \n",
       "99               rmsprop                       1                         0.4   \n",
       "80               rmsprop                       0                         0.8   \n",
       "82               rmsprop                       0                         0.6   \n",
       "44                  adam                       2                         0.7   \n",
       "21               rmsprop                       0                         0.0   \n",
       "95               rmsprop                       1                         0.6   \n",
       "91               rmsprop                       1                         0.7   \n",
       "73               rmsprop                       1                         0.7   \n",
       "11               rmsprop                       0                         0.0   \n",
       "69               rmsprop                       1                         0.7   \n",
       "19               rmsprop                       1                         0.3   \n",
       "85               rmsprop                       1                         0.7   \n",
       "92               rmsprop                       1                         0.7   \n",
       "45               rmsprop                       1                         0.8   \n",
       "63               rmsprop                       1                         0.7   \n",
       "32               rmsprop                       0                         0.1   \n",
       "18               rmsprop                       0                         0.1   \n",
       "40               rmsprop                       2                         0.7   \n",
       "23               rmsprop                       1                         0.2   \n",
       "59               rmsprop                       2                         1.0   \n",
       "14               rmsprop                       0                         0.3   \n",
       "33               rmsprop                       1                         0.1   \n",
       "87               rmsprop                       0                         0.8   \n",
       "4                rmsprop                       2                         0.9   \n",
       "30               rmsprop                       4                         0.2   \n",
       "24               rmsprop                       0                         0.1   \n",
       "13               rmsprop                       0                         0.2   \n",
       "25               rmsprop                       1                         0.4   \n",
       "48                  adam                       2                         0.6   \n",
       "55                  adam                       2                         0.7   \n",
       "20               rmsprop                       3                         0.0   \n",
       "29               rmsprop                       3                         0.7   \n",
       "98               rmsprop                       1                         0.4   \n",
       "15               rmsprop                       1                         0.0   \n",
       "35               rmsprop                       1                         0.4   \n",
       "88               rmsprop                       0                         0.9   \n",
       "28               rmsprop                       1                         0.4   \n",
       "65               rmsprop                       2                         0.5   \n",
       "9                   adam                       3                         0.9   \n",
       "16               rmsprop                       4                         0.3   \n",
       "8                   adam                       2                         0.9   \n",
       "54               rmsprop                       2                         0.5   \n",
       "0                rmsprop                       2                         0.8   \n",
       "1                   adam                       1                         0.1   \n",
       "3                   adam                       5                         0.5   \n",
       "6                   adam                       2                         0.5   \n",
       "34               rmsprop                       0                         0.2   \n",
       "17               rmsprop                       1                         0.2   \n",
       "2                   adam                       2                         0.6   \n",
       "38                  adam                       1                         0.6   \n",
       "5                rmsprop                       5                         1.0   \n",
       "7                   adam                       2                         0.5   \n",
       "\n",
       "    params_LIST_PARAM_MULTIPLET_LOSS params_LIST_SPARSITY  \\\n",
       "78                               0.8            unirandom   \n",
       "58                               0.8            unirandom   \n",
       "84                               0.4            unirandom   \n",
       "93                               0.6            unirandom   \n",
       "97                               0.6            unirandom   \n",
       "37                               0.8            unirandom   \n",
       "68                               0.8            unirandom   \n",
       "71                               0.8            unirandom   \n",
       "42                               1.0            unirandom   \n",
       "79                               0.0            unirandom   \n",
       "86                               0.2            unirandom   \n",
       "39                               1.0            unirandom   \n",
       "47                               0.9            unirandom   \n",
       "94                               0.6            unirandom   \n",
       "67                               0.7            unirandom   \n",
       "53                               0.9            lograndom   \n",
       "41                               0.9            unirandom   \n",
       "31                               0.7             logspace   \n",
       "64                               0.9            unirandom   \n",
       "89                               0.2            unirandom   \n",
       "52                               1.0            unirandom   \n",
       "26                               0.8             logspace   \n",
       "76                               0.5            unirandom   \n",
       "83                               0.1            unirandom   \n",
       "22                               0.9             linspace   \n",
       "56                               1.0            lograndom   \n",
       "77                               0.7            unirandom   \n",
       "66                               1.0            lograndom   \n",
       "96                               0.2            unirandom   \n",
       "43                               1.0            unirandom   \n",
       "70                               0.7            unirandom   \n",
       "75                               0.8            unirandom   \n",
       "90                               0.5            unirandom   \n",
       "62                               0.8            unirandom   \n",
       "46                               1.0            unirandom   \n",
       "57                               0.9            unirandom   \n",
       "61                               1.0            unirandom   \n",
       "72                               0.8            unirandom   \n",
       "81                               0.3            unirandom   \n",
       "49                               1.0            unirandom   \n",
       "27                               0.6             logspace   \n",
       "74                               0.8            unirandom   \n",
       "10                               0.9             linspace   \n",
       "60                               0.8            lograndom   \n",
       "12                               0.8             linspace   \n",
       "36                               0.5             logspace   \n",
       "50                               0.9            unirandom   \n",
       "51                               0.8            unirandom   \n",
       "99                               0.6            unirandom   \n",
       "80                               0.1            unirandom   \n",
       "82                               0.0            unirandom   \n",
       "44                               1.0            unirandom   \n",
       "21                               0.9             linspace   \n",
       "95                               0.3            unirandom   \n",
       "91                               0.4            unirandom   \n",
       "73                               0.7            unirandom   \n",
       "11                               0.9             linspace   \n",
       "69                               0.7            unirandom   \n",
       "19                               0.9             linspace   \n",
       "85                               0.4            unirandom   \n",
       "92                               0.0            unirandom   \n",
       "45                               0.9            unirandom   \n",
       "63                               0.9            unirandom   \n",
       "32                               0.7             logspace   \n",
       "18                               0.8            lograndom   \n",
       "40                               1.0            unirandom   \n",
       "23                               1.0             linspace   \n",
       "59                               0.3            unirandom   \n",
       "14                               0.7             linspace   \n",
       "33                               0.6             logspace   \n",
       "87                               0.1            unirandom   \n",
       "4                                0.8             linspace   \n",
       "30                               0.6             logspace   \n",
       "24                               0.9             linspace   \n",
       "13                               0.7             linspace   \n",
       "25                               0.0             linspace   \n",
       "48                               0.9            unirandom   \n",
       "55                               0.9            lograndom   \n",
       "20                               0.6             linspace   \n",
       "29                               0.2             logspace   \n",
       "98                               0.6            unirandom   \n",
       "15                               1.0             linspace   \n",
       "35                               0.8             logspace   \n",
       "88                               0.2            unirandom   \n",
       "28                               0.6             logspace   \n",
       "65                               0.8            unirandom   \n",
       "9                                1.0             linspace   \n",
       "16                               0.8             linspace   \n",
       "8                                0.5            lograndom   \n",
       "54                               0.9            lograndom   \n",
       "0                                0.0             logspace   \n",
       "1                                0.4            unirandom   \n",
       "3                                0.3             logspace   \n",
       "6                                0.5            unirandom   \n",
       "34                               0.7             logspace   \n",
       "17                               0.7             logspace   \n",
       "2                                0.4            lograndom   \n",
       "38                               0.8            unirandom   \n",
       "5                                0.4            unirandom   \n",
       "7                                0.4             linspace   \n",
       "\n",
       "    params_LIST_WEIGHT_DECAY  params_LIST_WIDTH_LSTM  \n",
       "78                    0.0002                     NaN  \n",
       "58                    0.0001                     NaN  \n",
       "84                    0.0001                     NaN  \n",
       "93                    0.0002                     NaN  \n",
       "97                    0.0003                     NaN  \n",
       "37                    0.0003                     NaN  \n",
       "68                    0.0002                     NaN  \n",
       "71                    0.0002                     NaN  \n",
       "42                    0.0001                     NaN  \n",
       "79                    0.0002                     NaN  \n",
       "86                    0.0001                     NaN  \n",
       "39                    0.0001                     NaN  \n",
       "47                    0.0001                     NaN  \n",
       "94                    0.0002                     NaN  \n",
       "67                    0.0001                     NaN  \n",
       "53                    0.0000                     NaN  \n",
       "41                    0.0001                     NaN  \n",
       "31                    0.0004                     NaN  \n",
       "64                    0.0002                     NaN  \n",
       "89                    0.0001                     NaN  \n",
       "52                    0.0002                     NaN  \n",
       "26                    0.0004                     NaN  \n",
       "76                    0.0003                     NaN  \n",
       "83                    0.0002                     NaN  \n",
       "22                    0.0006                     NaN  \n",
       "56                    0.0001                     NaN  \n",
       "77                    0.0001                     NaN  \n",
       "66                    0.0000                     NaN  \n",
       "96                    0.0002                     NaN  \n",
       "43                    0.0001                     NaN  \n",
       "70                    0.0002                     NaN  \n",
       "75                    0.0001                     NaN  \n",
       "90                    0.0003                     NaN  \n",
       "62                    0.0001                     NaN  \n",
       "46                    0.0002                     NaN  \n",
       "57                    0.0003                     NaN  \n",
       "61                    0.0001                     NaN  \n",
       "72                    0.0002                     NaN  \n",
       "81                    0.0002                     NaN  \n",
       "49                    0.0000                     NaN  \n",
       "27                    0.0004                     NaN  \n",
       "74                    0.0002                     NaN  \n",
       "10                    0.0007                     NaN  \n",
       "60                    0.0002                     NaN  \n",
       "12                    0.0007                     NaN  \n",
       "36                    0.0001                    53.0  \n",
       "50                    0.0001                     NaN  \n",
       "51                    0.0002                     NaN  \n",
       "99                    0.0004                     NaN  \n",
       "80                    0.0003                    83.0  \n",
       "82                    0.0002                     NaN  \n",
       "44                    0.0000                     NaN  \n",
       "21                    0.0007                     NaN  \n",
       "95                    0.0002                     NaN  \n",
       "91                    0.0001                     NaN  \n",
       "73                    0.0003                     NaN  \n",
       "11                    0.0007                     NaN  \n",
       "69                    0.0003                    41.0  \n",
       "19                    0.0006                     NaN  \n",
       "85                    0.0002                     NaN  \n",
       "92                    0.0001                     NaN  \n",
       "45                    0.0001                     NaN  \n",
       "63                    0.0000                     NaN  \n",
       "32                    0.0004                     NaN  \n",
       "18                    0.0010                     NaN  \n",
       "40                    0.0000                    16.0  \n",
       "23                    0.0006                     NaN  \n",
       "59                    0.0000                     NaN  \n",
       "14                    0.0007                     NaN  \n",
       "33                    0.0002                     NaN  \n",
       "87                    0.0002                     NaN  \n",
       "4                     0.0003                     NaN  \n",
       "30                    0.0003                     NaN  \n",
       "24                    0.0005                     NaN  \n",
       "13                    0.0010                     NaN  \n",
       "25                    0.0009                     NaN  \n",
       "48                    0.0001                    66.0  \n",
       "55                    0.0000                     NaN  \n",
       "20                    0.0008                     NaN  \n",
       "29                    0.0002                     NaN  \n",
       "98                    0.0003                    49.0  \n",
       "15                    0.0006                     NaN  \n",
       "35                    0.0005                     NaN  \n",
       "88                    0.0003                     NaN  \n",
       "28                    0.0004                     NaN  \n",
       "65                    0.0001                     NaN  \n",
       "9                     0.0003                     NaN  \n",
       "16                    0.0008                     NaN  \n",
       "8                     0.0005                     NaN  \n",
       "54                    0.0000                     NaN  \n",
       "0                     0.0002                     NaN  \n",
       "1                     0.0000                    23.0  \n",
       "3                     0.0008                    73.0  \n",
       "6                     0.0005                   113.0  \n",
       "34                    0.0004                    17.0  \n",
       "17                    0.0004                     NaN  \n",
       "2                     0.0000                    39.0  \n",
       "38                    0.0003                   123.0  \n",
       "5                     0.0001                    30.0  \n",
       "7                     0.0009                    24.0  "
      ]
     },
     "execution_count": 28,
     "metadata": {},
     "output_type": "execute_result"
    }
   ],
   "source": [
    "df.sort_values(\n",
    "    [\"value\",], \n",
    "    ascending=True, \n",
    "    na_position=\"last\")#.to_latex() # See https://www.haya-programming.com/entry/2018/05/31/020009\n"
   ]
  },
  {
   "attachments": {},
   "cell_type": "markdown",
   "metadata": {},
   "source": [
    "## Show results: complete/fail/pruned"
   ]
  },
  {
   "cell_type": "code",
   "execution_count": 29,
   "metadata": {
    "scrolled": false
   },
   "outputs": [
    {
     "data": {
      "text/html": [
       "<div>\n",
       "<style scoped>\n",
       "    .dataframe tbody tr th:only-of-type {\n",
       "        vertical-align: middle;\n",
       "    }\n",
       "\n",
       "    .dataframe tbody tr th {\n",
       "        vertical-align: top;\n",
       "    }\n",
       "\n",
       "    .dataframe thead th {\n",
       "        text-align: right;\n",
       "    }\n",
       "</style>\n",
       "<table border=\"1\" class=\"dataframe\">\n",
       "  <thead>\n",
       "    <tr style=\"text-align: right;\">\n",
       "      <th></th>\n",
       "      <th>number</th>\n",
       "    </tr>\n",
       "    <tr>\n",
       "      <th>state</th>\n",
       "      <th></th>\n",
       "    </tr>\n",
       "  </thead>\n",
       "  <tbody>\n",
       "    <tr>\n",
       "      <th>COMPLETE</th>\n",
       "      <td>100</td>\n",
       "    </tr>\n",
       "  </tbody>\n",
       "</table>\n",
       "</div>"
      ],
      "text/plain": [
       "          number\n",
       "state           \n",
       "COMPLETE     100"
      ]
     },
     "execution_count": 29,
     "metadata": {},
     "output_type": "execute_result"
    }
   ],
   "source": [
    "df = study.trials_dataframe(attrs=(\n",
    "    \"number\",\n",
    "    \"state\",\n",
    "    ))\n",
    "df.groupby(\"state\").count()"
   ]
  },
  {
   "attachments": {},
   "cell_type": "markdown",
   "metadata": {},
   "source": [
    "# Optimization history plot"
   ]
  },
  {
   "cell_type": "code",
   "execution_count": 30,
   "metadata": {},
   "outputs": [
    {
     "data": {
      "application/vnd.plotly.v1+json": {
       "config": {
        "plotlyServerURL": "https://plot.ly"
       },
       "data": [
        {
         "mode": "markers",
         "name": "Objective Value",
         "type": "scatter",
         "x": [
          0,
          1,
          2,
          3,
          4,
          5,
          6,
          7,
          8,
          9,
          10,
          11,
          12,
          13,
          14,
          15,
          16,
          17,
          18,
          19,
          20,
          21,
          22,
          23,
          24,
          25,
          26,
          27,
          28,
          29,
          30,
          31,
          32,
          33,
          34,
          35,
          36,
          37,
          38,
          39,
          40,
          41,
          42,
          43,
          44,
          45,
          46,
          47,
          48,
          49,
          50,
          51,
          52,
          53,
          54,
          55,
          56,
          57,
          58,
          59,
          60,
          61,
          62,
          63,
          64,
          65,
          66,
          67,
          68,
          69,
          70,
          71,
          72,
          73,
          74,
          75,
          76,
          77,
          78,
          79,
          80,
          81,
          82,
          83,
          84,
          85,
          86,
          87,
          88,
          89,
          90,
          91,
          92,
          93,
          94,
          95,
          96,
          97,
          98,
          99
         ],
         "y": [
          0.0495525598526001,
          0.05263876914978027,
          0.13928735256195068,
          0.07459932565689087,
          0.021068453788757324,
          0.5578498244285583,
          0.1147734522819519,
          0.5816274583339691,
          0.025217950344085693,
          0.023562967777252197,
          0.018257975578308105,
          0.01891958713531494,
          0.018514037132263184,
          0.0212898850440979,
          0.02044922113418579,
          0.02251911163330078,
          0.023686528205871582,
          0.125626802444458,
          0.019521117210388184,
          0.019025981426239014,
          0.021994471549987793,
          0.018754303455352783,
          0.017557859420776367,
          0.019997894763946533,
          0.02119213342666626,
          0.021356403827667236,
          0.017502546310424805,
          0.018216371536254883,
          0.023171305656433105,
          0.022056281566619873,
          0.02110224962234497,
          0.017410576343536377,
          0.019484221935272217,
          0.020790040493011475,
          0.11862140893936157,
          0.022608816623687744,
          0.01857966184616089,
          0.016635537147521973,
          0.34778892993927,
          0.01701122522354126,
          0.01956915855407715,
          0.017308354377746582,
          0.016974031925201416,
          0.017678797245025635,
          0.01875293254852295,
          0.019313573837280273,
          0.018069028854370117,
          0.017033398151397705,
          0.021504104137420654,
          0.018155038356781006,
          0.01858919858932495,
          0.0186578631401062,
          0.01748567819595337,
          0.01717090606689453,
          0.02748626470565796,
          0.021634280681610107,
          0.017608821392059326,
          0.018077731132507324,
          0.015880465507507324,
          0.02036350965499878,
          0.018354177474975586,
          0.018104493618011475,
          0.017974853515625,
          0.019441723823547363,
          0.017419874668121338,
          0.023507654666900635,
          0.01762157678604126,
          0.017135024070739746,
          0.016651511192321777,
          0.0190085768699646,
          0.0177304744720459,
          0.01685410737991333,
          0.01812654733657837,
          0.018880844116210938,
          0.01824551820755005,
          0.01781708002090454,
          0.017528235912322998,
          0.017611324787139893,
          0.015432298183441162,
          0.016986429691314697,
          0.018716812133789062,
          0.018149077892303467,
          0.018729686737060547,
          0.01755291223526001,
          0.016190528869628906,
          0.019175708293914795,
          0.017005324363708496,
          0.021039962768554688,
          0.02290964126586914,
          0.017471015453338623,
          0.017824828624725342,
          0.018854498863220215,
          0.019290566444396973,
          0.016435563564300537,
          0.01710587739944458,
          0.018757998943328857,
          0.01766836643218994,
          0.016545653343200684,
          0.022514760494232178,
          0.01866316795349121
         ]
        },
        {
         "name": "Best Value",
         "type": "scatter",
         "x": [
          0,
          1,
          2,
          3,
          4,
          5,
          6,
          7,
          8,
          9,
          10,
          11,
          12,
          13,
          14,
          15,
          16,
          17,
          18,
          19,
          20,
          21,
          22,
          23,
          24,
          25,
          26,
          27,
          28,
          29,
          30,
          31,
          32,
          33,
          34,
          35,
          36,
          37,
          38,
          39,
          40,
          41,
          42,
          43,
          44,
          45,
          46,
          47,
          48,
          49,
          50,
          51,
          52,
          53,
          54,
          55,
          56,
          57,
          58,
          59,
          60,
          61,
          62,
          63,
          64,
          65,
          66,
          67,
          68,
          69,
          70,
          71,
          72,
          73,
          74,
          75,
          76,
          77,
          78,
          79,
          80,
          81,
          82,
          83,
          84,
          85,
          86,
          87,
          88,
          89,
          90,
          91,
          92,
          93,
          94,
          95,
          96,
          97,
          98,
          99
         ],
         "y": [
          0.0495525598526001,
          0.0495525598526001,
          0.0495525598526001,
          0.0495525598526001,
          0.021068453788757324,
          0.021068453788757324,
          0.021068453788757324,
          0.021068453788757324,
          0.021068453788757324,
          0.021068453788757324,
          0.018257975578308105,
          0.018257975578308105,
          0.018257975578308105,
          0.018257975578308105,
          0.018257975578308105,
          0.018257975578308105,
          0.018257975578308105,
          0.018257975578308105,
          0.018257975578308105,
          0.018257975578308105,
          0.018257975578308105,
          0.018257975578308105,
          0.017557859420776367,
          0.017557859420776367,
          0.017557859420776367,
          0.017557859420776367,
          0.017502546310424805,
          0.017502546310424805,
          0.017502546310424805,
          0.017502546310424805,
          0.017502546310424805,
          0.017410576343536377,
          0.017410576343536377,
          0.017410576343536377,
          0.017410576343536377,
          0.017410576343536377,
          0.017410576343536377,
          0.016635537147521973,
          0.016635537147521973,
          0.016635537147521973,
          0.016635537147521973,
          0.016635537147521973,
          0.016635537147521973,
          0.016635537147521973,
          0.016635537147521973,
          0.016635537147521973,
          0.016635537147521973,
          0.016635537147521973,
          0.016635537147521973,
          0.016635537147521973,
          0.016635537147521973,
          0.016635537147521973,
          0.016635537147521973,
          0.016635537147521973,
          0.016635537147521973,
          0.016635537147521973,
          0.016635537147521973,
          0.016635537147521973,
          0.015880465507507324,
          0.015880465507507324,
          0.015880465507507324,
          0.015880465507507324,
          0.015880465507507324,
          0.015880465507507324,
          0.015880465507507324,
          0.015880465507507324,
          0.015880465507507324,
          0.015880465507507324,
          0.015880465507507324,
          0.015880465507507324,
          0.015880465507507324,
          0.015880465507507324,
          0.015880465507507324,
          0.015880465507507324,
          0.015880465507507324,
          0.015880465507507324,
          0.015880465507507324,
          0.015880465507507324,
          0.015432298183441162,
          0.015432298183441162,
          0.015432298183441162,
          0.015432298183441162,
          0.015432298183441162,
          0.015432298183441162,
          0.015432298183441162,
          0.015432298183441162,
          0.015432298183441162,
          0.015432298183441162,
          0.015432298183441162,
          0.015432298183441162,
          0.015432298183441162,
          0.015432298183441162,
          0.015432298183441162,
          0.015432298183441162,
          0.015432298183441162,
          0.015432298183441162,
          0.015432298183441162,
          0.015432298183441162,
          0.015432298183441162,
          0.015432298183441162
         ]
        }
       ],
       "layout": {
        "template": {
         "data": {
          "bar": [
           {
            "error_x": {
             "color": "#2a3f5f"
            },
            "error_y": {
             "color": "#2a3f5f"
            },
            "marker": {
             "line": {
              "color": "#E5ECF6",
              "width": 0.5
             },
             "pattern": {
              "fillmode": "overlay",
              "size": 10,
              "solidity": 0.2
             }
            },
            "type": "bar"
           }
          ],
          "barpolar": [
           {
            "marker": {
             "line": {
              "color": "#E5ECF6",
              "width": 0.5
             },
             "pattern": {
              "fillmode": "overlay",
              "size": 10,
              "solidity": 0.2
             }
            },
            "type": "barpolar"
           }
          ],
          "carpet": [
           {
            "aaxis": {
             "endlinecolor": "#2a3f5f",
             "gridcolor": "white",
             "linecolor": "white",
             "minorgridcolor": "white",
             "startlinecolor": "#2a3f5f"
            },
            "baxis": {
             "endlinecolor": "#2a3f5f",
             "gridcolor": "white",
             "linecolor": "white",
             "minorgridcolor": "white",
             "startlinecolor": "#2a3f5f"
            },
            "type": "carpet"
           }
          ],
          "choropleth": [
           {
            "colorbar": {
             "outlinewidth": 0,
             "ticks": ""
            },
            "type": "choropleth"
           }
          ],
          "contour": [
           {
            "colorbar": {
             "outlinewidth": 0,
             "ticks": ""
            },
            "colorscale": [
             [
              0,
              "#0d0887"
             ],
             [
              0.1111111111111111,
              "#46039f"
             ],
             [
              0.2222222222222222,
              "#7201a8"
             ],
             [
              0.3333333333333333,
              "#9c179e"
             ],
             [
              0.4444444444444444,
              "#bd3786"
             ],
             [
              0.5555555555555556,
              "#d8576b"
             ],
             [
              0.6666666666666666,
              "#ed7953"
             ],
             [
              0.7777777777777778,
              "#fb9f3a"
             ],
             [
              0.8888888888888888,
              "#fdca26"
             ],
             [
              1,
              "#f0f921"
             ]
            ],
            "type": "contour"
           }
          ],
          "contourcarpet": [
           {
            "colorbar": {
             "outlinewidth": 0,
             "ticks": ""
            },
            "type": "contourcarpet"
           }
          ],
          "heatmap": [
           {
            "colorbar": {
             "outlinewidth": 0,
             "ticks": ""
            },
            "colorscale": [
             [
              0,
              "#0d0887"
             ],
             [
              0.1111111111111111,
              "#46039f"
             ],
             [
              0.2222222222222222,
              "#7201a8"
             ],
             [
              0.3333333333333333,
              "#9c179e"
             ],
             [
              0.4444444444444444,
              "#bd3786"
             ],
             [
              0.5555555555555556,
              "#d8576b"
             ],
             [
              0.6666666666666666,
              "#ed7953"
             ],
             [
              0.7777777777777778,
              "#fb9f3a"
             ],
             [
              0.8888888888888888,
              "#fdca26"
             ],
             [
              1,
              "#f0f921"
             ]
            ],
            "type": "heatmap"
           }
          ],
          "heatmapgl": [
           {
            "colorbar": {
             "outlinewidth": 0,
             "ticks": ""
            },
            "colorscale": [
             [
              0,
              "#0d0887"
             ],
             [
              0.1111111111111111,
              "#46039f"
             ],
             [
              0.2222222222222222,
              "#7201a8"
             ],
             [
              0.3333333333333333,
              "#9c179e"
             ],
             [
              0.4444444444444444,
              "#bd3786"
             ],
             [
              0.5555555555555556,
              "#d8576b"
             ],
             [
              0.6666666666666666,
              "#ed7953"
             ],
             [
              0.7777777777777778,
              "#fb9f3a"
             ],
             [
              0.8888888888888888,
              "#fdca26"
             ],
             [
              1,
              "#f0f921"
             ]
            ],
            "type": "heatmapgl"
           }
          ],
          "histogram": [
           {
            "marker": {
             "pattern": {
              "fillmode": "overlay",
              "size": 10,
              "solidity": 0.2
             }
            },
            "type": "histogram"
           }
          ],
          "histogram2d": [
           {
            "colorbar": {
             "outlinewidth": 0,
             "ticks": ""
            },
            "colorscale": [
             [
              0,
              "#0d0887"
             ],
             [
              0.1111111111111111,
              "#46039f"
             ],
             [
              0.2222222222222222,
              "#7201a8"
             ],
             [
              0.3333333333333333,
              "#9c179e"
             ],
             [
              0.4444444444444444,
              "#bd3786"
             ],
             [
              0.5555555555555556,
              "#d8576b"
             ],
             [
              0.6666666666666666,
              "#ed7953"
             ],
             [
              0.7777777777777778,
              "#fb9f3a"
             ],
             [
              0.8888888888888888,
              "#fdca26"
             ],
             [
              1,
              "#f0f921"
             ]
            ],
            "type": "histogram2d"
           }
          ],
          "histogram2dcontour": [
           {
            "colorbar": {
             "outlinewidth": 0,
             "ticks": ""
            },
            "colorscale": [
             [
              0,
              "#0d0887"
             ],
             [
              0.1111111111111111,
              "#46039f"
             ],
             [
              0.2222222222222222,
              "#7201a8"
             ],
             [
              0.3333333333333333,
              "#9c179e"
             ],
             [
              0.4444444444444444,
              "#bd3786"
             ],
             [
              0.5555555555555556,
              "#d8576b"
             ],
             [
              0.6666666666666666,
              "#ed7953"
             ],
             [
              0.7777777777777778,
              "#fb9f3a"
             ],
             [
              0.8888888888888888,
              "#fdca26"
             ],
             [
              1,
              "#f0f921"
             ]
            ],
            "type": "histogram2dcontour"
           }
          ],
          "mesh3d": [
           {
            "colorbar": {
             "outlinewidth": 0,
             "ticks": ""
            },
            "type": "mesh3d"
           }
          ],
          "parcoords": [
           {
            "line": {
             "colorbar": {
              "outlinewidth": 0,
              "ticks": ""
             }
            },
            "type": "parcoords"
           }
          ],
          "pie": [
           {
            "automargin": true,
            "type": "pie"
           }
          ],
          "scatter": [
           {
            "fillpattern": {
             "fillmode": "overlay",
             "size": 10,
             "solidity": 0.2
            },
            "type": "scatter"
           }
          ],
          "scatter3d": [
           {
            "line": {
             "colorbar": {
              "outlinewidth": 0,
              "ticks": ""
             }
            },
            "marker": {
             "colorbar": {
              "outlinewidth": 0,
              "ticks": ""
             }
            },
            "type": "scatter3d"
           }
          ],
          "scattercarpet": [
           {
            "marker": {
             "colorbar": {
              "outlinewidth": 0,
              "ticks": ""
             }
            },
            "type": "scattercarpet"
           }
          ],
          "scattergeo": [
           {
            "marker": {
             "colorbar": {
              "outlinewidth": 0,
              "ticks": ""
             }
            },
            "type": "scattergeo"
           }
          ],
          "scattergl": [
           {
            "marker": {
             "colorbar": {
              "outlinewidth": 0,
              "ticks": ""
             }
            },
            "type": "scattergl"
           }
          ],
          "scattermapbox": [
           {
            "marker": {
             "colorbar": {
              "outlinewidth": 0,
              "ticks": ""
             }
            },
            "type": "scattermapbox"
           }
          ],
          "scatterpolar": [
           {
            "marker": {
             "colorbar": {
              "outlinewidth": 0,
              "ticks": ""
             }
            },
            "type": "scatterpolar"
           }
          ],
          "scatterpolargl": [
           {
            "marker": {
             "colorbar": {
              "outlinewidth": 0,
              "ticks": ""
             }
            },
            "type": "scatterpolargl"
           }
          ],
          "scatterternary": [
           {
            "marker": {
             "colorbar": {
              "outlinewidth": 0,
              "ticks": ""
             }
            },
            "type": "scatterternary"
           }
          ],
          "surface": [
           {
            "colorbar": {
             "outlinewidth": 0,
             "ticks": ""
            },
            "colorscale": [
             [
              0,
              "#0d0887"
             ],
             [
              0.1111111111111111,
              "#46039f"
             ],
             [
              0.2222222222222222,
              "#7201a8"
             ],
             [
              0.3333333333333333,
              "#9c179e"
             ],
             [
              0.4444444444444444,
              "#bd3786"
             ],
             [
              0.5555555555555556,
              "#d8576b"
             ],
             [
              0.6666666666666666,
              "#ed7953"
             ],
             [
              0.7777777777777778,
              "#fb9f3a"
             ],
             [
              0.8888888888888888,
              "#fdca26"
             ],
             [
              1,
              "#f0f921"
             ]
            ],
            "type": "surface"
           }
          ],
          "table": [
           {
            "cells": {
             "fill": {
              "color": "#EBF0F8"
             },
             "line": {
              "color": "white"
             }
            },
            "header": {
             "fill": {
              "color": "#C8D4E3"
             },
             "line": {
              "color": "white"
             }
            },
            "type": "table"
           }
          ]
         },
         "layout": {
          "annotationdefaults": {
           "arrowcolor": "#2a3f5f",
           "arrowhead": 0,
           "arrowwidth": 1
          },
          "autotypenumbers": "strict",
          "coloraxis": {
           "colorbar": {
            "outlinewidth": 0,
            "ticks": ""
           }
          },
          "colorscale": {
           "diverging": [
            [
             0,
             "#8e0152"
            ],
            [
             0.1,
             "#c51b7d"
            ],
            [
             0.2,
             "#de77ae"
            ],
            [
             0.3,
             "#f1b6da"
            ],
            [
             0.4,
             "#fde0ef"
            ],
            [
             0.5,
             "#f7f7f7"
            ],
            [
             0.6,
             "#e6f5d0"
            ],
            [
             0.7,
             "#b8e186"
            ],
            [
             0.8,
             "#7fbc41"
            ],
            [
             0.9,
             "#4d9221"
            ],
            [
             1,
             "#276419"
            ]
           ],
           "sequential": [
            [
             0,
             "#0d0887"
            ],
            [
             0.1111111111111111,
             "#46039f"
            ],
            [
             0.2222222222222222,
             "#7201a8"
            ],
            [
             0.3333333333333333,
             "#9c179e"
            ],
            [
             0.4444444444444444,
             "#bd3786"
            ],
            [
             0.5555555555555556,
             "#d8576b"
            ],
            [
             0.6666666666666666,
             "#ed7953"
            ],
            [
             0.7777777777777778,
             "#fb9f3a"
            ],
            [
             0.8888888888888888,
             "#fdca26"
            ],
            [
             1,
             "#f0f921"
            ]
           ],
           "sequentialminus": [
            [
             0,
             "#0d0887"
            ],
            [
             0.1111111111111111,
             "#46039f"
            ],
            [
             0.2222222222222222,
             "#7201a8"
            ],
            [
             0.3333333333333333,
             "#9c179e"
            ],
            [
             0.4444444444444444,
             "#bd3786"
            ],
            [
             0.5555555555555556,
             "#d8576b"
            ],
            [
             0.6666666666666666,
             "#ed7953"
            ],
            [
             0.7777777777777778,
             "#fb9f3a"
            ],
            [
             0.8888888888888888,
             "#fdca26"
            ],
            [
             1,
             "#f0f921"
            ]
           ]
          },
          "colorway": [
           "#636efa",
           "#EF553B",
           "#00cc96",
           "#ab63fa",
           "#FFA15A",
           "#19d3f3",
           "#FF6692",
           "#B6E880",
           "#FF97FF",
           "#FECB52"
          ],
          "font": {
           "color": "#2a3f5f"
          },
          "geo": {
           "bgcolor": "white",
           "lakecolor": "white",
           "landcolor": "#E5ECF6",
           "showlakes": true,
           "showland": true,
           "subunitcolor": "white"
          },
          "hoverlabel": {
           "align": "left"
          },
          "hovermode": "closest",
          "mapbox": {
           "style": "light"
          },
          "paper_bgcolor": "white",
          "plot_bgcolor": "#E5ECF6",
          "polar": {
           "angularaxis": {
            "gridcolor": "white",
            "linecolor": "white",
            "ticks": ""
           },
           "bgcolor": "#E5ECF6",
           "radialaxis": {
            "gridcolor": "white",
            "linecolor": "white",
            "ticks": ""
           }
          },
          "scene": {
           "xaxis": {
            "backgroundcolor": "#E5ECF6",
            "gridcolor": "white",
            "gridwidth": 2,
            "linecolor": "white",
            "showbackground": true,
            "ticks": "",
            "zerolinecolor": "white"
           },
           "yaxis": {
            "backgroundcolor": "#E5ECF6",
            "gridcolor": "white",
            "gridwidth": 2,
            "linecolor": "white",
            "showbackground": true,
            "ticks": "",
            "zerolinecolor": "white"
           },
           "zaxis": {
            "backgroundcolor": "#E5ECF6",
            "gridcolor": "white",
            "gridwidth": 2,
            "linecolor": "white",
            "showbackground": true,
            "ticks": "",
            "zerolinecolor": "white"
           }
          },
          "shapedefaults": {
           "line": {
            "color": "#2a3f5f"
           }
          },
          "ternary": {
           "aaxis": {
            "gridcolor": "white",
            "linecolor": "white",
            "ticks": ""
           },
           "baxis": {
            "gridcolor": "white",
            "linecolor": "white",
            "ticks": ""
           },
           "bgcolor": "#E5ECF6",
           "caxis": {
            "gridcolor": "white",
            "linecolor": "white",
            "ticks": ""
           }
          },
          "title": {
           "x": 0.05
          },
          "xaxis": {
           "automargin": true,
           "gridcolor": "white",
           "linecolor": "white",
           "ticks": "",
           "title": {
            "standoff": 15
           },
           "zerolinecolor": "white",
           "zerolinewidth": 2
          },
          "yaxis": {
           "automargin": true,
           "gridcolor": "white",
           "linecolor": "white",
           "ticks": "",
           "title": {
            "standoff": 15
           },
           "zerolinecolor": "white",
           "zerolinewidth": 2
          }
         }
        },
        "title": {
         "text": "Optimization History Plot"
        },
        "xaxis": {
         "title": {
          "text": "Trial"
         }
        },
        "yaxis": {
         "title": {
          "text": "Objective Value"
         }
        }
       }
      },
      "text/html": [
       "<div>                            <div id=\"9854308e-2e91-4020-bdf0-cab07fdb13e6\" class=\"plotly-graph-div\" style=\"height:525px; width:100%;\"></div>            <script type=\"text/javascript\">                require([\"plotly\"], function(Plotly) {                    window.PLOTLYENV=window.PLOTLYENV || {};                                    if (document.getElementById(\"9854308e-2e91-4020-bdf0-cab07fdb13e6\")) {                    Plotly.newPlot(                        \"9854308e-2e91-4020-bdf0-cab07fdb13e6\",                        [{\"mode\":\"markers\",\"name\":\"Objective Value\",\"x\":[0,1,2,3,4,5,6,7,8,9,10,11,12,13,14,15,16,17,18,19,20,21,22,23,24,25,26,27,28,29,30,31,32,33,34,35,36,37,38,39,40,41,42,43,44,45,46,47,48,49,50,51,52,53,54,55,56,57,58,59,60,61,62,63,64,65,66,67,68,69,70,71,72,73,74,75,76,77,78,79,80,81,82,83,84,85,86,87,88,89,90,91,92,93,94,95,96,97,98,99],\"y\":[0.0495525598526001,0.05263876914978027,0.13928735256195068,0.07459932565689087,0.021068453788757324,0.5578498244285583,0.1147734522819519,0.5816274583339691,0.025217950344085693,0.023562967777252197,0.018257975578308105,0.01891958713531494,0.018514037132263184,0.0212898850440979,0.02044922113418579,0.02251911163330078,0.023686528205871582,0.125626802444458,0.019521117210388184,0.019025981426239014,0.021994471549987793,0.018754303455352783,0.017557859420776367,0.019997894763946533,0.02119213342666626,0.021356403827667236,0.017502546310424805,0.018216371536254883,0.023171305656433105,0.022056281566619873,0.02110224962234497,0.017410576343536377,0.019484221935272217,0.020790040493011475,0.11862140893936157,0.022608816623687744,0.01857966184616089,0.016635537147521973,0.34778892993927,0.01701122522354126,0.01956915855407715,0.017308354377746582,0.016974031925201416,0.017678797245025635,0.01875293254852295,0.019313573837280273,0.018069028854370117,0.017033398151397705,0.021504104137420654,0.018155038356781006,0.01858919858932495,0.0186578631401062,0.01748567819595337,0.01717090606689453,0.02748626470565796,0.021634280681610107,0.017608821392059326,0.018077731132507324,0.015880465507507324,0.02036350965499878,0.018354177474975586,0.018104493618011475,0.017974853515625,0.019441723823547363,0.017419874668121338,0.023507654666900635,0.01762157678604126,0.017135024070739746,0.016651511192321777,0.0190085768699646,0.0177304744720459,0.01685410737991333,0.01812654733657837,0.018880844116210938,0.01824551820755005,0.01781708002090454,0.017528235912322998,0.017611324787139893,0.015432298183441162,0.016986429691314697,0.018716812133789062,0.018149077892303467,0.018729686737060547,0.01755291223526001,0.016190528869628906,0.019175708293914795,0.017005324363708496,0.021039962768554688,0.02290964126586914,0.017471015453338623,0.017824828624725342,0.018854498863220215,0.019290566444396973,0.016435563564300537,0.01710587739944458,0.018757998943328857,0.01766836643218994,0.016545653343200684,0.022514760494232178,0.01866316795349121],\"type\":\"scatter\"},{\"name\":\"Best Value\",\"x\":[0,1,2,3,4,5,6,7,8,9,10,11,12,13,14,15,16,17,18,19,20,21,22,23,24,25,26,27,28,29,30,31,32,33,34,35,36,37,38,39,40,41,42,43,44,45,46,47,48,49,50,51,52,53,54,55,56,57,58,59,60,61,62,63,64,65,66,67,68,69,70,71,72,73,74,75,76,77,78,79,80,81,82,83,84,85,86,87,88,89,90,91,92,93,94,95,96,97,98,99],\"y\":[0.0495525598526001,0.0495525598526001,0.0495525598526001,0.0495525598526001,0.021068453788757324,0.021068453788757324,0.021068453788757324,0.021068453788757324,0.021068453788757324,0.021068453788757324,0.018257975578308105,0.018257975578308105,0.018257975578308105,0.018257975578308105,0.018257975578308105,0.018257975578308105,0.018257975578308105,0.018257975578308105,0.018257975578308105,0.018257975578308105,0.018257975578308105,0.018257975578308105,0.017557859420776367,0.017557859420776367,0.017557859420776367,0.017557859420776367,0.017502546310424805,0.017502546310424805,0.017502546310424805,0.017502546310424805,0.017502546310424805,0.017410576343536377,0.017410576343536377,0.017410576343536377,0.017410576343536377,0.017410576343536377,0.017410576343536377,0.016635537147521973,0.016635537147521973,0.016635537147521973,0.016635537147521973,0.016635537147521973,0.016635537147521973,0.016635537147521973,0.016635537147521973,0.016635537147521973,0.016635537147521973,0.016635537147521973,0.016635537147521973,0.016635537147521973,0.016635537147521973,0.016635537147521973,0.016635537147521973,0.016635537147521973,0.016635537147521973,0.016635537147521973,0.016635537147521973,0.016635537147521973,0.015880465507507324,0.015880465507507324,0.015880465507507324,0.015880465507507324,0.015880465507507324,0.015880465507507324,0.015880465507507324,0.015880465507507324,0.015880465507507324,0.015880465507507324,0.015880465507507324,0.015880465507507324,0.015880465507507324,0.015880465507507324,0.015880465507507324,0.015880465507507324,0.015880465507507324,0.015880465507507324,0.015880465507507324,0.015880465507507324,0.015432298183441162,0.015432298183441162,0.015432298183441162,0.015432298183441162,0.015432298183441162,0.015432298183441162,0.015432298183441162,0.015432298183441162,0.015432298183441162,0.015432298183441162,0.015432298183441162,0.015432298183441162,0.015432298183441162,0.015432298183441162,0.015432298183441162,0.015432298183441162,0.015432298183441162,0.015432298183441162,0.015432298183441162,0.015432298183441162,0.015432298183441162,0.015432298183441162],\"type\":\"scatter\"}],                        {\"title\":{\"text\":\"Optimization History Plot\"},\"xaxis\":{\"title\":{\"text\":\"Trial\"}},\"yaxis\":{\"title\":{\"text\":\"Objective Value\"}},\"template\":{\"data\":{\"histogram2dcontour\":[{\"type\":\"histogram2dcontour\",\"colorbar\":{\"outlinewidth\":0,\"ticks\":\"\"},\"colorscale\":[[0.0,\"#0d0887\"],[0.1111111111111111,\"#46039f\"],[0.2222222222222222,\"#7201a8\"],[0.3333333333333333,\"#9c179e\"],[0.4444444444444444,\"#bd3786\"],[0.5555555555555556,\"#d8576b\"],[0.6666666666666666,\"#ed7953\"],[0.7777777777777778,\"#fb9f3a\"],[0.8888888888888888,\"#fdca26\"],[1.0,\"#f0f921\"]]}],\"choropleth\":[{\"type\":\"choropleth\",\"colorbar\":{\"outlinewidth\":0,\"ticks\":\"\"}}],\"histogram2d\":[{\"type\":\"histogram2d\",\"colorbar\":{\"outlinewidth\":0,\"ticks\":\"\"},\"colorscale\":[[0.0,\"#0d0887\"],[0.1111111111111111,\"#46039f\"],[0.2222222222222222,\"#7201a8\"],[0.3333333333333333,\"#9c179e\"],[0.4444444444444444,\"#bd3786\"],[0.5555555555555556,\"#d8576b\"],[0.6666666666666666,\"#ed7953\"],[0.7777777777777778,\"#fb9f3a\"],[0.8888888888888888,\"#fdca26\"],[1.0,\"#f0f921\"]]}],\"heatmap\":[{\"type\":\"heatmap\",\"colorbar\":{\"outlinewidth\":0,\"ticks\":\"\"},\"colorscale\":[[0.0,\"#0d0887\"],[0.1111111111111111,\"#46039f\"],[0.2222222222222222,\"#7201a8\"],[0.3333333333333333,\"#9c179e\"],[0.4444444444444444,\"#bd3786\"],[0.5555555555555556,\"#d8576b\"],[0.6666666666666666,\"#ed7953\"],[0.7777777777777778,\"#fb9f3a\"],[0.8888888888888888,\"#fdca26\"],[1.0,\"#f0f921\"]]}],\"heatmapgl\":[{\"type\":\"heatmapgl\",\"colorbar\":{\"outlinewidth\":0,\"ticks\":\"\"},\"colorscale\":[[0.0,\"#0d0887\"],[0.1111111111111111,\"#46039f\"],[0.2222222222222222,\"#7201a8\"],[0.3333333333333333,\"#9c179e\"],[0.4444444444444444,\"#bd3786\"],[0.5555555555555556,\"#d8576b\"],[0.6666666666666666,\"#ed7953\"],[0.7777777777777778,\"#fb9f3a\"],[0.8888888888888888,\"#fdca26\"],[1.0,\"#f0f921\"]]}],\"contourcarpet\":[{\"type\":\"contourcarpet\",\"colorbar\":{\"outlinewidth\":0,\"ticks\":\"\"}}],\"contour\":[{\"type\":\"contour\",\"colorbar\":{\"outlinewidth\":0,\"ticks\":\"\"},\"colorscale\":[[0.0,\"#0d0887\"],[0.1111111111111111,\"#46039f\"],[0.2222222222222222,\"#7201a8\"],[0.3333333333333333,\"#9c179e\"],[0.4444444444444444,\"#bd3786\"],[0.5555555555555556,\"#d8576b\"],[0.6666666666666666,\"#ed7953\"],[0.7777777777777778,\"#fb9f3a\"],[0.8888888888888888,\"#fdca26\"],[1.0,\"#f0f921\"]]}],\"surface\":[{\"type\":\"surface\",\"colorbar\":{\"outlinewidth\":0,\"ticks\":\"\"},\"colorscale\":[[0.0,\"#0d0887\"],[0.1111111111111111,\"#46039f\"],[0.2222222222222222,\"#7201a8\"],[0.3333333333333333,\"#9c179e\"],[0.4444444444444444,\"#bd3786\"],[0.5555555555555556,\"#d8576b\"],[0.6666666666666666,\"#ed7953\"],[0.7777777777777778,\"#fb9f3a\"],[0.8888888888888888,\"#fdca26\"],[1.0,\"#f0f921\"]]}],\"mesh3d\":[{\"type\":\"mesh3d\",\"colorbar\":{\"outlinewidth\":0,\"ticks\":\"\"}}],\"scatter\":[{\"fillpattern\":{\"fillmode\":\"overlay\",\"size\":10,\"solidity\":0.2},\"type\":\"scatter\"}],\"parcoords\":[{\"type\":\"parcoords\",\"line\":{\"colorbar\":{\"outlinewidth\":0,\"ticks\":\"\"}}}],\"scatterpolargl\":[{\"type\":\"scatterpolargl\",\"marker\":{\"colorbar\":{\"outlinewidth\":0,\"ticks\":\"\"}}}],\"bar\":[{\"error_x\":{\"color\":\"#2a3f5f\"},\"error_y\":{\"color\":\"#2a3f5f\"},\"marker\":{\"line\":{\"color\":\"#E5ECF6\",\"width\":0.5},\"pattern\":{\"fillmode\":\"overlay\",\"size\":10,\"solidity\":0.2}},\"type\":\"bar\"}],\"scattergeo\":[{\"type\":\"scattergeo\",\"marker\":{\"colorbar\":{\"outlinewidth\":0,\"ticks\":\"\"}}}],\"scatterpolar\":[{\"type\":\"scatterpolar\",\"marker\":{\"colorbar\":{\"outlinewidth\":0,\"ticks\":\"\"}}}],\"histogram\":[{\"marker\":{\"pattern\":{\"fillmode\":\"overlay\",\"size\":10,\"solidity\":0.2}},\"type\":\"histogram\"}],\"scattergl\":[{\"type\":\"scattergl\",\"marker\":{\"colorbar\":{\"outlinewidth\":0,\"ticks\":\"\"}}}],\"scatter3d\":[{\"type\":\"scatter3d\",\"line\":{\"colorbar\":{\"outlinewidth\":0,\"ticks\":\"\"}},\"marker\":{\"colorbar\":{\"outlinewidth\":0,\"ticks\":\"\"}}}],\"scattermapbox\":[{\"type\":\"scattermapbox\",\"marker\":{\"colorbar\":{\"outlinewidth\":0,\"ticks\":\"\"}}}],\"scatterternary\":[{\"type\":\"scatterternary\",\"marker\":{\"colorbar\":{\"outlinewidth\":0,\"ticks\":\"\"}}}],\"scattercarpet\":[{\"type\":\"scattercarpet\",\"marker\":{\"colorbar\":{\"outlinewidth\":0,\"ticks\":\"\"}}}],\"carpet\":[{\"aaxis\":{\"endlinecolor\":\"#2a3f5f\",\"gridcolor\":\"white\",\"linecolor\":\"white\",\"minorgridcolor\":\"white\",\"startlinecolor\":\"#2a3f5f\"},\"baxis\":{\"endlinecolor\":\"#2a3f5f\",\"gridcolor\":\"white\",\"linecolor\":\"white\",\"minorgridcolor\":\"white\",\"startlinecolor\":\"#2a3f5f\"},\"type\":\"carpet\"}],\"table\":[{\"cells\":{\"fill\":{\"color\":\"#EBF0F8\"},\"line\":{\"color\":\"white\"}},\"header\":{\"fill\":{\"color\":\"#C8D4E3\"},\"line\":{\"color\":\"white\"}},\"type\":\"table\"}],\"barpolar\":[{\"marker\":{\"line\":{\"color\":\"#E5ECF6\",\"width\":0.5},\"pattern\":{\"fillmode\":\"overlay\",\"size\":10,\"solidity\":0.2}},\"type\":\"barpolar\"}],\"pie\":[{\"automargin\":true,\"type\":\"pie\"}]},\"layout\":{\"autotypenumbers\":\"strict\",\"colorway\":[\"#636efa\",\"#EF553B\",\"#00cc96\",\"#ab63fa\",\"#FFA15A\",\"#19d3f3\",\"#FF6692\",\"#B6E880\",\"#FF97FF\",\"#FECB52\"],\"font\":{\"color\":\"#2a3f5f\"},\"hovermode\":\"closest\",\"hoverlabel\":{\"align\":\"left\"},\"paper_bgcolor\":\"white\",\"plot_bgcolor\":\"#E5ECF6\",\"polar\":{\"bgcolor\":\"#E5ECF6\",\"angularaxis\":{\"gridcolor\":\"white\",\"linecolor\":\"white\",\"ticks\":\"\"},\"radialaxis\":{\"gridcolor\":\"white\",\"linecolor\":\"white\",\"ticks\":\"\"}},\"ternary\":{\"bgcolor\":\"#E5ECF6\",\"aaxis\":{\"gridcolor\":\"white\",\"linecolor\":\"white\",\"ticks\":\"\"},\"baxis\":{\"gridcolor\":\"white\",\"linecolor\":\"white\",\"ticks\":\"\"},\"caxis\":{\"gridcolor\":\"white\",\"linecolor\":\"white\",\"ticks\":\"\"}},\"coloraxis\":{\"colorbar\":{\"outlinewidth\":0,\"ticks\":\"\"}},\"colorscale\":{\"sequential\":[[0.0,\"#0d0887\"],[0.1111111111111111,\"#46039f\"],[0.2222222222222222,\"#7201a8\"],[0.3333333333333333,\"#9c179e\"],[0.4444444444444444,\"#bd3786\"],[0.5555555555555556,\"#d8576b\"],[0.6666666666666666,\"#ed7953\"],[0.7777777777777778,\"#fb9f3a\"],[0.8888888888888888,\"#fdca26\"],[1.0,\"#f0f921\"]],\"sequentialminus\":[[0.0,\"#0d0887\"],[0.1111111111111111,\"#46039f\"],[0.2222222222222222,\"#7201a8\"],[0.3333333333333333,\"#9c179e\"],[0.4444444444444444,\"#bd3786\"],[0.5555555555555556,\"#d8576b\"],[0.6666666666666666,\"#ed7953\"],[0.7777777777777778,\"#fb9f3a\"],[0.8888888888888888,\"#fdca26\"],[1.0,\"#f0f921\"]],\"diverging\":[[0,\"#8e0152\"],[0.1,\"#c51b7d\"],[0.2,\"#de77ae\"],[0.3,\"#f1b6da\"],[0.4,\"#fde0ef\"],[0.5,\"#f7f7f7\"],[0.6,\"#e6f5d0\"],[0.7,\"#b8e186\"],[0.8,\"#7fbc41\"],[0.9,\"#4d9221\"],[1,\"#276419\"]]},\"xaxis\":{\"gridcolor\":\"white\",\"linecolor\":\"white\",\"ticks\":\"\",\"title\":{\"standoff\":15},\"zerolinecolor\":\"white\",\"automargin\":true,\"zerolinewidth\":2},\"yaxis\":{\"gridcolor\":\"white\",\"linecolor\":\"white\",\"ticks\":\"\",\"title\":{\"standoff\":15},\"zerolinecolor\":\"white\",\"automargin\":true,\"zerolinewidth\":2},\"scene\":{\"xaxis\":{\"backgroundcolor\":\"#E5ECF6\",\"gridcolor\":\"white\",\"linecolor\":\"white\",\"showbackground\":true,\"ticks\":\"\",\"zerolinecolor\":\"white\",\"gridwidth\":2},\"yaxis\":{\"backgroundcolor\":\"#E5ECF6\",\"gridcolor\":\"white\",\"linecolor\":\"white\",\"showbackground\":true,\"ticks\":\"\",\"zerolinecolor\":\"white\",\"gridwidth\":2},\"zaxis\":{\"backgroundcolor\":\"#E5ECF6\",\"gridcolor\":\"white\",\"linecolor\":\"white\",\"showbackground\":true,\"ticks\":\"\",\"zerolinecolor\":\"white\",\"gridwidth\":2}},\"shapedefaults\":{\"line\":{\"color\":\"#2a3f5f\"}},\"annotationdefaults\":{\"arrowcolor\":\"#2a3f5f\",\"arrowhead\":0,\"arrowwidth\":1},\"geo\":{\"bgcolor\":\"white\",\"landcolor\":\"#E5ECF6\",\"subunitcolor\":\"white\",\"showland\":true,\"showlakes\":true,\"lakecolor\":\"white\"},\"title\":{\"x\":0.05},\"mapbox\":{\"style\":\"light\"}}}},                        {\"responsive\": true}                    ).then(function(){\n",
       "                            \n",
       "var gd = document.getElementById('9854308e-2e91-4020-bdf0-cab07fdb13e6');\n",
       "var x = new MutationObserver(function (mutations, observer) {{\n",
       "        var display = window.getComputedStyle(gd).display;\n",
       "        if (!display || display === 'none') {{\n",
       "            console.log([gd, 'removed!']);\n",
       "            Plotly.purge(gd);\n",
       "            observer.disconnect();\n",
       "        }}\n",
       "}});\n",
       "\n",
       "// Listen for the removal of the full notebook cells\n",
       "var notebookContainer = gd.closest('#notebook-container');\n",
       "if (notebookContainer) {{\n",
       "    x.observe(notebookContainer, {childList: true});\n",
       "}}\n",
       "\n",
       "// Listen for the clearing of the current output cell\n",
       "var outputEl = gd.closest('.output');\n",
       "if (outputEl) {{\n",
       "    x.observe(outputEl, {childList: true});\n",
       "}}\n",
       "\n",
       "                        })                };                });            </script>        </div>"
      ]
     },
     "metadata": {},
     "output_type": "display_data"
    }
   ],
   "source": [
    "optuna.visualization.plot_optimization_history(study)"
   ]
  },
  {
   "attachments": {},
   "cell_type": "markdown",
   "metadata": {},
   "source": [
    "# Intermediate values "
   ]
  },
  {
   "cell_type": "code",
   "execution_count": 31,
   "metadata": {
    "scrolled": false
   },
   "outputs": [
    {
     "data": {
      "application/vnd.plotly.v1+json": {
       "config": {
        "plotlyServerURL": "https://plot.ly"
       },
       "data": [
        {
         "marker": {
          "maxdisplayed": 10
         },
         "mode": "lines+markers",
         "name": "Trial0",
         "type": "scatter",
         "x": [
          0,
          250,
          500,
          750,
          1000,
          1250,
          1500,
          1750,
          2000,
          2250,
          2500,
          2750,
          3000,
          3250,
          3500,
          3750
         ],
         "y": [
          0.6517601311206818,
          0.5728910267353058,
          0.5032181739807129,
          0.435075044631958,
          0.3676488995552063,
          0.3050909638404846,
          0.24576741456985474,
          0.19785284996032715,
          0.15481281280517578,
          0.12694913148880005,
          0.10407358407974243,
          0.08705663681030273,
          0.07187294960021973,
          0.06301462650299072,
          0.05587667226791382,
          0.0495525598526001
         ]
        },
        {
         "marker": {
          "maxdisplayed": 10
         },
         "mode": "lines+markers",
         "name": "Trial1",
         "type": "scatter",
         "x": [
          0,
          250,
          500,
          750,
          1000,
          1250,
          1500,
          1750,
          2000,
          2250,
          2500,
          2750,
          3000,
          3250,
          3500,
          3750
         ],
         "y": [
          0.6209141910076141,
          0.4743642807006836,
          0.3837563991546631,
          0.3080771565437317,
          0.24351751804351807,
          0.20575624704360962,
          0.15832030773162842,
          0.12696552276611328,
          0.10911345481872559,
          0.09115183353424072,
          0.07966244220733643,
          0.0730927586555481,
          0.06343698501586914,
          0.059275686740875244,
          0.05381417274475098,
          0.05263876914978027
         ]
        },
        {
         "marker": {
          "maxdisplayed": 10
         },
         "mode": "lines+markers",
         "name": "Trial2",
         "type": "scatter",
         "x": [
          0,
          250,
          500,
          750,
          1000,
          1250,
          1500,
          1750,
          2000,
          2250,
          2500,
          2750,
          3000,
          3250,
          3500,
          3750
         ],
         "y": [
          0.6626377701759338,
          0.6131978929042816,
          0.5548343658447266,
          0.5064841210842133,
          0.4518682360649109,
          0.40363609790802,
          0.3546375036239624,
          0.31738394498825073,
          0.27712130546569824,
          0.24853801727294922,
          0.22149425745010376,
          0.19775831699371338,
          0.17820709943771362,
          0.16264665126800537,
          0.15103572607040405,
          0.13928735256195068
         ]
        },
        {
         "marker": {
          "maxdisplayed": 10
         },
         "mode": "lines+markers",
         "name": "Trial3",
         "type": "scatter",
         "x": [
          0,
          250,
          500,
          750,
          1000,
          1250,
          1500,
          1750,
          2000,
          2250,
          2500,
          2750,
          3000,
          3250,
          3500,
          3750
         ],
         "y": [
          0.6669217944145203,
          0.5602887570858002,
          0.4772876501083374,
          0.3921017646789551,
          0.32127702236175537,
          0.25975894927978516,
          0.2205086350440979,
          0.1898985505104065,
          0.15918225049972534,
          0.13882845640182495,
          0.1196027398109436,
          0.10329252481460571,
          0.09300112724304199,
          0.08600080013275146,
          0.07905358076095581,
          0.07459932565689087
         ]
        },
        {
         "marker": {
          "maxdisplayed": 10
         },
         "mode": "lines+markers",
         "name": "Trial4",
         "type": "scatter",
         "x": [
          0,
          250,
          500,
          750,
          1000,
          1250,
          1500,
          1750,
          2000,
          2250,
          2500,
          2750,
          3000,
          3250,
          3500,
          3750
         ],
         "y": [
          0.5995188355445862,
          0.03193598985671997,
          0.02256065607070923,
          0.021400094032287598,
          0.021400094032287598,
          0.021400094032287598,
          0.021400094032287598,
          0.021400094032287598,
          0.021400094032287598,
          0.021400094032287598,
          0.021400094032287598,
          0.021400094032287598,
          0.021400094032287598,
          0.021400094032287598,
          0.021400094032287598,
          0.021068453788757324
         ]
        },
        {
         "marker": {
          "maxdisplayed": 10
         },
         "mode": "lines+markers",
         "name": "Trial5",
         "type": "scatter",
         "x": [
          0,
          250,
          500,
          750,
          1000,
          1250,
          1500,
          1750,
          2000,
          2250,
          2500,
          2750,
          3000,
          3250,
          3500,
          3750
         ],
         "y": [
          0.672950029373169,
          0.6641762554645538,
          0.6598931550979614,
          0.6542660892009735,
          0.6465230286121368,
          0.6402886509895325,
          0.6332980096340179,
          0.6263068318367004,
          0.6190913617610931,
          0.6121790707111359,
          0.6029042899608612,
          0.595464825630188,
          0.5874309241771698,
          0.5771670639514923,
          0.5672297179698944,
          0.5578498244285583
         ]
        },
        {
         "marker": {
          "maxdisplayed": 10
         },
         "mode": "lines+markers",
         "name": "Trial6",
         "type": "scatter",
         "x": [
          0,
          250,
          500,
          750,
          1000,
          1250,
          1500,
          1750,
          2000,
          2250,
          2500,
          2750,
          3000,
          3250,
          3500,
          3750
         ],
         "y": [
          0.6730256080627441,
          0.638981282711029,
          0.6042020320892334,
          0.562981128692627,
          0.5210534036159515,
          0.47993898391723633,
          0.4321445822715759,
          0.38905787467956543,
          0.33727574348449707,
          0.2945520281791687,
          0.25115281343460083,
          0.2172953486442566,
          0.1827554702758789,
          0.15808230638504028,
          0.13587284088134766,
          0.1147734522819519
         ]
        },
        {
         "marker": {
          "maxdisplayed": 10
         },
         "mode": "lines+markers",
         "name": "Trial7",
         "type": "scatter",
         "x": [
          0,
          250,
          500,
          750,
          1000,
          1250,
          1500,
          1750,
          2000,
          2250,
          2500,
          2750,
          3000,
          3250,
          3500,
          3750
         ],
         "y": [
          0.6622540354728699,
          0.6622540354728699,
          0.6622540354728699,
          0.6622540354728699,
          0.6548507213592529,
          0.6548507213592529,
          0.6548507213592529,
          0.5958206951618195,
          0.5958206951618195,
          0.5958206951618195,
          0.5958206951618195,
          0.5958206951618195,
          0.5816274583339691,
          0.5816274583339691,
          0.5816274583339691,
          0.5816274583339691
         ]
        },
        {
         "marker": {
          "maxdisplayed": 10
         },
         "mode": "lines+markers",
         "name": "Trial8",
         "type": "scatter",
         "x": [
          0,
          250,
          500,
          750,
          1000,
          1250,
          1500,
          1750,
          2000,
          2250,
          2500,
          2750,
          3000,
          3250,
          3500,
          3750
         ],
         "y": [
          0.6674587428569794,
          0.15788781642913818,
          0.06264626979827881,
          0.0345689058303833,
          0.03091597557067871,
          0.027796030044555664,
          0.027796030044555664,
          0.027024030685424805,
          0.027024030685424805,
          0.027024030685424805,
          0.025913476943969727,
          0.025913476943969727,
          0.025913476943969727,
          0.025741398334503174,
          0.025217950344085693,
          0.025217950344085693
         ]
        },
        {
         "marker": {
          "maxdisplayed": 10
         },
         "mode": "lines+markers",
         "name": "Trial9",
         "type": "scatter",
         "x": [
          0,
          250,
          500,
          750,
          1000,
          1250,
          1500,
          1750,
          2000,
          2250,
          2500,
          2750,
          3000,
          3250,
          3500,
          3750
         ],
         "y": [
          0.6673768162727356,
          0.08549833297729492,
          0.03425055742263794,
          0.02921968698501587,
          0.0254591703414917,
          0.0254591703414917,
          0.0254591703414917,
          0.0254591703414917,
          0.02466362714767456,
          0.02466362714767456,
          0.02466362714767456,
          0.02466362714767456,
          0.02466362714767456,
          0.024223744869232178,
          0.023791790008544922,
          0.023562967777252197
         ]
        },
        {
         "marker": {
          "maxdisplayed": 10
         },
         "mode": "lines+markers",
         "name": "Trial10",
         "type": "scatter",
         "x": [
          0,
          250,
          500,
          750,
          1000,
          1250,
          1500,
          1750,
          2000,
          2250,
          2500,
          2750,
          3000,
          3250,
          3500,
          3750
         ],
         "y": [
          0.7023489475250244,
          0.032306134700775146,
          0.032306134700775146,
          0.032306134700775146,
          0.022881686687469482,
          0.022881686687469482,
          0.022881686687469482,
          0.02280867099761963,
          0.02022862434387207,
          0.02022862434387207,
          0.01969665288925171,
          0.01969665288925171,
          0.01969665288925171,
          0.01969665288925171,
          0.01969665288925171,
          0.018257975578308105
         ]
        },
        {
         "marker": {
          "maxdisplayed": 10
         },
         "mode": "lines+markers",
         "name": "Trial11",
         "type": "scatter",
         "x": [
          0,
          250,
          500,
          750,
          1000,
          1250,
          1500,
          1750,
          2000,
          2250,
          2500,
          2750,
          3000,
          3250,
          3500,
          3750
         ],
         "y": [
          0.7257945537567139,
          0.027938425540924072,
          0.027938425540924072,
          0.027938425540924072,
          0.02297919988632202,
          0.02297919988632202,
          0.02297919988632202,
          0.02297919988632202,
          0.02260822057723999,
          0.02078801393508911,
          0.02078801393508911,
          0.01891958713531494,
          0.01891958713531494,
          0.01891958713531494,
          0.01891958713531494,
          0.01891958713531494
         ]
        },
        {
         "marker": {
          "maxdisplayed": 10
         },
         "mode": "lines+markers",
         "name": "Trial12",
         "type": "scatter",
         "x": [
          0,
          250,
          500,
          750,
          1000,
          1250,
          1500,
          1750,
          2000,
          2250,
          2500,
          2750,
          3000,
          3250,
          3500,
          3750
         ],
         "y": [
          0.6816897690296173,
          0.020023107528686523,
          0.020023107528686523,
          0.020023107528686523,
          0.020023107528686523,
          0.020023107528686523,
          0.020023107528686523,
          0.020023107528686523,
          0.020023107528686523,
          0.020023107528686523,
          0.020023107528686523,
          0.020023107528686523,
          0.018514037132263184,
          0.018514037132263184,
          0.018514037132263184,
          0.018514037132263184
         ]
        },
        {
         "marker": {
          "maxdisplayed": 10
         },
         "mode": "lines+markers",
         "name": "Trial13",
         "type": "scatter",
         "x": [
          0,
          250,
          500,
          750,
          1000,
          1250,
          1500,
          1750,
          2000,
          2250,
          2500,
          2750,
          3000,
          3250,
          3500,
          3750
         ],
         "y": [
          0.5796572268009186,
          0.025241851806640625,
          0.025241851806640625,
          0.025241851806640625,
          0.025241851806640625,
          0.025241851806640625,
          0.022613883018493652,
          0.022613883018493652,
          0.022613883018493652,
          0.022613883018493652,
          0.0212898850440979,
          0.0212898850440979,
          0.0212898850440979,
          0.0212898850440979,
          0.0212898850440979,
          0.0212898850440979
         ]
        },
        {
         "marker": {
          "maxdisplayed": 10
         },
         "mode": "lines+markers",
         "name": "Trial14",
         "type": "scatter",
         "x": [
          0,
          250,
          500,
          750,
          1000,
          1250,
          1500,
          1750,
          2000,
          2250,
          2500,
          2750,
          3000,
          3250,
          3500,
          3750
         ],
         "y": [
          0.7448551654815674,
          0.045175790786743164,
          0.022687256336212158,
          0.022687256336212158,
          0.022687256336212158,
          0.022687256336212158,
          0.021221518516540527,
          0.021221518516540527,
          0.021221518516540527,
          0.021221518516540527,
          0.021221518516540527,
          0.021221518516540527,
          0.021221518516540527,
          0.02056097984313965,
          0.02044922113418579,
          0.02044922113418579
         ]
        },
        {
         "marker": {
          "maxdisplayed": 10
         },
         "mode": "lines+markers",
         "name": "Trial15",
         "type": "scatter",
         "x": [
          0,
          250,
          500,
          750,
          1000,
          1250,
          1500,
          1750,
          2000,
          2250,
          2500,
          2750,
          3000,
          3250,
          3500,
          3750
         ],
         "y": [
          0.6466147005558014,
          0.05473810434341431,
          0.0367046594619751,
          0.0367046594619751,
          0.024678409099578857,
          0.024678409099578857,
          0.024678409099578857,
          0.024678409099578857,
          0.024678409099578857,
          0.024678409099578857,
          0.024678409099578857,
          0.023228049278259277,
          0.02251911163330078,
          0.02251911163330078,
          0.02251911163330078,
          0.02251911163330078
         ]
        },
        {
         "marker": {
          "maxdisplayed": 10
         },
         "mode": "lines+markers",
         "name": "Trial16",
         "type": "scatter",
         "x": [
          0,
          250,
          500,
          750,
          1000,
          1250,
          1500,
          1750,
          2000,
          2250,
          2500,
          2750,
          3000,
          3250,
          3500,
          3750
         ],
         "y": [
          0.5823723077774048,
          0.030428647994995117,
          0.029494643211364746,
          0.0272749662399292,
          0.026796460151672363,
          0.026070475578308105,
          0.024924159049987793,
          0.024924159049987793,
          0.024924159049987793,
          0.024924159049987793,
          0.024924159049987793,
          0.024924159049987793,
          0.023723959922790527,
          0.023723959922790527,
          0.023686528205871582,
          0.023686528205871582
         ]
        },
        {
         "marker": {
          "maxdisplayed": 10
         },
         "mode": "lines+markers",
         "name": "Trial17",
         "type": "scatter",
         "x": [
          0,
          250,
          500,
          750,
          1000,
          1250,
          1500,
          1750,
          2000,
          2250,
          2500,
          2750,
          3000,
          3250,
          3500,
          3750
         ],
         "y": [
          0.6422052681446075,
          0.5847530364990234,
          0.5408260524272919,
          0.4931167960166931,
          0.4463014602661133,
          0.39909231662750244,
          0.35158586502075195,
          0.31159263849258423,
          0.27711373567581177,
          0.2439124584197998,
          0.21529942750930786,
          0.1943873167037964,
          0.1728917956352234,
          0.15199148654937744,
          0.1383044719696045,
          0.125626802444458
         ]
        },
        {
         "marker": {
          "maxdisplayed": 10
         },
         "mode": "lines+markers",
         "name": "Trial18",
         "type": "scatter",
         "x": [
          0,
          250,
          500,
          750,
          1000,
          1250,
          1500,
          1750,
          2000,
          2250,
          2500,
          2750,
          3000,
          3250,
          3500,
          3750
         ],
         "y": [
          0.6856148540973663,
          0.023642420768737793,
          0.02044123411178589,
          0.019521117210388184,
          0.019521117210388184,
          0.019521117210388184,
          0.019521117210388184,
          0.019521117210388184,
          0.019521117210388184,
          0.019521117210388184,
          0.019521117210388184,
          0.019521117210388184,
          0.019521117210388184,
          0.019521117210388184,
          0.019521117210388184,
          0.019521117210388184
         ]
        },
        {
         "marker": {
          "maxdisplayed": 10
         },
         "mode": "lines+markers",
         "name": "Trial19",
         "type": "scatter",
         "x": [
          0,
          250,
          500,
          750,
          1000,
          1250,
          1500,
          1750,
          2000,
          2250,
          2500,
          2750,
          3000,
          3250,
          3500,
          3750
         ],
         "y": [
          0.7250426113605499,
          0.02849787473678589,
          0.024951934814453125,
          0.024951934814453125,
          0.024951934814453125,
          0.02439779043197632,
          0.02439779043197632,
          0.02426755428314209,
          0.019025981426239014,
          0.019025981426239014,
          0.019025981426239014,
          0.019025981426239014,
          0.019025981426239014,
          0.019025981426239014,
          0.019025981426239014,
          0.019025981426239014
         ]
        },
        {
         "marker": {
          "maxdisplayed": 10
         },
         "mode": "lines+markers",
         "name": "Trial20",
         "type": "scatter",
         "x": [
          0,
          250,
          500,
          750,
          1000,
          1250,
          1500,
          1750,
          2000,
          2250,
          2500,
          2750,
          3000,
          3250,
          3500,
          3750
         ],
         "y": [
          0.6462345719337463,
          0.02698838710784912,
          0.025334298610687256,
          0.024264812469482422,
          0.024264812469482422,
          0.02403193712234497,
          0.02352726459503174,
          0.02352726459503174,
          0.02352726459503174,
          0.022942960262298584,
          0.022605478763580322,
          0.021998167037963867,
          0.021998167037963867,
          0.021998167037963867,
          0.021995186805725098,
          0.021994471549987793
         ]
        },
        {
         "marker": {
          "maxdisplayed": 10
         },
         "mode": "lines+markers",
         "name": "Trial21",
         "type": "scatter",
         "x": [
          0,
          250,
          500,
          750,
          1000,
          1250,
          1500,
          1750,
          2000,
          2250,
          2500,
          2750,
          3000,
          3250,
          3500,
          3750
         ],
         "y": [
          0.604619026184082,
          0.020852327346801758,
          0.019951045513153076,
          0.019951045513153076,
          0.019951045513153076,
          0.019951045513153076,
          0.019951045513153076,
          0.019951045513153076,
          0.019951045513153076,
          0.019951045513153076,
          0.019951045513153076,
          0.019353032112121582,
          0.019353032112121582,
          0.019353032112121582,
          0.019353032112121582,
          0.018754303455352783
         ]
        },
        {
         "marker": {
          "maxdisplayed": 10
         },
         "mode": "lines+markers",
         "name": "Trial22",
         "type": "scatter",
         "x": [
          0,
          250,
          500,
          750,
          1000,
          1250,
          1500,
          1750,
          2000,
          2250,
          2500,
          2750,
          3000,
          3250,
          3500,
          3750
         ],
         "y": [
          0.6511718928813934,
          0.019006192684173584,
          0.019006192684173584,
          0.019006192684173584,
          0.019006192684173584,
          0.019006192684173584,
          0.019006192684173584,
          0.019006192684173584,
          0.018361687660217285,
          0.018361687660217285,
          0.018361687660217285,
          0.017557859420776367,
          0.017557859420776367,
          0.017557859420776367,
          0.017557859420776367,
          0.017557859420776367
         ]
        },
        {
         "marker": {
          "maxdisplayed": 10
         },
         "mode": "lines+markers",
         "name": "Trial23",
         "type": "scatter",
         "x": [
          0,
          250,
          500,
          750,
          1000,
          1250,
          1500,
          1750,
          2000,
          2250,
          2500,
          2750,
          3000,
          3250,
          3500,
          3750
         ],
         "y": [
          0.6601020693778992,
          0.021900951862335205,
          0.021900951862335205,
          0.021900951862335205,
          0.021900951862335205,
          0.021900951862335205,
          0.021900951862335205,
          0.021900951862335205,
          0.021900951862335205,
          0.021900951862335205,
          0.021900951862335205,
          0.021900951862335205,
          0.021605074405670166,
          0.02018427848815918,
          0.019997894763946533,
          0.019997894763946533
         ]
        },
        {
         "marker": {
          "maxdisplayed": 10
         },
         "mode": "lines+markers",
         "name": "Trial24",
         "type": "scatter",
         "x": [
          0,
          250,
          500,
          750,
          1000,
          1250,
          1500,
          1750,
          2000,
          2250,
          2500,
          2750,
          3000,
          3250,
          3500,
          3750
         ],
         "y": [
          0.6598793864250183,
          0.028940021991729736,
          0.022182822227478027,
          0.022182822227478027,
          0.02167212963104248,
          0.02119213342666626,
          0.02119213342666626,
          0.02119213342666626,
          0.02119213342666626,
          0.02119213342666626,
          0.02119213342666626,
          0.02119213342666626,
          0.02119213342666626,
          0.02119213342666626,
          0.02119213342666626,
          0.02119213342666626
         ]
        },
        {
         "marker": {
          "maxdisplayed": 10
         },
         "mode": "lines+markers",
         "name": "Trial25",
         "type": "scatter",
         "x": [
          0,
          250,
          500,
          750,
          1000,
          1250,
          1500,
          1750,
          2000,
          2250,
          2500,
          2750,
          3000,
          3250,
          3500,
          3750
         ],
         "y": [
          0.7236026227474213,
          0.03260427713394165,
          0.031418561935424805,
          0.030605316162109375,
          0.028152287006378174,
          0.02348625659942627,
          0.021356403827667236,
          0.021356403827667236,
          0.021356403827667236,
          0.021356403827667236,
          0.021356403827667236,
          0.021356403827667236,
          0.021356403827667236,
          0.021356403827667236,
          0.021356403827667236,
          0.021356403827667236
         ]
        },
        {
         "marker": {
          "maxdisplayed": 10
         },
         "mode": "lines+markers",
         "name": "Trial26",
         "type": "scatter",
         "x": [
          0,
          250,
          500,
          750,
          1000,
          1250,
          1500,
          1750,
          2000,
          2250,
          2500,
          2750,
          3000,
          3250,
          3500,
          3750
         ],
         "y": [
          0.6703681349754333,
          0.022721588611602783,
          0.019463956356048584,
          0.019463956356048584,
          0.019463956356048584,
          0.018409252166748047,
          0.01810556650161743,
          0.01810556650161743,
          0.01810556650161743,
          0.01810556650161743,
          0.017502546310424805,
          0.017502546310424805,
          0.017502546310424805,
          0.017502546310424805,
          0.017502546310424805,
          0.017502546310424805
         ]
        },
        {
         "marker": {
          "maxdisplayed": 10
         },
         "mode": "lines+markers",
         "name": "Trial27",
         "type": "scatter",
         "x": [
          0,
          250,
          500,
          750,
          1000,
          1250,
          1500,
          1750,
          2000,
          2250,
          2500,
          2750,
          3000,
          3250,
          3500,
          3750
         ],
         "y": [
          0.6629321277141571,
          0.02129608392715454,
          0.02129608392715454,
          0.01933598518371582,
          0.01933598518371582,
          0.018474578857421875,
          0.018474578857421875,
          0.018474578857421875,
          0.018474578857421875,
          0.018216371536254883,
          0.018216371536254883,
          0.018216371536254883,
          0.018216371536254883,
          0.018216371536254883,
          0.018216371536254883,
          0.018216371536254883
         ]
        },
        {
         "marker": {
          "maxdisplayed": 10
         },
         "mode": "lines+markers",
         "name": "Trial28",
         "type": "scatter",
         "x": [
          0,
          250,
          500,
          750,
          1000,
          1250,
          1500,
          1750,
          2000,
          2250,
          2500,
          2750,
          3000,
          3250,
          3500,
          3750
         ],
         "y": [
          0.6647098660469055,
          0.031210601329803467,
          0.028117239475250244,
          0.028117239475250244,
          0.026629269123077393,
          0.025271296501159668,
          0.024588406085968018,
          0.024213194847106934,
          0.02330315113067627,
          0.02330315113067627,
          0.02330315113067627,
          0.02330315113067627,
          0.02330315113067627,
          0.02330315113067627,
          0.023171305656433105,
          0.023171305656433105
         ]
        },
        {
         "marker": {
          "maxdisplayed": 10
         },
         "mode": "lines+markers",
         "name": "Trial29",
         "type": "scatter",
         "x": [
          0,
          250,
          500,
          750,
          1000,
          1250,
          1500,
          1750,
          2000,
          2250,
          2500,
          2750,
          3000,
          3250,
          3500,
          3750
         ],
         "y": [
          0.6980931460857391,
          0.028625547885894775,
          0.028625547885894775,
          0.027508914470672607,
          0.027508914470672607,
          0.027235448360443115,
          0.026924729347229004,
          0.02682286500930786,
          0.02560025453567505,
          0.025218188762664795,
          0.025218188762664795,
          0.022568881511688232,
          0.022568881511688232,
          0.02238774299621582,
          0.022056281566619873,
          0.022056281566619873
         ]
        },
        {
         "marker": {
          "maxdisplayed": 10
         },
         "mode": "lines+markers",
         "name": "Trial30",
         "type": "scatter",
         "x": [
          0,
          250,
          500,
          750,
          1000,
          1250,
          1500,
          1750,
          2000,
          2250,
          2500,
          2750,
          3000,
          3250,
          3500,
          3750
         ],
         "y": [
          0.5999234616756439,
          0.5886592268943787,
          0.5054882168769836,
          0.22963017225265503,
          0.039273619651794434,
          0.02527296543121338,
          0.02163177728652954,
          0.02163177728652954,
          0.02163177728652954,
          0.02163177728652954,
          0.02163177728652954,
          0.02110224962234497,
          0.02110224962234497,
          0.02110224962234497,
          0.02110224962234497,
          0.02110224962234497
         ]
        },
        {
         "marker": {
          "maxdisplayed": 10
         },
         "mode": "lines+markers",
         "name": "Trial31",
         "type": "scatter",
         "x": [
          0,
          250,
          500,
          750,
          1000,
          1250,
          1500,
          1750,
          2000,
          2250,
          2500,
          2750,
          3000,
          3250,
          3500,
          3750
         ],
         "y": [
          0.6710762083530426,
          0.018785059452056885,
          0.017871499061584473,
          0.017871499061584473,
          0.017871499061584473,
          0.017410576343536377,
          0.017410576343536377,
          0.017410576343536377,
          0.017410576343536377,
          0.017410576343536377,
          0.017410576343536377,
          0.017410576343536377,
          0.017410576343536377,
          0.017410576343536377,
          0.017410576343536377,
          0.017410576343536377
         ]
        },
        {
         "marker": {
          "maxdisplayed": 10
         },
         "mode": "lines+markers",
         "name": "Trial32",
         "type": "scatter",
         "x": [
          0,
          250,
          500,
          750,
          1000,
          1250,
          1500,
          1750,
          2000,
          2250,
          2500,
          2750,
          3000,
          3250,
          3500,
          3750
         ],
         "y": [
          0.5924456417560577,
          0.020704567432403564,
          0.020704567432403564,
          0.020322978496551514,
          0.020322978496551514,
          0.020322978496551514,
          0.020322978496551514,
          0.019968807697296143,
          0.019968807697296143,
          0.019968807697296143,
          0.019968807697296143,
          0.019484221935272217,
          0.019484221935272217,
          0.019484221935272217,
          0.019484221935272217,
          0.019484221935272217
         ]
        },
        {
         "marker": {
          "maxdisplayed": 10
         },
         "mode": "lines+markers",
         "name": "Trial33",
         "type": "scatter",
         "x": [
          0,
          250,
          500,
          750,
          1000,
          1250,
          1500,
          1750,
          2000,
          2250,
          2500,
          2750,
          3000,
          3250,
          3500,
          3750
         ],
         "y": [
          0.6488150954246521,
          0.028363466262817383,
          0.028363466262817383,
          0.02323216199874878,
          0.021646976470947266,
          0.021646976470947266,
          0.021646976470947266,
          0.021646976470947266,
          0.021646976470947266,
          0.020790040493011475,
          0.020790040493011475,
          0.020790040493011475,
          0.020790040493011475,
          0.020790040493011475,
          0.020790040493011475,
          0.020790040493011475
         ]
        },
        {
         "marker": {
          "maxdisplayed": 10
         },
         "mode": "lines+markers",
         "name": "Trial34",
         "type": "scatter",
         "x": [
          0,
          250,
          500,
          750,
          1000,
          1250,
          1500,
          1750,
          2000,
          2250,
          2500,
          2750,
          3000,
          3250,
          3500,
          3750
         ],
         "y": [
          0.6672171056270599,
          0.5810777246952057,
          0.527091920375824,
          0.4842839241027832,
          0.4337967038154602,
          0.39197659492492676,
          0.34517139196395874,
          0.30349135398864746,
          0.2736290693283081,
          0.2437153458595276,
          0.21731245517730713,
          0.19194620847702026,
          0.1679072380065918,
          0.1480262279510498,
          0.12922674417495728,
          0.11862140893936157
         ]
        },
        {
         "marker": {
          "maxdisplayed": 10
         },
         "mode": "lines+markers",
         "name": "Trial35",
         "type": "scatter",
         "x": [
          0,
          250,
          500,
          750,
          1000,
          1250,
          1500,
          1750,
          2000,
          2250,
          2500,
          2750,
          3000,
          3250,
          3500,
          3750
         ],
         "y": [
          0.6740976274013519,
          0.03894758224487305,
          0.03137236833572388,
          0.02710425853729248,
          0.026471316814422607,
          0.023853600025177002,
          0.023853600025177002,
          0.023738622665405273,
          0.023738622665405273,
          0.023314058780670166,
          0.023314058780670166,
          0.023314058780670166,
          0.022608816623687744,
          0.022608816623687744,
          0.022608816623687744,
          0.022608816623687744
         ]
        },
        {
         "marker": {
          "maxdisplayed": 10
         },
         "mode": "lines+markers",
         "name": "Trial36",
         "type": "scatter",
         "x": [
          0,
          250,
          500,
          750,
          1000,
          1250,
          1500,
          1750,
          2000,
          2250,
          2500,
          2750,
          3000,
          3250,
          3500,
          3750
         ],
         "y": [
          0.6670039296150208,
          0.45074522495269775,
          0.22969269752502441,
          0.0938308835029602,
          0.0479775071144104,
          0.034467101097106934,
          0.034467101097106934,
          0.02111661434173584,
          0.02111661434173584,
          0.02111661434173584,
          0.02111661434173584,
          0.02111661434173584,
          0.02032405138015747,
          0.01857966184616089,
          0.01857966184616089,
          0.01857966184616089
         ]
        },
        {
         "marker": {
          "maxdisplayed": 10
         },
         "mode": "lines+markers",
         "name": "Trial37",
         "type": "scatter",
         "x": [
          0,
          250,
          500,
          750,
          1000,
          1250,
          1500,
          1750,
          2000,
          2250,
          2500,
          2750,
          3000,
          3250,
          3500,
          3750
         ],
         "y": [
          0.6666303277015686,
          0.02193903923034668,
          0.0186346173286438,
          0.0186346173286438,
          0.017546236515045166,
          0.017546236515045166,
          0.016635537147521973,
          0.016635537147521973,
          0.016635537147521973,
          0.016635537147521973,
          0.016635537147521973,
          0.016635537147521973,
          0.016635537147521973,
          0.016635537147521973,
          0.016635537147521973,
          0.016635537147521973
         ]
        },
        {
         "marker": {
          "maxdisplayed": 10
         },
         "mode": "lines+markers",
         "name": "Trial38",
         "type": "scatter",
         "x": [
          0,
          250,
          500,
          750,
          1000,
          1250,
          1500,
          1750,
          2000,
          2250,
          2500,
          2750,
          3000,
          3250,
          3500,
          3750
         ],
         "y": [
          0.6728611588478088,
          0.671146959066391,
          0.671146959066391,
          0.671146959066391,
          0.6577285528182983,
          0.5640947818756104,
          0.5640947818756104,
          0.5640947818756104,
          0.5301681756973267,
          0.4322656989097595,
          0.3885878324508667,
          0.3657596707344055,
          0.35894834995269775,
          0.3515363931655884,
          0.3489813804626465,
          0.34778892993927
         ]
        },
        {
         "marker": {
          "maxdisplayed": 10
         },
         "mode": "lines+markers",
         "name": "Trial39",
         "type": "scatter",
         "x": [
          0,
          250,
          500,
          750,
          1000,
          1250,
          1500,
          1750,
          2000,
          2250,
          2500,
          2750,
          3000,
          3250,
          3500,
          3750
         ],
         "y": [
          0.6666374206542969,
          0.09286624193191528,
          0.018768250942230225,
          0.018768250942230225,
          0.018768250942230225,
          0.018768250942230225,
          0.018768250942230225,
          0.017108142375946045,
          0.01701122522354126,
          0.01701122522354126,
          0.01701122522354126,
          0.01701122522354126,
          0.01701122522354126,
          0.01701122522354126,
          0.01701122522354126,
          0.01701122522354126
         ]
        },
        {
         "marker": {
          "maxdisplayed": 10
         },
         "mode": "lines+markers",
         "name": "Trial40",
         "type": "scatter",
         "x": [
          0,
          250,
          500,
          750,
          1000,
          1250,
          1500,
          1750,
          2000,
          2250,
          2500,
          2750,
          3000,
          3250,
          3500,
          3750
         ],
         "y": [
          0.6684329807758331,
          0.21120905876159668,
          0.08836287260055542,
          0.041059911251068115,
          0.03191643953323364,
          0.028316974639892578,
          0.02579665184020996,
          0.025191187858581543,
          0.02372497320175171,
          0.02186441421508789,
          0.02186441421508789,
          0.02186441421508789,
          0.02186441421508789,
          0.02186441421508789,
          0.01956915855407715,
          0.01956915855407715
         ]
        },
        {
         "marker": {
          "maxdisplayed": 10
         },
         "mode": "lines+markers",
         "name": "Trial41",
         "type": "scatter",
         "x": [
          0,
          250,
          500,
          750,
          1000,
          1250,
          1500,
          1750,
          2000,
          2250,
          2500,
          2750,
          3000,
          3250,
          3500,
          3750
         ],
         "y": [
          0.6238393187522888,
          0.027830898761749268,
          0.027830898761749268,
          0.027830898761749268,
          0.023608148097991943,
          0.023608148097991943,
          0.023608148097991943,
          0.023608148097991943,
          0.017308354377746582,
          0.017308354377746582,
          0.017308354377746582,
          0.017308354377746582,
          0.017308354377746582,
          0.017308354377746582,
          0.017308354377746582,
          0.017308354377746582
         ]
        },
        {
         "marker": {
          "maxdisplayed": 10
         },
         "mode": "lines+markers",
         "name": "Trial42",
         "type": "scatter",
         "x": [
          0,
          250,
          500,
          750,
          1000,
          1250,
          1500,
          1750,
          2000,
          2250,
          2500,
          2750,
          3000,
          3250,
          3500,
          3750
         ],
         "y": [
          0.6745903193950653,
          0.028233349323272705,
          0.028233349323272705,
          0.01920771598815918,
          0.018623054027557373,
          0.018623054027557373,
          0.018623054027557373,
          0.018623054027557373,
          0.018623054027557373,
          0.018138349056243896,
          0.018138349056243896,
          0.018138349056243896,
          0.018138349056243896,
          0.017872214317321777,
          0.017872214317321777,
          0.016974031925201416
         ]
        },
        {
         "marker": {
          "maxdisplayed": 10
         },
         "mode": "lines+markers",
         "name": "Trial43",
         "type": "scatter",
         "x": [
          0,
          250,
          500,
          750,
          1000,
          1250,
          1500,
          1750,
          2000,
          2250,
          2500,
          2750,
          3000,
          3250,
          3500,
          3750
         ],
         "y": [
          0.6675033867359161,
          0.022160112857818604,
          0.022160112857818604,
          0.017678797245025635,
          0.017678797245025635,
          0.017678797245025635,
          0.017678797245025635,
          0.017678797245025635,
          0.017678797245025635,
          0.017678797245025635,
          0.017678797245025635,
          0.017678797245025635,
          0.017678797245025635,
          0.017678797245025635,
          0.017678797245025635,
          0.017678797245025635
         ]
        },
        {
         "marker": {
          "maxdisplayed": 10
         },
         "mode": "lines+markers",
         "name": "Trial44",
         "type": "scatter",
         "x": [
          0,
          250,
          500,
          750,
          1000,
          1250,
          1500,
          1750,
          2000,
          2250,
          2500,
          2750,
          3000,
          3250,
          3500,
          3750
         ],
         "y": [
          0.6663366258144379,
          0.02903372049331665,
          0.023363769054412842,
          0.020502865314483643,
          0.01875293254852295,
          0.01875293254852295,
          0.01875293254852295,
          0.01875293254852295,
          0.01875293254852295,
          0.01875293254852295,
          0.01875293254852295,
          0.01875293254852295,
          0.01875293254852295,
          0.01875293254852295,
          0.01875293254852295,
          0.01875293254852295
         ]
        },
        {
         "marker": {
          "maxdisplayed": 10
         },
         "mode": "lines+markers",
         "name": "Trial45",
         "type": "scatter",
         "x": [
          0,
          250,
          500,
          750,
          1000,
          1250,
          1500,
          1750,
          2000,
          2250,
          2500,
          2750,
          3000,
          3250,
          3500,
          3750
         ],
         "y": [
          0.6526688635349274,
          0.05530130863189697,
          0.019445061683654785,
          0.019445061683654785,
          0.019445061683654785,
          0.019445061683654785,
          0.019445061683654785,
          0.019313573837280273,
          0.019313573837280273,
          0.019313573837280273,
          0.019313573837280273,
          0.019313573837280273,
          0.019313573837280273,
          0.019313573837280273,
          0.019313573837280273,
          0.019313573837280273
         ]
        },
        {
         "marker": {
          "maxdisplayed": 10
         },
         "mode": "lines+markers",
         "name": "Trial46",
         "type": "scatter",
         "x": [
          0,
          250,
          500,
          750,
          1000,
          1250,
          1500,
          1750,
          2000,
          2250,
          2500,
          2750,
          3000,
          3250,
          3500,
          3750
         ],
         "y": [
          0.666909784078598,
          0.05381667613983154,
          0.018590986728668213,
          0.018069028854370117,
          0.018069028854370117,
          0.018069028854370117,
          0.018069028854370117,
          0.018069028854370117,
          0.018069028854370117,
          0.018069028854370117,
          0.018069028854370117,
          0.018069028854370117,
          0.018069028854370117,
          0.018069028854370117,
          0.018069028854370117,
          0.018069028854370117
         ]
        },
        {
         "marker": {
          "maxdisplayed": 10
         },
         "mode": "lines+markers",
         "name": "Trial47",
         "type": "scatter",
         "x": [
          0,
          250,
          500,
          750,
          1000,
          1250,
          1500,
          1750,
          2000,
          2250,
          2500,
          2750,
          3000,
          3250,
          3500,
          3750
         ],
         "y": [
          0.57616326212883,
          0.035998642444610596,
          0.017033398151397705,
          0.017033398151397705,
          0.017033398151397705,
          0.017033398151397705,
          0.017033398151397705,
          0.017033398151397705,
          0.017033398151397705,
          0.017033398151397705,
          0.017033398151397705,
          0.017033398151397705,
          0.017033398151397705,
          0.017033398151397705,
          0.017033398151397705,
          0.017033398151397705
         ]
        },
        {
         "marker": {
          "maxdisplayed": 10
         },
         "mode": "lines+markers",
         "name": "Trial48",
         "type": "scatter",
         "x": [
          0,
          250,
          500,
          750,
          1000,
          1250,
          1500,
          1750,
          2000,
          2250,
          2500,
          2750,
          3000,
          3250,
          3500,
          3750
         ],
         "y": [
          0.6668775975704193,
          0.05036133527755737,
          0.023330986499786377,
          0.023330986499786377,
          0.022501885890960693,
          0.021504104137420654,
          0.021504104137420654,
          0.021504104137420654,
          0.021504104137420654,
          0.021504104137420654,
          0.021504104137420654,
          0.021504104137420654,
          0.021504104137420654,
          0.021504104137420654,
          0.021504104137420654,
          0.021504104137420654
         ]
        },
        {
         "marker": {
          "maxdisplayed": 10
         },
         "mode": "lines+markers",
         "name": "Trial49",
         "type": "scatter",
         "x": [
          0,
          250,
          500,
          750,
          1000,
          1250,
          1500,
          1750,
          2000,
          2250,
          2500,
          2750,
          3000,
          3250,
          3500,
          3750
         ],
         "y": [
          0.7174187302589417,
          0.028961777687072754,
          0.018155038356781006,
          0.018155038356781006,
          0.018155038356781006,
          0.018155038356781006,
          0.018155038356781006,
          0.018155038356781006,
          0.018155038356781006,
          0.018155038356781006,
          0.018155038356781006,
          0.018155038356781006,
          0.018155038356781006,
          0.018155038356781006,
          0.018155038356781006,
          0.018155038356781006
         ]
        },
        {
         "marker": {
          "maxdisplayed": 10
         },
         "mode": "lines+markers",
         "name": "Trial50",
         "type": "scatter",
         "x": [
          0,
          250,
          500,
          750,
          1000,
          1250,
          1500,
          1750,
          2000,
          2250,
          2500,
          2750,
          3000,
          3250,
          3500,
          3750
         ],
         "y": [
          0.6668961644172668,
          0.022675633430480957,
          0.022675633430480957,
          0.01865929365158081,
          0.01858919858932495,
          0.01858919858932495,
          0.01858919858932495,
          0.01858919858932495,
          0.01858919858932495,
          0.01858919858932495,
          0.01858919858932495,
          0.01858919858932495,
          0.01858919858932495,
          0.01858919858932495,
          0.01858919858932495,
          0.01858919858932495
         ]
        },
        {
         "marker": {
          "maxdisplayed": 10
         },
         "mode": "lines+markers",
         "name": "Trial51",
         "type": "scatter",
         "x": [
          0,
          250,
          500,
          750,
          1000,
          1250,
          1500,
          1750,
          2000,
          2250,
          2500,
          2750,
          3000,
          3250,
          3500,
          3750
         ],
         "y": [
          0.6667883098125458,
          0.022189855575561523,
          0.020193517208099365,
          0.019757509231567383,
          0.019757509231567383,
          0.019522368907928467,
          0.019522368907928467,
          0.019522368907928467,
          0.019522368907928467,
          0.019522368907928467,
          0.019522368907928467,
          0.0186578631401062,
          0.0186578631401062,
          0.0186578631401062,
          0.0186578631401062,
          0.0186578631401062
         ]
        },
        {
         "marker": {
          "maxdisplayed": 10
         },
         "mode": "lines+markers",
         "name": "Trial52",
         "type": "scatter",
         "x": [
          0,
          250,
          500,
          750,
          1000,
          1250,
          1500,
          1750,
          2000,
          2250,
          2500,
          2750,
          3000,
          3250,
          3500,
          3750
         ],
         "y": [
          0.6165901720523834,
          0.024274885654449463,
          0.020558714866638184,
          0.0184747576713562,
          0.0184747576713562,
          0.0184747576713562,
          0.0184747576713562,
          0.0184747576713562,
          0.0184747576713562,
          0.0184747576713562,
          0.0184747576713562,
          0.01748567819595337,
          0.01748567819595337,
          0.01748567819595337,
          0.01748567819595337,
          0.01748567819595337
         ]
        },
        {
         "marker": {
          "maxdisplayed": 10
         },
         "mode": "lines+markers",
         "name": "Trial53",
         "type": "scatter",
         "x": [
          0,
          250,
          500,
          750,
          1000,
          1250,
          1500,
          1750,
          2000,
          2250,
          2500,
          2750,
          3000,
          3250,
          3500,
          3750
         ],
         "y": [
          0.6663978397846222,
          0.35043567419052124,
          0.27126699686050415,
          0.23841708898544312,
          0.03261923789978027,
          0.03261923789978027,
          0.02746683359146118,
          0.01821345090866089,
          0.01717090606689453,
          0.01717090606689453,
          0.01717090606689453,
          0.01717090606689453,
          0.01717090606689453,
          0.01717090606689453,
          0.01717090606689453,
          0.01717090606689453
         ]
        },
        {
         "marker": {
          "maxdisplayed": 10
         },
         "mode": "lines+markers",
         "name": "Trial54",
         "type": "scatter",
         "x": [
          0,
          250,
          500,
          750,
          1000,
          1250,
          1500,
          1750,
          2000,
          2250,
          2500,
          2750,
          3000,
          3250,
          3500,
          3750
         ],
         "y": [
          0.6652257740497589,
          0.06398636102676392,
          0.03645730018615723,
          0.030809760093688965,
          0.030809760093688965,
          0.030809760093688965,
          0.028007030487060547,
          0.028007030487060547,
          0.028007030487060547,
          0.028007030487060547,
          0.028007030487060547,
          0.027834594249725342,
          0.02748626470565796,
          0.02748626470565796,
          0.02748626470565796,
          0.02748626470565796
         ]
        },
        {
         "marker": {
          "maxdisplayed": 10
         },
         "mode": "lines+markers",
         "name": "Trial55",
         "type": "scatter",
         "x": [
          0,
          250,
          500,
          750,
          1000,
          1250,
          1500,
          1750,
          2000,
          2250,
          2500,
          2750,
          3000,
          3250,
          3500,
          3750
         ],
         "y": [
          0.7063218951225281,
          0.02308058738708496,
          0.02308058738708496,
          0.02308058738708496,
          0.02308058738708496,
          0.02308058738708496,
          0.02308058738708496,
          0.02308058738708496,
          0.022175371646881104,
          0.022175371646881104,
          0.022175371646881104,
          0.021634280681610107,
          0.021634280681610107,
          0.021634280681610107,
          0.021634280681610107,
          0.021634280681610107
         ]
        },
        {
         "marker": {
          "maxdisplayed": 10
         },
         "mode": "lines+markers",
         "name": "Trial56",
         "type": "scatter",
         "x": [
          0,
          250,
          500,
          750,
          1000,
          1250,
          1500,
          1750,
          2000,
          2250,
          2500,
          2750,
          3000,
          3250,
          3500,
          3750
         ],
         "y": [
          0.6719149053096771,
          0.019054770469665527,
          0.019054770469665527,
          0.019054770469665527,
          0.019054770469665527,
          0.019054770469665527,
          0.019054770469665527,
          0.019054770469665527,
          0.018758296966552734,
          0.017608821392059326,
          0.017608821392059326,
          0.017608821392059326,
          0.017608821392059326,
          0.017608821392059326,
          0.017608821392059326,
          0.017608821392059326
         ]
        },
        {
         "marker": {
          "maxdisplayed": 10
         },
         "mode": "lines+markers",
         "name": "Trial57",
         "type": "scatter",
         "x": [
          0,
          250,
          500,
          750,
          1000,
          1250,
          1500,
          1750,
          2000,
          2250,
          2500,
          2750,
          3000,
          3250,
          3500,
          3750
         ],
         "y": [
          0.6750488579273224,
          0.027706801891326904,
          0.027706801891326904,
          0.025046885013580322,
          0.022384583950042725,
          0.022384583950042725,
          0.020573675632476807,
          0.020573675632476807,
          0.020573675632476807,
          0.020573675632476807,
          0.020573675632476807,
          0.020573675632476807,
          0.019258975982666016,
          0.019258975982666016,
          0.018077731132507324,
          0.018077731132507324
         ]
        },
        {
         "marker": {
          "maxdisplayed": 10
         },
         "mode": "lines+markers",
         "name": "Trial58",
         "type": "scatter",
         "x": [
          0,
          250,
          500,
          750,
          1000,
          1250,
          1500,
          1750,
          2000,
          2250,
          2500,
          2750,
          3000,
          3250,
          3500,
          3750
         ],
         "y": [
          0.6670599579811096,
          0.030160069465637207,
          0.030160069465637207,
          0.030160069465637207,
          0.030160069465637207,
          0.030160069465637207,
          0.021953463554382324,
          0.0196993350982666,
          0.018223226070404053,
          0.018223226070404053,
          0.018223226070404053,
          0.015880465507507324,
          0.015880465507507324,
          0.015880465507507324,
          0.015880465507507324,
          0.015880465507507324
         ]
        },
        {
         "marker": {
          "maxdisplayed": 10
         },
         "mode": "lines+markers",
         "name": "Trial59",
         "type": "scatter",
         "x": [
          0,
          250,
          500,
          750,
          1000,
          1250,
          1500,
          1750,
          2000,
          2250,
          2500,
          2750,
          3000,
          3250,
          3500,
          3750
         ],
         "y": [
          0.6614355444908142,
          0.05033683776855469,
          0.02036350965499878,
          0.02036350965499878,
          0.02036350965499878,
          0.02036350965499878,
          0.02036350965499878,
          0.02036350965499878,
          0.02036350965499878,
          0.02036350965499878,
          0.02036350965499878,
          0.02036350965499878,
          0.02036350965499878,
          0.02036350965499878,
          0.02036350965499878,
          0.02036350965499878
         ]
        },
        {
         "marker": {
          "maxdisplayed": 10
         },
         "mode": "lines+markers",
         "name": "Trial60",
         "type": "scatter",
         "x": [
          0,
          250,
          500,
          750,
          1000,
          1250,
          1500,
          1750,
          2000,
          2250,
          2500,
          2750,
          3000,
          3250,
          3500,
          3750
         ],
         "y": [
          0.6567744314670563,
          0.03084409236907959,
          0.023852527141571045,
          0.02224266529083252,
          0.018354177474975586,
          0.018354177474975586,
          0.018354177474975586,
          0.018354177474975586,
          0.018354177474975586,
          0.018354177474975586,
          0.018354177474975586,
          0.018354177474975586,
          0.018354177474975586,
          0.018354177474975586,
          0.018354177474975586,
          0.018354177474975586
         ]
        },
        {
         "marker": {
          "maxdisplayed": 10
         },
         "mode": "lines+markers",
         "name": "Trial61",
         "type": "scatter",
         "x": [
          0,
          250,
          500,
          750,
          1000,
          1250,
          1500,
          1750,
          2000,
          2250,
          2500,
          2750,
          3000,
          3250,
          3500,
          3750
         ],
         "y": [
          0.6665738523006439,
          0.025228381156921387,
          0.025228381156921387,
          0.019806265830993652,
          0.019806265830993652,
          0.019637644290924072,
          0.019637644290924072,
          0.019637644290924072,
          0.019637644290924072,
          0.018801093101501465,
          0.018801093101501465,
          0.018801093101501465,
          0.018801093101501465,
          0.018801093101501465,
          0.018104493618011475,
          0.018104493618011475
         ]
        },
        {
         "marker": {
          "maxdisplayed": 10
         },
         "mode": "lines+markers",
         "name": "Trial62",
         "type": "scatter",
         "x": [
          0,
          250,
          500,
          750,
          1000,
          1250,
          1500,
          1750,
          2000,
          2250,
          2500,
          2750,
          3000,
          3250,
          3500,
          3750
         ],
         "y": [
          0.6221232116222382,
          0.05139118432998657,
          0.04839932918548584,
          0.0463109016418457,
          0.017974853515625,
          0.017974853515625,
          0.017974853515625,
          0.017974853515625,
          0.017974853515625,
          0.017974853515625,
          0.017974853515625,
          0.017974853515625,
          0.017974853515625,
          0.017974853515625,
          0.017974853515625,
          0.017974853515625
         ]
        },
        {
         "marker": {
          "maxdisplayed": 10
         },
         "mode": "lines+markers",
         "name": "Trial63",
         "type": "scatter",
         "x": [
          0,
          250,
          500,
          750,
          1000,
          1250,
          1500,
          1750,
          2000,
          2250,
          2500,
          2750,
          3000,
          3250,
          3500,
          3750
         ],
         "y": [
          0.564683735370636,
          0.024123191833496094,
          0.024123191833496094,
          0.02302449941635132,
          0.02302449941635132,
          0.02302449941635132,
          0.02192157506942749,
          0.02192157506942749,
          0.01997429132461548,
          0.01983124017715454,
          0.01983124017715454,
          0.019441723823547363,
          0.019441723823547363,
          0.019441723823547363,
          0.019441723823547363,
          0.019441723823547363
         ]
        },
        {
         "marker": {
          "maxdisplayed": 10
         },
         "mode": "lines+markers",
         "name": "Trial64",
         "type": "scatter",
         "x": [
          0,
          250,
          500,
          750,
          1000,
          1250,
          1500,
          1750,
          2000,
          2250,
          2500,
          2750,
          3000,
          3250,
          3500,
          3750
         ],
         "y": [
          0.6602350771427155,
          0.044907212257385254,
          0.02298557758331299,
          0.02298557758331299,
          0.020291686058044434,
          0.019277215003967285,
          0.019277215003967285,
          0.019277215003967285,
          0.01891911029815674,
          0.017419874668121338,
          0.017419874668121338,
          0.017419874668121338,
          0.017419874668121338,
          0.017419874668121338,
          0.017419874668121338,
          0.017419874668121338
         ]
        },
        {
         "marker": {
          "maxdisplayed": 10
         },
         "mode": "lines+markers",
         "name": "Trial65",
         "type": "scatter",
         "x": [
          0,
          250,
          500,
          750,
          1000,
          1250,
          1500,
          1750,
          2000,
          2250,
          2500,
          2750,
          3000,
          3250,
          3500,
          3750
         ],
         "y": [
          0.6366993486881256,
          0.050599873065948486,
          0.02868133783340454,
          0.02868133783340454,
          0.02868133783340454,
          0.02708226442337036,
          0.023507654666900635,
          0.023507654666900635,
          0.023507654666900635,
          0.023507654666900635,
          0.023507654666900635,
          0.023507654666900635,
          0.023507654666900635,
          0.023507654666900635,
          0.023507654666900635,
          0.023507654666900635
         ]
        },
        {
         "marker": {
          "maxdisplayed": 10
         },
         "mode": "lines+markers",
         "name": "Trial66",
         "type": "scatter",
         "x": [
          0,
          250,
          500,
          750,
          1000,
          1250,
          1500,
          1750,
          2000,
          2250,
          2500,
          2750,
          3000,
          3250,
          3500,
          3750
         ],
         "y": [
          0.7111790478229523,
          0.02679353952407837,
          0.022551119327545166,
          0.020813345909118652,
          0.020813345909118652,
          0.02048623561859131,
          0.0199698805809021,
          0.0199698805809021,
          0.0199698805809021,
          0.019289672374725342,
          0.018221914768218994,
          0.018221914768218994,
          0.018221914768218994,
          0.018221914768218994,
          0.01762157678604126,
          0.01762157678604126
         ]
        },
        {
         "marker": {
          "maxdisplayed": 10
         },
         "mode": "lines+markers",
         "name": "Trial67",
         "type": "scatter",
         "x": [
          0,
          250,
          500,
          750,
          1000,
          1250,
          1500,
          1750,
          2000,
          2250,
          2500,
          2750,
          3000,
          3250,
          3500,
          3750
         ],
         "y": [
          0.6855691373348236,
          0.02886343002319336,
          0.021510779857635498,
          0.021510779857635498,
          0.02134305238723755,
          0.019308865070343018,
          0.019308865070343018,
          0.017256438732147217,
          0.017256438732147217,
          0.017256438732147217,
          0.017256438732147217,
          0.017256438732147217,
          0.017256438732147217,
          0.017256438732147217,
          0.017256438732147217,
          0.017135024070739746
         ]
        },
        {
         "marker": {
          "maxdisplayed": 10
         },
         "mode": "lines+markers",
         "name": "Trial68",
         "type": "scatter",
         "x": [
          0,
          250,
          500,
          750,
          1000,
          1250,
          1500,
          1750,
          2000,
          2250,
          2500,
          2750,
          3000,
          3250,
          3500,
          3750
         ],
         "y": [
          0.6709831953048706,
          0.03898555040359497,
          0.03173267841339111,
          0.03173267841339111,
          0.03173267841339111,
          0.022001147270202637,
          0.01846182346343994,
          0.01846182346343994,
          0.01846182346343994,
          0.017235994338989258,
          0.017235994338989258,
          0.017235994338989258,
          0.016651511192321777,
          0.016651511192321777,
          0.016651511192321777,
          0.016651511192321777
         ]
        },
        {
         "marker": {
          "maxdisplayed": 10
         },
         "mode": "lines+markers",
         "name": "Trial69",
         "type": "scatter",
         "x": [
          0,
          250,
          500,
          750,
          1000,
          1250,
          1500,
          1750,
          2000,
          2250,
          2500,
          2750,
          3000,
          3250,
          3500,
          3750
         ],
         "y": [
          0.6669108271598816,
          0.15671861171722412,
          0.1122211217880249,
          0.056686341762542725,
          0.056686341762542725,
          0.03132683038711548,
          0.021325230598449707,
          0.021325230598449707,
          0.021325230598449707,
          0.021325230598449707,
          0.021325230598449707,
          0.0190085768699646,
          0.0190085768699646,
          0.0190085768699646,
          0.0190085768699646,
          0.0190085768699646
         ]
        },
        {
         "marker": {
          "maxdisplayed": 10
         },
         "mode": "lines+markers",
         "name": "Trial70",
         "type": "scatter",
         "x": [
          0,
          250,
          500,
          750,
          1000,
          1250,
          1500,
          1750,
          2000,
          2250,
          2500,
          2750,
          3000,
          3250,
          3500,
          3750
         ],
         "y": [
          0.6669212877750397,
          0.02284759283065796,
          0.01940178871154785,
          0.0177304744720459,
          0.0177304744720459,
          0.0177304744720459,
          0.0177304744720459,
          0.0177304744720459,
          0.0177304744720459,
          0.0177304744720459,
          0.0177304744720459,
          0.0177304744720459,
          0.0177304744720459,
          0.0177304744720459,
          0.0177304744720459,
          0.0177304744720459
         ]
        },
        {
         "marker": {
          "maxdisplayed": 10
         },
         "mode": "lines+markers",
         "name": "Trial71",
         "type": "scatter",
         "x": [
          0,
          250,
          500,
          750,
          1000,
          1250,
          1500,
          1750,
          2000,
          2250,
          2500,
          2750,
          3000,
          3250,
          3500,
          3750
         ],
         "y": [
          0.6715133488178253,
          0.2047024965286255,
          0.02223724126815796,
          0.019793450832366943,
          0.018267810344696045,
          0.018267810344696045,
          0.018267810344696045,
          0.018267810344696045,
          0.017490148544311523,
          0.017490148544311523,
          0.017490148544311523,
          0.017490148544311523,
          0.017394602298736572,
          0.017394602298736572,
          0.01685410737991333,
          0.01685410737991333
         ]
        },
        {
         "marker": {
          "maxdisplayed": 10
         },
         "mode": "lines+markers",
         "name": "Trial72",
         "type": "scatter",
         "x": [
          0,
          250,
          500,
          750,
          1000,
          1250,
          1500,
          1750,
          2000,
          2250,
          2500,
          2750,
          3000,
          3250,
          3500,
          3750
         ],
         "y": [
          0.6610030233860016,
          0.04080396890640259,
          0.04080396890640259,
          0.018171489238739014,
          0.018171489238739014,
          0.018171489238739014,
          0.018171489238739014,
          0.018171489238739014,
          0.018171489238739014,
          0.018171489238739014,
          0.018171489238739014,
          0.018171489238739014,
          0.018171489238739014,
          0.018171489238739014,
          0.01812654733657837,
          0.01812654733657837
         ]
        },
        {
         "marker": {
          "maxdisplayed": 10
         },
         "mode": "lines+markers",
         "name": "Trial73",
         "type": "scatter",
         "x": [
          0,
          250,
          500,
          750,
          1000,
          1250,
          1500,
          1750,
          2000,
          2250,
          2500,
          2750,
          3000,
          3250,
          3500,
          3750
         ],
         "y": [
          0.666934609413147,
          0.05469632148742676,
          0.025282084941864014,
          0.02256917953491211,
          0.020512402057647705,
          0.020476102828979492,
          0.020178556442260742,
          0.018924593925476074,
          0.018924593925476074,
          0.018924593925476074,
          0.018924593925476074,
          0.018924593925476074,
          0.018924593925476074,
          0.018924593925476074,
          0.018880844116210938,
          0.018880844116210938
         ]
        },
        {
         "marker": {
          "maxdisplayed": 10
         },
         "mode": "lines+markers",
         "name": "Trial74",
         "type": "scatter",
         "x": [
          0,
          250,
          500,
          750,
          1000,
          1250,
          1500,
          1750,
          2000,
          2250,
          2500,
          2750,
          3000,
          3250,
          3500,
          3750
         ],
         "y": [
          0.66691455245018,
          0.035081326961517334,
          0.02072584629058838,
          0.02072584629058838,
          0.02072584629058838,
          0.02072584629058838,
          0.02072584629058838,
          0.01824551820755005,
          0.01824551820755005,
          0.01824551820755005,
          0.01824551820755005,
          0.01824551820755005,
          0.01824551820755005,
          0.01824551820755005,
          0.01824551820755005,
          0.01824551820755005
         ]
        },
        {
         "marker": {
          "maxdisplayed": 10
         },
         "mode": "lines+markers",
         "name": "Trial75",
         "type": "scatter",
         "x": [
          0,
          250,
          500,
          750,
          1000,
          1250,
          1500,
          1750,
          2000,
          2250,
          2500,
          2750,
          3000,
          3250,
          3500,
          3750
         ],
         "y": [
          0.6669009327888489,
          0.14933013916015625,
          0.027176856994628906,
          0.022811532020568848,
          0.021486103534698486,
          0.019446134567260742,
          0.01889777183532715,
          0.01889777183532715,
          0.01889777183532715,
          0.01889777183532715,
          0.01889777183532715,
          0.01889777183532715,
          0.01889777183532715,
          0.01781708002090454,
          0.01781708002090454,
          0.01781708002090454
         ]
        },
        {
         "marker": {
          "maxdisplayed": 10
         },
         "mode": "lines+markers",
         "name": "Trial76",
         "type": "scatter",
         "x": [
          0,
          250,
          500,
          750,
          1000,
          1250,
          1500,
          1750,
          2000,
          2250,
          2500,
          2750,
          3000,
          3250,
          3500,
          3750
         ],
         "y": [
          0.6668072640895844,
          0.04333144426345825,
          0.02331167459487915,
          0.02331167459487915,
          0.02331167459487915,
          0.02331167459487915,
          0.02154785394668579,
          0.019282102584838867,
          0.019282102584838867,
          0.01781177520751953,
          0.01781177520751953,
          0.01781177520751953,
          0.017789721488952637,
          0.017528235912322998,
          0.017528235912322998,
          0.017528235912322998
         ]
        },
        {
         "marker": {
          "maxdisplayed": 10
         },
         "mode": "lines+markers",
         "name": "Trial77",
         "type": "scatter",
         "x": [
          0,
          250,
          500,
          750,
          1000,
          1250,
          1500,
          1750,
          2000,
          2250,
          2500,
          2750,
          3000,
          3250,
          3500,
          3750
         ],
         "y": [
          0.665363609790802,
          0.03905200958251953,
          0.03697097301483154,
          0.01963675022125244,
          0.01963675022125244,
          0.01963675022125244,
          0.01963675022125244,
          0.01963675022125244,
          0.018286168575286865,
          0.018286168575286865,
          0.018286168575286865,
          0.018286168575286865,
          0.018105387687683105,
          0.018105387687683105,
          0.018105387687683105,
          0.017611324787139893
         ]
        },
        {
         "marker": {
          "maxdisplayed": 10
         },
         "mode": "lines+markers",
         "name": "Trial78",
         "type": "scatter",
         "x": [
          0,
          250,
          500,
          750,
          1000,
          1250,
          1500,
          1750,
          2000,
          2250,
          2500,
          2750,
          3000,
          3250,
          3500,
          3750
         ],
         "y": [
          0.6671206057071686,
          0.0383070707321167,
          0.03203767538070679,
          0.02164512872695923,
          0.02164512872695923,
          0.01815575361251831,
          0.01815575361251831,
          0.016189396381378174,
          0.016189396381378174,
          0.016189396381378174,
          0.016189396381378174,
          0.01567012071609497,
          0.015432298183441162,
          0.015432298183441162,
          0.015432298183441162,
          0.015432298183441162
         ]
        },
        {
         "marker": {
          "maxdisplayed": 10
         },
         "mode": "lines+markers",
         "name": "Trial79",
         "type": "scatter",
         "x": [
          0,
          250,
          500,
          750,
          1000,
          1250,
          1500,
          1750,
          2000,
          2250,
          2500,
          2750,
          3000,
          3250,
          3500,
          3750
         ],
         "y": [
          0.666889488697052,
          0.17650139331817627,
          0.04929232597351074,
          0.024599850177764893,
          0.024599850177764893,
          0.024599850177764893,
          0.024599850177764893,
          0.024599850177764893,
          0.020275473594665527,
          0.020275473594665527,
          0.020275473594665527,
          0.017099857330322266,
          0.017099857330322266,
          0.016986429691314697,
          0.016986429691314697,
          0.016986429691314697
         ]
        },
        {
         "marker": {
          "maxdisplayed": 10
         },
         "mode": "lines+markers",
         "name": "Trial80",
         "type": "scatter",
         "x": [
          0,
          250,
          500,
          750,
          1000,
          1250,
          1500,
          1750,
          2000,
          2250,
          2500,
          2750,
          3000,
          3250,
          3500,
          3750
         ],
         "y": [
          0.6668937802314758,
          0.15261393785476685,
          0.06818538904190063,
          0.0485004186630249,
          0.04430949687957764,
          0.03410452604293823,
          0.030231058597564697,
          0.024404048919677734,
          0.024404048919677734,
          0.02160036563873291,
          0.02160036563873291,
          0.021565914154052734,
          0.021565914154052734,
          0.021565914154052734,
          0.0187796950340271,
          0.018716812133789062
         ]
        },
        {
         "marker": {
          "maxdisplayed": 10
         },
         "mode": "lines+markers",
         "name": "Trial81",
         "type": "scatter",
         "x": [
          0,
          250,
          500,
          750,
          1000,
          1250,
          1500,
          1750,
          2000,
          2250,
          2500,
          2750,
          3000,
          3250,
          3500,
          3750
         ],
         "y": [
          0.6594963073730469,
          0.05450177192687988,
          0.05450177192687988,
          0.024446606636047363,
          0.01906120777130127,
          0.01906120777130127,
          0.01906120777130127,
          0.01906120777130127,
          0.01906120777130127,
          0.01906120777130127,
          0.01906120777130127,
          0.01906120777130127,
          0.01906120777130127,
          0.01906120777130127,
          0.018149077892303467,
          0.018149077892303467
         ]
        },
        {
         "marker": {
          "maxdisplayed": 10
         },
         "mode": "lines+markers",
         "name": "Trial82",
         "type": "scatter",
         "x": [
          0,
          250,
          500,
          750,
          1000,
          1250,
          1500,
          1750,
          2000,
          2250,
          2500,
          2750,
          3000,
          3250,
          3500,
          3750
         ],
         "y": [
          0.6636059284210205,
          0.20232510566711426,
          0.03423696756362915,
          0.025400221347808838,
          0.025400221347808838,
          0.018751859664916992,
          0.018751859664916992,
          0.018751859664916992,
          0.018751859664916992,
          0.018751859664916992,
          0.018751859664916992,
          0.018751859664916992,
          0.018751859664916992,
          0.018751859664916992,
          0.018751859664916992,
          0.018729686737060547
         ]
        },
        {
         "marker": {
          "maxdisplayed": 10
         },
         "mode": "lines+markers",
         "name": "Trial83",
         "type": "scatter",
         "x": [
          0,
          250,
          500,
          750,
          1000,
          1250,
          1500,
          1750,
          2000,
          2250,
          2500,
          2750,
          3000,
          3250,
          3500,
          3750
         ],
         "y": [
          0.6669033765792847,
          0.18129205703735352,
          0.037982404232025146,
          0.028237581253051758,
          0.028237581253051758,
          0.021951019763946533,
          0.0203324556350708,
          0.0203324556350708,
          0.0203324556350708,
          0.0203324556350708,
          0.01950746774673462,
          0.019397974014282227,
          0.01755291223526001,
          0.01755291223526001,
          0.01755291223526001,
          0.01755291223526001
         ]
        },
        {
         "marker": {
          "maxdisplayed": 10
         },
         "mode": "lines+markers",
         "name": "Trial84",
         "type": "scatter",
         "x": [
          0,
          250,
          500,
          750,
          1000,
          1250,
          1500,
          1750,
          2000,
          2250,
          2500,
          2750,
          3000,
          3250,
          3500,
          3750
         ],
         "y": [
          0.6668599247932434,
          0.03792482614517212,
          0.03792482614517212,
          0.028803467750549316,
          0.02144068479537964,
          0.02144068479537964,
          0.02144068479537964,
          0.01724708080291748,
          0.01630610227584839,
          0.01630610227584839,
          0.016190528869628906,
          0.016190528869628906,
          0.016190528869628906,
          0.016190528869628906,
          0.016190528869628906,
          0.016190528869628906
         ]
        },
        {
         "marker": {
          "maxdisplayed": 10
         },
         "mode": "lines+markers",
         "name": "Trial85",
         "type": "scatter",
         "x": [
          0,
          250,
          500,
          750,
          1000,
          1250,
          1500,
          1750,
          2000,
          2250,
          2500,
          2750,
          3000,
          3250,
          3500,
          3750
         ],
         "y": [
          0.6668998301029205,
          0.0944286584854126,
          0.03803616762161255,
          0.028994619846343994,
          0.023123562335968018,
          0.023123562335968018,
          0.023123562335968018,
          0.023123562335968018,
          0.019175708293914795,
          0.019175708293914795,
          0.019175708293914795,
          0.019175708293914795,
          0.019175708293914795,
          0.019175708293914795,
          0.019175708293914795,
          0.019175708293914795
         ]
        },
        {
         "marker": {
          "maxdisplayed": 10
         },
         "mode": "lines+markers",
         "name": "Trial86",
         "type": "scatter",
         "x": [
          0,
          250,
          500,
          750,
          1000,
          1250,
          1500,
          1750,
          2000,
          2250,
          2500,
          2750,
          3000,
          3250,
          3500,
          3750
         ],
         "y": [
          0.6669251620769501,
          0.10021597146987915,
          0.10021597146987915,
          0.02213507890701294,
          0.02078557014465332,
          0.017967522144317627,
          0.017967522144317627,
          0.017967522144317627,
          0.017967522144317627,
          0.017967522144317627,
          0.017152249813079834,
          0.017152249813079834,
          0.017152249813079834,
          0.017152249813079834,
          0.017005324363708496,
          0.017005324363708496
         ]
        },
        {
         "marker": {
          "maxdisplayed": 10
         },
         "mode": "lines+markers",
         "name": "Trial87",
         "type": "scatter",
         "x": [
          0,
          250,
          500,
          750,
          1000,
          1250,
          1500,
          1750,
          2000,
          2250,
          2500,
          2750,
          3000,
          3250,
          3500,
          3750
         ],
         "y": [
          0.6495692729949951,
          0.4512638449668884,
          0.27756959199905396,
          0.21989375352859497,
          0.08351260423660278,
          0.08351260423660278,
          0.06820672750473022,
          0.05647480487823486,
          0.025368809700012207,
          0.025368809700012207,
          0.024609386920928955,
          0.02228492498397827,
          0.02228492498397827,
          0.02228492498397827,
          0.02228492498397827,
          0.021039962768554688
         ]
        },
        {
         "marker": {
          "maxdisplayed": 10
         },
         "mode": "lines+markers",
         "name": "Trial88",
         "type": "scatter",
         "x": [
          0,
          250,
          500,
          750,
          1000,
          1250,
          1500,
          1750,
          2000,
          2250,
          2500,
          2750,
          3000,
          3250,
          3500,
          3750
         ],
         "y": [
          0.6673724353313446,
          0.10777217149734497,
          0.04332566261291504,
          0.024597227573394775,
          0.024597227573394775,
          0.024597227573394775,
          0.024347782135009766,
          0.024347782135009766,
          0.024347782135009766,
          0.024347782135009766,
          0.024347782135009766,
          0.023443877696990967,
          0.023443877696990967,
          0.023443877696990967,
          0.023443877696990967,
          0.02290964126586914
         ]
        },
        {
         "marker": {
          "maxdisplayed": 10
         },
         "mode": "lines+markers",
         "name": "Trial89",
         "type": "scatter",
         "x": [
          0,
          250,
          500,
          750,
          1000,
          1250,
          1500,
          1750,
          2000,
          2250,
          2500,
          2750,
          3000,
          3250,
          3500,
          3750
         ],
         "y": [
          0.6668993234634399,
          0.11006855964660645,
          0.07698160409927368,
          0.027938425540924072,
          0.019716739654541016,
          0.019716739654541016,
          0.019716739654541016,
          0.019716739654541016,
          0.017472267150878906,
          0.017472267150878906,
          0.017472267150878906,
          0.017472267150878906,
          0.017472267150878906,
          0.017471015453338623,
          0.017471015453338623,
          0.017471015453338623
         ]
        },
        {
         "marker": {
          "maxdisplayed": 10
         },
         "mode": "lines+markers",
         "name": "Trial90",
         "type": "scatter",
         "x": [
          0,
          250,
          500,
          750,
          1000,
          1250,
          1500,
          1750,
          2000,
          2250,
          2500,
          2750,
          3000,
          3250,
          3500,
          3750
         ],
         "y": [
          0.6669093370437622,
          0.14568489789962769,
          0.0875324010848999,
          0.03386557102203369,
          0.033486008644104004,
          0.022803664207458496,
          0.022803664207458496,
          0.022803664207458496,
          0.01844841241836548,
          0.01844841241836548,
          0.01844841241836548,
          0.01844841241836548,
          0.017824828624725342,
          0.017824828624725342,
          0.017824828624725342,
          0.017824828624725342
         ]
        },
        {
         "marker": {
          "maxdisplayed": 10
         },
         "mode": "lines+markers",
         "name": "Trial91",
         "type": "scatter",
         "x": [
          0,
          250,
          500,
          750,
          1000,
          1250,
          1500,
          1750,
          2000,
          2250,
          2500,
          2750,
          3000,
          3250,
          3500,
          3750
         ],
         "y": [
          0.6641041338443756,
          0.03229469060897827,
          0.02613312005996704,
          0.02613312005996704,
          0.02056300640106201,
          0.02056300640106201,
          0.02056300640106201,
          0.02056300640106201,
          0.018854498863220215,
          0.018854498863220215,
          0.018854498863220215,
          0.018854498863220215,
          0.018854498863220215,
          0.018854498863220215,
          0.018854498863220215,
          0.018854498863220215
         ]
        },
        {
         "marker": {
          "maxdisplayed": 10
         },
         "mode": "lines+markers",
         "name": "Trial92",
         "type": "scatter",
         "x": [
          0,
          250,
          500,
          750,
          1000,
          1250,
          1500,
          1750,
          2000,
          2250,
          2500,
          2750,
          3000,
          3250,
          3500,
          3750
         ],
         "y": [
          0.666992574930191,
          0.17606627941131592,
          0.027473747730255127,
          0.027473747730255127,
          0.02287524938583374,
          0.02287524938583374,
          0.02287524938583374,
          0.0193365216255188,
          0.0193365216255188,
          0.0193365216255188,
          0.0193365216255188,
          0.019290566444396973,
          0.019290566444396973,
          0.019290566444396973,
          0.019290566444396973,
          0.019290566444396973
         ]
        },
        {
         "marker": {
          "maxdisplayed": 10
         },
         "mode": "lines+markers",
         "name": "Trial93",
         "type": "scatter",
         "x": [
          0,
          250,
          500,
          750,
          1000,
          1250,
          1500,
          1750,
          2000,
          2250,
          2500,
          2750,
          3000,
          3250,
          3500,
          3750
         ],
         "y": [
          0.6629601120948792,
          0.03686028718948364,
          0.024080395698547363,
          0.022228717803955078,
          0.022228717803955078,
          0.022228717803955078,
          0.020767033100128174,
          0.016435563564300537,
          0.016435563564300537,
          0.016435563564300537,
          0.016435563564300537,
          0.016435563564300537,
          0.016435563564300537,
          0.016435563564300537,
          0.016435563564300537,
          0.016435563564300537
         ]
        },
        {
         "marker": {
          "maxdisplayed": 10
         },
         "mode": "lines+markers",
         "name": "Trial94",
         "type": "scatter",
         "x": [
          0,
          250,
          500,
          750,
          1000,
          1250,
          1500,
          1750,
          2000,
          2250,
          2500,
          2750,
          3000,
          3250,
          3500,
          3750
         ],
         "y": [
          0.625562459230423,
          0.05616152286529541,
          0.03526514768600464,
          0.017564117908477783,
          0.017564117908477783,
          0.01710587739944458,
          0.01710587739944458,
          0.01710587739944458,
          0.01710587739944458,
          0.01710587739944458,
          0.01710587739944458,
          0.01710587739944458,
          0.01710587739944458,
          0.01710587739944458,
          0.01710587739944458,
          0.01710587739944458
         ]
        },
        {
         "marker": {
          "maxdisplayed": 10
         },
         "mode": "lines+markers",
         "name": "Trial95",
         "type": "scatter",
         "x": [
          0,
          250,
          500,
          750,
          1000,
          1250,
          1500,
          1750,
          2000,
          2250,
          2500,
          2750,
          3000,
          3250,
          3500,
          3750
         ],
         "y": [
          0.667553573846817,
          0.06757593154907227,
          0.03813338279724121,
          0.03813338279724121,
          0.025317251682281494,
          0.025317251682281494,
          0.022984981536865234,
          0.022984981536865234,
          0.02110004425048828,
          0.02110004425048828,
          0.019168078899383545,
          0.019168078899383545,
          0.018757998943328857,
          0.018757998943328857,
          0.018757998943328857,
          0.018757998943328857
         ]
        },
        {
         "marker": {
          "maxdisplayed": 10
         },
         "mode": "lines+markers",
         "name": "Trial96",
         "type": "scatter",
         "x": [
          0,
          250,
          500,
          750,
          1000,
          1250,
          1500,
          1750,
          2000,
          2250,
          2500,
          2750,
          3000,
          3250,
          3500,
          3750
         ],
         "y": [
          0.6669122874736786,
          0.03307831287384033,
          0.02320796251296997,
          0.02320796251296997,
          0.02320796251296997,
          0.019427359104156494,
          0.018492460250854492,
          0.018492460250854492,
          0.018492460250854492,
          0.018492460250854492,
          0.018492460250854492,
          0.018492460250854492,
          0.018492460250854492,
          0.01766836643218994,
          0.01766836643218994,
          0.01766836643218994
         ]
        },
        {
         "marker": {
          "maxdisplayed": 10
         },
         "mode": "lines+markers",
         "name": "Trial97",
         "type": "scatter",
         "x": [
          0,
          250,
          500,
          750,
          1000,
          1250,
          1500,
          1750,
          2000,
          2250,
          2500,
          2750,
          3000,
          3250,
          3500,
          3750
         ],
         "y": [
          0.6668749451637268,
          0.38280725479125977,
          0.02696835994720459,
          0.02696835994720459,
          0.019107937812805176,
          0.017138302326202393,
          0.017138302326202393,
          0.017138302326202393,
          0.017138302326202393,
          0.017138302326202393,
          0.016545653343200684,
          0.016545653343200684,
          0.016545653343200684,
          0.016545653343200684,
          0.016545653343200684,
          0.016545653343200684
         ]
        },
        {
         "marker": {
          "maxdisplayed": 10
         },
         "mode": "lines+markers",
         "name": "Trial98",
         "type": "scatter",
         "x": [
          0,
          250,
          500,
          750,
          1000,
          1250,
          1500,
          1750,
          2000,
          2250,
          2500,
          2750,
          3000,
          3250,
          3500,
          3750
         ],
         "y": [
          0.6713098883628845,
          0.6649885475635529,
          0.6611263751983643,
          0.6416496634483337,
          0.5565651059150696,
          0.2236332893371582,
          0.04771679639816284,
          0.028310775756835938,
          0.02433568239212036,
          0.02311474084854126,
          0.022514760494232178,
          0.022514760494232178,
          0.022514760494232178,
          0.022514760494232178,
          0.022514760494232178,
          0.022514760494232178
         ]
        },
        {
         "marker": {
          "maxdisplayed": 10
         },
         "mode": "lines+markers",
         "name": "Trial99",
         "type": "scatter",
         "x": [
          0,
          250,
          500,
          750,
          1000,
          1250,
          1500,
          1750,
          2000,
          2250,
          2500,
          2750,
          3000,
          3250,
          3500,
          3750
         ],
         "y": [
          0.6671253144741058,
          0.037007033824920654,
          0.037007033824920654,
          0.02331984043121338,
          0.020097732543945312,
          0.020097732543945312,
          0.020097732543945312,
          0.020097732543945312,
          0.020097732543945312,
          0.020097732543945312,
          0.020097732543945312,
          0.019033968448638916,
          0.01866316795349121,
          0.01866316795349121,
          0.01866316795349121,
          0.01866316795349121
         ]
        }
       ],
       "layout": {
        "showlegend": false,
        "template": {
         "data": {
          "bar": [
           {
            "error_x": {
             "color": "#2a3f5f"
            },
            "error_y": {
             "color": "#2a3f5f"
            },
            "marker": {
             "line": {
              "color": "#E5ECF6",
              "width": 0.5
             },
             "pattern": {
              "fillmode": "overlay",
              "size": 10,
              "solidity": 0.2
             }
            },
            "type": "bar"
           }
          ],
          "barpolar": [
           {
            "marker": {
             "line": {
              "color": "#E5ECF6",
              "width": 0.5
             },
             "pattern": {
              "fillmode": "overlay",
              "size": 10,
              "solidity": 0.2
             }
            },
            "type": "barpolar"
           }
          ],
          "carpet": [
           {
            "aaxis": {
             "endlinecolor": "#2a3f5f",
             "gridcolor": "white",
             "linecolor": "white",
             "minorgridcolor": "white",
             "startlinecolor": "#2a3f5f"
            },
            "baxis": {
             "endlinecolor": "#2a3f5f",
             "gridcolor": "white",
             "linecolor": "white",
             "minorgridcolor": "white",
             "startlinecolor": "#2a3f5f"
            },
            "type": "carpet"
           }
          ],
          "choropleth": [
           {
            "colorbar": {
             "outlinewidth": 0,
             "ticks": ""
            },
            "type": "choropleth"
           }
          ],
          "contour": [
           {
            "colorbar": {
             "outlinewidth": 0,
             "ticks": ""
            },
            "colorscale": [
             [
              0,
              "#0d0887"
             ],
             [
              0.1111111111111111,
              "#46039f"
             ],
             [
              0.2222222222222222,
              "#7201a8"
             ],
             [
              0.3333333333333333,
              "#9c179e"
             ],
             [
              0.4444444444444444,
              "#bd3786"
             ],
             [
              0.5555555555555556,
              "#d8576b"
             ],
             [
              0.6666666666666666,
              "#ed7953"
             ],
             [
              0.7777777777777778,
              "#fb9f3a"
             ],
             [
              0.8888888888888888,
              "#fdca26"
             ],
             [
              1,
              "#f0f921"
             ]
            ],
            "type": "contour"
           }
          ],
          "contourcarpet": [
           {
            "colorbar": {
             "outlinewidth": 0,
             "ticks": ""
            },
            "type": "contourcarpet"
           }
          ],
          "heatmap": [
           {
            "colorbar": {
             "outlinewidth": 0,
             "ticks": ""
            },
            "colorscale": [
             [
              0,
              "#0d0887"
             ],
             [
              0.1111111111111111,
              "#46039f"
             ],
             [
              0.2222222222222222,
              "#7201a8"
             ],
             [
              0.3333333333333333,
              "#9c179e"
             ],
             [
              0.4444444444444444,
              "#bd3786"
             ],
             [
              0.5555555555555556,
              "#d8576b"
             ],
             [
              0.6666666666666666,
              "#ed7953"
             ],
             [
              0.7777777777777778,
              "#fb9f3a"
             ],
             [
              0.8888888888888888,
              "#fdca26"
             ],
             [
              1,
              "#f0f921"
             ]
            ],
            "type": "heatmap"
           }
          ],
          "heatmapgl": [
           {
            "colorbar": {
             "outlinewidth": 0,
             "ticks": ""
            },
            "colorscale": [
             [
              0,
              "#0d0887"
             ],
             [
              0.1111111111111111,
              "#46039f"
             ],
             [
              0.2222222222222222,
              "#7201a8"
             ],
             [
              0.3333333333333333,
              "#9c179e"
             ],
             [
              0.4444444444444444,
              "#bd3786"
             ],
             [
              0.5555555555555556,
              "#d8576b"
             ],
             [
              0.6666666666666666,
              "#ed7953"
             ],
             [
              0.7777777777777778,
              "#fb9f3a"
             ],
             [
              0.8888888888888888,
              "#fdca26"
             ],
             [
              1,
              "#f0f921"
             ]
            ],
            "type": "heatmapgl"
           }
          ],
          "histogram": [
           {
            "marker": {
             "pattern": {
              "fillmode": "overlay",
              "size": 10,
              "solidity": 0.2
             }
            },
            "type": "histogram"
           }
          ],
          "histogram2d": [
           {
            "colorbar": {
             "outlinewidth": 0,
             "ticks": ""
            },
            "colorscale": [
             [
              0,
              "#0d0887"
             ],
             [
              0.1111111111111111,
              "#46039f"
             ],
             [
              0.2222222222222222,
              "#7201a8"
             ],
             [
              0.3333333333333333,
              "#9c179e"
             ],
             [
              0.4444444444444444,
              "#bd3786"
             ],
             [
              0.5555555555555556,
              "#d8576b"
             ],
             [
              0.6666666666666666,
              "#ed7953"
             ],
             [
              0.7777777777777778,
              "#fb9f3a"
             ],
             [
              0.8888888888888888,
              "#fdca26"
             ],
             [
              1,
              "#f0f921"
             ]
            ],
            "type": "histogram2d"
           }
          ],
          "histogram2dcontour": [
           {
            "colorbar": {
             "outlinewidth": 0,
             "ticks": ""
            },
            "colorscale": [
             [
              0,
              "#0d0887"
             ],
             [
              0.1111111111111111,
              "#46039f"
             ],
             [
              0.2222222222222222,
              "#7201a8"
             ],
             [
              0.3333333333333333,
              "#9c179e"
             ],
             [
              0.4444444444444444,
              "#bd3786"
             ],
             [
              0.5555555555555556,
              "#d8576b"
             ],
             [
              0.6666666666666666,
              "#ed7953"
             ],
             [
              0.7777777777777778,
              "#fb9f3a"
             ],
             [
              0.8888888888888888,
              "#fdca26"
             ],
             [
              1,
              "#f0f921"
             ]
            ],
            "type": "histogram2dcontour"
           }
          ],
          "mesh3d": [
           {
            "colorbar": {
             "outlinewidth": 0,
             "ticks": ""
            },
            "type": "mesh3d"
           }
          ],
          "parcoords": [
           {
            "line": {
             "colorbar": {
              "outlinewidth": 0,
              "ticks": ""
             }
            },
            "type": "parcoords"
           }
          ],
          "pie": [
           {
            "automargin": true,
            "type": "pie"
           }
          ],
          "scatter": [
           {
            "fillpattern": {
             "fillmode": "overlay",
             "size": 10,
             "solidity": 0.2
            },
            "type": "scatter"
           }
          ],
          "scatter3d": [
           {
            "line": {
             "colorbar": {
              "outlinewidth": 0,
              "ticks": ""
             }
            },
            "marker": {
             "colorbar": {
              "outlinewidth": 0,
              "ticks": ""
             }
            },
            "type": "scatter3d"
           }
          ],
          "scattercarpet": [
           {
            "marker": {
             "colorbar": {
              "outlinewidth": 0,
              "ticks": ""
             }
            },
            "type": "scattercarpet"
           }
          ],
          "scattergeo": [
           {
            "marker": {
             "colorbar": {
              "outlinewidth": 0,
              "ticks": ""
             }
            },
            "type": "scattergeo"
           }
          ],
          "scattergl": [
           {
            "marker": {
             "colorbar": {
              "outlinewidth": 0,
              "ticks": ""
             }
            },
            "type": "scattergl"
           }
          ],
          "scattermapbox": [
           {
            "marker": {
             "colorbar": {
              "outlinewidth": 0,
              "ticks": ""
             }
            },
            "type": "scattermapbox"
           }
          ],
          "scatterpolar": [
           {
            "marker": {
             "colorbar": {
              "outlinewidth": 0,
              "ticks": ""
             }
            },
            "type": "scatterpolar"
           }
          ],
          "scatterpolargl": [
           {
            "marker": {
             "colorbar": {
              "outlinewidth": 0,
              "ticks": ""
             }
            },
            "type": "scatterpolargl"
           }
          ],
          "scatterternary": [
           {
            "marker": {
             "colorbar": {
              "outlinewidth": 0,
              "ticks": ""
             }
            },
            "type": "scatterternary"
           }
          ],
          "surface": [
           {
            "colorbar": {
             "outlinewidth": 0,
             "ticks": ""
            },
            "colorscale": [
             [
              0,
              "#0d0887"
             ],
             [
              0.1111111111111111,
              "#46039f"
             ],
             [
              0.2222222222222222,
              "#7201a8"
             ],
             [
              0.3333333333333333,
              "#9c179e"
             ],
             [
              0.4444444444444444,
              "#bd3786"
             ],
             [
              0.5555555555555556,
              "#d8576b"
             ],
             [
              0.6666666666666666,
              "#ed7953"
             ],
             [
              0.7777777777777778,
              "#fb9f3a"
             ],
             [
              0.8888888888888888,
              "#fdca26"
             ],
             [
              1,
              "#f0f921"
             ]
            ],
            "type": "surface"
           }
          ],
          "table": [
           {
            "cells": {
             "fill": {
              "color": "#EBF0F8"
             },
             "line": {
              "color": "white"
             }
            },
            "header": {
             "fill": {
              "color": "#C8D4E3"
             },
             "line": {
              "color": "white"
             }
            },
            "type": "table"
           }
          ]
         },
         "layout": {
          "annotationdefaults": {
           "arrowcolor": "#2a3f5f",
           "arrowhead": 0,
           "arrowwidth": 1
          },
          "autotypenumbers": "strict",
          "coloraxis": {
           "colorbar": {
            "outlinewidth": 0,
            "ticks": ""
           }
          },
          "colorscale": {
           "diverging": [
            [
             0,
             "#8e0152"
            ],
            [
             0.1,
             "#c51b7d"
            ],
            [
             0.2,
             "#de77ae"
            ],
            [
             0.3,
             "#f1b6da"
            ],
            [
             0.4,
             "#fde0ef"
            ],
            [
             0.5,
             "#f7f7f7"
            ],
            [
             0.6,
             "#e6f5d0"
            ],
            [
             0.7,
             "#b8e186"
            ],
            [
             0.8,
             "#7fbc41"
            ],
            [
             0.9,
             "#4d9221"
            ],
            [
             1,
             "#276419"
            ]
           ],
           "sequential": [
            [
             0,
             "#0d0887"
            ],
            [
             0.1111111111111111,
             "#46039f"
            ],
            [
             0.2222222222222222,
             "#7201a8"
            ],
            [
             0.3333333333333333,
             "#9c179e"
            ],
            [
             0.4444444444444444,
             "#bd3786"
            ],
            [
             0.5555555555555556,
             "#d8576b"
            ],
            [
             0.6666666666666666,
             "#ed7953"
            ],
            [
             0.7777777777777778,
             "#fb9f3a"
            ],
            [
             0.8888888888888888,
             "#fdca26"
            ],
            [
             1,
             "#f0f921"
            ]
           ],
           "sequentialminus": [
            [
             0,
             "#0d0887"
            ],
            [
             0.1111111111111111,
             "#46039f"
            ],
            [
             0.2222222222222222,
             "#7201a8"
            ],
            [
             0.3333333333333333,
             "#9c179e"
            ],
            [
             0.4444444444444444,
             "#bd3786"
            ],
            [
             0.5555555555555556,
             "#d8576b"
            ],
            [
             0.6666666666666666,
             "#ed7953"
            ],
            [
             0.7777777777777778,
             "#fb9f3a"
            ],
            [
             0.8888888888888888,
             "#fdca26"
            ],
            [
             1,
             "#f0f921"
            ]
           ]
          },
          "colorway": [
           "#636efa",
           "#EF553B",
           "#00cc96",
           "#ab63fa",
           "#FFA15A",
           "#19d3f3",
           "#FF6692",
           "#B6E880",
           "#FF97FF",
           "#FECB52"
          ],
          "font": {
           "color": "#2a3f5f"
          },
          "geo": {
           "bgcolor": "white",
           "lakecolor": "white",
           "landcolor": "#E5ECF6",
           "showlakes": true,
           "showland": true,
           "subunitcolor": "white"
          },
          "hoverlabel": {
           "align": "left"
          },
          "hovermode": "closest",
          "mapbox": {
           "style": "light"
          },
          "paper_bgcolor": "white",
          "plot_bgcolor": "#E5ECF6",
          "polar": {
           "angularaxis": {
            "gridcolor": "white",
            "linecolor": "white",
            "ticks": ""
           },
           "bgcolor": "#E5ECF6",
           "radialaxis": {
            "gridcolor": "white",
            "linecolor": "white",
            "ticks": ""
           }
          },
          "scene": {
           "xaxis": {
            "backgroundcolor": "#E5ECF6",
            "gridcolor": "white",
            "gridwidth": 2,
            "linecolor": "white",
            "showbackground": true,
            "ticks": "",
            "zerolinecolor": "white"
           },
           "yaxis": {
            "backgroundcolor": "#E5ECF6",
            "gridcolor": "white",
            "gridwidth": 2,
            "linecolor": "white",
            "showbackground": true,
            "ticks": "",
            "zerolinecolor": "white"
           },
           "zaxis": {
            "backgroundcolor": "#E5ECF6",
            "gridcolor": "white",
            "gridwidth": 2,
            "linecolor": "white",
            "showbackground": true,
            "ticks": "",
            "zerolinecolor": "white"
           }
          },
          "shapedefaults": {
           "line": {
            "color": "#2a3f5f"
           }
          },
          "ternary": {
           "aaxis": {
            "gridcolor": "white",
            "linecolor": "white",
            "ticks": ""
           },
           "baxis": {
            "gridcolor": "white",
            "linecolor": "white",
            "ticks": ""
           },
           "bgcolor": "#E5ECF6",
           "caxis": {
            "gridcolor": "white",
            "linecolor": "white",
            "ticks": ""
           }
          },
          "title": {
           "x": 0.05
          },
          "xaxis": {
           "automargin": true,
           "gridcolor": "white",
           "linecolor": "white",
           "ticks": "",
           "title": {
            "standoff": 15
           },
           "zerolinecolor": "white",
           "zerolinewidth": 2
          },
          "yaxis": {
           "automargin": true,
           "gridcolor": "white",
           "linecolor": "white",
           "ticks": "",
           "title": {
            "standoff": 15
           },
           "zerolinecolor": "white",
           "zerolinewidth": 2
          }
         }
        },
        "title": {
         "text": "Intermediate Values Plot"
        },
        "xaxis": {
         "title": {
          "text": "Step"
         }
        },
        "yaxis": {
         "title": {
          "text": "Intermediate Value"
         }
        }
       }
      },
      "text/html": [
       "<div>                            <div id=\"9a118d56-3635-4aef-93e2-1c42366e7862\" class=\"plotly-graph-div\" style=\"height:525px; width:100%;\"></div>            <script type=\"text/javascript\">                require([\"plotly\"], function(Plotly) {                    window.PLOTLYENV=window.PLOTLYENV || {};                                    if (document.getElementById(\"9a118d56-3635-4aef-93e2-1c42366e7862\")) {                    Plotly.newPlot(                        \"9a118d56-3635-4aef-93e2-1c42366e7862\",                        [{\"marker\":{\"maxdisplayed\":10},\"mode\":\"lines+markers\",\"name\":\"Trial0\",\"x\":[0,250,500,750,1000,1250,1500,1750,2000,2250,2500,2750,3000,3250,3500,3750],\"y\":[0.6517601311206818,0.5728910267353058,0.5032181739807129,0.435075044631958,0.3676488995552063,0.3050909638404846,0.24576741456985474,0.19785284996032715,0.15481281280517578,0.12694913148880005,0.10407358407974243,0.08705663681030273,0.07187294960021973,0.06301462650299072,0.05587667226791382,0.0495525598526001],\"type\":\"scatter\"},{\"marker\":{\"maxdisplayed\":10},\"mode\":\"lines+markers\",\"name\":\"Trial1\",\"x\":[0,250,500,750,1000,1250,1500,1750,2000,2250,2500,2750,3000,3250,3500,3750],\"y\":[0.6209141910076141,0.4743642807006836,0.3837563991546631,0.3080771565437317,0.24351751804351807,0.20575624704360962,0.15832030773162842,0.12696552276611328,0.10911345481872559,0.09115183353424072,0.07966244220733643,0.0730927586555481,0.06343698501586914,0.059275686740875244,0.05381417274475098,0.05263876914978027],\"type\":\"scatter\"},{\"marker\":{\"maxdisplayed\":10},\"mode\":\"lines+markers\",\"name\":\"Trial2\",\"x\":[0,250,500,750,1000,1250,1500,1750,2000,2250,2500,2750,3000,3250,3500,3750],\"y\":[0.6626377701759338,0.6131978929042816,0.5548343658447266,0.5064841210842133,0.4518682360649109,0.40363609790802,0.3546375036239624,0.31738394498825073,0.27712130546569824,0.24853801727294922,0.22149425745010376,0.19775831699371338,0.17820709943771362,0.16264665126800537,0.15103572607040405,0.13928735256195068],\"type\":\"scatter\"},{\"marker\":{\"maxdisplayed\":10},\"mode\":\"lines+markers\",\"name\":\"Trial3\",\"x\":[0,250,500,750,1000,1250,1500,1750,2000,2250,2500,2750,3000,3250,3500,3750],\"y\":[0.6669217944145203,0.5602887570858002,0.4772876501083374,0.3921017646789551,0.32127702236175537,0.25975894927978516,0.2205086350440979,0.1898985505104065,0.15918225049972534,0.13882845640182495,0.1196027398109436,0.10329252481460571,0.09300112724304199,0.08600080013275146,0.07905358076095581,0.07459932565689087],\"type\":\"scatter\"},{\"marker\":{\"maxdisplayed\":10},\"mode\":\"lines+markers\",\"name\":\"Trial4\",\"x\":[0,250,500,750,1000,1250,1500,1750,2000,2250,2500,2750,3000,3250,3500,3750],\"y\":[0.5995188355445862,0.03193598985671997,0.02256065607070923,0.021400094032287598,0.021400094032287598,0.021400094032287598,0.021400094032287598,0.021400094032287598,0.021400094032287598,0.021400094032287598,0.021400094032287598,0.021400094032287598,0.021400094032287598,0.021400094032287598,0.021400094032287598,0.021068453788757324],\"type\":\"scatter\"},{\"marker\":{\"maxdisplayed\":10},\"mode\":\"lines+markers\",\"name\":\"Trial5\",\"x\":[0,250,500,750,1000,1250,1500,1750,2000,2250,2500,2750,3000,3250,3500,3750],\"y\":[0.672950029373169,0.6641762554645538,0.6598931550979614,0.6542660892009735,0.6465230286121368,0.6402886509895325,0.6332980096340179,0.6263068318367004,0.6190913617610931,0.6121790707111359,0.6029042899608612,0.595464825630188,0.5874309241771698,0.5771670639514923,0.5672297179698944,0.5578498244285583],\"type\":\"scatter\"},{\"marker\":{\"maxdisplayed\":10},\"mode\":\"lines+markers\",\"name\":\"Trial6\",\"x\":[0,250,500,750,1000,1250,1500,1750,2000,2250,2500,2750,3000,3250,3500,3750],\"y\":[0.6730256080627441,0.638981282711029,0.6042020320892334,0.562981128692627,0.5210534036159515,0.47993898391723633,0.4321445822715759,0.38905787467956543,0.33727574348449707,0.2945520281791687,0.25115281343460083,0.2172953486442566,0.1827554702758789,0.15808230638504028,0.13587284088134766,0.1147734522819519],\"type\":\"scatter\"},{\"marker\":{\"maxdisplayed\":10},\"mode\":\"lines+markers\",\"name\":\"Trial7\",\"x\":[0,250,500,750,1000,1250,1500,1750,2000,2250,2500,2750,3000,3250,3500,3750],\"y\":[0.6622540354728699,0.6622540354728699,0.6622540354728699,0.6622540354728699,0.6548507213592529,0.6548507213592529,0.6548507213592529,0.5958206951618195,0.5958206951618195,0.5958206951618195,0.5958206951618195,0.5958206951618195,0.5816274583339691,0.5816274583339691,0.5816274583339691,0.5816274583339691],\"type\":\"scatter\"},{\"marker\":{\"maxdisplayed\":10},\"mode\":\"lines+markers\",\"name\":\"Trial8\",\"x\":[0,250,500,750,1000,1250,1500,1750,2000,2250,2500,2750,3000,3250,3500,3750],\"y\":[0.6674587428569794,0.15788781642913818,0.06264626979827881,0.0345689058303833,0.03091597557067871,0.027796030044555664,0.027796030044555664,0.027024030685424805,0.027024030685424805,0.027024030685424805,0.025913476943969727,0.025913476943969727,0.025913476943969727,0.025741398334503174,0.025217950344085693,0.025217950344085693],\"type\":\"scatter\"},{\"marker\":{\"maxdisplayed\":10},\"mode\":\"lines+markers\",\"name\":\"Trial9\",\"x\":[0,250,500,750,1000,1250,1500,1750,2000,2250,2500,2750,3000,3250,3500,3750],\"y\":[0.6673768162727356,0.08549833297729492,0.03425055742263794,0.02921968698501587,0.0254591703414917,0.0254591703414917,0.0254591703414917,0.0254591703414917,0.02466362714767456,0.02466362714767456,0.02466362714767456,0.02466362714767456,0.02466362714767456,0.024223744869232178,0.023791790008544922,0.023562967777252197],\"type\":\"scatter\"},{\"marker\":{\"maxdisplayed\":10},\"mode\":\"lines+markers\",\"name\":\"Trial10\",\"x\":[0,250,500,750,1000,1250,1500,1750,2000,2250,2500,2750,3000,3250,3500,3750],\"y\":[0.7023489475250244,0.032306134700775146,0.032306134700775146,0.032306134700775146,0.022881686687469482,0.022881686687469482,0.022881686687469482,0.02280867099761963,0.02022862434387207,0.02022862434387207,0.01969665288925171,0.01969665288925171,0.01969665288925171,0.01969665288925171,0.01969665288925171,0.018257975578308105],\"type\":\"scatter\"},{\"marker\":{\"maxdisplayed\":10},\"mode\":\"lines+markers\",\"name\":\"Trial11\",\"x\":[0,250,500,750,1000,1250,1500,1750,2000,2250,2500,2750,3000,3250,3500,3750],\"y\":[0.7257945537567139,0.027938425540924072,0.027938425540924072,0.027938425540924072,0.02297919988632202,0.02297919988632202,0.02297919988632202,0.02297919988632202,0.02260822057723999,0.02078801393508911,0.02078801393508911,0.01891958713531494,0.01891958713531494,0.01891958713531494,0.01891958713531494,0.01891958713531494],\"type\":\"scatter\"},{\"marker\":{\"maxdisplayed\":10},\"mode\":\"lines+markers\",\"name\":\"Trial12\",\"x\":[0,250,500,750,1000,1250,1500,1750,2000,2250,2500,2750,3000,3250,3500,3750],\"y\":[0.6816897690296173,0.020023107528686523,0.020023107528686523,0.020023107528686523,0.020023107528686523,0.020023107528686523,0.020023107528686523,0.020023107528686523,0.020023107528686523,0.020023107528686523,0.020023107528686523,0.020023107528686523,0.018514037132263184,0.018514037132263184,0.018514037132263184,0.018514037132263184],\"type\":\"scatter\"},{\"marker\":{\"maxdisplayed\":10},\"mode\":\"lines+markers\",\"name\":\"Trial13\",\"x\":[0,250,500,750,1000,1250,1500,1750,2000,2250,2500,2750,3000,3250,3500,3750],\"y\":[0.5796572268009186,0.025241851806640625,0.025241851806640625,0.025241851806640625,0.025241851806640625,0.025241851806640625,0.022613883018493652,0.022613883018493652,0.022613883018493652,0.022613883018493652,0.0212898850440979,0.0212898850440979,0.0212898850440979,0.0212898850440979,0.0212898850440979,0.0212898850440979],\"type\":\"scatter\"},{\"marker\":{\"maxdisplayed\":10},\"mode\":\"lines+markers\",\"name\":\"Trial14\",\"x\":[0,250,500,750,1000,1250,1500,1750,2000,2250,2500,2750,3000,3250,3500,3750],\"y\":[0.7448551654815674,0.045175790786743164,0.022687256336212158,0.022687256336212158,0.022687256336212158,0.022687256336212158,0.021221518516540527,0.021221518516540527,0.021221518516540527,0.021221518516540527,0.021221518516540527,0.021221518516540527,0.021221518516540527,0.02056097984313965,0.02044922113418579,0.02044922113418579],\"type\":\"scatter\"},{\"marker\":{\"maxdisplayed\":10},\"mode\":\"lines+markers\",\"name\":\"Trial15\",\"x\":[0,250,500,750,1000,1250,1500,1750,2000,2250,2500,2750,3000,3250,3500,3750],\"y\":[0.6466147005558014,0.05473810434341431,0.0367046594619751,0.0367046594619751,0.024678409099578857,0.024678409099578857,0.024678409099578857,0.024678409099578857,0.024678409099578857,0.024678409099578857,0.024678409099578857,0.023228049278259277,0.02251911163330078,0.02251911163330078,0.02251911163330078,0.02251911163330078],\"type\":\"scatter\"},{\"marker\":{\"maxdisplayed\":10},\"mode\":\"lines+markers\",\"name\":\"Trial16\",\"x\":[0,250,500,750,1000,1250,1500,1750,2000,2250,2500,2750,3000,3250,3500,3750],\"y\":[0.5823723077774048,0.030428647994995117,0.029494643211364746,0.0272749662399292,0.026796460151672363,0.026070475578308105,0.024924159049987793,0.024924159049987793,0.024924159049987793,0.024924159049987793,0.024924159049987793,0.024924159049987793,0.023723959922790527,0.023723959922790527,0.023686528205871582,0.023686528205871582],\"type\":\"scatter\"},{\"marker\":{\"maxdisplayed\":10},\"mode\":\"lines+markers\",\"name\":\"Trial17\",\"x\":[0,250,500,750,1000,1250,1500,1750,2000,2250,2500,2750,3000,3250,3500,3750],\"y\":[0.6422052681446075,0.5847530364990234,0.5408260524272919,0.4931167960166931,0.4463014602661133,0.39909231662750244,0.35158586502075195,0.31159263849258423,0.27711373567581177,0.2439124584197998,0.21529942750930786,0.1943873167037964,0.1728917956352234,0.15199148654937744,0.1383044719696045,0.125626802444458],\"type\":\"scatter\"},{\"marker\":{\"maxdisplayed\":10},\"mode\":\"lines+markers\",\"name\":\"Trial18\",\"x\":[0,250,500,750,1000,1250,1500,1750,2000,2250,2500,2750,3000,3250,3500,3750],\"y\":[0.6856148540973663,0.023642420768737793,0.02044123411178589,0.019521117210388184,0.019521117210388184,0.019521117210388184,0.019521117210388184,0.019521117210388184,0.019521117210388184,0.019521117210388184,0.019521117210388184,0.019521117210388184,0.019521117210388184,0.019521117210388184,0.019521117210388184,0.019521117210388184],\"type\":\"scatter\"},{\"marker\":{\"maxdisplayed\":10},\"mode\":\"lines+markers\",\"name\":\"Trial19\",\"x\":[0,250,500,750,1000,1250,1500,1750,2000,2250,2500,2750,3000,3250,3500,3750],\"y\":[0.7250426113605499,0.02849787473678589,0.024951934814453125,0.024951934814453125,0.024951934814453125,0.02439779043197632,0.02439779043197632,0.02426755428314209,0.019025981426239014,0.019025981426239014,0.019025981426239014,0.019025981426239014,0.019025981426239014,0.019025981426239014,0.019025981426239014,0.019025981426239014],\"type\":\"scatter\"},{\"marker\":{\"maxdisplayed\":10},\"mode\":\"lines+markers\",\"name\":\"Trial20\",\"x\":[0,250,500,750,1000,1250,1500,1750,2000,2250,2500,2750,3000,3250,3500,3750],\"y\":[0.6462345719337463,0.02698838710784912,0.025334298610687256,0.024264812469482422,0.024264812469482422,0.02403193712234497,0.02352726459503174,0.02352726459503174,0.02352726459503174,0.022942960262298584,0.022605478763580322,0.021998167037963867,0.021998167037963867,0.021998167037963867,0.021995186805725098,0.021994471549987793],\"type\":\"scatter\"},{\"marker\":{\"maxdisplayed\":10},\"mode\":\"lines+markers\",\"name\":\"Trial21\",\"x\":[0,250,500,750,1000,1250,1500,1750,2000,2250,2500,2750,3000,3250,3500,3750],\"y\":[0.604619026184082,0.020852327346801758,0.019951045513153076,0.019951045513153076,0.019951045513153076,0.019951045513153076,0.019951045513153076,0.019951045513153076,0.019951045513153076,0.019951045513153076,0.019951045513153076,0.019353032112121582,0.019353032112121582,0.019353032112121582,0.019353032112121582,0.018754303455352783],\"type\":\"scatter\"},{\"marker\":{\"maxdisplayed\":10},\"mode\":\"lines+markers\",\"name\":\"Trial22\",\"x\":[0,250,500,750,1000,1250,1500,1750,2000,2250,2500,2750,3000,3250,3500,3750],\"y\":[0.6511718928813934,0.019006192684173584,0.019006192684173584,0.019006192684173584,0.019006192684173584,0.019006192684173584,0.019006192684173584,0.019006192684173584,0.018361687660217285,0.018361687660217285,0.018361687660217285,0.017557859420776367,0.017557859420776367,0.017557859420776367,0.017557859420776367,0.017557859420776367],\"type\":\"scatter\"},{\"marker\":{\"maxdisplayed\":10},\"mode\":\"lines+markers\",\"name\":\"Trial23\",\"x\":[0,250,500,750,1000,1250,1500,1750,2000,2250,2500,2750,3000,3250,3500,3750],\"y\":[0.6601020693778992,0.021900951862335205,0.021900951862335205,0.021900951862335205,0.021900951862335205,0.021900951862335205,0.021900951862335205,0.021900951862335205,0.021900951862335205,0.021900951862335205,0.021900951862335205,0.021900951862335205,0.021605074405670166,0.02018427848815918,0.019997894763946533,0.019997894763946533],\"type\":\"scatter\"},{\"marker\":{\"maxdisplayed\":10},\"mode\":\"lines+markers\",\"name\":\"Trial24\",\"x\":[0,250,500,750,1000,1250,1500,1750,2000,2250,2500,2750,3000,3250,3500,3750],\"y\":[0.6598793864250183,0.028940021991729736,0.022182822227478027,0.022182822227478027,0.02167212963104248,0.02119213342666626,0.02119213342666626,0.02119213342666626,0.02119213342666626,0.02119213342666626,0.02119213342666626,0.02119213342666626,0.02119213342666626,0.02119213342666626,0.02119213342666626,0.02119213342666626],\"type\":\"scatter\"},{\"marker\":{\"maxdisplayed\":10},\"mode\":\"lines+markers\",\"name\":\"Trial25\",\"x\":[0,250,500,750,1000,1250,1500,1750,2000,2250,2500,2750,3000,3250,3500,3750],\"y\":[0.7236026227474213,0.03260427713394165,0.031418561935424805,0.030605316162109375,0.028152287006378174,0.02348625659942627,0.021356403827667236,0.021356403827667236,0.021356403827667236,0.021356403827667236,0.021356403827667236,0.021356403827667236,0.021356403827667236,0.021356403827667236,0.021356403827667236,0.021356403827667236],\"type\":\"scatter\"},{\"marker\":{\"maxdisplayed\":10},\"mode\":\"lines+markers\",\"name\":\"Trial26\",\"x\":[0,250,500,750,1000,1250,1500,1750,2000,2250,2500,2750,3000,3250,3500,3750],\"y\":[0.6703681349754333,0.022721588611602783,0.019463956356048584,0.019463956356048584,0.019463956356048584,0.018409252166748047,0.01810556650161743,0.01810556650161743,0.01810556650161743,0.01810556650161743,0.017502546310424805,0.017502546310424805,0.017502546310424805,0.017502546310424805,0.017502546310424805,0.017502546310424805],\"type\":\"scatter\"},{\"marker\":{\"maxdisplayed\":10},\"mode\":\"lines+markers\",\"name\":\"Trial27\",\"x\":[0,250,500,750,1000,1250,1500,1750,2000,2250,2500,2750,3000,3250,3500,3750],\"y\":[0.6629321277141571,0.02129608392715454,0.02129608392715454,0.01933598518371582,0.01933598518371582,0.018474578857421875,0.018474578857421875,0.018474578857421875,0.018474578857421875,0.018216371536254883,0.018216371536254883,0.018216371536254883,0.018216371536254883,0.018216371536254883,0.018216371536254883,0.018216371536254883],\"type\":\"scatter\"},{\"marker\":{\"maxdisplayed\":10},\"mode\":\"lines+markers\",\"name\":\"Trial28\",\"x\":[0,250,500,750,1000,1250,1500,1750,2000,2250,2500,2750,3000,3250,3500,3750],\"y\":[0.6647098660469055,0.031210601329803467,0.028117239475250244,0.028117239475250244,0.026629269123077393,0.025271296501159668,0.024588406085968018,0.024213194847106934,0.02330315113067627,0.02330315113067627,0.02330315113067627,0.02330315113067627,0.02330315113067627,0.02330315113067627,0.023171305656433105,0.023171305656433105],\"type\":\"scatter\"},{\"marker\":{\"maxdisplayed\":10},\"mode\":\"lines+markers\",\"name\":\"Trial29\",\"x\":[0,250,500,750,1000,1250,1500,1750,2000,2250,2500,2750,3000,3250,3500,3750],\"y\":[0.6980931460857391,0.028625547885894775,0.028625547885894775,0.027508914470672607,0.027508914470672607,0.027235448360443115,0.026924729347229004,0.02682286500930786,0.02560025453567505,0.025218188762664795,0.025218188762664795,0.022568881511688232,0.022568881511688232,0.02238774299621582,0.022056281566619873,0.022056281566619873],\"type\":\"scatter\"},{\"marker\":{\"maxdisplayed\":10},\"mode\":\"lines+markers\",\"name\":\"Trial30\",\"x\":[0,250,500,750,1000,1250,1500,1750,2000,2250,2500,2750,3000,3250,3500,3750],\"y\":[0.5999234616756439,0.5886592268943787,0.5054882168769836,0.22963017225265503,0.039273619651794434,0.02527296543121338,0.02163177728652954,0.02163177728652954,0.02163177728652954,0.02163177728652954,0.02163177728652954,0.02110224962234497,0.02110224962234497,0.02110224962234497,0.02110224962234497,0.02110224962234497],\"type\":\"scatter\"},{\"marker\":{\"maxdisplayed\":10},\"mode\":\"lines+markers\",\"name\":\"Trial31\",\"x\":[0,250,500,750,1000,1250,1500,1750,2000,2250,2500,2750,3000,3250,3500,3750],\"y\":[0.6710762083530426,0.018785059452056885,0.017871499061584473,0.017871499061584473,0.017871499061584473,0.017410576343536377,0.017410576343536377,0.017410576343536377,0.017410576343536377,0.017410576343536377,0.017410576343536377,0.017410576343536377,0.017410576343536377,0.017410576343536377,0.017410576343536377,0.017410576343536377],\"type\":\"scatter\"},{\"marker\":{\"maxdisplayed\":10},\"mode\":\"lines+markers\",\"name\":\"Trial32\",\"x\":[0,250,500,750,1000,1250,1500,1750,2000,2250,2500,2750,3000,3250,3500,3750],\"y\":[0.5924456417560577,0.020704567432403564,0.020704567432403564,0.020322978496551514,0.020322978496551514,0.020322978496551514,0.020322978496551514,0.019968807697296143,0.019968807697296143,0.019968807697296143,0.019968807697296143,0.019484221935272217,0.019484221935272217,0.019484221935272217,0.019484221935272217,0.019484221935272217],\"type\":\"scatter\"},{\"marker\":{\"maxdisplayed\":10},\"mode\":\"lines+markers\",\"name\":\"Trial33\",\"x\":[0,250,500,750,1000,1250,1500,1750,2000,2250,2500,2750,3000,3250,3500,3750],\"y\":[0.6488150954246521,0.028363466262817383,0.028363466262817383,0.02323216199874878,0.021646976470947266,0.021646976470947266,0.021646976470947266,0.021646976470947266,0.021646976470947266,0.020790040493011475,0.020790040493011475,0.020790040493011475,0.020790040493011475,0.020790040493011475,0.020790040493011475,0.020790040493011475],\"type\":\"scatter\"},{\"marker\":{\"maxdisplayed\":10},\"mode\":\"lines+markers\",\"name\":\"Trial34\",\"x\":[0,250,500,750,1000,1250,1500,1750,2000,2250,2500,2750,3000,3250,3500,3750],\"y\":[0.6672171056270599,0.5810777246952057,0.527091920375824,0.4842839241027832,0.4337967038154602,0.39197659492492676,0.34517139196395874,0.30349135398864746,0.2736290693283081,0.2437153458595276,0.21731245517730713,0.19194620847702026,0.1679072380065918,0.1480262279510498,0.12922674417495728,0.11862140893936157],\"type\":\"scatter\"},{\"marker\":{\"maxdisplayed\":10},\"mode\":\"lines+markers\",\"name\":\"Trial35\",\"x\":[0,250,500,750,1000,1250,1500,1750,2000,2250,2500,2750,3000,3250,3500,3750],\"y\":[0.6740976274013519,0.03894758224487305,0.03137236833572388,0.02710425853729248,0.026471316814422607,0.023853600025177002,0.023853600025177002,0.023738622665405273,0.023738622665405273,0.023314058780670166,0.023314058780670166,0.023314058780670166,0.022608816623687744,0.022608816623687744,0.022608816623687744,0.022608816623687744],\"type\":\"scatter\"},{\"marker\":{\"maxdisplayed\":10},\"mode\":\"lines+markers\",\"name\":\"Trial36\",\"x\":[0,250,500,750,1000,1250,1500,1750,2000,2250,2500,2750,3000,3250,3500,3750],\"y\":[0.6670039296150208,0.45074522495269775,0.22969269752502441,0.0938308835029602,0.0479775071144104,0.034467101097106934,0.034467101097106934,0.02111661434173584,0.02111661434173584,0.02111661434173584,0.02111661434173584,0.02111661434173584,0.02032405138015747,0.01857966184616089,0.01857966184616089,0.01857966184616089],\"type\":\"scatter\"},{\"marker\":{\"maxdisplayed\":10},\"mode\":\"lines+markers\",\"name\":\"Trial37\",\"x\":[0,250,500,750,1000,1250,1500,1750,2000,2250,2500,2750,3000,3250,3500,3750],\"y\":[0.6666303277015686,0.02193903923034668,0.0186346173286438,0.0186346173286438,0.017546236515045166,0.017546236515045166,0.016635537147521973,0.016635537147521973,0.016635537147521973,0.016635537147521973,0.016635537147521973,0.016635537147521973,0.016635537147521973,0.016635537147521973,0.016635537147521973,0.016635537147521973],\"type\":\"scatter\"},{\"marker\":{\"maxdisplayed\":10},\"mode\":\"lines+markers\",\"name\":\"Trial38\",\"x\":[0,250,500,750,1000,1250,1500,1750,2000,2250,2500,2750,3000,3250,3500,3750],\"y\":[0.6728611588478088,0.671146959066391,0.671146959066391,0.671146959066391,0.6577285528182983,0.5640947818756104,0.5640947818756104,0.5640947818756104,0.5301681756973267,0.4322656989097595,0.3885878324508667,0.3657596707344055,0.35894834995269775,0.3515363931655884,0.3489813804626465,0.34778892993927],\"type\":\"scatter\"},{\"marker\":{\"maxdisplayed\":10},\"mode\":\"lines+markers\",\"name\":\"Trial39\",\"x\":[0,250,500,750,1000,1250,1500,1750,2000,2250,2500,2750,3000,3250,3500,3750],\"y\":[0.6666374206542969,0.09286624193191528,0.018768250942230225,0.018768250942230225,0.018768250942230225,0.018768250942230225,0.018768250942230225,0.017108142375946045,0.01701122522354126,0.01701122522354126,0.01701122522354126,0.01701122522354126,0.01701122522354126,0.01701122522354126,0.01701122522354126,0.01701122522354126],\"type\":\"scatter\"},{\"marker\":{\"maxdisplayed\":10},\"mode\":\"lines+markers\",\"name\":\"Trial40\",\"x\":[0,250,500,750,1000,1250,1500,1750,2000,2250,2500,2750,3000,3250,3500,3750],\"y\":[0.6684329807758331,0.21120905876159668,0.08836287260055542,0.041059911251068115,0.03191643953323364,0.028316974639892578,0.02579665184020996,0.025191187858581543,0.02372497320175171,0.02186441421508789,0.02186441421508789,0.02186441421508789,0.02186441421508789,0.02186441421508789,0.01956915855407715,0.01956915855407715],\"type\":\"scatter\"},{\"marker\":{\"maxdisplayed\":10},\"mode\":\"lines+markers\",\"name\":\"Trial41\",\"x\":[0,250,500,750,1000,1250,1500,1750,2000,2250,2500,2750,3000,3250,3500,3750],\"y\":[0.6238393187522888,0.027830898761749268,0.027830898761749268,0.027830898761749268,0.023608148097991943,0.023608148097991943,0.023608148097991943,0.023608148097991943,0.017308354377746582,0.017308354377746582,0.017308354377746582,0.017308354377746582,0.017308354377746582,0.017308354377746582,0.017308354377746582,0.017308354377746582],\"type\":\"scatter\"},{\"marker\":{\"maxdisplayed\":10},\"mode\":\"lines+markers\",\"name\":\"Trial42\",\"x\":[0,250,500,750,1000,1250,1500,1750,2000,2250,2500,2750,3000,3250,3500,3750],\"y\":[0.6745903193950653,0.028233349323272705,0.028233349323272705,0.01920771598815918,0.018623054027557373,0.018623054027557373,0.018623054027557373,0.018623054027557373,0.018623054027557373,0.018138349056243896,0.018138349056243896,0.018138349056243896,0.018138349056243896,0.017872214317321777,0.017872214317321777,0.016974031925201416],\"type\":\"scatter\"},{\"marker\":{\"maxdisplayed\":10},\"mode\":\"lines+markers\",\"name\":\"Trial43\",\"x\":[0,250,500,750,1000,1250,1500,1750,2000,2250,2500,2750,3000,3250,3500,3750],\"y\":[0.6675033867359161,0.022160112857818604,0.022160112857818604,0.017678797245025635,0.017678797245025635,0.017678797245025635,0.017678797245025635,0.017678797245025635,0.017678797245025635,0.017678797245025635,0.017678797245025635,0.017678797245025635,0.017678797245025635,0.017678797245025635,0.017678797245025635,0.017678797245025635],\"type\":\"scatter\"},{\"marker\":{\"maxdisplayed\":10},\"mode\":\"lines+markers\",\"name\":\"Trial44\",\"x\":[0,250,500,750,1000,1250,1500,1750,2000,2250,2500,2750,3000,3250,3500,3750],\"y\":[0.6663366258144379,0.02903372049331665,0.023363769054412842,0.020502865314483643,0.01875293254852295,0.01875293254852295,0.01875293254852295,0.01875293254852295,0.01875293254852295,0.01875293254852295,0.01875293254852295,0.01875293254852295,0.01875293254852295,0.01875293254852295,0.01875293254852295,0.01875293254852295],\"type\":\"scatter\"},{\"marker\":{\"maxdisplayed\":10},\"mode\":\"lines+markers\",\"name\":\"Trial45\",\"x\":[0,250,500,750,1000,1250,1500,1750,2000,2250,2500,2750,3000,3250,3500,3750],\"y\":[0.6526688635349274,0.05530130863189697,0.019445061683654785,0.019445061683654785,0.019445061683654785,0.019445061683654785,0.019445061683654785,0.019313573837280273,0.019313573837280273,0.019313573837280273,0.019313573837280273,0.019313573837280273,0.019313573837280273,0.019313573837280273,0.019313573837280273,0.019313573837280273],\"type\":\"scatter\"},{\"marker\":{\"maxdisplayed\":10},\"mode\":\"lines+markers\",\"name\":\"Trial46\",\"x\":[0,250,500,750,1000,1250,1500,1750,2000,2250,2500,2750,3000,3250,3500,3750],\"y\":[0.666909784078598,0.05381667613983154,0.018590986728668213,0.018069028854370117,0.018069028854370117,0.018069028854370117,0.018069028854370117,0.018069028854370117,0.018069028854370117,0.018069028854370117,0.018069028854370117,0.018069028854370117,0.018069028854370117,0.018069028854370117,0.018069028854370117,0.018069028854370117],\"type\":\"scatter\"},{\"marker\":{\"maxdisplayed\":10},\"mode\":\"lines+markers\",\"name\":\"Trial47\",\"x\":[0,250,500,750,1000,1250,1500,1750,2000,2250,2500,2750,3000,3250,3500,3750],\"y\":[0.57616326212883,0.035998642444610596,0.017033398151397705,0.017033398151397705,0.017033398151397705,0.017033398151397705,0.017033398151397705,0.017033398151397705,0.017033398151397705,0.017033398151397705,0.017033398151397705,0.017033398151397705,0.017033398151397705,0.017033398151397705,0.017033398151397705,0.017033398151397705],\"type\":\"scatter\"},{\"marker\":{\"maxdisplayed\":10},\"mode\":\"lines+markers\",\"name\":\"Trial48\",\"x\":[0,250,500,750,1000,1250,1500,1750,2000,2250,2500,2750,3000,3250,3500,3750],\"y\":[0.6668775975704193,0.05036133527755737,0.023330986499786377,0.023330986499786377,0.022501885890960693,0.021504104137420654,0.021504104137420654,0.021504104137420654,0.021504104137420654,0.021504104137420654,0.021504104137420654,0.021504104137420654,0.021504104137420654,0.021504104137420654,0.021504104137420654,0.021504104137420654],\"type\":\"scatter\"},{\"marker\":{\"maxdisplayed\":10},\"mode\":\"lines+markers\",\"name\":\"Trial49\",\"x\":[0,250,500,750,1000,1250,1500,1750,2000,2250,2500,2750,3000,3250,3500,3750],\"y\":[0.7174187302589417,0.028961777687072754,0.018155038356781006,0.018155038356781006,0.018155038356781006,0.018155038356781006,0.018155038356781006,0.018155038356781006,0.018155038356781006,0.018155038356781006,0.018155038356781006,0.018155038356781006,0.018155038356781006,0.018155038356781006,0.018155038356781006,0.018155038356781006],\"type\":\"scatter\"},{\"marker\":{\"maxdisplayed\":10},\"mode\":\"lines+markers\",\"name\":\"Trial50\",\"x\":[0,250,500,750,1000,1250,1500,1750,2000,2250,2500,2750,3000,3250,3500,3750],\"y\":[0.6668961644172668,0.022675633430480957,0.022675633430480957,0.01865929365158081,0.01858919858932495,0.01858919858932495,0.01858919858932495,0.01858919858932495,0.01858919858932495,0.01858919858932495,0.01858919858932495,0.01858919858932495,0.01858919858932495,0.01858919858932495,0.01858919858932495,0.01858919858932495],\"type\":\"scatter\"},{\"marker\":{\"maxdisplayed\":10},\"mode\":\"lines+markers\",\"name\":\"Trial51\",\"x\":[0,250,500,750,1000,1250,1500,1750,2000,2250,2500,2750,3000,3250,3500,3750],\"y\":[0.6667883098125458,0.022189855575561523,0.020193517208099365,0.019757509231567383,0.019757509231567383,0.019522368907928467,0.019522368907928467,0.019522368907928467,0.019522368907928467,0.019522368907928467,0.019522368907928467,0.0186578631401062,0.0186578631401062,0.0186578631401062,0.0186578631401062,0.0186578631401062],\"type\":\"scatter\"},{\"marker\":{\"maxdisplayed\":10},\"mode\":\"lines+markers\",\"name\":\"Trial52\",\"x\":[0,250,500,750,1000,1250,1500,1750,2000,2250,2500,2750,3000,3250,3500,3750],\"y\":[0.6165901720523834,0.024274885654449463,0.020558714866638184,0.0184747576713562,0.0184747576713562,0.0184747576713562,0.0184747576713562,0.0184747576713562,0.0184747576713562,0.0184747576713562,0.0184747576713562,0.01748567819595337,0.01748567819595337,0.01748567819595337,0.01748567819595337,0.01748567819595337],\"type\":\"scatter\"},{\"marker\":{\"maxdisplayed\":10},\"mode\":\"lines+markers\",\"name\":\"Trial53\",\"x\":[0,250,500,750,1000,1250,1500,1750,2000,2250,2500,2750,3000,3250,3500,3750],\"y\":[0.6663978397846222,0.35043567419052124,0.27126699686050415,0.23841708898544312,0.03261923789978027,0.03261923789978027,0.02746683359146118,0.01821345090866089,0.01717090606689453,0.01717090606689453,0.01717090606689453,0.01717090606689453,0.01717090606689453,0.01717090606689453,0.01717090606689453,0.01717090606689453],\"type\":\"scatter\"},{\"marker\":{\"maxdisplayed\":10},\"mode\":\"lines+markers\",\"name\":\"Trial54\",\"x\":[0,250,500,750,1000,1250,1500,1750,2000,2250,2500,2750,3000,3250,3500,3750],\"y\":[0.6652257740497589,0.06398636102676392,0.03645730018615723,0.030809760093688965,0.030809760093688965,0.030809760093688965,0.028007030487060547,0.028007030487060547,0.028007030487060547,0.028007030487060547,0.028007030487060547,0.027834594249725342,0.02748626470565796,0.02748626470565796,0.02748626470565796,0.02748626470565796],\"type\":\"scatter\"},{\"marker\":{\"maxdisplayed\":10},\"mode\":\"lines+markers\",\"name\":\"Trial55\",\"x\":[0,250,500,750,1000,1250,1500,1750,2000,2250,2500,2750,3000,3250,3500,3750],\"y\":[0.7063218951225281,0.02308058738708496,0.02308058738708496,0.02308058738708496,0.02308058738708496,0.02308058738708496,0.02308058738708496,0.02308058738708496,0.022175371646881104,0.022175371646881104,0.022175371646881104,0.021634280681610107,0.021634280681610107,0.021634280681610107,0.021634280681610107,0.021634280681610107],\"type\":\"scatter\"},{\"marker\":{\"maxdisplayed\":10},\"mode\":\"lines+markers\",\"name\":\"Trial56\",\"x\":[0,250,500,750,1000,1250,1500,1750,2000,2250,2500,2750,3000,3250,3500,3750],\"y\":[0.6719149053096771,0.019054770469665527,0.019054770469665527,0.019054770469665527,0.019054770469665527,0.019054770469665527,0.019054770469665527,0.019054770469665527,0.018758296966552734,0.017608821392059326,0.017608821392059326,0.017608821392059326,0.017608821392059326,0.017608821392059326,0.017608821392059326,0.017608821392059326],\"type\":\"scatter\"},{\"marker\":{\"maxdisplayed\":10},\"mode\":\"lines+markers\",\"name\":\"Trial57\",\"x\":[0,250,500,750,1000,1250,1500,1750,2000,2250,2500,2750,3000,3250,3500,3750],\"y\":[0.6750488579273224,0.027706801891326904,0.027706801891326904,0.025046885013580322,0.022384583950042725,0.022384583950042725,0.020573675632476807,0.020573675632476807,0.020573675632476807,0.020573675632476807,0.020573675632476807,0.020573675632476807,0.019258975982666016,0.019258975982666016,0.018077731132507324,0.018077731132507324],\"type\":\"scatter\"},{\"marker\":{\"maxdisplayed\":10},\"mode\":\"lines+markers\",\"name\":\"Trial58\",\"x\":[0,250,500,750,1000,1250,1500,1750,2000,2250,2500,2750,3000,3250,3500,3750],\"y\":[0.6670599579811096,0.030160069465637207,0.030160069465637207,0.030160069465637207,0.030160069465637207,0.030160069465637207,0.021953463554382324,0.0196993350982666,0.018223226070404053,0.018223226070404053,0.018223226070404053,0.015880465507507324,0.015880465507507324,0.015880465507507324,0.015880465507507324,0.015880465507507324],\"type\":\"scatter\"},{\"marker\":{\"maxdisplayed\":10},\"mode\":\"lines+markers\",\"name\":\"Trial59\",\"x\":[0,250,500,750,1000,1250,1500,1750,2000,2250,2500,2750,3000,3250,3500,3750],\"y\":[0.6614355444908142,0.05033683776855469,0.02036350965499878,0.02036350965499878,0.02036350965499878,0.02036350965499878,0.02036350965499878,0.02036350965499878,0.02036350965499878,0.02036350965499878,0.02036350965499878,0.02036350965499878,0.02036350965499878,0.02036350965499878,0.02036350965499878,0.02036350965499878],\"type\":\"scatter\"},{\"marker\":{\"maxdisplayed\":10},\"mode\":\"lines+markers\",\"name\":\"Trial60\",\"x\":[0,250,500,750,1000,1250,1500,1750,2000,2250,2500,2750,3000,3250,3500,3750],\"y\":[0.6567744314670563,0.03084409236907959,0.023852527141571045,0.02224266529083252,0.018354177474975586,0.018354177474975586,0.018354177474975586,0.018354177474975586,0.018354177474975586,0.018354177474975586,0.018354177474975586,0.018354177474975586,0.018354177474975586,0.018354177474975586,0.018354177474975586,0.018354177474975586],\"type\":\"scatter\"},{\"marker\":{\"maxdisplayed\":10},\"mode\":\"lines+markers\",\"name\":\"Trial61\",\"x\":[0,250,500,750,1000,1250,1500,1750,2000,2250,2500,2750,3000,3250,3500,3750],\"y\":[0.6665738523006439,0.025228381156921387,0.025228381156921387,0.019806265830993652,0.019806265830993652,0.019637644290924072,0.019637644290924072,0.019637644290924072,0.019637644290924072,0.018801093101501465,0.018801093101501465,0.018801093101501465,0.018801093101501465,0.018801093101501465,0.018104493618011475,0.018104493618011475],\"type\":\"scatter\"},{\"marker\":{\"maxdisplayed\":10},\"mode\":\"lines+markers\",\"name\":\"Trial62\",\"x\":[0,250,500,750,1000,1250,1500,1750,2000,2250,2500,2750,3000,3250,3500,3750],\"y\":[0.6221232116222382,0.05139118432998657,0.04839932918548584,0.0463109016418457,0.017974853515625,0.017974853515625,0.017974853515625,0.017974853515625,0.017974853515625,0.017974853515625,0.017974853515625,0.017974853515625,0.017974853515625,0.017974853515625,0.017974853515625,0.017974853515625],\"type\":\"scatter\"},{\"marker\":{\"maxdisplayed\":10},\"mode\":\"lines+markers\",\"name\":\"Trial63\",\"x\":[0,250,500,750,1000,1250,1500,1750,2000,2250,2500,2750,3000,3250,3500,3750],\"y\":[0.564683735370636,0.024123191833496094,0.024123191833496094,0.02302449941635132,0.02302449941635132,0.02302449941635132,0.02192157506942749,0.02192157506942749,0.01997429132461548,0.01983124017715454,0.01983124017715454,0.019441723823547363,0.019441723823547363,0.019441723823547363,0.019441723823547363,0.019441723823547363],\"type\":\"scatter\"},{\"marker\":{\"maxdisplayed\":10},\"mode\":\"lines+markers\",\"name\":\"Trial64\",\"x\":[0,250,500,750,1000,1250,1500,1750,2000,2250,2500,2750,3000,3250,3500,3750],\"y\":[0.6602350771427155,0.044907212257385254,0.02298557758331299,0.02298557758331299,0.020291686058044434,0.019277215003967285,0.019277215003967285,0.019277215003967285,0.01891911029815674,0.017419874668121338,0.017419874668121338,0.017419874668121338,0.017419874668121338,0.017419874668121338,0.017419874668121338,0.017419874668121338],\"type\":\"scatter\"},{\"marker\":{\"maxdisplayed\":10},\"mode\":\"lines+markers\",\"name\":\"Trial65\",\"x\":[0,250,500,750,1000,1250,1500,1750,2000,2250,2500,2750,3000,3250,3500,3750],\"y\":[0.6366993486881256,0.050599873065948486,0.02868133783340454,0.02868133783340454,0.02868133783340454,0.02708226442337036,0.023507654666900635,0.023507654666900635,0.023507654666900635,0.023507654666900635,0.023507654666900635,0.023507654666900635,0.023507654666900635,0.023507654666900635,0.023507654666900635,0.023507654666900635],\"type\":\"scatter\"},{\"marker\":{\"maxdisplayed\":10},\"mode\":\"lines+markers\",\"name\":\"Trial66\",\"x\":[0,250,500,750,1000,1250,1500,1750,2000,2250,2500,2750,3000,3250,3500,3750],\"y\":[0.7111790478229523,0.02679353952407837,0.022551119327545166,0.020813345909118652,0.020813345909118652,0.02048623561859131,0.0199698805809021,0.0199698805809021,0.0199698805809021,0.019289672374725342,0.018221914768218994,0.018221914768218994,0.018221914768218994,0.018221914768218994,0.01762157678604126,0.01762157678604126],\"type\":\"scatter\"},{\"marker\":{\"maxdisplayed\":10},\"mode\":\"lines+markers\",\"name\":\"Trial67\",\"x\":[0,250,500,750,1000,1250,1500,1750,2000,2250,2500,2750,3000,3250,3500,3750],\"y\":[0.6855691373348236,0.02886343002319336,0.021510779857635498,0.021510779857635498,0.02134305238723755,0.019308865070343018,0.019308865070343018,0.017256438732147217,0.017256438732147217,0.017256438732147217,0.017256438732147217,0.017256438732147217,0.017256438732147217,0.017256438732147217,0.017256438732147217,0.017135024070739746],\"type\":\"scatter\"},{\"marker\":{\"maxdisplayed\":10},\"mode\":\"lines+markers\",\"name\":\"Trial68\",\"x\":[0,250,500,750,1000,1250,1500,1750,2000,2250,2500,2750,3000,3250,3500,3750],\"y\":[0.6709831953048706,0.03898555040359497,0.03173267841339111,0.03173267841339111,0.03173267841339111,0.022001147270202637,0.01846182346343994,0.01846182346343994,0.01846182346343994,0.017235994338989258,0.017235994338989258,0.017235994338989258,0.016651511192321777,0.016651511192321777,0.016651511192321777,0.016651511192321777],\"type\":\"scatter\"},{\"marker\":{\"maxdisplayed\":10},\"mode\":\"lines+markers\",\"name\":\"Trial69\",\"x\":[0,250,500,750,1000,1250,1500,1750,2000,2250,2500,2750,3000,3250,3500,3750],\"y\":[0.6669108271598816,0.15671861171722412,0.1122211217880249,0.056686341762542725,0.056686341762542725,0.03132683038711548,0.021325230598449707,0.021325230598449707,0.021325230598449707,0.021325230598449707,0.021325230598449707,0.0190085768699646,0.0190085768699646,0.0190085768699646,0.0190085768699646,0.0190085768699646],\"type\":\"scatter\"},{\"marker\":{\"maxdisplayed\":10},\"mode\":\"lines+markers\",\"name\":\"Trial70\",\"x\":[0,250,500,750,1000,1250,1500,1750,2000,2250,2500,2750,3000,3250,3500,3750],\"y\":[0.6669212877750397,0.02284759283065796,0.01940178871154785,0.0177304744720459,0.0177304744720459,0.0177304744720459,0.0177304744720459,0.0177304744720459,0.0177304744720459,0.0177304744720459,0.0177304744720459,0.0177304744720459,0.0177304744720459,0.0177304744720459,0.0177304744720459,0.0177304744720459],\"type\":\"scatter\"},{\"marker\":{\"maxdisplayed\":10},\"mode\":\"lines+markers\",\"name\":\"Trial71\",\"x\":[0,250,500,750,1000,1250,1500,1750,2000,2250,2500,2750,3000,3250,3500,3750],\"y\":[0.6715133488178253,0.2047024965286255,0.02223724126815796,0.019793450832366943,0.018267810344696045,0.018267810344696045,0.018267810344696045,0.018267810344696045,0.017490148544311523,0.017490148544311523,0.017490148544311523,0.017490148544311523,0.017394602298736572,0.017394602298736572,0.01685410737991333,0.01685410737991333],\"type\":\"scatter\"},{\"marker\":{\"maxdisplayed\":10},\"mode\":\"lines+markers\",\"name\":\"Trial72\",\"x\":[0,250,500,750,1000,1250,1500,1750,2000,2250,2500,2750,3000,3250,3500,3750],\"y\":[0.6610030233860016,0.04080396890640259,0.04080396890640259,0.018171489238739014,0.018171489238739014,0.018171489238739014,0.018171489238739014,0.018171489238739014,0.018171489238739014,0.018171489238739014,0.018171489238739014,0.018171489238739014,0.018171489238739014,0.018171489238739014,0.01812654733657837,0.01812654733657837],\"type\":\"scatter\"},{\"marker\":{\"maxdisplayed\":10},\"mode\":\"lines+markers\",\"name\":\"Trial73\",\"x\":[0,250,500,750,1000,1250,1500,1750,2000,2250,2500,2750,3000,3250,3500,3750],\"y\":[0.666934609413147,0.05469632148742676,0.025282084941864014,0.02256917953491211,0.020512402057647705,0.020476102828979492,0.020178556442260742,0.018924593925476074,0.018924593925476074,0.018924593925476074,0.018924593925476074,0.018924593925476074,0.018924593925476074,0.018924593925476074,0.018880844116210938,0.018880844116210938],\"type\":\"scatter\"},{\"marker\":{\"maxdisplayed\":10},\"mode\":\"lines+markers\",\"name\":\"Trial74\",\"x\":[0,250,500,750,1000,1250,1500,1750,2000,2250,2500,2750,3000,3250,3500,3750],\"y\":[0.66691455245018,0.035081326961517334,0.02072584629058838,0.02072584629058838,0.02072584629058838,0.02072584629058838,0.02072584629058838,0.01824551820755005,0.01824551820755005,0.01824551820755005,0.01824551820755005,0.01824551820755005,0.01824551820755005,0.01824551820755005,0.01824551820755005,0.01824551820755005],\"type\":\"scatter\"},{\"marker\":{\"maxdisplayed\":10},\"mode\":\"lines+markers\",\"name\":\"Trial75\",\"x\":[0,250,500,750,1000,1250,1500,1750,2000,2250,2500,2750,3000,3250,3500,3750],\"y\":[0.6669009327888489,0.14933013916015625,0.027176856994628906,0.022811532020568848,0.021486103534698486,0.019446134567260742,0.01889777183532715,0.01889777183532715,0.01889777183532715,0.01889777183532715,0.01889777183532715,0.01889777183532715,0.01889777183532715,0.01781708002090454,0.01781708002090454,0.01781708002090454],\"type\":\"scatter\"},{\"marker\":{\"maxdisplayed\":10},\"mode\":\"lines+markers\",\"name\":\"Trial76\",\"x\":[0,250,500,750,1000,1250,1500,1750,2000,2250,2500,2750,3000,3250,3500,3750],\"y\":[0.6668072640895844,0.04333144426345825,0.02331167459487915,0.02331167459487915,0.02331167459487915,0.02331167459487915,0.02154785394668579,0.019282102584838867,0.019282102584838867,0.01781177520751953,0.01781177520751953,0.01781177520751953,0.017789721488952637,0.017528235912322998,0.017528235912322998,0.017528235912322998],\"type\":\"scatter\"},{\"marker\":{\"maxdisplayed\":10},\"mode\":\"lines+markers\",\"name\":\"Trial77\",\"x\":[0,250,500,750,1000,1250,1500,1750,2000,2250,2500,2750,3000,3250,3500,3750],\"y\":[0.665363609790802,0.03905200958251953,0.03697097301483154,0.01963675022125244,0.01963675022125244,0.01963675022125244,0.01963675022125244,0.01963675022125244,0.018286168575286865,0.018286168575286865,0.018286168575286865,0.018286168575286865,0.018105387687683105,0.018105387687683105,0.018105387687683105,0.017611324787139893],\"type\":\"scatter\"},{\"marker\":{\"maxdisplayed\":10},\"mode\":\"lines+markers\",\"name\":\"Trial78\",\"x\":[0,250,500,750,1000,1250,1500,1750,2000,2250,2500,2750,3000,3250,3500,3750],\"y\":[0.6671206057071686,0.0383070707321167,0.03203767538070679,0.02164512872695923,0.02164512872695923,0.01815575361251831,0.01815575361251831,0.016189396381378174,0.016189396381378174,0.016189396381378174,0.016189396381378174,0.01567012071609497,0.015432298183441162,0.015432298183441162,0.015432298183441162,0.015432298183441162],\"type\":\"scatter\"},{\"marker\":{\"maxdisplayed\":10},\"mode\":\"lines+markers\",\"name\":\"Trial79\",\"x\":[0,250,500,750,1000,1250,1500,1750,2000,2250,2500,2750,3000,3250,3500,3750],\"y\":[0.666889488697052,0.17650139331817627,0.04929232597351074,0.024599850177764893,0.024599850177764893,0.024599850177764893,0.024599850177764893,0.024599850177764893,0.020275473594665527,0.020275473594665527,0.020275473594665527,0.017099857330322266,0.017099857330322266,0.016986429691314697,0.016986429691314697,0.016986429691314697],\"type\":\"scatter\"},{\"marker\":{\"maxdisplayed\":10},\"mode\":\"lines+markers\",\"name\":\"Trial80\",\"x\":[0,250,500,750,1000,1250,1500,1750,2000,2250,2500,2750,3000,3250,3500,3750],\"y\":[0.6668937802314758,0.15261393785476685,0.06818538904190063,0.0485004186630249,0.04430949687957764,0.03410452604293823,0.030231058597564697,0.024404048919677734,0.024404048919677734,0.02160036563873291,0.02160036563873291,0.021565914154052734,0.021565914154052734,0.021565914154052734,0.0187796950340271,0.018716812133789062],\"type\":\"scatter\"},{\"marker\":{\"maxdisplayed\":10},\"mode\":\"lines+markers\",\"name\":\"Trial81\",\"x\":[0,250,500,750,1000,1250,1500,1750,2000,2250,2500,2750,3000,3250,3500,3750],\"y\":[0.6594963073730469,0.05450177192687988,0.05450177192687988,0.024446606636047363,0.01906120777130127,0.01906120777130127,0.01906120777130127,0.01906120777130127,0.01906120777130127,0.01906120777130127,0.01906120777130127,0.01906120777130127,0.01906120777130127,0.01906120777130127,0.018149077892303467,0.018149077892303467],\"type\":\"scatter\"},{\"marker\":{\"maxdisplayed\":10},\"mode\":\"lines+markers\",\"name\":\"Trial82\",\"x\":[0,250,500,750,1000,1250,1500,1750,2000,2250,2500,2750,3000,3250,3500,3750],\"y\":[0.6636059284210205,0.20232510566711426,0.03423696756362915,0.025400221347808838,0.025400221347808838,0.018751859664916992,0.018751859664916992,0.018751859664916992,0.018751859664916992,0.018751859664916992,0.018751859664916992,0.018751859664916992,0.018751859664916992,0.018751859664916992,0.018751859664916992,0.018729686737060547],\"type\":\"scatter\"},{\"marker\":{\"maxdisplayed\":10},\"mode\":\"lines+markers\",\"name\":\"Trial83\",\"x\":[0,250,500,750,1000,1250,1500,1750,2000,2250,2500,2750,3000,3250,3500,3750],\"y\":[0.6669033765792847,0.18129205703735352,0.037982404232025146,0.028237581253051758,0.028237581253051758,0.021951019763946533,0.0203324556350708,0.0203324556350708,0.0203324556350708,0.0203324556350708,0.01950746774673462,0.019397974014282227,0.01755291223526001,0.01755291223526001,0.01755291223526001,0.01755291223526001],\"type\":\"scatter\"},{\"marker\":{\"maxdisplayed\":10},\"mode\":\"lines+markers\",\"name\":\"Trial84\",\"x\":[0,250,500,750,1000,1250,1500,1750,2000,2250,2500,2750,3000,3250,3500,3750],\"y\":[0.6668599247932434,0.03792482614517212,0.03792482614517212,0.028803467750549316,0.02144068479537964,0.02144068479537964,0.02144068479537964,0.01724708080291748,0.01630610227584839,0.01630610227584839,0.016190528869628906,0.016190528869628906,0.016190528869628906,0.016190528869628906,0.016190528869628906,0.016190528869628906],\"type\":\"scatter\"},{\"marker\":{\"maxdisplayed\":10},\"mode\":\"lines+markers\",\"name\":\"Trial85\",\"x\":[0,250,500,750,1000,1250,1500,1750,2000,2250,2500,2750,3000,3250,3500,3750],\"y\":[0.6668998301029205,0.0944286584854126,0.03803616762161255,0.028994619846343994,0.023123562335968018,0.023123562335968018,0.023123562335968018,0.023123562335968018,0.019175708293914795,0.019175708293914795,0.019175708293914795,0.019175708293914795,0.019175708293914795,0.019175708293914795,0.019175708293914795,0.019175708293914795],\"type\":\"scatter\"},{\"marker\":{\"maxdisplayed\":10},\"mode\":\"lines+markers\",\"name\":\"Trial86\",\"x\":[0,250,500,750,1000,1250,1500,1750,2000,2250,2500,2750,3000,3250,3500,3750],\"y\":[0.6669251620769501,0.10021597146987915,0.10021597146987915,0.02213507890701294,0.02078557014465332,0.017967522144317627,0.017967522144317627,0.017967522144317627,0.017967522144317627,0.017967522144317627,0.017152249813079834,0.017152249813079834,0.017152249813079834,0.017152249813079834,0.017005324363708496,0.017005324363708496],\"type\":\"scatter\"},{\"marker\":{\"maxdisplayed\":10},\"mode\":\"lines+markers\",\"name\":\"Trial87\",\"x\":[0,250,500,750,1000,1250,1500,1750,2000,2250,2500,2750,3000,3250,3500,3750],\"y\":[0.6495692729949951,0.4512638449668884,0.27756959199905396,0.21989375352859497,0.08351260423660278,0.08351260423660278,0.06820672750473022,0.05647480487823486,0.025368809700012207,0.025368809700012207,0.024609386920928955,0.02228492498397827,0.02228492498397827,0.02228492498397827,0.02228492498397827,0.021039962768554688],\"type\":\"scatter\"},{\"marker\":{\"maxdisplayed\":10},\"mode\":\"lines+markers\",\"name\":\"Trial88\",\"x\":[0,250,500,750,1000,1250,1500,1750,2000,2250,2500,2750,3000,3250,3500,3750],\"y\":[0.6673724353313446,0.10777217149734497,0.04332566261291504,0.024597227573394775,0.024597227573394775,0.024597227573394775,0.024347782135009766,0.024347782135009766,0.024347782135009766,0.024347782135009766,0.024347782135009766,0.023443877696990967,0.023443877696990967,0.023443877696990967,0.023443877696990967,0.02290964126586914],\"type\":\"scatter\"},{\"marker\":{\"maxdisplayed\":10},\"mode\":\"lines+markers\",\"name\":\"Trial89\",\"x\":[0,250,500,750,1000,1250,1500,1750,2000,2250,2500,2750,3000,3250,3500,3750],\"y\":[0.6668993234634399,0.11006855964660645,0.07698160409927368,0.027938425540924072,0.019716739654541016,0.019716739654541016,0.019716739654541016,0.019716739654541016,0.017472267150878906,0.017472267150878906,0.017472267150878906,0.017472267150878906,0.017472267150878906,0.017471015453338623,0.017471015453338623,0.017471015453338623],\"type\":\"scatter\"},{\"marker\":{\"maxdisplayed\":10},\"mode\":\"lines+markers\",\"name\":\"Trial90\",\"x\":[0,250,500,750,1000,1250,1500,1750,2000,2250,2500,2750,3000,3250,3500,3750],\"y\":[0.6669093370437622,0.14568489789962769,0.0875324010848999,0.03386557102203369,0.033486008644104004,0.022803664207458496,0.022803664207458496,0.022803664207458496,0.01844841241836548,0.01844841241836548,0.01844841241836548,0.01844841241836548,0.017824828624725342,0.017824828624725342,0.017824828624725342,0.017824828624725342],\"type\":\"scatter\"},{\"marker\":{\"maxdisplayed\":10},\"mode\":\"lines+markers\",\"name\":\"Trial91\",\"x\":[0,250,500,750,1000,1250,1500,1750,2000,2250,2500,2750,3000,3250,3500,3750],\"y\":[0.6641041338443756,0.03229469060897827,0.02613312005996704,0.02613312005996704,0.02056300640106201,0.02056300640106201,0.02056300640106201,0.02056300640106201,0.018854498863220215,0.018854498863220215,0.018854498863220215,0.018854498863220215,0.018854498863220215,0.018854498863220215,0.018854498863220215,0.018854498863220215],\"type\":\"scatter\"},{\"marker\":{\"maxdisplayed\":10},\"mode\":\"lines+markers\",\"name\":\"Trial92\",\"x\":[0,250,500,750,1000,1250,1500,1750,2000,2250,2500,2750,3000,3250,3500,3750],\"y\":[0.666992574930191,0.17606627941131592,0.027473747730255127,0.027473747730255127,0.02287524938583374,0.02287524938583374,0.02287524938583374,0.0193365216255188,0.0193365216255188,0.0193365216255188,0.0193365216255188,0.019290566444396973,0.019290566444396973,0.019290566444396973,0.019290566444396973,0.019290566444396973],\"type\":\"scatter\"},{\"marker\":{\"maxdisplayed\":10},\"mode\":\"lines+markers\",\"name\":\"Trial93\",\"x\":[0,250,500,750,1000,1250,1500,1750,2000,2250,2500,2750,3000,3250,3500,3750],\"y\":[0.6629601120948792,0.03686028718948364,0.024080395698547363,0.022228717803955078,0.022228717803955078,0.022228717803955078,0.020767033100128174,0.016435563564300537,0.016435563564300537,0.016435563564300537,0.016435563564300537,0.016435563564300537,0.016435563564300537,0.016435563564300537,0.016435563564300537,0.016435563564300537],\"type\":\"scatter\"},{\"marker\":{\"maxdisplayed\":10},\"mode\":\"lines+markers\",\"name\":\"Trial94\",\"x\":[0,250,500,750,1000,1250,1500,1750,2000,2250,2500,2750,3000,3250,3500,3750],\"y\":[0.625562459230423,0.05616152286529541,0.03526514768600464,0.017564117908477783,0.017564117908477783,0.01710587739944458,0.01710587739944458,0.01710587739944458,0.01710587739944458,0.01710587739944458,0.01710587739944458,0.01710587739944458,0.01710587739944458,0.01710587739944458,0.01710587739944458,0.01710587739944458],\"type\":\"scatter\"},{\"marker\":{\"maxdisplayed\":10},\"mode\":\"lines+markers\",\"name\":\"Trial95\",\"x\":[0,250,500,750,1000,1250,1500,1750,2000,2250,2500,2750,3000,3250,3500,3750],\"y\":[0.667553573846817,0.06757593154907227,0.03813338279724121,0.03813338279724121,0.025317251682281494,0.025317251682281494,0.022984981536865234,0.022984981536865234,0.02110004425048828,0.02110004425048828,0.019168078899383545,0.019168078899383545,0.018757998943328857,0.018757998943328857,0.018757998943328857,0.018757998943328857],\"type\":\"scatter\"},{\"marker\":{\"maxdisplayed\":10},\"mode\":\"lines+markers\",\"name\":\"Trial96\",\"x\":[0,250,500,750,1000,1250,1500,1750,2000,2250,2500,2750,3000,3250,3500,3750],\"y\":[0.6669122874736786,0.03307831287384033,0.02320796251296997,0.02320796251296997,0.02320796251296997,0.019427359104156494,0.018492460250854492,0.018492460250854492,0.018492460250854492,0.018492460250854492,0.018492460250854492,0.018492460250854492,0.018492460250854492,0.01766836643218994,0.01766836643218994,0.01766836643218994],\"type\":\"scatter\"},{\"marker\":{\"maxdisplayed\":10},\"mode\":\"lines+markers\",\"name\":\"Trial97\",\"x\":[0,250,500,750,1000,1250,1500,1750,2000,2250,2500,2750,3000,3250,3500,3750],\"y\":[0.6668749451637268,0.38280725479125977,0.02696835994720459,0.02696835994720459,0.019107937812805176,0.017138302326202393,0.017138302326202393,0.017138302326202393,0.017138302326202393,0.017138302326202393,0.016545653343200684,0.016545653343200684,0.016545653343200684,0.016545653343200684,0.016545653343200684,0.016545653343200684],\"type\":\"scatter\"},{\"marker\":{\"maxdisplayed\":10},\"mode\":\"lines+markers\",\"name\":\"Trial98\",\"x\":[0,250,500,750,1000,1250,1500,1750,2000,2250,2500,2750,3000,3250,3500,3750],\"y\":[0.6713098883628845,0.6649885475635529,0.6611263751983643,0.6416496634483337,0.5565651059150696,0.2236332893371582,0.04771679639816284,0.028310775756835938,0.02433568239212036,0.02311474084854126,0.022514760494232178,0.022514760494232178,0.022514760494232178,0.022514760494232178,0.022514760494232178,0.022514760494232178],\"type\":\"scatter\"},{\"marker\":{\"maxdisplayed\":10},\"mode\":\"lines+markers\",\"name\":\"Trial99\",\"x\":[0,250,500,750,1000,1250,1500,1750,2000,2250,2500,2750,3000,3250,3500,3750],\"y\":[0.6671253144741058,0.037007033824920654,0.037007033824920654,0.02331984043121338,0.020097732543945312,0.020097732543945312,0.020097732543945312,0.020097732543945312,0.020097732543945312,0.020097732543945312,0.020097732543945312,0.019033968448638916,0.01866316795349121,0.01866316795349121,0.01866316795349121,0.01866316795349121],\"type\":\"scatter\"}],                        {\"showlegend\":false,\"title\":{\"text\":\"Intermediate Values Plot\"},\"xaxis\":{\"title\":{\"text\":\"Step\"}},\"yaxis\":{\"title\":{\"text\":\"Intermediate Value\"}},\"template\":{\"data\":{\"histogram2dcontour\":[{\"type\":\"histogram2dcontour\",\"colorbar\":{\"outlinewidth\":0,\"ticks\":\"\"},\"colorscale\":[[0.0,\"#0d0887\"],[0.1111111111111111,\"#46039f\"],[0.2222222222222222,\"#7201a8\"],[0.3333333333333333,\"#9c179e\"],[0.4444444444444444,\"#bd3786\"],[0.5555555555555556,\"#d8576b\"],[0.6666666666666666,\"#ed7953\"],[0.7777777777777778,\"#fb9f3a\"],[0.8888888888888888,\"#fdca26\"],[1.0,\"#f0f921\"]]}],\"choropleth\":[{\"type\":\"choropleth\",\"colorbar\":{\"outlinewidth\":0,\"ticks\":\"\"}}],\"histogram2d\":[{\"type\":\"histogram2d\",\"colorbar\":{\"outlinewidth\":0,\"ticks\":\"\"},\"colorscale\":[[0.0,\"#0d0887\"],[0.1111111111111111,\"#46039f\"],[0.2222222222222222,\"#7201a8\"],[0.3333333333333333,\"#9c179e\"],[0.4444444444444444,\"#bd3786\"],[0.5555555555555556,\"#d8576b\"],[0.6666666666666666,\"#ed7953\"],[0.7777777777777778,\"#fb9f3a\"],[0.8888888888888888,\"#fdca26\"],[1.0,\"#f0f921\"]]}],\"heatmap\":[{\"type\":\"heatmap\",\"colorbar\":{\"outlinewidth\":0,\"ticks\":\"\"},\"colorscale\":[[0.0,\"#0d0887\"],[0.1111111111111111,\"#46039f\"],[0.2222222222222222,\"#7201a8\"],[0.3333333333333333,\"#9c179e\"],[0.4444444444444444,\"#bd3786\"],[0.5555555555555556,\"#d8576b\"],[0.6666666666666666,\"#ed7953\"],[0.7777777777777778,\"#fb9f3a\"],[0.8888888888888888,\"#fdca26\"],[1.0,\"#f0f921\"]]}],\"heatmapgl\":[{\"type\":\"heatmapgl\",\"colorbar\":{\"outlinewidth\":0,\"ticks\":\"\"},\"colorscale\":[[0.0,\"#0d0887\"],[0.1111111111111111,\"#46039f\"],[0.2222222222222222,\"#7201a8\"],[0.3333333333333333,\"#9c179e\"],[0.4444444444444444,\"#bd3786\"],[0.5555555555555556,\"#d8576b\"],[0.6666666666666666,\"#ed7953\"],[0.7777777777777778,\"#fb9f3a\"],[0.8888888888888888,\"#fdca26\"],[1.0,\"#f0f921\"]]}],\"contourcarpet\":[{\"type\":\"contourcarpet\",\"colorbar\":{\"outlinewidth\":0,\"ticks\":\"\"}}],\"contour\":[{\"type\":\"contour\",\"colorbar\":{\"outlinewidth\":0,\"ticks\":\"\"},\"colorscale\":[[0.0,\"#0d0887\"],[0.1111111111111111,\"#46039f\"],[0.2222222222222222,\"#7201a8\"],[0.3333333333333333,\"#9c179e\"],[0.4444444444444444,\"#bd3786\"],[0.5555555555555556,\"#d8576b\"],[0.6666666666666666,\"#ed7953\"],[0.7777777777777778,\"#fb9f3a\"],[0.8888888888888888,\"#fdca26\"],[1.0,\"#f0f921\"]]}],\"surface\":[{\"type\":\"surface\",\"colorbar\":{\"outlinewidth\":0,\"ticks\":\"\"},\"colorscale\":[[0.0,\"#0d0887\"],[0.1111111111111111,\"#46039f\"],[0.2222222222222222,\"#7201a8\"],[0.3333333333333333,\"#9c179e\"],[0.4444444444444444,\"#bd3786\"],[0.5555555555555556,\"#d8576b\"],[0.6666666666666666,\"#ed7953\"],[0.7777777777777778,\"#fb9f3a\"],[0.8888888888888888,\"#fdca26\"],[1.0,\"#f0f921\"]]}],\"mesh3d\":[{\"type\":\"mesh3d\",\"colorbar\":{\"outlinewidth\":0,\"ticks\":\"\"}}],\"scatter\":[{\"fillpattern\":{\"fillmode\":\"overlay\",\"size\":10,\"solidity\":0.2},\"type\":\"scatter\"}],\"parcoords\":[{\"type\":\"parcoords\",\"line\":{\"colorbar\":{\"outlinewidth\":0,\"ticks\":\"\"}}}],\"scatterpolargl\":[{\"type\":\"scatterpolargl\",\"marker\":{\"colorbar\":{\"outlinewidth\":0,\"ticks\":\"\"}}}],\"bar\":[{\"error_x\":{\"color\":\"#2a3f5f\"},\"error_y\":{\"color\":\"#2a3f5f\"},\"marker\":{\"line\":{\"color\":\"#E5ECF6\",\"width\":0.5},\"pattern\":{\"fillmode\":\"overlay\",\"size\":10,\"solidity\":0.2}},\"type\":\"bar\"}],\"scattergeo\":[{\"type\":\"scattergeo\",\"marker\":{\"colorbar\":{\"outlinewidth\":0,\"ticks\":\"\"}}}],\"scatterpolar\":[{\"type\":\"scatterpolar\",\"marker\":{\"colorbar\":{\"outlinewidth\":0,\"ticks\":\"\"}}}],\"histogram\":[{\"marker\":{\"pattern\":{\"fillmode\":\"overlay\",\"size\":10,\"solidity\":0.2}},\"type\":\"histogram\"}],\"scattergl\":[{\"type\":\"scattergl\",\"marker\":{\"colorbar\":{\"outlinewidth\":0,\"ticks\":\"\"}}}],\"scatter3d\":[{\"type\":\"scatter3d\",\"line\":{\"colorbar\":{\"outlinewidth\":0,\"ticks\":\"\"}},\"marker\":{\"colorbar\":{\"outlinewidth\":0,\"ticks\":\"\"}}}],\"scattermapbox\":[{\"type\":\"scattermapbox\",\"marker\":{\"colorbar\":{\"outlinewidth\":0,\"ticks\":\"\"}}}],\"scatterternary\":[{\"type\":\"scatterternary\",\"marker\":{\"colorbar\":{\"outlinewidth\":0,\"ticks\":\"\"}}}],\"scattercarpet\":[{\"type\":\"scattercarpet\",\"marker\":{\"colorbar\":{\"outlinewidth\":0,\"ticks\":\"\"}}}],\"carpet\":[{\"aaxis\":{\"endlinecolor\":\"#2a3f5f\",\"gridcolor\":\"white\",\"linecolor\":\"white\",\"minorgridcolor\":\"white\",\"startlinecolor\":\"#2a3f5f\"},\"baxis\":{\"endlinecolor\":\"#2a3f5f\",\"gridcolor\":\"white\",\"linecolor\":\"white\",\"minorgridcolor\":\"white\",\"startlinecolor\":\"#2a3f5f\"},\"type\":\"carpet\"}],\"table\":[{\"cells\":{\"fill\":{\"color\":\"#EBF0F8\"},\"line\":{\"color\":\"white\"}},\"header\":{\"fill\":{\"color\":\"#C8D4E3\"},\"line\":{\"color\":\"white\"}},\"type\":\"table\"}],\"barpolar\":[{\"marker\":{\"line\":{\"color\":\"#E5ECF6\",\"width\":0.5},\"pattern\":{\"fillmode\":\"overlay\",\"size\":10,\"solidity\":0.2}},\"type\":\"barpolar\"}],\"pie\":[{\"automargin\":true,\"type\":\"pie\"}]},\"layout\":{\"autotypenumbers\":\"strict\",\"colorway\":[\"#636efa\",\"#EF553B\",\"#00cc96\",\"#ab63fa\",\"#FFA15A\",\"#19d3f3\",\"#FF6692\",\"#B6E880\",\"#FF97FF\",\"#FECB52\"],\"font\":{\"color\":\"#2a3f5f\"},\"hovermode\":\"closest\",\"hoverlabel\":{\"align\":\"left\"},\"paper_bgcolor\":\"white\",\"plot_bgcolor\":\"#E5ECF6\",\"polar\":{\"bgcolor\":\"#E5ECF6\",\"angularaxis\":{\"gridcolor\":\"white\",\"linecolor\":\"white\",\"ticks\":\"\"},\"radialaxis\":{\"gridcolor\":\"white\",\"linecolor\":\"white\",\"ticks\":\"\"}},\"ternary\":{\"bgcolor\":\"#E5ECF6\",\"aaxis\":{\"gridcolor\":\"white\",\"linecolor\":\"white\",\"ticks\":\"\"},\"baxis\":{\"gridcolor\":\"white\",\"linecolor\":\"white\",\"ticks\":\"\"},\"caxis\":{\"gridcolor\":\"white\",\"linecolor\":\"white\",\"ticks\":\"\"}},\"coloraxis\":{\"colorbar\":{\"outlinewidth\":0,\"ticks\":\"\"}},\"colorscale\":{\"sequential\":[[0.0,\"#0d0887\"],[0.1111111111111111,\"#46039f\"],[0.2222222222222222,\"#7201a8\"],[0.3333333333333333,\"#9c179e\"],[0.4444444444444444,\"#bd3786\"],[0.5555555555555556,\"#d8576b\"],[0.6666666666666666,\"#ed7953\"],[0.7777777777777778,\"#fb9f3a\"],[0.8888888888888888,\"#fdca26\"],[1.0,\"#f0f921\"]],\"sequentialminus\":[[0.0,\"#0d0887\"],[0.1111111111111111,\"#46039f\"],[0.2222222222222222,\"#7201a8\"],[0.3333333333333333,\"#9c179e\"],[0.4444444444444444,\"#bd3786\"],[0.5555555555555556,\"#d8576b\"],[0.6666666666666666,\"#ed7953\"],[0.7777777777777778,\"#fb9f3a\"],[0.8888888888888888,\"#fdca26\"],[1.0,\"#f0f921\"]],\"diverging\":[[0,\"#8e0152\"],[0.1,\"#c51b7d\"],[0.2,\"#de77ae\"],[0.3,\"#f1b6da\"],[0.4,\"#fde0ef\"],[0.5,\"#f7f7f7\"],[0.6,\"#e6f5d0\"],[0.7,\"#b8e186\"],[0.8,\"#7fbc41\"],[0.9,\"#4d9221\"],[1,\"#276419\"]]},\"xaxis\":{\"gridcolor\":\"white\",\"linecolor\":\"white\",\"ticks\":\"\",\"title\":{\"standoff\":15},\"zerolinecolor\":\"white\",\"automargin\":true,\"zerolinewidth\":2},\"yaxis\":{\"gridcolor\":\"white\",\"linecolor\":\"white\",\"ticks\":\"\",\"title\":{\"standoff\":15},\"zerolinecolor\":\"white\",\"automargin\":true,\"zerolinewidth\":2},\"scene\":{\"xaxis\":{\"backgroundcolor\":\"#E5ECF6\",\"gridcolor\":\"white\",\"linecolor\":\"white\",\"showbackground\":true,\"ticks\":\"\",\"zerolinecolor\":\"white\",\"gridwidth\":2},\"yaxis\":{\"backgroundcolor\":\"#E5ECF6\",\"gridcolor\":\"white\",\"linecolor\":\"white\",\"showbackground\":true,\"ticks\":\"\",\"zerolinecolor\":\"white\",\"gridwidth\":2},\"zaxis\":{\"backgroundcolor\":\"#E5ECF6\",\"gridcolor\":\"white\",\"linecolor\":\"white\",\"showbackground\":true,\"ticks\":\"\",\"zerolinecolor\":\"white\",\"gridwidth\":2}},\"shapedefaults\":{\"line\":{\"color\":\"#2a3f5f\"}},\"annotationdefaults\":{\"arrowcolor\":\"#2a3f5f\",\"arrowhead\":0,\"arrowwidth\":1},\"geo\":{\"bgcolor\":\"white\",\"landcolor\":\"#E5ECF6\",\"subunitcolor\":\"white\",\"showland\":true,\"showlakes\":true,\"lakecolor\":\"white\"},\"title\":{\"x\":0.05},\"mapbox\":{\"style\":\"light\"}}}},                        {\"responsive\": true}                    ).then(function(){\n",
       "                            \n",
       "var gd = document.getElementById('9a118d56-3635-4aef-93e2-1c42366e7862');\n",
       "var x = new MutationObserver(function (mutations, observer) {{\n",
       "        var display = window.getComputedStyle(gd).display;\n",
       "        if (!display || display === 'none') {{\n",
       "            console.log([gd, 'removed!']);\n",
       "            Plotly.purge(gd);\n",
       "            observer.disconnect();\n",
       "        }}\n",
       "}});\n",
       "\n",
       "// Listen for the removal of the full notebook cells\n",
       "var notebookContainer = gd.closest('#notebook-container');\n",
       "if (notebookContainer) {{\n",
       "    x.observe(notebookContainer, {childList: true});\n",
       "}}\n",
       "\n",
       "// Listen for the clearing of the current output cell\n",
       "var outputEl = gd.closest('.output');\n",
       "if (outputEl) {{\n",
       "    x.observe(outputEl, {childList: true});\n",
       "}}\n",
       "\n",
       "                        })                };                });            </script>        </div>"
      ]
     },
     "metadata": {},
     "output_type": "display_data"
    }
   ],
   "source": [
    "optuna.visualization.plot_intermediate_values(study)"
   ]
  },
  {
   "attachments": {},
   "cell_type": "markdown",
   "metadata": {},
   "source": [
    "# Parallel coordinate plot"
   ]
  },
  {
   "cell_type": "code",
   "execution_count": 32,
   "metadata": {
    "scrolled": false
   },
   "outputs": [
    {
     "data": {
      "application/vnd.plotly.v1+json": {
       "config": {
        "plotlyServerURL": "https://plot.ly"
       },
       "data": [
        {
         "dimensions": [
          {
           "label": "Objective Value",
           "range": [
            0.015432298183441162,
            0.5816274583339691
           ],
           "values": [
            0.0495525598526001,
            0.05263876914978027,
            0.13928735256195068,
            0.07459932565689087,
            0.021068453788757324,
            0.5578498244285583,
            0.1147734522819519,
            0.5816274583339691,
            0.025217950344085693,
            0.023562967777252197,
            0.018257975578308105,
            0.01891958713531494,
            0.018514037132263184,
            0.0212898850440979,
            0.02044922113418579,
            0.02251911163330078,
            0.023686528205871582,
            0.125626802444458,
            0.019521117210388184,
            0.019025981426239014,
            0.021994471549987793,
            0.018754303455352783,
            0.017557859420776367,
            0.019997894763946533,
            0.02119213342666626,
            0.021356403827667236,
            0.017502546310424805,
            0.018216371536254883,
            0.023171305656433105,
            0.022056281566619873,
            0.02110224962234497,
            0.017410576343536377,
            0.019484221935272217,
            0.020790040493011475,
            0.11862140893936157,
            0.022608816623687744,
            0.01857966184616089,
            0.016635537147521973,
            0.34778892993927,
            0.01701122522354126,
            0.01956915855407715,
            0.017308354377746582,
            0.016974031925201416,
            0.017678797245025635,
            0.01875293254852295,
            0.019313573837280273,
            0.018069028854370117,
            0.017033398151397705,
            0.021504104137420654,
            0.018155038356781006,
            0.01858919858932495,
            0.0186578631401062,
            0.01748567819595337,
            0.01717090606689453,
            0.02748626470565796,
            0.021634280681610107,
            0.017608821392059326,
            0.018077731132507324,
            0.015880465507507324,
            0.02036350965499878,
            0.018354177474975586,
            0.018104493618011475,
            0.017974853515625,
            0.019441723823547363,
            0.017419874668121338,
            0.023507654666900635,
            0.01762157678604126,
            0.017135024070739746,
            0.016651511192321777,
            0.0190085768699646,
            0.0177304744720459,
            0.01685410737991333,
            0.01812654733657837,
            0.018880844116210938,
            0.01824551820755005,
            0.01781708002090454,
            0.017528235912322998,
            0.017611324787139893,
            0.015432298183441162,
            0.016986429691314697,
            0.018716812133789062,
            0.018149077892303467,
            0.018729686737060547,
            0.01755291223526001,
            0.016190528869628906,
            0.019175708293914795,
            0.017005324363708496,
            0.021039962768554688,
            0.02290964126586914,
            0.017471015453338623,
            0.017824828624725342,
            0.018854498863220215,
            0.019290566444396973,
            0.016435563564300537,
            0.01710587739944458,
            0.018757998943328857,
            0.01766836643218994,
            0.016545653343200684,
            0.022514760494232178,
            0.01866316795349121
           ]
          },
          {
           "label": "LIST_LLLR_VERSION",
           "range": [
            0,
            1
           ],
           "ticktext": [
            "LSEL",
            "LLLR"
           ],
           "tickvals": [
            0,
            1
           ],
           "values": [
            0,
            1,
            1,
            0,
            1,
            0,
            0,
            1,
            1,
            0,
            1,
            1,
            1,
            1,
            1,
            1,
            1,
            1,
            1,
            1,
            1,
            1,
            1,
            1,
            1,
            1,
            0,
            0,
            0,
            0,
            0,
            0,
            0,
            0,
            0,
            0,
            0,
            0,
            0,
            0,
            0,
            0,
            0,
            0,
            0,
            0,
            0,
            0,
            0,
            0,
            0,
            0,
            0,
            0,
            0,
            0,
            0,
            0,
            0,
            0,
            0,
            0,
            0,
            0,
            0,
            0,
            0,
            0,
            0,
            0,
            0,
            0,
            0,
            0,
            0,
            0,
            0,
            0,
            0,
            0,
            0,
            0,
            0,
            0,
            0,
            0,
            0,
            0,
            0,
            0,
            1,
            0,
            0,
            0,
            0,
            0,
            0,
            0,
            0,
            0
           ]
          }
         ],
         "labelangle": 30,
         "labelside": "bottom",
         "line": {
          "color": [
           0.0495525598526001,
           0.05263876914978027,
           0.13928735256195068,
           0.07459932565689087,
           0.021068453788757324,
           0.5578498244285583,
           0.1147734522819519,
           0.5816274583339691,
           0.025217950344085693,
           0.023562967777252197,
           0.018257975578308105,
           0.01891958713531494,
           0.018514037132263184,
           0.0212898850440979,
           0.02044922113418579,
           0.02251911163330078,
           0.023686528205871582,
           0.125626802444458,
           0.019521117210388184,
           0.019025981426239014,
           0.021994471549987793,
           0.018754303455352783,
           0.017557859420776367,
           0.019997894763946533,
           0.02119213342666626,
           0.021356403827667236,
           0.017502546310424805,
           0.018216371536254883,
           0.023171305656433105,
           0.022056281566619873,
           0.02110224962234497,
           0.017410576343536377,
           0.019484221935272217,
           0.020790040493011475,
           0.11862140893936157,
           0.022608816623687744,
           0.01857966184616089,
           0.016635537147521973,
           0.34778892993927,
           0.01701122522354126,
           0.01956915855407715,
           0.017308354377746582,
           0.016974031925201416,
           0.017678797245025635,
           0.01875293254852295,
           0.019313573837280273,
           0.018069028854370117,
           0.017033398151397705,
           0.021504104137420654,
           0.018155038356781006,
           0.01858919858932495,
           0.0186578631401062,
           0.01748567819595337,
           0.01717090606689453,
           0.02748626470565796,
           0.021634280681610107,
           0.017608821392059326,
           0.018077731132507324,
           0.015880465507507324,
           0.02036350965499878,
           0.018354177474975586,
           0.018104493618011475,
           0.017974853515625,
           0.019441723823547363,
           0.017419874668121338,
           0.023507654666900635,
           0.01762157678604126,
           0.017135024070739746,
           0.016651511192321777,
           0.0190085768699646,
           0.0177304744720459,
           0.01685410737991333,
           0.01812654733657837,
           0.018880844116210938,
           0.01824551820755005,
           0.01781708002090454,
           0.017528235912322998,
           0.017611324787139893,
           0.015432298183441162,
           0.016986429691314697,
           0.018716812133789062,
           0.018149077892303467,
           0.018729686737060547,
           0.01755291223526001,
           0.016190528869628906,
           0.019175708293914795,
           0.017005324363708496,
           0.021039962768554688,
           0.02290964126586914,
           0.017471015453338623,
           0.017824828624725342,
           0.018854498863220215,
           0.019290566444396973,
           0.016435563564300537,
           0.01710587739944458,
           0.018757998943328857,
           0.01766836643218994,
           0.016545653343200684,
           0.022514760494232178,
           0.01866316795349121
          ],
          "colorbar": {
           "title": {
            "text": "Objective Value"
           }
          },
          "colorscale": [
           [
            0,
            "rgb(247,251,255)"
           ],
           [
            0.125,
            "rgb(222,235,247)"
           ],
           [
            0.25,
            "rgb(198,219,239)"
           ],
           [
            0.375,
            "rgb(158,202,225)"
           ],
           [
            0.5,
            "rgb(107,174,214)"
           ],
           [
            0.625,
            "rgb(66,146,198)"
           ],
           [
            0.75,
            "rgb(33,113,181)"
           ],
           [
            0.875,
            "rgb(8,81,156)"
           ],
           [
            1,
            "rgb(8,48,107)"
           ]
          ],
          "reversescale": true,
          "showscale": true
         },
         "type": "parcoords"
        }
       ],
       "layout": {
        "template": {
         "data": {
          "bar": [
           {
            "error_x": {
             "color": "#2a3f5f"
            },
            "error_y": {
             "color": "#2a3f5f"
            },
            "marker": {
             "line": {
              "color": "#E5ECF6",
              "width": 0.5
             },
             "pattern": {
              "fillmode": "overlay",
              "size": 10,
              "solidity": 0.2
             }
            },
            "type": "bar"
           }
          ],
          "barpolar": [
           {
            "marker": {
             "line": {
              "color": "#E5ECF6",
              "width": 0.5
             },
             "pattern": {
              "fillmode": "overlay",
              "size": 10,
              "solidity": 0.2
             }
            },
            "type": "barpolar"
           }
          ],
          "carpet": [
           {
            "aaxis": {
             "endlinecolor": "#2a3f5f",
             "gridcolor": "white",
             "linecolor": "white",
             "minorgridcolor": "white",
             "startlinecolor": "#2a3f5f"
            },
            "baxis": {
             "endlinecolor": "#2a3f5f",
             "gridcolor": "white",
             "linecolor": "white",
             "minorgridcolor": "white",
             "startlinecolor": "#2a3f5f"
            },
            "type": "carpet"
           }
          ],
          "choropleth": [
           {
            "colorbar": {
             "outlinewidth": 0,
             "ticks": ""
            },
            "type": "choropleth"
           }
          ],
          "contour": [
           {
            "colorbar": {
             "outlinewidth": 0,
             "ticks": ""
            },
            "colorscale": [
             [
              0,
              "#0d0887"
             ],
             [
              0.1111111111111111,
              "#46039f"
             ],
             [
              0.2222222222222222,
              "#7201a8"
             ],
             [
              0.3333333333333333,
              "#9c179e"
             ],
             [
              0.4444444444444444,
              "#bd3786"
             ],
             [
              0.5555555555555556,
              "#d8576b"
             ],
             [
              0.6666666666666666,
              "#ed7953"
             ],
             [
              0.7777777777777778,
              "#fb9f3a"
             ],
             [
              0.8888888888888888,
              "#fdca26"
             ],
             [
              1,
              "#f0f921"
             ]
            ],
            "type": "contour"
           }
          ],
          "contourcarpet": [
           {
            "colorbar": {
             "outlinewidth": 0,
             "ticks": ""
            },
            "type": "contourcarpet"
           }
          ],
          "heatmap": [
           {
            "colorbar": {
             "outlinewidth": 0,
             "ticks": ""
            },
            "colorscale": [
             [
              0,
              "#0d0887"
             ],
             [
              0.1111111111111111,
              "#46039f"
             ],
             [
              0.2222222222222222,
              "#7201a8"
             ],
             [
              0.3333333333333333,
              "#9c179e"
             ],
             [
              0.4444444444444444,
              "#bd3786"
             ],
             [
              0.5555555555555556,
              "#d8576b"
             ],
             [
              0.6666666666666666,
              "#ed7953"
             ],
             [
              0.7777777777777778,
              "#fb9f3a"
             ],
             [
              0.8888888888888888,
              "#fdca26"
             ],
             [
              1,
              "#f0f921"
             ]
            ],
            "type": "heatmap"
           }
          ],
          "heatmapgl": [
           {
            "colorbar": {
             "outlinewidth": 0,
             "ticks": ""
            },
            "colorscale": [
             [
              0,
              "#0d0887"
             ],
             [
              0.1111111111111111,
              "#46039f"
             ],
             [
              0.2222222222222222,
              "#7201a8"
             ],
             [
              0.3333333333333333,
              "#9c179e"
             ],
             [
              0.4444444444444444,
              "#bd3786"
             ],
             [
              0.5555555555555556,
              "#d8576b"
             ],
             [
              0.6666666666666666,
              "#ed7953"
             ],
             [
              0.7777777777777778,
              "#fb9f3a"
             ],
             [
              0.8888888888888888,
              "#fdca26"
             ],
             [
              1,
              "#f0f921"
             ]
            ],
            "type": "heatmapgl"
           }
          ],
          "histogram": [
           {
            "marker": {
             "pattern": {
              "fillmode": "overlay",
              "size": 10,
              "solidity": 0.2
             }
            },
            "type": "histogram"
           }
          ],
          "histogram2d": [
           {
            "colorbar": {
             "outlinewidth": 0,
             "ticks": ""
            },
            "colorscale": [
             [
              0,
              "#0d0887"
             ],
             [
              0.1111111111111111,
              "#46039f"
             ],
             [
              0.2222222222222222,
              "#7201a8"
             ],
             [
              0.3333333333333333,
              "#9c179e"
             ],
             [
              0.4444444444444444,
              "#bd3786"
             ],
             [
              0.5555555555555556,
              "#d8576b"
             ],
             [
              0.6666666666666666,
              "#ed7953"
             ],
             [
              0.7777777777777778,
              "#fb9f3a"
             ],
             [
              0.8888888888888888,
              "#fdca26"
             ],
             [
              1,
              "#f0f921"
             ]
            ],
            "type": "histogram2d"
           }
          ],
          "histogram2dcontour": [
           {
            "colorbar": {
             "outlinewidth": 0,
             "ticks": ""
            },
            "colorscale": [
             [
              0,
              "#0d0887"
             ],
             [
              0.1111111111111111,
              "#46039f"
             ],
             [
              0.2222222222222222,
              "#7201a8"
             ],
             [
              0.3333333333333333,
              "#9c179e"
             ],
             [
              0.4444444444444444,
              "#bd3786"
             ],
             [
              0.5555555555555556,
              "#d8576b"
             ],
             [
              0.6666666666666666,
              "#ed7953"
             ],
             [
              0.7777777777777778,
              "#fb9f3a"
             ],
             [
              0.8888888888888888,
              "#fdca26"
             ],
             [
              1,
              "#f0f921"
             ]
            ],
            "type": "histogram2dcontour"
           }
          ],
          "mesh3d": [
           {
            "colorbar": {
             "outlinewidth": 0,
             "ticks": ""
            },
            "type": "mesh3d"
           }
          ],
          "parcoords": [
           {
            "line": {
             "colorbar": {
              "outlinewidth": 0,
              "ticks": ""
             }
            },
            "type": "parcoords"
           }
          ],
          "pie": [
           {
            "automargin": true,
            "type": "pie"
           }
          ],
          "scatter": [
           {
            "fillpattern": {
             "fillmode": "overlay",
             "size": 10,
             "solidity": 0.2
            },
            "type": "scatter"
           }
          ],
          "scatter3d": [
           {
            "line": {
             "colorbar": {
              "outlinewidth": 0,
              "ticks": ""
             }
            },
            "marker": {
             "colorbar": {
              "outlinewidth": 0,
              "ticks": ""
             }
            },
            "type": "scatter3d"
           }
          ],
          "scattercarpet": [
           {
            "marker": {
             "colorbar": {
              "outlinewidth": 0,
              "ticks": ""
             }
            },
            "type": "scattercarpet"
           }
          ],
          "scattergeo": [
           {
            "marker": {
             "colorbar": {
              "outlinewidth": 0,
              "ticks": ""
             }
            },
            "type": "scattergeo"
           }
          ],
          "scattergl": [
           {
            "marker": {
             "colorbar": {
              "outlinewidth": 0,
              "ticks": ""
             }
            },
            "type": "scattergl"
           }
          ],
          "scattermapbox": [
           {
            "marker": {
             "colorbar": {
              "outlinewidth": 0,
              "ticks": ""
             }
            },
            "type": "scattermapbox"
           }
          ],
          "scatterpolar": [
           {
            "marker": {
             "colorbar": {
              "outlinewidth": 0,
              "ticks": ""
             }
            },
            "type": "scatterpolar"
           }
          ],
          "scatterpolargl": [
           {
            "marker": {
             "colorbar": {
              "outlinewidth": 0,
              "ticks": ""
             }
            },
            "type": "scatterpolargl"
           }
          ],
          "scatterternary": [
           {
            "marker": {
             "colorbar": {
              "outlinewidth": 0,
              "ticks": ""
             }
            },
            "type": "scatterternary"
           }
          ],
          "surface": [
           {
            "colorbar": {
             "outlinewidth": 0,
             "ticks": ""
            },
            "colorscale": [
             [
              0,
              "#0d0887"
             ],
             [
              0.1111111111111111,
              "#46039f"
             ],
             [
              0.2222222222222222,
              "#7201a8"
             ],
             [
              0.3333333333333333,
              "#9c179e"
             ],
             [
              0.4444444444444444,
              "#bd3786"
             ],
             [
              0.5555555555555556,
              "#d8576b"
             ],
             [
              0.6666666666666666,
              "#ed7953"
             ],
             [
              0.7777777777777778,
              "#fb9f3a"
             ],
             [
              0.8888888888888888,
              "#fdca26"
             ],
             [
              1,
              "#f0f921"
             ]
            ],
            "type": "surface"
           }
          ],
          "table": [
           {
            "cells": {
             "fill": {
              "color": "#EBF0F8"
             },
             "line": {
              "color": "white"
             }
            },
            "header": {
             "fill": {
              "color": "#C8D4E3"
             },
             "line": {
              "color": "white"
             }
            },
            "type": "table"
           }
          ]
         },
         "layout": {
          "annotationdefaults": {
           "arrowcolor": "#2a3f5f",
           "arrowhead": 0,
           "arrowwidth": 1
          },
          "autotypenumbers": "strict",
          "coloraxis": {
           "colorbar": {
            "outlinewidth": 0,
            "ticks": ""
           }
          },
          "colorscale": {
           "diverging": [
            [
             0,
             "#8e0152"
            ],
            [
             0.1,
             "#c51b7d"
            ],
            [
             0.2,
             "#de77ae"
            ],
            [
             0.3,
             "#f1b6da"
            ],
            [
             0.4,
             "#fde0ef"
            ],
            [
             0.5,
             "#f7f7f7"
            ],
            [
             0.6,
             "#e6f5d0"
            ],
            [
             0.7,
             "#b8e186"
            ],
            [
             0.8,
             "#7fbc41"
            ],
            [
             0.9,
             "#4d9221"
            ],
            [
             1,
             "#276419"
            ]
           ],
           "sequential": [
            [
             0,
             "#0d0887"
            ],
            [
             0.1111111111111111,
             "#46039f"
            ],
            [
             0.2222222222222222,
             "#7201a8"
            ],
            [
             0.3333333333333333,
             "#9c179e"
            ],
            [
             0.4444444444444444,
             "#bd3786"
            ],
            [
             0.5555555555555556,
             "#d8576b"
            ],
            [
             0.6666666666666666,
             "#ed7953"
            ],
            [
             0.7777777777777778,
             "#fb9f3a"
            ],
            [
             0.8888888888888888,
             "#fdca26"
            ],
            [
             1,
             "#f0f921"
            ]
           ],
           "sequentialminus": [
            [
             0,
             "#0d0887"
            ],
            [
             0.1111111111111111,
             "#46039f"
            ],
            [
             0.2222222222222222,
             "#7201a8"
            ],
            [
             0.3333333333333333,
             "#9c179e"
            ],
            [
             0.4444444444444444,
             "#bd3786"
            ],
            [
             0.5555555555555556,
             "#d8576b"
            ],
            [
             0.6666666666666666,
             "#ed7953"
            ],
            [
             0.7777777777777778,
             "#fb9f3a"
            ],
            [
             0.8888888888888888,
             "#fdca26"
            ],
            [
             1,
             "#f0f921"
            ]
           ]
          },
          "colorway": [
           "#636efa",
           "#EF553B",
           "#00cc96",
           "#ab63fa",
           "#FFA15A",
           "#19d3f3",
           "#FF6692",
           "#B6E880",
           "#FF97FF",
           "#FECB52"
          ],
          "font": {
           "color": "#2a3f5f"
          },
          "geo": {
           "bgcolor": "white",
           "lakecolor": "white",
           "landcolor": "#E5ECF6",
           "showlakes": true,
           "showland": true,
           "subunitcolor": "white"
          },
          "hoverlabel": {
           "align": "left"
          },
          "hovermode": "closest",
          "mapbox": {
           "style": "light"
          },
          "paper_bgcolor": "white",
          "plot_bgcolor": "#E5ECF6",
          "polar": {
           "angularaxis": {
            "gridcolor": "white",
            "linecolor": "white",
            "ticks": ""
           },
           "bgcolor": "#E5ECF6",
           "radialaxis": {
            "gridcolor": "white",
            "linecolor": "white",
            "ticks": ""
           }
          },
          "scene": {
           "xaxis": {
            "backgroundcolor": "#E5ECF6",
            "gridcolor": "white",
            "gridwidth": 2,
            "linecolor": "white",
            "showbackground": true,
            "ticks": "",
            "zerolinecolor": "white"
           },
           "yaxis": {
            "backgroundcolor": "#E5ECF6",
            "gridcolor": "white",
            "gridwidth": 2,
            "linecolor": "white",
            "showbackground": true,
            "ticks": "",
            "zerolinecolor": "white"
           },
           "zaxis": {
            "backgroundcolor": "#E5ECF6",
            "gridcolor": "white",
            "gridwidth": 2,
            "linecolor": "white",
            "showbackground": true,
            "ticks": "",
            "zerolinecolor": "white"
           }
          },
          "shapedefaults": {
           "line": {
            "color": "#2a3f5f"
           }
          },
          "ternary": {
           "aaxis": {
            "gridcolor": "white",
            "linecolor": "white",
            "ticks": ""
           },
           "baxis": {
            "gridcolor": "white",
            "linecolor": "white",
            "ticks": ""
           },
           "bgcolor": "#E5ECF6",
           "caxis": {
            "gridcolor": "white",
            "linecolor": "white",
            "ticks": ""
           }
          },
          "title": {
           "x": 0.05
          },
          "xaxis": {
           "automargin": true,
           "gridcolor": "white",
           "linecolor": "white",
           "ticks": "",
           "title": {
            "standoff": 15
           },
           "zerolinecolor": "white",
           "zerolinewidth": 2
          },
          "yaxis": {
           "automargin": true,
           "gridcolor": "white",
           "linecolor": "white",
           "ticks": "",
           "title": {
            "standoff": 15
           },
           "zerolinecolor": "white",
           "zerolinewidth": 2
          }
         }
        },
        "title": {
         "text": "Parallel Coordinate Plot"
        }
       }
      },
      "text/html": [
       "<div>                            <div id=\"d27cc454-e491-4014-9592-8a2c0c8c6bee\" class=\"plotly-graph-div\" style=\"height:525px; width:100%;\"></div>            <script type=\"text/javascript\">                require([\"plotly\"], function(Plotly) {                    window.PLOTLYENV=window.PLOTLYENV || {};                                    if (document.getElementById(\"d27cc454-e491-4014-9592-8a2c0c8c6bee\")) {                    Plotly.newPlot(                        \"d27cc454-e491-4014-9592-8a2c0c8c6bee\",                        [{\"dimensions\":[{\"label\":\"Objective Value\",\"range\":[0.015432298183441162,0.5816274583339691],\"values\":[0.0495525598526001,0.05263876914978027,0.13928735256195068,0.07459932565689087,0.021068453788757324,0.5578498244285583,0.1147734522819519,0.5816274583339691,0.025217950344085693,0.023562967777252197,0.018257975578308105,0.01891958713531494,0.018514037132263184,0.0212898850440979,0.02044922113418579,0.02251911163330078,0.023686528205871582,0.125626802444458,0.019521117210388184,0.019025981426239014,0.021994471549987793,0.018754303455352783,0.017557859420776367,0.019997894763946533,0.02119213342666626,0.021356403827667236,0.017502546310424805,0.018216371536254883,0.023171305656433105,0.022056281566619873,0.02110224962234497,0.017410576343536377,0.019484221935272217,0.020790040493011475,0.11862140893936157,0.022608816623687744,0.01857966184616089,0.016635537147521973,0.34778892993927,0.01701122522354126,0.01956915855407715,0.017308354377746582,0.016974031925201416,0.017678797245025635,0.01875293254852295,0.019313573837280273,0.018069028854370117,0.017033398151397705,0.021504104137420654,0.018155038356781006,0.01858919858932495,0.0186578631401062,0.01748567819595337,0.01717090606689453,0.02748626470565796,0.021634280681610107,0.017608821392059326,0.018077731132507324,0.015880465507507324,0.02036350965499878,0.018354177474975586,0.018104493618011475,0.017974853515625,0.019441723823547363,0.017419874668121338,0.023507654666900635,0.01762157678604126,0.017135024070739746,0.016651511192321777,0.0190085768699646,0.0177304744720459,0.01685410737991333,0.01812654733657837,0.018880844116210938,0.01824551820755005,0.01781708002090454,0.017528235912322998,0.017611324787139893,0.015432298183441162,0.016986429691314697,0.018716812133789062,0.018149077892303467,0.018729686737060547,0.01755291223526001,0.016190528869628906,0.019175708293914795,0.017005324363708496,0.021039962768554688,0.02290964126586914,0.017471015453338623,0.017824828624725342,0.018854498863220215,0.019290566444396973,0.016435563564300537,0.01710587739944458,0.018757998943328857,0.01766836643218994,0.016545653343200684,0.022514760494232178,0.01866316795349121]},{\"label\":\"LIST_LLLR_VERSION\",\"range\":[0,1],\"ticktext\":[\"LSEL\",\"LLLR\"],\"tickvals\":[0,1],\"values\":[0,1,1,0,1,0,0,1,1,0,1,1,1,1,1,1,1,1,1,1,1,1,1,1,1,1,0,0,0,0,0,0,0,0,0,0,0,0,0,0,0,0,0,0,0,0,0,0,0,0,0,0,0,0,0,0,0,0,0,0,0,0,0,0,0,0,0,0,0,0,0,0,0,0,0,0,0,0,0,0,0,0,0,0,0,0,0,0,0,0,1,0,0,0,0,0,0,0,0,0]}],\"labelangle\":30,\"labelside\":\"bottom\",\"line\":{\"color\":[0.0495525598526001,0.05263876914978027,0.13928735256195068,0.07459932565689087,0.021068453788757324,0.5578498244285583,0.1147734522819519,0.5816274583339691,0.025217950344085693,0.023562967777252197,0.018257975578308105,0.01891958713531494,0.018514037132263184,0.0212898850440979,0.02044922113418579,0.02251911163330078,0.023686528205871582,0.125626802444458,0.019521117210388184,0.019025981426239014,0.021994471549987793,0.018754303455352783,0.017557859420776367,0.019997894763946533,0.02119213342666626,0.021356403827667236,0.017502546310424805,0.018216371536254883,0.023171305656433105,0.022056281566619873,0.02110224962234497,0.017410576343536377,0.019484221935272217,0.020790040493011475,0.11862140893936157,0.022608816623687744,0.01857966184616089,0.016635537147521973,0.34778892993927,0.01701122522354126,0.01956915855407715,0.017308354377746582,0.016974031925201416,0.017678797245025635,0.01875293254852295,0.019313573837280273,0.018069028854370117,0.017033398151397705,0.021504104137420654,0.018155038356781006,0.01858919858932495,0.0186578631401062,0.01748567819595337,0.01717090606689453,0.02748626470565796,0.021634280681610107,0.017608821392059326,0.018077731132507324,0.015880465507507324,0.02036350965499878,0.018354177474975586,0.018104493618011475,0.017974853515625,0.019441723823547363,0.017419874668121338,0.023507654666900635,0.01762157678604126,0.017135024070739746,0.016651511192321777,0.0190085768699646,0.0177304744720459,0.01685410737991333,0.01812654733657837,0.018880844116210938,0.01824551820755005,0.01781708002090454,0.017528235912322998,0.017611324787139893,0.015432298183441162,0.016986429691314697,0.018716812133789062,0.018149077892303467,0.018729686737060547,0.01755291223526001,0.016190528869628906,0.019175708293914795,0.017005324363708496,0.021039962768554688,0.02290964126586914,0.017471015453338623,0.017824828624725342,0.018854498863220215,0.019290566444396973,0.016435563564300537,0.01710587739944458,0.018757998943328857,0.01766836643218994,0.016545653343200684,0.022514760494232178,0.01866316795349121],\"colorbar\":{\"title\":{\"text\":\"Objective Value\"}},\"colorscale\":[[0.0,\"rgb(247,251,255)\"],[0.125,\"rgb(222,235,247)\"],[0.25,\"rgb(198,219,239)\"],[0.375,\"rgb(158,202,225)\"],[0.5,\"rgb(107,174,214)\"],[0.625,\"rgb(66,146,198)\"],[0.75,\"rgb(33,113,181)\"],[0.875,\"rgb(8,81,156)\"],[1.0,\"rgb(8,48,107)\"]],\"reversescale\":true,\"showscale\":true},\"type\":\"parcoords\"}],                        {\"title\":{\"text\":\"Parallel Coordinate Plot\"},\"template\":{\"data\":{\"histogram2dcontour\":[{\"type\":\"histogram2dcontour\",\"colorbar\":{\"outlinewidth\":0,\"ticks\":\"\"},\"colorscale\":[[0.0,\"#0d0887\"],[0.1111111111111111,\"#46039f\"],[0.2222222222222222,\"#7201a8\"],[0.3333333333333333,\"#9c179e\"],[0.4444444444444444,\"#bd3786\"],[0.5555555555555556,\"#d8576b\"],[0.6666666666666666,\"#ed7953\"],[0.7777777777777778,\"#fb9f3a\"],[0.8888888888888888,\"#fdca26\"],[1.0,\"#f0f921\"]]}],\"choropleth\":[{\"type\":\"choropleth\",\"colorbar\":{\"outlinewidth\":0,\"ticks\":\"\"}}],\"histogram2d\":[{\"type\":\"histogram2d\",\"colorbar\":{\"outlinewidth\":0,\"ticks\":\"\"},\"colorscale\":[[0.0,\"#0d0887\"],[0.1111111111111111,\"#46039f\"],[0.2222222222222222,\"#7201a8\"],[0.3333333333333333,\"#9c179e\"],[0.4444444444444444,\"#bd3786\"],[0.5555555555555556,\"#d8576b\"],[0.6666666666666666,\"#ed7953\"],[0.7777777777777778,\"#fb9f3a\"],[0.8888888888888888,\"#fdca26\"],[1.0,\"#f0f921\"]]}],\"heatmap\":[{\"type\":\"heatmap\",\"colorbar\":{\"outlinewidth\":0,\"ticks\":\"\"},\"colorscale\":[[0.0,\"#0d0887\"],[0.1111111111111111,\"#46039f\"],[0.2222222222222222,\"#7201a8\"],[0.3333333333333333,\"#9c179e\"],[0.4444444444444444,\"#bd3786\"],[0.5555555555555556,\"#d8576b\"],[0.6666666666666666,\"#ed7953\"],[0.7777777777777778,\"#fb9f3a\"],[0.8888888888888888,\"#fdca26\"],[1.0,\"#f0f921\"]]}],\"heatmapgl\":[{\"type\":\"heatmapgl\",\"colorbar\":{\"outlinewidth\":0,\"ticks\":\"\"},\"colorscale\":[[0.0,\"#0d0887\"],[0.1111111111111111,\"#46039f\"],[0.2222222222222222,\"#7201a8\"],[0.3333333333333333,\"#9c179e\"],[0.4444444444444444,\"#bd3786\"],[0.5555555555555556,\"#d8576b\"],[0.6666666666666666,\"#ed7953\"],[0.7777777777777778,\"#fb9f3a\"],[0.8888888888888888,\"#fdca26\"],[1.0,\"#f0f921\"]]}],\"contourcarpet\":[{\"type\":\"contourcarpet\",\"colorbar\":{\"outlinewidth\":0,\"ticks\":\"\"}}],\"contour\":[{\"type\":\"contour\",\"colorbar\":{\"outlinewidth\":0,\"ticks\":\"\"},\"colorscale\":[[0.0,\"#0d0887\"],[0.1111111111111111,\"#46039f\"],[0.2222222222222222,\"#7201a8\"],[0.3333333333333333,\"#9c179e\"],[0.4444444444444444,\"#bd3786\"],[0.5555555555555556,\"#d8576b\"],[0.6666666666666666,\"#ed7953\"],[0.7777777777777778,\"#fb9f3a\"],[0.8888888888888888,\"#fdca26\"],[1.0,\"#f0f921\"]]}],\"surface\":[{\"type\":\"surface\",\"colorbar\":{\"outlinewidth\":0,\"ticks\":\"\"},\"colorscale\":[[0.0,\"#0d0887\"],[0.1111111111111111,\"#46039f\"],[0.2222222222222222,\"#7201a8\"],[0.3333333333333333,\"#9c179e\"],[0.4444444444444444,\"#bd3786\"],[0.5555555555555556,\"#d8576b\"],[0.6666666666666666,\"#ed7953\"],[0.7777777777777778,\"#fb9f3a\"],[0.8888888888888888,\"#fdca26\"],[1.0,\"#f0f921\"]]}],\"mesh3d\":[{\"type\":\"mesh3d\",\"colorbar\":{\"outlinewidth\":0,\"ticks\":\"\"}}],\"scatter\":[{\"fillpattern\":{\"fillmode\":\"overlay\",\"size\":10,\"solidity\":0.2},\"type\":\"scatter\"}],\"parcoords\":[{\"type\":\"parcoords\",\"line\":{\"colorbar\":{\"outlinewidth\":0,\"ticks\":\"\"}}}],\"scatterpolargl\":[{\"type\":\"scatterpolargl\",\"marker\":{\"colorbar\":{\"outlinewidth\":0,\"ticks\":\"\"}}}],\"bar\":[{\"error_x\":{\"color\":\"#2a3f5f\"},\"error_y\":{\"color\":\"#2a3f5f\"},\"marker\":{\"line\":{\"color\":\"#E5ECF6\",\"width\":0.5},\"pattern\":{\"fillmode\":\"overlay\",\"size\":10,\"solidity\":0.2}},\"type\":\"bar\"}],\"scattergeo\":[{\"type\":\"scattergeo\",\"marker\":{\"colorbar\":{\"outlinewidth\":0,\"ticks\":\"\"}}}],\"scatterpolar\":[{\"type\":\"scatterpolar\",\"marker\":{\"colorbar\":{\"outlinewidth\":0,\"ticks\":\"\"}}}],\"histogram\":[{\"marker\":{\"pattern\":{\"fillmode\":\"overlay\",\"size\":10,\"solidity\":0.2}},\"type\":\"histogram\"}],\"scattergl\":[{\"type\":\"scattergl\",\"marker\":{\"colorbar\":{\"outlinewidth\":0,\"ticks\":\"\"}}}],\"scatter3d\":[{\"type\":\"scatter3d\",\"line\":{\"colorbar\":{\"outlinewidth\":0,\"ticks\":\"\"}},\"marker\":{\"colorbar\":{\"outlinewidth\":0,\"ticks\":\"\"}}}],\"scattermapbox\":[{\"type\":\"scattermapbox\",\"marker\":{\"colorbar\":{\"outlinewidth\":0,\"ticks\":\"\"}}}],\"scatterternary\":[{\"type\":\"scatterternary\",\"marker\":{\"colorbar\":{\"outlinewidth\":0,\"ticks\":\"\"}}}],\"scattercarpet\":[{\"type\":\"scattercarpet\",\"marker\":{\"colorbar\":{\"outlinewidth\":0,\"ticks\":\"\"}}}],\"carpet\":[{\"aaxis\":{\"endlinecolor\":\"#2a3f5f\",\"gridcolor\":\"white\",\"linecolor\":\"white\",\"minorgridcolor\":\"white\",\"startlinecolor\":\"#2a3f5f\"},\"baxis\":{\"endlinecolor\":\"#2a3f5f\",\"gridcolor\":\"white\",\"linecolor\":\"white\",\"minorgridcolor\":\"white\",\"startlinecolor\":\"#2a3f5f\"},\"type\":\"carpet\"}],\"table\":[{\"cells\":{\"fill\":{\"color\":\"#EBF0F8\"},\"line\":{\"color\":\"white\"}},\"header\":{\"fill\":{\"color\":\"#C8D4E3\"},\"line\":{\"color\":\"white\"}},\"type\":\"table\"}],\"barpolar\":[{\"marker\":{\"line\":{\"color\":\"#E5ECF6\",\"width\":0.5},\"pattern\":{\"fillmode\":\"overlay\",\"size\":10,\"solidity\":0.2}},\"type\":\"barpolar\"}],\"pie\":[{\"automargin\":true,\"type\":\"pie\"}]},\"layout\":{\"autotypenumbers\":\"strict\",\"colorway\":[\"#636efa\",\"#EF553B\",\"#00cc96\",\"#ab63fa\",\"#FFA15A\",\"#19d3f3\",\"#FF6692\",\"#B6E880\",\"#FF97FF\",\"#FECB52\"],\"font\":{\"color\":\"#2a3f5f\"},\"hovermode\":\"closest\",\"hoverlabel\":{\"align\":\"left\"},\"paper_bgcolor\":\"white\",\"plot_bgcolor\":\"#E5ECF6\",\"polar\":{\"bgcolor\":\"#E5ECF6\",\"angularaxis\":{\"gridcolor\":\"white\",\"linecolor\":\"white\",\"ticks\":\"\"},\"radialaxis\":{\"gridcolor\":\"white\",\"linecolor\":\"white\",\"ticks\":\"\"}},\"ternary\":{\"bgcolor\":\"#E5ECF6\",\"aaxis\":{\"gridcolor\":\"white\",\"linecolor\":\"white\",\"ticks\":\"\"},\"baxis\":{\"gridcolor\":\"white\",\"linecolor\":\"white\",\"ticks\":\"\"},\"caxis\":{\"gridcolor\":\"white\",\"linecolor\":\"white\",\"ticks\":\"\"}},\"coloraxis\":{\"colorbar\":{\"outlinewidth\":0,\"ticks\":\"\"}},\"colorscale\":{\"sequential\":[[0.0,\"#0d0887\"],[0.1111111111111111,\"#46039f\"],[0.2222222222222222,\"#7201a8\"],[0.3333333333333333,\"#9c179e\"],[0.4444444444444444,\"#bd3786\"],[0.5555555555555556,\"#d8576b\"],[0.6666666666666666,\"#ed7953\"],[0.7777777777777778,\"#fb9f3a\"],[0.8888888888888888,\"#fdca26\"],[1.0,\"#f0f921\"]],\"sequentialminus\":[[0.0,\"#0d0887\"],[0.1111111111111111,\"#46039f\"],[0.2222222222222222,\"#7201a8\"],[0.3333333333333333,\"#9c179e\"],[0.4444444444444444,\"#bd3786\"],[0.5555555555555556,\"#d8576b\"],[0.6666666666666666,\"#ed7953\"],[0.7777777777777778,\"#fb9f3a\"],[0.8888888888888888,\"#fdca26\"],[1.0,\"#f0f921\"]],\"diverging\":[[0,\"#8e0152\"],[0.1,\"#c51b7d\"],[0.2,\"#de77ae\"],[0.3,\"#f1b6da\"],[0.4,\"#fde0ef\"],[0.5,\"#f7f7f7\"],[0.6,\"#e6f5d0\"],[0.7,\"#b8e186\"],[0.8,\"#7fbc41\"],[0.9,\"#4d9221\"],[1,\"#276419\"]]},\"xaxis\":{\"gridcolor\":\"white\",\"linecolor\":\"white\",\"ticks\":\"\",\"title\":{\"standoff\":15},\"zerolinecolor\":\"white\",\"automargin\":true,\"zerolinewidth\":2},\"yaxis\":{\"gridcolor\":\"white\",\"linecolor\":\"white\",\"ticks\":\"\",\"title\":{\"standoff\":15},\"zerolinecolor\":\"white\",\"automargin\":true,\"zerolinewidth\":2},\"scene\":{\"xaxis\":{\"backgroundcolor\":\"#E5ECF6\",\"gridcolor\":\"white\",\"linecolor\":\"white\",\"showbackground\":true,\"ticks\":\"\",\"zerolinecolor\":\"white\",\"gridwidth\":2},\"yaxis\":{\"backgroundcolor\":\"#E5ECF6\",\"gridcolor\":\"white\",\"linecolor\":\"white\",\"showbackground\":true,\"ticks\":\"\",\"zerolinecolor\":\"white\",\"gridwidth\":2},\"zaxis\":{\"backgroundcolor\":\"#E5ECF6\",\"gridcolor\":\"white\",\"linecolor\":\"white\",\"showbackground\":true,\"ticks\":\"\",\"zerolinecolor\":\"white\",\"gridwidth\":2}},\"shapedefaults\":{\"line\":{\"color\":\"#2a3f5f\"}},\"annotationdefaults\":{\"arrowcolor\":\"#2a3f5f\",\"arrowhead\":0,\"arrowwidth\":1},\"geo\":{\"bgcolor\":\"white\",\"landcolor\":\"#E5ECF6\",\"subunitcolor\":\"white\",\"showland\":true,\"showlakes\":true,\"lakecolor\":\"white\"},\"title\":{\"x\":0.05},\"mapbox\":{\"style\":\"light\"}}}},                        {\"responsive\": true}                    ).then(function(){\n",
       "                            \n",
       "var gd = document.getElementById('d27cc454-e491-4014-9592-8a2c0c8c6bee');\n",
       "var x = new MutationObserver(function (mutations, observer) {{\n",
       "        var display = window.getComputedStyle(gd).display;\n",
       "        if (!display || display === 'none') {{\n",
       "            console.log([gd, 'removed!']);\n",
       "            Plotly.purge(gd);\n",
       "            observer.disconnect();\n",
       "        }}\n",
       "}});\n",
       "\n",
       "// Listen for the removal of the full notebook cells\n",
       "var notebookContainer = gd.closest('#notebook-container');\n",
       "if (notebookContainer) {{\n",
       "    x.observe(notebookContainer, {childList: true});\n",
       "}}\n",
       "\n",
       "// Listen for the clearing of the current output cell\n",
       "var outputEl = gd.closest('.output');\n",
       "if (outputEl) {{\n",
       "    x.observe(outputEl, {childList: true});\n",
       "}}\n",
       "\n",
       "                        })                };                });            </script>        </div>"
      ]
     },
     "metadata": {},
     "output_type": "display_data"
    }
   ],
   "source": [
    "optuna.visualization.plot_parallel_coordinate(study, params=[\n",
    "    'LIST_LLLR_VERSION',\n",
    "])"
   ]
  },
  {
   "attachments": {},
   "cell_type": "markdown",
   "metadata": {},
   "source": [
    "# Contour plot"
   ]
  },
  {
   "cell_type": "code",
   "execution_count": 33,
   "metadata": {
    "scrolled": false
   },
   "outputs": [
    {
     "data": {
      "application/vnd.plotly.v1+json": {
       "config": {
        "plotlyServerURL": "https://plot.ly"
       },
       "data": [
        {
         "colorbar": {
          "title": {
           "text": "Objective Value"
          }
         },
         "colorscale": [
          [
           0,
           "rgb(247,251,255)"
          ],
          [
           0.125,
           "rgb(222,235,247)"
          ],
          [
           0.25,
           "rgb(198,219,239)"
          ],
          [
           0.375,
           "rgb(158,202,225)"
          ],
          [
           0.5,
           "rgb(107,174,214)"
          ],
          [
           0.625,
           "rgb(66,146,198)"
          ],
          [
           0.75,
           "rgb(33,113,181)"
          ],
          [
           0.875,
           "rgb(8,81,156)"
          ],
          [
           1,
           "rgb(8,48,107)"
          ]
         ],
         "connectgaps": true,
         "contours": {
          "coloring": "heatmap"
         },
         "hoverinfo": "none",
         "line": {
          "smoothing": 1.3
         },
         "reversescale": true,
         "type": "contour",
         "x": [
          "LLLR",
          "LSEL"
         ],
         "y": [
          -0.05,
          0,
          0.1,
          0.2,
          0.30000000000000004,
          0.4,
          0.5,
          0.6000000000000001,
          0.7000000000000001,
          0.8,
          0.9,
          1,
          1.05
         ],
         "z": [
          [
           null,
           null
          ],
          [
           0.018754303455352783,
           null
          ],
          [
           0.02119213342666626,
           0.020790040493011475
          ],
          [
           0.019997894763946533,
           0.11862140893936157
          ],
          [
           0.019025981426239014,
           0.01857966184616089
          ],
          [
           0.021356403827667236,
           0.01866316795349121
          ],
          [
           0.5816274583339691,
           0.023507654666900635
          ],
          [
           0.017824828624725342,
           0.018757998943328857
          ],
          [
           null,
           0.019290566444396973
          ],
          [
           null,
           0.01766836643218994
          ],
          [
           0.025217950344085693,
           0.02290964126586914
          ],
          [
           null,
           0.02036350965499878
          ],
          [
           null,
           null
          ]
         ]
        },
        {
         "marker": {
          "color": "black",
          "line": {
           "color": "Grey",
           "width": 2
          }
         },
         "mode": "markers",
         "showlegend": false,
         "type": "scatter",
         "x": [
          "LSEL",
          "LLLR",
          "LLLR",
          "LSEL",
          "LLLR",
          "LSEL",
          "LSEL",
          "LLLR",
          "LLLR",
          "LSEL",
          "LLLR",
          "LLLR",
          "LLLR",
          "LLLR",
          "LLLR",
          "LLLR",
          "LLLR",
          "LLLR",
          "LLLR",
          "LLLR",
          "LLLR",
          "LLLR",
          "LLLR",
          "LLLR",
          "LLLR",
          "LLLR",
          "LSEL",
          "LSEL",
          "LSEL",
          "LSEL",
          "LSEL",
          "LSEL",
          "LSEL",
          "LSEL",
          "LSEL",
          "LSEL",
          "LSEL",
          "LSEL",
          "LSEL",
          "LSEL",
          "LSEL",
          "LSEL",
          "LSEL",
          "LSEL",
          "LSEL",
          "LSEL",
          "LSEL",
          "LSEL",
          "LSEL",
          "LSEL",
          "LSEL",
          "LSEL",
          "LSEL",
          "LSEL",
          "LSEL",
          "LSEL",
          "LSEL",
          "LSEL",
          "LSEL",
          "LSEL",
          "LSEL",
          "LSEL",
          "LSEL",
          "LSEL",
          "LSEL",
          "LSEL",
          "LSEL",
          "LSEL",
          "LSEL",
          "LSEL",
          "LSEL",
          "LSEL",
          "LSEL",
          "LSEL",
          "LSEL",
          "LSEL",
          "LSEL",
          "LSEL",
          "LSEL",
          "LSEL",
          "LSEL",
          "LSEL",
          "LSEL",
          "LSEL",
          "LSEL",
          "LSEL",
          "LSEL",
          "LSEL",
          "LSEL",
          "LSEL",
          "LLLR",
          "LSEL",
          "LSEL",
          "LSEL",
          "LSEL",
          "LSEL",
          "LSEL",
          "LSEL",
          "LSEL",
          "LSEL"
         ],
         "y": [
          0.8,
          0.1,
          0.6000000000000001,
          0.5,
          0.9,
          1,
          0.5,
          0.5,
          0.9,
          0.9,
          0.1,
          0,
          0,
          0.2,
          0.30000000000000004,
          0,
          0.30000000000000004,
          0.2,
          0.1,
          0.30000000000000004,
          0,
          0,
          0.1,
          0.2,
          0.1,
          0.4,
          0.1,
          0.2,
          0.4,
          0.7000000000000001,
          0.2,
          0.1,
          0.1,
          0.1,
          0.2,
          0.4,
          0.30000000000000004,
          0.6000000000000001,
          0.6000000000000001,
          0.7000000000000001,
          0.7000000000000001,
          0.6000000000000001,
          0.6000000000000001,
          0.6000000000000001,
          0.7000000000000001,
          0.8,
          0.8,
          0.6000000000000001,
          0.6000000000000001,
          0.5,
          0.7000000000000001,
          0.6000000000000001,
          0.5,
          0.5,
          0.5,
          0.7000000000000001,
          0.6000000000000001,
          0.6000000000000001,
          0.8,
          1,
          0.8,
          0.9,
          0.8,
          0.7000000000000001,
          0.5,
          0.5,
          0.6000000000000001,
          0.7000000000000001,
          0.7000000000000001,
          0.7000000000000001,
          0.9,
          0.8,
          0.8,
          0.7000000000000001,
          0.8,
          0.7000000000000001,
          0.8,
          0.9,
          0.7000000000000001,
          0.6000000000000001,
          0.8,
          0.6000000000000001,
          0.6000000000000001,
          0.7000000000000001,
          0.7000000000000001,
          0.7000000000000001,
          0.7000000000000001,
          0.8,
          0.9,
          0.7000000000000001,
          0.6000000000000001,
          0.7000000000000001,
          0.7000000000000001,
          0.6000000000000001,
          0.6000000000000001,
          0.6000000000000001,
          0.8,
          0.4,
          0.4,
          0.4
         ]
        }
       ],
       "layout": {
        "template": {
         "data": {
          "bar": [
           {
            "error_x": {
             "color": "#2a3f5f"
            },
            "error_y": {
             "color": "#2a3f5f"
            },
            "marker": {
             "line": {
              "color": "#E5ECF6",
              "width": 0.5
             },
             "pattern": {
              "fillmode": "overlay",
              "size": 10,
              "solidity": 0.2
             }
            },
            "type": "bar"
           }
          ],
          "barpolar": [
           {
            "marker": {
             "line": {
              "color": "#E5ECF6",
              "width": 0.5
             },
             "pattern": {
              "fillmode": "overlay",
              "size": 10,
              "solidity": 0.2
             }
            },
            "type": "barpolar"
           }
          ],
          "carpet": [
           {
            "aaxis": {
             "endlinecolor": "#2a3f5f",
             "gridcolor": "white",
             "linecolor": "white",
             "minorgridcolor": "white",
             "startlinecolor": "#2a3f5f"
            },
            "baxis": {
             "endlinecolor": "#2a3f5f",
             "gridcolor": "white",
             "linecolor": "white",
             "minorgridcolor": "white",
             "startlinecolor": "#2a3f5f"
            },
            "type": "carpet"
           }
          ],
          "choropleth": [
           {
            "colorbar": {
             "outlinewidth": 0,
             "ticks": ""
            },
            "type": "choropleth"
           }
          ],
          "contour": [
           {
            "colorbar": {
             "outlinewidth": 0,
             "ticks": ""
            },
            "colorscale": [
             [
              0,
              "#0d0887"
             ],
             [
              0.1111111111111111,
              "#46039f"
             ],
             [
              0.2222222222222222,
              "#7201a8"
             ],
             [
              0.3333333333333333,
              "#9c179e"
             ],
             [
              0.4444444444444444,
              "#bd3786"
             ],
             [
              0.5555555555555556,
              "#d8576b"
             ],
             [
              0.6666666666666666,
              "#ed7953"
             ],
             [
              0.7777777777777778,
              "#fb9f3a"
             ],
             [
              0.8888888888888888,
              "#fdca26"
             ],
             [
              1,
              "#f0f921"
             ]
            ],
            "type": "contour"
           }
          ],
          "contourcarpet": [
           {
            "colorbar": {
             "outlinewidth": 0,
             "ticks": ""
            },
            "type": "contourcarpet"
           }
          ],
          "heatmap": [
           {
            "colorbar": {
             "outlinewidth": 0,
             "ticks": ""
            },
            "colorscale": [
             [
              0,
              "#0d0887"
             ],
             [
              0.1111111111111111,
              "#46039f"
             ],
             [
              0.2222222222222222,
              "#7201a8"
             ],
             [
              0.3333333333333333,
              "#9c179e"
             ],
             [
              0.4444444444444444,
              "#bd3786"
             ],
             [
              0.5555555555555556,
              "#d8576b"
             ],
             [
              0.6666666666666666,
              "#ed7953"
             ],
             [
              0.7777777777777778,
              "#fb9f3a"
             ],
             [
              0.8888888888888888,
              "#fdca26"
             ],
             [
              1,
              "#f0f921"
             ]
            ],
            "type": "heatmap"
           }
          ],
          "heatmapgl": [
           {
            "colorbar": {
             "outlinewidth": 0,
             "ticks": ""
            },
            "colorscale": [
             [
              0,
              "#0d0887"
             ],
             [
              0.1111111111111111,
              "#46039f"
             ],
             [
              0.2222222222222222,
              "#7201a8"
             ],
             [
              0.3333333333333333,
              "#9c179e"
             ],
             [
              0.4444444444444444,
              "#bd3786"
             ],
             [
              0.5555555555555556,
              "#d8576b"
             ],
             [
              0.6666666666666666,
              "#ed7953"
             ],
             [
              0.7777777777777778,
              "#fb9f3a"
             ],
             [
              0.8888888888888888,
              "#fdca26"
             ],
             [
              1,
              "#f0f921"
             ]
            ],
            "type": "heatmapgl"
           }
          ],
          "histogram": [
           {
            "marker": {
             "pattern": {
              "fillmode": "overlay",
              "size": 10,
              "solidity": 0.2
             }
            },
            "type": "histogram"
           }
          ],
          "histogram2d": [
           {
            "colorbar": {
             "outlinewidth": 0,
             "ticks": ""
            },
            "colorscale": [
             [
              0,
              "#0d0887"
             ],
             [
              0.1111111111111111,
              "#46039f"
             ],
             [
              0.2222222222222222,
              "#7201a8"
             ],
             [
              0.3333333333333333,
              "#9c179e"
             ],
             [
              0.4444444444444444,
              "#bd3786"
             ],
             [
              0.5555555555555556,
              "#d8576b"
             ],
             [
              0.6666666666666666,
              "#ed7953"
             ],
             [
              0.7777777777777778,
              "#fb9f3a"
             ],
             [
              0.8888888888888888,
              "#fdca26"
             ],
             [
              1,
              "#f0f921"
             ]
            ],
            "type": "histogram2d"
           }
          ],
          "histogram2dcontour": [
           {
            "colorbar": {
             "outlinewidth": 0,
             "ticks": ""
            },
            "colorscale": [
             [
              0,
              "#0d0887"
             ],
             [
              0.1111111111111111,
              "#46039f"
             ],
             [
              0.2222222222222222,
              "#7201a8"
             ],
             [
              0.3333333333333333,
              "#9c179e"
             ],
             [
              0.4444444444444444,
              "#bd3786"
             ],
             [
              0.5555555555555556,
              "#d8576b"
             ],
             [
              0.6666666666666666,
              "#ed7953"
             ],
             [
              0.7777777777777778,
              "#fb9f3a"
             ],
             [
              0.8888888888888888,
              "#fdca26"
             ],
             [
              1,
              "#f0f921"
             ]
            ],
            "type": "histogram2dcontour"
           }
          ],
          "mesh3d": [
           {
            "colorbar": {
             "outlinewidth": 0,
             "ticks": ""
            },
            "type": "mesh3d"
           }
          ],
          "parcoords": [
           {
            "line": {
             "colorbar": {
              "outlinewidth": 0,
              "ticks": ""
             }
            },
            "type": "parcoords"
           }
          ],
          "pie": [
           {
            "automargin": true,
            "type": "pie"
           }
          ],
          "scatter": [
           {
            "fillpattern": {
             "fillmode": "overlay",
             "size": 10,
             "solidity": 0.2
            },
            "type": "scatter"
           }
          ],
          "scatter3d": [
           {
            "line": {
             "colorbar": {
              "outlinewidth": 0,
              "ticks": ""
             }
            },
            "marker": {
             "colorbar": {
              "outlinewidth": 0,
              "ticks": ""
             }
            },
            "type": "scatter3d"
           }
          ],
          "scattercarpet": [
           {
            "marker": {
             "colorbar": {
              "outlinewidth": 0,
              "ticks": ""
             }
            },
            "type": "scattercarpet"
           }
          ],
          "scattergeo": [
           {
            "marker": {
             "colorbar": {
              "outlinewidth": 0,
              "ticks": ""
             }
            },
            "type": "scattergeo"
           }
          ],
          "scattergl": [
           {
            "marker": {
             "colorbar": {
              "outlinewidth": 0,
              "ticks": ""
             }
            },
            "type": "scattergl"
           }
          ],
          "scattermapbox": [
           {
            "marker": {
             "colorbar": {
              "outlinewidth": 0,
              "ticks": ""
             }
            },
            "type": "scattermapbox"
           }
          ],
          "scatterpolar": [
           {
            "marker": {
             "colorbar": {
              "outlinewidth": 0,
              "ticks": ""
             }
            },
            "type": "scatterpolar"
           }
          ],
          "scatterpolargl": [
           {
            "marker": {
             "colorbar": {
              "outlinewidth": 0,
              "ticks": ""
             }
            },
            "type": "scatterpolargl"
           }
          ],
          "scatterternary": [
           {
            "marker": {
             "colorbar": {
              "outlinewidth": 0,
              "ticks": ""
             }
            },
            "type": "scatterternary"
           }
          ],
          "surface": [
           {
            "colorbar": {
             "outlinewidth": 0,
             "ticks": ""
            },
            "colorscale": [
             [
              0,
              "#0d0887"
             ],
             [
              0.1111111111111111,
              "#46039f"
             ],
             [
              0.2222222222222222,
              "#7201a8"
             ],
             [
              0.3333333333333333,
              "#9c179e"
             ],
             [
              0.4444444444444444,
              "#bd3786"
             ],
             [
              0.5555555555555556,
              "#d8576b"
             ],
             [
              0.6666666666666666,
              "#ed7953"
             ],
             [
              0.7777777777777778,
              "#fb9f3a"
             ],
             [
              0.8888888888888888,
              "#fdca26"
             ],
             [
              1,
              "#f0f921"
             ]
            ],
            "type": "surface"
           }
          ],
          "table": [
           {
            "cells": {
             "fill": {
              "color": "#EBF0F8"
             },
             "line": {
              "color": "white"
             }
            },
            "header": {
             "fill": {
              "color": "#C8D4E3"
             },
             "line": {
              "color": "white"
             }
            },
            "type": "table"
           }
          ]
         },
         "layout": {
          "annotationdefaults": {
           "arrowcolor": "#2a3f5f",
           "arrowhead": 0,
           "arrowwidth": 1
          },
          "autotypenumbers": "strict",
          "coloraxis": {
           "colorbar": {
            "outlinewidth": 0,
            "ticks": ""
           }
          },
          "colorscale": {
           "diverging": [
            [
             0,
             "#8e0152"
            ],
            [
             0.1,
             "#c51b7d"
            ],
            [
             0.2,
             "#de77ae"
            ],
            [
             0.3,
             "#f1b6da"
            ],
            [
             0.4,
             "#fde0ef"
            ],
            [
             0.5,
             "#f7f7f7"
            ],
            [
             0.6,
             "#e6f5d0"
            ],
            [
             0.7,
             "#b8e186"
            ],
            [
             0.8,
             "#7fbc41"
            ],
            [
             0.9,
             "#4d9221"
            ],
            [
             1,
             "#276419"
            ]
           ],
           "sequential": [
            [
             0,
             "#0d0887"
            ],
            [
             0.1111111111111111,
             "#46039f"
            ],
            [
             0.2222222222222222,
             "#7201a8"
            ],
            [
             0.3333333333333333,
             "#9c179e"
            ],
            [
             0.4444444444444444,
             "#bd3786"
            ],
            [
             0.5555555555555556,
             "#d8576b"
            ],
            [
             0.6666666666666666,
             "#ed7953"
            ],
            [
             0.7777777777777778,
             "#fb9f3a"
            ],
            [
             0.8888888888888888,
             "#fdca26"
            ],
            [
             1,
             "#f0f921"
            ]
           ],
           "sequentialminus": [
            [
             0,
             "#0d0887"
            ],
            [
             0.1111111111111111,
             "#46039f"
            ],
            [
             0.2222222222222222,
             "#7201a8"
            ],
            [
             0.3333333333333333,
             "#9c179e"
            ],
            [
             0.4444444444444444,
             "#bd3786"
            ],
            [
             0.5555555555555556,
             "#d8576b"
            ],
            [
             0.6666666666666666,
             "#ed7953"
            ],
            [
             0.7777777777777778,
             "#fb9f3a"
            ],
            [
             0.8888888888888888,
             "#fdca26"
            ],
            [
             1,
             "#f0f921"
            ]
           ]
          },
          "colorway": [
           "#636efa",
           "#EF553B",
           "#00cc96",
           "#ab63fa",
           "#FFA15A",
           "#19d3f3",
           "#FF6692",
           "#B6E880",
           "#FF97FF",
           "#FECB52"
          ],
          "font": {
           "color": "#2a3f5f"
          },
          "geo": {
           "bgcolor": "white",
           "lakecolor": "white",
           "landcolor": "#E5ECF6",
           "showlakes": true,
           "showland": true,
           "subunitcolor": "white"
          },
          "hoverlabel": {
           "align": "left"
          },
          "hovermode": "closest",
          "mapbox": {
           "style": "light"
          },
          "paper_bgcolor": "white",
          "plot_bgcolor": "#E5ECF6",
          "polar": {
           "angularaxis": {
            "gridcolor": "white",
            "linecolor": "white",
            "ticks": ""
           },
           "bgcolor": "#E5ECF6",
           "radialaxis": {
            "gridcolor": "white",
            "linecolor": "white",
            "ticks": ""
           }
          },
          "scene": {
           "xaxis": {
            "backgroundcolor": "#E5ECF6",
            "gridcolor": "white",
            "gridwidth": 2,
            "linecolor": "white",
            "showbackground": true,
            "ticks": "",
            "zerolinecolor": "white"
           },
           "yaxis": {
            "backgroundcolor": "#E5ECF6",
            "gridcolor": "white",
            "gridwidth": 2,
            "linecolor": "white",
            "showbackground": true,
            "ticks": "",
            "zerolinecolor": "white"
           },
           "zaxis": {
            "backgroundcolor": "#E5ECF6",
            "gridcolor": "white",
            "gridwidth": 2,
            "linecolor": "white",
            "showbackground": true,
            "ticks": "",
            "zerolinecolor": "white"
           }
          },
          "shapedefaults": {
           "line": {
            "color": "#2a3f5f"
           }
          },
          "ternary": {
           "aaxis": {
            "gridcolor": "white",
            "linecolor": "white",
            "ticks": ""
           },
           "baxis": {
            "gridcolor": "white",
            "linecolor": "white",
            "ticks": ""
           },
           "bgcolor": "#E5ECF6",
           "caxis": {
            "gridcolor": "white",
            "linecolor": "white",
            "ticks": ""
           }
          },
          "title": {
           "x": 0.05
          },
          "xaxis": {
           "automargin": true,
           "gridcolor": "white",
           "linecolor": "white",
           "ticks": "",
           "title": {
            "standoff": 15
           },
           "zerolinecolor": "white",
           "zerolinewidth": 2
          },
          "yaxis": {
           "automargin": true,
           "gridcolor": "white",
           "linecolor": "white",
           "ticks": "",
           "title": {
            "standoff": 15
           },
           "zerolinecolor": "white",
           "zerolinewidth": 2
          }
         }
        },
        "title": {
         "text": "Contour Plot"
        },
        "xaxis": {
         "range": [
          -0.05,
          1.05
         ],
         "title": {
          "text": "LIST_LLLR_VERSION"
         },
         "type": "category"
        },
        "yaxis": {
         "range": [
          -0.05,
          1.05
         ],
         "title": {
          "text": "LIST_PARAM_LLR_LOSS"
         }
        }
       }
      },
      "text/html": [
       "<div>                            <div id=\"431a6f52-db72-4e67-9d21-63e381ccb04d\" class=\"plotly-graph-div\" style=\"height:525px; width:100%;\"></div>            <script type=\"text/javascript\">                require([\"plotly\"], function(Plotly) {                    window.PLOTLYENV=window.PLOTLYENV || {};                                    if (document.getElementById(\"431a6f52-db72-4e67-9d21-63e381ccb04d\")) {                    Plotly.newPlot(                        \"431a6f52-db72-4e67-9d21-63e381ccb04d\",                        [{\"colorbar\":{\"title\":{\"text\":\"Objective Value\"}},\"colorscale\":[[0.0,\"rgb(247,251,255)\"],[0.125,\"rgb(222,235,247)\"],[0.25,\"rgb(198,219,239)\"],[0.375,\"rgb(158,202,225)\"],[0.5,\"rgb(107,174,214)\"],[0.625,\"rgb(66,146,198)\"],[0.75,\"rgb(33,113,181)\"],[0.875,\"rgb(8,81,156)\"],[1.0,\"rgb(8,48,107)\"]],\"connectgaps\":true,\"contours\":{\"coloring\":\"heatmap\"},\"hoverinfo\":\"none\",\"line\":{\"smoothing\":1.3},\"reversescale\":true,\"x\":[\"LLLR\",\"LSEL\"],\"y\":[-0.05,0.0,0.1,0.2,0.30000000000000004,0.4,0.5,0.6000000000000001,0.7000000000000001,0.8,0.9,1.0,1.05],\"z\":[[null,null],[0.018754303455352783,null],[0.02119213342666626,0.020790040493011475],[0.019997894763946533,0.11862140893936157],[0.019025981426239014,0.01857966184616089],[0.021356403827667236,0.01866316795349121],[0.5816274583339691,0.023507654666900635],[0.017824828624725342,0.018757998943328857],[null,0.019290566444396973],[null,0.01766836643218994],[0.025217950344085693,0.02290964126586914],[null,0.02036350965499878],[null,null]],\"type\":\"contour\"},{\"marker\":{\"color\":\"black\",\"line\":{\"color\":\"Grey\",\"width\":2.0}},\"mode\":\"markers\",\"showlegend\":false,\"x\":[\"LSEL\",\"LLLR\",\"LLLR\",\"LSEL\",\"LLLR\",\"LSEL\",\"LSEL\",\"LLLR\",\"LLLR\",\"LSEL\",\"LLLR\",\"LLLR\",\"LLLR\",\"LLLR\",\"LLLR\",\"LLLR\",\"LLLR\",\"LLLR\",\"LLLR\",\"LLLR\",\"LLLR\",\"LLLR\",\"LLLR\",\"LLLR\",\"LLLR\",\"LLLR\",\"LSEL\",\"LSEL\",\"LSEL\",\"LSEL\",\"LSEL\",\"LSEL\",\"LSEL\",\"LSEL\",\"LSEL\",\"LSEL\",\"LSEL\",\"LSEL\",\"LSEL\",\"LSEL\",\"LSEL\",\"LSEL\",\"LSEL\",\"LSEL\",\"LSEL\",\"LSEL\",\"LSEL\",\"LSEL\",\"LSEL\",\"LSEL\",\"LSEL\",\"LSEL\",\"LSEL\",\"LSEL\",\"LSEL\",\"LSEL\",\"LSEL\",\"LSEL\",\"LSEL\",\"LSEL\",\"LSEL\",\"LSEL\",\"LSEL\",\"LSEL\",\"LSEL\",\"LSEL\",\"LSEL\",\"LSEL\",\"LSEL\",\"LSEL\",\"LSEL\",\"LSEL\",\"LSEL\",\"LSEL\",\"LSEL\",\"LSEL\",\"LSEL\",\"LSEL\",\"LSEL\",\"LSEL\",\"LSEL\",\"LSEL\",\"LSEL\",\"LSEL\",\"LSEL\",\"LSEL\",\"LSEL\",\"LSEL\",\"LSEL\",\"LSEL\",\"LLLR\",\"LSEL\",\"LSEL\",\"LSEL\",\"LSEL\",\"LSEL\",\"LSEL\",\"LSEL\",\"LSEL\",\"LSEL\"],\"y\":[0.8,0.1,0.6000000000000001,0.5,0.9,1.0,0.5,0.5,0.9,0.9,0.1,0.0,0.0,0.2,0.30000000000000004,0.0,0.30000000000000004,0.2,0.1,0.30000000000000004,0.0,0.0,0.1,0.2,0.1,0.4,0.1,0.2,0.4,0.7000000000000001,0.2,0.1,0.1,0.1,0.2,0.4,0.30000000000000004,0.6000000000000001,0.6000000000000001,0.7000000000000001,0.7000000000000001,0.6000000000000001,0.6000000000000001,0.6000000000000001,0.7000000000000001,0.8,0.8,0.6000000000000001,0.6000000000000001,0.5,0.7000000000000001,0.6000000000000001,0.5,0.5,0.5,0.7000000000000001,0.6000000000000001,0.6000000000000001,0.8,1.0,0.8,0.9,0.8,0.7000000000000001,0.5,0.5,0.6000000000000001,0.7000000000000001,0.7000000000000001,0.7000000000000001,0.9,0.8,0.8,0.7000000000000001,0.8,0.7000000000000001,0.8,0.9,0.7000000000000001,0.6000000000000001,0.8,0.6000000000000001,0.6000000000000001,0.7000000000000001,0.7000000000000001,0.7000000000000001,0.7000000000000001,0.8,0.9,0.7000000000000001,0.6000000000000001,0.7000000000000001,0.7000000000000001,0.6000000000000001,0.6000000000000001,0.6000000000000001,0.8,0.4,0.4,0.4],\"type\":\"scatter\"}],                        {\"title\":{\"text\":\"Contour Plot\"},\"template\":{\"data\":{\"histogram2dcontour\":[{\"type\":\"histogram2dcontour\",\"colorbar\":{\"outlinewidth\":0,\"ticks\":\"\"},\"colorscale\":[[0.0,\"#0d0887\"],[0.1111111111111111,\"#46039f\"],[0.2222222222222222,\"#7201a8\"],[0.3333333333333333,\"#9c179e\"],[0.4444444444444444,\"#bd3786\"],[0.5555555555555556,\"#d8576b\"],[0.6666666666666666,\"#ed7953\"],[0.7777777777777778,\"#fb9f3a\"],[0.8888888888888888,\"#fdca26\"],[1.0,\"#f0f921\"]]}],\"choropleth\":[{\"type\":\"choropleth\",\"colorbar\":{\"outlinewidth\":0,\"ticks\":\"\"}}],\"histogram2d\":[{\"type\":\"histogram2d\",\"colorbar\":{\"outlinewidth\":0,\"ticks\":\"\"},\"colorscale\":[[0.0,\"#0d0887\"],[0.1111111111111111,\"#46039f\"],[0.2222222222222222,\"#7201a8\"],[0.3333333333333333,\"#9c179e\"],[0.4444444444444444,\"#bd3786\"],[0.5555555555555556,\"#d8576b\"],[0.6666666666666666,\"#ed7953\"],[0.7777777777777778,\"#fb9f3a\"],[0.8888888888888888,\"#fdca26\"],[1.0,\"#f0f921\"]]}],\"heatmap\":[{\"type\":\"heatmap\",\"colorbar\":{\"outlinewidth\":0,\"ticks\":\"\"},\"colorscale\":[[0.0,\"#0d0887\"],[0.1111111111111111,\"#46039f\"],[0.2222222222222222,\"#7201a8\"],[0.3333333333333333,\"#9c179e\"],[0.4444444444444444,\"#bd3786\"],[0.5555555555555556,\"#d8576b\"],[0.6666666666666666,\"#ed7953\"],[0.7777777777777778,\"#fb9f3a\"],[0.8888888888888888,\"#fdca26\"],[1.0,\"#f0f921\"]]}],\"heatmapgl\":[{\"type\":\"heatmapgl\",\"colorbar\":{\"outlinewidth\":0,\"ticks\":\"\"},\"colorscale\":[[0.0,\"#0d0887\"],[0.1111111111111111,\"#46039f\"],[0.2222222222222222,\"#7201a8\"],[0.3333333333333333,\"#9c179e\"],[0.4444444444444444,\"#bd3786\"],[0.5555555555555556,\"#d8576b\"],[0.6666666666666666,\"#ed7953\"],[0.7777777777777778,\"#fb9f3a\"],[0.8888888888888888,\"#fdca26\"],[1.0,\"#f0f921\"]]}],\"contourcarpet\":[{\"type\":\"contourcarpet\",\"colorbar\":{\"outlinewidth\":0,\"ticks\":\"\"}}],\"contour\":[{\"type\":\"contour\",\"colorbar\":{\"outlinewidth\":0,\"ticks\":\"\"},\"colorscale\":[[0.0,\"#0d0887\"],[0.1111111111111111,\"#46039f\"],[0.2222222222222222,\"#7201a8\"],[0.3333333333333333,\"#9c179e\"],[0.4444444444444444,\"#bd3786\"],[0.5555555555555556,\"#d8576b\"],[0.6666666666666666,\"#ed7953\"],[0.7777777777777778,\"#fb9f3a\"],[0.8888888888888888,\"#fdca26\"],[1.0,\"#f0f921\"]]}],\"surface\":[{\"type\":\"surface\",\"colorbar\":{\"outlinewidth\":0,\"ticks\":\"\"},\"colorscale\":[[0.0,\"#0d0887\"],[0.1111111111111111,\"#46039f\"],[0.2222222222222222,\"#7201a8\"],[0.3333333333333333,\"#9c179e\"],[0.4444444444444444,\"#bd3786\"],[0.5555555555555556,\"#d8576b\"],[0.6666666666666666,\"#ed7953\"],[0.7777777777777778,\"#fb9f3a\"],[0.8888888888888888,\"#fdca26\"],[1.0,\"#f0f921\"]]}],\"mesh3d\":[{\"type\":\"mesh3d\",\"colorbar\":{\"outlinewidth\":0,\"ticks\":\"\"}}],\"scatter\":[{\"fillpattern\":{\"fillmode\":\"overlay\",\"size\":10,\"solidity\":0.2},\"type\":\"scatter\"}],\"parcoords\":[{\"type\":\"parcoords\",\"line\":{\"colorbar\":{\"outlinewidth\":0,\"ticks\":\"\"}}}],\"scatterpolargl\":[{\"type\":\"scatterpolargl\",\"marker\":{\"colorbar\":{\"outlinewidth\":0,\"ticks\":\"\"}}}],\"bar\":[{\"error_x\":{\"color\":\"#2a3f5f\"},\"error_y\":{\"color\":\"#2a3f5f\"},\"marker\":{\"line\":{\"color\":\"#E5ECF6\",\"width\":0.5},\"pattern\":{\"fillmode\":\"overlay\",\"size\":10,\"solidity\":0.2}},\"type\":\"bar\"}],\"scattergeo\":[{\"type\":\"scattergeo\",\"marker\":{\"colorbar\":{\"outlinewidth\":0,\"ticks\":\"\"}}}],\"scatterpolar\":[{\"type\":\"scatterpolar\",\"marker\":{\"colorbar\":{\"outlinewidth\":0,\"ticks\":\"\"}}}],\"histogram\":[{\"marker\":{\"pattern\":{\"fillmode\":\"overlay\",\"size\":10,\"solidity\":0.2}},\"type\":\"histogram\"}],\"scattergl\":[{\"type\":\"scattergl\",\"marker\":{\"colorbar\":{\"outlinewidth\":0,\"ticks\":\"\"}}}],\"scatter3d\":[{\"type\":\"scatter3d\",\"line\":{\"colorbar\":{\"outlinewidth\":0,\"ticks\":\"\"}},\"marker\":{\"colorbar\":{\"outlinewidth\":0,\"ticks\":\"\"}}}],\"scattermapbox\":[{\"type\":\"scattermapbox\",\"marker\":{\"colorbar\":{\"outlinewidth\":0,\"ticks\":\"\"}}}],\"scatterternary\":[{\"type\":\"scatterternary\",\"marker\":{\"colorbar\":{\"outlinewidth\":0,\"ticks\":\"\"}}}],\"scattercarpet\":[{\"type\":\"scattercarpet\",\"marker\":{\"colorbar\":{\"outlinewidth\":0,\"ticks\":\"\"}}}],\"carpet\":[{\"aaxis\":{\"endlinecolor\":\"#2a3f5f\",\"gridcolor\":\"white\",\"linecolor\":\"white\",\"minorgridcolor\":\"white\",\"startlinecolor\":\"#2a3f5f\"},\"baxis\":{\"endlinecolor\":\"#2a3f5f\",\"gridcolor\":\"white\",\"linecolor\":\"white\",\"minorgridcolor\":\"white\",\"startlinecolor\":\"#2a3f5f\"},\"type\":\"carpet\"}],\"table\":[{\"cells\":{\"fill\":{\"color\":\"#EBF0F8\"},\"line\":{\"color\":\"white\"}},\"header\":{\"fill\":{\"color\":\"#C8D4E3\"},\"line\":{\"color\":\"white\"}},\"type\":\"table\"}],\"barpolar\":[{\"marker\":{\"line\":{\"color\":\"#E5ECF6\",\"width\":0.5},\"pattern\":{\"fillmode\":\"overlay\",\"size\":10,\"solidity\":0.2}},\"type\":\"barpolar\"}],\"pie\":[{\"automargin\":true,\"type\":\"pie\"}]},\"layout\":{\"autotypenumbers\":\"strict\",\"colorway\":[\"#636efa\",\"#EF553B\",\"#00cc96\",\"#ab63fa\",\"#FFA15A\",\"#19d3f3\",\"#FF6692\",\"#B6E880\",\"#FF97FF\",\"#FECB52\"],\"font\":{\"color\":\"#2a3f5f\"},\"hovermode\":\"closest\",\"hoverlabel\":{\"align\":\"left\"},\"paper_bgcolor\":\"white\",\"plot_bgcolor\":\"#E5ECF6\",\"polar\":{\"bgcolor\":\"#E5ECF6\",\"angularaxis\":{\"gridcolor\":\"white\",\"linecolor\":\"white\",\"ticks\":\"\"},\"radialaxis\":{\"gridcolor\":\"white\",\"linecolor\":\"white\",\"ticks\":\"\"}},\"ternary\":{\"bgcolor\":\"#E5ECF6\",\"aaxis\":{\"gridcolor\":\"white\",\"linecolor\":\"white\",\"ticks\":\"\"},\"baxis\":{\"gridcolor\":\"white\",\"linecolor\":\"white\",\"ticks\":\"\"},\"caxis\":{\"gridcolor\":\"white\",\"linecolor\":\"white\",\"ticks\":\"\"}},\"coloraxis\":{\"colorbar\":{\"outlinewidth\":0,\"ticks\":\"\"}},\"colorscale\":{\"sequential\":[[0.0,\"#0d0887\"],[0.1111111111111111,\"#46039f\"],[0.2222222222222222,\"#7201a8\"],[0.3333333333333333,\"#9c179e\"],[0.4444444444444444,\"#bd3786\"],[0.5555555555555556,\"#d8576b\"],[0.6666666666666666,\"#ed7953\"],[0.7777777777777778,\"#fb9f3a\"],[0.8888888888888888,\"#fdca26\"],[1.0,\"#f0f921\"]],\"sequentialminus\":[[0.0,\"#0d0887\"],[0.1111111111111111,\"#46039f\"],[0.2222222222222222,\"#7201a8\"],[0.3333333333333333,\"#9c179e\"],[0.4444444444444444,\"#bd3786\"],[0.5555555555555556,\"#d8576b\"],[0.6666666666666666,\"#ed7953\"],[0.7777777777777778,\"#fb9f3a\"],[0.8888888888888888,\"#fdca26\"],[1.0,\"#f0f921\"]],\"diverging\":[[0,\"#8e0152\"],[0.1,\"#c51b7d\"],[0.2,\"#de77ae\"],[0.3,\"#f1b6da\"],[0.4,\"#fde0ef\"],[0.5,\"#f7f7f7\"],[0.6,\"#e6f5d0\"],[0.7,\"#b8e186\"],[0.8,\"#7fbc41\"],[0.9,\"#4d9221\"],[1,\"#276419\"]]},\"xaxis\":{\"gridcolor\":\"white\",\"linecolor\":\"white\",\"ticks\":\"\",\"title\":{\"standoff\":15},\"zerolinecolor\":\"white\",\"automargin\":true,\"zerolinewidth\":2},\"yaxis\":{\"gridcolor\":\"white\",\"linecolor\":\"white\",\"ticks\":\"\",\"title\":{\"standoff\":15},\"zerolinecolor\":\"white\",\"automargin\":true,\"zerolinewidth\":2},\"scene\":{\"xaxis\":{\"backgroundcolor\":\"#E5ECF6\",\"gridcolor\":\"white\",\"linecolor\":\"white\",\"showbackground\":true,\"ticks\":\"\",\"zerolinecolor\":\"white\",\"gridwidth\":2},\"yaxis\":{\"backgroundcolor\":\"#E5ECF6\",\"gridcolor\":\"white\",\"linecolor\":\"white\",\"showbackground\":true,\"ticks\":\"\",\"zerolinecolor\":\"white\",\"gridwidth\":2},\"zaxis\":{\"backgroundcolor\":\"#E5ECF6\",\"gridcolor\":\"white\",\"linecolor\":\"white\",\"showbackground\":true,\"ticks\":\"\",\"zerolinecolor\":\"white\",\"gridwidth\":2}},\"shapedefaults\":{\"line\":{\"color\":\"#2a3f5f\"}},\"annotationdefaults\":{\"arrowcolor\":\"#2a3f5f\",\"arrowhead\":0,\"arrowwidth\":1},\"geo\":{\"bgcolor\":\"white\",\"landcolor\":\"#E5ECF6\",\"subunitcolor\":\"white\",\"showland\":true,\"showlakes\":true,\"lakecolor\":\"white\"},\"title\":{\"x\":0.05},\"mapbox\":{\"style\":\"light\"}}},\"xaxis\":{\"title\":{\"text\":\"LIST_LLLR_VERSION\"},\"range\":[-0.05,1.05],\"type\":\"category\"},\"yaxis\":{\"title\":{\"text\":\"LIST_PARAM_LLR_LOSS\"},\"range\":[-0.05,1.05]}},                        {\"responsive\": true}                    ).then(function(){\n",
       "                            \n",
       "var gd = document.getElementById('431a6f52-db72-4e67-9d21-63e381ccb04d');\n",
       "var x = new MutationObserver(function (mutations, observer) {{\n",
       "        var display = window.getComputedStyle(gd).display;\n",
       "        if (!display || display === 'none') {{\n",
       "            console.log([gd, 'removed!']);\n",
       "            Plotly.purge(gd);\n",
       "            observer.disconnect();\n",
       "        }}\n",
       "}});\n",
       "\n",
       "// Listen for the removal of the full notebook cells\n",
       "var notebookContainer = gd.closest('#notebook-container');\n",
       "if (notebookContainer) {{\n",
       "    x.observe(notebookContainer, {childList: true});\n",
       "}}\n",
       "\n",
       "// Listen for the clearing of the current output cell\n",
       "var outputEl = gd.closest('.output');\n",
       "if (outputEl) {{\n",
       "    x.observe(outputEl, {childList: true});\n",
       "}}\n",
       "\n",
       "                        })                };                });            </script>        </div>"
      ]
     },
     "metadata": {},
     "output_type": "display_data"
    }
   ],
   "source": [
    "optuna.visualization.plot_contour(study, params=[\n",
    "    'LIST_PARAM_LLR_LOSS', \n",
    "    'LIST_LLLR_VERSION', \n",
    "])"
   ]
  },
  {
   "attachments": {},
   "cell_type": "markdown",
   "metadata": {},
   "source": [
    "# Slice plot"
   ]
  },
  {
   "cell_type": "code",
   "execution_count": 34,
   "metadata": {},
   "outputs": [
    {
     "data": {
      "application/vnd.plotly.v1+json": {
       "config": {
        "plotlyServerURL": "https://plot.ly"
       },
       "data": [
        {
         "marker": {
          "color": [
           0,
           1,
           2,
           3,
           4,
           5,
           6,
           7,
           8,
           9,
           10,
           11,
           12,
           13,
           14,
           15,
           16,
           17,
           18,
           19,
           20,
           21,
           22,
           23,
           24,
           25,
           26,
           27,
           28,
           29,
           30,
           31,
           32,
           33,
           34,
           35,
           36,
           37,
           38,
           39,
           40,
           41,
           42,
           43,
           44,
           45,
           46,
           47,
           48,
           49,
           50,
           51,
           52,
           53,
           54,
           55,
           56,
           57,
           58,
           59,
           60,
           61,
           62,
           63,
           64,
           65,
           66,
           67,
           68,
           69,
           70,
           71,
           72,
           73,
           74,
           75,
           76,
           77,
           78,
           79,
           80,
           81,
           82,
           83,
           84,
           85,
           86,
           87,
           88,
           89,
           90,
           91,
           92,
           93,
           94,
           95,
           96,
           97,
           98,
           99
          ],
          "colorbar": {
           "title": {
            "text": "Trial"
           },
           "x": 1,
           "xpad": 40
          },
          "colorscale": [
           [
            0,
            "rgb(247,251,255)"
           ],
           [
            0.125,
            "rgb(222,235,247)"
           ],
           [
            0.25,
            "rgb(198,219,239)"
           ],
           [
            0.375,
            "rgb(158,202,225)"
           ],
           [
            0.5,
            "rgb(107,174,214)"
           ],
           [
            0.625,
            "rgb(66,146,198)"
           ],
           [
            0.75,
            "rgb(33,113,181)"
           ],
           [
            0.875,
            "rgb(8,81,156)"
           ],
           [
            1,
            "rgb(8,48,107)"
           ]
          ],
          "line": {
           "color": "Grey",
           "width": 0.5
          },
          "showscale": true
         },
         "mode": "markers",
         "showlegend": false,
         "type": "scatter",
         "x": [
          "LSEL",
          "LLLR",
          "LLLR",
          "LSEL",
          "LLLR",
          "LSEL",
          "LSEL",
          "LLLR",
          "LLLR",
          "LSEL",
          "LLLR",
          "LLLR",
          "LLLR",
          "LLLR",
          "LLLR",
          "LLLR",
          "LLLR",
          "LLLR",
          "LLLR",
          "LLLR",
          "LLLR",
          "LLLR",
          "LLLR",
          "LLLR",
          "LLLR",
          "LLLR",
          "LSEL",
          "LSEL",
          "LSEL",
          "LSEL",
          "LSEL",
          "LSEL",
          "LSEL",
          "LSEL",
          "LSEL",
          "LSEL",
          "LSEL",
          "LSEL",
          "LSEL",
          "LSEL",
          "LSEL",
          "LSEL",
          "LSEL",
          "LSEL",
          "LSEL",
          "LSEL",
          "LSEL",
          "LSEL",
          "LSEL",
          "LSEL",
          "LSEL",
          "LSEL",
          "LSEL",
          "LSEL",
          "LSEL",
          "LSEL",
          "LSEL",
          "LSEL",
          "LSEL",
          "LSEL",
          "LSEL",
          "LSEL",
          "LSEL",
          "LSEL",
          "LSEL",
          "LSEL",
          "LSEL",
          "LSEL",
          "LSEL",
          "LSEL",
          "LSEL",
          "LSEL",
          "LSEL",
          "LSEL",
          "LSEL",
          "LSEL",
          "LSEL",
          "LSEL",
          "LSEL",
          "LSEL",
          "LSEL",
          "LSEL",
          "LSEL",
          "LSEL",
          "LSEL",
          "LSEL",
          "LSEL",
          "LSEL",
          "LSEL",
          "LSEL",
          "LLLR",
          "LSEL",
          "LSEL",
          "LSEL",
          "LSEL",
          "LSEL",
          "LSEL",
          "LSEL",
          "LSEL",
          "LSEL"
         ],
         "xaxis": "x",
         "y": [
          0.0495525598526001,
          0.05263876914978027,
          0.13928735256195068,
          0.07459932565689087,
          0.021068453788757324,
          0.5578498244285583,
          0.1147734522819519,
          0.5816274583339691,
          0.025217950344085693,
          0.023562967777252197,
          0.018257975578308105,
          0.01891958713531494,
          0.018514037132263184,
          0.0212898850440979,
          0.02044922113418579,
          0.02251911163330078,
          0.023686528205871582,
          0.125626802444458,
          0.019521117210388184,
          0.019025981426239014,
          0.021994471549987793,
          0.018754303455352783,
          0.017557859420776367,
          0.019997894763946533,
          0.02119213342666626,
          0.021356403827667236,
          0.017502546310424805,
          0.018216371536254883,
          0.023171305656433105,
          0.022056281566619873,
          0.02110224962234497,
          0.017410576343536377,
          0.019484221935272217,
          0.020790040493011475,
          0.11862140893936157,
          0.022608816623687744,
          0.01857966184616089,
          0.016635537147521973,
          0.34778892993927,
          0.01701122522354126,
          0.01956915855407715,
          0.017308354377746582,
          0.016974031925201416,
          0.017678797245025635,
          0.01875293254852295,
          0.019313573837280273,
          0.018069028854370117,
          0.017033398151397705,
          0.021504104137420654,
          0.018155038356781006,
          0.01858919858932495,
          0.0186578631401062,
          0.01748567819595337,
          0.01717090606689453,
          0.02748626470565796,
          0.021634280681610107,
          0.017608821392059326,
          0.018077731132507324,
          0.015880465507507324,
          0.02036350965499878,
          0.018354177474975586,
          0.018104493618011475,
          0.017974853515625,
          0.019441723823547363,
          0.017419874668121338,
          0.023507654666900635,
          0.01762157678604126,
          0.017135024070739746,
          0.016651511192321777,
          0.0190085768699646,
          0.0177304744720459,
          0.01685410737991333,
          0.01812654733657837,
          0.018880844116210938,
          0.01824551820755005,
          0.01781708002090454,
          0.017528235912322998,
          0.017611324787139893,
          0.015432298183441162,
          0.016986429691314697,
          0.018716812133789062,
          0.018149077892303467,
          0.018729686737060547,
          0.01755291223526001,
          0.016190528869628906,
          0.019175708293914795,
          0.017005324363708496,
          0.021039962768554688,
          0.02290964126586914,
          0.017471015453338623,
          0.017824828624725342,
          0.018854498863220215,
          0.019290566444396973,
          0.016435563564300537,
          0.01710587739944458,
          0.018757998943328857,
          0.01766836643218994,
          0.016545653343200684,
          0.022514760494232178,
          0.01866316795349121
         ],
         "yaxis": "y"
        },
        {
         "marker": {
          "color": [
           0,
           1,
           2,
           3,
           4,
           5,
           6,
           7,
           8,
           9,
           10,
           11,
           12,
           13,
           14,
           15,
           16,
           17,
           18,
           19,
           20,
           21,
           22,
           23,
           24,
           25,
           26,
           27,
           28,
           29,
           30,
           31,
           32,
           33,
           34,
           35,
           36,
           37,
           38,
           39,
           40,
           41,
           42,
           43,
           44,
           45,
           46,
           47,
           48,
           49,
           50,
           51,
           52,
           53,
           54,
           55,
           56,
           57,
           58,
           59,
           60,
           61,
           62,
           63,
           64,
           65,
           66,
           67,
           68,
           69,
           70,
           71,
           72,
           73,
           74,
           75,
           76,
           77,
           78,
           79,
           80,
           81,
           82,
           83,
           84,
           85,
           86,
           87,
           88,
           89,
           90,
           91,
           92,
           93,
           94,
           95,
           96,
           97,
           98,
           99
          ],
          "colorbar": {
           "title": {
            "text": "Trial"
           },
           "x": 1,
           "xpad": 40
          },
          "colorscale": [
           [
            0,
            "rgb(247,251,255)"
           ],
           [
            0.125,
            "rgb(222,235,247)"
           ],
           [
            0.25,
            "rgb(198,219,239)"
           ],
           [
            0.375,
            "rgb(158,202,225)"
           ],
           [
            0.5,
            "rgb(107,174,214)"
           ],
           [
            0.625,
            "rgb(66,146,198)"
           ],
           [
            0.75,
            "rgb(33,113,181)"
           ],
           [
            0.875,
            "rgb(8,81,156)"
           ],
           [
            1,
            "rgb(8,48,107)"
           ]
          ],
          "line": {
           "color": "Grey",
           "width": 0.5
          },
          "showscale": false
         },
         "mode": "markers",
         "showlegend": false,
         "type": "scatter",
         "x": [
          0.8,
          0.1,
          0.6000000000000001,
          0.5,
          0.9,
          1,
          0.5,
          0.5,
          0.9,
          0.9,
          0.1,
          0,
          0,
          0.2,
          0.30000000000000004,
          0,
          0.30000000000000004,
          0.2,
          0.1,
          0.30000000000000004,
          0,
          0,
          0.1,
          0.2,
          0.1,
          0.4,
          0.1,
          0.2,
          0.4,
          0.7000000000000001,
          0.2,
          0.1,
          0.1,
          0.1,
          0.2,
          0.4,
          0.30000000000000004,
          0.6000000000000001,
          0.6000000000000001,
          0.7000000000000001,
          0.7000000000000001,
          0.6000000000000001,
          0.6000000000000001,
          0.6000000000000001,
          0.7000000000000001,
          0.8,
          0.8,
          0.6000000000000001,
          0.6000000000000001,
          0.5,
          0.7000000000000001,
          0.6000000000000001,
          0.5,
          0.5,
          0.5,
          0.7000000000000001,
          0.6000000000000001,
          0.6000000000000001,
          0.8,
          1,
          0.8,
          0.9,
          0.8,
          0.7000000000000001,
          0.5,
          0.5,
          0.6000000000000001,
          0.7000000000000001,
          0.7000000000000001,
          0.7000000000000001,
          0.9,
          0.8,
          0.8,
          0.7000000000000001,
          0.8,
          0.7000000000000001,
          0.8,
          0.9,
          0.7000000000000001,
          0.6000000000000001,
          0.8,
          0.6000000000000001,
          0.6000000000000001,
          0.7000000000000001,
          0.7000000000000001,
          0.7000000000000001,
          0.7000000000000001,
          0.8,
          0.9,
          0.7000000000000001,
          0.6000000000000001,
          0.7000000000000001,
          0.7000000000000001,
          0.6000000000000001,
          0.6000000000000001,
          0.6000000000000001,
          0.8,
          0.4,
          0.4,
          0.4
         ],
         "xaxis": "x2",
         "y": [
          0.0495525598526001,
          0.05263876914978027,
          0.13928735256195068,
          0.07459932565689087,
          0.021068453788757324,
          0.5578498244285583,
          0.1147734522819519,
          0.5816274583339691,
          0.025217950344085693,
          0.023562967777252197,
          0.018257975578308105,
          0.01891958713531494,
          0.018514037132263184,
          0.0212898850440979,
          0.02044922113418579,
          0.02251911163330078,
          0.023686528205871582,
          0.125626802444458,
          0.019521117210388184,
          0.019025981426239014,
          0.021994471549987793,
          0.018754303455352783,
          0.017557859420776367,
          0.019997894763946533,
          0.02119213342666626,
          0.021356403827667236,
          0.017502546310424805,
          0.018216371536254883,
          0.023171305656433105,
          0.022056281566619873,
          0.02110224962234497,
          0.017410576343536377,
          0.019484221935272217,
          0.020790040493011475,
          0.11862140893936157,
          0.022608816623687744,
          0.01857966184616089,
          0.016635537147521973,
          0.34778892993927,
          0.01701122522354126,
          0.01956915855407715,
          0.017308354377746582,
          0.016974031925201416,
          0.017678797245025635,
          0.01875293254852295,
          0.019313573837280273,
          0.018069028854370117,
          0.017033398151397705,
          0.021504104137420654,
          0.018155038356781006,
          0.01858919858932495,
          0.0186578631401062,
          0.01748567819595337,
          0.01717090606689453,
          0.02748626470565796,
          0.021634280681610107,
          0.017608821392059326,
          0.018077731132507324,
          0.015880465507507324,
          0.02036350965499878,
          0.018354177474975586,
          0.018104493618011475,
          0.017974853515625,
          0.019441723823547363,
          0.017419874668121338,
          0.023507654666900635,
          0.01762157678604126,
          0.017135024070739746,
          0.016651511192321777,
          0.0190085768699646,
          0.0177304744720459,
          0.01685410737991333,
          0.01812654733657837,
          0.018880844116210938,
          0.01824551820755005,
          0.01781708002090454,
          0.017528235912322998,
          0.017611324787139893,
          0.015432298183441162,
          0.016986429691314697,
          0.018716812133789062,
          0.018149077892303467,
          0.018729686737060547,
          0.01755291223526001,
          0.016190528869628906,
          0.019175708293914795,
          0.017005324363708496,
          0.021039962768554688,
          0.02290964126586914,
          0.017471015453338623,
          0.017824828624725342,
          0.018854498863220215,
          0.019290566444396973,
          0.016435563564300537,
          0.01710587739944458,
          0.018757998943328857,
          0.01766836643218994,
          0.016545653343200684,
          0.022514760494232178,
          0.01866316795349121
         ],
         "yaxis": "y2"
        }
       ],
       "layout": {
        "template": {
         "data": {
          "bar": [
           {
            "error_x": {
             "color": "#2a3f5f"
            },
            "error_y": {
             "color": "#2a3f5f"
            },
            "marker": {
             "line": {
              "color": "#E5ECF6",
              "width": 0.5
             },
             "pattern": {
              "fillmode": "overlay",
              "size": 10,
              "solidity": 0.2
             }
            },
            "type": "bar"
           }
          ],
          "barpolar": [
           {
            "marker": {
             "line": {
              "color": "#E5ECF6",
              "width": 0.5
             },
             "pattern": {
              "fillmode": "overlay",
              "size": 10,
              "solidity": 0.2
             }
            },
            "type": "barpolar"
           }
          ],
          "carpet": [
           {
            "aaxis": {
             "endlinecolor": "#2a3f5f",
             "gridcolor": "white",
             "linecolor": "white",
             "minorgridcolor": "white",
             "startlinecolor": "#2a3f5f"
            },
            "baxis": {
             "endlinecolor": "#2a3f5f",
             "gridcolor": "white",
             "linecolor": "white",
             "minorgridcolor": "white",
             "startlinecolor": "#2a3f5f"
            },
            "type": "carpet"
           }
          ],
          "choropleth": [
           {
            "colorbar": {
             "outlinewidth": 0,
             "ticks": ""
            },
            "type": "choropleth"
           }
          ],
          "contour": [
           {
            "colorbar": {
             "outlinewidth": 0,
             "ticks": ""
            },
            "colorscale": [
             [
              0,
              "#0d0887"
             ],
             [
              0.1111111111111111,
              "#46039f"
             ],
             [
              0.2222222222222222,
              "#7201a8"
             ],
             [
              0.3333333333333333,
              "#9c179e"
             ],
             [
              0.4444444444444444,
              "#bd3786"
             ],
             [
              0.5555555555555556,
              "#d8576b"
             ],
             [
              0.6666666666666666,
              "#ed7953"
             ],
             [
              0.7777777777777778,
              "#fb9f3a"
             ],
             [
              0.8888888888888888,
              "#fdca26"
             ],
             [
              1,
              "#f0f921"
             ]
            ],
            "type": "contour"
           }
          ],
          "contourcarpet": [
           {
            "colorbar": {
             "outlinewidth": 0,
             "ticks": ""
            },
            "type": "contourcarpet"
           }
          ],
          "heatmap": [
           {
            "colorbar": {
             "outlinewidth": 0,
             "ticks": ""
            },
            "colorscale": [
             [
              0,
              "#0d0887"
             ],
             [
              0.1111111111111111,
              "#46039f"
             ],
             [
              0.2222222222222222,
              "#7201a8"
             ],
             [
              0.3333333333333333,
              "#9c179e"
             ],
             [
              0.4444444444444444,
              "#bd3786"
             ],
             [
              0.5555555555555556,
              "#d8576b"
             ],
             [
              0.6666666666666666,
              "#ed7953"
             ],
             [
              0.7777777777777778,
              "#fb9f3a"
             ],
             [
              0.8888888888888888,
              "#fdca26"
             ],
             [
              1,
              "#f0f921"
             ]
            ],
            "type": "heatmap"
           }
          ],
          "heatmapgl": [
           {
            "colorbar": {
             "outlinewidth": 0,
             "ticks": ""
            },
            "colorscale": [
             [
              0,
              "#0d0887"
             ],
             [
              0.1111111111111111,
              "#46039f"
             ],
             [
              0.2222222222222222,
              "#7201a8"
             ],
             [
              0.3333333333333333,
              "#9c179e"
             ],
             [
              0.4444444444444444,
              "#bd3786"
             ],
             [
              0.5555555555555556,
              "#d8576b"
             ],
             [
              0.6666666666666666,
              "#ed7953"
             ],
             [
              0.7777777777777778,
              "#fb9f3a"
             ],
             [
              0.8888888888888888,
              "#fdca26"
             ],
             [
              1,
              "#f0f921"
             ]
            ],
            "type": "heatmapgl"
           }
          ],
          "histogram": [
           {
            "marker": {
             "pattern": {
              "fillmode": "overlay",
              "size": 10,
              "solidity": 0.2
             }
            },
            "type": "histogram"
           }
          ],
          "histogram2d": [
           {
            "colorbar": {
             "outlinewidth": 0,
             "ticks": ""
            },
            "colorscale": [
             [
              0,
              "#0d0887"
             ],
             [
              0.1111111111111111,
              "#46039f"
             ],
             [
              0.2222222222222222,
              "#7201a8"
             ],
             [
              0.3333333333333333,
              "#9c179e"
             ],
             [
              0.4444444444444444,
              "#bd3786"
             ],
             [
              0.5555555555555556,
              "#d8576b"
             ],
             [
              0.6666666666666666,
              "#ed7953"
             ],
             [
              0.7777777777777778,
              "#fb9f3a"
             ],
             [
              0.8888888888888888,
              "#fdca26"
             ],
             [
              1,
              "#f0f921"
             ]
            ],
            "type": "histogram2d"
           }
          ],
          "histogram2dcontour": [
           {
            "colorbar": {
             "outlinewidth": 0,
             "ticks": ""
            },
            "colorscale": [
             [
              0,
              "#0d0887"
             ],
             [
              0.1111111111111111,
              "#46039f"
             ],
             [
              0.2222222222222222,
              "#7201a8"
             ],
             [
              0.3333333333333333,
              "#9c179e"
             ],
             [
              0.4444444444444444,
              "#bd3786"
             ],
             [
              0.5555555555555556,
              "#d8576b"
             ],
             [
              0.6666666666666666,
              "#ed7953"
             ],
             [
              0.7777777777777778,
              "#fb9f3a"
             ],
             [
              0.8888888888888888,
              "#fdca26"
             ],
             [
              1,
              "#f0f921"
             ]
            ],
            "type": "histogram2dcontour"
           }
          ],
          "mesh3d": [
           {
            "colorbar": {
             "outlinewidth": 0,
             "ticks": ""
            },
            "type": "mesh3d"
           }
          ],
          "parcoords": [
           {
            "line": {
             "colorbar": {
              "outlinewidth": 0,
              "ticks": ""
             }
            },
            "type": "parcoords"
           }
          ],
          "pie": [
           {
            "automargin": true,
            "type": "pie"
           }
          ],
          "scatter": [
           {
            "fillpattern": {
             "fillmode": "overlay",
             "size": 10,
             "solidity": 0.2
            },
            "type": "scatter"
           }
          ],
          "scatter3d": [
           {
            "line": {
             "colorbar": {
              "outlinewidth": 0,
              "ticks": ""
             }
            },
            "marker": {
             "colorbar": {
              "outlinewidth": 0,
              "ticks": ""
             }
            },
            "type": "scatter3d"
           }
          ],
          "scattercarpet": [
           {
            "marker": {
             "colorbar": {
              "outlinewidth": 0,
              "ticks": ""
             }
            },
            "type": "scattercarpet"
           }
          ],
          "scattergeo": [
           {
            "marker": {
             "colorbar": {
              "outlinewidth": 0,
              "ticks": ""
             }
            },
            "type": "scattergeo"
           }
          ],
          "scattergl": [
           {
            "marker": {
             "colorbar": {
              "outlinewidth": 0,
              "ticks": ""
             }
            },
            "type": "scattergl"
           }
          ],
          "scattermapbox": [
           {
            "marker": {
             "colorbar": {
              "outlinewidth": 0,
              "ticks": ""
             }
            },
            "type": "scattermapbox"
           }
          ],
          "scatterpolar": [
           {
            "marker": {
             "colorbar": {
              "outlinewidth": 0,
              "ticks": ""
             }
            },
            "type": "scatterpolar"
           }
          ],
          "scatterpolargl": [
           {
            "marker": {
             "colorbar": {
              "outlinewidth": 0,
              "ticks": ""
             }
            },
            "type": "scatterpolargl"
           }
          ],
          "scatterternary": [
           {
            "marker": {
             "colorbar": {
              "outlinewidth": 0,
              "ticks": ""
             }
            },
            "type": "scatterternary"
           }
          ],
          "surface": [
           {
            "colorbar": {
             "outlinewidth": 0,
             "ticks": ""
            },
            "colorscale": [
             [
              0,
              "#0d0887"
             ],
             [
              0.1111111111111111,
              "#46039f"
             ],
             [
              0.2222222222222222,
              "#7201a8"
             ],
             [
              0.3333333333333333,
              "#9c179e"
             ],
             [
              0.4444444444444444,
              "#bd3786"
             ],
             [
              0.5555555555555556,
              "#d8576b"
             ],
             [
              0.6666666666666666,
              "#ed7953"
             ],
             [
              0.7777777777777778,
              "#fb9f3a"
             ],
             [
              0.8888888888888888,
              "#fdca26"
             ],
             [
              1,
              "#f0f921"
             ]
            ],
            "type": "surface"
           }
          ],
          "table": [
           {
            "cells": {
             "fill": {
              "color": "#EBF0F8"
             },
             "line": {
              "color": "white"
             }
            },
            "header": {
             "fill": {
              "color": "#C8D4E3"
             },
             "line": {
              "color": "white"
             }
            },
            "type": "table"
           }
          ]
         },
         "layout": {
          "annotationdefaults": {
           "arrowcolor": "#2a3f5f",
           "arrowhead": 0,
           "arrowwidth": 1
          },
          "autotypenumbers": "strict",
          "coloraxis": {
           "colorbar": {
            "outlinewidth": 0,
            "ticks": ""
           }
          },
          "colorscale": {
           "diverging": [
            [
             0,
             "#8e0152"
            ],
            [
             0.1,
             "#c51b7d"
            ],
            [
             0.2,
             "#de77ae"
            ],
            [
             0.3,
             "#f1b6da"
            ],
            [
             0.4,
             "#fde0ef"
            ],
            [
             0.5,
             "#f7f7f7"
            ],
            [
             0.6,
             "#e6f5d0"
            ],
            [
             0.7,
             "#b8e186"
            ],
            [
             0.8,
             "#7fbc41"
            ],
            [
             0.9,
             "#4d9221"
            ],
            [
             1,
             "#276419"
            ]
           ],
           "sequential": [
            [
             0,
             "#0d0887"
            ],
            [
             0.1111111111111111,
             "#46039f"
            ],
            [
             0.2222222222222222,
             "#7201a8"
            ],
            [
             0.3333333333333333,
             "#9c179e"
            ],
            [
             0.4444444444444444,
             "#bd3786"
            ],
            [
             0.5555555555555556,
             "#d8576b"
            ],
            [
             0.6666666666666666,
             "#ed7953"
            ],
            [
             0.7777777777777778,
             "#fb9f3a"
            ],
            [
             0.8888888888888888,
             "#fdca26"
            ],
            [
             1,
             "#f0f921"
            ]
           ],
           "sequentialminus": [
            [
             0,
             "#0d0887"
            ],
            [
             0.1111111111111111,
             "#46039f"
            ],
            [
             0.2222222222222222,
             "#7201a8"
            ],
            [
             0.3333333333333333,
             "#9c179e"
            ],
            [
             0.4444444444444444,
             "#bd3786"
            ],
            [
             0.5555555555555556,
             "#d8576b"
            ],
            [
             0.6666666666666666,
             "#ed7953"
            ],
            [
             0.7777777777777778,
             "#fb9f3a"
            ],
            [
             0.8888888888888888,
             "#fdca26"
            ],
            [
             1,
             "#f0f921"
            ]
           ]
          },
          "colorway": [
           "#636efa",
           "#EF553B",
           "#00cc96",
           "#ab63fa",
           "#FFA15A",
           "#19d3f3",
           "#FF6692",
           "#B6E880",
           "#FF97FF",
           "#FECB52"
          ],
          "font": {
           "color": "#2a3f5f"
          },
          "geo": {
           "bgcolor": "white",
           "lakecolor": "white",
           "landcolor": "#E5ECF6",
           "showlakes": true,
           "showland": true,
           "subunitcolor": "white"
          },
          "hoverlabel": {
           "align": "left"
          },
          "hovermode": "closest",
          "mapbox": {
           "style": "light"
          },
          "paper_bgcolor": "white",
          "plot_bgcolor": "#E5ECF6",
          "polar": {
           "angularaxis": {
            "gridcolor": "white",
            "linecolor": "white",
            "ticks": ""
           },
           "bgcolor": "#E5ECF6",
           "radialaxis": {
            "gridcolor": "white",
            "linecolor": "white",
            "ticks": ""
           }
          },
          "scene": {
           "xaxis": {
            "backgroundcolor": "#E5ECF6",
            "gridcolor": "white",
            "gridwidth": 2,
            "linecolor": "white",
            "showbackground": true,
            "ticks": "",
            "zerolinecolor": "white"
           },
           "yaxis": {
            "backgroundcolor": "#E5ECF6",
            "gridcolor": "white",
            "gridwidth": 2,
            "linecolor": "white",
            "showbackground": true,
            "ticks": "",
            "zerolinecolor": "white"
           },
           "zaxis": {
            "backgroundcolor": "#E5ECF6",
            "gridcolor": "white",
            "gridwidth": 2,
            "linecolor": "white",
            "showbackground": true,
            "ticks": "",
            "zerolinecolor": "white"
           }
          },
          "shapedefaults": {
           "line": {
            "color": "#2a3f5f"
           }
          },
          "ternary": {
           "aaxis": {
            "gridcolor": "white",
            "linecolor": "white",
            "ticks": ""
           },
           "baxis": {
            "gridcolor": "white",
            "linecolor": "white",
            "ticks": ""
           },
           "bgcolor": "#E5ECF6",
           "caxis": {
            "gridcolor": "white",
            "linecolor": "white",
            "ticks": ""
           }
          },
          "title": {
           "x": 0.05
          },
          "xaxis": {
           "automargin": true,
           "gridcolor": "white",
           "linecolor": "white",
           "ticks": "",
           "title": {
            "standoff": 15
           },
           "zerolinecolor": "white",
           "zerolinewidth": 2
          },
          "yaxis": {
           "automargin": true,
           "gridcolor": "white",
           "linecolor": "white",
           "ticks": "",
           "title": {
            "standoff": 15
           },
           "zerolinecolor": "white",
           "zerolinewidth": 2
          }
         }
        },
        "title": {
         "text": "Slice Plot"
        },
        "xaxis": {
         "anchor": "y",
         "domain": [
          0,
          0.45
         ],
         "title": {
          "text": "LIST_LLLR_VERSION"
         }
        },
        "xaxis2": {
         "anchor": "y2",
         "domain": [
          0.55,
          1
         ],
         "title": {
          "text": "LIST_PARAM_LLR_LOSS"
         }
        },
        "yaxis": {
         "anchor": "x",
         "domain": [
          0,
          1
         ],
         "title": {
          "text": "Objective Value"
         }
        },
        "yaxis2": {
         "anchor": "x2",
         "domain": [
          0,
          1
         ],
         "matches": "y",
         "showticklabels": false
        }
       }
      },
      "text/html": [
       "<div>                            <div id=\"13925e86-613f-40e9-a163-81f52cf02aaf\" class=\"plotly-graph-div\" style=\"height:525px; width:100%;\"></div>            <script type=\"text/javascript\">                require([\"plotly\"], function(Plotly) {                    window.PLOTLYENV=window.PLOTLYENV || {};                                    if (document.getElementById(\"13925e86-613f-40e9-a163-81f52cf02aaf\")) {                    Plotly.newPlot(                        \"13925e86-613f-40e9-a163-81f52cf02aaf\",                        [{\"marker\":{\"color\":[0,1,2,3,4,5,6,7,8,9,10,11,12,13,14,15,16,17,18,19,20,21,22,23,24,25,26,27,28,29,30,31,32,33,34,35,36,37,38,39,40,41,42,43,44,45,46,47,48,49,50,51,52,53,54,55,56,57,58,59,60,61,62,63,64,65,66,67,68,69,70,71,72,73,74,75,76,77,78,79,80,81,82,83,84,85,86,87,88,89,90,91,92,93,94,95,96,97,98,99],\"colorbar\":{\"title\":{\"text\":\"Trial\"},\"x\":1.0,\"xpad\":40},\"colorscale\":[[0.0,\"rgb(247,251,255)\"],[0.125,\"rgb(222,235,247)\"],[0.25,\"rgb(198,219,239)\"],[0.375,\"rgb(158,202,225)\"],[0.5,\"rgb(107,174,214)\"],[0.625,\"rgb(66,146,198)\"],[0.75,\"rgb(33,113,181)\"],[0.875,\"rgb(8,81,156)\"],[1.0,\"rgb(8,48,107)\"]],\"line\":{\"color\":\"Grey\",\"width\":0.5},\"showscale\":true},\"mode\":\"markers\",\"showlegend\":false,\"x\":[\"LSEL\",\"LLLR\",\"LLLR\",\"LSEL\",\"LLLR\",\"LSEL\",\"LSEL\",\"LLLR\",\"LLLR\",\"LSEL\",\"LLLR\",\"LLLR\",\"LLLR\",\"LLLR\",\"LLLR\",\"LLLR\",\"LLLR\",\"LLLR\",\"LLLR\",\"LLLR\",\"LLLR\",\"LLLR\",\"LLLR\",\"LLLR\",\"LLLR\",\"LLLR\",\"LSEL\",\"LSEL\",\"LSEL\",\"LSEL\",\"LSEL\",\"LSEL\",\"LSEL\",\"LSEL\",\"LSEL\",\"LSEL\",\"LSEL\",\"LSEL\",\"LSEL\",\"LSEL\",\"LSEL\",\"LSEL\",\"LSEL\",\"LSEL\",\"LSEL\",\"LSEL\",\"LSEL\",\"LSEL\",\"LSEL\",\"LSEL\",\"LSEL\",\"LSEL\",\"LSEL\",\"LSEL\",\"LSEL\",\"LSEL\",\"LSEL\",\"LSEL\",\"LSEL\",\"LSEL\",\"LSEL\",\"LSEL\",\"LSEL\",\"LSEL\",\"LSEL\",\"LSEL\",\"LSEL\",\"LSEL\",\"LSEL\",\"LSEL\",\"LSEL\",\"LSEL\",\"LSEL\",\"LSEL\",\"LSEL\",\"LSEL\",\"LSEL\",\"LSEL\",\"LSEL\",\"LSEL\",\"LSEL\",\"LSEL\",\"LSEL\",\"LSEL\",\"LSEL\",\"LSEL\",\"LSEL\",\"LSEL\",\"LSEL\",\"LSEL\",\"LLLR\",\"LSEL\",\"LSEL\",\"LSEL\",\"LSEL\",\"LSEL\",\"LSEL\",\"LSEL\",\"LSEL\",\"LSEL\"],\"y\":[0.0495525598526001,0.05263876914978027,0.13928735256195068,0.07459932565689087,0.021068453788757324,0.5578498244285583,0.1147734522819519,0.5816274583339691,0.025217950344085693,0.023562967777252197,0.018257975578308105,0.01891958713531494,0.018514037132263184,0.0212898850440979,0.02044922113418579,0.02251911163330078,0.023686528205871582,0.125626802444458,0.019521117210388184,0.019025981426239014,0.021994471549987793,0.018754303455352783,0.017557859420776367,0.019997894763946533,0.02119213342666626,0.021356403827667236,0.017502546310424805,0.018216371536254883,0.023171305656433105,0.022056281566619873,0.02110224962234497,0.017410576343536377,0.019484221935272217,0.020790040493011475,0.11862140893936157,0.022608816623687744,0.01857966184616089,0.016635537147521973,0.34778892993927,0.01701122522354126,0.01956915855407715,0.017308354377746582,0.016974031925201416,0.017678797245025635,0.01875293254852295,0.019313573837280273,0.018069028854370117,0.017033398151397705,0.021504104137420654,0.018155038356781006,0.01858919858932495,0.0186578631401062,0.01748567819595337,0.01717090606689453,0.02748626470565796,0.021634280681610107,0.017608821392059326,0.018077731132507324,0.015880465507507324,0.02036350965499878,0.018354177474975586,0.018104493618011475,0.017974853515625,0.019441723823547363,0.017419874668121338,0.023507654666900635,0.01762157678604126,0.017135024070739746,0.016651511192321777,0.0190085768699646,0.0177304744720459,0.01685410737991333,0.01812654733657837,0.018880844116210938,0.01824551820755005,0.01781708002090454,0.017528235912322998,0.017611324787139893,0.015432298183441162,0.016986429691314697,0.018716812133789062,0.018149077892303467,0.018729686737060547,0.01755291223526001,0.016190528869628906,0.019175708293914795,0.017005324363708496,0.021039962768554688,0.02290964126586914,0.017471015453338623,0.017824828624725342,0.018854498863220215,0.019290566444396973,0.016435563564300537,0.01710587739944458,0.018757998943328857,0.01766836643218994,0.016545653343200684,0.022514760494232178,0.01866316795349121],\"type\":\"scatter\",\"xaxis\":\"x\",\"yaxis\":\"y\"},{\"marker\":{\"color\":[0,1,2,3,4,5,6,7,8,9,10,11,12,13,14,15,16,17,18,19,20,21,22,23,24,25,26,27,28,29,30,31,32,33,34,35,36,37,38,39,40,41,42,43,44,45,46,47,48,49,50,51,52,53,54,55,56,57,58,59,60,61,62,63,64,65,66,67,68,69,70,71,72,73,74,75,76,77,78,79,80,81,82,83,84,85,86,87,88,89,90,91,92,93,94,95,96,97,98,99],\"colorbar\":{\"title\":{\"text\":\"Trial\"},\"x\":1.0,\"xpad\":40},\"colorscale\":[[0.0,\"rgb(247,251,255)\"],[0.125,\"rgb(222,235,247)\"],[0.25,\"rgb(198,219,239)\"],[0.375,\"rgb(158,202,225)\"],[0.5,\"rgb(107,174,214)\"],[0.625,\"rgb(66,146,198)\"],[0.75,\"rgb(33,113,181)\"],[0.875,\"rgb(8,81,156)\"],[1.0,\"rgb(8,48,107)\"]],\"line\":{\"color\":\"Grey\",\"width\":0.5},\"showscale\":false},\"mode\":\"markers\",\"showlegend\":false,\"x\":[0.8,0.1,0.6000000000000001,0.5,0.9,1.0,0.5,0.5,0.9,0.9,0.1,0.0,0.0,0.2,0.30000000000000004,0.0,0.30000000000000004,0.2,0.1,0.30000000000000004,0.0,0.0,0.1,0.2,0.1,0.4,0.1,0.2,0.4,0.7000000000000001,0.2,0.1,0.1,0.1,0.2,0.4,0.30000000000000004,0.6000000000000001,0.6000000000000001,0.7000000000000001,0.7000000000000001,0.6000000000000001,0.6000000000000001,0.6000000000000001,0.7000000000000001,0.8,0.8,0.6000000000000001,0.6000000000000001,0.5,0.7000000000000001,0.6000000000000001,0.5,0.5,0.5,0.7000000000000001,0.6000000000000001,0.6000000000000001,0.8,1.0,0.8,0.9,0.8,0.7000000000000001,0.5,0.5,0.6000000000000001,0.7000000000000001,0.7000000000000001,0.7000000000000001,0.9,0.8,0.8,0.7000000000000001,0.8,0.7000000000000001,0.8,0.9,0.7000000000000001,0.6000000000000001,0.8,0.6000000000000001,0.6000000000000001,0.7000000000000001,0.7000000000000001,0.7000000000000001,0.7000000000000001,0.8,0.9,0.7000000000000001,0.6000000000000001,0.7000000000000001,0.7000000000000001,0.6000000000000001,0.6000000000000001,0.6000000000000001,0.8,0.4,0.4,0.4],\"y\":[0.0495525598526001,0.05263876914978027,0.13928735256195068,0.07459932565689087,0.021068453788757324,0.5578498244285583,0.1147734522819519,0.5816274583339691,0.025217950344085693,0.023562967777252197,0.018257975578308105,0.01891958713531494,0.018514037132263184,0.0212898850440979,0.02044922113418579,0.02251911163330078,0.023686528205871582,0.125626802444458,0.019521117210388184,0.019025981426239014,0.021994471549987793,0.018754303455352783,0.017557859420776367,0.019997894763946533,0.02119213342666626,0.021356403827667236,0.017502546310424805,0.018216371536254883,0.023171305656433105,0.022056281566619873,0.02110224962234497,0.017410576343536377,0.019484221935272217,0.020790040493011475,0.11862140893936157,0.022608816623687744,0.01857966184616089,0.016635537147521973,0.34778892993927,0.01701122522354126,0.01956915855407715,0.017308354377746582,0.016974031925201416,0.017678797245025635,0.01875293254852295,0.019313573837280273,0.018069028854370117,0.017033398151397705,0.021504104137420654,0.018155038356781006,0.01858919858932495,0.0186578631401062,0.01748567819595337,0.01717090606689453,0.02748626470565796,0.021634280681610107,0.017608821392059326,0.018077731132507324,0.015880465507507324,0.02036350965499878,0.018354177474975586,0.018104493618011475,0.017974853515625,0.019441723823547363,0.017419874668121338,0.023507654666900635,0.01762157678604126,0.017135024070739746,0.016651511192321777,0.0190085768699646,0.0177304744720459,0.01685410737991333,0.01812654733657837,0.018880844116210938,0.01824551820755005,0.01781708002090454,0.017528235912322998,0.017611324787139893,0.015432298183441162,0.016986429691314697,0.018716812133789062,0.018149077892303467,0.018729686737060547,0.01755291223526001,0.016190528869628906,0.019175708293914795,0.017005324363708496,0.021039962768554688,0.02290964126586914,0.017471015453338623,0.017824828624725342,0.018854498863220215,0.019290566444396973,0.016435563564300537,0.01710587739944458,0.018757998943328857,0.01766836643218994,0.016545653343200684,0.022514760494232178,0.01866316795349121],\"type\":\"scatter\",\"xaxis\":\"x2\",\"yaxis\":\"y2\"}],                        {\"template\":{\"data\":{\"histogram2dcontour\":[{\"type\":\"histogram2dcontour\",\"colorbar\":{\"outlinewidth\":0,\"ticks\":\"\"},\"colorscale\":[[0.0,\"#0d0887\"],[0.1111111111111111,\"#46039f\"],[0.2222222222222222,\"#7201a8\"],[0.3333333333333333,\"#9c179e\"],[0.4444444444444444,\"#bd3786\"],[0.5555555555555556,\"#d8576b\"],[0.6666666666666666,\"#ed7953\"],[0.7777777777777778,\"#fb9f3a\"],[0.8888888888888888,\"#fdca26\"],[1.0,\"#f0f921\"]]}],\"choropleth\":[{\"type\":\"choropleth\",\"colorbar\":{\"outlinewidth\":0,\"ticks\":\"\"}}],\"histogram2d\":[{\"type\":\"histogram2d\",\"colorbar\":{\"outlinewidth\":0,\"ticks\":\"\"},\"colorscale\":[[0.0,\"#0d0887\"],[0.1111111111111111,\"#46039f\"],[0.2222222222222222,\"#7201a8\"],[0.3333333333333333,\"#9c179e\"],[0.4444444444444444,\"#bd3786\"],[0.5555555555555556,\"#d8576b\"],[0.6666666666666666,\"#ed7953\"],[0.7777777777777778,\"#fb9f3a\"],[0.8888888888888888,\"#fdca26\"],[1.0,\"#f0f921\"]]}],\"heatmap\":[{\"type\":\"heatmap\",\"colorbar\":{\"outlinewidth\":0,\"ticks\":\"\"},\"colorscale\":[[0.0,\"#0d0887\"],[0.1111111111111111,\"#46039f\"],[0.2222222222222222,\"#7201a8\"],[0.3333333333333333,\"#9c179e\"],[0.4444444444444444,\"#bd3786\"],[0.5555555555555556,\"#d8576b\"],[0.6666666666666666,\"#ed7953\"],[0.7777777777777778,\"#fb9f3a\"],[0.8888888888888888,\"#fdca26\"],[1.0,\"#f0f921\"]]}],\"heatmapgl\":[{\"type\":\"heatmapgl\",\"colorbar\":{\"outlinewidth\":0,\"ticks\":\"\"},\"colorscale\":[[0.0,\"#0d0887\"],[0.1111111111111111,\"#46039f\"],[0.2222222222222222,\"#7201a8\"],[0.3333333333333333,\"#9c179e\"],[0.4444444444444444,\"#bd3786\"],[0.5555555555555556,\"#d8576b\"],[0.6666666666666666,\"#ed7953\"],[0.7777777777777778,\"#fb9f3a\"],[0.8888888888888888,\"#fdca26\"],[1.0,\"#f0f921\"]]}],\"contourcarpet\":[{\"type\":\"contourcarpet\",\"colorbar\":{\"outlinewidth\":0,\"ticks\":\"\"}}],\"contour\":[{\"type\":\"contour\",\"colorbar\":{\"outlinewidth\":0,\"ticks\":\"\"},\"colorscale\":[[0.0,\"#0d0887\"],[0.1111111111111111,\"#46039f\"],[0.2222222222222222,\"#7201a8\"],[0.3333333333333333,\"#9c179e\"],[0.4444444444444444,\"#bd3786\"],[0.5555555555555556,\"#d8576b\"],[0.6666666666666666,\"#ed7953\"],[0.7777777777777778,\"#fb9f3a\"],[0.8888888888888888,\"#fdca26\"],[1.0,\"#f0f921\"]]}],\"surface\":[{\"type\":\"surface\",\"colorbar\":{\"outlinewidth\":0,\"ticks\":\"\"},\"colorscale\":[[0.0,\"#0d0887\"],[0.1111111111111111,\"#46039f\"],[0.2222222222222222,\"#7201a8\"],[0.3333333333333333,\"#9c179e\"],[0.4444444444444444,\"#bd3786\"],[0.5555555555555556,\"#d8576b\"],[0.6666666666666666,\"#ed7953\"],[0.7777777777777778,\"#fb9f3a\"],[0.8888888888888888,\"#fdca26\"],[1.0,\"#f0f921\"]]}],\"mesh3d\":[{\"type\":\"mesh3d\",\"colorbar\":{\"outlinewidth\":0,\"ticks\":\"\"}}],\"scatter\":[{\"fillpattern\":{\"fillmode\":\"overlay\",\"size\":10,\"solidity\":0.2},\"type\":\"scatter\"}],\"parcoords\":[{\"type\":\"parcoords\",\"line\":{\"colorbar\":{\"outlinewidth\":0,\"ticks\":\"\"}}}],\"scatterpolargl\":[{\"type\":\"scatterpolargl\",\"marker\":{\"colorbar\":{\"outlinewidth\":0,\"ticks\":\"\"}}}],\"bar\":[{\"error_x\":{\"color\":\"#2a3f5f\"},\"error_y\":{\"color\":\"#2a3f5f\"},\"marker\":{\"line\":{\"color\":\"#E5ECF6\",\"width\":0.5},\"pattern\":{\"fillmode\":\"overlay\",\"size\":10,\"solidity\":0.2}},\"type\":\"bar\"}],\"scattergeo\":[{\"type\":\"scattergeo\",\"marker\":{\"colorbar\":{\"outlinewidth\":0,\"ticks\":\"\"}}}],\"scatterpolar\":[{\"type\":\"scatterpolar\",\"marker\":{\"colorbar\":{\"outlinewidth\":0,\"ticks\":\"\"}}}],\"histogram\":[{\"marker\":{\"pattern\":{\"fillmode\":\"overlay\",\"size\":10,\"solidity\":0.2}},\"type\":\"histogram\"}],\"scattergl\":[{\"type\":\"scattergl\",\"marker\":{\"colorbar\":{\"outlinewidth\":0,\"ticks\":\"\"}}}],\"scatter3d\":[{\"type\":\"scatter3d\",\"line\":{\"colorbar\":{\"outlinewidth\":0,\"ticks\":\"\"}},\"marker\":{\"colorbar\":{\"outlinewidth\":0,\"ticks\":\"\"}}}],\"scattermapbox\":[{\"type\":\"scattermapbox\",\"marker\":{\"colorbar\":{\"outlinewidth\":0,\"ticks\":\"\"}}}],\"scatterternary\":[{\"type\":\"scatterternary\",\"marker\":{\"colorbar\":{\"outlinewidth\":0,\"ticks\":\"\"}}}],\"scattercarpet\":[{\"type\":\"scattercarpet\",\"marker\":{\"colorbar\":{\"outlinewidth\":0,\"ticks\":\"\"}}}],\"carpet\":[{\"aaxis\":{\"endlinecolor\":\"#2a3f5f\",\"gridcolor\":\"white\",\"linecolor\":\"white\",\"minorgridcolor\":\"white\",\"startlinecolor\":\"#2a3f5f\"},\"baxis\":{\"endlinecolor\":\"#2a3f5f\",\"gridcolor\":\"white\",\"linecolor\":\"white\",\"minorgridcolor\":\"white\",\"startlinecolor\":\"#2a3f5f\"},\"type\":\"carpet\"}],\"table\":[{\"cells\":{\"fill\":{\"color\":\"#EBF0F8\"},\"line\":{\"color\":\"white\"}},\"header\":{\"fill\":{\"color\":\"#C8D4E3\"},\"line\":{\"color\":\"white\"}},\"type\":\"table\"}],\"barpolar\":[{\"marker\":{\"line\":{\"color\":\"#E5ECF6\",\"width\":0.5},\"pattern\":{\"fillmode\":\"overlay\",\"size\":10,\"solidity\":0.2}},\"type\":\"barpolar\"}],\"pie\":[{\"automargin\":true,\"type\":\"pie\"}]},\"layout\":{\"autotypenumbers\":\"strict\",\"colorway\":[\"#636efa\",\"#EF553B\",\"#00cc96\",\"#ab63fa\",\"#FFA15A\",\"#19d3f3\",\"#FF6692\",\"#B6E880\",\"#FF97FF\",\"#FECB52\"],\"font\":{\"color\":\"#2a3f5f\"},\"hovermode\":\"closest\",\"hoverlabel\":{\"align\":\"left\"},\"paper_bgcolor\":\"white\",\"plot_bgcolor\":\"#E5ECF6\",\"polar\":{\"bgcolor\":\"#E5ECF6\",\"angularaxis\":{\"gridcolor\":\"white\",\"linecolor\":\"white\",\"ticks\":\"\"},\"radialaxis\":{\"gridcolor\":\"white\",\"linecolor\":\"white\",\"ticks\":\"\"}},\"ternary\":{\"bgcolor\":\"#E5ECF6\",\"aaxis\":{\"gridcolor\":\"white\",\"linecolor\":\"white\",\"ticks\":\"\"},\"baxis\":{\"gridcolor\":\"white\",\"linecolor\":\"white\",\"ticks\":\"\"},\"caxis\":{\"gridcolor\":\"white\",\"linecolor\":\"white\",\"ticks\":\"\"}},\"coloraxis\":{\"colorbar\":{\"outlinewidth\":0,\"ticks\":\"\"}},\"colorscale\":{\"sequential\":[[0.0,\"#0d0887\"],[0.1111111111111111,\"#46039f\"],[0.2222222222222222,\"#7201a8\"],[0.3333333333333333,\"#9c179e\"],[0.4444444444444444,\"#bd3786\"],[0.5555555555555556,\"#d8576b\"],[0.6666666666666666,\"#ed7953\"],[0.7777777777777778,\"#fb9f3a\"],[0.8888888888888888,\"#fdca26\"],[1.0,\"#f0f921\"]],\"sequentialminus\":[[0.0,\"#0d0887\"],[0.1111111111111111,\"#46039f\"],[0.2222222222222222,\"#7201a8\"],[0.3333333333333333,\"#9c179e\"],[0.4444444444444444,\"#bd3786\"],[0.5555555555555556,\"#d8576b\"],[0.6666666666666666,\"#ed7953\"],[0.7777777777777778,\"#fb9f3a\"],[0.8888888888888888,\"#fdca26\"],[1.0,\"#f0f921\"]],\"diverging\":[[0,\"#8e0152\"],[0.1,\"#c51b7d\"],[0.2,\"#de77ae\"],[0.3,\"#f1b6da\"],[0.4,\"#fde0ef\"],[0.5,\"#f7f7f7\"],[0.6,\"#e6f5d0\"],[0.7,\"#b8e186\"],[0.8,\"#7fbc41\"],[0.9,\"#4d9221\"],[1,\"#276419\"]]},\"xaxis\":{\"gridcolor\":\"white\",\"linecolor\":\"white\",\"ticks\":\"\",\"title\":{\"standoff\":15},\"zerolinecolor\":\"white\",\"automargin\":true,\"zerolinewidth\":2},\"yaxis\":{\"gridcolor\":\"white\",\"linecolor\":\"white\",\"ticks\":\"\",\"title\":{\"standoff\":15},\"zerolinecolor\":\"white\",\"automargin\":true,\"zerolinewidth\":2},\"scene\":{\"xaxis\":{\"backgroundcolor\":\"#E5ECF6\",\"gridcolor\":\"white\",\"linecolor\":\"white\",\"showbackground\":true,\"ticks\":\"\",\"zerolinecolor\":\"white\",\"gridwidth\":2},\"yaxis\":{\"backgroundcolor\":\"#E5ECF6\",\"gridcolor\":\"white\",\"linecolor\":\"white\",\"showbackground\":true,\"ticks\":\"\",\"zerolinecolor\":\"white\",\"gridwidth\":2},\"zaxis\":{\"backgroundcolor\":\"#E5ECF6\",\"gridcolor\":\"white\",\"linecolor\":\"white\",\"showbackground\":true,\"ticks\":\"\",\"zerolinecolor\":\"white\",\"gridwidth\":2}},\"shapedefaults\":{\"line\":{\"color\":\"#2a3f5f\"}},\"annotationdefaults\":{\"arrowcolor\":\"#2a3f5f\",\"arrowhead\":0,\"arrowwidth\":1},\"geo\":{\"bgcolor\":\"white\",\"landcolor\":\"#E5ECF6\",\"subunitcolor\":\"white\",\"showland\":true,\"showlakes\":true,\"lakecolor\":\"white\"},\"title\":{\"x\":0.05},\"mapbox\":{\"style\":\"light\"}}},\"xaxis\":{\"anchor\":\"y\",\"domain\":[0.0,0.45],\"title\":{\"text\":\"LIST_LLLR_VERSION\"}},\"yaxis\":{\"anchor\":\"x\",\"domain\":[0.0,1.0],\"title\":{\"text\":\"Objective Value\"}},\"xaxis2\":{\"anchor\":\"y2\",\"domain\":[0.55,1.0],\"title\":{\"text\":\"LIST_PARAM_LLR_LOSS\"}},\"yaxis2\":{\"anchor\":\"x2\",\"domain\":[0.0,1.0],\"matches\":\"y\",\"showticklabels\":false},\"title\":{\"text\":\"Slice Plot\"}},                        {\"responsive\": true}                    ).then(function(){\n",
       "                            \n",
       "var gd = document.getElementById('13925e86-613f-40e9-a163-81f52cf02aaf');\n",
       "var x = new MutationObserver(function (mutations, observer) {{\n",
       "        var display = window.getComputedStyle(gd).display;\n",
       "        if (!display || display === 'none') {{\n",
       "            console.log([gd, 'removed!']);\n",
       "            Plotly.purge(gd);\n",
       "            observer.disconnect();\n",
       "        }}\n",
       "}});\n",
       "\n",
       "// Listen for the removal of the full notebook cells\n",
       "var notebookContainer = gd.closest('#notebook-container');\n",
       "if (notebookContainer) {{\n",
       "    x.observe(notebookContainer, {childList: true});\n",
       "}}\n",
       "\n",
       "// Listen for the clearing of the current output cell\n",
       "var outputEl = gd.closest('.output');\n",
       "if (outputEl) {{\n",
       "    x.observe(outputEl, {childList: true});\n",
       "}}\n",
       "\n",
       "                        })                };                });            </script>        </div>"
      ]
     },
     "metadata": {},
     "output_type": "display_data"
    }
   ],
   "source": [
    "optuna.visualization.plot_slice(study, params=[\n",
    "    'LIST_PARAM_LLR_LOSS', \n",
    "    'LIST_LLLR_VERSION',\n",
    "])"
   ]
  },
  {
   "attachments": {},
   "cell_type": "markdown",
   "metadata": {},
   "source": [
    "# Parameter importance"
   ]
  },
  {
   "cell_type": "code",
   "execution_count": 35,
   "metadata": {
    "scrolled": false
   },
   "outputs": [
    {
     "name": "stdout",
     "output_type": "stream",
     "text": [
      "OrderedDict([('LIST_MODEL_BACKBONE', 0.3212635231876618), ('LIST_ACTIVATION_FC', 0.22065668763159593), ('LIST_WEIGHT_DECAY', 0.12732581847328045), ('LIST_PARAM_LLR_LOSS', 0.10914636805359965), ('LIST_LEARNING_RATE', 0.09025382863800702), ('LIST_ORDER_SPRT', 0.04942808969697933), ('LIST_OPTIMIZER', 0.02574495609894212), ('LIST_NUM_THRESH', 0.018986845239958194), ('LIST_IS_POSITIONAL_ENCODING', 0.014978884148139016), ('LIST_PARAM_MULTIPLET_LOSS', 0.010096145163156897), ('LIST_SPARSITY', 0.005350007084417892), ('LIST_LLLR_VERSION', 0.0033302188917624653), ('LIST_IS_NORMALIZE', 0.0017481398503601472), ('LIST_IS_ADAPTIVE_LOSS', 0.0016904878421391198)])\n"
     ]
    },
    {
     "data": {
      "application/vnd.plotly.v1+json": {
       "config": {
        "plotlyServerURL": "https://plot.ly"
       },
       "data": [
        {
         "cliponaxis": false,
         "hovertemplate": [
          "LIST_LLLR_VERSION (CategoricalDistribution): 0.0010945185678883007<extra></extra>",
          "LIST_IS_ADAPTIVE_LOSS (CategoricalDistribution): 0.0017078936042546954<extra></extra>",
          "LIST_PARAM_MULTIPLET_LOSS (FloatDistribution): 0.002482839337505081<extra></extra>",
          "LIST_IS_NORMALIZE (CategoricalDistribution): 0.00873566586717216<extra></extra>",
          "LIST_SPARSITY (CategoricalDistribution): 0.011143683192169119<extra></extra>",
          "LIST_OPTIMIZER (CategoricalDistribution): 0.012412456511458968<extra></extra>",
          "LIST_NUM_THRESH (IntDistribution): 0.012433651106663333<extra></extra>",
          "LIST_IS_POSITIONAL_ENCODING (CategoricalDistribution): 0.014691427119263026<extra></extra>",
          "LIST_ORDER_SPRT (IntDistribution): 0.03927445526899859<extra></extra>",
          "LIST_WEIGHT_DECAY (FloatDistribution): 0.07477397736315645<extra></extra>",
          "LIST_PARAM_LLR_LOSS (FloatDistribution): 0.14944760406363441<extra></extra>",
          "LIST_ACTIVATION_FC (CategoricalDistribution): 0.18279058461296094<extra></extra>",
          "LIST_LEARNING_RATE (FloatDistribution): 0.2179003782409399<extra></extra>",
          "LIST_MODEL_BACKBONE (CategoricalDistribution): 0.27111086514393534<extra></extra>"
         ],
         "marker": {
          "color": "rgb(66,146,198)"
         },
         "orientation": "h",
         "text": [
          "<0.01",
          "<0.01",
          "<0.01",
          "<0.01",
          "0.01",
          "0.01",
          "0.01",
          "0.01",
          "0.04",
          "0.07",
          "0.15",
          "0.18",
          "0.22",
          "0.27"
         ],
         "textposition": "outside",
         "type": "bar",
         "x": [
          0.0010945185678883007,
          0.0017078936042546954,
          0.002482839337505081,
          0.00873566586717216,
          0.011143683192169119,
          0.012412456511458968,
          0.012433651106663333,
          0.014691427119263026,
          0.03927445526899859,
          0.07477397736315645,
          0.14944760406363441,
          0.18279058461296094,
          0.2179003782409399,
          0.27111086514393534
         ],
         "y": [
          "LIST_LLLR_VERSION",
          "LIST_IS_ADAPTIVE_LOSS",
          "LIST_PARAM_MULTIPLET_LOSS",
          "LIST_IS_NORMALIZE",
          "LIST_SPARSITY",
          "LIST_OPTIMIZER",
          "LIST_NUM_THRESH",
          "LIST_IS_POSITIONAL_ENCODING",
          "LIST_ORDER_SPRT",
          "LIST_WEIGHT_DECAY",
          "LIST_PARAM_LLR_LOSS",
          "LIST_ACTIVATION_FC",
          "LIST_LEARNING_RATE",
          "LIST_MODEL_BACKBONE"
         ]
        }
       ],
       "layout": {
        "showlegend": false,
        "template": {
         "data": {
          "bar": [
           {
            "error_x": {
             "color": "#2a3f5f"
            },
            "error_y": {
             "color": "#2a3f5f"
            },
            "marker": {
             "line": {
              "color": "#E5ECF6",
              "width": 0.5
             },
             "pattern": {
              "fillmode": "overlay",
              "size": 10,
              "solidity": 0.2
             }
            },
            "type": "bar"
           }
          ],
          "barpolar": [
           {
            "marker": {
             "line": {
              "color": "#E5ECF6",
              "width": 0.5
             },
             "pattern": {
              "fillmode": "overlay",
              "size": 10,
              "solidity": 0.2
             }
            },
            "type": "barpolar"
           }
          ],
          "carpet": [
           {
            "aaxis": {
             "endlinecolor": "#2a3f5f",
             "gridcolor": "white",
             "linecolor": "white",
             "minorgridcolor": "white",
             "startlinecolor": "#2a3f5f"
            },
            "baxis": {
             "endlinecolor": "#2a3f5f",
             "gridcolor": "white",
             "linecolor": "white",
             "minorgridcolor": "white",
             "startlinecolor": "#2a3f5f"
            },
            "type": "carpet"
           }
          ],
          "choropleth": [
           {
            "colorbar": {
             "outlinewidth": 0,
             "ticks": ""
            },
            "type": "choropleth"
           }
          ],
          "contour": [
           {
            "colorbar": {
             "outlinewidth": 0,
             "ticks": ""
            },
            "colorscale": [
             [
              0,
              "#0d0887"
             ],
             [
              0.1111111111111111,
              "#46039f"
             ],
             [
              0.2222222222222222,
              "#7201a8"
             ],
             [
              0.3333333333333333,
              "#9c179e"
             ],
             [
              0.4444444444444444,
              "#bd3786"
             ],
             [
              0.5555555555555556,
              "#d8576b"
             ],
             [
              0.6666666666666666,
              "#ed7953"
             ],
             [
              0.7777777777777778,
              "#fb9f3a"
             ],
             [
              0.8888888888888888,
              "#fdca26"
             ],
             [
              1,
              "#f0f921"
             ]
            ],
            "type": "contour"
           }
          ],
          "contourcarpet": [
           {
            "colorbar": {
             "outlinewidth": 0,
             "ticks": ""
            },
            "type": "contourcarpet"
           }
          ],
          "heatmap": [
           {
            "colorbar": {
             "outlinewidth": 0,
             "ticks": ""
            },
            "colorscale": [
             [
              0,
              "#0d0887"
             ],
             [
              0.1111111111111111,
              "#46039f"
             ],
             [
              0.2222222222222222,
              "#7201a8"
             ],
             [
              0.3333333333333333,
              "#9c179e"
             ],
             [
              0.4444444444444444,
              "#bd3786"
             ],
             [
              0.5555555555555556,
              "#d8576b"
             ],
             [
              0.6666666666666666,
              "#ed7953"
             ],
             [
              0.7777777777777778,
              "#fb9f3a"
             ],
             [
              0.8888888888888888,
              "#fdca26"
             ],
             [
              1,
              "#f0f921"
             ]
            ],
            "type": "heatmap"
           }
          ],
          "heatmapgl": [
           {
            "colorbar": {
             "outlinewidth": 0,
             "ticks": ""
            },
            "colorscale": [
             [
              0,
              "#0d0887"
             ],
             [
              0.1111111111111111,
              "#46039f"
             ],
             [
              0.2222222222222222,
              "#7201a8"
             ],
             [
              0.3333333333333333,
              "#9c179e"
             ],
             [
              0.4444444444444444,
              "#bd3786"
             ],
             [
              0.5555555555555556,
              "#d8576b"
             ],
             [
              0.6666666666666666,
              "#ed7953"
             ],
             [
              0.7777777777777778,
              "#fb9f3a"
             ],
             [
              0.8888888888888888,
              "#fdca26"
             ],
             [
              1,
              "#f0f921"
             ]
            ],
            "type": "heatmapgl"
           }
          ],
          "histogram": [
           {
            "marker": {
             "pattern": {
              "fillmode": "overlay",
              "size": 10,
              "solidity": 0.2
             }
            },
            "type": "histogram"
           }
          ],
          "histogram2d": [
           {
            "colorbar": {
             "outlinewidth": 0,
             "ticks": ""
            },
            "colorscale": [
             [
              0,
              "#0d0887"
             ],
             [
              0.1111111111111111,
              "#46039f"
             ],
             [
              0.2222222222222222,
              "#7201a8"
             ],
             [
              0.3333333333333333,
              "#9c179e"
             ],
             [
              0.4444444444444444,
              "#bd3786"
             ],
             [
              0.5555555555555556,
              "#d8576b"
             ],
             [
              0.6666666666666666,
              "#ed7953"
             ],
             [
              0.7777777777777778,
              "#fb9f3a"
             ],
             [
              0.8888888888888888,
              "#fdca26"
             ],
             [
              1,
              "#f0f921"
             ]
            ],
            "type": "histogram2d"
           }
          ],
          "histogram2dcontour": [
           {
            "colorbar": {
             "outlinewidth": 0,
             "ticks": ""
            },
            "colorscale": [
             [
              0,
              "#0d0887"
             ],
             [
              0.1111111111111111,
              "#46039f"
             ],
             [
              0.2222222222222222,
              "#7201a8"
             ],
             [
              0.3333333333333333,
              "#9c179e"
             ],
             [
              0.4444444444444444,
              "#bd3786"
             ],
             [
              0.5555555555555556,
              "#d8576b"
             ],
             [
              0.6666666666666666,
              "#ed7953"
             ],
             [
              0.7777777777777778,
              "#fb9f3a"
             ],
             [
              0.8888888888888888,
              "#fdca26"
             ],
             [
              1,
              "#f0f921"
             ]
            ],
            "type": "histogram2dcontour"
           }
          ],
          "mesh3d": [
           {
            "colorbar": {
             "outlinewidth": 0,
             "ticks": ""
            },
            "type": "mesh3d"
           }
          ],
          "parcoords": [
           {
            "line": {
             "colorbar": {
              "outlinewidth": 0,
              "ticks": ""
             }
            },
            "type": "parcoords"
           }
          ],
          "pie": [
           {
            "automargin": true,
            "type": "pie"
           }
          ],
          "scatter": [
           {
            "fillpattern": {
             "fillmode": "overlay",
             "size": 10,
             "solidity": 0.2
            },
            "type": "scatter"
           }
          ],
          "scatter3d": [
           {
            "line": {
             "colorbar": {
              "outlinewidth": 0,
              "ticks": ""
             }
            },
            "marker": {
             "colorbar": {
              "outlinewidth": 0,
              "ticks": ""
             }
            },
            "type": "scatter3d"
           }
          ],
          "scattercarpet": [
           {
            "marker": {
             "colorbar": {
              "outlinewidth": 0,
              "ticks": ""
             }
            },
            "type": "scattercarpet"
           }
          ],
          "scattergeo": [
           {
            "marker": {
             "colorbar": {
              "outlinewidth": 0,
              "ticks": ""
             }
            },
            "type": "scattergeo"
           }
          ],
          "scattergl": [
           {
            "marker": {
             "colorbar": {
              "outlinewidth": 0,
              "ticks": ""
             }
            },
            "type": "scattergl"
           }
          ],
          "scattermapbox": [
           {
            "marker": {
             "colorbar": {
              "outlinewidth": 0,
              "ticks": ""
             }
            },
            "type": "scattermapbox"
           }
          ],
          "scatterpolar": [
           {
            "marker": {
             "colorbar": {
              "outlinewidth": 0,
              "ticks": ""
             }
            },
            "type": "scatterpolar"
           }
          ],
          "scatterpolargl": [
           {
            "marker": {
             "colorbar": {
              "outlinewidth": 0,
              "ticks": ""
             }
            },
            "type": "scatterpolargl"
           }
          ],
          "scatterternary": [
           {
            "marker": {
             "colorbar": {
              "outlinewidth": 0,
              "ticks": ""
             }
            },
            "type": "scatterternary"
           }
          ],
          "surface": [
           {
            "colorbar": {
             "outlinewidth": 0,
             "ticks": ""
            },
            "colorscale": [
             [
              0,
              "#0d0887"
             ],
             [
              0.1111111111111111,
              "#46039f"
             ],
             [
              0.2222222222222222,
              "#7201a8"
             ],
             [
              0.3333333333333333,
              "#9c179e"
             ],
             [
              0.4444444444444444,
              "#bd3786"
             ],
             [
              0.5555555555555556,
              "#d8576b"
             ],
             [
              0.6666666666666666,
              "#ed7953"
             ],
             [
              0.7777777777777778,
              "#fb9f3a"
             ],
             [
              0.8888888888888888,
              "#fdca26"
             ],
             [
              1,
              "#f0f921"
             ]
            ],
            "type": "surface"
           }
          ],
          "table": [
           {
            "cells": {
             "fill": {
              "color": "#EBF0F8"
             },
             "line": {
              "color": "white"
             }
            },
            "header": {
             "fill": {
              "color": "#C8D4E3"
             },
             "line": {
              "color": "white"
             }
            },
            "type": "table"
           }
          ]
         },
         "layout": {
          "annotationdefaults": {
           "arrowcolor": "#2a3f5f",
           "arrowhead": 0,
           "arrowwidth": 1
          },
          "autotypenumbers": "strict",
          "coloraxis": {
           "colorbar": {
            "outlinewidth": 0,
            "ticks": ""
           }
          },
          "colorscale": {
           "diverging": [
            [
             0,
             "#8e0152"
            ],
            [
             0.1,
             "#c51b7d"
            ],
            [
             0.2,
             "#de77ae"
            ],
            [
             0.3,
             "#f1b6da"
            ],
            [
             0.4,
             "#fde0ef"
            ],
            [
             0.5,
             "#f7f7f7"
            ],
            [
             0.6,
             "#e6f5d0"
            ],
            [
             0.7,
             "#b8e186"
            ],
            [
             0.8,
             "#7fbc41"
            ],
            [
             0.9,
             "#4d9221"
            ],
            [
             1,
             "#276419"
            ]
           ],
           "sequential": [
            [
             0,
             "#0d0887"
            ],
            [
             0.1111111111111111,
             "#46039f"
            ],
            [
             0.2222222222222222,
             "#7201a8"
            ],
            [
             0.3333333333333333,
             "#9c179e"
            ],
            [
             0.4444444444444444,
             "#bd3786"
            ],
            [
             0.5555555555555556,
             "#d8576b"
            ],
            [
             0.6666666666666666,
             "#ed7953"
            ],
            [
             0.7777777777777778,
             "#fb9f3a"
            ],
            [
             0.8888888888888888,
             "#fdca26"
            ],
            [
             1,
             "#f0f921"
            ]
           ],
           "sequentialminus": [
            [
             0,
             "#0d0887"
            ],
            [
             0.1111111111111111,
             "#46039f"
            ],
            [
             0.2222222222222222,
             "#7201a8"
            ],
            [
             0.3333333333333333,
             "#9c179e"
            ],
            [
             0.4444444444444444,
             "#bd3786"
            ],
            [
             0.5555555555555556,
             "#d8576b"
            ],
            [
             0.6666666666666666,
             "#ed7953"
            ],
            [
             0.7777777777777778,
             "#fb9f3a"
            ],
            [
             0.8888888888888888,
             "#fdca26"
            ],
            [
             1,
             "#f0f921"
            ]
           ]
          },
          "colorway": [
           "#636efa",
           "#EF553B",
           "#00cc96",
           "#ab63fa",
           "#FFA15A",
           "#19d3f3",
           "#FF6692",
           "#B6E880",
           "#FF97FF",
           "#FECB52"
          ],
          "font": {
           "color": "#2a3f5f"
          },
          "geo": {
           "bgcolor": "white",
           "lakecolor": "white",
           "landcolor": "#E5ECF6",
           "showlakes": true,
           "showland": true,
           "subunitcolor": "white"
          },
          "hoverlabel": {
           "align": "left"
          },
          "hovermode": "closest",
          "mapbox": {
           "style": "light"
          },
          "paper_bgcolor": "white",
          "plot_bgcolor": "#E5ECF6",
          "polar": {
           "angularaxis": {
            "gridcolor": "white",
            "linecolor": "white",
            "ticks": ""
           },
           "bgcolor": "#E5ECF6",
           "radialaxis": {
            "gridcolor": "white",
            "linecolor": "white",
            "ticks": ""
           }
          },
          "scene": {
           "xaxis": {
            "backgroundcolor": "#E5ECF6",
            "gridcolor": "white",
            "gridwidth": 2,
            "linecolor": "white",
            "showbackground": true,
            "ticks": "",
            "zerolinecolor": "white"
           },
           "yaxis": {
            "backgroundcolor": "#E5ECF6",
            "gridcolor": "white",
            "gridwidth": 2,
            "linecolor": "white",
            "showbackground": true,
            "ticks": "",
            "zerolinecolor": "white"
           },
           "zaxis": {
            "backgroundcolor": "#E5ECF6",
            "gridcolor": "white",
            "gridwidth": 2,
            "linecolor": "white",
            "showbackground": true,
            "ticks": "",
            "zerolinecolor": "white"
           }
          },
          "shapedefaults": {
           "line": {
            "color": "#2a3f5f"
           }
          },
          "ternary": {
           "aaxis": {
            "gridcolor": "white",
            "linecolor": "white",
            "ticks": ""
           },
           "baxis": {
            "gridcolor": "white",
            "linecolor": "white",
            "ticks": ""
           },
           "bgcolor": "#E5ECF6",
           "caxis": {
            "gridcolor": "white",
            "linecolor": "white",
            "ticks": ""
           }
          },
          "title": {
           "x": 0.05
          },
          "xaxis": {
           "automargin": true,
           "gridcolor": "white",
           "linecolor": "white",
           "ticks": "",
           "title": {
            "standoff": 15
           },
           "zerolinecolor": "white",
           "zerolinewidth": 2
          },
          "yaxis": {
           "automargin": true,
           "gridcolor": "white",
           "linecolor": "white",
           "ticks": "",
           "title": {
            "standoff": 15
           },
           "zerolinecolor": "white",
           "zerolinewidth": 2
          }
         }
        },
        "title": {
         "text": "Hyperparameter Importances"
        },
        "xaxis": {
         "title": {
          "text": "Importance for Objective Value"
         }
        },
        "yaxis": {
         "title": {
          "text": "Hyperparameter"
         }
        }
       }
      },
      "text/html": [
       "<div>                            <div id=\"662c01f8-abd8-468b-b06a-acf6e3fc1979\" class=\"plotly-graph-div\" style=\"height:525px; width:100%;\"></div>            <script type=\"text/javascript\">                require([\"plotly\"], function(Plotly) {                    window.PLOTLYENV=window.PLOTLYENV || {};                                    if (document.getElementById(\"662c01f8-abd8-468b-b06a-acf6e3fc1979\")) {                    Plotly.newPlot(                        \"662c01f8-abd8-468b-b06a-acf6e3fc1979\",                        [{\"cliponaxis\":false,\"hovertemplate\":[\"LIST_LLLR_VERSION (CategoricalDistribution): 0.0010945185678883007<extra></extra>\",\"LIST_IS_ADAPTIVE_LOSS (CategoricalDistribution): 0.0017078936042546954<extra></extra>\",\"LIST_PARAM_MULTIPLET_LOSS (FloatDistribution): 0.002482839337505081<extra></extra>\",\"LIST_IS_NORMALIZE (CategoricalDistribution): 0.00873566586717216<extra></extra>\",\"LIST_SPARSITY (CategoricalDistribution): 0.011143683192169119<extra></extra>\",\"LIST_OPTIMIZER (CategoricalDistribution): 0.012412456511458968<extra></extra>\",\"LIST_NUM_THRESH (IntDistribution): 0.012433651106663333<extra></extra>\",\"LIST_IS_POSITIONAL_ENCODING (CategoricalDistribution): 0.014691427119263026<extra></extra>\",\"LIST_ORDER_SPRT (IntDistribution): 0.03927445526899859<extra></extra>\",\"LIST_WEIGHT_DECAY (FloatDistribution): 0.07477397736315645<extra></extra>\",\"LIST_PARAM_LLR_LOSS (FloatDistribution): 0.14944760406363441<extra></extra>\",\"LIST_ACTIVATION_FC (CategoricalDistribution): 0.18279058461296094<extra></extra>\",\"LIST_LEARNING_RATE (FloatDistribution): 0.2179003782409399<extra></extra>\",\"LIST_MODEL_BACKBONE (CategoricalDistribution): 0.27111086514393534<extra></extra>\"],\"marker\":{\"color\":\"rgb(66,146,198)\"},\"orientation\":\"h\",\"text\":[\"<0.01\",\"<0.01\",\"<0.01\",\"<0.01\",\"0.01\",\"0.01\",\"0.01\",\"0.01\",\"0.04\",\"0.07\",\"0.15\",\"0.18\",\"0.22\",\"0.27\"],\"textposition\":\"outside\",\"x\":[0.0010945185678883007,0.0017078936042546954,0.002482839337505081,0.00873566586717216,0.011143683192169119,0.012412456511458968,0.012433651106663333,0.014691427119263026,0.03927445526899859,0.07477397736315645,0.14944760406363441,0.18279058461296094,0.2179003782409399,0.27111086514393534],\"y\":[\"LIST_LLLR_VERSION\",\"LIST_IS_ADAPTIVE_LOSS\",\"LIST_PARAM_MULTIPLET_LOSS\",\"LIST_IS_NORMALIZE\",\"LIST_SPARSITY\",\"LIST_OPTIMIZER\",\"LIST_NUM_THRESH\",\"LIST_IS_POSITIONAL_ENCODING\",\"LIST_ORDER_SPRT\",\"LIST_WEIGHT_DECAY\",\"LIST_PARAM_LLR_LOSS\",\"LIST_ACTIVATION_FC\",\"LIST_LEARNING_RATE\",\"LIST_MODEL_BACKBONE\"],\"type\":\"bar\"}],                        {\"showlegend\":false,\"title\":{\"text\":\"Hyperparameter Importances\"},\"xaxis\":{\"title\":{\"text\":\"Importance for Objective Value\"}},\"yaxis\":{\"title\":{\"text\":\"Hyperparameter\"}},\"template\":{\"data\":{\"histogram2dcontour\":[{\"type\":\"histogram2dcontour\",\"colorbar\":{\"outlinewidth\":0,\"ticks\":\"\"},\"colorscale\":[[0.0,\"#0d0887\"],[0.1111111111111111,\"#46039f\"],[0.2222222222222222,\"#7201a8\"],[0.3333333333333333,\"#9c179e\"],[0.4444444444444444,\"#bd3786\"],[0.5555555555555556,\"#d8576b\"],[0.6666666666666666,\"#ed7953\"],[0.7777777777777778,\"#fb9f3a\"],[0.8888888888888888,\"#fdca26\"],[1.0,\"#f0f921\"]]}],\"choropleth\":[{\"type\":\"choropleth\",\"colorbar\":{\"outlinewidth\":0,\"ticks\":\"\"}}],\"histogram2d\":[{\"type\":\"histogram2d\",\"colorbar\":{\"outlinewidth\":0,\"ticks\":\"\"},\"colorscale\":[[0.0,\"#0d0887\"],[0.1111111111111111,\"#46039f\"],[0.2222222222222222,\"#7201a8\"],[0.3333333333333333,\"#9c179e\"],[0.4444444444444444,\"#bd3786\"],[0.5555555555555556,\"#d8576b\"],[0.6666666666666666,\"#ed7953\"],[0.7777777777777778,\"#fb9f3a\"],[0.8888888888888888,\"#fdca26\"],[1.0,\"#f0f921\"]]}],\"heatmap\":[{\"type\":\"heatmap\",\"colorbar\":{\"outlinewidth\":0,\"ticks\":\"\"},\"colorscale\":[[0.0,\"#0d0887\"],[0.1111111111111111,\"#46039f\"],[0.2222222222222222,\"#7201a8\"],[0.3333333333333333,\"#9c179e\"],[0.4444444444444444,\"#bd3786\"],[0.5555555555555556,\"#d8576b\"],[0.6666666666666666,\"#ed7953\"],[0.7777777777777778,\"#fb9f3a\"],[0.8888888888888888,\"#fdca26\"],[1.0,\"#f0f921\"]]}],\"heatmapgl\":[{\"type\":\"heatmapgl\",\"colorbar\":{\"outlinewidth\":0,\"ticks\":\"\"},\"colorscale\":[[0.0,\"#0d0887\"],[0.1111111111111111,\"#46039f\"],[0.2222222222222222,\"#7201a8\"],[0.3333333333333333,\"#9c179e\"],[0.4444444444444444,\"#bd3786\"],[0.5555555555555556,\"#d8576b\"],[0.6666666666666666,\"#ed7953\"],[0.7777777777777778,\"#fb9f3a\"],[0.8888888888888888,\"#fdca26\"],[1.0,\"#f0f921\"]]}],\"contourcarpet\":[{\"type\":\"contourcarpet\",\"colorbar\":{\"outlinewidth\":0,\"ticks\":\"\"}}],\"contour\":[{\"type\":\"contour\",\"colorbar\":{\"outlinewidth\":0,\"ticks\":\"\"},\"colorscale\":[[0.0,\"#0d0887\"],[0.1111111111111111,\"#46039f\"],[0.2222222222222222,\"#7201a8\"],[0.3333333333333333,\"#9c179e\"],[0.4444444444444444,\"#bd3786\"],[0.5555555555555556,\"#d8576b\"],[0.6666666666666666,\"#ed7953\"],[0.7777777777777778,\"#fb9f3a\"],[0.8888888888888888,\"#fdca26\"],[1.0,\"#f0f921\"]]}],\"surface\":[{\"type\":\"surface\",\"colorbar\":{\"outlinewidth\":0,\"ticks\":\"\"},\"colorscale\":[[0.0,\"#0d0887\"],[0.1111111111111111,\"#46039f\"],[0.2222222222222222,\"#7201a8\"],[0.3333333333333333,\"#9c179e\"],[0.4444444444444444,\"#bd3786\"],[0.5555555555555556,\"#d8576b\"],[0.6666666666666666,\"#ed7953\"],[0.7777777777777778,\"#fb9f3a\"],[0.8888888888888888,\"#fdca26\"],[1.0,\"#f0f921\"]]}],\"mesh3d\":[{\"type\":\"mesh3d\",\"colorbar\":{\"outlinewidth\":0,\"ticks\":\"\"}}],\"scatter\":[{\"fillpattern\":{\"fillmode\":\"overlay\",\"size\":10,\"solidity\":0.2},\"type\":\"scatter\"}],\"parcoords\":[{\"type\":\"parcoords\",\"line\":{\"colorbar\":{\"outlinewidth\":0,\"ticks\":\"\"}}}],\"scatterpolargl\":[{\"type\":\"scatterpolargl\",\"marker\":{\"colorbar\":{\"outlinewidth\":0,\"ticks\":\"\"}}}],\"bar\":[{\"error_x\":{\"color\":\"#2a3f5f\"},\"error_y\":{\"color\":\"#2a3f5f\"},\"marker\":{\"line\":{\"color\":\"#E5ECF6\",\"width\":0.5},\"pattern\":{\"fillmode\":\"overlay\",\"size\":10,\"solidity\":0.2}},\"type\":\"bar\"}],\"scattergeo\":[{\"type\":\"scattergeo\",\"marker\":{\"colorbar\":{\"outlinewidth\":0,\"ticks\":\"\"}}}],\"scatterpolar\":[{\"type\":\"scatterpolar\",\"marker\":{\"colorbar\":{\"outlinewidth\":0,\"ticks\":\"\"}}}],\"histogram\":[{\"marker\":{\"pattern\":{\"fillmode\":\"overlay\",\"size\":10,\"solidity\":0.2}},\"type\":\"histogram\"}],\"scattergl\":[{\"type\":\"scattergl\",\"marker\":{\"colorbar\":{\"outlinewidth\":0,\"ticks\":\"\"}}}],\"scatter3d\":[{\"type\":\"scatter3d\",\"line\":{\"colorbar\":{\"outlinewidth\":0,\"ticks\":\"\"}},\"marker\":{\"colorbar\":{\"outlinewidth\":0,\"ticks\":\"\"}}}],\"scattermapbox\":[{\"type\":\"scattermapbox\",\"marker\":{\"colorbar\":{\"outlinewidth\":0,\"ticks\":\"\"}}}],\"scatterternary\":[{\"type\":\"scatterternary\",\"marker\":{\"colorbar\":{\"outlinewidth\":0,\"ticks\":\"\"}}}],\"scattercarpet\":[{\"type\":\"scattercarpet\",\"marker\":{\"colorbar\":{\"outlinewidth\":0,\"ticks\":\"\"}}}],\"carpet\":[{\"aaxis\":{\"endlinecolor\":\"#2a3f5f\",\"gridcolor\":\"white\",\"linecolor\":\"white\",\"minorgridcolor\":\"white\",\"startlinecolor\":\"#2a3f5f\"},\"baxis\":{\"endlinecolor\":\"#2a3f5f\",\"gridcolor\":\"white\",\"linecolor\":\"white\",\"minorgridcolor\":\"white\",\"startlinecolor\":\"#2a3f5f\"},\"type\":\"carpet\"}],\"table\":[{\"cells\":{\"fill\":{\"color\":\"#EBF0F8\"},\"line\":{\"color\":\"white\"}},\"header\":{\"fill\":{\"color\":\"#C8D4E3\"},\"line\":{\"color\":\"white\"}},\"type\":\"table\"}],\"barpolar\":[{\"marker\":{\"line\":{\"color\":\"#E5ECF6\",\"width\":0.5},\"pattern\":{\"fillmode\":\"overlay\",\"size\":10,\"solidity\":0.2}},\"type\":\"barpolar\"}],\"pie\":[{\"automargin\":true,\"type\":\"pie\"}]},\"layout\":{\"autotypenumbers\":\"strict\",\"colorway\":[\"#636efa\",\"#EF553B\",\"#00cc96\",\"#ab63fa\",\"#FFA15A\",\"#19d3f3\",\"#FF6692\",\"#B6E880\",\"#FF97FF\",\"#FECB52\"],\"font\":{\"color\":\"#2a3f5f\"},\"hovermode\":\"closest\",\"hoverlabel\":{\"align\":\"left\"},\"paper_bgcolor\":\"white\",\"plot_bgcolor\":\"#E5ECF6\",\"polar\":{\"bgcolor\":\"#E5ECF6\",\"angularaxis\":{\"gridcolor\":\"white\",\"linecolor\":\"white\",\"ticks\":\"\"},\"radialaxis\":{\"gridcolor\":\"white\",\"linecolor\":\"white\",\"ticks\":\"\"}},\"ternary\":{\"bgcolor\":\"#E5ECF6\",\"aaxis\":{\"gridcolor\":\"white\",\"linecolor\":\"white\",\"ticks\":\"\"},\"baxis\":{\"gridcolor\":\"white\",\"linecolor\":\"white\",\"ticks\":\"\"},\"caxis\":{\"gridcolor\":\"white\",\"linecolor\":\"white\",\"ticks\":\"\"}},\"coloraxis\":{\"colorbar\":{\"outlinewidth\":0,\"ticks\":\"\"}},\"colorscale\":{\"sequential\":[[0.0,\"#0d0887\"],[0.1111111111111111,\"#46039f\"],[0.2222222222222222,\"#7201a8\"],[0.3333333333333333,\"#9c179e\"],[0.4444444444444444,\"#bd3786\"],[0.5555555555555556,\"#d8576b\"],[0.6666666666666666,\"#ed7953\"],[0.7777777777777778,\"#fb9f3a\"],[0.8888888888888888,\"#fdca26\"],[1.0,\"#f0f921\"]],\"sequentialminus\":[[0.0,\"#0d0887\"],[0.1111111111111111,\"#46039f\"],[0.2222222222222222,\"#7201a8\"],[0.3333333333333333,\"#9c179e\"],[0.4444444444444444,\"#bd3786\"],[0.5555555555555556,\"#d8576b\"],[0.6666666666666666,\"#ed7953\"],[0.7777777777777778,\"#fb9f3a\"],[0.8888888888888888,\"#fdca26\"],[1.0,\"#f0f921\"]],\"diverging\":[[0,\"#8e0152\"],[0.1,\"#c51b7d\"],[0.2,\"#de77ae\"],[0.3,\"#f1b6da\"],[0.4,\"#fde0ef\"],[0.5,\"#f7f7f7\"],[0.6,\"#e6f5d0\"],[0.7,\"#b8e186\"],[0.8,\"#7fbc41\"],[0.9,\"#4d9221\"],[1,\"#276419\"]]},\"xaxis\":{\"gridcolor\":\"white\",\"linecolor\":\"white\",\"ticks\":\"\",\"title\":{\"standoff\":15},\"zerolinecolor\":\"white\",\"automargin\":true,\"zerolinewidth\":2},\"yaxis\":{\"gridcolor\":\"white\",\"linecolor\":\"white\",\"ticks\":\"\",\"title\":{\"standoff\":15},\"zerolinecolor\":\"white\",\"automargin\":true,\"zerolinewidth\":2},\"scene\":{\"xaxis\":{\"backgroundcolor\":\"#E5ECF6\",\"gridcolor\":\"white\",\"linecolor\":\"white\",\"showbackground\":true,\"ticks\":\"\",\"zerolinecolor\":\"white\",\"gridwidth\":2},\"yaxis\":{\"backgroundcolor\":\"#E5ECF6\",\"gridcolor\":\"white\",\"linecolor\":\"white\",\"showbackground\":true,\"ticks\":\"\",\"zerolinecolor\":\"white\",\"gridwidth\":2},\"zaxis\":{\"backgroundcolor\":\"#E5ECF6\",\"gridcolor\":\"white\",\"linecolor\":\"white\",\"showbackground\":true,\"ticks\":\"\",\"zerolinecolor\":\"white\",\"gridwidth\":2}},\"shapedefaults\":{\"line\":{\"color\":\"#2a3f5f\"}},\"annotationdefaults\":{\"arrowcolor\":\"#2a3f5f\",\"arrowhead\":0,\"arrowwidth\":1},\"geo\":{\"bgcolor\":\"white\",\"landcolor\":\"#E5ECF6\",\"subunitcolor\":\"white\",\"showland\":true,\"showlakes\":true,\"lakecolor\":\"white\"},\"title\":{\"x\":0.05},\"mapbox\":{\"style\":\"light\"}}}},                        {\"responsive\": true}                    ).then(function(){\n",
       "                            \n",
       "var gd = document.getElementById('662c01f8-abd8-468b-b06a-acf6e3fc1979');\n",
       "var x = new MutationObserver(function (mutations, observer) {{\n",
       "        var display = window.getComputedStyle(gd).display;\n",
       "        if (!display || display === 'none') {{\n",
       "            console.log([gd, 'removed!']);\n",
       "            Plotly.purge(gd);\n",
       "            observer.disconnect();\n",
       "        }}\n",
       "}});\n",
       "\n",
       "// Listen for the removal of the full notebook cells\n",
       "var notebookContainer = gd.closest('#notebook-container');\n",
       "if (notebookContainer) {{\n",
       "    x.observe(notebookContainer, {childList: true});\n",
       "}}\n",
       "\n",
       "// Listen for the clearing of the current output cell\n",
       "var outputEl = gd.closest('.output');\n",
       "if (outputEl) {{\n",
       "    x.observe(outputEl, {childList: true});\n",
       "}}\n",
       "\n",
       "                        })                };                });            </script>        </div>"
      ]
     },
     "metadata": {},
     "output_type": "display_data"
    }
   ],
   "source": [
    "print(optuna.importance.get_param_importances(study))\n",
    "optuna.visualization.plot_param_importances(\n",
    "    study\n",
    ")\n"
   ]
  },
  {
   "attachments": {},
   "cell_type": "markdown",
   "metadata": {},
   "source": [
    "## List parameters that affect trial duration"
   ]
  },
  {
   "cell_type": "code",
   "execution_count": 36,
   "metadata": {},
   "outputs": [
    {
     "data": {
      "application/vnd.plotly.v1+json": {
       "config": {
        "plotlyServerURL": "https://plot.ly"
       },
       "data": [
        {
         "cliponaxis": false,
         "hovertemplate": [
          "LIST_OPTIMIZER (CategoricalDistribution): 0.0035270795652833026<extra></extra>",
          "LIST_LEARNING_RATE (FloatDistribution): 0.00488144858167863<extra></extra>",
          "LIST_IS_ADAPTIVE_LOSS (CategoricalDistribution): 0.00615651389629119<extra></extra>",
          "LIST_PARAM_MULTIPLET_LOSS (FloatDistribution): 0.008112808471224716<extra></extra>",
          "LIST_LLLR_VERSION (CategoricalDistribution): 0.008335833487590061<extra></extra>",
          "LIST_IS_POSITIONAL_ENCODING (CategoricalDistribution): 0.013613089272242867<extra></extra>",
          "LIST_MODEL_BACKBONE (CategoricalDistribution): 0.014996509778876899<extra></extra>",
          "LIST_ACTIVATION_FC (CategoricalDistribution): 0.022067188539562792<extra></extra>",
          "LIST_PARAM_LLR_LOSS (FloatDistribution): 0.027533008891240662<extra></extra>",
          "LIST_ORDER_SPRT (IntDistribution): 0.03296945163423107<extra></extra>",
          "LIST_NUM_THRESH (IntDistribution): 0.06208541212121246<extra></extra>",
          "LIST_WEIGHT_DECAY (FloatDistribution): 0.0702932285299134<extra></extra>",
          "LIST_IS_NORMALIZE (CategoricalDistribution): 0.13981472794028363<extra></extra>",
          "LIST_SPARSITY (CategoricalDistribution): 0.5856136992903683<extra></extra>"
         ],
         "marker": {
          "color": "rgb(66,146,198)"
         },
         "orientation": "h",
         "text": [
          "<0.01",
          "<0.01",
          "<0.01",
          "<0.01",
          "<0.01",
          "0.01",
          "0.01",
          "0.02",
          "0.03",
          "0.03",
          "0.06",
          "0.07",
          "0.14",
          "0.59"
         ],
         "textposition": "outside",
         "type": "bar",
         "x": [
          0.0035270795652833026,
          0.00488144858167863,
          0.00615651389629119,
          0.008112808471224716,
          0.008335833487590061,
          0.013613089272242867,
          0.014996509778876899,
          0.022067188539562792,
          0.027533008891240662,
          0.03296945163423107,
          0.06208541212121246,
          0.0702932285299134,
          0.13981472794028363,
          0.5856136992903683
         ],
         "y": [
          "LIST_OPTIMIZER",
          "LIST_LEARNING_RATE",
          "LIST_IS_ADAPTIVE_LOSS",
          "LIST_PARAM_MULTIPLET_LOSS",
          "LIST_LLLR_VERSION",
          "LIST_IS_POSITIONAL_ENCODING",
          "LIST_MODEL_BACKBONE",
          "LIST_ACTIVATION_FC",
          "LIST_PARAM_LLR_LOSS",
          "LIST_ORDER_SPRT",
          "LIST_NUM_THRESH",
          "LIST_WEIGHT_DECAY",
          "LIST_IS_NORMALIZE",
          "LIST_SPARSITY"
         ]
        }
       ],
       "layout": {
        "showlegend": false,
        "template": {
         "data": {
          "bar": [
           {
            "error_x": {
             "color": "#2a3f5f"
            },
            "error_y": {
             "color": "#2a3f5f"
            },
            "marker": {
             "line": {
              "color": "#E5ECF6",
              "width": 0.5
             },
             "pattern": {
              "fillmode": "overlay",
              "size": 10,
              "solidity": 0.2
             }
            },
            "type": "bar"
           }
          ],
          "barpolar": [
           {
            "marker": {
             "line": {
              "color": "#E5ECF6",
              "width": 0.5
             },
             "pattern": {
              "fillmode": "overlay",
              "size": 10,
              "solidity": 0.2
             }
            },
            "type": "barpolar"
           }
          ],
          "carpet": [
           {
            "aaxis": {
             "endlinecolor": "#2a3f5f",
             "gridcolor": "white",
             "linecolor": "white",
             "minorgridcolor": "white",
             "startlinecolor": "#2a3f5f"
            },
            "baxis": {
             "endlinecolor": "#2a3f5f",
             "gridcolor": "white",
             "linecolor": "white",
             "minorgridcolor": "white",
             "startlinecolor": "#2a3f5f"
            },
            "type": "carpet"
           }
          ],
          "choropleth": [
           {
            "colorbar": {
             "outlinewidth": 0,
             "ticks": ""
            },
            "type": "choropleth"
           }
          ],
          "contour": [
           {
            "colorbar": {
             "outlinewidth": 0,
             "ticks": ""
            },
            "colorscale": [
             [
              0,
              "#0d0887"
             ],
             [
              0.1111111111111111,
              "#46039f"
             ],
             [
              0.2222222222222222,
              "#7201a8"
             ],
             [
              0.3333333333333333,
              "#9c179e"
             ],
             [
              0.4444444444444444,
              "#bd3786"
             ],
             [
              0.5555555555555556,
              "#d8576b"
             ],
             [
              0.6666666666666666,
              "#ed7953"
             ],
             [
              0.7777777777777778,
              "#fb9f3a"
             ],
             [
              0.8888888888888888,
              "#fdca26"
             ],
             [
              1,
              "#f0f921"
             ]
            ],
            "type": "contour"
           }
          ],
          "contourcarpet": [
           {
            "colorbar": {
             "outlinewidth": 0,
             "ticks": ""
            },
            "type": "contourcarpet"
           }
          ],
          "heatmap": [
           {
            "colorbar": {
             "outlinewidth": 0,
             "ticks": ""
            },
            "colorscale": [
             [
              0,
              "#0d0887"
             ],
             [
              0.1111111111111111,
              "#46039f"
             ],
             [
              0.2222222222222222,
              "#7201a8"
             ],
             [
              0.3333333333333333,
              "#9c179e"
             ],
             [
              0.4444444444444444,
              "#bd3786"
             ],
             [
              0.5555555555555556,
              "#d8576b"
             ],
             [
              0.6666666666666666,
              "#ed7953"
             ],
             [
              0.7777777777777778,
              "#fb9f3a"
             ],
             [
              0.8888888888888888,
              "#fdca26"
             ],
             [
              1,
              "#f0f921"
             ]
            ],
            "type": "heatmap"
           }
          ],
          "heatmapgl": [
           {
            "colorbar": {
             "outlinewidth": 0,
             "ticks": ""
            },
            "colorscale": [
             [
              0,
              "#0d0887"
             ],
             [
              0.1111111111111111,
              "#46039f"
             ],
             [
              0.2222222222222222,
              "#7201a8"
             ],
             [
              0.3333333333333333,
              "#9c179e"
             ],
             [
              0.4444444444444444,
              "#bd3786"
             ],
             [
              0.5555555555555556,
              "#d8576b"
             ],
             [
              0.6666666666666666,
              "#ed7953"
             ],
             [
              0.7777777777777778,
              "#fb9f3a"
             ],
             [
              0.8888888888888888,
              "#fdca26"
             ],
             [
              1,
              "#f0f921"
             ]
            ],
            "type": "heatmapgl"
           }
          ],
          "histogram": [
           {
            "marker": {
             "pattern": {
              "fillmode": "overlay",
              "size": 10,
              "solidity": 0.2
             }
            },
            "type": "histogram"
           }
          ],
          "histogram2d": [
           {
            "colorbar": {
             "outlinewidth": 0,
             "ticks": ""
            },
            "colorscale": [
             [
              0,
              "#0d0887"
             ],
             [
              0.1111111111111111,
              "#46039f"
             ],
             [
              0.2222222222222222,
              "#7201a8"
             ],
             [
              0.3333333333333333,
              "#9c179e"
             ],
             [
              0.4444444444444444,
              "#bd3786"
             ],
             [
              0.5555555555555556,
              "#d8576b"
             ],
             [
              0.6666666666666666,
              "#ed7953"
             ],
             [
              0.7777777777777778,
              "#fb9f3a"
             ],
             [
              0.8888888888888888,
              "#fdca26"
             ],
             [
              1,
              "#f0f921"
             ]
            ],
            "type": "histogram2d"
           }
          ],
          "histogram2dcontour": [
           {
            "colorbar": {
             "outlinewidth": 0,
             "ticks": ""
            },
            "colorscale": [
             [
              0,
              "#0d0887"
             ],
             [
              0.1111111111111111,
              "#46039f"
             ],
             [
              0.2222222222222222,
              "#7201a8"
             ],
             [
              0.3333333333333333,
              "#9c179e"
             ],
             [
              0.4444444444444444,
              "#bd3786"
             ],
             [
              0.5555555555555556,
              "#d8576b"
             ],
             [
              0.6666666666666666,
              "#ed7953"
             ],
             [
              0.7777777777777778,
              "#fb9f3a"
             ],
             [
              0.8888888888888888,
              "#fdca26"
             ],
             [
              1,
              "#f0f921"
             ]
            ],
            "type": "histogram2dcontour"
           }
          ],
          "mesh3d": [
           {
            "colorbar": {
             "outlinewidth": 0,
             "ticks": ""
            },
            "type": "mesh3d"
           }
          ],
          "parcoords": [
           {
            "line": {
             "colorbar": {
              "outlinewidth": 0,
              "ticks": ""
             }
            },
            "type": "parcoords"
           }
          ],
          "pie": [
           {
            "automargin": true,
            "type": "pie"
           }
          ],
          "scatter": [
           {
            "fillpattern": {
             "fillmode": "overlay",
             "size": 10,
             "solidity": 0.2
            },
            "type": "scatter"
           }
          ],
          "scatter3d": [
           {
            "line": {
             "colorbar": {
              "outlinewidth": 0,
              "ticks": ""
             }
            },
            "marker": {
             "colorbar": {
              "outlinewidth": 0,
              "ticks": ""
             }
            },
            "type": "scatter3d"
           }
          ],
          "scattercarpet": [
           {
            "marker": {
             "colorbar": {
              "outlinewidth": 0,
              "ticks": ""
             }
            },
            "type": "scattercarpet"
           }
          ],
          "scattergeo": [
           {
            "marker": {
             "colorbar": {
              "outlinewidth": 0,
              "ticks": ""
             }
            },
            "type": "scattergeo"
           }
          ],
          "scattergl": [
           {
            "marker": {
             "colorbar": {
              "outlinewidth": 0,
              "ticks": ""
             }
            },
            "type": "scattergl"
           }
          ],
          "scattermapbox": [
           {
            "marker": {
             "colorbar": {
              "outlinewidth": 0,
              "ticks": ""
             }
            },
            "type": "scattermapbox"
           }
          ],
          "scatterpolar": [
           {
            "marker": {
             "colorbar": {
              "outlinewidth": 0,
              "ticks": ""
             }
            },
            "type": "scatterpolar"
           }
          ],
          "scatterpolargl": [
           {
            "marker": {
             "colorbar": {
              "outlinewidth": 0,
              "ticks": ""
             }
            },
            "type": "scatterpolargl"
           }
          ],
          "scatterternary": [
           {
            "marker": {
             "colorbar": {
              "outlinewidth": 0,
              "ticks": ""
             }
            },
            "type": "scatterternary"
           }
          ],
          "surface": [
           {
            "colorbar": {
             "outlinewidth": 0,
             "ticks": ""
            },
            "colorscale": [
             [
              0,
              "#0d0887"
             ],
             [
              0.1111111111111111,
              "#46039f"
             ],
             [
              0.2222222222222222,
              "#7201a8"
             ],
             [
              0.3333333333333333,
              "#9c179e"
             ],
             [
              0.4444444444444444,
              "#bd3786"
             ],
             [
              0.5555555555555556,
              "#d8576b"
             ],
             [
              0.6666666666666666,
              "#ed7953"
             ],
             [
              0.7777777777777778,
              "#fb9f3a"
             ],
             [
              0.8888888888888888,
              "#fdca26"
             ],
             [
              1,
              "#f0f921"
             ]
            ],
            "type": "surface"
           }
          ],
          "table": [
           {
            "cells": {
             "fill": {
              "color": "#EBF0F8"
             },
             "line": {
              "color": "white"
             }
            },
            "header": {
             "fill": {
              "color": "#C8D4E3"
             },
             "line": {
              "color": "white"
             }
            },
            "type": "table"
           }
          ]
         },
         "layout": {
          "annotationdefaults": {
           "arrowcolor": "#2a3f5f",
           "arrowhead": 0,
           "arrowwidth": 1
          },
          "autotypenumbers": "strict",
          "coloraxis": {
           "colorbar": {
            "outlinewidth": 0,
            "ticks": ""
           }
          },
          "colorscale": {
           "diverging": [
            [
             0,
             "#8e0152"
            ],
            [
             0.1,
             "#c51b7d"
            ],
            [
             0.2,
             "#de77ae"
            ],
            [
             0.3,
             "#f1b6da"
            ],
            [
             0.4,
             "#fde0ef"
            ],
            [
             0.5,
             "#f7f7f7"
            ],
            [
             0.6,
             "#e6f5d0"
            ],
            [
             0.7,
             "#b8e186"
            ],
            [
             0.8,
             "#7fbc41"
            ],
            [
             0.9,
             "#4d9221"
            ],
            [
             1,
             "#276419"
            ]
           ],
           "sequential": [
            [
             0,
             "#0d0887"
            ],
            [
             0.1111111111111111,
             "#46039f"
            ],
            [
             0.2222222222222222,
             "#7201a8"
            ],
            [
             0.3333333333333333,
             "#9c179e"
            ],
            [
             0.4444444444444444,
             "#bd3786"
            ],
            [
             0.5555555555555556,
             "#d8576b"
            ],
            [
             0.6666666666666666,
             "#ed7953"
            ],
            [
             0.7777777777777778,
             "#fb9f3a"
            ],
            [
             0.8888888888888888,
             "#fdca26"
            ],
            [
             1,
             "#f0f921"
            ]
           ],
           "sequentialminus": [
            [
             0,
             "#0d0887"
            ],
            [
             0.1111111111111111,
             "#46039f"
            ],
            [
             0.2222222222222222,
             "#7201a8"
            ],
            [
             0.3333333333333333,
             "#9c179e"
            ],
            [
             0.4444444444444444,
             "#bd3786"
            ],
            [
             0.5555555555555556,
             "#d8576b"
            ],
            [
             0.6666666666666666,
             "#ed7953"
            ],
            [
             0.7777777777777778,
             "#fb9f3a"
            ],
            [
             0.8888888888888888,
             "#fdca26"
            ],
            [
             1,
             "#f0f921"
            ]
           ]
          },
          "colorway": [
           "#636efa",
           "#EF553B",
           "#00cc96",
           "#ab63fa",
           "#FFA15A",
           "#19d3f3",
           "#FF6692",
           "#B6E880",
           "#FF97FF",
           "#FECB52"
          ],
          "font": {
           "color": "#2a3f5f"
          },
          "geo": {
           "bgcolor": "white",
           "lakecolor": "white",
           "landcolor": "#E5ECF6",
           "showlakes": true,
           "showland": true,
           "subunitcolor": "white"
          },
          "hoverlabel": {
           "align": "left"
          },
          "hovermode": "closest",
          "mapbox": {
           "style": "light"
          },
          "paper_bgcolor": "white",
          "plot_bgcolor": "#E5ECF6",
          "polar": {
           "angularaxis": {
            "gridcolor": "white",
            "linecolor": "white",
            "ticks": ""
           },
           "bgcolor": "#E5ECF6",
           "radialaxis": {
            "gridcolor": "white",
            "linecolor": "white",
            "ticks": ""
           }
          },
          "scene": {
           "xaxis": {
            "backgroundcolor": "#E5ECF6",
            "gridcolor": "white",
            "gridwidth": 2,
            "linecolor": "white",
            "showbackground": true,
            "ticks": "",
            "zerolinecolor": "white"
           },
           "yaxis": {
            "backgroundcolor": "#E5ECF6",
            "gridcolor": "white",
            "gridwidth": 2,
            "linecolor": "white",
            "showbackground": true,
            "ticks": "",
            "zerolinecolor": "white"
           },
           "zaxis": {
            "backgroundcolor": "#E5ECF6",
            "gridcolor": "white",
            "gridwidth": 2,
            "linecolor": "white",
            "showbackground": true,
            "ticks": "",
            "zerolinecolor": "white"
           }
          },
          "shapedefaults": {
           "line": {
            "color": "#2a3f5f"
           }
          },
          "ternary": {
           "aaxis": {
            "gridcolor": "white",
            "linecolor": "white",
            "ticks": ""
           },
           "baxis": {
            "gridcolor": "white",
            "linecolor": "white",
            "ticks": ""
           },
           "bgcolor": "#E5ECF6",
           "caxis": {
            "gridcolor": "white",
            "linecolor": "white",
            "ticks": ""
           }
          },
          "title": {
           "x": 0.05
          },
          "xaxis": {
           "automargin": true,
           "gridcolor": "white",
           "linecolor": "white",
           "ticks": "",
           "title": {
            "standoff": 15
           },
           "zerolinecolor": "white",
           "zerolinewidth": 2
          },
          "yaxis": {
           "automargin": true,
           "gridcolor": "white",
           "linecolor": "white",
           "ticks": "",
           "title": {
            "standoff": 15
           },
           "zerolinecolor": "white",
           "zerolinewidth": 2
          }
         }
        },
        "title": {
         "text": "Hyperparameter Importances"
        },
        "xaxis": {
         "title": {
          "text": "Importance for duration"
         }
        },
        "yaxis": {
         "title": {
          "text": "Hyperparameter"
         }
        }
       }
      },
      "text/html": [
       "<div>                            <div id=\"d9d63bd8-2eb2-45b7-8e34-1392d53aeb28\" class=\"plotly-graph-div\" style=\"height:525px; width:100%;\"></div>            <script type=\"text/javascript\">                require([\"plotly\"], function(Plotly) {                    window.PLOTLYENV=window.PLOTLYENV || {};                                    if (document.getElementById(\"d9d63bd8-2eb2-45b7-8e34-1392d53aeb28\")) {                    Plotly.newPlot(                        \"d9d63bd8-2eb2-45b7-8e34-1392d53aeb28\",                        [{\"cliponaxis\":false,\"hovertemplate\":[\"LIST_OPTIMIZER (CategoricalDistribution): 0.0035270795652833026<extra></extra>\",\"LIST_LEARNING_RATE (FloatDistribution): 0.00488144858167863<extra></extra>\",\"LIST_IS_ADAPTIVE_LOSS (CategoricalDistribution): 0.00615651389629119<extra></extra>\",\"LIST_PARAM_MULTIPLET_LOSS (FloatDistribution): 0.008112808471224716<extra></extra>\",\"LIST_LLLR_VERSION (CategoricalDistribution): 0.008335833487590061<extra></extra>\",\"LIST_IS_POSITIONAL_ENCODING (CategoricalDistribution): 0.013613089272242867<extra></extra>\",\"LIST_MODEL_BACKBONE (CategoricalDistribution): 0.014996509778876899<extra></extra>\",\"LIST_ACTIVATION_FC (CategoricalDistribution): 0.022067188539562792<extra></extra>\",\"LIST_PARAM_LLR_LOSS (FloatDistribution): 0.027533008891240662<extra></extra>\",\"LIST_ORDER_SPRT (IntDistribution): 0.03296945163423107<extra></extra>\",\"LIST_NUM_THRESH (IntDistribution): 0.06208541212121246<extra></extra>\",\"LIST_WEIGHT_DECAY (FloatDistribution): 0.0702932285299134<extra></extra>\",\"LIST_IS_NORMALIZE (CategoricalDistribution): 0.13981472794028363<extra></extra>\",\"LIST_SPARSITY (CategoricalDistribution): 0.5856136992903683<extra></extra>\"],\"marker\":{\"color\":\"rgb(66,146,198)\"},\"orientation\":\"h\",\"text\":[\"<0.01\",\"<0.01\",\"<0.01\",\"<0.01\",\"<0.01\",\"0.01\",\"0.01\",\"0.02\",\"0.03\",\"0.03\",\"0.06\",\"0.07\",\"0.14\",\"0.59\"],\"textposition\":\"outside\",\"x\":[0.0035270795652833026,0.00488144858167863,0.00615651389629119,0.008112808471224716,0.008335833487590061,0.013613089272242867,0.014996509778876899,0.022067188539562792,0.027533008891240662,0.03296945163423107,0.06208541212121246,0.0702932285299134,0.13981472794028363,0.5856136992903683],\"y\":[\"LIST_OPTIMIZER\",\"LIST_LEARNING_RATE\",\"LIST_IS_ADAPTIVE_LOSS\",\"LIST_PARAM_MULTIPLET_LOSS\",\"LIST_LLLR_VERSION\",\"LIST_IS_POSITIONAL_ENCODING\",\"LIST_MODEL_BACKBONE\",\"LIST_ACTIVATION_FC\",\"LIST_PARAM_LLR_LOSS\",\"LIST_ORDER_SPRT\",\"LIST_NUM_THRESH\",\"LIST_WEIGHT_DECAY\",\"LIST_IS_NORMALIZE\",\"LIST_SPARSITY\"],\"type\":\"bar\"}],                        {\"showlegend\":false,\"title\":{\"text\":\"Hyperparameter Importances\"},\"xaxis\":{\"title\":{\"text\":\"Importance for duration\"}},\"yaxis\":{\"title\":{\"text\":\"Hyperparameter\"}},\"template\":{\"data\":{\"histogram2dcontour\":[{\"type\":\"histogram2dcontour\",\"colorbar\":{\"outlinewidth\":0,\"ticks\":\"\"},\"colorscale\":[[0.0,\"#0d0887\"],[0.1111111111111111,\"#46039f\"],[0.2222222222222222,\"#7201a8\"],[0.3333333333333333,\"#9c179e\"],[0.4444444444444444,\"#bd3786\"],[0.5555555555555556,\"#d8576b\"],[0.6666666666666666,\"#ed7953\"],[0.7777777777777778,\"#fb9f3a\"],[0.8888888888888888,\"#fdca26\"],[1.0,\"#f0f921\"]]}],\"choropleth\":[{\"type\":\"choropleth\",\"colorbar\":{\"outlinewidth\":0,\"ticks\":\"\"}}],\"histogram2d\":[{\"type\":\"histogram2d\",\"colorbar\":{\"outlinewidth\":0,\"ticks\":\"\"},\"colorscale\":[[0.0,\"#0d0887\"],[0.1111111111111111,\"#46039f\"],[0.2222222222222222,\"#7201a8\"],[0.3333333333333333,\"#9c179e\"],[0.4444444444444444,\"#bd3786\"],[0.5555555555555556,\"#d8576b\"],[0.6666666666666666,\"#ed7953\"],[0.7777777777777778,\"#fb9f3a\"],[0.8888888888888888,\"#fdca26\"],[1.0,\"#f0f921\"]]}],\"heatmap\":[{\"type\":\"heatmap\",\"colorbar\":{\"outlinewidth\":0,\"ticks\":\"\"},\"colorscale\":[[0.0,\"#0d0887\"],[0.1111111111111111,\"#46039f\"],[0.2222222222222222,\"#7201a8\"],[0.3333333333333333,\"#9c179e\"],[0.4444444444444444,\"#bd3786\"],[0.5555555555555556,\"#d8576b\"],[0.6666666666666666,\"#ed7953\"],[0.7777777777777778,\"#fb9f3a\"],[0.8888888888888888,\"#fdca26\"],[1.0,\"#f0f921\"]]}],\"heatmapgl\":[{\"type\":\"heatmapgl\",\"colorbar\":{\"outlinewidth\":0,\"ticks\":\"\"},\"colorscale\":[[0.0,\"#0d0887\"],[0.1111111111111111,\"#46039f\"],[0.2222222222222222,\"#7201a8\"],[0.3333333333333333,\"#9c179e\"],[0.4444444444444444,\"#bd3786\"],[0.5555555555555556,\"#d8576b\"],[0.6666666666666666,\"#ed7953\"],[0.7777777777777778,\"#fb9f3a\"],[0.8888888888888888,\"#fdca26\"],[1.0,\"#f0f921\"]]}],\"contourcarpet\":[{\"type\":\"contourcarpet\",\"colorbar\":{\"outlinewidth\":0,\"ticks\":\"\"}}],\"contour\":[{\"type\":\"contour\",\"colorbar\":{\"outlinewidth\":0,\"ticks\":\"\"},\"colorscale\":[[0.0,\"#0d0887\"],[0.1111111111111111,\"#46039f\"],[0.2222222222222222,\"#7201a8\"],[0.3333333333333333,\"#9c179e\"],[0.4444444444444444,\"#bd3786\"],[0.5555555555555556,\"#d8576b\"],[0.6666666666666666,\"#ed7953\"],[0.7777777777777778,\"#fb9f3a\"],[0.8888888888888888,\"#fdca26\"],[1.0,\"#f0f921\"]]}],\"surface\":[{\"type\":\"surface\",\"colorbar\":{\"outlinewidth\":0,\"ticks\":\"\"},\"colorscale\":[[0.0,\"#0d0887\"],[0.1111111111111111,\"#46039f\"],[0.2222222222222222,\"#7201a8\"],[0.3333333333333333,\"#9c179e\"],[0.4444444444444444,\"#bd3786\"],[0.5555555555555556,\"#d8576b\"],[0.6666666666666666,\"#ed7953\"],[0.7777777777777778,\"#fb9f3a\"],[0.8888888888888888,\"#fdca26\"],[1.0,\"#f0f921\"]]}],\"mesh3d\":[{\"type\":\"mesh3d\",\"colorbar\":{\"outlinewidth\":0,\"ticks\":\"\"}}],\"scatter\":[{\"fillpattern\":{\"fillmode\":\"overlay\",\"size\":10,\"solidity\":0.2},\"type\":\"scatter\"}],\"parcoords\":[{\"type\":\"parcoords\",\"line\":{\"colorbar\":{\"outlinewidth\":0,\"ticks\":\"\"}}}],\"scatterpolargl\":[{\"type\":\"scatterpolargl\",\"marker\":{\"colorbar\":{\"outlinewidth\":0,\"ticks\":\"\"}}}],\"bar\":[{\"error_x\":{\"color\":\"#2a3f5f\"},\"error_y\":{\"color\":\"#2a3f5f\"},\"marker\":{\"line\":{\"color\":\"#E5ECF6\",\"width\":0.5},\"pattern\":{\"fillmode\":\"overlay\",\"size\":10,\"solidity\":0.2}},\"type\":\"bar\"}],\"scattergeo\":[{\"type\":\"scattergeo\",\"marker\":{\"colorbar\":{\"outlinewidth\":0,\"ticks\":\"\"}}}],\"scatterpolar\":[{\"type\":\"scatterpolar\",\"marker\":{\"colorbar\":{\"outlinewidth\":0,\"ticks\":\"\"}}}],\"histogram\":[{\"marker\":{\"pattern\":{\"fillmode\":\"overlay\",\"size\":10,\"solidity\":0.2}},\"type\":\"histogram\"}],\"scattergl\":[{\"type\":\"scattergl\",\"marker\":{\"colorbar\":{\"outlinewidth\":0,\"ticks\":\"\"}}}],\"scatter3d\":[{\"type\":\"scatter3d\",\"line\":{\"colorbar\":{\"outlinewidth\":0,\"ticks\":\"\"}},\"marker\":{\"colorbar\":{\"outlinewidth\":0,\"ticks\":\"\"}}}],\"scattermapbox\":[{\"type\":\"scattermapbox\",\"marker\":{\"colorbar\":{\"outlinewidth\":0,\"ticks\":\"\"}}}],\"scatterternary\":[{\"type\":\"scatterternary\",\"marker\":{\"colorbar\":{\"outlinewidth\":0,\"ticks\":\"\"}}}],\"scattercarpet\":[{\"type\":\"scattercarpet\",\"marker\":{\"colorbar\":{\"outlinewidth\":0,\"ticks\":\"\"}}}],\"carpet\":[{\"aaxis\":{\"endlinecolor\":\"#2a3f5f\",\"gridcolor\":\"white\",\"linecolor\":\"white\",\"minorgridcolor\":\"white\",\"startlinecolor\":\"#2a3f5f\"},\"baxis\":{\"endlinecolor\":\"#2a3f5f\",\"gridcolor\":\"white\",\"linecolor\":\"white\",\"minorgridcolor\":\"white\",\"startlinecolor\":\"#2a3f5f\"},\"type\":\"carpet\"}],\"table\":[{\"cells\":{\"fill\":{\"color\":\"#EBF0F8\"},\"line\":{\"color\":\"white\"}},\"header\":{\"fill\":{\"color\":\"#C8D4E3\"},\"line\":{\"color\":\"white\"}},\"type\":\"table\"}],\"barpolar\":[{\"marker\":{\"line\":{\"color\":\"#E5ECF6\",\"width\":0.5},\"pattern\":{\"fillmode\":\"overlay\",\"size\":10,\"solidity\":0.2}},\"type\":\"barpolar\"}],\"pie\":[{\"automargin\":true,\"type\":\"pie\"}]},\"layout\":{\"autotypenumbers\":\"strict\",\"colorway\":[\"#636efa\",\"#EF553B\",\"#00cc96\",\"#ab63fa\",\"#FFA15A\",\"#19d3f3\",\"#FF6692\",\"#B6E880\",\"#FF97FF\",\"#FECB52\"],\"font\":{\"color\":\"#2a3f5f\"},\"hovermode\":\"closest\",\"hoverlabel\":{\"align\":\"left\"},\"paper_bgcolor\":\"white\",\"plot_bgcolor\":\"#E5ECF6\",\"polar\":{\"bgcolor\":\"#E5ECF6\",\"angularaxis\":{\"gridcolor\":\"white\",\"linecolor\":\"white\",\"ticks\":\"\"},\"radialaxis\":{\"gridcolor\":\"white\",\"linecolor\":\"white\",\"ticks\":\"\"}},\"ternary\":{\"bgcolor\":\"#E5ECF6\",\"aaxis\":{\"gridcolor\":\"white\",\"linecolor\":\"white\",\"ticks\":\"\"},\"baxis\":{\"gridcolor\":\"white\",\"linecolor\":\"white\",\"ticks\":\"\"},\"caxis\":{\"gridcolor\":\"white\",\"linecolor\":\"white\",\"ticks\":\"\"}},\"coloraxis\":{\"colorbar\":{\"outlinewidth\":0,\"ticks\":\"\"}},\"colorscale\":{\"sequential\":[[0.0,\"#0d0887\"],[0.1111111111111111,\"#46039f\"],[0.2222222222222222,\"#7201a8\"],[0.3333333333333333,\"#9c179e\"],[0.4444444444444444,\"#bd3786\"],[0.5555555555555556,\"#d8576b\"],[0.6666666666666666,\"#ed7953\"],[0.7777777777777778,\"#fb9f3a\"],[0.8888888888888888,\"#fdca26\"],[1.0,\"#f0f921\"]],\"sequentialminus\":[[0.0,\"#0d0887\"],[0.1111111111111111,\"#46039f\"],[0.2222222222222222,\"#7201a8\"],[0.3333333333333333,\"#9c179e\"],[0.4444444444444444,\"#bd3786\"],[0.5555555555555556,\"#d8576b\"],[0.6666666666666666,\"#ed7953\"],[0.7777777777777778,\"#fb9f3a\"],[0.8888888888888888,\"#fdca26\"],[1.0,\"#f0f921\"]],\"diverging\":[[0,\"#8e0152\"],[0.1,\"#c51b7d\"],[0.2,\"#de77ae\"],[0.3,\"#f1b6da\"],[0.4,\"#fde0ef\"],[0.5,\"#f7f7f7\"],[0.6,\"#e6f5d0\"],[0.7,\"#b8e186\"],[0.8,\"#7fbc41\"],[0.9,\"#4d9221\"],[1,\"#276419\"]]},\"xaxis\":{\"gridcolor\":\"white\",\"linecolor\":\"white\",\"ticks\":\"\",\"title\":{\"standoff\":15},\"zerolinecolor\":\"white\",\"automargin\":true,\"zerolinewidth\":2},\"yaxis\":{\"gridcolor\":\"white\",\"linecolor\":\"white\",\"ticks\":\"\",\"title\":{\"standoff\":15},\"zerolinecolor\":\"white\",\"automargin\":true,\"zerolinewidth\":2},\"scene\":{\"xaxis\":{\"backgroundcolor\":\"#E5ECF6\",\"gridcolor\":\"white\",\"linecolor\":\"white\",\"showbackground\":true,\"ticks\":\"\",\"zerolinecolor\":\"white\",\"gridwidth\":2},\"yaxis\":{\"backgroundcolor\":\"#E5ECF6\",\"gridcolor\":\"white\",\"linecolor\":\"white\",\"showbackground\":true,\"ticks\":\"\",\"zerolinecolor\":\"white\",\"gridwidth\":2},\"zaxis\":{\"backgroundcolor\":\"#E5ECF6\",\"gridcolor\":\"white\",\"linecolor\":\"white\",\"showbackground\":true,\"ticks\":\"\",\"zerolinecolor\":\"white\",\"gridwidth\":2}},\"shapedefaults\":{\"line\":{\"color\":\"#2a3f5f\"}},\"annotationdefaults\":{\"arrowcolor\":\"#2a3f5f\",\"arrowhead\":0,\"arrowwidth\":1},\"geo\":{\"bgcolor\":\"white\",\"landcolor\":\"#E5ECF6\",\"subunitcolor\":\"white\",\"showland\":true,\"showlakes\":true,\"lakecolor\":\"white\"},\"title\":{\"x\":0.05},\"mapbox\":{\"style\":\"light\"}}}},                        {\"responsive\": true}                    ).then(function(){\n",
       "                            \n",
       "var gd = document.getElementById('d9d63bd8-2eb2-45b7-8e34-1392d53aeb28');\n",
       "var x = new MutationObserver(function (mutations, observer) {{\n",
       "        var display = window.getComputedStyle(gd).display;\n",
       "        if (!display || display === 'none') {{\n",
       "            console.log([gd, 'removed!']);\n",
       "            Plotly.purge(gd);\n",
       "            observer.disconnect();\n",
       "        }}\n",
       "}});\n",
       "\n",
       "// Listen for the removal of the full notebook cells\n",
       "var notebookContainer = gd.closest('#notebook-container');\n",
       "if (notebookContainer) {{\n",
       "    x.observe(notebookContainer, {childList: true});\n",
       "}}\n",
       "\n",
       "// Listen for the clearing of the current output cell\n",
       "var outputEl = gd.closest('.output');\n",
       "if (outputEl) {{\n",
       "    x.observe(outputEl, {childList: true});\n",
       "}}\n",
       "\n",
       "                        })                };                });            </script>        </div>"
      ]
     },
     "metadata": {},
     "output_type": "display_data"
    }
   ],
   "source": [
    "optuna.visualization.plot_param_importances(\n",
    "    study, \n",
    "    target=lambda t: t.duration.total_seconds(), \n",
    "    target_name=\"duration\"\n",
    ")"
   ]
  },
  {
   "attachments": {},
   "cell_type": "markdown",
   "metadata": {},
   "source": [
    "# Empirical distribution function\n"
   ]
  },
  {
   "cell_type": "code",
   "execution_count": 18,
   "metadata": {},
   "outputs": [
    {
     "data": {
      "application/vnd.plotly.v1+json": {
       "config": {
        "plotlyServerURL": "https://plot.ly"
       },
       "data": [
        {
         "mode": "lines",
         "name": "optuna",
         "type": "scatter",
         "x": [
          0.12331002950668335,
          0.1284534970317224,
          0.13359696455676145,
          0.1387404320818005,
          0.14388389960683956,
          0.14902736713187864,
          0.1541708346569177,
          0.15931430218195675,
          0.1644577697069958,
          0.16960123723203485,
          0.1747447047570739,
          0.17988817228211296,
          0.18503163980715204,
          0.19017510733219106,
          0.19531857485723014,
          0.2004620423822692,
          0.20560550990730825,
          0.2107489774323473,
          0.21589244495738635,
          0.22103591248242543,
          0.22617938000746446,
          0.23132284753250354,
          0.2364663150575426,
          0.24160978258258164,
          0.2467532501076207,
          0.25189671763265975,
          0.2570401851576988,
          0.26218365268273786,
          0.26732712020777694,
          0.27247058773281596,
          0.27761405525785504,
          0.2827575227828941,
          0.28790099030793315,
          0.29304445783297217,
          0.29818792535801125,
          0.30333139288305033,
          0.30847486040808936,
          0.31361832793312844,
          0.3187617954581675,
          0.32390526298320654,
          0.32904873050824557,
          0.33419219803328465,
          0.33933566555832373,
          0.34447913308336275,
          0.34962260060840183,
          0.3547660681334409,
          0.35990953565847994,
          0.36505300318351896,
          0.37019647070855805,
          0.3753399382335971,
          0.38048340575863615,
          0.38562687328367523,
          0.39077034080871426,
          0.39591380833375334,
          0.40105727585879236,
          0.40620074338383144,
          0.4113442109088705,
          0.41648767843390955,
          0.4216311459589486,
          0.42677461348398765,
          0.43191808100902673,
          0.43706154853406576,
          0.44220501605910484,
          0.44734848358414386,
          0.45249195110918294,
          0.457635418634222,
          0.46277888615926105,
          0.46792235368430013,
          0.47306582120933915,
          0.47820928873437824,
          0.48335275625941726,
          0.48849622378445634,
          0.49363969130949537,
          0.49878315883453445,
          0.5039266263595735,
          0.5090700938846126,
          0.5142135614096517,
          0.5193570289346907,
          0.5245004964597297,
          0.5296439639847688,
          0.5347874315098078,
          0.5399308990348469,
          0.545074366559886,
          0.5502178340849251,
          0.5553613016099641,
          0.5605047691350031,
          0.5656482366600422,
          0.5707917041850812,
          0.5759351717101203,
          0.5810786392351593,
          0.5862221067601985,
          0.5913655742852375,
          0.5965090418102765,
          0.6016525093353156,
          0.6067959768603546,
          0.6119394443853936,
          0.6170829119104327,
          0.6222263794354719,
          0.6273698469605109,
          0.6325133144855499
         ],
         "y": [
          0.009433962264150943,
          0.7169811320754716,
          0.7924528301886793,
          0.8584905660377359,
          0.8679245283018868,
          0.8773584905660378,
          0.8773584905660378,
          0.8773584905660378,
          0.8962264150943396,
          0.8962264150943396,
          0.8962264150943396,
          0.8962264150943396,
          0.8962264150943396,
          0.8962264150943396,
          0.8962264150943396,
          0.8962264150943396,
          0.9056603773584906,
          0.9056603773584906,
          0.9056603773584906,
          0.9056603773584906,
          0.9056603773584906,
          0.9056603773584906,
          0.9056603773584906,
          0.9056603773584906,
          0.9056603773584906,
          0.9056603773584906,
          0.9150943396226415,
          0.9245283018867925,
          0.9245283018867925,
          0.9339622641509434,
          0.9339622641509434,
          0.9339622641509434,
          0.9339622641509434,
          0.9433962264150944,
          0.9433962264150944,
          0.9433962264150944,
          0.9528301886792453,
          0.9528301886792453,
          0.9528301886792453,
          0.9528301886792453,
          0.9528301886792453,
          0.9528301886792453,
          0.9528301886792453,
          0.9528301886792453,
          0.9528301886792453,
          0.9528301886792453,
          0.9528301886792453,
          0.9528301886792453,
          0.9528301886792453,
          0.9528301886792453,
          0.9528301886792453,
          0.9528301886792453,
          0.9528301886792453,
          0.9528301886792453,
          0.9528301886792453,
          0.9528301886792453,
          0.9528301886792453,
          0.9528301886792453,
          0.9528301886792453,
          0.9528301886792453,
          0.9528301886792453,
          0.9528301886792453,
          0.9528301886792453,
          0.9528301886792453,
          0.9528301886792453,
          0.9528301886792453,
          0.9528301886792453,
          0.9622641509433962,
          0.9622641509433962,
          0.9622641509433962,
          0.9622641509433962,
          0.9622641509433962,
          0.9622641509433962,
          0.9622641509433962,
          0.9622641509433962,
          0.9622641509433962,
          0.9622641509433962,
          0.9622641509433962,
          0.9622641509433962,
          0.9622641509433962,
          0.9716981132075472,
          0.9716981132075472,
          0.9811320754716981,
          0.9811320754716981,
          0.9811320754716981,
          0.9811320754716981,
          0.9905660377358491,
          0.9905660377358491,
          0.9905660377358491,
          0.9905660377358491,
          0.9905660377358491,
          0.9905660377358491,
          0.9905660377358491,
          0.9905660377358491,
          0.9905660377358491,
          0.9905660377358491,
          0.9905660377358491,
          0.9905660377358491,
          0.9905660377358491,
          1
         ]
        }
       ],
       "layout": {
        "template": {
         "data": {
          "bar": [
           {
            "error_x": {
             "color": "#2a3f5f"
            },
            "error_y": {
             "color": "#2a3f5f"
            },
            "marker": {
             "line": {
              "color": "#E5ECF6",
              "width": 0.5
             },
             "pattern": {
              "fillmode": "overlay",
              "size": 10,
              "solidity": 0.2
             }
            },
            "type": "bar"
           }
          ],
          "barpolar": [
           {
            "marker": {
             "line": {
              "color": "#E5ECF6",
              "width": 0.5
             },
             "pattern": {
              "fillmode": "overlay",
              "size": 10,
              "solidity": 0.2
             }
            },
            "type": "barpolar"
           }
          ],
          "carpet": [
           {
            "aaxis": {
             "endlinecolor": "#2a3f5f",
             "gridcolor": "white",
             "linecolor": "white",
             "minorgridcolor": "white",
             "startlinecolor": "#2a3f5f"
            },
            "baxis": {
             "endlinecolor": "#2a3f5f",
             "gridcolor": "white",
             "linecolor": "white",
             "minorgridcolor": "white",
             "startlinecolor": "#2a3f5f"
            },
            "type": "carpet"
           }
          ],
          "choropleth": [
           {
            "colorbar": {
             "outlinewidth": 0,
             "ticks": ""
            },
            "type": "choropleth"
           }
          ],
          "contour": [
           {
            "colorbar": {
             "outlinewidth": 0,
             "ticks": ""
            },
            "colorscale": [
             [
              0,
              "#0d0887"
             ],
             [
              0.1111111111111111,
              "#46039f"
             ],
             [
              0.2222222222222222,
              "#7201a8"
             ],
             [
              0.3333333333333333,
              "#9c179e"
             ],
             [
              0.4444444444444444,
              "#bd3786"
             ],
             [
              0.5555555555555556,
              "#d8576b"
             ],
             [
              0.6666666666666666,
              "#ed7953"
             ],
             [
              0.7777777777777778,
              "#fb9f3a"
             ],
             [
              0.8888888888888888,
              "#fdca26"
             ],
             [
              1,
              "#f0f921"
             ]
            ],
            "type": "contour"
           }
          ],
          "contourcarpet": [
           {
            "colorbar": {
             "outlinewidth": 0,
             "ticks": ""
            },
            "type": "contourcarpet"
           }
          ],
          "heatmap": [
           {
            "colorbar": {
             "outlinewidth": 0,
             "ticks": ""
            },
            "colorscale": [
             [
              0,
              "#0d0887"
             ],
             [
              0.1111111111111111,
              "#46039f"
             ],
             [
              0.2222222222222222,
              "#7201a8"
             ],
             [
              0.3333333333333333,
              "#9c179e"
             ],
             [
              0.4444444444444444,
              "#bd3786"
             ],
             [
              0.5555555555555556,
              "#d8576b"
             ],
             [
              0.6666666666666666,
              "#ed7953"
             ],
             [
              0.7777777777777778,
              "#fb9f3a"
             ],
             [
              0.8888888888888888,
              "#fdca26"
             ],
             [
              1,
              "#f0f921"
             ]
            ],
            "type": "heatmap"
           }
          ],
          "heatmapgl": [
           {
            "colorbar": {
             "outlinewidth": 0,
             "ticks": ""
            },
            "colorscale": [
             [
              0,
              "#0d0887"
             ],
             [
              0.1111111111111111,
              "#46039f"
             ],
             [
              0.2222222222222222,
              "#7201a8"
             ],
             [
              0.3333333333333333,
              "#9c179e"
             ],
             [
              0.4444444444444444,
              "#bd3786"
             ],
             [
              0.5555555555555556,
              "#d8576b"
             ],
             [
              0.6666666666666666,
              "#ed7953"
             ],
             [
              0.7777777777777778,
              "#fb9f3a"
             ],
             [
              0.8888888888888888,
              "#fdca26"
             ],
             [
              1,
              "#f0f921"
             ]
            ],
            "type": "heatmapgl"
           }
          ],
          "histogram": [
           {
            "marker": {
             "pattern": {
              "fillmode": "overlay",
              "size": 10,
              "solidity": 0.2
             }
            },
            "type": "histogram"
           }
          ],
          "histogram2d": [
           {
            "colorbar": {
             "outlinewidth": 0,
             "ticks": ""
            },
            "colorscale": [
             [
              0,
              "#0d0887"
             ],
             [
              0.1111111111111111,
              "#46039f"
             ],
             [
              0.2222222222222222,
              "#7201a8"
             ],
             [
              0.3333333333333333,
              "#9c179e"
             ],
             [
              0.4444444444444444,
              "#bd3786"
             ],
             [
              0.5555555555555556,
              "#d8576b"
             ],
             [
              0.6666666666666666,
              "#ed7953"
             ],
             [
              0.7777777777777778,
              "#fb9f3a"
             ],
             [
              0.8888888888888888,
              "#fdca26"
             ],
             [
              1,
              "#f0f921"
             ]
            ],
            "type": "histogram2d"
           }
          ],
          "histogram2dcontour": [
           {
            "colorbar": {
             "outlinewidth": 0,
             "ticks": ""
            },
            "colorscale": [
             [
              0,
              "#0d0887"
             ],
             [
              0.1111111111111111,
              "#46039f"
             ],
             [
              0.2222222222222222,
              "#7201a8"
             ],
             [
              0.3333333333333333,
              "#9c179e"
             ],
             [
              0.4444444444444444,
              "#bd3786"
             ],
             [
              0.5555555555555556,
              "#d8576b"
             ],
             [
              0.6666666666666666,
              "#ed7953"
             ],
             [
              0.7777777777777778,
              "#fb9f3a"
             ],
             [
              0.8888888888888888,
              "#fdca26"
             ],
             [
              1,
              "#f0f921"
             ]
            ],
            "type": "histogram2dcontour"
           }
          ],
          "mesh3d": [
           {
            "colorbar": {
             "outlinewidth": 0,
             "ticks": ""
            },
            "type": "mesh3d"
           }
          ],
          "parcoords": [
           {
            "line": {
             "colorbar": {
              "outlinewidth": 0,
              "ticks": ""
             }
            },
            "type": "parcoords"
           }
          ],
          "pie": [
           {
            "automargin": true,
            "type": "pie"
           }
          ],
          "scatter": [
           {
            "fillpattern": {
             "fillmode": "overlay",
             "size": 10,
             "solidity": 0.2
            },
            "type": "scatter"
           }
          ],
          "scatter3d": [
           {
            "line": {
             "colorbar": {
              "outlinewidth": 0,
              "ticks": ""
             }
            },
            "marker": {
             "colorbar": {
              "outlinewidth": 0,
              "ticks": ""
             }
            },
            "type": "scatter3d"
           }
          ],
          "scattercarpet": [
           {
            "marker": {
             "colorbar": {
              "outlinewidth": 0,
              "ticks": ""
             }
            },
            "type": "scattercarpet"
           }
          ],
          "scattergeo": [
           {
            "marker": {
             "colorbar": {
              "outlinewidth": 0,
              "ticks": ""
             }
            },
            "type": "scattergeo"
           }
          ],
          "scattergl": [
           {
            "marker": {
             "colorbar": {
              "outlinewidth": 0,
              "ticks": ""
             }
            },
            "type": "scattergl"
           }
          ],
          "scattermapbox": [
           {
            "marker": {
             "colorbar": {
              "outlinewidth": 0,
              "ticks": ""
             }
            },
            "type": "scattermapbox"
           }
          ],
          "scatterpolar": [
           {
            "marker": {
             "colorbar": {
              "outlinewidth": 0,
              "ticks": ""
             }
            },
            "type": "scatterpolar"
           }
          ],
          "scatterpolargl": [
           {
            "marker": {
             "colorbar": {
              "outlinewidth": 0,
              "ticks": ""
             }
            },
            "type": "scatterpolargl"
           }
          ],
          "scatterternary": [
           {
            "marker": {
             "colorbar": {
              "outlinewidth": 0,
              "ticks": ""
             }
            },
            "type": "scatterternary"
           }
          ],
          "surface": [
           {
            "colorbar": {
             "outlinewidth": 0,
             "ticks": ""
            },
            "colorscale": [
             [
              0,
              "#0d0887"
             ],
             [
              0.1111111111111111,
              "#46039f"
             ],
             [
              0.2222222222222222,
              "#7201a8"
             ],
             [
              0.3333333333333333,
              "#9c179e"
             ],
             [
              0.4444444444444444,
              "#bd3786"
             ],
             [
              0.5555555555555556,
              "#d8576b"
             ],
             [
              0.6666666666666666,
              "#ed7953"
             ],
             [
              0.7777777777777778,
              "#fb9f3a"
             ],
             [
              0.8888888888888888,
              "#fdca26"
             ],
             [
              1,
              "#f0f921"
             ]
            ],
            "type": "surface"
           }
          ],
          "table": [
           {
            "cells": {
             "fill": {
              "color": "#EBF0F8"
             },
             "line": {
              "color": "white"
             }
            },
            "header": {
             "fill": {
              "color": "#C8D4E3"
             },
             "line": {
              "color": "white"
             }
            },
            "type": "table"
           }
          ]
         },
         "layout": {
          "annotationdefaults": {
           "arrowcolor": "#2a3f5f",
           "arrowhead": 0,
           "arrowwidth": 1
          },
          "autotypenumbers": "strict",
          "coloraxis": {
           "colorbar": {
            "outlinewidth": 0,
            "ticks": ""
           }
          },
          "colorscale": {
           "diverging": [
            [
             0,
             "#8e0152"
            ],
            [
             0.1,
             "#c51b7d"
            ],
            [
             0.2,
             "#de77ae"
            ],
            [
             0.3,
             "#f1b6da"
            ],
            [
             0.4,
             "#fde0ef"
            ],
            [
             0.5,
             "#f7f7f7"
            ],
            [
             0.6,
             "#e6f5d0"
            ],
            [
             0.7,
             "#b8e186"
            ],
            [
             0.8,
             "#7fbc41"
            ],
            [
             0.9,
             "#4d9221"
            ],
            [
             1,
             "#276419"
            ]
           ],
           "sequential": [
            [
             0,
             "#0d0887"
            ],
            [
             0.1111111111111111,
             "#46039f"
            ],
            [
             0.2222222222222222,
             "#7201a8"
            ],
            [
             0.3333333333333333,
             "#9c179e"
            ],
            [
             0.4444444444444444,
             "#bd3786"
            ],
            [
             0.5555555555555556,
             "#d8576b"
            ],
            [
             0.6666666666666666,
             "#ed7953"
            ],
            [
             0.7777777777777778,
             "#fb9f3a"
            ],
            [
             0.8888888888888888,
             "#fdca26"
            ],
            [
             1,
             "#f0f921"
            ]
           ],
           "sequentialminus": [
            [
             0,
             "#0d0887"
            ],
            [
             0.1111111111111111,
             "#46039f"
            ],
            [
             0.2222222222222222,
             "#7201a8"
            ],
            [
             0.3333333333333333,
             "#9c179e"
            ],
            [
             0.4444444444444444,
             "#bd3786"
            ],
            [
             0.5555555555555556,
             "#d8576b"
            ],
            [
             0.6666666666666666,
             "#ed7953"
            ],
            [
             0.7777777777777778,
             "#fb9f3a"
            ],
            [
             0.8888888888888888,
             "#fdca26"
            ],
            [
             1,
             "#f0f921"
            ]
           ]
          },
          "colorway": [
           "#636efa",
           "#EF553B",
           "#00cc96",
           "#ab63fa",
           "#FFA15A",
           "#19d3f3",
           "#FF6692",
           "#B6E880",
           "#FF97FF",
           "#FECB52"
          ],
          "font": {
           "color": "#2a3f5f"
          },
          "geo": {
           "bgcolor": "white",
           "lakecolor": "white",
           "landcolor": "#E5ECF6",
           "showlakes": true,
           "showland": true,
           "subunitcolor": "white"
          },
          "hoverlabel": {
           "align": "left"
          },
          "hovermode": "closest",
          "mapbox": {
           "style": "light"
          },
          "paper_bgcolor": "white",
          "plot_bgcolor": "#E5ECF6",
          "polar": {
           "angularaxis": {
            "gridcolor": "white",
            "linecolor": "white",
            "ticks": ""
           },
           "bgcolor": "#E5ECF6",
           "radialaxis": {
            "gridcolor": "white",
            "linecolor": "white",
            "ticks": ""
           }
          },
          "scene": {
           "xaxis": {
            "backgroundcolor": "#E5ECF6",
            "gridcolor": "white",
            "gridwidth": 2,
            "linecolor": "white",
            "showbackground": true,
            "ticks": "",
            "zerolinecolor": "white"
           },
           "yaxis": {
            "backgroundcolor": "#E5ECF6",
            "gridcolor": "white",
            "gridwidth": 2,
            "linecolor": "white",
            "showbackground": true,
            "ticks": "",
            "zerolinecolor": "white"
           },
           "zaxis": {
            "backgroundcolor": "#E5ECF6",
            "gridcolor": "white",
            "gridwidth": 2,
            "linecolor": "white",
            "showbackground": true,
            "ticks": "",
            "zerolinecolor": "white"
           }
          },
          "shapedefaults": {
           "line": {
            "color": "#2a3f5f"
           }
          },
          "ternary": {
           "aaxis": {
            "gridcolor": "white",
            "linecolor": "white",
            "ticks": ""
           },
           "baxis": {
            "gridcolor": "white",
            "linecolor": "white",
            "ticks": ""
           },
           "bgcolor": "#E5ECF6",
           "caxis": {
            "gridcolor": "white",
            "linecolor": "white",
            "ticks": ""
           }
          },
          "title": {
           "x": 0.05
          },
          "xaxis": {
           "automargin": true,
           "gridcolor": "white",
           "linecolor": "white",
           "ticks": "",
           "title": {
            "standoff": 15
           },
           "zerolinecolor": "white",
           "zerolinewidth": 2
          },
          "yaxis": {
           "automargin": true,
           "gridcolor": "white",
           "linecolor": "white",
           "ticks": "",
           "title": {
            "standoff": 15
           },
           "zerolinecolor": "white",
           "zerolinewidth": 2
          }
         }
        },
        "title": {
         "text": "Empirical Distribution Function Plot"
        },
        "xaxis": {
         "title": {
          "text": "Objective Value"
         }
        },
        "yaxis": {
         "range": [
          0,
          1
         ],
         "title": {
          "text": "Cumulative Probability"
         }
        }
       }
      },
      "text/html": [
       "<div>                            <div id=\"9d0e657e-6153-42b1-bbf1-989fdf0fa4dc\" class=\"plotly-graph-div\" style=\"height:525px; width:100%;\"></div>            <script type=\"text/javascript\">                require([\"plotly\"], function(Plotly) {                    window.PLOTLYENV=window.PLOTLYENV || {};                                    if (document.getElementById(\"9d0e657e-6153-42b1-bbf1-989fdf0fa4dc\")) {                    Plotly.newPlot(                        \"9d0e657e-6153-42b1-bbf1-989fdf0fa4dc\",                        [{\"mode\":\"lines\",\"name\":\"optuna\",\"x\":[0.12331002950668335,0.1284534970317224,0.13359696455676145,0.1387404320818005,0.14388389960683956,0.14902736713187864,0.1541708346569177,0.15931430218195675,0.1644577697069958,0.16960123723203485,0.1747447047570739,0.17988817228211296,0.18503163980715204,0.19017510733219106,0.19531857485723014,0.2004620423822692,0.20560550990730825,0.2107489774323473,0.21589244495738635,0.22103591248242543,0.22617938000746446,0.23132284753250354,0.2364663150575426,0.24160978258258164,0.2467532501076207,0.25189671763265975,0.2570401851576988,0.26218365268273786,0.26732712020777694,0.27247058773281596,0.27761405525785504,0.2827575227828941,0.28790099030793315,0.29304445783297217,0.29818792535801125,0.30333139288305033,0.30847486040808936,0.31361832793312844,0.3187617954581675,0.32390526298320654,0.32904873050824557,0.33419219803328465,0.33933566555832373,0.34447913308336275,0.34962260060840183,0.3547660681334409,0.35990953565847994,0.36505300318351896,0.37019647070855805,0.3753399382335971,0.38048340575863615,0.38562687328367523,0.39077034080871426,0.39591380833375334,0.40105727585879236,0.40620074338383144,0.4113442109088705,0.41648767843390955,0.4216311459589486,0.42677461348398765,0.43191808100902673,0.43706154853406576,0.44220501605910484,0.44734848358414386,0.45249195110918294,0.457635418634222,0.46277888615926105,0.46792235368430013,0.47306582120933915,0.47820928873437824,0.48335275625941726,0.48849622378445634,0.49363969130949537,0.49878315883453445,0.5039266263595735,0.5090700938846126,0.5142135614096517,0.5193570289346907,0.5245004964597297,0.5296439639847688,0.5347874315098078,0.5399308990348469,0.545074366559886,0.5502178340849251,0.5553613016099641,0.5605047691350031,0.5656482366600422,0.5707917041850812,0.5759351717101203,0.5810786392351593,0.5862221067601985,0.5913655742852375,0.5965090418102765,0.6016525093353156,0.6067959768603546,0.6119394443853936,0.6170829119104327,0.6222263794354719,0.6273698469605109,0.6325133144855499],\"y\":[0.009433962264150943,0.7169811320754716,0.7924528301886793,0.8584905660377359,0.8679245283018868,0.8773584905660378,0.8773584905660378,0.8773584905660378,0.8962264150943396,0.8962264150943396,0.8962264150943396,0.8962264150943396,0.8962264150943396,0.8962264150943396,0.8962264150943396,0.8962264150943396,0.9056603773584906,0.9056603773584906,0.9056603773584906,0.9056603773584906,0.9056603773584906,0.9056603773584906,0.9056603773584906,0.9056603773584906,0.9056603773584906,0.9056603773584906,0.9150943396226415,0.9245283018867925,0.9245283018867925,0.9339622641509434,0.9339622641509434,0.9339622641509434,0.9339622641509434,0.9433962264150944,0.9433962264150944,0.9433962264150944,0.9528301886792453,0.9528301886792453,0.9528301886792453,0.9528301886792453,0.9528301886792453,0.9528301886792453,0.9528301886792453,0.9528301886792453,0.9528301886792453,0.9528301886792453,0.9528301886792453,0.9528301886792453,0.9528301886792453,0.9528301886792453,0.9528301886792453,0.9528301886792453,0.9528301886792453,0.9528301886792453,0.9528301886792453,0.9528301886792453,0.9528301886792453,0.9528301886792453,0.9528301886792453,0.9528301886792453,0.9528301886792453,0.9528301886792453,0.9528301886792453,0.9528301886792453,0.9528301886792453,0.9528301886792453,0.9528301886792453,0.9622641509433962,0.9622641509433962,0.9622641509433962,0.9622641509433962,0.9622641509433962,0.9622641509433962,0.9622641509433962,0.9622641509433962,0.9622641509433962,0.9622641509433962,0.9622641509433962,0.9622641509433962,0.9622641509433962,0.9716981132075472,0.9716981132075472,0.9811320754716981,0.9811320754716981,0.9811320754716981,0.9811320754716981,0.9905660377358491,0.9905660377358491,0.9905660377358491,0.9905660377358491,0.9905660377358491,0.9905660377358491,0.9905660377358491,0.9905660377358491,0.9905660377358491,0.9905660377358491,0.9905660377358491,0.9905660377358491,0.9905660377358491,1.0],\"type\":\"scatter\"}],                        {\"title\":{\"text\":\"Empirical Distribution Function Plot\"},\"xaxis\":{\"title\":{\"text\":\"Objective Value\"}},\"yaxis\":{\"title\":{\"text\":\"Cumulative Probability\"},\"range\":[0,1]},\"template\":{\"data\":{\"histogram2dcontour\":[{\"type\":\"histogram2dcontour\",\"colorbar\":{\"outlinewidth\":0,\"ticks\":\"\"},\"colorscale\":[[0.0,\"#0d0887\"],[0.1111111111111111,\"#46039f\"],[0.2222222222222222,\"#7201a8\"],[0.3333333333333333,\"#9c179e\"],[0.4444444444444444,\"#bd3786\"],[0.5555555555555556,\"#d8576b\"],[0.6666666666666666,\"#ed7953\"],[0.7777777777777778,\"#fb9f3a\"],[0.8888888888888888,\"#fdca26\"],[1.0,\"#f0f921\"]]}],\"choropleth\":[{\"type\":\"choropleth\",\"colorbar\":{\"outlinewidth\":0,\"ticks\":\"\"}}],\"histogram2d\":[{\"type\":\"histogram2d\",\"colorbar\":{\"outlinewidth\":0,\"ticks\":\"\"},\"colorscale\":[[0.0,\"#0d0887\"],[0.1111111111111111,\"#46039f\"],[0.2222222222222222,\"#7201a8\"],[0.3333333333333333,\"#9c179e\"],[0.4444444444444444,\"#bd3786\"],[0.5555555555555556,\"#d8576b\"],[0.6666666666666666,\"#ed7953\"],[0.7777777777777778,\"#fb9f3a\"],[0.8888888888888888,\"#fdca26\"],[1.0,\"#f0f921\"]]}],\"heatmap\":[{\"type\":\"heatmap\",\"colorbar\":{\"outlinewidth\":0,\"ticks\":\"\"},\"colorscale\":[[0.0,\"#0d0887\"],[0.1111111111111111,\"#46039f\"],[0.2222222222222222,\"#7201a8\"],[0.3333333333333333,\"#9c179e\"],[0.4444444444444444,\"#bd3786\"],[0.5555555555555556,\"#d8576b\"],[0.6666666666666666,\"#ed7953\"],[0.7777777777777778,\"#fb9f3a\"],[0.8888888888888888,\"#fdca26\"],[1.0,\"#f0f921\"]]}],\"heatmapgl\":[{\"type\":\"heatmapgl\",\"colorbar\":{\"outlinewidth\":0,\"ticks\":\"\"},\"colorscale\":[[0.0,\"#0d0887\"],[0.1111111111111111,\"#46039f\"],[0.2222222222222222,\"#7201a8\"],[0.3333333333333333,\"#9c179e\"],[0.4444444444444444,\"#bd3786\"],[0.5555555555555556,\"#d8576b\"],[0.6666666666666666,\"#ed7953\"],[0.7777777777777778,\"#fb9f3a\"],[0.8888888888888888,\"#fdca26\"],[1.0,\"#f0f921\"]]}],\"contourcarpet\":[{\"type\":\"contourcarpet\",\"colorbar\":{\"outlinewidth\":0,\"ticks\":\"\"}}],\"contour\":[{\"type\":\"contour\",\"colorbar\":{\"outlinewidth\":0,\"ticks\":\"\"},\"colorscale\":[[0.0,\"#0d0887\"],[0.1111111111111111,\"#46039f\"],[0.2222222222222222,\"#7201a8\"],[0.3333333333333333,\"#9c179e\"],[0.4444444444444444,\"#bd3786\"],[0.5555555555555556,\"#d8576b\"],[0.6666666666666666,\"#ed7953\"],[0.7777777777777778,\"#fb9f3a\"],[0.8888888888888888,\"#fdca26\"],[1.0,\"#f0f921\"]]}],\"surface\":[{\"type\":\"surface\",\"colorbar\":{\"outlinewidth\":0,\"ticks\":\"\"},\"colorscale\":[[0.0,\"#0d0887\"],[0.1111111111111111,\"#46039f\"],[0.2222222222222222,\"#7201a8\"],[0.3333333333333333,\"#9c179e\"],[0.4444444444444444,\"#bd3786\"],[0.5555555555555556,\"#d8576b\"],[0.6666666666666666,\"#ed7953\"],[0.7777777777777778,\"#fb9f3a\"],[0.8888888888888888,\"#fdca26\"],[1.0,\"#f0f921\"]]}],\"mesh3d\":[{\"type\":\"mesh3d\",\"colorbar\":{\"outlinewidth\":0,\"ticks\":\"\"}}],\"scatter\":[{\"fillpattern\":{\"fillmode\":\"overlay\",\"size\":10,\"solidity\":0.2},\"type\":\"scatter\"}],\"parcoords\":[{\"type\":\"parcoords\",\"line\":{\"colorbar\":{\"outlinewidth\":0,\"ticks\":\"\"}}}],\"scatterpolargl\":[{\"type\":\"scatterpolargl\",\"marker\":{\"colorbar\":{\"outlinewidth\":0,\"ticks\":\"\"}}}],\"bar\":[{\"error_x\":{\"color\":\"#2a3f5f\"},\"error_y\":{\"color\":\"#2a3f5f\"},\"marker\":{\"line\":{\"color\":\"#E5ECF6\",\"width\":0.5},\"pattern\":{\"fillmode\":\"overlay\",\"size\":10,\"solidity\":0.2}},\"type\":\"bar\"}],\"scattergeo\":[{\"type\":\"scattergeo\",\"marker\":{\"colorbar\":{\"outlinewidth\":0,\"ticks\":\"\"}}}],\"scatterpolar\":[{\"type\":\"scatterpolar\",\"marker\":{\"colorbar\":{\"outlinewidth\":0,\"ticks\":\"\"}}}],\"histogram\":[{\"marker\":{\"pattern\":{\"fillmode\":\"overlay\",\"size\":10,\"solidity\":0.2}},\"type\":\"histogram\"}],\"scattergl\":[{\"type\":\"scattergl\",\"marker\":{\"colorbar\":{\"outlinewidth\":0,\"ticks\":\"\"}}}],\"scatter3d\":[{\"type\":\"scatter3d\",\"line\":{\"colorbar\":{\"outlinewidth\":0,\"ticks\":\"\"}},\"marker\":{\"colorbar\":{\"outlinewidth\":0,\"ticks\":\"\"}}}],\"scattermapbox\":[{\"type\":\"scattermapbox\",\"marker\":{\"colorbar\":{\"outlinewidth\":0,\"ticks\":\"\"}}}],\"scatterternary\":[{\"type\":\"scatterternary\",\"marker\":{\"colorbar\":{\"outlinewidth\":0,\"ticks\":\"\"}}}],\"scattercarpet\":[{\"type\":\"scattercarpet\",\"marker\":{\"colorbar\":{\"outlinewidth\":0,\"ticks\":\"\"}}}],\"carpet\":[{\"aaxis\":{\"endlinecolor\":\"#2a3f5f\",\"gridcolor\":\"white\",\"linecolor\":\"white\",\"minorgridcolor\":\"white\",\"startlinecolor\":\"#2a3f5f\"},\"baxis\":{\"endlinecolor\":\"#2a3f5f\",\"gridcolor\":\"white\",\"linecolor\":\"white\",\"minorgridcolor\":\"white\",\"startlinecolor\":\"#2a3f5f\"},\"type\":\"carpet\"}],\"table\":[{\"cells\":{\"fill\":{\"color\":\"#EBF0F8\"},\"line\":{\"color\":\"white\"}},\"header\":{\"fill\":{\"color\":\"#C8D4E3\"},\"line\":{\"color\":\"white\"}},\"type\":\"table\"}],\"barpolar\":[{\"marker\":{\"line\":{\"color\":\"#E5ECF6\",\"width\":0.5},\"pattern\":{\"fillmode\":\"overlay\",\"size\":10,\"solidity\":0.2}},\"type\":\"barpolar\"}],\"pie\":[{\"automargin\":true,\"type\":\"pie\"}]},\"layout\":{\"autotypenumbers\":\"strict\",\"colorway\":[\"#636efa\",\"#EF553B\",\"#00cc96\",\"#ab63fa\",\"#FFA15A\",\"#19d3f3\",\"#FF6692\",\"#B6E880\",\"#FF97FF\",\"#FECB52\"],\"font\":{\"color\":\"#2a3f5f\"},\"hovermode\":\"closest\",\"hoverlabel\":{\"align\":\"left\"},\"paper_bgcolor\":\"white\",\"plot_bgcolor\":\"#E5ECF6\",\"polar\":{\"bgcolor\":\"#E5ECF6\",\"angularaxis\":{\"gridcolor\":\"white\",\"linecolor\":\"white\",\"ticks\":\"\"},\"radialaxis\":{\"gridcolor\":\"white\",\"linecolor\":\"white\",\"ticks\":\"\"}},\"ternary\":{\"bgcolor\":\"#E5ECF6\",\"aaxis\":{\"gridcolor\":\"white\",\"linecolor\":\"white\",\"ticks\":\"\"},\"baxis\":{\"gridcolor\":\"white\",\"linecolor\":\"white\",\"ticks\":\"\"},\"caxis\":{\"gridcolor\":\"white\",\"linecolor\":\"white\",\"ticks\":\"\"}},\"coloraxis\":{\"colorbar\":{\"outlinewidth\":0,\"ticks\":\"\"}},\"colorscale\":{\"sequential\":[[0.0,\"#0d0887\"],[0.1111111111111111,\"#46039f\"],[0.2222222222222222,\"#7201a8\"],[0.3333333333333333,\"#9c179e\"],[0.4444444444444444,\"#bd3786\"],[0.5555555555555556,\"#d8576b\"],[0.6666666666666666,\"#ed7953\"],[0.7777777777777778,\"#fb9f3a\"],[0.8888888888888888,\"#fdca26\"],[1.0,\"#f0f921\"]],\"sequentialminus\":[[0.0,\"#0d0887\"],[0.1111111111111111,\"#46039f\"],[0.2222222222222222,\"#7201a8\"],[0.3333333333333333,\"#9c179e\"],[0.4444444444444444,\"#bd3786\"],[0.5555555555555556,\"#d8576b\"],[0.6666666666666666,\"#ed7953\"],[0.7777777777777778,\"#fb9f3a\"],[0.8888888888888888,\"#fdca26\"],[1.0,\"#f0f921\"]],\"diverging\":[[0,\"#8e0152\"],[0.1,\"#c51b7d\"],[0.2,\"#de77ae\"],[0.3,\"#f1b6da\"],[0.4,\"#fde0ef\"],[0.5,\"#f7f7f7\"],[0.6,\"#e6f5d0\"],[0.7,\"#b8e186\"],[0.8,\"#7fbc41\"],[0.9,\"#4d9221\"],[1,\"#276419\"]]},\"xaxis\":{\"gridcolor\":\"white\",\"linecolor\":\"white\",\"ticks\":\"\",\"title\":{\"standoff\":15},\"zerolinecolor\":\"white\",\"automargin\":true,\"zerolinewidth\":2},\"yaxis\":{\"gridcolor\":\"white\",\"linecolor\":\"white\",\"ticks\":\"\",\"title\":{\"standoff\":15},\"zerolinecolor\":\"white\",\"automargin\":true,\"zerolinewidth\":2},\"scene\":{\"xaxis\":{\"backgroundcolor\":\"#E5ECF6\",\"gridcolor\":\"white\",\"linecolor\":\"white\",\"showbackground\":true,\"ticks\":\"\",\"zerolinecolor\":\"white\",\"gridwidth\":2},\"yaxis\":{\"backgroundcolor\":\"#E5ECF6\",\"gridcolor\":\"white\",\"linecolor\":\"white\",\"showbackground\":true,\"ticks\":\"\",\"zerolinecolor\":\"white\",\"gridwidth\":2},\"zaxis\":{\"backgroundcolor\":\"#E5ECF6\",\"gridcolor\":\"white\",\"linecolor\":\"white\",\"showbackground\":true,\"ticks\":\"\",\"zerolinecolor\":\"white\",\"gridwidth\":2}},\"shapedefaults\":{\"line\":{\"color\":\"#2a3f5f\"}},\"annotationdefaults\":{\"arrowcolor\":\"#2a3f5f\",\"arrowhead\":0,\"arrowwidth\":1},\"geo\":{\"bgcolor\":\"white\",\"landcolor\":\"#E5ECF6\",\"subunitcolor\":\"white\",\"showland\":true,\"showlakes\":true,\"lakecolor\":\"white\"},\"title\":{\"x\":0.05},\"mapbox\":{\"style\":\"light\"}}}},                        {\"responsive\": true}                    ).then(function(){\n",
       "                            \n",
       "var gd = document.getElementById('9d0e657e-6153-42b1-bbf1-989fdf0fa4dc');\n",
       "var x = new MutationObserver(function (mutations, observer) {{\n",
       "        var display = window.getComputedStyle(gd).display;\n",
       "        if (!display || display === 'none') {{\n",
       "            console.log([gd, 'removed!']);\n",
       "            Plotly.purge(gd);\n",
       "            observer.disconnect();\n",
       "        }}\n",
       "}});\n",
       "\n",
       "// Listen for the removal of the full notebook cells\n",
       "var notebookContainer = gd.closest('#notebook-container');\n",
       "if (notebookContainer) {{\n",
       "    x.observe(notebookContainer, {childList: true});\n",
       "}}\n",
       "\n",
       "// Listen for the clearing of the current output cell\n",
       "var outputEl = gd.closest('.output');\n",
       "if (outputEl) {{\n",
       "    x.observe(outputEl, {childList: true});\n",
       "}}\n",
       "\n",
       "                        })                };                });            </script>        </div>"
      ]
     },
     "metadata": {},
     "output_type": "display_data"
    }
   ],
   "source": [
    "optuna.visualization.plot_edf(study)"
   ]
  },
  {
   "attachments": {},
   "cell_type": "markdown",
   "metadata": {},
   "source": [
    "# For multi-objective optimization: Pareto-front plot"
   ]
  },
  {
   "cell_type": "code",
   "execution_count": 19,
   "metadata": {},
   "outputs": [
    {
     "ename": "ValueError",
     "evalue": "`plot_pareto_front` function only supports 2 or 3 objective studies when using `targets` is `None`. Please use `targets` if your objective studies have more than 3 objectives.",
     "output_type": "error",
     "traceback": [
      "\u001b[0;31m---------------------------------------------------------------------------\u001b[0m",
      "\u001b[0;31mValueError\u001b[0m                                Traceback (most recent call last)",
      "\u001b[0;32m/tmp/ipykernel_647095/863344603.py\u001b[0m in \u001b[0;36m<module>\u001b[0;34m\u001b[0m\n\u001b[0;32m----> 1\u001b[0;31m \u001b[0moptuna\u001b[0m\u001b[0;34m.\u001b[0m\u001b[0mvisualization\u001b[0m\u001b[0;34m.\u001b[0m\u001b[0mplot_pareto_front\u001b[0m\u001b[0;34m(\u001b[0m\u001b[0mstudy\u001b[0m\u001b[0;34m)\u001b[0m\u001b[0;34m\u001b[0m\u001b[0;34m\u001b[0m\u001b[0m\n\u001b[0m",
      "\u001b[0;32m/usr/local/lib/python3.10/dist-packages/optuna/visualization/_pareto_front.py\u001b[0m in \u001b[0;36mplot_pareto_front\u001b[0;34m(study, target_names, include_dominated_trials, axis_order, constraints_func, targets)\u001b[0m\n\u001b[1;32m    128\u001b[0m     \u001b[0m_imports\u001b[0m\u001b[0;34m.\u001b[0m\u001b[0mcheck\u001b[0m\u001b[0;34m(\u001b[0m\u001b[0;34m)\u001b[0m\u001b[0;34m\u001b[0m\u001b[0;34m\u001b[0m\u001b[0m\n\u001b[1;32m    129\u001b[0m \u001b[0;34m\u001b[0m\u001b[0m\n\u001b[0;32m--> 130\u001b[0;31m     info = _get_pareto_front_info(\n\u001b[0m\u001b[1;32m    131\u001b[0m         \u001b[0mstudy\u001b[0m\u001b[0;34m,\u001b[0m \u001b[0mtarget_names\u001b[0m\u001b[0;34m,\u001b[0m \u001b[0minclude_dominated_trials\u001b[0m\u001b[0;34m,\u001b[0m \u001b[0maxis_order\u001b[0m\u001b[0;34m,\u001b[0m \u001b[0mconstraints_func\u001b[0m\u001b[0;34m,\u001b[0m \u001b[0mtargets\u001b[0m\u001b[0;34m\u001b[0m\u001b[0;34m\u001b[0m\u001b[0m\n\u001b[1;32m    132\u001b[0m     )\n",
      "\u001b[0;32m/usr/local/lib/python3.10/dist-packages/optuna/visualization/_pareto_front.py\u001b[0m in \u001b[0;36m_get_pareto_front_info\u001b[0;34m(study, target_names, include_dominated_trials, axis_order, constraints_func, targets)\u001b[0m\n\u001b[1;32m    263\u001b[0m             \u001b[0m_targets\u001b[0m \u001b[0;34m=\u001b[0m \u001b[0m_targets_default\u001b[0m\u001b[0;34m\u001b[0m\u001b[0;34m\u001b[0m\u001b[0m\n\u001b[1;32m    264\u001b[0m         \u001b[0;32melse\u001b[0m\u001b[0;34m:\u001b[0m\u001b[0;34m\u001b[0m\u001b[0;34m\u001b[0m\u001b[0m\n\u001b[0;32m--> 265\u001b[0;31m             raise ValueError(\n\u001b[0m\u001b[1;32m    266\u001b[0m                 \u001b[0;34m\"`plot_pareto_front` function only supports 2 or 3 objective\"\u001b[0m\u001b[0;34m\u001b[0m\u001b[0;34m\u001b[0m\u001b[0m\n\u001b[1;32m    267\u001b[0m                 \u001b[0;34m\" studies when using `targets` is `None`. Please use `targets`\"\u001b[0m\u001b[0;34m\u001b[0m\u001b[0;34m\u001b[0m\u001b[0m\n",
      "\u001b[0;31mValueError\u001b[0m: `plot_pareto_front` function only supports 2 or 3 objective studies when using `targets` is `None`. Please use `targets` if your objective studies have more than 3 objectives."
     ]
    }
   ],
   "source": [
    "optuna.visualization.plot_pareto_front(study)"
   ]
  },
  {
   "cell_type": "code",
   "execution_count": null,
   "metadata": {},
   "outputs": [],
   "source": []
  }
 ],
 "metadata": {
  "kernelspec": {
   "display_name": "Python 3 (ipykernel)",
   "language": "python",
   "name": "python3"
  },
  "language_info": {
   "codemirror_mode": {
    "name": "ipython",
    "version": 3
   },
   "file_extension": ".py",
   "mimetype": "text/x-python",
   "name": "python",
   "nbconvert_exporter": "python",
   "pygments_lexer": "ipython3",
   "version": "3.10.6"
  }
 },
 "nbformat": 4,
 "nbformat_minor": 2
}
