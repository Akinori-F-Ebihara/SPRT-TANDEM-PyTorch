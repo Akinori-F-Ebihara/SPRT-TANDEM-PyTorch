{
 "cells": [
  {
   "cell_type": "code",
   "execution_count": 18,
   "metadata": {},
   "outputs": [],
   "source": [
    "import optuna\n",
    "import numpy as np\n",
    "import os, pdb\n",
    "\n",
    "LOG_DIR = '/raid6/ebihara/tensorflow/logs/TANDEMAUS/dblogs/'\n",
    "\n",
    "study_name = 'offset2.0_AUC_optimMacRec_tuning'\n",
    "study_name = 'offset2.0_AUC_optimMABS_tuning'\n",
    "study_name = 'offset2.0_AUC_optimAUSAT_tuning'\n",
    "study_name = 'offset1.0_AUC_optimMacRec_tuning'\n",
    "study_name = 'offset1.0_AUC_optimMABS_tuning'\n",
    "study_name = 'offset1.0_AUC_optimAUSAT_tuning'\n",
    "study_name = 'offset2.0_TANDEMAUS_optMacRec_tuning'\n",
    "# study_name = 'offset2.0_TANDEMAUS_optMABS_tuning'\n",
    "\n",
    "# study_name = 'tmpTANDEMAUS_tuning'\n",
    "# study_name = 'tmpDREAUC_tuning'\n",
    "\n",
    "storage_name = 'sqlite:///{}.db'.format(study_name)\n",
    "\n",
    "\n"
   ]
  },
  {
   "cell_type": "code",
   "execution_count": 19,
   "metadata": {},
   "outputs": [],
   "source": [
    "# for upgrading .db file\n",
    "# error: RuntimeError: The runtime optuna version 3.0.0 is no longer compatible with the table schema (set up by optuna 2.10.1). Please execute `$ optuna storage upgrade --storage $STORAGE_URL` for upgrading the storage.\n",
    "\n",
    "#  !cp /raid6/ebihara/tensorflow/logs/UCF2class/dblogs/Tfmr_UCF2class_tuning.db /raid6/ebihara/tensorflow/logs/UCF2class/dblogs/Tfmr_UCF2class_tuning_orig.db\n",
    "# !optuna storage upgrade --storage /raid6/ebihara/tensorflow/logs/UCF2class/dblogs/Tfmr_UCF2class_tuning.db\n",
    "# !pip install optuna==2.10.1"
   ]
  },
  {
   "cell_type": "code",
   "execution_count": 20,
   "metadata": {},
   "outputs": [],
   "source": [
    "if not os.path.exists(LOG_DIR + study_name + '.db'):\n",
    "    raise ValueError('No .db file exists...double check yr paths!')"
   ]
  },
  {
   "cell_type": "code",
   "execution_count": 21,
   "metadata": {
    "scrolled": false
   },
   "outputs": [
    {
     "name": "stderr",
     "output_type": "stream",
     "text": [
      "\u001b[32m[I 2023-01-03 02:06:35,020]\u001b[0m Using an existing study with name 'offset2.0_TANDEMAUS_optMacRec_tuning' instead of creating a new one.\u001b[0m\n"
     ]
    },
    {
     "name": "stdout",
     "output_type": "stream",
     "text": [
      "df    number     value             datetime_start          datetime_complete  \\\n",
      "0       0  0.496124 2023-01-03 00:39:26.358248 2023-01-03 01:01:13.286816   \n",
      "1       1  0.499962 2023-01-03 01:01:13.360978 2023-01-03 01:20:23.022069   \n",
      "2       2       NaN 2023-01-03 01:20:23.094306 2023-01-03 01:38:52.621888   \n",
      "\n",
      "                duration params_AUCloss_version params_activation  \\\n",
      "0 0 days 00:21:46.928568                      D           B2Bsqrt   \n",
      "1 0 days 00:19:09.661091                      C           sigmoid   \n",
      "2 0 days 00:18:29.527582                      A              tanh   \n",
      "\n",
      "   params_alpha params_fc_activation  params_flag_mult  ...  \\\n",
      "0           1.0                 relu              True  ...   \n",
      "1           1.0              B2Bsqrt             False  ...   \n",
      "2           1.0              B2Bsqrt             False  ...   \n",
      "\n",
      "   params_learning_rate  params_num_thresh  params_optimizer  \\\n",
      "0                0.0001               2000              adam   \n",
      "1                0.0001                500           rmsprop   \n",
      "2                0.0100                500              adam   \n",
      "\n",
      "  params_order_sprt  params_param_aucsat_loss  params_param_llr_loss  \\\n",
      "0                 3                       0.0                    0.0   \n",
      "1                 4                       0.4                    1.0   \n",
      "2                49                       0.4                    1.0   \n",
      "\n",
      "   params_param_multiplet_loss  params_recurrent_activation  \\\n",
      "0                          0.6                         tanh   \n",
      "1                          0.2                      sigmoid   \n",
      "2                          0.0                         tanh   \n",
      "\n",
      "  params_weight_decay     state  \n",
      "0               0.001  COMPLETE  \n",
      "1               0.001  COMPLETE  \n",
      "2               0.000      FAIL  \n",
      "\n",
      "[3 rows x 21 columns]\n",
      "best_value: 0.49612399999999995\n",
      "best_params: {'AUCloss_version': 'D', 'activation': 'B2Bsqrt', 'alpha': 1.0, 'fc_activation': 'relu', 'flag_mult': True, 'ifNorm': True, 'learning_rate': 0.0001, 'num_thresh': 2000, 'optimizer': 'adam', 'order_sprt': 3, 'param_aucsat_loss': 0.0, 'param_llr_loss': 0.0, 'param_multiplet_loss': 0.6, 'recurrent_activation': 'tanh', 'weight_decay': 0.001}\n",
      "best_trial: FrozenTrial(number=0, values=[0.49612399999999995], datetime_start=datetime.datetime(2023, 1, 3, 0, 39, 26, 358248), datetime_complete=datetime.datetime(2023, 1, 3, 1, 1, 13, 286816), params={'AUCloss_version': 'D', 'activation': 'B2Bsqrt', 'alpha': 1.0, 'fc_activation': 'relu', 'flag_mult': True, 'ifNorm': True, 'learning_rate': 0.0001, 'num_thresh': 2000, 'optimizer': 'adam', 'order_sprt': 3, 'param_aucsat_loss': 0.0, 'param_llr_loss': 0.0, 'param_multiplet_loss': 0.6, 'recurrent_activation': 'tanh', 'weight_decay': 0.001}, distributions={'AUCloss_version': CategoricalDistribution(choices=('A', 'B', 'C', 'D')), 'activation': CategoricalDistribution(choices=('B2Bsqrt', 'B2Blog', 'tanh', 'sigmoid')), 'alpha': CategoricalDistribution(choices=(1.0,)), 'fc_activation': CategoricalDistribution(choices=('B2Bsqrt', 'B2Blog', 'tanh', 'relu')), 'flag_mult': CategoricalDistribution(choices=(True, False)), 'ifNorm': CategoricalDistribution(choices=(True, False)), 'learning_rate': CategoricalDistribution(choices=(1e-05, 0.0001, 0.001, 0.01)), 'num_thresh': CategoricalDistribution(choices=(500, 1000, 2000)), 'optimizer': CategoricalDistribution(choices=('rmsprop', 'adam')), 'order_sprt': CategoricalDistribution(choices=(0, 1, 2, 3, 4, 5, 10, 20, 49)), 'param_aucsat_loss': CategoricalDistribution(choices=(0.0, 0.2, 0.4, 0.6, 0.8, 1.0)), 'param_llr_loss': CategoricalDistribution(choices=(0.0, 0.2, 0.4, 0.6, 0.8, 1.0)), 'param_multiplet_loss': CategoricalDistribution(choices=(0.0, 0.2, 0.4, 0.6, 0.8, 1.0)), 'recurrent_activation': CategoricalDistribution(choices=('tanh', 'sigmoid')), 'weight_decay': CategoricalDistribution(choices=(0.0, 1e-05, 0.0001, 0.001, 0.01))}, user_attrs={}, system_attrs={}, intermediate_values={}, trial_id=1, state=TrialState.COMPLETE, value=None)\n",
      "\n",
      "\n",
      "total: 3trias\n",
      "above: best trials, the later the better..\n",
      "FrozenTrial(number=2, values=None, datetime_start=datetime.datetime(2023, 1, 3, 1, 20, 23, 94306), datetime_complete=datetime.datetime(2023, 1, 3, 1, 38, 52, 621888), params={'AUCloss_version': 'A', 'activation': 'tanh', 'alpha': 1.0, 'fc_activation': 'B2Bsqrt', 'flag_mult': False, 'ifNorm': False, 'learning_rate': 0.01, 'num_thresh': 500, 'optimizer': 'adam', 'order_sprt': 49, 'param_aucsat_loss': 0.4, 'param_llr_loss': 1.0, 'param_multiplet_loss': 0.0, 'recurrent_activation': 'tanh', 'weight_decay': 0.0}, distributions={'AUCloss_version': CategoricalDistribution(choices=('A', 'B', 'C', 'D')), 'activation': CategoricalDistribution(choices=('B2Bsqrt', 'B2Blog', 'tanh', 'sigmoid')), 'alpha': CategoricalDistribution(choices=(1.0,)), 'fc_activation': CategoricalDistribution(choices=('B2Bsqrt', 'B2Blog', 'tanh', 'relu')), 'flag_mult': CategoricalDistribution(choices=(True, False)), 'ifNorm': CategoricalDistribution(choices=(True, False)), 'learning_rate': CategoricalDistribution(choices=(1e-05, 0.0001, 0.001, 0.01)), 'num_thresh': CategoricalDistribution(choices=(500, 1000, 2000)), 'optimizer': CategoricalDistribution(choices=('rmsprop', 'adam')), 'order_sprt': CategoricalDistribution(choices=(0, 1, 2, 3, 4, 5, 10, 20, 49)), 'param_aucsat_loss': CategoricalDistribution(choices=(0.0, 0.2, 0.4, 0.6, 0.8, 1.0)), 'param_llr_loss': CategoricalDistribution(choices=(0.0, 0.2, 0.4, 0.6, 0.8, 1.0)), 'param_multiplet_loss': CategoricalDistribution(choices=(0.0, 0.2, 0.4, 0.6, 0.8, 1.0)), 'recurrent_activation': CategoricalDistribution(choices=('tanh', 'sigmoid')), 'weight_decay': CategoricalDistribution(choices=(0.0, 1e-05, 0.0001, 0.001, 0.01))}, user_attrs={}, system_attrs={}, intermediate_values={}, trial_id=3, state=TrialState.FAIL, value=None)\n",
      "FrozenTrial(number=1, values=[0.49996199999999996], datetime_start=datetime.datetime(2023, 1, 3, 1, 1, 13, 360978), datetime_complete=datetime.datetime(2023, 1, 3, 1, 20, 23, 22069), params={'AUCloss_version': 'C', 'activation': 'sigmoid', 'alpha': 1.0, 'fc_activation': 'B2Bsqrt', 'flag_mult': False, 'ifNorm': False, 'learning_rate': 0.0001, 'num_thresh': 500, 'optimizer': 'rmsprop', 'order_sprt': 4, 'param_aucsat_loss': 0.4, 'param_llr_loss': 1.0, 'param_multiplet_loss': 0.2, 'recurrent_activation': 'sigmoid', 'weight_decay': 0.001}, distributions={'AUCloss_version': CategoricalDistribution(choices=('A', 'B', 'C', 'D')), 'activation': CategoricalDistribution(choices=('B2Bsqrt', 'B2Blog', 'tanh', 'sigmoid')), 'alpha': CategoricalDistribution(choices=(1.0,)), 'fc_activation': CategoricalDistribution(choices=('B2Bsqrt', 'B2Blog', 'tanh', 'relu')), 'flag_mult': CategoricalDistribution(choices=(True, False)), 'ifNorm': CategoricalDistribution(choices=(True, False)), 'learning_rate': CategoricalDistribution(choices=(1e-05, 0.0001, 0.001, 0.01)), 'num_thresh': CategoricalDistribution(choices=(500, 1000, 2000)), 'optimizer': CategoricalDistribution(choices=('rmsprop', 'adam')), 'order_sprt': CategoricalDistribution(choices=(0, 1, 2, 3, 4, 5, 10, 20, 49)), 'param_aucsat_loss': CategoricalDistribution(choices=(0.0, 0.2, 0.4, 0.6, 0.8, 1.0)), 'param_llr_loss': CategoricalDistribution(choices=(0.0, 0.2, 0.4, 0.6, 0.8, 1.0)), 'param_multiplet_loss': CategoricalDistribution(choices=(0.0, 0.2, 0.4, 0.6, 0.8, 1.0)), 'recurrent_activation': CategoricalDistribution(choices=('tanh', 'sigmoid')), 'weight_decay': CategoricalDistribution(choices=(0.0, 1e-05, 0.0001, 0.001, 0.01))}, user_attrs={}, system_attrs={}, intermediate_values={}, trial_id=2, state=TrialState.COMPLETE, value=None)\n",
      "FrozenTrial(number=0, values=[0.49612399999999995], datetime_start=datetime.datetime(2023, 1, 3, 0, 39, 26, 358248), datetime_complete=datetime.datetime(2023, 1, 3, 1, 1, 13, 286816), params={'AUCloss_version': 'D', 'activation': 'B2Bsqrt', 'alpha': 1.0, 'fc_activation': 'relu', 'flag_mult': True, 'ifNorm': True, 'learning_rate': 0.0001, 'num_thresh': 2000, 'optimizer': 'adam', 'order_sprt': 3, 'param_aucsat_loss': 0.0, 'param_llr_loss': 0.0, 'param_multiplet_loss': 0.6, 'recurrent_activation': 'tanh', 'weight_decay': 0.001}, distributions={'AUCloss_version': CategoricalDistribution(choices=('A', 'B', 'C', 'D')), 'activation': CategoricalDistribution(choices=('B2Bsqrt', 'B2Blog', 'tanh', 'sigmoid')), 'alpha': CategoricalDistribution(choices=(1.0,)), 'fc_activation': CategoricalDistribution(choices=('B2Bsqrt', 'B2Blog', 'tanh', 'relu')), 'flag_mult': CategoricalDistribution(choices=(True, False)), 'ifNorm': CategoricalDistribution(choices=(True, False)), 'learning_rate': CategoricalDistribution(choices=(1e-05, 0.0001, 0.001, 0.01)), 'num_thresh': CategoricalDistribution(choices=(500, 1000, 2000)), 'optimizer': CategoricalDistribution(choices=('rmsprop', 'adam')), 'order_sprt': CategoricalDistribution(choices=(0, 1, 2, 3, 4, 5, 10, 20, 49)), 'param_aucsat_loss': CategoricalDistribution(choices=(0.0, 0.2, 0.4, 0.6, 0.8, 1.0)), 'param_llr_loss': CategoricalDistribution(choices=(0.0, 0.2, 0.4, 0.6, 0.8, 1.0)), 'param_multiplet_loss': CategoricalDistribution(choices=(0.0, 0.2, 0.4, 0.6, 0.8, 1.0)), 'recurrent_activation': CategoricalDistribution(choices=('tanh', 'sigmoid')), 'weight_decay': CategoricalDistribution(choices=(0.0, 1e-05, 0.0001, 0.001, 0.01))}, user_attrs={}, system_attrs={}, intermediate_values={}, trial_id=1, state=TrialState.COMPLETE, value=None)\n"
     ]
    }
   ],
   "source": [
    "currdir = os.getcwd()\n",
    "os.chdir(LOG_DIR)\n",
    "\n",
    "study = optuna.create_study(study_name=study_name,\n",
    "                            storage=storage_name,\n",
    "                            load_if_exists=True)\n",
    "df = study.trials_dataframe()\n",
    "print('df', df)\n",
    "print('best_value:', study.best_value)\n",
    "print('best_params:', study.best_params)\n",
    "print('best_trial:', study.best_trial)\n",
    "#    print('all trials:', study.trials)\n",
    "print('')\n",
    "\n",
    "valuepos = 1\n",
    "trials = study.trials\n",
    "values = []\n",
    "for s in trials:\n",
    "    s = str(s).split()\n",
    "    if not 'value' in s[valuepos]:\n",
    "        raise ValueError('unexpected string structure!')\n",
    "    if 'None' in s[valuepos]:\n",
    "        values.append(1.0)\n",
    "    else:\n",
    "        # pdb.set_trace()\n",
    "        #values.append(float(s[valuepos][6:-1]))\n",
    "        values.append(float(s[valuepos][8:-2]))\n",
    "\n",
    "list1, list2 = zip(*sorted(zip(values, list(trials)), reverse=True))\n",
    "print('\\ntotal: {}trias'.format(len(list2)))\n",
    "print('above: best trials, the later the better..')\n",
    "for i in range(len(list2)):\n",
    "    print(list2[i])\n"
   ]
  },
  {
   "cell_type": "code",
   "execution_count": 17,
   "metadata": {},
   "outputs": [
    {
     "ename": "ValueError",
     "evalue": "Record does not exist.",
     "output_type": "error",
     "traceback": [
      "\u001b[0;31m---------------------------------------------------------------------------\u001b[0m",
      "\u001b[0;31mValueError\u001b[0m                                Traceback (most recent call last)",
      "Input \u001b[0;32mIn [17]\u001b[0m, in \u001b[0;36m<cell line: 1>\u001b[0;34m()\u001b[0m\n\u001b[0;32m----> 1\u001b[0m \u001b[43mstudy\u001b[49m\u001b[38;5;241;43m.\u001b[39;49m\u001b[43mbest_trial\u001b[49m\n",
      "File \u001b[0;32m~/.local/lib/python3.8/site-packages/optuna/study/study.py:97\u001b[0m, in \u001b[0;36mBaseStudy.best_trial\u001b[0;34m(self)\u001b[0m\n\u001b[1;32m     91\u001b[0m \u001b[38;5;28;01mif\u001b[39;00m \u001b[38;5;28mself\u001b[39m\u001b[38;5;241m.\u001b[39m_is_multi_objective():\n\u001b[1;32m     92\u001b[0m     \u001b[38;5;28;01mraise\u001b[39;00m \u001b[38;5;167;01mRuntimeError\u001b[39;00m(\n\u001b[1;32m     93\u001b[0m         \u001b[38;5;124m\"\u001b[39m\u001b[38;5;124mA single best trial cannot be retrieved from a multi-objective study. Consider \u001b[39m\u001b[38;5;124m\"\u001b[39m\n\u001b[1;32m     94\u001b[0m         \u001b[38;5;124m\"\u001b[39m\u001b[38;5;124musing Study.best_trials to retrieve a list containing the best trials.\u001b[39m\u001b[38;5;124m\"\u001b[39m\n\u001b[1;32m     95\u001b[0m     )\n\u001b[0;32m---> 97\u001b[0m \u001b[38;5;28;01mreturn\u001b[39;00m copy\u001b[38;5;241m.\u001b[39mdeepcopy(\u001b[38;5;28;43mself\u001b[39;49m\u001b[38;5;241;43m.\u001b[39;49m\u001b[43m_storage\u001b[49m\u001b[38;5;241;43m.\u001b[39;49m\u001b[43mget_best_trial\u001b[49m\u001b[43m(\u001b[49m\u001b[38;5;28;43mself\u001b[39;49m\u001b[38;5;241;43m.\u001b[39;49m\u001b[43m_study_id\u001b[49m\u001b[43m)\u001b[49m)\n",
      "File \u001b[0;32m~/.local/lib/python3.8/site-packages/optuna/storages/_cached_storage.py:285\u001b[0m, in \u001b[0;36m_CachedStorage.get_best_trial\u001b[0;34m(self, study_id)\u001b[0m\n\u001b[1;32m    283\u001b[0m \u001b[38;5;28;01mdef\u001b[39;00m \u001b[38;5;21mget_best_trial\u001b[39m(\u001b[38;5;28mself\u001b[39m, study_id: \u001b[38;5;28mint\u001b[39m) \u001b[38;5;241m-\u001b[39m\u001b[38;5;241m>\u001b[39m FrozenTrial:\n\u001b[0;32m--> 285\u001b[0m     \u001b[38;5;28;01mreturn\u001b[39;00m \u001b[38;5;28;43mself\u001b[39;49m\u001b[38;5;241;43m.\u001b[39;49m\u001b[43m_backend\u001b[49m\u001b[38;5;241;43m.\u001b[39;49m\u001b[43mget_best_trial\u001b[49m\u001b[43m(\u001b[49m\u001b[43mstudy_id\u001b[49m\u001b[43m)\u001b[49m\n",
      "File \u001b[0;32m~/.local/lib/python3.8/site-packages/optuna/storages/_rdb/storage.py:1123\u001b[0m, in \u001b[0;36mRDBStorage.get_best_trial\u001b[0;34m(self, study_id)\u001b[0m\n\u001b[1;32m   1121\u001b[0m         trial \u001b[38;5;241m=\u001b[39m models\u001b[38;5;241m.\u001b[39mTrialModel\u001b[38;5;241m.\u001b[39mfind_max_value_trial(study_id, \u001b[38;5;241m0\u001b[39m, session)\n\u001b[1;32m   1122\u001b[0m     \u001b[38;5;28;01melse\u001b[39;00m:\n\u001b[0;32m-> 1123\u001b[0m         trial \u001b[38;5;241m=\u001b[39m \u001b[43mmodels\u001b[49m\u001b[38;5;241;43m.\u001b[39;49m\u001b[43mTrialModel\u001b[49m\u001b[38;5;241;43m.\u001b[39;49m\u001b[43mfind_min_value_trial\u001b[49m\u001b[43m(\u001b[49m\u001b[43mstudy_id\u001b[49m\u001b[43m,\u001b[49m\u001b[43m \u001b[49m\u001b[38;5;241;43m0\u001b[39;49m\u001b[43m,\u001b[49m\u001b[43m \u001b[49m\u001b[43msession\u001b[49m\u001b[43m)\u001b[49m\n\u001b[1;32m   1124\u001b[0m     trial_id \u001b[38;5;241m=\u001b[39m trial\u001b[38;5;241m.\u001b[39mtrial_id\n\u001b[1;32m   1126\u001b[0m \u001b[38;5;28;01mreturn\u001b[39;00m \u001b[38;5;28mself\u001b[39m\u001b[38;5;241m.\u001b[39mget_trial(trial_id)\n",
      "File \u001b[0;32m~/.local/lib/python3.8/site-packages/optuna/storages/_rdb/models.py:226\u001b[0m, in \u001b[0;36mTrialModel.find_min_value_trial\u001b[0;34m(cls, study_id, objective, session)\u001b[0m\n\u001b[1;32m    215\u001b[0m trial \u001b[38;5;241m=\u001b[39m (\n\u001b[1;32m    216\u001b[0m     session\u001b[38;5;241m.\u001b[39mquery(\u001b[38;5;28mcls\u001b[39m)\n\u001b[1;32m    217\u001b[0m     \u001b[38;5;241m.\u001b[39mfilter(\u001b[38;5;28mcls\u001b[39m\u001b[38;5;241m.\u001b[39mstudy_id \u001b[38;5;241m==\u001b[39m study_id)\n\u001b[0;32m   (...)\u001b[0m\n\u001b[1;32m    223\u001b[0m     \u001b[38;5;241m.\u001b[39mone_or_none()\n\u001b[1;32m    224\u001b[0m )\n\u001b[1;32m    225\u001b[0m \u001b[38;5;28;01mif\u001b[39;00m trial \u001b[38;5;129;01mis\u001b[39;00m \u001b[38;5;28;01mNone\u001b[39;00m:\n\u001b[0;32m--> 226\u001b[0m     \u001b[38;5;28;01mraise\u001b[39;00m \u001b[38;5;167;01mValueError\u001b[39;00m(NOT_FOUND_MSG)\n\u001b[1;32m    227\u001b[0m \u001b[38;5;28;01mreturn\u001b[39;00m trial\n",
      "\u001b[0;31mValueError\u001b[0m: Record does not exist."
     ]
    }
   ],
   "source": [
    "study.best_trial"
   ]
  },
  {
   "cell_type": "code",
   "execution_count": null,
   "metadata": {},
   "outputs": [],
   "source": []
  },
  {
   "cell_type": "markdown",
   "metadata": {},
   "source": [
    "# Manually extract the tuning results"
   ]
  },
  {
   "cell_type": "code",
   "execution_count": 36,
   "metadata": {},
   "outputs": [
    {
     "name": "stdout",
     "output_type": "stream",
     "text": [
      "Tfmr_UCF2class_20220909_210045464 0.99396\n"
     ]
    }
   ],
   "source": [
    "targdir = '/raid6/ebihara/tensorflow/logs/UCF2class/ckptlogs/Tfmr_UCF2class_tuning/'\n",
    "\n",
    "best = 0.0\n",
    "targtrial = ''\n",
    "for trial in os.listdir(targdir):\n",
    "    for result in os.listdir(targdir + trial):\n",
    "        if 'macrec' and 'index' in result:\n",
    "            value = float(result[result.find('macrec') + len('macrec') : result.find('-')])\n",
    "            if value > best:\n",
    "                best = value\n",
    "                targtrial = trial\n",
    "            elif value == best:\n",
    "                raise ValueError('Exactly the same result!')\n",
    "\n",
    "print(targtrial, best)"
   ]
  },
  {
   "cell_type": "code",
   "execution_count": 11,
   "metadata": {},
   "outputs": [
    {
     "data": {
      "text/plain": [
       "0.9985578554627219"
      ]
     },
     "execution_count": 11,
     "metadata": {},
     "output_type": "execute_result"
    }
   ],
   "source": [
    "1-0.0014421445372780894"
   ]
  },
  {
   "cell_type": "code",
   "execution_count": 42,
   "metadata": {},
   "outputs": [
    {
     "name": "stderr",
     "output_type": "stream",
     "text": [
      "/tmp/ipykernel_921/1089670179.py:5: RuntimeWarning: invalid value encountered in log\n",
      "  plt.plot(x, np.log(x), label='log')\n",
      "/tmp/ipykernel_921/1089670179.py:6: RuntimeWarning: invalid value encountered in sqrt\n",
      "  plt.plot(x, np.sqrt(x), label='sqrt')\n"
     ]
    },
    {
     "data": {
      "image/png": "[encoded data removed]",
      "text/plain": [
       "<Figure size 432x288 with 1 Axes>"
      ]
     },
     "metadata": {},
     "output_type": "display_data"
    },
    {
     "data": {
      "image/png": "[encoded data removed]",
      "text/plain": [
       "<Figure size 432x288 with 1 Axes>"
      ]
     },
     "metadata": {},
     "output_type": "display_data"
    }
   ],
   "source": [
    "import matplotlib.pyplot as plt\n",
    "x = np.linspace(-5, 5, 100)\n",
    "f = np.sign(x)*np.sqrt(1 + np.abs(x)- 1) \n",
    "g = np.sign(x)*np.log(1 + np.abs(x))\n",
    "plt.plot(x, np.log(x), label='log')\n",
    "plt.plot(x, np.sqrt(x), label='sqrt')\n",
    "plt.legend()\n",
    "plt.show()\n",
    "\n",
    "plt.plot(x, f, label='sqrt')\n",
    "plt.plot(x, g, label='log')\n",
    "plt.legend()\n",
    "plt.show()"
   ]
  }
 ],
 "metadata": {
  "kernelspec": {
   "display_name": "Python 3 (ipykernel)",
   "language": "python",
   "name": "python3"
  },
  "language_info": {
   "codemirror_mode": {
    "name": "ipython",
    "version": 3
   },
   "file_extension": ".py",
   "mimetype": "text/x-python",
   "name": "python",
   "nbconvert_exporter": "python",
   "pygments_lexer": "ipython3",
   "version": "3.8.10"
  }
 },
 "nbformat": 4,
 "nbformat_minor": 2
}
