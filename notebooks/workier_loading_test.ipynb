{
 "cells": [
  {
   "cell_type": "code",
   "execution_count": 13,
   "metadata": {},
   "outputs": [],
   "source": [
    "import pdb, sys, os\n",
    "parent_dir = os.path.abspath('..')\n",
    "sys.path.append(parent_dir)\n",
    "from typing import Tuple, Dict, Any\n",
    "from tqdm import tqdm\n",
    "from termcolor import colored\n",
    "from loguru import logger\n",
    "import numpy as np\n",
    "import torch\n",
    "import torch.nn as nn\n",
    "import torch.optim as optim\n",
    "import torch.utils.data as data\n",
    "from torch.utils.tensorboard import SummaryWriter\n",
    "import optuna\n",
    "from optuna.trial import Trial\n",
    "from config.config_definition import config as config_orig\n",
    "from utils.misc import grab_gpu, fix_random_seed, parse_args\n",
    "from utils.logging import (\n",
    "    create_log_folders,\n",
    "    save_config_info,\n",
    "    ContexualLogger,\n",
    "    save_sdre_imgs,\n",
    "    log_training_results,\n",
    "    get_tb_writer,\n",
    ")\n",
    "from utils.hyperparameter_tuning import run_optuna, suggest_parameters, report_to_pruner\n",
    "from utils.checkpoint import (\n",
    "    update_and_save_result,\n",
    "    initialize_objectives,\n",
    "    finalize_objectives,\n",
    ")\n",
    "\n",
    "from datasets.data_processing import lmdb_dataloaders, move_data_to_device\n",
    "from models.temporal_integrators import import_model, load_pretrained_states\n",
    "from models.optimizers import initialize_optimizer\n",
    "from models.losses import compute_loss_and_metrics\n",
    "from utils.misc import PyTorchPhaseManager, convert_torch_to_numpy, StopWatch\n",
    "from utils.performance_metrics import training_setup, accumulate_performance\n"
   ]
  },
  {
   "cell_type": "code",
   "execution_count": 37,
   "metadata": {},
   "outputs": [
    {
     "name": "stderr",
     "output_type": "stream",
     "text": [
      "2023-05-01 03:30:21.825 | INFO     | datasets.data_processing:lmdb_dataloaders:293 - loading data... \n",
      "2023-05-01 03:30:21.826 | INFO     | datasets.data_processing:lmdb_dataloaders:295 - If this process takes long, consider setting is_load_onto_memory=False or use LMDBIterableDataset.\n"
     ]
    },
    {
     "name": "stdout",
     "output_type": "stream",
     "text": [
      "config_orig['NUM_WORKERS']=10\n"
     ]
    },
    {
     "name": "stderr",
     "output_type": "stream",
     "text": [
      "2023-05-01 03:30:24.839 | INFO     | utils.misc:__exit__:207 - elapsed time:  2.766229 seconds. ()\n",
      "2023-05-01 03:30:24.844 | INFO     | utils.misc:__exit__:208 - Memory usage: 1887.94 megabytes\n"
     ]
    }
   ],
   "source": [
    "config_orig['NUM_WORKERS'] = 10\n",
    "\n",
    "torch.set_num_threads(np.max([1, config_orig['NUM_WORKERS']]))\n",
    "\n",
    "print(f\"{config_orig['NUM_WORKERS']=}\")\n",
    "\n",
    "\n",
    "with StopWatch(unit='sec'):\n",
    "    data_loaders = lmdb_dataloaders(config_orig)\n",
    "                                                            \n"
   ]
  },
  {
   "cell_type": "code",
   "execution_count": 38,
   "metadata": {},
   "outputs": [
    {
     "data": {
      "text/plain": [
       "10"
      ]
     },
     "execution_count": 38,
     "metadata": {},
     "output_type": "execute_result"
    }
   ],
   "source": [
    "np.max([1, config_orig['NUM_WORKERS']])"
   ]
  },
  {
   "cell_type": "code",
   "execution_count": 39,
   "metadata": {},
   "outputs": [
    {
     "data": {
      "text/plain": [
       "True"
      ]
     },
     "execution_count": 39,
     "metadata": {},
     "output_type": "execute_result"
    }
   ],
   "source": [
    "config_orig['IS_LOAD_ONTO_MEMORY']"
   ]
  },
  {
   "cell_type": "code",
   "execution_count": null,
   "metadata": {},
   "outputs": [],
   "source": []
  }
 ],
 "metadata": {
  "kernelspec": {
   "display_name": "Python 3",
   "language": "python",
   "name": "python3"
  },
  "language_info": {
   "codemirror_mode": {
    "name": "ipython",
    "version": 3
   },
   "file_extension": ".py",
   "mimetype": "text/x-python",
   "name": "python",
   "nbconvert_exporter": "python",
   "pygments_lexer": "ipython3",
   "version": "3.10.6"
  },
  "orig_nbformat": 4
 },
 "nbformat": 4,
 "nbformat_minor": 2
}
