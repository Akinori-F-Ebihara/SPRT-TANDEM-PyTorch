{
 "cells": [
  {
   "cell_type": "code",
   "execution_count": 22,
   "id": "7ae2685f",
   "metadata": {},
   "outputs": [],
   "source": [
    "import torch\n",
    "\n",
    "num_thresh = 10\n",
    "llrs_min = torch.tensor(1e-16)\n",
    "llrs_max = torch.tensor(10.)\n",
    "sparsity = 'lograndom'\n",
    "assert llrs_min > 0."
   ]
  },
  {
   "cell_type": "code",
   "execution_count": 30,
   "id": "af33287c",
   "metadata": {},
   "outputs": [
    {
     "name": "stdout",
     "output_type": "stream",
     "text": [
      "tensor([9.5649e-14, 7.9800e-13, 1.5532e-12, 1.9209e-12, 1.4117e-10, 4.0919e-07,\n",
      "        4.3494e-06, 3.4921e-02, 1.1704e-01, 2.1805e-01])\n"
     ]
    }
   ],
   "source": [
    "# Single-valued threshold matrix\n",
    "if sparsity == \"linspace\":\n",
    "    thresh = torch.linspace(llrs_min, llrs_max, num_thresh)    \n",
    "        # (num thresh,)\n",
    "\n",
    "elif sparsity == \"logspace\":\n",
    "    thresh = torch.exp(\n",
    "        torch.linspace(\n",
    "            torch.log(llrs_min).item(), \n",
    "            torch.log(llrs_max).item(), \n",
    "            num_thresh))\n",
    "        # (num thresh,)\n",
    "\n",
    "elif sparsity == \"unirandom\":\n",
    "    thresh = torch.rand(num_thresh)\n",
    "    thresh = torch.sort(thresh)[0] # torch.sort returns (values, index)\n",
    "    thresh = ((llrs_max - llrs_min) * thresh) + llrs_min\n",
    "        # (num thresh,), ascending order\n",
    "\n",
    "elif sparsity == \"lograndom\":\n",
    "    thresh = torch.rand(num_thresh)\n",
    "    thresh = torch.sort(thresh)[0] # torch.sort returns (values, index)\n",
    "    thresh = torch.exp(\n",
    "        ((torch.log(llrs_max) - torch.log(llrs_min)) * thresh)\\\n",
    "            + torch.log(llrs_min))\n",
    "        # (num thresh,). Ascending order.\n",
    "else:\n",
    "    raise ValueError \n",
    "print(thresh)"
   ]
  },
  {
   "cell_type": "code",
   "execution_count": 29,
   "id": "6d08acd4",
   "metadata": {},
   "outputs": [
    {
     "data": {
      "text/plain": [
       "tensor([ 6.6009,  7.5663,  8.0722, 13.4369, 19.5990, 26.4449, 30.6527, 35.0677,\n",
       "        36.4910, 36.5089])"
      ]
     },
     "execution_count": 29,
     "metadata": {},
     "output_type": "execute_result"
    }
   ],
   "source": [
    "(torch.log(llrs_max) - torch.log(llrs_min)) * thresh[0]\n"
   ]
  }
 ],
 "metadata": {
  "kernelspec": {
   "display_name": "Python 3 (ipykernel)",
   "language": "python",
   "name": "python3"
  },
  "language_info": {
   "codemirror_mode": {
    "name": "ipython",
    "version": 3
   },
   "file_extension": ".py",
   "mimetype": "text/x-python",
   "name": "python",
   "nbconvert_exporter": "python",
   "pygments_lexer": "ipython3",
   "version": "3.10.6"
  }
 },
 "nbformat": 4,
 "nbformat_minor": 5
}
