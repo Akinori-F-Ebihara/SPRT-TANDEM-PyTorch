{
 "cells": [
  {
   "cell_type": "code",
   "execution_count": 1,
   "id": "c3ce821e",
   "metadata": {},
   "outputs": [],
   "source": [
    "import numpy as np\n",
    "import torch\n",
    "\n",
    "def convert_dict_values_to_numpy(data):\n",
    "    '''\n",
    "    Recursively convert all values in a hierarchical python dictionary to numpy arrays.\n",
    "    If a value is a PyTorch tensor on cpu or cuda device, it will be converted to a numpy array.\n",
    "    \n",
    "    Args:\n",
    "        data (dict): A hierarchical python dictionary whose values will be converted to numpy arrays.\n",
    "        \n",
    "    Returns:\n",
    "        dict: A copy of the input dictionary with all values converted to numpy arrays.\n",
    "    '''\n",
    "    result = {}\n",
    "    for key, value in data.items():\n",
    "        if isinstance(value, dict):\n",
    "            result[key] = convert_dict_values_to_numpy(value)\n",
    "        elif isinstance(value, np.ndarray):\n",
    "            result[key] = value\n",
    "        elif isinstance(value, torch.Tensor):\n",
    "            if value.is_cuda:\n",
    "                result[key] = value.cpu().numpy()\n",
    "            else:\n",
    "                result[key] = value.numpy()\n",
    "        else:\n",
    "            raise TypeError(f\"Unsupported data type: {type(value)}\")\n",
    "    return result\n"
   ]
  },
  {
   "cell_type": "code",
   "execution_count": 2,
   "id": "0e9b9799",
   "metadata": {},
   "outputs": [
    {
     "name": "stdout",
     "output_type": "stream",
     "text": [
      "{'a': array([1, 2, 3]), 'b': {'c': array([[1, 2],\n",
      "       [3, 4]]), 'd': array([[1., 2.],\n",
      "       [3., 4.]], dtype=float32)}}\n"
     ]
    }
   ],
   "source": [
    "# Define a hierarchical dictionary with values of different types\n",
    "data = {\n",
    "    'a': np.array([1, 2, 3]),\n",
    "    'b': {\n",
    "        'c': torch.tensor([[1, 2], [3, 4]]),\n",
    "        'd': torch.tensor([[1., 2.], [3., 4.]], device='cuda:0')\n",
    "    }\n",
    "}\n",
    "\n",
    "# Convert all values to numpy arrays\n",
    "data_numpy = convert_dict_values_to_numpy(data)\n",
    "\n",
    "# Print the converted dictionary\n",
    "print(data_numpy)\n"
   ]
  },
  {
   "cell_type": "code",
   "execution_count": 3,
   "id": "36961e92",
   "metadata": {},
   "outputs": [
    {
     "data": {
      "text/plain": [
       "{'a': array([1, 2, 3]),\n",
       " 'b': {'c': tensor([[1, 2],\n",
       "          [3, 4]]),\n",
       "  'd': tensor([[1., 2.],\n",
       "          [3., 4.]], device='cuda:0')}}"
      ]
     },
     "execution_count": 3,
     "metadata": {},
     "output_type": "execute_result"
    }
   ],
   "source": [
    "data['s']"
   ]
  },
  {
   "cell_type": "code",
   "execution_count": null,
   "id": "9488ad87",
   "metadata": {},
   "outputs": [],
   "source": []
  }
 ],
 "metadata": {
  "kernelspec": {
   "display_name": "Python 3 (ipykernel)",
   "language": "python",
   "name": "python3"
  },
  "language_info": {
   "codemirror_mode": {
    "name": "ipython",
    "version": 3
   },
   "file_extension": ".py",
   "mimetype": "text/x-python",
   "name": "python",
   "nbconvert_exporter": "python",
   "pygments_lexer": "ipython3",
   "version": "3.10.6"
  }
 },
 "nbformat": 4,
 "nbformat_minor": 5
}
