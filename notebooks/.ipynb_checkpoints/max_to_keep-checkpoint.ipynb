{
 "cells": [
  {
   "cell_type": "code",
   "execution_count": 60,
   "id": "6faef1e8",
   "metadata": {},
   "outputs": [
    {
     "ename": "SyntaxError",
     "evalue": "invalid syntax (2644094186.py, line 41)",
     "output_type": "error",
     "traceback": [
      "\u001b[0;36m  Input \u001b[0;32mIn [60]\u001b[0;36m\u001b[0m\n\u001b[0;31m    os.remove(models[0]) if len(models) > max_to_save else return\u001b[0m\n\u001b[0m                                                           ^\u001b[0m\n\u001b[0;31mSyntaxError\u001b[0m\u001b[0;31m:\u001b[0m invalid syntax\n"
     ]
    }
   ],
   "source": [
    "import torch\n",
    "import glob\n",
    "import os\n",
    "import datetime\n",
    "import pathlib\n",
    "\n",
    "model_path = '/Users/AFE/Dropbox/PYTHON/SPRTproject/PytorchMAUS_dev/logs/PTdev_offset2_0_optimausat_confmx_Transformer_tuning/checkpoints/_20230324_084026250/'\n",
    "\n",
    "# def keep_max_saved_models(model_path, max_to_save=1):\n",
    "# #     models = glob.glob(model_path + '*.pth')\n",
    "#     models = [os.path.join(model_path, f) for f in os.listdir(model_path) if os.path.isfile(os.path.join(model_path, f))]\n",
    "\n",
    "#     if len(models) > max_to_save:\n",
    "#         models = sorted(models, key=lambda f: os.path.getctime(f))\n",
    "#         return models\n",
    "# #         os.remove(models[0])\n",
    "\n",
    "# def keep_max_saved_models(model_path, max_to_save=1):\n",
    "    \n",
    "#     path = pathlib.Path(model_path)\n",
    "#     models = sorted(path.glob('*'), key=lambda f: f.stat().st_ctime)\n",
    "\n",
    "#     if len(models) > max_to_save:\n",
    "#         return models\n",
    "# #         os.remove(models[0])\n",
    "\n",
    "def keep_max_saved_models(model_path: str, max_to_save: int = 1) -> None:\n",
    "    '''\n",
    "    This function ensures that PyTorch saves a maximum number of checkpoint files (.pth format) in a given directory.\n",
    "    If there are more saved models than the specified limit, it will delete the oldest ones, based on their creation time.\n",
    "\n",
    "    Args:\n",
    "    - model_path (str): The path to the directory where the model checkpoint files are saved.\n",
    "    - max_to_save (int, optional): The maximum number of checkpoint files to save in the directory. Defaults to 1.\n",
    "    '''\n",
    "    # Get a list of all files in the directory\n",
    "    models = glob.glob(model_path + '*.pth')\n",
    "\n",
    "    # Sort the files based on their creation time\n",
    "    models = sorted(models, key=os.path.getmtime)\n",
    "    if len(models) > max_to_save:\n",
    "        os.remove(models[0])\n",
    "        "
   ]
  },
  {
   "cell_type": "code",
   "execution_count": 59,
   "id": "655d4257",
   "metadata": {},
   "outputs": [
    {
     "name": "stdout",
     "output_type": "stream",
     "text": [
      "/Users/AFE/Dropbox/PYTHON/SPRTproject/PytorchMAUS_dev/logs/PTdev_offset2_0_optimausat_confmx_Transformer_tuning/checkpoints/_20230324_084026250/  ckpt_step1500_target_ausat_confmx0.0227.pth\n",
      "/Users/AFE/Dropbox/PYTHON/SPRTproject/PytorchMAUS_dev/logs/PTdev_offset2_0_optimausat_confmx_Transformer_tuning/checkpoints/_20230324_084026250/  ckpt_step2500_target_ausat_confmx0.0215.pth\n",
      "/Users/AFE/Dropbox/PYTHON/SPRTproject/PytorchMAUS_dev/logs/PTdev_offset2_0_optimausat_confmx_Transformer_tuning/checkpoints/_20230324_084026250/  ckpt_step3500_target_ausat_confmx0.0213.pth\n",
      "/Users/AFE/Dropbox/PYTHON/SPRTproject/PytorchMAUS_dev/logs/PTdev_offset2_0_optimausat_confmx_Transformer_tuning/checkpoints/_20230324_084026250/  ckpt_step4500_target_ausat_confmx0.0212.pth\n",
      "/Users/AFE/Dropbox/PYTHON/SPRTproject/PytorchMAUS_dev/logs/PTdev_offset2_0_optimausat_confmx_Transformer_tuning/checkpoints/_20230324_084026250/  ckpt_step5500_target_ausat_confmx0.0211.pth\n",
      "/Users/AFE/Dropbox/PYTHON/SPRTproject/PytorchMAUS_dev/logs/PTdev_offset2_0_optimausat_confmx_Transformer_tuning/checkpoints/_20230324_084026250/  ckpt_step6500_target_ausat_confmx0.0211.pth\n",
      "/Users/AFE/Dropbox/PYTHON/SPRTproject/PytorchMAUS_dev/logs/PTdev_offset2_0_optimausat_confmx_Transformer_tuning/checkpoints/_20230324_084026250/  ckpt_step7500_target_ausat_confmx0.0210.pth\n"
     ]
    },
    {
     "data": {
      "text/plain": [
       "[None, None, None, None, None, None, None]"
      ]
     },
     "execution_count": 59,
     "metadata": {},
     "output_type": "execute_result"
    }
   ],
   "source": [
    "models = keep_max_saved_models(model_path)\n",
    "[print(m) for m in models]\n",
    "# len(models)\n",
    "# print(models)"
   ]
  },
  {
   "cell_type": "code",
   "execution_count": 22,
   "id": "fc60a7a4",
   "metadata": {},
   "outputs": [
    {
     "ename": "IndexError",
     "evalue": "list index out of range",
     "output_type": "error",
     "traceback": [
      "\u001b[0;31m---------------------------------------------------------------------------\u001b[0m",
      "\u001b[0;31mIndexError\u001b[0m                                Traceback (most recent call last)",
      "Input \u001b[0;32mIn [22]\u001b[0m, in \u001b[0;36m<cell line: 1>\u001b[0;34m()\u001b[0m\n\u001b[0;32m----> 1\u001b[0m \u001b[43mmodels\u001b[49m\u001b[43m[\u001b[49m\u001b[38;5;241;43m9\u001b[39;49m\u001b[43m]\u001b[49m\n",
      "\u001b[0;31mIndexError\u001b[0m: list index out of range"
     ]
    }
   ],
   "source": []
  }
 ],
 "metadata": {
  "kernelspec": {
   "display_name": "Python 3 (ipykernel)",
   "language": "python",
   "name": "python3"
  },
  "language_info": {
   "codemirror_mode": {
    "name": "ipython",
    "version": 3
   },
   "file_extension": ".py",
   "mimetype": "text/x-python",
   "name": "python",
   "nbconvert_exporter": "python",
   "pygments_lexer": "ipython3",
   "version": "3.8.13"
  }
 },
 "nbformat": 4,
 "nbformat_minor": 5
}
