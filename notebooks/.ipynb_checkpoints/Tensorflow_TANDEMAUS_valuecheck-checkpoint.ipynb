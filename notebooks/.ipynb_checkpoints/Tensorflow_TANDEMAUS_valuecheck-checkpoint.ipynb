{
 "cells": [
  {
   "cell_type": "code",
   "execution_count": 1,
   "id": "913bb2b1",
   "metadata": {},
   "outputs": [
    {
     "name": "stderr",
     "output_type": "stream",
     "text": [
      "2023-03-20 04:45:26.391784: I tensorflow/core/platform/cpu_feature_guard.cc:193] This TensorFlow binary is optimized with oneAPI Deep Neural Network Library (oneDNN) to use the following CPU instructions in performance-critical operations:  AVX_VNNI\n",
      "To enable them in other operations, rebuild TensorFlow with the appropriate compiler flags.\n",
      "2023-03-20 04:45:26.478682: I tensorflow/core/util/port.cc:104] oneDNN custom operations are on. You may see slightly different numerical results due to floating-point round-off errors from different computation orders. To turn them off, set the environment variable `TF_ENABLE_ONEDNN_OPTS=0`.\n",
      "/usr/local/lib/python3.10/dist-packages/tqdm/auto.py:21: TqdmWarning: IProgress not found. Please update jupyter and ipywidgets. See https://ipywidgets.readthedocs.io/en/stable/user_install.html\n",
      "  from .autonotebook import tqdm as notebook_tqdm\n"
     ]
    }
   ],
   "source": [
    "import sys, os, pdb\n",
    "sys.path.append('/home/afe/Dropbox/PYTHON/SPRTproject/UrgingMAUS_tensorflow_TensorBook_20230309/')\n",
    "\n",
    "import numpy as np\n",
    "from tqdm import tqdm\n",
    "from termcolor import colored\n",
    "from loguru import logger\n",
    "import tensorflow as tf\n",
    "from config.config import config\n",
    "from utils.misc import grab_gpu, fix_random_seed, parse_args, extract_params_from_config\n",
    "from utils.logging import create_log_folders, save_config_info, ContexualLogger,\\\n",
    "                          save_sdre_imgs, log_training_results, TensorboardLogger\n",
    "from utils.hyperparameter_tuning import run_optuna, suggest_parameters_optuna, report_to_pruner\n",
    "from utils.checkpoint import checkpoint_logger, update_and_save_result, \\\n",
    "                             initialize_objectives, finalize_objectives, load_pretrained_weights\n",
    "from datasets.data_processing import SequentialDensityRatioData, slice_data \n",
    "from models.temporal_integrators import import_model\n",
    "from models.optimizers import initialize_optimizer\n",
    "from models.losses import compute_gradient, multiply_diff_mht\n",
    "from utils.performance_metrics import llr_sequential_confmx, seqconfmx_to_metrics,\\\n",
    "                                calc_llr_abserr, average_dicts\n",
    "\n",
    "savedir = '/home/afe/Dropbox/PYTHON/SPRTproject/PytorchMAUS_dev/notebooks/'\n",
    "x_batch = np.load(savedir + 'x_batch.npy')\n",
    "y_batch = np.load(savedir + 'y_batch.npy')"
   ]
  },
  {
   "cell_type": "code",
   "execution_count": 2,
   "id": "190b9b57",
   "metadata": {},
   "outputs": [
    {
     "name": "stderr",
     "output_type": "stream",
     "text": [
      "2023-03-20 04:45:27.908817: I tensorflow/compiler/xla/stream_executor/cuda/cuda_gpu_executor.cc:981] successful NUMA node read from SysFS had negative value (-1), but there must be at least one NUMA node, so returning NUMA node zero\n",
      "2023-03-20 04:45:27.925461: I tensorflow/compiler/xla/stream_executor/cuda/cuda_gpu_executor.cc:981] successful NUMA node read from SysFS had negative value (-1), but there must be at least one NUMA node, so returning NUMA node zero\n",
      "2023-03-20 04:45:27.925603: I tensorflow/compiler/xla/stream_executor/cuda/cuda_gpu_executor.cc:981] successful NUMA node read from SysFS had negative value (-1), but there must be at least one NUMA node, so returning NUMA node zero\n",
      "2023-03-20 04:45:27.926171: I tensorflow/core/platform/cpu_feature_guard.cc:193] This TensorFlow binary is optimized with oneAPI Deep Neural Network Library (oneDNN) to use the following CPU instructions in performance-critical operations:  AVX_VNNI\n",
      "To enable them in other operations, rebuild TensorFlow with the appropriate compiler flags.\n",
      "2023-03-20 04:45:27.926770: I tensorflow/compiler/xla/stream_executor/cuda/cuda_gpu_executor.cc:981] successful NUMA node read from SysFS had negative value (-1), but there must be at least on"
     ]
    },
    {
     "name": "stdout",
     "output_type": "stream",
     "text": [
      "x_slice.shape=TensorShape([4900, 2, 128])\n",
      "y_slice.shape=TensorShape([4900])\n"
     ]
    },
    {
     "name": "stderr",
     "output_type": "stream",
     "text": [
      "e NUMA node, so returning NUMA node zero\n",
      "2023-03-20 04:45:27.926867: I tensorflow/compiler/xla/stream_executor/cuda/cuda_gpu_executor.cc:981] successful NUMA node read from SysFS had negative value (-1), but there must be at least one NUMA node, so returning NUMA node zero\n",
      "2023-03-20 04:45:27.926926: I tensorflow/compiler/xla/stream_executor/cuda/cuda_gpu_executor.cc:981] successful NUMA node read from SysFS had negative value (-1), but there must be at least one NUMA node, so returning NUMA node zero\n",
      "2023-03-20 04:45:28.250731: I tensorflow/compiler/xla/stream_executor/cuda/cuda_gpu_executor.cc:981] successful NUMA node read from SysFS had negative value (-1), but there must be at least one NUMA node, so returning NUMA node zero\n",
      "2023-03-20 04:45:28.250851: I tensorflow/compiler/xla/stream_executor/cuda/cuda_gpu_executor.cc:981] successful NUMA node read from SysFS had negative value (-1), but there must be at least one NUMA node, so returning NUMA node zero\n",
      "2023-03-20 04:45:28.250917: I tensorflow/compiler/xla/stream_executor/cuda/cuda_gpu_executor.cc:981] successful NUMA node read from SysFS had negative value (-1), but there must be at least one NUMA node, so returning NUMA node zero\n",
      "2023-03-20 04:45:28.250977: I tensorflow/core/common_runtime/gpu/gpu_device.cc:1613] Created device /job:localhost/replica:0/task:0/device:GPU:0 with 12901 MB memory:  -> device: 0, name: NVIDIA GeForce RTX 3080 Ti Laptop GPU, pci bus id: 0000:01:00.0, compute capability: 8.6\n"
     ]
    }
   ],
   "source": [
    "from datasets.data_processing import sequential_slice\n",
    "# check if necessary parameters are defined in the config file\n",
    "requirements = set(['ORDER_SPRT', 'TIME_STEPS', 'OBLIVIOUS', 'AUCLOSS_VERSION', 'AUCLOSS_BURNIN', 'NUM_THRESH',\n",
    "    'SPARSITY', 'BETA', 'IS_MULT_SAT', 'IS_URGENT', 'IS_ADAPTIVE_LOSS', 'URGENCY_LEVEL',\n",
    "    'PARAM_MULTIPLET_LOSS', 'PARAM_LLR_LOSS', 'PARAM_AUSAT_LOSS', 'LLLR_VERSION', 'WEIGHT_DECAY'])\n",
    "conf = extract_params_from_config(requirements, config)\n",
    "\n",
    "x_slice, y_slice = sequential_slice(x_batch, y_batch, conf.order_sprt)\n",
    "print(f'{x_slice.shape=}')\n",
    "print(f'{y_slice.shape=}')\n",
    "np.save(savedir + 'x_slice_TF.npy', x_slice)\n",
    "np.save(savedir + 'y_slice_TF.npy', y_slice)"
   ]
  },
  {
   "cell_type": "code",
   "execution_count": 3,
   "id": "b3647687",
   "metadata": {},
   "outputs": [
    {
     "name": "stdout",
     "output_type": "stream",
     "text": [
      "PT and TF results match!\n",
      "[[[ 0.16370425  0.5741888  -0.4848365  ... -0.86457056  0.14501375\n",
      "    0.9436224 ]\n",
      "  [-0.54173386 -0.15318052  3.5073392  ... -0.67475533 -0.56414104\n",
      "    1.2419622 ]]\n",
      "\n",
      " [[ 2.0803297  -0.07346465  1.3202897  ... -1.3979712  -1.26429\n",
      "    2.2119222 ]\n",
      "  [-0.70698017 -0.07445432  0.08615594 ... -1.1318005  -0.27447444\n",
      "    0.5993436 ]]\n",
      "\n",
      " [[-0.19998965  3.3095918  -0.1548852  ...  0.6074274   0.05605913\n",
      "   -0.741942  ]\n",
      "  [ 0.82279444  1.7102306   0.7654094  ... -3.0661192   0.80351925\n",
      "   -0.1781327 ]]\n",
      "\n",
      " ...\n",
      "\n",
      " [[ 2.6247263   0.86150134 -0.15601724 ... -0.31768614  0.3448223\n",
      "   -1.808593  ]\n",
      "  [ 1.5724112  -0.2712877  -1.5607105  ... -0.5778886   0.08455385\n",
      "   -1.7099581 ]]\n",
      "\n",
      " [[ 0.35479686  0.70372665 -0.09138475 ... -1.0122395   0.4580346\n",
      "    0.1904615 ]\n",
      "  [ 3.6175275  -1.5764507  -0.1158153  ...  0.8846659  -0.18042397\n",
      "   -0.30463532]]\n",
      "\n",
      " [[ 3.4331367   1.6218872  -1.4687872  ...  0.3472763   0.28019488\n",
      "   -0.7901726 ]\n",
      "  [ 1.83578     0.65778285  0.80035716 ... -0.05756726 -0.07559744\n",
      "   -0.9132388 ]]]\n",
      "PT and TF results match!\n",
      "[2 1 1 ... 0 0 0]\n"
     ]
    }
   ],
   "source": [
    "import torch\n",
    "\n",
    "def assert_tf_pt_results(tf_tensor, pt_tensor):\n",
    "    def assert_results(tf_mat, pt_mat):\n",
    "        if np.allclose(tf_mat, pt_mat):\n",
    "            print(f'PT and TF results match!\\n{pt_mat}')\n",
    "        else:\n",
    "            raise ValueError('PT and TF results are different!!!')\n",
    "                       \n",
    "    if isinstance(tf_tensor, tuple) and isinstance(pt_tensor, tuple):\n",
    "        if len(tf_tensor) != len(pt_tensor):\n",
    "            raise ValueError(\"Two tuples have different lengths.\")\n",
    "        for tf_mat, pt_mat in zip(tf_tensor, pt_tensor):\n",
    "            assert_tf_pt_results(tf_mat, pt_mat)\n",
    "    else:\n",
    "        assert_results(tf_tensor, pt_tensor)\n",
    "\n",
    "x_slice_PT = np.load('x_slice_PT.npy')\n",
    "y_slice_PT = np.load('y_slice_PT.npy')\n",
    "\n",
    "assert_tf_pt_results((x_slice, y_slice), (x_slice_PT, y_slice_PT))"
   ]
  },
  {
   "cell_type": "code",
   "execution_count": 4,
   "id": "bf726e29",
   "metadata": {},
   "outputs": [],
   "source": [
    "config['IS_RESUME'] = True\n",
    "config['PATH_RESUME'] = '/home/afe/Dropbox/PYTHON/SPRTproject/UrgingMAUS_tensorflow_TensorBook_20230309/logs/1offset2.0_optimausat_confmx_LSTM_try/checkpoints/_20230316_005300302' "
   ]
  },
  {
   "cell_type": "code",
   "execution_count": 5,
   "id": "3503829b",
   "metadata": {},
   "outputs": [
    {
     "name": "stdout",
     "output_type": "stream",
     "text": [
      "WARNING:tensorflow:Layer lstm will not use cuDNN kernels since it doesn't meet the criteria. It will use a generic GPU kernel as fallback when running on GPU.\n"
     ]
    },
    {
     "name": "stderr",
     "output_type": "stream",
     "text": [
      "2023-03-20 04:45:29.115 | INFO     | models.temporal_integrators:summarize_model:188 - \n",
      ":'######::'########::'########::'########::::::::::::::::::::::\n",
      "'##... ##: ##.... ##: ##.... ##:... ##..:::::::::::::::::::::::\n",
      " ##:::..:: ##:::: ##: ##:::: ##:::: ##:::::::::::::::::::::::::\n",
      ". ######:: ########:: ########::::: ##::::'#######:::::::::::::\n",
      ":..... ##: ##.....::: ##.. ##:::::: ##::::........:::::::::::::\n",
      "'##::: ##: ##:::::::: ##::. ##::::: ##:::::::::::::::::::::::::\n",
      ". ######:: ##:::::::: ##:::. ##:::: ##:::::::::::::::::::::::::\n",
      ":......:::..:::::::::..:::::..:::::..::::::::::::::::::::::::::\n",
      "'########::::'###::::'##::: ##:'########::'########:'##::::'##:\n",
      "... ##..::::'## ##::: ###:: ##: ##.... ##: ##.....:: ###::'###:\n",
      "::: ##:::::'##:. ##:: ####: ##: ##:::: ##: ##::::::: ####'####:\n",
      "::: ##::::'##:::. ##: ## ## ##: ##:::: ##: ######::: ## ### ##:\n",
      "::: ##:::: #########: ##. ####: ##:::: ##: ##...:::: ##. #: ##:\n",
      "::: ##:::: ##.... ##: ##:. ###: ##:::: ##: ##::::::: ##:.:: ##:\n",
      "::: ##:::: ##:::: ##: ##::. ##: ########:: ########: ##:::: ##:\n",
      ":::..:::::..:::::..::..::::..::........:::........::..:::::..::\n",
      "\n"
     ]
    },
    {
     "name": "stdout",
     "output_type": "stream",
     "text": [
      "Model: \"B2BsqrtTANDEM\"\n",
      "_________________________________________________________________\n",
      " Layer (type)                Output Shape              Param #   \n",
      "=================================================================\n",
      " lstm (LSTM)                 multiple                  49408     \n",
      "                                                                 \n",
      " activation_2 (Activation)   multiple                  0         \n",
      "                                                                 \n",
      " dense (Dense)               multiple                  195       \n",
      "                                                                 \n",
      " activation_3 (Activation)   multiple                  0         \n",
      "                                                                 \n",
      " dense_1 (Dense)             multiple                  65        \n",
      "                                                                 \n",
      "=================================================================\n",
      "Total params: 49,928\n",
      "Trainable params: 49,928\n",
      "Non-trainable params: 0\n",
      "_________________________________________________________________\n"
     ]
    },
    {
     "name": "stderr",
     "output_type": "stream",
     "text": [
      "2023-03-20 04:45:29.199 | INFO     | models.temporal_integrators:summarize_model:192 - None\n",
      "2023-03-20 04:45:29.220 | INFO     | utils.checkpoint:load_pretrained_weights:108 - Restored latest model\n",
      "/home/afe/Dropbox/PYTHON/SPRTproject/UrgingMAUS_tensorflow_TensorBook_20230309/logs/1offset2.0_optimausat_confmx_LSTM_try/checkpoints/_20230316_005300302/ckpt_step4500_targetausat_confmx0.0210-5\n"
     ]
    },
    {
     "name": "stdout",
     "output_type": "stream",
     "text": [
      "WARNING:tensorflow:Detecting that an object or model or tf.train.Checkpoint is being deleted with unrestored values. See the following logs for the specific values in question. To silence these warnings, use `status.expect_partial()`. See https://www.tensorflow.org/api_docs/python/tf/train/Checkpoint#restorefor details about the status object returned by the restore function.\n",
      "WARNING:tensorflow:Value in checkpoint could not be found in the restored object: (root).optimizer.iter\n",
      "WARNING:tensorflow:Value in checkpoint could not be found in the restored object: (root).optimizer.beta_1\n",
      "WARNING:tensorflow:Value in checkpoint could not be found in the restored object: (root).optimizer.beta_2\n",
      "WARNING:tensorflow:Value in checkpoint could not be found in the restored object: (root).optimizer.decay\n",
      "WARNING:tensorflow:Value in checkpoint could not be found in the restored object: (root).optimizer.weight_decay\n",
      "WARNING:tensorflow:Value in checkpoint could not be found in the restored object: (root).optimizer's state 'm' for (root).net.trainable_pos_encoding\n",
      "WARNING:tensorflow:Value in checkpoint could not be found in the restored object: (root).optimizer's state 'm' for (root).net.adaptive_loss_weights\n",
      "WARNING:tensorflow:Value in checkpoint could not be found in the restored object: (root).optimizer's state 'm' for (root).net.fc_logit.kernel\n",
      "WARNING:tensorflow:Value in checkpoint could not be found in the restored object: (root).optimizer's state 'm' for (root).net.fc_logit.bias\n",
      "WARNING:tensorflow:Value in checkpoint could not be found in the restored object: (root).optimizer's state 'm' for (root).net.fc_urgency.kernel\n",
      "WARNING:tensorflow:Value in checkpoint could not be found in the restored object: (root).optimizer's state 'm' for (root).net.fc_urgency.bias\n",
      "WARNING:tensorflow:Value in checkpoint could not be found in the restored object: (root).optimizer's state 'm' for (root).net.rnn.cell.kernel\n",
      "WARNING:tensorflow:Value in checkpoint could not be found in the restored object: (root).optimizer's state 'm' for (root).net.rnn.cell.recurrent_kernel\n",
      "WARNING:tensorflow:Value in checkpoint could not be found in the restored object: (root).optimizer's state 'm' for (root).net.rnn.cell.bias\n",
      "WARNING:tensorflow:Value in checkpoint could not be found in the restored object: (root).optimizer's state 'v' for (root).net.trainable_pos_encoding\n",
      "WARNING:tensorflow:Value in checkpoint could not be found in the restored object: (root).optimizer's state 'v' for (root).net.adaptive_loss_weights\n",
      "WARNING:tensorflow:Value in checkpoint could not be found in the restored object: (root).optimizer's state 'v' for (root).net.fc_logit.kernel\n",
      "WARNING:tensorflow:Value in checkpoint could not be found in the restored object: (root).optimizer's state 'v' for (root).net.fc_logit.bias\n",
      "WARNING:tensorflow:Value in checkpoint could not be found in the restored object: (root).optimizer's state 'v' for (root).net.fc_urgency.kernel\n",
      "WARNING:tensorflow:Value in checkpoint could not be found in the restored object: (root).optimizer's state 'v' for (root).net.fc_urgency.bias\n",
      "WARNING:tensorflow:Value in checkpoint could not be found in the restored object: (root).optimizer's state 'v' for (root).net.rnn.cell.kernel\n",
      "WARNING:tensorflow:Value in checkpoint could not be found in the restored object: (root).optimizer's state 'v' for (root).net.rnn.cell.recurrent_kernel\n",
      "WARNING:tensorflow:Value in checkpoint could not be found in the restored object: (root).optimizer's state 'v' for (root).net.rnn.cell.bias\n",
      "logits_slice.shape=TensorShape([4900, 2, 3])\n",
      "urgency_signal.shape=TensorShape([4900, 2, 1])\n"
     ]
    },
    {
     "name": "stderr",
     "output_type": "stream",
     "text": [
      "2023-03-20 04:45:29.826435: I tensorflow/compiler/xla/stream_executor/cuda/cuda_blas.cc:630] TensorFloat-32 will be used for the matrix multiplication. This will only be logged once.\n"
     ]
    }
   ],
   "source": [
    "model = import_model(config) # setup the network \n",
    "load_pretrained_weights(model, config)\n",
    "\n",
    "logits_slice, urgency_signal = model(x_slice, training=False)\n",
    "print(f'{logits_slice.shape=}')\n",
    "print(f'{urgency_signal.shape=}')"
   ]
  },
  {
   "cell_type": "code",
   "execution_count": 6,
   "id": "ab684be0",
   "metadata": {},
   "outputs": [
    {
     "name": "stdout",
     "output_type": "stream",
     "text": [
      "tf.Tensor(\n",
      "[[-0.06499434  0.60015255 -1.3653568 ]\n",
      " [-2.720493   -1.459363    3.4986923 ]], shape=(2, 3), dtype=float32)\n",
      "tf.Tensor(\n",
      "[[-0.06499434  0.60015255 -1.3653568 ]\n",
      " [-2.720493   -1.459363    3.4986923 ]], shape=(2, 3), dtype=float32)\n",
      "<dtype: 'float32'>\n"
     ]
    },
    {
     "data": {
      "text/plain": [
       "array([[-0.06499434,  0.60015255, -1.3653568 ],\n",
       "       [-2.720493  , -1.459363  ,  3.4986923 ]], dtype=float32)"
      ]
     },
     "execution_count": 6,
     "metadata": {},
     "output_type": "execute_result"
    }
   ],
   "source": [
    "np.save(savedir + 'logits_slice_gt.npy', logits_slice.numpy())\n",
    "print(logits_slice[0])\n",
    "print(tf.convert_to_tensor(logits_slice.numpy())[0])\n",
    "print(logits_slice.dtype)\n",
    "np.load(savedir + 'logits_slice_gt.npy')[0]"
   ]
  },
  {
   "cell_type": "code",
   "execution_count": 7,
   "id": "b65aae9e",
   "metadata": {},
   "outputs": [
    {
     "data": {
      "text/plain": [
       "<tf.Tensor: shape=(4900, 2, 1), dtype=float32, numpy=\n",
       "array([[[ 0.04914909],\n",
       "        [-0.1551084 ]],\n",
       "\n",
       "       [[-0.30673984],\n",
       "        [-0.1222848 ]],\n",
       "\n",
       "       [[ 0.22035655],\n",
       "        [ 0.35817617]],\n",
       "\n",
       "       ...,\n",
       "\n",
       "       [[-0.09406511],\n",
       "        [ 0.03554431]],\n",
       "\n",
       "       [[ 0.08120986],\n",
       "        [-0.4121484 ]],\n",
       "\n",
       "       [[ 0.10946895],\n",
       "        [-0.13975039]]], dtype=float32)>"
      ]
     },
     "execution_count": 7,
     "metadata": {},
     "output_type": "execute_result"
    }
   ],
   "source": [
    "urgency_signal"
   ]
  },
  {
   "cell_type": "code",
   "execution_count": 8,
   "id": "657d7b2a",
   "metadata": {},
   "outputs": [
    {
     "name": "stdout",
     "output_type": "stream",
     "text": [
      "logits_slice.shape=TensorShape([4900, 2, 3])\n",
      "y_slice.shape=TensorShape([4900])\n",
      "logits_concat.shape=TensorShape([100, 49, 2, 3])\n",
      "labels_concat.shape=TensorShape([100])\n"
     ]
    }
   ],
   "source": [
    "print(f'{logits_slice.shape=}')\n",
    "print(f'{y_slice.shape=}')\n",
    "from datasets.data_processing import sequential_concat, sequential_concat_with_urgency_signal\n",
    "# sequential_concat(logits_slice, y_slice)\n",
    "logits_concat, labels_concat, u_sgnl_concat = sequential_concat_with_urgency_signal(\n",
    "            logits_slice, y_slice, urgency_signal, duration=conf.time_steps)\n",
    "# logits_concat, labels_concat = sequential_concat(\n",
    "#             logits_slice, y_slice, duration=conf.time_steps)\n",
    "print(f'{logits_concat.shape=}')\n",
    "print(f'{labels_concat.shape=}')\n",
    "# np.save(savedir + 'logits_concat_TF.npy', logits_concat)\n",
    "# np.save(savedir + 'labels_concat_TF.npy', labels_concat)"
   ]
  },
  {
   "cell_type": "code",
   "execution_count": 9,
   "id": "d379de81",
   "metadata": {},
   "outputs": [
    {
     "data": {
      "text/plain": [
       "<tf.Tensor: shape=(100, 49, 2, 3), dtype=float32, numpy=\n",
       "array([[[[-0.06499434,  0.60015255, -1.3653568 ],\n",
       "         [-2.720493  , -1.459363  ,  3.4986923 ]],\n",
       "\n",
       "        [[-2.220338  , -1.8718129 ,  3.642439  ],\n",
       "         [-4.9701467 , -2.2849998 ,  6.42815   ]],\n",
       "\n",
       "        [[-2.9316232 , -0.19249456,  1.656523  ],\n",
       "         [-5.750571  , -1.2105951 ,  5.5725994 ]],\n",
       "\n",
       "        ...,\n",
       "\n",
       "        [[-1.2453299 , -1.7959933 ,  2.741552  ],\n",
       "         [-3.5493243 , -1.2059824 ,  3.7326155 ]],\n",
       "\n",
       "        [[-2.0879438 ,  0.7450254 , -0.08715518],\n",
       "         [-4.747106  , -1.77925   ,  5.65777   ]],\n",
       "\n",
       "        [[-2.661135  , -2.0751657 ,  4.1287093 ],\n",
       "         [-5.3226943 , -3.1284797 ,  8.078306  ]]],\n",
       "\n",
       "\n",
       "       [[[ 1.6261766 , -1.8567312 ,  0.27719057],\n",
       "         [ 1.2669656 , -2.3043385 ,  0.7809819 ]],\n",
       "\n",
       "        [[-0.96555513,  0.03079113,  0.15950999],\n",
       "         [-1.5430949 ,  3.1973486 , -1.9589733 ]],\n",
       "\n",
       "        [[-0.811997  ,  2.3285937 , -1.9145348 ],\n",
       "         [-1.959365  ,  4.916581  , -4.0246177 ]],\n",
       "\n",
       "        ...,\n",
       "\n",
       "        [[-0.52181226,  3.2184944 , -3.5571036 ],\n",
       "         [-2.891297  ,  5.4156294 , -4.254747  ]],\n",
       "\n",
       "        [[-2.433013  ,  1.0625844 ,  0.30765095],\n",
       "         [-3.91027   ,  4.8458934 , -1.9945941 ]],\n",
       "\n",
       "        [[-1.3812107 ,  2.6843317 , -2.1067834 ],\n",
       "         [-3.1525152 ,  5.6736894 , -3.9826138 ]]],\n",
       "\n",
       "\n",
       "       [[[-2.0738564 ,  3.30974   , -2.1541696 ],\n",
       "         [-3.2070036 ,  5.506826  , -3.6617186 ]],\n",
       "\n",
       "        [[-0.72687626,  0.79949445, -0.83688045],\n",
       "         [-0.13320737,  1.0746087 , -1.2787822 ]],\n",
       "\n",
       "        [[ 0.37772304, -0.37363237, -0.44612035],\n",
       "         [-3.4217613 ,  5.155865  , -2.9849842 ]],\n",
       "\n",
       "        ...,\n",
       "\n",
       "        [[-1.4655777 ,  1.8085533 , -1.2875303 ],\n",
       "         [-4.296036  ,  5.540853  , -2.6331291 ]],\n",
       "\n",
       "        [[-2.7443917 ,  2.8925185 , -1.2486377 ],\n",
       "         [-4.6132216 ,  5.5332665 , -2.3269708 ]],\n",
       "\n",
       "        [[-1.784937  ,  1.7023301 , -0.7371887 ],\n",
       "         [-2.063016  ,  2.872097  , -1.839245  ]]],\n",
       "\n",
       "\n",
       "       ...,\n",
       "\n",
       "\n",
       "       [[[ 2.3581402 , -1.6464753 , -1.0868003 ],\n",
       "         [ 5.090144  , -3.5748203 , -1.1026005 ]],\n",
       "\n",
       "        [[ 2.0652673 , -1.8493943 , -0.05810548],\n",
       "         [ 1.647361  , -3.7581594 ,  1.8261594 ]],\n",
       "\n",
       "        [[-1.0596511 , -1.3543851 ,  1.8644562 ],\n",
       "         [ 2.958742  , -1.8046738 , -0.80098045]],\n",
       "\n",
       "        ...,\n",
       "\n",
       "        [[ 2.1450064 ,  0.20101033, -2.3628192 ],\n",
       "         [ 4.3400583 , -1.610714  , -2.5613744 ]],\n",
       "\n",
       "        [[ 1.1779611 , -1.8171709 ,  0.5080067 ],\n",
       "         [ 4.7904396 , -2.3938565 , -1.7479581 ]],\n",
       "\n",
       "        [[ 2.4534085 , -0.59507066, -2.028721  ],\n",
       "         [ 5.5854135 , -1.1756222 , -4.600143  ]]],\n",
       "\n",
       "\n",
       "       [[[ 0.7120874 , -2.4582694 ,  1.5308616 ],\n",
       "         [ 2.0519683 , -5.682696  ,  3.2398396 ]],\n",
       "\n",
       "        [[ 1.2458305 , -3.0487547 ,  1.3003654 ],\n",
       "         [ 3.2707143 , -3.9448767 ,  1.1742525 ]],\n",
       "\n",
       "        [[ 1.6295888 , -1.2420675 , -0.09397142],\n",
       "         [ 2.000925  , -1.7072608 , -0.37010092]],\n",
       "\n",
       "        ...,\n",
       "\n",
       "        [[ 2.6071672 , -1.8744112 , -0.8323461 ],\n",
       "         [ 7.141507  , -3.9579706 , -2.4989972 ]],\n",
       "\n",
       "        [[ 3.4862514 , -1.7623864 , -1.4272724 ],\n",
       "         [ 4.5803638 , -1.6617237 , -3.1816587 ]],\n",
       "\n",
       "        [[-0.23382422,  0.2832914 , -1.0889038 ],\n",
       "         [ 6.198626  , -3.281816  , -2.271042  ]]],\n",
       "\n",
       "\n",
       "       [[[ 2.1779368 , -1.6680483 , -0.29275748],\n",
       "         [ 4.474867  , -0.6335718 , -3.5565946 ]],\n",
       "\n",
       "        [[ 1.0892045 ,  1.4208069 , -2.993326  ],\n",
       "         [ 3.3772562 ,  1.9327483 , -6.2879643 ]],\n",
       "\n",
       "        [[ 1.7986119 ,  0.12553933, -2.509628  ],\n",
       "         [ 4.9823275 , -1.4131421 , -3.975765  ]],\n",
       "\n",
       "        ...,\n",
       "\n",
       "        [[ 1.4315287 ,  0.24505417, -2.2287514 ],\n",
       "         [ 5.478398  , -2.2773757 , -3.1459744 ]],\n",
       "\n",
       "        [[ 2.7511868 , -2.2207916 , -0.7086128 ],\n",
       "         [ 7.326549  , -2.2345777 , -4.7153373 ]],\n",
       "\n",
       "        [[ 3.2205703 ,  0.15165786, -3.7751188 ],\n",
       "         [ 5.7678046 , -0.78911316, -4.967164  ]]]], dtype=float32)>"
      ]
     },
     "execution_count": 9,
     "metadata": {},
     "output_type": "execute_result"
    }
   ],
   "source": [
    "logits_concat"
   ]
  },
  {
   "cell_type": "code",
   "execution_count": 10,
   "id": "9bab624f",
   "metadata": {},
   "outputs": [],
   "source": [
    "# import tensorflow as tf\n",
    "\n",
    "# # Create a 4-dimensional tensor with shape (3, 2, 4, 5)\n",
    "# x_concat = tf.ones((3, 2, 4, 5))\n",
    "\n",
    "# # Transpose the tensor along its dimensions\n",
    "# x_transposed = tf.transpose(x_concat, [1, 0, 2, 3])\n",
    "\n",
    "# # Print the shapes of the original and transposed tensors\n",
    "# print(x_concat.shape)  # (3, 2, 4, 5)\n",
    "# print(x_transposed.shape)  # (2, 3, 4, 5)\n"
   ]
  },
  {
   "cell_type": "code",
   "execution_count": 11,
   "id": "18f79d17",
   "metadata": {},
   "outputs": [
    {
     "name": "stdout",
     "output_type": "stream",
     "text": [
      "lllr=<tf.Tensor: shape=(), dtype=float32, numpy=0.01843727>\n",
      "llrs.shape=TensorShape([100, 50, 3, 3])\n"
     ]
    }
   ],
   "source": [
    "from models.losses import lllr_with_urgency_signal, calc_ausat_loss\n",
    "\n",
    "lllr, llrs, llrs_ugnt, u_sgnl = lllr_with_urgency_signal(\n",
    "        logits_concat, labels_concat, u_sgnl_concat, \n",
    "        conf.oblivious, conf.lllr_version, conf.is_urgent) \n",
    "print(f'{lllr=}')\n",
    "print(f'{llrs.shape=}')\n",
    "# np.save(savedir + 'lllr.npy', lllr.numpy())\n",
    "# np.save(savedir + 'llrs.npy', llrs.numpy())"
   ]
  },
  {
   "cell_type": "code",
   "execution_count": 12,
   "id": "38431b49",
   "metadata": {},
   "outputs": [
    {
     "name": "stdout",
     "output_type": "stream",
     "text": [
      "tf.Tensor(\n",
      "[ -1.3003625   6.2191854  11.754704   18.489727   23.805212   26.231071\n",
      "  27.09052    31.403019   34.08329    35.54953    33.57953    36.74575\n",
      "  42.147926   45.915623   51.454033   52.938625   55.8309     59.315086\n",
      "  61.317795   68.37198    72.81691    75.01668    79.102036   83.99129\n",
      "  88.662735   88.64564    92.9828     96.33745   100.51738   104.349915\n",
      " 103.92542   107.15289   111.34652   116.32718   120.01403   125.370476\n",
      " 128.0871    135.0338    141.58867   144.40689   143.36133   146.27504\n",
      " 152.49966   155.559     163.42487   162.87512   167.09401   170.38907\n",
      " 178.79317   185.40433  ], shape=(50,), dtype=float32)\n"
     ]
    },
    {
     "data": {
      "image/png": "[encoded data removed]",
      "text/plain": [
       "<Figure size 432x288 with 1 Axes>"
      ]
     },
     "metadata": {
      "needs_background": "light"
     },
     "output_type": "display_data"
    }
   ],
   "source": [
    "import matplotlib.pyplot as plt\n",
    "from jupyterthemes import jtplot\n",
    "jtplot.reset()\n",
    "\n",
    "plt.plot(np.mean(llrs.numpy()[labels_concat==1, :, 1, 0], axis=0))\n",
    "print(llrs[0, :, labels_concat[0], 0])"
   ]
  },
  {
   "cell_type": "code",
   "execution_count": 13,
   "id": "8d21a45a",
   "metadata": {
    "scrolled": true
   },
   "outputs": [
    {
     "name": "stdout",
     "output_type": "stream",
     "text": [
      "tf.Tensor(0.021918952, shape=(), dtype=float32)\n"
     ]
    }
   ],
   "source": [
    "# AUC loss\n",
    "aucsat_loss, mht, acc_eta_sat, sns_from_confmx, thresholds = calc_ausat_loss(\n",
    "    conf.aucloss_version, conf.is_mult_sat, conf.num_thresh, conf.sparsity,\n",
    "    llrs_ugnt, labels_concat, conf.beta, conf.time_steps)\n",
    "aucsat_loss = 0. if 0 < conf.aucloss_burnin else aucsat_loss \n",
    "print(aucsat_loss)\n",
    "np.save(savedir + 'mht_TF.npy', mht)\n",
    "np.save(savedir + 'acc_eta_sat_TF.npy', acc_eta_sat)\n",
    "np.save(savedir + 'sns_from_confmx_TF.npy', sns_from_confmx)\n",
    "np.save(savedir + 'thresholds_TF.npy', thresholds)"
   ]
  },
  {
   "cell_type": "code",
   "execution_count": 14,
   "id": "2f1b2f02",
   "metadata": {},
   "outputs": [
    {
     "name": "stdout",
     "output_type": "stream",
     "text": [
      "threshold.shape=TensorShape([1000, 50, 3, 3])\n"
     ]
    },
    {
     "data": {
      "text/plain": [
       "<matplotlib.colorbar.Colorbar at 0x7fcc00bfb160>"
      ]
     },
     "execution_count": 14,
     "metadata": {},
     "output_type": "execute_result"
    },
    {
     "data": {
      "image/png": "[encoded data removed]",
      "text/plain": [
       "<Figure size 1296x720 with 4 Axes>"
      ]
     },
     "metadata": {
      "needs_background": "light"
     },
     "output_type": "display_data"
    }
   ],
   "source": [
    "from utils.performance_metrics import threshold_generator\n",
    "\n",
    "threshold = threshold_generator(llrs, config['NUM_THRESH'], config['SPARSITY'])\n",
    "print(f'{threshold.shape=}')\n",
    "\n",
    "plt.figure(figsize=(18, 10))\n",
    "plt.subplot(1,2,1)\n",
    "plt.imshow(np.mean(threshold.numpy(), axis=(2, 3)), aspect='auto')\n",
    "plt.colorbar()\n",
    "plt.subplot(1,2,2)\n",
    "plt.imshow(np.mean(threshold.numpy(), axis=(0, 1)), aspect='auto')\n",
    "plt.colorbar()"
   ]
  },
  {
   "cell_type": "code",
   "execution_count": 15,
   "id": "e887c89a",
   "metadata": {},
   "outputs": [
    {
     "data": {
      "text/plain": [
       "<tf.Tensor: shape=(100, 50, 3, 3), dtype=float32, numpy=\n",
       "array([[[[ 0.0000000e+00, -6.6514689e-01,  1.3003625e+00],\n",
       "         [ 6.6514689e-01,  0.0000000e+00,  1.9655094e+00],\n",
       "         [-1.3003625e+00, -1.9655094e+00,  0.0000000e+00]],\n",
       "\n",
       "        [[ 0.0000000e+00, -1.2611301e+00, -6.2191854e+00],\n",
       "         [ 1.2611301e+00,  0.0000000e+00, -4.9580555e+00],\n",
       "         [ 6.2191854e+00,  4.9580555e+00,  0.0000000e+00]],\n",
       "\n",
       "        [[ 0.0000000e+00, -3.5977516e+00, -1.1754704e+01],\n",
       "         [ 3.5977516e+00,  0.0000000e+00, -8.1569538e+00],\n",
       "         [ 1.1754704e+01,  8.1569538e+00,  0.0000000e+00]],\n",
       "\n",
       "        ...,\n",
       "\n",
       "        [[ 0.0000000e+00,  6.6524391e+00, -1.7038907e+02],\n",
       "         [-6.6524391e+00,  0.0000000e+00, -1.7704144e+02],\n",
       "         [ 1.7038907e+02,  1.7704144e+02,  0.0000000e+00]],\n",
       "\n",
       "        [[ 0.0000000e+00,  6.5175533e+00, -1.7879317e+02],\n",
       "         [-6.5175533e+00,  0.0000000e+00, -1.8531064e+02],\n",
       "         [ 1.7879317e+02,  1.8531064e+02,  0.0000000e+00]],\n",
       "\n",
       "        [[ 0.0000000e+00,  4.9093075e+00, -1.8540433e+02],\n",
       "         [-4.9093075e+00,  0.0000000e+00, -1.9031355e+02],\n",
       "         [ 1.8540433e+02,  1.9031355e+02,  0.0000000e+00]]],\n",
       "\n",
       "\n",
       "       [[[ 0.0000000e+00,  3.4829078e+00,  1.3489860e+00],\n",
       "         [-3.4829078e+00,  0.0000000e+00, -2.1339216e+00],\n",
       "         [-1.3489860e+00,  2.1339216e+00,  0.0000000e+00]],\n",
       "\n",
       "        [[ 0.0000000e+00,  3.5713041e+00,  4.8598373e-01],\n",
       "         [-3.5713041e+00,  0.0000000e+00, -3.0853205e+00],\n",
       "         [-4.8598373e-01,  3.0853205e+00,  0.0000000e+00]],\n",
       "\n",
       "        [[ 0.0000000e+00, -1.7279291e-01,  2.0269272e+00],\n",
       "         [ 1.7279291e-01,  0.0000000e+00,  2.1997204e+00],\n",
       "         [-2.0269272e+00, -2.1997204e+00,  0.0000000e+00]],\n",
       "\n",
       "        ...,\n",
       "\n",
       "        [[ 0.0000000e+00, -1.9953177e+02,  1.8064666e-01],\n",
       "         [ 1.9953177e+02,  0.0000000e+00,  1.9971231e+02],\n",
       "         [-1.8064666e-01, -1.9971231e+02,  0.0000000e+00]],\n",
       "\n",
       "        [[ 0.0000000e+00, -2.0479234e+02,  1.0056348e+00],\n",
       "         [ 2.0479234e+02,  0.0000000e+00,  2.0579787e+02],\n",
       "         [-1.0056348e+00, -2.0579787e+02,  0.0000000e+00]],\n",
       "\n",
       "        [[ 0.0000000e+00, -2.0955301e+02,  1.1101607e+00],\n",
       "         [ 2.0955301e+02,  0.0000000e+00,  2.1066306e+02],\n",
       "         [-1.1101607e+00, -2.1066306e+02,  0.0000000e+00]]],\n",
       "\n",
       "\n",
       "       [[[ 0.0000000e+00, -5.3835964e+00,  8.0313206e-02],\n",
       "         [ 5.3835964e+00,  0.0000000e+00,  5.4639096e+00],\n",
       "         [-8.0313206e-02, -5.4639096e+00,  0.0000000e+00]],\n",
       "\n",
       "        [[ 0.0000000e+00, -8.7138290e+00,  4.5471501e-01],\n",
       "         [ 8.7138290e+00,  0.0000000e+00,  9.1685448e+00],\n",
       "         [-4.5471501e-01, -9.1685448e+00,  0.0000000e+00]],\n",
       "\n",
       "        [[ 0.0000000e+00, -8.3952742e+00,  1.4902858e+00],\n",
       "         [ 8.3952742e+00,  0.0000000e+00,  9.8855610e+00],\n",
       "         [-1.4902858e+00, -9.8855610e+00,  0.0000000e+00]],\n",
       "\n",
       "        ...,\n",
       "\n",
       "        [[ 0.0000000e+00, -1.9503082e+02,  3.3618832e+01],\n",
       "         [ 1.9503082e+02,  0.0000000e+00,  2.2864970e+02],\n",
       "         [-3.3618832e+01, -2.2864970e+02,  0.0000000e+00]],\n",
       "\n",
       "        [[ 0.0000000e+00, -1.9954039e+02,  3.2828335e+01],\n",
       "         [ 1.9954039e+02,  0.0000000e+00,  2.3236877e+02],\n",
       "         [-3.2828335e+01, -2.3236877e+02,  0.0000000e+00]],\n",
       "\n",
       "        [[ 0.0000000e+00, -2.0098824e+02,  3.3652313e+01],\n",
       "         [ 2.0098824e+02,  0.0000000e+00,  2.3464059e+02],\n",
       "         [-3.3652313e+01, -2.3464059e+02,  0.0000000e+00]]],\n",
       "\n",
       "\n",
       "       ...,\n",
       "\n",
       "\n",
       "       [[[ 0.0000000e+00,  4.0046158e+00,  3.4449406e+00],\n",
       "         [-4.0046158e+00,  0.0000000e+00, -5.5967498e-01],\n",
       "         [-3.4449406e+00,  5.5967498e-01,  0.0000000e+00]],\n",
       "\n",
       "        [[ 0.0000000e+00,  8.6649647e+00,  6.1927447e+00],\n",
       "         [-8.6649647e+00,  0.0000000e+00, -2.4722199e+00],\n",
       "         [-6.1927447e+00,  2.4722199e+00,  0.0000000e+00]],\n",
       "\n",
       "        [[ 0.0000000e+00,  1.0155824e+01,  3.8905737e+00],\n",
       "         [-1.0155824e+01,  0.0000000e+00, -6.2652497e+00],\n",
       "         [-3.8905737e+00,  6.2652497e+00,  0.0000000e+00]],\n",
       "\n",
       "        ...,\n",
       "\n",
       "        [[ 0.0000000e+00,  2.1825566e+02,  2.0646988e+02],\n",
       "         [-2.1825566e+02,  0.0000000e+00, -1.1785755e+01],\n",
       "         [-2.0646988e+02,  1.1785755e+01,  0.0000000e+00]],\n",
       "\n",
       "        [[ 0.0000000e+00,  2.2244482e+02,  2.1233832e+02],\n",
       "         [-2.2244482e+02,  0.0000000e+00, -1.0106476e+01],\n",
       "         [-2.1233832e+02,  1.0106476e+01,  0.0000000e+00]],\n",
       "\n",
       "        [[ 0.0000000e+00,  2.2615739e+02,  2.1804173e+02],\n",
       "         [-2.2615739e+02,  0.0000000e+00, -8.1156063e+00],\n",
       "         [-2.1804173e+02,  8.1156063e+00,  0.0000000e+00]]],\n",
       "\n",
       "\n",
       "       [[[ 0.0000000e+00,  3.1703568e+00, -8.1877422e-01],\n",
       "         [-3.1703568e+00,  0.0000000e+00, -3.9891310e+00],\n",
       "         [ 8.1877422e-01,  3.9891310e+00,  0.0000000e+00]],\n",
       "\n",
       "        [[ 0.0000000e+00,  7.7346640e+00, -1.1878712e+00],\n",
       "         [-7.7346640e+00,  0.0000000e+00, -8.9225349e+00],\n",
       "         [ 1.1878712e+00,  8.9225349e+00,  0.0000000e+00]],\n",
       "\n",
       "        [[ 0.0000000e+00,  1.0655669e+01,  9.6312547e-01],\n",
       "         [-1.0655669e+01,  0.0000000e+00, -9.6925440e+00],\n",
       "         [-9.6312547e-01,  9.6925440e+00,  0.0000000e+00]],\n",
       "\n",
       "        ...,\n",
       "\n",
       "        [[ 0.0000000e+00,  1.9088161e+02,  1.8224316e+02],\n",
       "         [-1.9088161e+02,  0.0000000e+00, -8.6384640e+00],\n",
       "         [-1.8224316e+02,  8.6384640e+00,  0.0000000e+00]],\n",
       "\n",
       "        [[ 0.0000000e+00,  1.9187506e+02,  1.8509166e+02],\n",
       "         [-1.9187506e+02,  0.0000000e+00, -6.7834158e+00],\n",
       "         [-1.8509166e+02,  6.7834158e+00,  0.0000000e+00]],\n",
       "\n",
       "        [[ 0.0000000e+00,  2.0187262e+02,  1.9270625e+02],\n",
       "         [-2.0187262e+02,  0.0000000e+00, -9.1663847e+00],\n",
       "         [-1.9270625e+02,  9.1663847e+00,  0.0000000e+00]]],\n",
       "\n",
       "\n",
       "       [[[ 0.0000000e+00,  3.8459849e+00,  2.4706943e+00],\n",
       "         [-3.8459849e+00,  0.0000000e+00, -1.3752908e+00],\n",
       "         [-2.4706943e+00,  1.3752908e+00,  0.0000000e+00]],\n",
       "\n",
       "        [[ 0.0000000e+00,  5.1084385e+00,  8.0314617e+00],\n",
       "         [-5.1084385e+00,  0.0000000e+00,  2.9230227e+00],\n",
       "         [-8.0314617e+00, -2.9230227e+00,  0.0000000e+00]],\n",
       "\n",
       "        [[ 0.0000000e+00,  6.8845482e+00,  1.3614151e+01],\n",
       "         [-6.8845482e+00,  0.0000000e+00,  6.7296028e+00],\n",
       "         [-1.3614151e+01, -6.7296028e+00,  0.0000000e+00]],\n",
       "\n",
       "        ...,\n",
       "\n",
       "        [[ 0.0000000e+00,  2.1069016e+02,  2.0914008e+02],\n",
       "         [-2.1069016e+02,  0.0000000e+00, -1.5500524e+00],\n",
       "         [-2.0914008e+02,  1.5500524e+00,  0.0000000e+00]],\n",
       "\n",
       "        [[ 0.0000000e+00,  2.1527930e+02,  2.1772218e+02],\n",
       "         [-2.1527930e+02,  0.0000000e+00,  2.4428861e+00],\n",
       "         [-2.1772218e+02, -2.4428861e+00,  0.0000000e+00]],\n",
       "\n",
       "        [[ 0.0000000e+00,  2.1876730e+02,  2.2146146e+02],\n",
       "         [-2.1876730e+02,  0.0000000e+00,  2.6941605e+00],\n",
       "         [-2.2146146e+02, -2.6941605e+00,  0.0000000e+00]]]],\n",
       "      dtype=float32)>"
      ]
     },
     "execution_count": 15,
     "metadata": {},
     "output_type": "execute_result"
    }
   ],
   "source": [
    "llrs_shape = llrs.shape\n",
    "num_classes = llrs_shape[-1]\n",
    "duration = llrs_shape[1]\n",
    "\n",
    "# Remove 0 LLRs in off-diags\n",
    "tri = tf.ones_like(llrs)\n",
    "triu = tf.linalg.band_part(tri, 0, -1) # Upper triangular part.\n",
    "tril = tf.linalg.band_part(tri, -1, 0) # Lower triangular part.\n",
    "llrs -= 1e-12 * (triu - tril) \n",
    "llrs"
   ]
  },
  {
   "cell_type": "code",
   "execution_count": 16,
   "id": "6ff7cc74",
   "metadata": {},
   "outputs": [
    {
     "name": "stdout",
     "output_type": "stream",
     "text": [
      "llrs_max=<tf.Tensor: shape=(), dtype=float32, numpy=246.91673>\n",
      "llrs_min=<tf.Tensor: shape=(), dtype=float32, numpy=0.0061688423>\n"
     ]
    }
   ],
   "source": [
    "# Calc non-zero max and min of |LLRs|\n",
    "llrs_abs = tf.abs(llrs)\n",
    "llrs_max = tf.reduce_max(llrs_abs)\n",
    "    # max |LLRs|\n",
    "tmp = tf.linalg.tensor_diag([1.] * num_classes) * llrs_max\n",
    "tmp = tf.reshape(tmp, [1, 1, num_classes, num_classes])\n",
    "llrs_min = tf.reduce_min(llrs_abs + tmp)\n",
    "print(f'{llrs_max=}')\n",
    "print(f'{llrs_min=}')"
   ]
  },
  {
   "cell_type": "code",
   "execution_count": 17,
   "id": "3a64a2e6",
   "metadata": {
    "scrolled": true
   },
   "outputs": [
    {
     "data": {
      "text/plain": [
       "[<matplotlib.lines.Line2D at 0x7fcc00af7550>]"
      ]
     },
     "execution_count": 17,
     "metadata": {},
     "output_type": "execute_result"
    },
    {
     "data": {
      "image/png": "[encoded data removed]",
      "text/plain": [
       "<Figure size 432x288 with 1 Axes>"
      ]
     },
     "metadata": {
      "needs_background": "light"
     },
     "output_type": "display_data"
    }
   ],
   "source": [
    "thresh = tf.math.exp(\n",
    "    tf.linspace(\n",
    "        tf.math.log(llrs_min), \n",
    "        tf.math.log(llrs_max), \n",
    "        config['NUM_THRESH']))\n",
    "plt.plot(thresh)"
   ]
  },
  {
   "cell_type": "code",
   "execution_count": 18,
   "id": "a8781192",
   "metadata": {
    "scrolled": true
   },
   "outputs": [
    {
     "data": {
      "text/plain": [
       "<tf.Tensor: shape=(3, 3), dtype=float32, numpy=\n",
       "array([[0., 1., 1.],\n",
       "       [1., 0., 1.],\n",
       "       [1., 1., 0.]], dtype=float32)>"
      ]
     },
     "execution_count": 18,
     "metadata": {},
     "output_type": "execute_result"
    }
   ],
   "source": [
    "mask = tf.linalg.tensor_diag([-1.] * num_classes) + 1\n",
    "mask"
   ]
  },
  {
   "cell_type": "code",
   "execution_count": 19,
   "id": "008e97c1",
   "metadata": {},
   "outputs": [
    {
     "data": {
      "text/plain": [
       "0.0"
      ]
     },
     "execution_count": 19,
     "metadata": {},
     "output_type": "execute_result"
    }
   ],
   "source": [
    "thresh = tf.reshape(thresh, [config['NUM_THRESH'], 1, 1, 1])\n",
    "thresh = tf.tile(thresh, [1, duration, num_classes, num_classes])\n",
    "    # (num thresh, num cls, num cls)\n",
    "mask = tf.linalg.tensor_diag([-1.] * num_classes) + 1 \n",
    "\n",
    "thresh *= mask\n",
    "    # Now diag = 0.\n",
    "thresh += mask * 1e-11\n",
    "\n",
    "np.min(thresh.numpy())"
   ]
  },
  {
   "cell_type": "code",
   "execution_count": 20,
   "id": "5976c73c",
   "metadata": {},
   "outputs": [
    {
     "data": {
      "text/plain": [
       "<tf.Tensor: shape=(3, 3), dtype=float32, numpy=\n",
       "array([[1., 0., 0.],\n",
       "       [0., 1., 0.],\n",
       "       [0., 0., 1.]], dtype=float32)>"
      ]
     },
     "execution_count": 20,
     "metadata": {},
     "output_type": "execute_result"
    }
   ],
   "source": [
    "tf.linalg.tensor_diag([1.] * num_classes)"
   ]
  },
  {
   "cell_type": "code",
   "execution_count": null,
   "id": "f8ca7cf5",
   "metadata": {},
   "outputs": [],
   "source": [
    "import tensorflow as tf\n",
    "import numpy as np\n",
    "time_steps = 50\n",
    "num_thresh = 1000\n",
    "batch_size = 100\n",
    "num_classes = 3\n",
    "\n",
    "def TF_calc_mask(time_steps, num_thresh, batch_size, num_classes):\n",
    "    # For hittimes\n",
    "    mask = tf.constant([i+1 for i in range(time_steps)][::-1], tf.float32)\n",
    "        # (time_steps)\n",
    "    mask = tf.tile(mask, [num_thresh * batch_size * num_classes])\n",
    "    mask = tf.reshape(mask, [num_thresh, batch_size, num_classes, time_steps])\n",
    "    mask = tf.transpose(mask, [0, 1, 3, 2])\n",
    "        # (num thresh, batch, time_steps , num cls)\n",
    "\n",
    "    return mask\n",
    "\n",
    "mask = TF_calc_mask(time_steps, num_thresh, batch_size, num_classes)\n",
    "# np.save('mask_TF', mask.numpy())"
   ]
  }
 ],
 "metadata": {
  "kernelspec": {
   "display_name": "Python 3 (ipykernel)",
   "language": "python",
   "name": "python3"
  },
  "language_info": {
   "codemirror_mode": {
    "name": "ipython",
    "version": 3
   },
   "file_extension": ".py",
   "mimetype": "text/x-python",
   "name": "python",
   "nbconvert_exporter": "python",
   "pygments_lexer": "ipython3",
   "version": "3.10.6"
  }
 },
 "nbformat": 4,
 "nbformat_minor": 5
}
