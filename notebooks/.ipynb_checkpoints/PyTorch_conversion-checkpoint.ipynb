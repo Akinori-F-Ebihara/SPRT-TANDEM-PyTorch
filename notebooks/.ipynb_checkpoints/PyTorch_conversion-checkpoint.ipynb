{
 "cells": [
  {
   "cell_type": "code",
   "execution_count": 5,
   "id": "21937c44",
   "metadata": {},
   "outputs": [],
   "source": [
    "import torch\n",
    "from torchmetrics import ConfusionMatrix\n",
    "import tensorflow as tf\n",
    "from loguru import logger\n",
    "import numpy as np\n",
    "import matplotlib.pyplot as plt"
   ]
  },
  {
   "cell_type": "code",
   "execution_count": 9,
   "id": "3d551967",
   "metadata": {},
   "outputs": [
    {
     "name": "stdout",
     "output_type": "stream",
     "text": [
      "conf_pt=tensor([[2, 0],\n",
      "        [1, 1]])\n",
      "conf_tf=<tf.Tensor: shape=(2, 2), dtype=int32, numpy=\n",
      "array([[2, 0],\n",
      "       [1, 1]], dtype=int32)>\n"
     ]
    }
   ],
   "source": [
    "# pytorch\n",
    "target = torch.tensor([1, 1, 0, 0])\n",
    "preds = torch.tensor([0, 1, 0, 0])\n",
    "confmat = ConfusionMatrix(task=\"binary\", num_classes=2)\n",
    "conf_pt = confmat(preds, target)\n",
    "\n",
    "# tf\n",
    "conf_tf = tf.math.confusion_matrix(\n",
    "        labels=target, predictions=preds, num_classes=2, dtype=tf.int32)\n",
    "\n",
    "print(f'{conf_pt=}')\n",
    "print(f'{conf_tf=}')"
   ]
  },
  {
   "cell_type": "code",
   "execution_count": 24,
   "id": "860a971d",
   "metadata": {},
   "outputs": [
    {
     "name": "stdout",
     "output_type": "stream",
     "text": [
      "tensor([1., 1.])\n",
      "tf.Tensor([1. 1.], shape=(2,), dtype=float32)\n"
     ]
    }
   ],
   "source": [
    "print(torch.diagonal(torch.ones((2, 2))))\n",
    "print(tf.linalg.diag_part(tf.ones((2, 2))))\n"
   ]
  },
  {
   "cell_type": "code",
   "execution_count": 38,
   "id": "9cf840eb",
   "metadata": {},
   "outputs": [
    {
     "data": {
      "text/plain": [
       "torch.Size([2, 1, 2])"
      ]
     },
     "execution_count": 38,
     "metadata": {},
     "output_type": "execute_result"
    }
   ],
   "source": [
    "torch.unsqueeze(tmp, dim=1).shape"
   ]
  },
  {
   "cell_type": "code",
   "execution_count": 39,
   "id": "ff116e62",
   "metadata": {},
   "outputs": [
    {
     "data": {
      "text/plain": [
       "tensor([[1., 0., 1., 0.],\n",
       "        [1., 1., 1., 1.]])"
      ]
     },
     "execution_count": 39,
     "metadata": {},
     "output_type": "execute_result"
    }
   ],
   "source": [
    "array = []\n",
    "array.append(tmp)\n",
    "array.append(tmp)\n",
    "torch.cat(array, dim=1)"
   ]
  },
  {
   "cell_type": "code",
   "execution_count": 42,
   "id": "2dc6937e",
   "metadata": {},
   "outputs": [
    {
     "name": "stdout",
     "output_type": "stream",
     "text": [
      "tensor([[1., 0.],\n",
      "        [0., 1.]])\n",
      "tf.Tensor(\n",
      "[[1. 0.]\n",
      " [0. 1.]], shape=(2, 2), dtype=float32)\n"
     ]
    }
   ],
   "source": [
    "print(torch.eye(2))\n",
    "print(tf.linalg.tensor_diag([1.] * 2))"
   ]
  },
  {
   "cell_type": "code",
   "execution_count": 48,
   "id": "c580cd52",
   "metadata": {},
   "outputs": [
    {
     "name": "stdout",
     "output_type": "stream",
     "text": [
      "tensor([0.0044, 0.4903, 0.4145, 0.0078, 0.0982, 0.6103, 0.4595, 0.9667, 0.1600,\n",
      "        0.0118])\n",
      "tf.Tensor(\n",
      "[0.63788426 0.21571636 0.8824892  0.7736093  0.5303142  0.6804184\n",
      " 0.5546143  0.888011   0.39923632 0.37214172], shape=(10,), dtype=float32)\n"
     ]
    },
    {
     "data": {
      "text/plain": [
       "tensor([[1., 0., 1., 1.]])"
      ]
     },
     "execution_count": 48,
     "metadata": {},
     "output_type": "execute_result"
    }
   ],
   "source": [
    "print(torch.rand(10))\n",
    "print(tf.random.uniform(shape=[10]))\n",
    "\n",
    "tmp.reshape(1, -1)"
   ]
  },
  {
   "cell_type": "code",
   "execution_count": 49,
   "id": "77f12bb3",
   "metadata": {},
   "outputs": [
    {
     "data": {
      "text/plain": [
       "tensor(False)"
      ]
     },
     "execution_count": 49,
     "metadata": {},
     "output_type": "execute_result"
    }
   ],
   "source": [
    "(tmp > 0).all()"
   ]
  },
  {
   "cell_type": "code",
   "execution_count": 54,
   "id": "7ea36f77",
   "metadata": {},
   "outputs": [
    {
     "data": {
      "text/plain": [
       "tensor(-1)"
      ]
     },
     "execution_count": 54,
     "metadata": {},
     "output_type": "execute_result"
    }
   ],
   "source": [
    "torch.sign(torch.from_numpy(np.array(-1)))"
   ]
  },
  {
   "cell_type": "code",
   "execution_count": 57,
   "id": "168908e1",
   "metadata": {},
   "outputs": [
    {
     "data": {
      "text/plain": [
       "['__call__',\n",
       " '__class__',\n",
       " '__delattr__',\n",
       " '__dir__',\n",
       " '__doc__',\n",
       " '__eq__',\n",
       " '__format__',\n",
       " '__ge__',\n",
       " '__getattribute__',\n",
       " '__gt__',\n",
       " '__hash__',\n",
       " '__init__',\n",
       " '__init_subclass__',\n",
       " '__le__',\n",
       " '__lt__',\n",
       " '__module__',\n",
       " '__name__',\n",
       " '__ne__',\n",
       " '__new__',\n",
       " '__qualname__',\n",
       " '__reduce__',\n",
       " '__reduce_ex__',\n",
       " '__repr__',\n",
       " '__self__',\n",
       " '__setattr__',\n",
       " '__sizeof__',\n",
       " '__str__',\n",
       " '__subclasshook__',\n",
       " '__text_signature__']"
      ]
     },
     "execution_count": 57,
     "metadata": {},
     "output_type": "execute_result"
    }
   ],
   "source": [
    "dir(torch.nn.functional.one_hot)"
   ]
  },
  {
   "cell_type": "code",
   "execution_count": 68,
   "id": "a1c7104d",
   "metadata": {},
   "outputs": [
    {
     "name": "stdout",
     "output_type": "stream",
     "text": [
      "tensor([[1., 0.],\n",
      "        [1., 1.]])\n",
      "tensor([[1., 1.],\n",
      "        [0., 1.]])\n",
      "tf.Tensor(\n",
      "[[1. 1.]\n",
      " [0. 1.]], shape=(2, 2), dtype=float32)\n"
     ]
    }
   ],
   "source": [
    "print(tmp)\n",
    "print(tmp.transpose(0, 1))\n",
    "print(tf.transpose(tf.convert_to_tensor(tmp.numpy()), [1, 0]))"
   ]
  },
  {
   "cell_type": "code",
   "execution_count": 73,
   "id": "4feaec87",
   "metadata": {},
   "outputs": [
    {
     "name": "stderr",
     "output_type": "stream",
     "text": [
      "2023-02-27 20:52:20.578 | SUCCESS  | __main__:test_transpose:21 - all close!\n"
     ]
    }
   ],
   "source": [
    "def test_transpose():\n",
    "    # create a random tensor of shape (3, 4, 5, 6)\n",
    "    np.random.seed(0)\n",
    "    x = np.random.rand(3, 4, 5, 6)\n",
    "    \n",
    "    # convert to TensorFlow tensor and transpose\n",
    "    x_tf = tf.constant(x, dtype=tf.float32)\n",
    "    x_tf_transposed = tf.transpose(x_tf, [1, 0, 2, 3])\n",
    "    \n",
    "    # convert to PyTorch tensor and transpose\n",
    "    x_pt = torch.tensor(x, dtype=torch.float32)\n",
    "    x_pt_transposed = x_pt.permute(1, 0, 2, 3)\n",
    "    \n",
    "    # compare the results\n",
    "    assert np.allclose(x_tf_transposed.numpy(), x_pt_transposed.numpy())\n",
    "    logger.success('all close!')\n",
    "\n",
    "test_transpose()"
   ]
  },
  {
   "cell_type": "code",
   "execution_count": null,
   "id": "ec6a8365",
   "metadata": {},
   "outputs": [],
   "source": []
  }
 ],
 "metadata": {
  "kernelspec": {
   "display_name": "Python 3 (ipykernel)",
   "language": "python",
   "name": "python3"
  },
  "language_info": {
   "codemirror_mode": {
    "name": "ipython",
    "version": 3
   },
   "file_extension": ".py",
   "mimetype": "text/x-python",
   "name": "python",
   "nbconvert_exporter": "python",
   "pygments_lexer": "ipython3",
   "version": "3.8.13"
  }
 },
 "nbformat": 4,
 "nbformat_minor": 5
}
