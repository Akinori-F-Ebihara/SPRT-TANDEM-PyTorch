{
 "cells": [
  {
   "cell_type": "code",
   "execution_count": 1,
   "id": "004c658a",
   "metadata": {},
   "outputs": [
    {
     "name": "stderr",
     "output_type": "stream",
     "text": [
      "2023-03-20 05:57:17.760598: I tensorflow/core/platform/cpu_feature_guard.cc:193] This TensorFlow binary is optimized with oneAPI Deep Neural Network Library (oneDNN) to use the following CPU instructions in performance-critical operations:  AVX_VNNI\n",
      "To enable them in other operations, rebuild TensorFlow with the appropriate compiler flags.\n",
      "/usr/local/lib/python3.10/dist-packages/tqdm/auto.py:21: TqdmWarning: IProgress not found. Please update jupyter and ipywidgets. See https://ipywidgets.readthedocs.io/en/stable/user_install.html\n",
      "  from .autonotebook import tqdm as notebook_tqdm\n",
      "/usr/lib/python3/dist-packages/torchvision/io/image.py:13: UserWarning: Failed to load image Python extension: /usr/lib/python3/dist-packages/torchvision/image.so: undefined symbol: _ZN5torch3jit17parseSchemaOrNameERKNSt7__cxx1112basic_stringIcSt11char_traitsIcESaIcEEE\n",
      "  warn(f\"Failed to load image Python extension: {e}\")\n"
     ]
    },
    {
     "name": "stdout",
     "output_type": "stream",
     "text": [
      "Using cuda device\n"
     ]
    }
   ],
   "source": [
    "import sys, os, pdb\n",
    "sys.path.append('/home/afe/Dropbox/PYTHON/SPRTproject/PytorchMAUS_dev/')\n",
    "import numpy as np\n",
    "from tqdm import tqdm\n",
    "from termcolor import colored\n",
    "from loguru import logger\n",
    "from config.config import config\n",
    "from utils.misc import grab_gpu, fix_random_seed, parse_args, extract_params_from_config\n",
    "from utils.logging import create_log_folders, save_config_info, ContexualLogger,\\\n",
    "                          save_sdre_imgs, log_training_results, get_tb_writer\n",
    "from utils.hyperparameter_tuning import run_optuna, suggest_parameters_optuna, report_to_pruner\n",
    "from utils.checkpoint import update_and_save_result, \\\n",
    "                             initialize_objectives, finalize_objectives\n",
    "from datasets.data_processing import SequentialDensityRatioData, slice_data \n",
    "from models.temporal_integrators import import_model\n",
    "from models.optimizers import initialize_optimizer\n",
    "from models.losses import compute_loss_and_metrics, multiply_diff_mht\n",
    "from utils.performance_metrics import llr_sequential_confmx, seqconfmx_to_macro_ave_sns,\\\n",
    "                                calc_llr_abserr, average_dicts\n",
    "from datasets.data_processing import sequential_concat, sequential_concat_with_urgency_signal\n",
    "import torch.nn.functional as F\n",
    "from models.losses import calc_ausat_loss, lllr_with_urgency_signal\n",
    "import matplotlib.pyplot as plt\n",
    "from jupyterthemes import jtplot\n",
    "import torch\n",
    "# check if necessary parameters are defined in the config file\n",
    "requirements = set(['ORDER_SPRT', 'TIME_STEPS', 'OBLIVIOUS', 'AUCLOSS_VERSION', 'AUCLOSS_BURNIN', 'NUM_THRESH',\n",
    "    'SPARSITY', 'BETA', 'IS_MULT_SAT', 'IS_URGENT', 'IS_ADAPTIVE_LOSS', 'URGENCY_LEVEL', 'BATCH_SIZE',\n",
    "    'PARAM_MULTIPLET_LOSS', 'PARAM_LLR_LOSS', 'PARAM_AUSAT_LOSS', 'LLLR_VERSION', 'WEIGHT_DECAY'])\n",
    "conf = extract_params_from_config(requirements, config)\n",
    "\n",
    "device = grab_gpu(config) "
   ]
  },
  {
   "cell_type": "code",
   "execution_count": 2,
   "id": "f5dedd7e",
   "metadata": {},
   "outputs": [
    {
     "ename": "AttributeError",
     "evalue": "module 'torch' has no attribute 'one_hot'",
     "output_type": "error",
     "traceback": [
      "\u001b[0;31m---------------------------------------------------------------------------\u001b[0m",
      "\u001b[0;31mAttributeError\u001b[0m                            Traceback (most recent call last)",
      "\u001b[0;32m/tmp/ipykernel_1696/3708399043.py\u001b[0m in \u001b[0;36m<module>\u001b[0;34m\u001b[0m\n\u001b[1;32m      3\u001b[0m \u001b[0;34m\u001b[0m\u001b[0m\n\u001b[1;32m      4\u001b[0m \u001b[0;31m# AUC loss\u001b[0m\u001b[0;34m\u001b[0m\u001b[0;34m\u001b[0m\u001b[0m\n\u001b[0;32m----> 5\u001b[0;31m aucsat_loss, mht, acc_eta_sat, sns_from_confmx, thresholds = calc_ausat_loss(\n\u001b[0m\u001b[1;32m      6\u001b[0m     \u001b[0mconf\u001b[0m\u001b[0;34m.\u001b[0m\u001b[0maucloss_version\u001b[0m\u001b[0;34m,\u001b[0m \u001b[0mconf\u001b[0m\u001b[0;34m.\u001b[0m\u001b[0mis_mult_sat\u001b[0m\u001b[0;34m,\u001b[0m \u001b[0mconf\u001b[0m\u001b[0;34m.\u001b[0m\u001b[0mnum_thresh\u001b[0m\u001b[0;34m,\u001b[0m \u001b[0mconf\u001b[0m\u001b[0;34m.\u001b[0m\u001b[0msparsity\u001b[0m\u001b[0;34m,\u001b[0m\u001b[0;34m\u001b[0m\u001b[0;34m\u001b[0m\u001b[0m\n\u001b[1;32m      7\u001b[0m     llrs, labels_concat, conf.beta, conf.time_steps)\n",
      "\u001b[0;32m/home/afe/Dropbox/PYTHON/SPRTproject/PytorchMAUS_dev/models/losses.py\u001b[0m in \u001b[0;36mcalc_ausat_loss\u001b[0;34m(version, is_mult_sat, num_thresh, sparsity, llrs, labels_concat, beta, time_steps)\u001b[0m\n\u001b[1;32m    640\u001b[0m     \u001b[0mthresh_sanity_check\u001b[0m\u001b[0;34m(\u001b[0m\u001b[0mthresh\u001b[0m\u001b[0;34m)\u001b[0m\u001b[0;34m\u001b[0m\u001b[0;34m\u001b[0m\u001b[0m\n\u001b[1;32m    641\u001b[0m \u001b[0;34m\u001b[0m\u001b[0m\n\u001b[0;32m--> 642\u001b[0;31m     acc_eta, hittimes, sns_from_confmx = calc_soft_auc(\n\u001b[0m\u001b[1;32m    643\u001b[0m         llrs, labels_concat, thresh, beta, version)\n\u001b[1;32m    644\u001b[0m \u001b[0;34m\u001b[0m\u001b[0m\n",
      "\u001b[0;32m/home/afe/Dropbox/PYTHON/SPRTproject/PytorchMAUS_dev/models/losses.py\u001b[0m in \u001b[0;36mcalc_soft_auc\u001b[0;34m(llrs, labels_concat, thresh, beta, version)\u001b[0m\n\u001b[1;32m    763\u001b[0m         \u001b[0;32mraise\u001b[0m \u001b[0mValueError\u001b[0m\u001b[0;34m(\u001b[0m\u001b[0;34m'Found unknown AUSATloss version!'\u001b[0m\u001b[0;34m)\u001b[0m\u001b[0;34m\u001b[0m\u001b[0;34m\u001b[0m\u001b[0m\n\u001b[1;32m    764\u001b[0m \u001b[0;34m\u001b[0m\u001b[0m\n\u001b[0;32m--> 765\u001b[0;31m     \u001b[0msns_from_confmx\u001b[0m \u001b[0;34m=\u001b[0m \u001b[0mcalc_sat_from_confmx\u001b[0m\u001b[0;34m(\u001b[0m\u001b[0mlabels_concat\u001b[0m\u001b[0;34m,\u001b[0m \u001b[0mhitidx\u001b[0m\u001b[0;34m)\u001b[0m\u001b[0;34m\u001b[0m\u001b[0;34m\u001b[0m\u001b[0m\n\u001b[0m\u001b[1;32m    766\u001b[0m \u001b[0;34m\u001b[0m\u001b[0m\n\u001b[1;32m    767\u001b[0m     \u001b[0;32mreturn\u001b[0m \u001b[0macc_eta\u001b[0m\u001b[0;34m,\u001b[0m \u001b[0mhittimes\u001b[0m\u001b[0;34m,\u001b[0m \u001b[0msns_from_confmx\u001b[0m\u001b[0;34m\u001b[0m\u001b[0;34m\u001b[0m\u001b[0m\n",
      "\u001b[0;32m/home/afe/Dropbox/PYTHON/SPRTproject/PytorchMAUS_dev/models/losses.py\u001b[0m in \u001b[0;36mcalc_sat_from_confmx\u001b[0;34m(labels_concat, hitidx)\u001b[0m\n\u001b[1;32m    694\u001b[0m         \u001b[0mpreds\u001b[0m \u001b[0;34m=\u001b[0m \u001b[0mtorch\u001b[0m\u001b[0;34m.\u001b[0m\u001b[0margmax\u001b[0m\u001b[0;34m(\u001b[0m\u001b[0mhitidx\u001b[0m\u001b[0;34m,\u001b[0m \u001b[0mdim\u001b[0m\u001b[0;34m=\u001b[0m\u001b[0;36m2\u001b[0m\u001b[0;34m)\u001b[0m\u001b[0;34m\u001b[0m\u001b[0;34m\u001b[0m\u001b[0m\n\u001b[1;32m    695\u001b[0m             \u001b[0;31m# (num thresh, batch,)\u001b[0m\u001b[0;34m\u001b[0m\u001b[0;34m\u001b[0m\u001b[0m\n\u001b[0;32m--> 696\u001b[0;31m         \u001b[0mpreds\u001b[0m \u001b[0;34m=\u001b[0m \u001b[0mtorch\u001b[0m\u001b[0;34m.\u001b[0m\u001b[0mone_hot\u001b[0m\u001b[0;34m(\u001b[0m\u001b[0mpreds\u001b[0m\u001b[0;34m,\u001b[0m \u001b[0mnum_classes\u001b[0m\u001b[0;34m=\u001b[0m\u001b[0mnum_classes\u001b[0m\u001b[0;34m)\u001b[0m\u001b[0;34m\u001b[0m\u001b[0;34m\u001b[0m\u001b[0m\n\u001b[0m\u001b[1;32m    697\u001b[0m             \u001b[0;31m# (num thresh, batch, num cls)\u001b[0m\u001b[0;34m\u001b[0m\u001b[0;34m\u001b[0m\u001b[0m\n\u001b[1;32m    698\u001b[0m \u001b[0;34m\u001b[0m\u001b[0m\n",
      "\u001b[0;31mAttributeError\u001b[0m: module 'torch' has no attribute 'one_hot'"
     ]
    }
   ],
   "source": [
    "llrs = torch.from_numpy(np.load('llrs.npy')).to(device) # from tensorflow\n",
    "labels_concat = torch.from_numpy(np.load('labels_concat_TF.npy')).to(device).to(torch.int64)\n",
    "\n",
    "# AUC loss\n",
    "aucsat_loss, mht, acc_eta_sat, sns_from_confmx, thresholds = calc_ausat_loss(\n",
    "    conf.aucloss_version, conf.is_mult_sat, conf.num_thresh, conf.sparsity,\n",
    "    llrs, labels_concat, conf.beta, conf.time_steps)\n",
    "aucsat_loss = 0. if 0 < conf.aucloss_burnin else aucsat_loss \n",
    "print(aucsat_loss)"
   ]
  },
  {
   "cell_type": "code",
   "execution_count": null,
   "id": "340275c8",
   "metadata": {},
   "outputs": [],
   "source": [
    "# import tensorflow as tf\n",
    "from utils.tf_pt_conversion import assert_tf_pt_results\n",
    "\n",
    "mask_TF = np.load('mask_TF.npy')\n",
    "mask_PT = np.load('mask_PT.npy')\n",
    "\n",
    "assert_tf_pt_results((mask_TF), (mask_PT))"
   ]
  },
  {
   "cell_type": "code",
   "execution_count": 11,
   "id": "fbc38e4b",
   "metadata": {},
   "outputs": [
    {
     "ename": "RuntimeError",
     "evalue": "CUDA error: device-side assert triggered\nCUDA kernel errors might be asynchronously reported at some other API call, so the stacktrace below might be incorrect.\nFor debugging consider passing CUDA_LAUNCH_BLOCKING=1.\nCompile with `TORCH_USE_CUDA_DSA` to enable device-side assertions.\n",
     "output_type": "error",
     "traceback": [
      "\u001b[0;31m---------------------------------------------------------------------------\u001b[0m",
      "\u001b[0;31mRuntimeError\u001b[0m                              Traceback (most recent call last)",
      "\u001b[0;32m/tmp/ipykernel_1696/4254560204.py\u001b[0m in \u001b[0;36m<module>\u001b[0;34m\u001b[0m\n\u001b[0;32m----> 1\u001b[0;31m \u001b[0mF\u001b[0m\u001b[0;34m.\u001b[0m\u001b[0mone_hot\u001b[0m\u001b[0;34m(\u001b[0m\u001b[0mlabels_concat\u001b[0m\u001b[0;34m,\u001b[0m \u001b[0mnum_classes\u001b[0m\u001b[0;34m=\u001b[0m\u001b[0;36m3\u001b[0m\u001b[0;34m)\u001b[0m\u001b[0;34m\u001b[0m\u001b[0;34m\u001b[0m\u001b[0m\n\u001b[0m",
      "\u001b[0;31mRuntimeError\u001b[0m: CUDA error: device-side assert triggered\nCUDA kernel errors might be asynchronously reported at some other API call, so the stacktrace below might be incorrect.\nFor debugging consider passing CUDA_LAUNCH_BLOCKING=1.\nCompile with `TORCH_USE_CUDA_DSA` to enable device-side assertions.\n"
     ]
    }
   ],
   "source": []
  }
 ],
 "metadata": {
  "kernelspec": {
   "display_name": "Python 3 (ipykernel)",
   "language": "python",
   "name": "python3"
  },
  "language_info": {
   "codemirror_mode": {
    "name": "ipython",
    "version": 3
   },
   "file_extension": ".py",
   "mimetype": "text/x-python",
   "name": "python",
   "nbconvert_exporter": "python",
   "pygments_lexer": "ipython3",
   "version": "3.10.6"
  }
 },
 "nbformat": 4,
 "nbformat_minor": 5
}
